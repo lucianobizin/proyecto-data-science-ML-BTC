{
 "cells": [
  {
   "cell_type": "markdown",
   "metadata": {},
   "source": [
    "# Fecha de entrega: 23/07/2022 (corresponde a clase 15)"
   ]
  },
  {
   "cell_type": "markdown",
   "metadata": {},
   "source": [
    "# Base de datos -> BTC_final"
   ]
  },
  {
   "cell_type": "markdown",
   "metadata": {},
   "source": [
    "# Diccionario\n",
    "\n",
    "- **Date**: fecha en YYYY-MM-DD (datetime64 [ns])\n",
    "- **Price**: precio de cierre de BTC en el día de la fecha (USD) (float) (Variable numérica continua)\n",
    "- **Open**: precio de apertura de BTC en el día de la fecha (USD) (float) (Variable numérica continua)\n",
    "- **High**: precio más alto de BTC en el día de la fecha (USD) (float) (Variable numérica continua)\n",
    "- **Low**: precio más bajo de BTC en el día de la fecha (USD) (float) (Variable numérica continua)\n",
    "- **Vol.**: volumen de BTC (Número de intercambios) en el día de la fecha (float) (Variable numérica continua)\n",
    "- **Percentage_diff**: diferencia porcentual del precio de BTC en la fecha [x+1] con respecto a la fecha [x] (float) (Variable numérica continua) \n",
    "- **Target**: 1 indica que en el día de la fecha el precio de BTC subió, y 0 que el precio bajó (float) (Se la tratará como variable categórica)"
   ]
  },
  {
   "cell_type": "markdown",
   "metadata": {},
   "source": [
    "# Se cargan las librerías"
   ]
  },
  {
   "cell_type": "code",
   "execution_count": 1,
   "metadata": {},
   "outputs": [],
   "source": [
    "import numpy as np\n",
    "import pandas as pd\n",
    "import matplotlib as mpl\n",
    "import matplotlib.pyplot as plt\n",
    "import seaborn as sns\n",
    "pd.set_option('display.max_rows', None)\n",
    "pd.set_option('display.max_columns', None)\n",
    "pd.set_option('display.width', None)\n",
    "pd.set_option('display.max_colwidth', None)"
   ]
  },
  {
   "cell_type": "markdown",
   "metadata": {},
   "source": [
    "# Data acquisition"
   ]
  },
  {
   "cell_type": "code",
   "execution_count": 2,
   "metadata": {},
   "outputs": [],
   "source": [
    "def gdriveColabPath(sharing_url):\n",
    "  file_id=sharing_url.split('/')[-2]\n",
    "  dwn_url='https://drive.google.com/uc?id=' + file_id\n",
    "  return dwn_url"
   ]
  },
  {
   "cell_type": "markdown",
   "metadata": {},
   "source": [
    "## Adquiriendo data de BTC"
   ]
  },
  {
   "cell_type": "code",
   "execution_count": 3,
   "metadata": {},
   "outputs": [],
   "source": [
    "sharing_url = \"https://drive.google.com/file/d/1pnStUmNaW2CK2jKc_yCLaj2nsL7nLLOC/view?usp=sharing\""
   ]
  },
  {
   "cell_type": "code",
   "execution_count": 4,
   "metadata": {},
   "outputs": [],
   "source": [
    "dwn_url=gdriveColabPath(sharing_url)\n",
    "BTC_raw =pd.read_csv(dwn_url, sep=\",\", thousands=\",\", decimal=\".\")"
   ]
  },
  {
   "cell_type": "code",
   "execution_count": 5,
   "metadata": {},
   "outputs": [
    {
     "data": {
      "text/html": [
       "<div>\n",
       "<style scoped>\n",
       "    .dataframe tbody tr th:only-of-type {\n",
       "        vertical-align: middle;\n",
       "    }\n",
       "\n",
       "    .dataframe tbody tr th {\n",
       "        vertical-align: top;\n",
       "    }\n",
       "\n",
       "    .dataframe thead th {\n",
       "        text-align: right;\n",
       "    }\n",
       "</style>\n",
       "<table border=\"1\" class=\"dataframe\">\n",
       "  <thead>\n",
       "    <tr style=\"text-align: right;\">\n",
       "      <th></th>\n",
       "      <th>Date</th>\n",
       "      <th>Price</th>\n",
       "      <th>Open</th>\n",
       "      <th>High</th>\n",
       "      <th>Low</th>\n",
       "      <th>Vol.</th>\n",
       "      <th>Change %</th>\n",
       "    </tr>\n",
       "  </thead>\n",
       "  <tbody>\n",
       "    <tr>\n",
       "      <th>0</th>\n",
       "      <td>Jul 20, 2022</td>\n",
       "      <td>23149.1</td>\n",
       "      <td>23412.0</td>\n",
       "      <td>23429.9</td>\n",
       "      <td>22965.9</td>\n",
       "      <td>290.21K</td>\n",
       "      <td>-1.12%</td>\n",
       "    </tr>\n",
       "    <tr>\n",
       "      <th>1</th>\n",
       "      <td>Jul 19, 2022</td>\n",
       "      <td>23410.2</td>\n",
       "      <td>22529.3</td>\n",
       "      <td>23757.3</td>\n",
       "      <td>21581.8</td>\n",
       "      <td>308.91K</td>\n",
       "      <td>3.93%</td>\n",
       "    </tr>\n",
       "    <tr>\n",
       "      <th>2</th>\n",
       "      <td>Jul 18, 2022</td>\n",
       "      <td>22525.8</td>\n",
       "      <td>20785.6</td>\n",
       "      <td>22714.9</td>\n",
       "      <td>20770.6</td>\n",
       "      <td>279.72K</td>\n",
       "      <td>8.37%</td>\n",
       "    </tr>\n",
       "    <tr>\n",
       "      <th>3</th>\n",
       "      <td>Jul 17, 2022</td>\n",
       "      <td>20785.6</td>\n",
       "      <td>21209.8</td>\n",
       "      <td>21654.4</td>\n",
       "      <td>20755.2</td>\n",
       "      <td>132.81K</td>\n",
       "      <td>-2.00%</td>\n",
       "    </tr>\n",
       "    <tr>\n",
       "      <th>4</th>\n",
       "      <td>Jul 16, 2022</td>\n",
       "      <td>21209.9</td>\n",
       "      <td>20825.2</td>\n",
       "      <td>21561.3</td>\n",
       "      <td>20484.4</td>\n",
       "      <td>136.89K</td>\n",
       "      <td>1.85%</td>\n",
       "    </tr>\n",
       "  </tbody>\n",
       "</table>\n",
       "</div>"
      ],
      "text/plain": [
       "           Date    Price     Open     High      Low     Vol. Change %\n",
       "0  Jul 20, 2022  23149.1  23412.0  23429.9  22965.9  290.21K   -1.12%\n",
       "1  Jul 19, 2022  23410.2  22529.3  23757.3  21581.8  308.91K    3.93%\n",
       "2  Jul 18, 2022  22525.8  20785.6  22714.9  20770.6  279.72K    8.37%\n",
       "3  Jul 17, 2022  20785.6  21209.8  21654.4  20755.2  132.81K   -2.00%\n",
       "4  Jul 16, 2022  21209.9  20825.2  21561.3  20484.4  136.89K    1.85%"
      ]
     },
     "execution_count": 5,
     "metadata": {},
     "output_type": "execute_result"
    }
   ],
   "source": [
    "BTC_raw.head()"
   ]
  },
  {
   "cell_type": "markdown",
   "metadata": {},
   "source": [
    "# Data wrangling"
   ]
  },
  {
   "cell_type": "markdown",
   "metadata": {},
   "source": [
    "## Etapa de descubrimiento"
   ]
  },
  {
   "cell_type": "markdown",
   "metadata": {},
   "source": [
    "Se procede a analizar la estructura fundamental de la data en bruto (BTC_raw)"
   ]
  },
  {
   "cell_type": "code",
   "execution_count": 6,
   "metadata": {},
   "outputs": [
    {
     "name": "stdout",
     "output_type": "stream",
     "text": [
      "<class 'pandas.core.frame.DataFrame'>\n",
      "RangeIndex: 4386 entries, 0 to 4385\n",
      "Data columns (total 7 columns):\n",
      " #   Column    Non-Null Count  Dtype  \n",
      "---  ------    --------------  -----  \n",
      " 0   Date      4386 non-null   object \n",
      " 1   Price     4386 non-null   float64\n",
      " 2   Open      4386 non-null   float64\n",
      " 3   High      4386 non-null   float64\n",
      " 4   Low       4386 non-null   float64\n",
      " 5   Vol.      4386 non-null   object \n",
      " 6   Change %  4386 non-null   object \n",
      "dtypes: float64(4), object(3)\n",
      "memory usage: 240.0+ KB\n"
     ]
    }
   ],
   "source": [
    "# Se aplica el método info()\n",
    "BTC_raw.info()"
   ]
  },
  {
   "cell_type": "markdown",
   "metadata": {},
   "source": [
    "Observaciones:\n",
    "- Existen 4386 registros [0:4385]\n",
    "- Posee 6 columnas ['Date', 'Price', 'Open', 'High', 'Low', 'Vol.', 'Change %']\n",
    "- No presenta datos nulos en las variables de tipo float64.\n",
    "- Queda por revisar si hay valores nulos en las variables de tipo objeto."
   ]
  },
  {
   "cell_type": "code",
   "execution_count": 7,
   "metadata": {},
   "outputs": [
    {
     "name": "stdout",
     "output_type": "stream",
     "text": [
      "Cantidad de duplicados en el data set es:  0\n"
     ]
    }
   ],
   "source": [
    "# Se buscan duplicados en general\n",
    "print (\"Cantidad de duplicados en el data set es: \", BTC_raw.duplicated().sum())"
   ]
  },
  {
   "cell_type": "code",
   "execution_count": 8,
   "metadata": {},
   "outputs": [
    {
     "name": "stdout",
     "output_type": "stream",
     "text": [
      "Year2011:  365\n",
      "Year2012:  366\n",
      "Year2013:  365\n",
      "Year2014:  365\n",
      "Year2015:  365\n",
      "Year2016:  366\n",
      "Year2017:  365\n",
      "Year2018:  365\n",
      "Year2019:  365\n",
      "Year2020:  366\n",
      "Year2021:  365\n",
      "Year2022:  201\n"
     ]
    }
   ],
   "source": [
    "## Se buscan conocer missing values en columna [Date]\n",
    "Years = [\"2011\",\"2012\",\"2013\",\"2014\",\"2015\",\"2016\",\"2017\",\"2018\",\"2019\",\"2020\",\"2021\",\"2022\"]\n",
    "\n",
    "for year in Years:\n",
    "    print (\"Year\"+year+\": \", BTC_raw [\"Date\"].str.contains(year).sum())"
   ]
  },
  {
   "cell_type": "markdown",
   "metadata": {},
   "source": [
    "Observaciones:\n",
    "- 2012, 2016 y 2022 fueron años bisiestos.\n",
    "- Todos los registros de la columan posee un año específico y concuerdan con la cantidad de días de cada año. Al momento de convertirse en datatime64 se revisará nuevamente la presencia de errores en la columna."
   ]
  },
  {
   "cell_type": "code",
   "execution_count": 9,
   "metadata": {},
   "outputs": [],
   "source": [
    "# Se busca conocer la letra asociada (K, M, etc.) a cada registro de la columna [Vol.] para su posterior tratamiento. \n",
    "# Se construye un Dataframe para facilitar la manipulación de los datos.\n",
    "diverse_letters_volume = [] \n",
    "for n in BTC_raw [\"Vol.\"]:\n",
    "    \n",
    "    diverse_letters_volume.append (n [-1])\n",
    "    \n",
    "BTC_vol_letter = pd.DataFrame (diverse_letters_volume)"
   ]
  },
  {
   "cell_type": "code",
   "execution_count": 10,
   "metadata": {},
   "outputs": [
    {
     "data": {
      "text/plain": [
       "K    4115\n",
       "M     249\n",
       "B      16\n",
       "-       6\n",
       "dtype: int64"
      ]
     },
     "execution_count": 10,
     "metadata": {},
     "output_type": "execute_result"
    }
   ],
   "source": [
    "# Se contará la cantidad de registros con diverso tipo de letra final asociada.\n",
    "BTC_vol_letter.value_counts()"
   ]
  },
  {
   "cell_type": "code",
   "execution_count": 11,
   "metadata": {},
   "outputs": [
    {
     "data": {
      "text/plain": [
       "4043    -\n",
       "4044    -\n",
       "4045    -\n",
       "4046    -\n",
       "4047    -\n",
       "4048    -\n",
       "Name: Vol., dtype: object"
      ]
     },
     "execution_count": 11,
     "metadata": {},
     "output_type": "execute_result"
    }
   ],
   "source": [
    "# Se localizan los registro que no tienen letra asociada\n",
    "BTC_raw [\"Vol.\"].loc [BTC_raw [\"Vol.\"] == \"-\"]"
   ]
  },
  {
   "cell_type": "code",
   "execution_count": 12,
   "metadata": {},
   "outputs": [
    {
     "data": {
      "text/html": [
       "<div>\n",
       "<style scoped>\n",
       "    .dataframe tbody tr th:only-of-type {\n",
       "        vertical-align: middle;\n",
       "    }\n",
       "\n",
       "    .dataframe tbody tr th {\n",
       "        vertical-align: top;\n",
       "    }\n",
       "\n",
       "    .dataframe thead th {\n",
       "        text-align: right;\n",
       "    }\n",
       "</style>\n",
       "<table border=\"1\" class=\"dataframe\">\n",
       "  <thead>\n",
       "    <tr style=\"text-align: right;\">\n",
       "      <th></th>\n",
       "      <th>Date</th>\n",
       "      <th>Price</th>\n",
       "      <th>Open</th>\n",
       "      <th>High</th>\n",
       "      <th>Low</th>\n",
       "      <th>Vol.</th>\n",
       "      <th>Change %</th>\n",
       "    </tr>\n",
       "  </thead>\n",
       "  <tbody>\n",
       "    <tr>\n",
       "      <th>4043</th>\n",
       "      <td>Jun 25, 2011</td>\n",
       "      <td>17.5</td>\n",
       "      <td>17.5</td>\n",
       "      <td>17.5</td>\n",
       "      <td>17.5</td>\n",
       "      <td>-</td>\n",
       "      <td>0.00%</td>\n",
       "    </tr>\n",
       "    <tr>\n",
       "      <th>4044</th>\n",
       "      <td>Jun 24, 2011</td>\n",
       "      <td>17.5</td>\n",
       "      <td>17.5</td>\n",
       "      <td>17.5</td>\n",
       "      <td>17.5</td>\n",
       "      <td>-</td>\n",
       "      <td>0.00%</td>\n",
       "    </tr>\n",
       "    <tr>\n",
       "      <th>4045</th>\n",
       "      <td>Jun 23, 2011</td>\n",
       "      <td>17.5</td>\n",
       "      <td>17.5</td>\n",
       "      <td>17.5</td>\n",
       "      <td>17.5</td>\n",
       "      <td>-</td>\n",
       "      <td>0.00%</td>\n",
       "    </tr>\n",
       "    <tr>\n",
       "      <th>4046</th>\n",
       "      <td>Jun 22, 2011</td>\n",
       "      <td>17.5</td>\n",
       "      <td>17.5</td>\n",
       "      <td>17.5</td>\n",
       "      <td>17.5</td>\n",
       "      <td>-</td>\n",
       "      <td>0.00%</td>\n",
       "    </tr>\n",
       "    <tr>\n",
       "      <th>4047</th>\n",
       "      <td>Jun 21, 2011</td>\n",
       "      <td>17.5</td>\n",
       "      <td>17.5</td>\n",
       "      <td>17.5</td>\n",
       "      <td>17.5</td>\n",
       "      <td>-</td>\n",
       "      <td>0.00%</td>\n",
       "    </tr>\n",
       "    <tr>\n",
       "      <th>4048</th>\n",
       "      <td>Jun 20, 2011</td>\n",
       "      <td>17.5</td>\n",
       "      <td>17.5</td>\n",
       "      <td>17.5</td>\n",
       "      <td>17.5</td>\n",
       "      <td>-</td>\n",
       "      <td>0.00%</td>\n",
       "    </tr>\n",
       "  </tbody>\n",
       "</table>\n",
       "</div>"
      ],
      "text/plain": [
       "              Date  Price  Open  High   Low Vol. Change %\n",
       "4043  Jun 25, 2011   17.5  17.5  17.5  17.5    -    0.00%\n",
       "4044  Jun 24, 2011   17.5  17.5  17.5  17.5    -    0.00%\n",
       "4045  Jun 23, 2011   17.5  17.5  17.5  17.5    -    0.00%\n",
       "4046  Jun 22, 2011   17.5  17.5  17.5  17.5    -    0.00%\n",
       "4047  Jun 21, 2011   17.5  17.5  17.5  17.5    -    0.00%\n",
       "4048  Jun 20, 2011   17.5  17.5  17.5  17.5    -    0.00%"
      ]
     },
     "execution_count": 12,
     "metadata": {},
     "output_type": "execute_result"
    }
   ],
   "source": [
    "# Se revisa las filas de registros con valor \"-\" en [Vol.] \n",
    "BTC_raw [4043:4049]"
   ]
  },
  {
   "cell_type": "code",
   "execution_count": 13,
   "metadata": {},
   "outputs": [
    {
     "data": {
      "text/plain": [
       "4036     19.45K\n",
       "4037     33.28K\n",
       "4038     34.96K\n",
       "4039     21.04K\n",
       "4040     24.40K\n",
       "4041     31.45K\n",
       "4042     15.05K\n",
       "4043          -\n",
       "4044          -\n",
       "4045          -\n",
       "4046          -\n",
       "4047          -\n",
       "4048          -\n",
       "4049     30.18K\n",
       "4050     35.54K\n",
       "4051    108.62K\n",
       "4052     49.20K\n",
       "4053     27.71K\n",
       "4054     36.16K\n",
       "4055     73.42K\n",
       "Name: Vol., dtype: object"
      ]
     },
     "execution_count": 13,
     "metadata": {},
     "output_type": "execute_result"
    }
   ],
   "source": [
    "# Se traen registros anteriores y posteriores para modificar los missing values con un promedio de los mismos.\n",
    "BTC_raw [\"Vol.\"] [4036:4056]"
   ]
  },
  {
   "cell_type": "code",
   "execution_count": 14,
   "metadata": {},
   "outputs": [],
   "source": [
    "# Se crea Serie1 y Serie2 para promedia los valores para reemplazar \"-\"\n",
    "Serie1 = BTC_raw [\"Vol.\"] [4041:4043]\n",
    "Serie1 = Serie1.str.replace(\"K\",\"\")"
   ]
  },
  {
   "cell_type": "code",
   "execution_count": 15,
   "metadata": {},
   "outputs": [],
   "source": [
    "Serie2 = BTC_raw [\"Vol.\"] [4049:4051]\n",
    "Serie2 = Serie2.str.replace(\"K\",\"\")"
   ]
  },
  {
   "cell_type": "code",
   "execution_count": 16,
   "metadata": {},
   "outputs": [
    {
     "data": {
      "text/plain": [
       "23.25"
      ]
     },
     "execution_count": 16,
     "metadata": {},
     "output_type": "execute_result"
    }
   ],
   "source": [
    "# Se calcula el promedio de los 3 valores anteriores a los valores \"-\"\n",
    "S1 = Serie1.astype(float).mean()\n",
    "S1"
   ]
  },
  {
   "cell_type": "code",
   "execution_count": 17,
   "metadata": {},
   "outputs": [
    {
     "data": {
      "text/plain": [
       "32.86"
      ]
     },
     "execution_count": 17,
     "metadata": {},
     "output_type": "execute_result"
    }
   ],
   "source": [
    "# Se calcula el promedio de los 3 valores posteriores a los valores \"-\"\n",
    "S2 = Serie2.astype(float).mean()\n",
    "S2"
   ]
  },
  {
   "cell_type": "code",
   "execution_count": 18,
   "metadata": {},
   "outputs": [
    {
     "data": {
      "text/plain": [
       "'28.055'"
      ]
     },
     "execution_count": 18,
     "metadata": {},
     "output_type": "execute_result"
    }
   ],
   "source": [
    "# Se realiza un promedio de los promedios de los últimos 3 valores anteriores y 3 valores posteriores a \"-\"\n",
    "Promedio = (S1+S2)/2\n",
    "str(Promedio)"
   ]
  },
  {
   "cell_type": "code",
   "execution_count": 19,
   "metadata": {},
   "outputs": [],
   "source": [
    "# Se crea una copia del data set original por back up\n",
    "BTC_raw_2 = BTC_raw.copy()"
   ]
  },
  {
   "cell_type": "code",
   "execution_count": 20,
   "metadata": {},
   "outputs": [
    {
     "name": "stderr",
     "output_type": "stream",
     "text": [
      "C:\\Users\\lucia\\AppData\\Local\\Temp/ipykernel_5504/3814098480.py:2: SettingWithCopyWarning: \n",
      "A value is trying to be set on a copy of a slice from a DataFrame\n",
      "\n",
      "See the caveats in the documentation: https://pandas.pydata.org/pandas-docs/stable/user_guide/indexing.html#returning-a-view-versus-a-copy\n",
      "  BTC_raw_2 [\"Vol.\"] [4043:4049] = BTC_raw_2 [\"Vol.\"] [4043:4049].str.replace (\"-\", \"28.055K\")\n"
     ]
    }
   ],
   "source": [
    "# Se reemplazan los valores \"-\" por el promedio obtenido \"28.055\" y se le agrega la letra \"K\" dado que el promedio de los volúmenes en cuestión poseían asociada dicha letra\n",
    "BTC_raw_2 [\"Vol.\"] [4043:4049] = BTC_raw_2 [\"Vol.\"] [4043:4049].str.replace (\"-\", \"28.055K\")"
   ]
  },
  {
   "cell_type": "code",
   "execution_count": 21,
   "metadata": {},
   "outputs": [
    {
     "data": {
      "text/html": [
       "<div>\n",
       "<style scoped>\n",
       "    .dataframe tbody tr th:only-of-type {\n",
       "        vertical-align: middle;\n",
       "    }\n",
       "\n",
       "    .dataframe tbody tr th {\n",
       "        vertical-align: top;\n",
       "    }\n",
       "\n",
       "    .dataframe thead th {\n",
       "        text-align: right;\n",
       "    }\n",
       "</style>\n",
       "<table border=\"1\" class=\"dataframe\">\n",
       "  <thead>\n",
       "    <tr style=\"text-align: right;\">\n",
       "      <th></th>\n",
       "      <th>Date</th>\n",
       "      <th>Price</th>\n",
       "      <th>Open</th>\n",
       "      <th>High</th>\n",
       "      <th>Low</th>\n",
       "      <th>Vol.</th>\n",
       "      <th>Change %</th>\n",
       "    </tr>\n",
       "  </thead>\n",
       "  <tbody>\n",
       "    <tr>\n",
       "      <th>4041</th>\n",
       "      <td>Jun 27, 2011</td>\n",
       "      <td>16.8</td>\n",
       "      <td>16.5</td>\n",
       "      <td>18.0</td>\n",
       "      <td>15.0</td>\n",
       "      <td>31.45K</td>\n",
       "      <td>1.82%</td>\n",
       "    </tr>\n",
       "    <tr>\n",
       "      <th>4042</th>\n",
       "      <td>Jun 26, 2011</td>\n",
       "      <td>16.5</td>\n",
       "      <td>17.5</td>\n",
       "      <td>17.5</td>\n",
       "      <td>14.0</td>\n",
       "      <td>15.05K</td>\n",
       "      <td>-6.05%</td>\n",
       "    </tr>\n",
       "    <tr>\n",
       "      <th>4043</th>\n",
       "      <td>Jun 25, 2011</td>\n",
       "      <td>17.5</td>\n",
       "      <td>17.5</td>\n",
       "      <td>17.5</td>\n",
       "      <td>17.5</td>\n",
       "      <td>28.055K</td>\n",
       "      <td>0.00%</td>\n",
       "    </tr>\n",
       "    <tr>\n",
       "      <th>4044</th>\n",
       "      <td>Jun 24, 2011</td>\n",
       "      <td>17.5</td>\n",
       "      <td>17.5</td>\n",
       "      <td>17.5</td>\n",
       "      <td>17.5</td>\n",
       "      <td>28.055K</td>\n",
       "      <td>0.00%</td>\n",
       "    </tr>\n",
       "    <tr>\n",
       "      <th>4045</th>\n",
       "      <td>Jun 23, 2011</td>\n",
       "      <td>17.5</td>\n",
       "      <td>17.5</td>\n",
       "      <td>17.5</td>\n",
       "      <td>17.5</td>\n",
       "      <td>28.055K</td>\n",
       "      <td>0.00%</td>\n",
       "    </tr>\n",
       "    <tr>\n",
       "      <th>4046</th>\n",
       "      <td>Jun 22, 2011</td>\n",
       "      <td>17.5</td>\n",
       "      <td>17.5</td>\n",
       "      <td>17.5</td>\n",
       "      <td>17.5</td>\n",
       "      <td>28.055K</td>\n",
       "      <td>0.00%</td>\n",
       "    </tr>\n",
       "    <tr>\n",
       "      <th>4047</th>\n",
       "      <td>Jun 21, 2011</td>\n",
       "      <td>17.5</td>\n",
       "      <td>17.5</td>\n",
       "      <td>17.5</td>\n",
       "      <td>17.5</td>\n",
       "      <td>28.055K</td>\n",
       "      <td>0.00%</td>\n",
       "    </tr>\n",
       "    <tr>\n",
       "      <th>4048</th>\n",
       "      <td>Jun 20, 2011</td>\n",
       "      <td>17.5</td>\n",
       "      <td>17.5</td>\n",
       "      <td>17.5</td>\n",
       "      <td>17.5</td>\n",
       "      <td>28.055K</td>\n",
       "      <td>0.00%</td>\n",
       "    </tr>\n",
       "    <tr>\n",
       "      <th>4049</th>\n",
       "      <td>Jun 19, 2011</td>\n",
       "      <td>17.5</td>\n",
       "      <td>16.9</td>\n",
       "      <td>18.9</td>\n",
       "      <td>16.9</td>\n",
       "      <td>30.18K</td>\n",
       "      <td>3.67%</td>\n",
       "    </tr>\n",
       "    <tr>\n",
       "      <th>4050</th>\n",
       "      <td>Jun 18, 2011</td>\n",
       "      <td>16.9</td>\n",
       "      <td>15.7</td>\n",
       "      <td>17.0</td>\n",
       "      <td>15.1</td>\n",
       "      <td>35.54K</td>\n",
       "      <td>7.72%</td>\n",
       "    </tr>\n",
       "  </tbody>\n",
       "</table>\n",
       "</div>"
      ],
      "text/plain": [
       "              Date  Price  Open  High   Low     Vol. Change %\n",
       "4041  Jun 27, 2011   16.8  16.5  18.0  15.0   31.45K    1.82%\n",
       "4042  Jun 26, 2011   16.5  17.5  17.5  14.0   15.05K   -6.05%\n",
       "4043  Jun 25, 2011   17.5  17.5  17.5  17.5  28.055K    0.00%\n",
       "4044  Jun 24, 2011   17.5  17.5  17.5  17.5  28.055K    0.00%\n",
       "4045  Jun 23, 2011   17.5  17.5  17.5  17.5  28.055K    0.00%\n",
       "4046  Jun 22, 2011   17.5  17.5  17.5  17.5  28.055K    0.00%\n",
       "4047  Jun 21, 2011   17.5  17.5  17.5  17.5  28.055K    0.00%\n",
       "4048  Jun 20, 2011   17.5  17.5  17.5  17.5  28.055K    0.00%\n",
       "4049  Jun 19, 2011   17.5  16.9  18.9  16.9   30.18K    3.67%\n",
       "4050  Jun 18, 2011   16.9  15.7  17.0  15.1   35.54K    7.72%"
      ]
     },
     "execution_count": 21,
     "metadata": {},
     "output_type": "execute_result"
    }
   ],
   "source": [
    "# Se revisa el cambio (realizado con éxito)\n",
    "BTC_raw_2 [4041:4051]"
   ]
  },
  {
   "cell_type": "markdown",
   "metadata": {},
   "source": [
    "## Etapa de estructuración"
   ]
  },
  {
   "cell_type": "code",
   "execution_count": 22,
   "metadata": {},
   "outputs": [],
   "source": [
    "# Se realiza un nuevo back up en caso necesario\n",
    "BTC_raw_3 = BTC_raw_2.copy()"
   ]
  },
  {
   "cell_type": "code",
   "execution_count": 23,
   "metadata": {},
   "outputs": [
    {
     "data": {
      "text/html": [
       "<div>\n",
       "<style scoped>\n",
       "    .dataframe tbody tr th:only-of-type {\n",
       "        vertical-align: middle;\n",
       "    }\n",
       "\n",
       "    .dataframe tbody tr th {\n",
       "        vertical-align: top;\n",
       "    }\n",
       "\n",
       "    .dataframe thead th {\n",
       "        text-align: right;\n",
       "    }\n",
       "</style>\n",
       "<table border=\"1\" class=\"dataframe\">\n",
       "  <thead>\n",
       "    <tr style=\"text-align: right;\">\n",
       "      <th></th>\n",
       "      <th>Date</th>\n",
       "      <th>Price</th>\n",
       "      <th>Open</th>\n",
       "      <th>High</th>\n",
       "      <th>Low</th>\n",
       "      <th>Vol.</th>\n",
       "      <th>Change %</th>\n",
       "    </tr>\n",
       "  </thead>\n",
       "  <tbody>\n",
       "    <tr>\n",
       "      <th>0</th>\n",
       "      <td>Jul 20, 2022</td>\n",
       "      <td>23149.1</td>\n",
       "      <td>23412.0</td>\n",
       "      <td>23429.9</td>\n",
       "      <td>22965.9</td>\n",
       "      <td>290.21K</td>\n",
       "      <td>-1.12%</td>\n",
       "    </tr>\n",
       "    <tr>\n",
       "      <th>1</th>\n",
       "      <td>Jul 19, 2022</td>\n",
       "      <td>23410.2</td>\n",
       "      <td>22529.3</td>\n",
       "      <td>23757.3</td>\n",
       "      <td>21581.8</td>\n",
       "      <td>308.91K</td>\n",
       "      <td>3.93%</td>\n",
       "    </tr>\n",
       "    <tr>\n",
       "      <th>2</th>\n",
       "      <td>Jul 18, 2022</td>\n",
       "      <td>22525.8</td>\n",
       "      <td>20785.6</td>\n",
       "      <td>22714.9</td>\n",
       "      <td>20770.6</td>\n",
       "      <td>279.72K</td>\n",
       "      <td>8.37%</td>\n",
       "    </tr>\n",
       "    <tr>\n",
       "      <th>3</th>\n",
       "      <td>Jul 17, 2022</td>\n",
       "      <td>20785.6</td>\n",
       "      <td>21209.8</td>\n",
       "      <td>21654.4</td>\n",
       "      <td>20755.2</td>\n",
       "      <td>132.81K</td>\n",
       "      <td>-2.00%</td>\n",
       "    </tr>\n",
       "    <tr>\n",
       "      <th>4</th>\n",
       "      <td>Jul 16, 2022</td>\n",
       "      <td>21209.9</td>\n",
       "      <td>20825.2</td>\n",
       "      <td>21561.3</td>\n",
       "      <td>20484.4</td>\n",
       "      <td>136.89K</td>\n",
       "      <td>1.85%</td>\n",
       "    </tr>\n",
       "  </tbody>\n",
       "</table>\n",
       "</div>"
      ],
      "text/plain": [
       "           Date    Price     Open     High      Low     Vol. Change %\n",
       "0  Jul 20, 2022  23149.1  23412.0  23429.9  22965.9  290.21K   -1.12%\n",
       "1  Jul 19, 2022  23410.2  22529.3  23757.3  21581.8  308.91K    3.93%\n",
       "2  Jul 18, 2022  22525.8  20785.6  22714.9  20770.6  279.72K    8.37%\n",
       "3  Jul 17, 2022  20785.6  21209.8  21654.4  20755.2  132.81K   -2.00%\n",
       "4  Jul 16, 2022  21209.9  20825.2  21561.3  20484.4  136.89K    1.85%"
      ]
     },
     "execution_count": 23,
     "metadata": {},
     "output_type": "execute_result"
    }
   ],
   "source": [
    "BTC_raw_3.head()"
   ]
  },
  {
   "cell_type": "markdown",
   "metadata": {},
   "source": [
    "Volumen - Etapa 1\n",
    "\n",
    "Se quitarán las letras finales de cada registro y se ajustarán los números según su valor [se dejarán en str])"
   ]
  },
  {
   "cell_type": "code",
   "execution_count": 24,
   "metadata": {},
   "outputs": [
    {
     "name": "stderr",
     "output_type": "stream",
     "text": [
      "C:\\Users\\lucia\\AppData\\Local\\Temp/ipykernel_5504/281401359.py:6: SettingWithCopyWarning: \n",
      "A value is trying to be set on a copy of a slice from a DataFrame\n",
      "\n",
      "See the caveats in the documentation: https://pandas.pydata.org/pandas-docs/stable/user_guide/indexing.html#returning-a-view-versus-a-copy\n",
      "  BTC_raw_3 [\"Vol.\"].loc[BTC_raw_3 [\"Vol.\"].str.contains(\"K\")] = (BTC_raw_3 [\"Vol.\"].loc[BTC_raw_3 [\"Vol.\"].str.contains(\"K\")].str.replace(\"K\",\"\").astype(float)*1000).astype(str)\n"
     ]
    }
   ],
   "source": [
    "# Se localizan los registro con letra K\n",
    "# Se elimina la letra K\n",
    "# Se convierte el valor en float\n",
    "# Se multiplica por 1000 (K=1000)\n",
    "# Se lo vuelve a transformar en str para poder seguir tratando el resto de los valores\n",
    "BTC_raw_3 [\"Vol.\"].loc[BTC_raw_3 [\"Vol.\"].str.contains(\"K\")] = (BTC_raw_3 [\"Vol.\"].loc[BTC_raw_3 [\"Vol.\"].str.contains(\"K\")].str.replace(\"K\",\"\").astype(float)*1000).astype(str)"
   ]
  },
  {
   "cell_type": "code",
   "execution_count": 25,
   "metadata": {},
   "outputs": [
    {
     "name": "stderr",
     "output_type": "stream",
     "text": [
      "C:\\Users\\lucia\\AppData\\Local\\Temp/ipykernel_5504/2563787274.py:6: SettingWithCopyWarning: \n",
      "A value is trying to be set on a copy of a slice from a DataFrame\n",
      "\n",
      "See the caveats in the documentation: https://pandas.pydata.org/pandas-docs/stable/user_guide/indexing.html#returning-a-view-versus-a-copy\n",
      "  BTC_raw_3 [\"Vol.\"].loc[BTC_raw_3 [\"Vol.\"].str.contains(\"M\")] = (BTC_raw_3 [\"Vol.\"].loc[BTC_raw_3 [\"Vol.\"].str.contains(\"M\")].str.replace(\"M\",\"\").astype(float)*1000000).astype(str)\n"
     ]
    }
   ],
   "source": [
    "# Se localizan los registro con letra M\n",
    "# Se elimina la letra M\n",
    "# Se convierte el valor en float\n",
    "# Se multiplica por 1.000.000 (M=1.000.000)\n",
    "# Se lo vuelve a transformar en str para poder seguir tratando el resto de los valores\n",
    "BTC_raw_3 [\"Vol.\"].loc[BTC_raw_3 [\"Vol.\"].str.contains(\"M\")] = (BTC_raw_3 [\"Vol.\"].loc[BTC_raw_3 [\"Vol.\"].str.contains(\"M\")].str.replace(\"M\",\"\").astype(float)*1000000).astype(str)"
   ]
  },
  {
   "cell_type": "code",
   "execution_count": 26,
   "metadata": {},
   "outputs": [
    {
     "name": "stderr",
     "output_type": "stream",
     "text": [
      "C:\\Users\\lucia\\AppData\\Local\\Temp/ipykernel_5504/2757930547.py:6: SettingWithCopyWarning: \n",
      "A value is trying to be set on a copy of a slice from a DataFrame\n",
      "\n",
      "See the caveats in the documentation: https://pandas.pydata.org/pandas-docs/stable/user_guide/indexing.html#returning-a-view-versus-a-copy\n",
      "  BTC_raw_3 [\"Vol.\"].loc[BTC_raw_3 [\"Vol.\"].str.contains(\"B\")] = (BTC_raw_3 [\"Vol.\"].loc[BTC_raw_3 [\"Vol.\"].str.contains(\"B\")].str.replace(\"B\",\"\").astype(float)*1000000000).astype(str)\n"
     ]
    }
   ],
   "source": [
    "# Se localizan los registro con letr B\n",
    "# Se elimina la letra B\n",
    "# Se convierte el valor en float\n",
    "# Se multiplica por 1000 (B=1.000.000.000)\n",
    "# Se lo vuelve a transformar en str para poder seguir tratando el resto de los valores\n",
    "BTC_raw_3 [\"Vol.\"].loc[BTC_raw_3 [\"Vol.\"].str.contains(\"B\")] = (BTC_raw_3 [\"Vol.\"].loc[BTC_raw_3 [\"Vol.\"].str.contains(\"B\")].str.replace(\"B\",\"\").astype(float)*1000000000).astype(str)"
   ]
  },
  {
   "cell_type": "code",
   "execution_count": 27,
   "metadata": {},
   "outputs": [
    {
     "data": {
      "text/plain": [
       "28055.0      6\n",
       "1050000.0    6\n",
       "1040000.0    5\n",
       "14730.0      5\n",
       "1180000.0    5\n",
       "1110000.0    4\n",
       "5030.0       4\n",
       "74360.0      4\n",
       "9340000.0    4\n",
       "71370.0      3\n",
       "44460.0      3\n",
       "15170.0      3\n",
       "1260.0       3\n",
       "27600.0      3\n",
       "20120.0      3\n",
       "40640.0      3\n",
       "61720.0      3\n",
       "4740.0       3\n",
       "1450.0       3\n",
       "49910.0      3\n",
       "Name: Vol., dtype: int64"
      ]
     },
     "execution_count": 27,
     "metadata": {},
     "output_type": "execute_result"
    }
   ],
   "source": [
    "# Se revisan algunos registros para constatar el cambio\n",
    "BTC_raw_3[\"Vol.\"].value_counts().head(20)"
   ]
  },
  {
   "cell_type": "markdown",
   "metadata": {},
   "source": [
    "Porcentaje - etapa 1:\n",
    "\n",
    "Se procede a quitar los \"%\""
   ]
  },
  {
   "cell_type": "code",
   "execution_count": 28,
   "metadata": {},
   "outputs": [],
   "source": [
    "# Se realiza un nuevo back up\n",
    "BTC_raw_4 = BTC_raw_3.copy()"
   ]
  },
  {
   "cell_type": "code",
   "execution_count": 29,
   "metadata": {},
   "outputs": [],
   "source": [
    "# Se localizan y se elimina el signo \"%\"\n",
    "BTC_raw_4 [\"Change %\"] = BTC_raw_4 [\"Change %\"].str.replace (\"%\",\"\")"
   ]
  },
  {
   "cell_type": "code",
   "execution_count": 30,
   "metadata": {},
   "outputs": [
    {
     "data": {
      "text/plain": [
       "0    -1.12\n",
       "1     3.93\n",
       "2     8.37\n",
       "3    -2.00\n",
       "4     1.85\n",
       "Name: Change %, dtype: object"
      ]
     },
     "execution_count": 30,
     "metadata": {},
     "output_type": "execute_result"
    }
   ],
   "source": [
    "BTC_raw_4 [\"Change %\"].head()"
   ]
  },
  {
   "cell_type": "markdown",
   "metadata": {},
   "source": [
    "Fecha - Etapa 1\n",
    "\n",
    "Se procede a convertir en Datetime64 [ns] la columna [Date]"
   ]
  },
  {
   "cell_type": "code",
   "execution_count": 31,
   "metadata": {},
   "outputs": [],
   "source": [
    "# Se realiza un nuevo back up\n",
    "BTC_raw_5 = BTC_raw_4.copy()"
   ]
  },
  {
   "cell_type": "code",
   "execution_count": 32,
   "metadata": {},
   "outputs": [],
   "source": [
    "# Se convierte el tipo de la columna a Datetime64 [ns]\n",
    "BTC_raw_5 ['Date'] = pd.to_datetime(BTC_raw_5 ['Date'])"
   ]
  },
  {
   "cell_type": "code",
   "execution_count": 33,
   "metadata": {},
   "outputs": [
    {
     "name": "stdout",
     "output_type": "stream",
     "text": [
      "<class 'pandas.core.frame.DataFrame'>\n",
      "RangeIndex: 4386 entries, 0 to 4385\n",
      "Data columns (total 7 columns):\n",
      " #   Column    Non-Null Count  Dtype         \n",
      "---  ------    --------------  -----         \n",
      " 0   Date      4386 non-null   datetime64[ns]\n",
      " 1   Price     4386 non-null   float64       \n",
      " 2   Open      4386 non-null   float64       \n",
      " 3   High      4386 non-null   float64       \n",
      " 4   Low       4386 non-null   float64       \n",
      " 5   Vol.      4386 non-null   object        \n",
      " 6   Change %  4386 non-null   object        \n",
      "dtypes: datetime64[ns](1), float64(4), object(2)\n",
      "memory usage: 240.0+ KB\n"
     ]
    }
   ],
   "source": [
    "BTC_raw_5.info()"
   ]
  },
  {
   "cell_type": "markdown",
   "metadata": {},
   "source": [
    "Volumen - Etapa 2\n",
    "\n",
    "Se convierte el tipo de valor de la columna [Vol.] a float (también podría convertirse en int)"
   ]
  },
  {
   "cell_type": "code",
   "execution_count": 34,
   "metadata": {},
   "outputs": [],
   "source": [
    "BTC_raw_5 ['Vol.'] = BTC_raw_5 ['Vol.'].astype(float)"
   ]
  },
  {
   "cell_type": "code",
   "execution_count": 35,
   "metadata": {},
   "outputs": [
    {
     "data": {
      "text/plain": [
       "dtype('float64')"
      ]
     },
     "execution_count": 35,
     "metadata": {},
     "output_type": "execute_result"
    }
   ],
   "source": [
    "BTC_raw_5 ['Vol.'].dtype"
   ]
  },
  {
   "cell_type": "markdown",
   "metadata": {},
   "source": [
    "Porcentaje - Etapa 2\n",
    "\n",
    "Se convierten los valores de la variable [Change %] a tipo float"
   ]
  },
  {
   "cell_type": "code",
   "execution_count": 36,
   "metadata": {},
   "outputs": [],
   "source": [
    "BTC_raw_5 ['Change %'] = BTC_raw_5 ['Change %'].astype(float)"
   ]
  },
  {
   "cell_type": "code",
   "execution_count": 37,
   "metadata": {},
   "outputs": [
    {
     "name": "stdout",
     "output_type": "stream",
     "text": [
      "<class 'pandas.core.frame.DataFrame'>\n",
      "RangeIndex: 4386 entries, 0 to 4385\n",
      "Data columns (total 7 columns):\n",
      " #   Column    Non-Null Count  Dtype         \n",
      "---  ------    --------------  -----         \n",
      " 0   Date      4386 non-null   datetime64[ns]\n",
      " 1   Price     4386 non-null   float64       \n",
      " 2   Open      4386 non-null   float64       \n",
      " 3   High      4386 non-null   float64       \n",
      " 4   Low       4386 non-null   float64       \n",
      " 5   Vol.      4386 non-null   float64       \n",
      " 6   Change %  4386 non-null   float64       \n",
      "dtypes: datetime64[ns](1), float64(6)\n",
      "memory usage: 240.0 KB\n"
     ]
    }
   ],
   "source": [
    "BTC_raw_5.info()"
   ]
  },
  {
   "cell_type": "markdown",
   "metadata": {},
   "source": [
    "Fecha - Etapa 2\n",
    "\n",
    "Se ordena la base de datos de manera ascendente según la variable [Date]"
   ]
  },
  {
   "cell_type": "code",
   "execution_count": 38,
   "metadata": {},
   "outputs": [
    {
     "data": {
      "text/html": [
       "<div>\n",
       "<style scoped>\n",
       "    .dataframe tbody tr th:only-of-type {\n",
       "        vertical-align: middle;\n",
       "    }\n",
       "\n",
       "    .dataframe tbody tr th {\n",
       "        vertical-align: top;\n",
       "    }\n",
       "\n",
       "    .dataframe thead th {\n",
       "        text-align: right;\n",
       "    }\n",
       "</style>\n",
       "<table border=\"1\" class=\"dataframe\">\n",
       "  <thead>\n",
       "    <tr style=\"text-align: right;\">\n",
       "      <th></th>\n",
       "      <th>Date</th>\n",
       "      <th>Price</th>\n",
       "      <th>Open</th>\n",
       "      <th>High</th>\n",
       "      <th>Low</th>\n",
       "      <th>Vol.</th>\n",
       "      <th>Change %</th>\n",
       "    </tr>\n",
       "  </thead>\n",
       "  <tbody>\n",
       "    <tr>\n",
       "      <th>4385</th>\n",
       "      <td>2010-07-18</td>\n",
       "      <td>0.1</td>\n",
       "      <td>0.0</td>\n",
       "      <td>0.1</td>\n",
       "      <td>0.1</td>\n",
       "      <td>80.0</td>\n",
       "      <td>0.0</td>\n",
       "    </tr>\n",
       "    <tr>\n",
       "      <th>4384</th>\n",
       "      <td>2010-07-19</td>\n",
       "      <td>0.1</td>\n",
       "      <td>0.1</td>\n",
       "      <td>0.1</td>\n",
       "      <td>0.1</td>\n",
       "      <td>570.0</td>\n",
       "      <td>0.0</td>\n",
       "    </tr>\n",
       "    <tr>\n",
       "      <th>4383</th>\n",
       "      <td>2010-07-20</td>\n",
       "      <td>0.1</td>\n",
       "      <td>0.1</td>\n",
       "      <td>0.1</td>\n",
       "      <td>0.1</td>\n",
       "      <td>260.0</td>\n",
       "      <td>0.0</td>\n",
       "    </tr>\n",
       "    <tr>\n",
       "      <th>4382</th>\n",
       "      <td>2010-07-21</td>\n",
       "      <td>0.1</td>\n",
       "      <td>0.1</td>\n",
       "      <td>0.1</td>\n",
       "      <td>0.1</td>\n",
       "      <td>580.0</td>\n",
       "      <td>0.0</td>\n",
       "    </tr>\n",
       "    <tr>\n",
       "      <th>4381</th>\n",
       "      <td>2010-07-22</td>\n",
       "      <td>0.1</td>\n",
       "      <td>0.1</td>\n",
       "      <td>0.1</td>\n",
       "      <td>0.1</td>\n",
       "      <td>2160.0</td>\n",
       "      <td>0.0</td>\n",
       "    </tr>\n",
       "  </tbody>\n",
       "</table>\n",
       "</div>"
      ],
      "text/plain": [
       "           Date  Price  Open  High  Low    Vol.  Change %\n",
       "4385 2010-07-18    0.1   0.0   0.1  0.1    80.0       0.0\n",
       "4384 2010-07-19    0.1   0.1   0.1  0.1   570.0       0.0\n",
       "4383 2010-07-20    0.1   0.1   0.1  0.1   260.0       0.0\n",
       "4382 2010-07-21    0.1   0.1   0.1  0.1   580.0       0.0\n",
       "4381 2010-07-22    0.1   0.1   0.1  0.1  2160.0       0.0"
      ]
     },
     "execution_count": 38,
     "metadata": {},
     "output_type": "execute_result"
    }
   ],
   "source": [
    "BTC_raw_6 = BTC_raw_5.sort_values(\"Date\")\n",
    "BTC_raw_6.head()"
   ]
  },
  {
   "cell_type": "code",
   "execution_count": 39,
   "metadata": {},
   "outputs": [],
   "source": [
    "# Se resetea el índice del data set a fin de que empiece desde 0\n",
    "BTC_raw_7 = BTC_raw_6.reset_index()"
   ]
  },
  {
   "cell_type": "code",
   "execution_count": 40,
   "metadata": {},
   "outputs": [],
   "source": [
    "# Se elimina la columna index creada por default\n",
    "BTC_raw_8 = BTC_raw_7.drop ([\"index\"], axis=1)"
   ]
  },
  {
   "cell_type": "code",
   "execution_count": 41,
   "metadata": {},
   "outputs": [
    {
     "data": {
      "text/html": [
       "<div>\n",
       "<style scoped>\n",
       "    .dataframe tbody tr th:only-of-type {\n",
       "        vertical-align: middle;\n",
       "    }\n",
       "\n",
       "    .dataframe tbody tr th {\n",
       "        vertical-align: top;\n",
       "    }\n",
       "\n",
       "    .dataframe thead th {\n",
       "        text-align: right;\n",
       "    }\n",
       "</style>\n",
       "<table border=\"1\" class=\"dataframe\">\n",
       "  <thead>\n",
       "    <tr style=\"text-align: right;\">\n",
       "      <th></th>\n",
       "      <th>Date</th>\n",
       "      <th>Price</th>\n",
       "      <th>Open</th>\n",
       "      <th>High</th>\n",
       "      <th>Low</th>\n",
       "      <th>Vol.</th>\n",
       "      <th>Change %</th>\n",
       "    </tr>\n",
       "  </thead>\n",
       "  <tbody>\n",
       "    <tr>\n",
       "      <th>0</th>\n",
       "      <td>2010-07-18</td>\n",
       "      <td>0.1</td>\n",
       "      <td>0.0</td>\n",
       "      <td>0.1</td>\n",
       "      <td>0.1</td>\n",
       "      <td>80.0</td>\n",
       "      <td>0.0</td>\n",
       "    </tr>\n",
       "    <tr>\n",
       "      <th>1</th>\n",
       "      <td>2010-07-19</td>\n",
       "      <td>0.1</td>\n",
       "      <td>0.1</td>\n",
       "      <td>0.1</td>\n",
       "      <td>0.1</td>\n",
       "      <td>570.0</td>\n",
       "      <td>0.0</td>\n",
       "    </tr>\n",
       "    <tr>\n",
       "      <th>2</th>\n",
       "      <td>2010-07-20</td>\n",
       "      <td>0.1</td>\n",
       "      <td>0.1</td>\n",
       "      <td>0.1</td>\n",
       "      <td>0.1</td>\n",
       "      <td>260.0</td>\n",
       "      <td>0.0</td>\n",
       "    </tr>\n",
       "    <tr>\n",
       "      <th>3</th>\n",
       "      <td>2010-07-21</td>\n",
       "      <td>0.1</td>\n",
       "      <td>0.1</td>\n",
       "      <td>0.1</td>\n",
       "      <td>0.1</td>\n",
       "      <td>580.0</td>\n",
       "      <td>0.0</td>\n",
       "    </tr>\n",
       "    <tr>\n",
       "      <th>4</th>\n",
       "      <td>2010-07-22</td>\n",
       "      <td>0.1</td>\n",
       "      <td>0.1</td>\n",
       "      <td>0.1</td>\n",
       "      <td>0.1</td>\n",
       "      <td>2160.0</td>\n",
       "      <td>0.0</td>\n",
       "    </tr>\n",
       "  </tbody>\n",
       "</table>\n",
       "</div>"
      ],
      "text/plain": [
       "        Date  Price  Open  High  Low    Vol.  Change %\n",
       "0 2010-07-18    0.1   0.0   0.1  0.1    80.0       0.0\n",
       "1 2010-07-19    0.1   0.1   0.1  0.1   570.0       0.0\n",
       "2 2010-07-20    0.1   0.1   0.1  0.1   260.0       0.0\n",
       "3 2010-07-21    0.1   0.1   0.1  0.1   580.0       0.0\n",
       "4 2010-07-22    0.1   0.1   0.1  0.1  2160.0       0.0"
      ]
     },
     "execution_count": 41,
     "metadata": {},
     "output_type": "execute_result"
    }
   ],
   "source": [
    "BTC_raw_8.head()"
   ]
  },
  {
   "cell_type": "markdown",
   "metadata": {},
   "source": [
    "Porcentaje - Etapa 3\n",
    "\n",
    "Se modifica el nombre de la variable [Change %] por uno más sencillo de tratar (sin espacio y símbolo %)"
   ]
  },
  {
   "cell_type": "code",
   "execution_count": 42,
   "metadata": {},
   "outputs": [],
   "source": [
    "# Se renombra la variable y se crea la base de datos BTC\n",
    "BTC = BTC_raw_8.rename(columns={'Change %':'Percentage_diff'})"
   ]
  },
  {
   "cell_type": "code",
   "execution_count": 43,
   "metadata": {},
   "outputs": [
    {
     "data": {
      "text/html": [
       "<div>\n",
       "<style scoped>\n",
       "    .dataframe tbody tr th:only-of-type {\n",
       "        vertical-align: middle;\n",
       "    }\n",
       "\n",
       "    .dataframe tbody tr th {\n",
       "        vertical-align: top;\n",
       "    }\n",
       "\n",
       "    .dataframe thead th {\n",
       "        text-align: right;\n",
       "    }\n",
       "</style>\n",
       "<table border=\"1\" class=\"dataframe\">\n",
       "  <thead>\n",
       "    <tr style=\"text-align: right;\">\n",
       "      <th></th>\n",
       "      <th>Date</th>\n",
       "      <th>Price</th>\n",
       "      <th>Open</th>\n",
       "      <th>High</th>\n",
       "      <th>Low</th>\n",
       "      <th>Vol.</th>\n",
       "      <th>Percentage_diff</th>\n",
       "    </tr>\n",
       "  </thead>\n",
       "  <tbody>\n",
       "    <tr>\n",
       "      <th>4381</th>\n",
       "      <td>2022-07-16</td>\n",
       "      <td>21209.9</td>\n",
       "      <td>20825.2</td>\n",
       "      <td>21561.3</td>\n",
       "      <td>20484.4</td>\n",
       "      <td>136890.0</td>\n",
       "      <td>1.85</td>\n",
       "    </tr>\n",
       "    <tr>\n",
       "      <th>4382</th>\n",
       "      <td>2022-07-17</td>\n",
       "      <td>20785.6</td>\n",
       "      <td>21209.8</td>\n",
       "      <td>21654.4</td>\n",
       "      <td>20755.2</td>\n",
       "      <td>132810.0</td>\n",
       "      <td>-2.00</td>\n",
       "    </tr>\n",
       "    <tr>\n",
       "      <th>4383</th>\n",
       "      <td>2022-07-18</td>\n",
       "      <td>22525.8</td>\n",
       "      <td>20785.6</td>\n",
       "      <td>22714.9</td>\n",
       "      <td>20770.6</td>\n",
       "      <td>279720.0</td>\n",
       "      <td>8.37</td>\n",
       "    </tr>\n",
       "    <tr>\n",
       "      <th>4384</th>\n",
       "      <td>2022-07-19</td>\n",
       "      <td>23410.2</td>\n",
       "      <td>22529.3</td>\n",
       "      <td>23757.3</td>\n",
       "      <td>21581.8</td>\n",
       "      <td>308910.0</td>\n",
       "      <td>3.93</td>\n",
       "    </tr>\n",
       "    <tr>\n",
       "      <th>4385</th>\n",
       "      <td>2022-07-20</td>\n",
       "      <td>23149.1</td>\n",
       "      <td>23412.0</td>\n",
       "      <td>23429.9</td>\n",
       "      <td>22965.9</td>\n",
       "      <td>290210.0</td>\n",
       "      <td>-1.12</td>\n",
       "    </tr>\n",
       "  </tbody>\n",
       "</table>\n",
       "</div>"
      ],
      "text/plain": [
       "           Date    Price     Open     High      Low      Vol.  Percentage_diff\n",
       "4381 2022-07-16  21209.9  20825.2  21561.3  20484.4  136890.0             1.85\n",
       "4382 2022-07-17  20785.6  21209.8  21654.4  20755.2  132810.0            -2.00\n",
       "4383 2022-07-18  22525.8  20785.6  22714.9  20770.6  279720.0             8.37\n",
       "4384 2022-07-19  23410.2  22529.3  23757.3  21581.8  308910.0             3.93\n",
       "4385 2022-07-20  23149.1  23412.0  23429.9  22965.9  290210.0            -1.12"
      ]
     },
     "execution_count": 43,
     "metadata": {},
     "output_type": "execute_result"
    }
   ],
   "source": [
    "BTC.tail()"
   ]
  },
  {
   "cell_type": "markdown",
   "metadata": {},
   "source": [
    "Se genera la columna [Target] que se utilizará en los modelos de ML\n",
    "* Se otorga valor 0 => Porcetage_diff <= 0\n",
    "* Se otorga valor 1 => Porcentage_diff > 0 "
   ]
  },
  {
   "cell_type": "code",
   "execution_count": 44,
   "metadata": {},
   "outputs": [],
   "source": [
    "# Se crea la columna [Target]\n",
    "BTC [\"Target\"] = BTC [\"Percentage_diff\"]"
   ]
  },
  {
   "cell_type": "code",
   "execution_count": 45,
   "metadata": {},
   "outputs": [
    {
     "data": {
      "text/html": [
       "<div>\n",
       "<style scoped>\n",
       "    .dataframe tbody tr th:only-of-type {\n",
       "        vertical-align: middle;\n",
       "    }\n",
       "\n",
       "    .dataframe tbody tr th {\n",
       "        vertical-align: top;\n",
       "    }\n",
       "\n",
       "    .dataframe thead th {\n",
       "        text-align: right;\n",
       "    }\n",
       "</style>\n",
       "<table border=\"1\" class=\"dataframe\">\n",
       "  <thead>\n",
       "    <tr style=\"text-align: right;\">\n",
       "      <th></th>\n",
       "      <th>Date</th>\n",
       "      <th>Price</th>\n",
       "      <th>Open</th>\n",
       "      <th>High</th>\n",
       "      <th>Low</th>\n",
       "      <th>Vol.</th>\n",
       "      <th>Percentage_diff</th>\n",
       "      <th>Target</th>\n",
       "    </tr>\n",
       "  </thead>\n",
       "  <tbody>\n",
       "    <tr>\n",
       "      <th>4381</th>\n",
       "      <td>2022-07-16</td>\n",
       "      <td>21209.9</td>\n",
       "      <td>20825.2</td>\n",
       "      <td>21561.3</td>\n",
       "      <td>20484.4</td>\n",
       "      <td>136890.0</td>\n",
       "      <td>1.85</td>\n",
       "      <td>1.85</td>\n",
       "    </tr>\n",
       "    <tr>\n",
       "      <th>4382</th>\n",
       "      <td>2022-07-17</td>\n",
       "      <td>20785.6</td>\n",
       "      <td>21209.8</td>\n",
       "      <td>21654.4</td>\n",
       "      <td>20755.2</td>\n",
       "      <td>132810.0</td>\n",
       "      <td>-2.00</td>\n",
       "      <td>-2.00</td>\n",
       "    </tr>\n",
       "    <tr>\n",
       "      <th>4383</th>\n",
       "      <td>2022-07-18</td>\n",
       "      <td>22525.8</td>\n",
       "      <td>20785.6</td>\n",
       "      <td>22714.9</td>\n",
       "      <td>20770.6</td>\n",
       "      <td>279720.0</td>\n",
       "      <td>8.37</td>\n",
       "      <td>8.37</td>\n",
       "    </tr>\n",
       "    <tr>\n",
       "      <th>4384</th>\n",
       "      <td>2022-07-19</td>\n",
       "      <td>23410.2</td>\n",
       "      <td>22529.3</td>\n",
       "      <td>23757.3</td>\n",
       "      <td>21581.8</td>\n",
       "      <td>308910.0</td>\n",
       "      <td>3.93</td>\n",
       "      <td>3.93</td>\n",
       "    </tr>\n",
       "    <tr>\n",
       "      <th>4385</th>\n",
       "      <td>2022-07-20</td>\n",
       "      <td>23149.1</td>\n",
       "      <td>23412.0</td>\n",
       "      <td>23429.9</td>\n",
       "      <td>22965.9</td>\n",
       "      <td>290210.0</td>\n",
       "      <td>-1.12</td>\n",
       "      <td>-1.12</td>\n",
       "    </tr>\n",
       "  </tbody>\n",
       "</table>\n",
       "</div>"
      ],
      "text/plain": [
       "           Date    Price     Open     High      Low      Vol.  \\\n",
       "4381 2022-07-16  21209.9  20825.2  21561.3  20484.4  136890.0   \n",
       "4382 2022-07-17  20785.6  21209.8  21654.4  20755.2  132810.0   \n",
       "4383 2022-07-18  22525.8  20785.6  22714.9  20770.6  279720.0   \n",
       "4384 2022-07-19  23410.2  22529.3  23757.3  21581.8  308910.0   \n",
       "4385 2022-07-20  23149.1  23412.0  23429.9  22965.9  290210.0   \n",
       "\n",
       "      Percentage_diff  Target  \n",
       "4381             1.85    1.85  \n",
       "4382            -2.00   -2.00  \n",
       "4383             8.37    8.37  \n",
       "4384             3.93    3.93  \n",
       "4385            -1.12   -1.12  "
      ]
     },
     "execution_count": 45,
     "metadata": {},
     "output_type": "execute_result"
    }
   ],
   "source": [
    "BTC.tail()"
   ]
  },
  {
   "cell_type": "code",
   "execution_count": 46,
   "metadata": {},
   "outputs": [],
   "source": [
    "# Se localizan las diferencias inferiores e iguales a 0 y se le aplica el valor 0\n",
    "# Se localizan las diferencias superiores a 0 y se le aplica el valor 1\n",
    "BTC.loc[BTC.Percentage_diff>0, \"Target\"]=1\n",
    "BTC.loc[BTC.Percentage_diff<=0, \"Target\"]=0"
   ]
  },
  {
   "cell_type": "code",
   "execution_count": 47,
   "metadata": {},
   "outputs": [
    {
     "data": {
      "text/html": [
       "<div>\n",
       "<style scoped>\n",
       "    .dataframe tbody tr th:only-of-type {\n",
       "        vertical-align: middle;\n",
       "    }\n",
       "\n",
       "    .dataframe tbody tr th {\n",
       "        vertical-align: top;\n",
       "    }\n",
       "\n",
       "    .dataframe thead th {\n",
       "        text-align: right;\n",
       "    }\n",
       "</style>\n",
       "<table border=\"1\" class=\"dataframe\">\n",
       "  <thead>\n",
       "    <tr style=\"text-align: right;\">\n",
       "      <th></th>\n",
       "      <th>Date</th>\n",
       "      <th>Price</th>\n",
       "      <th>Open</th>\n",
       "      <th>High</th>\n",
       "      <th>Low</th>\n",
       "      <th>Vol.</th>\n",
       "      <th>Percentage_diff</th>\n",
       "      <th>Target</th>\n",
       "    </tr>\n",
       "  </thead>\n",
       "  <tbody>\n",
       "    <tr>\n",
       "      <th>4381</th>\n",
       "      <td>2022-07-16</td>\n",
       "      <td>21209.9</td>\n",
       "      <td>20825.2</td>\n",
       "      <td>21561.3</td>\n",
       "      <td>20484.4</td>\n",
       "      <td>136890.0</td>\n",
       "      <td>1.85</td>\n",
       "      <td>1.0</td>\n",
       "    </tr>\n",
       "    <tr>\n",
       "      <th>4382</th>\n",
       "      <td>2022-07-17</td>\n",
       "      <td>20785.6</td>\n",
       "      <td>21209.8</td>\n",
       "      <td>21654.4</td>\n",
       "      <td>20755.2</td>\n",
       "      <td>132810.0</td>\n",
       "      <td>-2.00</td>\n",
       "      <td>0.0</td>\n",
       "    </tr>\n",
       "    <tr>\n",
       "      <th>4383</th>\n",
       "      <td>2022-07-18</td>\n",
       "      <td>22525.8</td>\n",
       "      <td>20785.6</td>\n",
       "      <td>22714.9</td>\n",
       "      <td>20770.6</td>\n",
       "      <td>279720.0</td>\n",
       "      <td>8.37</td>\n",
       "      <td>1.0</td>\n",
       "    </tr>\n",
       "    <tr>\n",
       "      <th>4384</th>\n",
       "      <td>2022-07-19</td>\n",
       "      <td>23410.2</td>\n",
       "      <td>22529.3</td>\n",
       "      <td>23757.3</td>\n",
       "      <td>21581.8</td>\n",
       "      <td>308910.0</td>\n",
       "      <td>3.93</td>\n",
       "      <td>1.0</td>\n",
       "    </tr>\n",
       "    <tr>\n",
       "      <th>4385</th>\n",
       "      <td>2022-07-20</td>\n",
       "      <td>23149.1</td>\n",
       "      <td>23412.0</td>\n",
       "      <td>23429.9</td>\n",
       "      <td>22965.9</td>\n",
       "      <td>290210.0</td>\n",
       "      <td>-1.12</td>\n",
       "      <td>0.0</td>\n",
       "    </tr>\n",
       "  </tbody>\n",
       "</table>\n",
       "</div>"
      ],
      "text/plain": [
       "           Date    Price     Open     High      Low      Vol.  \\\n",
       "4381 2022-07-16  21209.9  20825.2  21561.3  20484.4  136890.0   \n",
       "4382 2022-07-17  20785.6  21209.8  21654.4  20755.2  132810.0   \n",
       "4383 2022-07-18  22525.8  20785.6  22714.9  20770.6  279720.0   \n",
       "4384 2022-07-19  23410.2  22529.3  23757.3  21581.8  308910.0   \n",
       "4385 2022-07-20  23149.1  23412.0  23429.9  22965.9  290210.0   \n",
       "\n",
       "      Percentage_diff  Target  \n",
       "4381             1.85     1.0  \n",
       "4382            -2.00     0.0  \n",
       "4383             8.37     1.0  \n",
       "4384             3.93     1.0  \n",
       "4385            -1.12     0.0  "
      ]
     },
     "execution_count": 47,
     "metadata": {},
     "output_type": "execute_result"
    }
   ],
   "source": [
    "BTC.tail()"
   ]
  },
  {
   "cell_type": "markdown",
   "metadata": {},
   "source": [
    "### Exportando la base de datos"
   ]
  },
  {
   "cell_type": "code",
   "execution_count": 49,
   "metadata": {},
   "outputs": [],
   "source": [
    "BTC.to_csv (\"D:\\Luciano\\Programación\\Data science\\Trabajo final\\Bases de datos para modelos\\BTC_final.csv\", index=False, sep=\";\")"
   ]
  }
 ],
 "metadata": {
  "kernelspec": {
   "display_name": "Python 3 (ipykernel)",
   "language": "python",
   "name": "python3"
  },
  "language_info": {
   "codemirror_mode": {
    "name": "ipython",
    "version": 3
   },
   "file_extension": ".py",
   "mimetype": "text/x-python",
   "name": "python",
   "nbconvert_exporter": "python",
   "pygments_lexer": "ipython3",
   "version": "3.9.12"
  }
 },
 "nbformat": 4,
 "nbformat_minor": 4
}
