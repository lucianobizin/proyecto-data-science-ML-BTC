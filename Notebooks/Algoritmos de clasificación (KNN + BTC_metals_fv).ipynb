{
 "cells": [
  {
   "cell_type": "markdown",
   "metadata": {},
   "source": [
    "# Fecha de entrega: 27/08/2022 (corresponde a clase 20)"
   ]
  },
  {
   "cell_type": "markdown",
   "metadata": {},
   "source": [
    "# Algoritmo de clasificación: K-Nearest Neighbors"
   ]
  },
  {
   "cell_type": "markdown",
   "metadata": {},
   "source": [
    "# Diccionario"
   ]
  },
  {
   "cell_type": "markdown",
   "metadata": {},
   "source": [
    "**BTC_metals_fv** (reducido según las conclusiones referidas en el punto 7 del documento \"Primera Entrega\")\n",
    "\n",
    "- **Date**: fecha en YYYY-MM-DD (object [ns])\n",
    "- **Price**: precio de cierre de BTC en el día de la fecha (USD) (float) (Variable numérica continua)\n",
    "- **Open**: precio de apertura de BTC en el día de la fecha (USD) (float) (Variable numérica continua)\n",
    "- **High**: precio más alto de BTC en el día de la fecha (USD) (float) (Variable numérica continua)\n",
    "- **Low**: precio más bajo de BTC en el día de la fecha (USD) (float) (Variable numérica continua)\n",
    "- **Vol.**: volumen de BTC (Número de intercambios) en el día de la fecha (float) (Variable numérica continua)\n",
    "- **Percentage_diff**: diferencia porcentual del precio de BTC en la fecha [x+1] con respecto a la fecha [x] (float) (Variable numérica continua) \n",
    "- **Target**: 1 indica que en el día de la fecha el precio de BTC subió, y 0 que el precio bajó (float) (Se la tratará como variable categórica)\n",
    "- **Price_gold**: indica el precio de cierre del oro en el día de la fecha (float) (USD) (variable numérica continua)\n",
    "- **Perc_diff_gold**: diferencial porcentual del precio del oro de la fecha [x+1] con respecto a la fecha [x] (float) (variable numérica continua)\n",
    "- **Price_copper**: indica el precio de cierre del cobre en el día de la fecha (float) (USD) (variable numérica continua)\n",
    "- **Perc_diff_copper**:  diferencial porcentual del precio del cobre en la fecha [x+1] con respecto a la fecha [x] (float) (variable numérica continua)\n",
    "- **Price_platinum**: indica el precio de cierre del platino en el día de la fecha (float) (USD) (variable numérica continua)\n",
    "- **Perc_diff_platinum**:  diferencial porcentual del precio del platino en la fecha [x+1] con respecto a la fecha [x] (float) (variable numérica continua)\n",
    "- **Price_palladium**: indica el precio de cierre del paladio en el día de la fecha (float) (USD) (variable numérica continua)\n",
    "- **Perc_diff_palladium**: diferencial porcentual del precio del paladio en la fecha [x+1] con respecto a la fecha [x] (float) (variable numérica continua)\n",
    "- **Trend**: indica la tendencia de la serie de tiempo en relación con la variable [Price] (float) (variable numérica continua)\n",
    "- **Residuals**: indica los residuales de la serie de tiempo en relación con la variable [Price] (float) (variable numérica continua)"
   ]
  },
  {
   "cell_type": "markdown",
   "metadata": {},
   "source": [
    "# Librerías"
   ]
  },
  {
   "cell_type": "code",
   "execution_count": 1,
   "metadata": {},
   "outputs": [
    {
     "name": "stderr",
     "output_type": "stream",
     "text": [
      "C:\\Users\\lucia\\anaconda3\\envs\\acjup\\lib\\site-packages\\statsmodels\\tsa\\base\\tsa_model.py:7: FutureWarning: pandas.Int64Index is deprecated and will be removed from pandas in a future version. Use pandas.Index with the appropriate dtype instead.\n",
      "  from pandas import (to_datetime, Int64Index, DatetimeIndex, Period,\n",
      "C:\\Users\\lucia\\anaconda3\\envs\\acjup\\lib\\site-packages\\statsmodels\\tsa\\base\\tsa_model.py:7: FutureWarning: pandas.Float64Index is deprecated and will be removed from pandas in a future version. Use pandas.Index with the appropriate dtype instead.\n",
      "  from pandas import (to_datetime, Int64Index, DatetimeIndex, Period,\n"
     ]
    }
   ],
   "source": [
    "import numpy as np\n",
    "import pandas as pd\n",
    "from matplotlib import pyplot as plt\n",
    "import plotly.express as px\n",
    "import seaborn as sns\n",
    "import pandas_profiling\n",
    "import statsmodels.api as sm\n",
    "from pandas.plotting import lag_plot\n",
    "from statsmodels.graphics.tsaplots import plot_acf\n",
    "from matplotlib.cm import ScalarMappable\n",
    "\n",
    "from sklearn.model_selection import train_test_split\n",
    "from sklearn.preprocessing import MinMaxScaler\n",
    "from sklearn.neighbors import KNeighborsClassifier\n",
    "from sklearn.metrics import accuracy_score\n",
    "from sklearn.model_selection import GridSearchCV \n",
    "\n",
    "import warnings\n",
    "warnings.filterwarnings('ignore')\n",
    "\n",
    "%matplotlib inline\n",
    "sns.set_style('darkgrid')\n",
    "\n",
    "pd.set_option('display.max_rows', None)\n",
    "pd.set_option('display.max_columns', None)\n",
    "pd.set_option('display.width', None)\n",
    "pd.set_option('display.max_colwidth', None)"
   ]
  },
  {
   "cell_type": "markdown",
   "metadata": {},
   "source": [
    "# Data acquisition"
   ]
  },
  {
   "cell_type": "code",
   "execution_count": 2,
   "metadata": {},
   "outputs": [],
   "source": [
    "def gdriveColabPath(sharing_url):\n",
    "  file_id=sharing_url.split('/')[-2]\n",
    "  dwn_url='https://drive.google.com/uc?id=' + file_id\n",
    "  return dwn_url"
   ]
  },
  {
   "cell_type": "markdown",
   "metadata": {},
   "source": [
    "## Adquiriendo BTC_metals"
   ]
  },
  {
   "cell_type": "code",
   "execution_count": 3,
   "metadata": {},
   "outputs": [],
   "source": [
    "# Se carga la base de datos de BTC_metals desde la carpeta compartida en el Google Drive\n",
    "sharing_url = \"https://drive.google.com/file/d/1lU7RCERkjbbrHv8OiQb2EI4PIpk_3BW0/view?usp=sharing\""
   ]
  },
  {
   "cell_type": "code",
   "execution_count": 4,
   "metadata": {},
   "outputs": [
    {
     "data": {
      "text/html": [
       "<div>\n",
       "<style scoped>\n",
       "    .dataframe tbody tr th:only-of-type {\n",
       "        vertical-align: middle;\n",
       "    }\n",
       "\n",
       "    .dataframe tbody tr th {\n",
       "        vertical-align: top;\n",
       "    }\n",
       "\n",
       "    .dataframe thead th {\n",
       "        text-align: right;\n",
       "    }\n",
       "</style>\n",
       "<table border=\"1\" class=\"dataframe\">\n",
       "  <thead>\n",
       "    <tr style=\"text-align: right;\">\n",
       "      <th></th>\n",
       "      <th>Date</th>\n",
       "      <th>Price</th>\n",
       "      <th>Open</th>\n",
       "      <th>High</th>\n",
       "      <th>Low</th>\n",
       "      <th>Vol.</th>\n",
       "      <th>Percentage_diff</th>\n",
       "      <th>Target</th>\n",
       "      <th>Price_gold</th>\n",
       "      <th>Perc_diff_gold</th>\n",
       "      <th>Price_copper</th>\n",
       "      <th>Perc_diff_copper</th>\n",
       "      <th>Price_aluminium</th>\n",
       "      <th>Perc_diff_aluminium</th>\n",
       "      <th>Trend</th>\n",
       "      <th>Residuals</th>\n",
       "    </tr>\n",
       "  </thead>\n",
       "  <tbody>\n",
       "    <tr>\n",
       "      <th>0</th>\n",
       "      <td>2014-06-23</td>\n",
       "      <td>591.2</td>\n",
       "      <td>603.6</td>\n",
       "      <td>604.7</td>\n",
       "      <td>582.9</td>\n",
       "      <td>2650.0</td>\n",
       "      <td>-2.06</td>\n",
       "      <td>0.0</td>\n",
       "      <td>1318.0</td>\n",
       "      <td>0.14</td>\n",
       "      <td>3.146</td>\n",
       "      <td>0.90</td>\n",
       "      <td>1892.5</td>\n",
       "      <td>0.21</td>\n",
       "      <td>NaN</td>\n",
       "      <td>NaN</td>\n",
       "    </tr>\n",
       "    <tr>\n",
       "      <th>1</th>\n",
       "      <td>2014-06-24</td>\n",
       "      <td>588.8</td>\n",
       "      <td>591.2</td>\n",
       "      <td>595.7</td>\n",
       "      <td>585.4</td>\n",
       "      <td>3080.0</td>\n",
       "      <td>-0.41</td>\n",
       "      <td>0.0</td>\n",
       "      <td>1320.9</td>\n",
       "      <td>0.22</td>\n",
       "      <td>3.147</td>\n",
       "      <td>0.03</td>\n",
       "      <td>1901.0</td>\n",
       "      <td>0.45</td>\n",
       "      <td>NaN</td>\n",
       "      <td>NaN</td>\n",
       "    </tr>\n",
       "    <tr>\n",
       "      <th>2</th>\n",
       "      <td>2014-06-25</td>\n",
       "      <td>568.5</td>\n",
       "      <td>588.8</td>\n",
       "      <td>589.6</td>\n",
       "      <td>566.9</td>\n",
       "      <td>3090.0</td>\n",
       "      <td>-3.45</td>\n",
       "      <td>0.0</td>\n",
       "      <td>1322.2</td>\n",
       "      <td>0.10</td>\n",
       "      <td>3.160</td>\n",
       "      <td>0.41</td>\n",
       "      <td>1903.5</td>\n",
       "      <td>0.13</td>\n",
       "      <td>NaN</td>\n",
       "      <td>NaN</td>\n",
       "    </tr>\n",
       "    <tr>\n",
       "      <th>3</th>\n",
       "      <td>2014-06-26</td>\n",
       "      <td>582.7</td>\n",
       "      <td>568.5</td>\n",
       "      <td>582.7</td>\n",
       "      <td>565.8</td>\n",
       "      <td>4150.0</td>\n",
       "      <td>2.51</td>\n",
       "      <td>1.0</td>\n",
       "      <td>1316.1</td>\n",
       "      <td>-0.46</td>\n",
       "      <td>3.161</td>\n",
       "      <td>0.03</td>\n",
       "      <td>1898.0</td>\n",
       "      <td>-0.29</td>\n",
       "      <td>590.300000</td>\n",
       "      <td>15.543527</td>\n",
       "    </tr>\n",
       "    <tr>\n",
       "      <th>4</th>\n",
       "      <td>2014-06-27</td>\n",
       "      <td>602.2</td>\n",
       "      <td>582.7</td>\n",
       "      <td>603.9</td>\n",
       "      <td>580.1</td>\n",
       "      <td>3390.0</td>\n",
       "      <td>3.35</td>\n",
       "      <td>1.0</td>\n",
       "      <td>1319.0</td>\n",
       "      <td>0.22</td>\n",
       "      <td>3.149</td>\n",
       "      <td>-0.38</td>\n",
       "      <td>1885.0</td>\n",
       "      <td>-0.68</td>\n",
       "      <td>596.571429</td>\n",
       "      <td>20.802061</td>\n",
       "    </tr>\n",
       "  </tbody>\n",
       "</table>\n",
       "</div>"
      ],
      "text/plain": [
       "         Date  Price   Open   High    Low    Vol.  Percentage_diff  Target  \\\n",
       "0  2014-06-23  591.2  603.6  604.7  582.9  2650.0            -2.06     0.0   \n",
       "1  2014-06-24  588.8  591.2  595.7  585.4  3080.0            -0.41     0.0   \n",
       "2  2014-06-25  568.5  588.8  589.6  566.9  3090.0            -3.45     0.0   \n",
       "3  2014-06-26  582.7  568.5  582.7  565.8  4150.0             2.51     1.0   \n",
       "4  2014-06-27  602.2  582.7  603.9  580.1  3390.0             3.35     1.0   \n",
       "\n",
       "   Price_gold  Perc_diff_gold  Price_copper  Perc_diff_copper  \\\n",
       "0      1318.0            0.14         3.146              0.90   \n",
       "1      1320.9            0.22         3.147              0.03   \n",
       "2      1322.2            0.10         3.160              0.41   \n",
       "3      1316.1           -0.46         3.161              0.03   \n",
       "4      1319.0            0.22         3.149             -0.38   \n",
       "\n",
       "   Price_aluminium  Perc_diff_aluminium       Trend  Residuals  \n",
       "0           1892.5                 0.21         NaN        NaN  \n",
       "1           1901.0                 0.45         NaN        NaN  \n",
       "2           1903.5                 0.13         NaN        NaN  \n",
       "3           1898.0                -0.29  590.300000  15.543527  \n",
       "4           1885.0                -0.68  596.571429  20.802061  "
      ]
     },
     "execution_count": 4,
     "metadata": {},
     "output_type": "execute_result"
    }
   ],
   "source": [
    "dwn_url=gdriveColabPath(sharing_url)\n",
    "BTC_metals_fv_df = pd.read_csv(dwn_url, sep=\";\", decimal=\".\")\n",
    "BTC_metals_fv_df.head()"
   ]
  },
  {
   "cell_type": "markdown",
   "metadata": {},
   "source": [
    "# Data wrangling"
   ]
  },
  {
   "cell_type": "markdown",
   "metadata": {},
   "source": [
    "## Análisis pre-modelado"
   ]
  },
  {
   "cell_type": "code",
   "execution_count": 5,
   "metadata": {},
   "outputs": [
    {
     "data": {
      "text/plain": [
       "(2949, 16)"
      ]
     },
     "execution_count": 5,
     "metadata": {},
     "output_type": "execute_result"
    }
   ],
   "source": [
    "# Registros y columnas\n",
    "BTC_metals_fv_df.shape"
   ]
  },
  {
   "cell_type": "code",
   "execution_count": 6,
   "metadata": {},
   "outputs": [
    {
     "data": {
      "text/plain": [
       "Index(['Date', 'Price', 'Open', 'High', 'Low', 'Vol.', 'Percentage_diff',\n",
       "       'Target', 'Price_gold', 'Perc_diff_gold', 'Price_copper',\n",
       "       'Perc_diff_copper', 'Price_aluminium', 'Perc_diff_aluminium', 'Trend',\n",
       "       'Residuals'],\n",
       "      dtype='object')"
      ]
     },
     "execution_count": 6,
     "metadata": {},
     "output_type": "execute_result"
    }
   ],
   "source": [
    "BTC_metals_fv_df.columns"
   ]
  },
  {
   "cell_type": "code",
   "execution_count": 7,
   "metadata": {},
   "outputs": [
    {
     "data": {
      "text/plain": [
       "Date                    object\n",
       "Price                  float64\n",
       "Open                   float64\n",
       "High                   float64\n",
       "Low                    float64\n",
       "Vol.                   float64\n",
       "Percentage_diff        float64\n",
       "Target                 float64\n",
       "Price_gold             float64\n",
       "Perc_diff_gold         float64\n",
       "Price_copper           float64\n",
       "Perc_diff_copper       float64\n",
       "Price_aluminium        float64\n",
       "Perc_diff_aluminium    float64\n",
       "Trend                  float64\n",
       "Residuals              float64\n",
       "dtype: object"
      ]
     },
     "execution_count": 7,
     "metadata": {},
     "output_type": "execute_result"
    }
   ],
   "source": [
    "# Conociendo los tipos de datos de las variables\n",
    "BTC_metals_fv_df.dtypes"
   ]
  },
  {
   "cell_type": "code",
   "execution_count": 8,
   "metadata": {},
   "outputs": [
    {
     "data": {
      "text/plain": [
       "Date                   2949\n",
       "Price                  2949\n",
       "Open                   2949\n",
       "High                   2949\n",
       "Low                    2949\n",
       "Vol.                   2949\n",
       "Percentage_diff        2949\n",
       "Target                 2949\n",
       "Price_gold             2949\n",
       "Perc_diff_gold         2949\n",
       "Price_copper           2949\n",
       "Perc_diff_copper       2949\n",
       "Price_aluminium        2949\n",
       "Perc_diff_aluminium    2949\n",
       "Trend                  2943\n",
       "Residuals              2943\n",
       "dtype: int64"
      ]
     },
     "execution_count": 8,
     "metadata": {},
     "output_type": "execute_result"
    }
   ],
   "source": [
    "# Columnas y cantidad de registros\n",
    "BTC_metals_fv_df.count()"
   ]
  },
  {
   "cell_type": "code",
   "execution_count": 9,
   "metadata": {},
   "outputs": [
    {
     "data": {
      "text/plain": [
       "Date                   0\n",
       "Price                  0\n",
       "Open                   0\n",
       "High                   0\n",
       "Low                    0\n",
       "Vol.                   0\n",
       "Percentage_diff        0\n",
       "Target                 0\n",
       "Price_gold             0\n",
       "Perc_diff_gold         0\n",
       "Price_copper           0\n",
       "Perc_diff_copper       0\n",
       "Price_aluminium        0\n",
       "Perc_diff_aluminium    0\n",
       "Trend                  6\n",
       "Residuals              6\n",
       "dtype: int64"
      ]
     },
     "execution_count": 9,
     "metadata": {},
     "output_type": "execute_result"
    }
   ],
   "source": [
    "# Se detectan valores NaN\n",
    "BTC_metals_fv_df.isnull().sum()"
   ]
  },
  {
   "cell_type": "markdown",
   "metadata": {},
   "source": [
    "**Observación 1: missing values**\n",
    "\n",
    "Se observaron 12 missing values en \"BTC_metals_fv.csv\" => 6 valores NaN en la variable [Trend] y 6 valores NaN en la variable [Residuals]. \n",
    "\n",
    "Esto implica la necesidad de tomar una decisión con respecto a este tipo de valores en una instancia previa al modelado. \n",
    "\n",
    "Se descarta rellenar los missing values con promedios de los valores de los registros previos y/o posteriores a los NaN por varias razones:\n",
    "\n",
    "1. Dado que en ambas variables, 3 de los 6 valores NaN se encuentran al principio y los restantes tres al final de la serie, no se puede hacer un promedio con valores anteriores y posteriores en el marco de la serie de tiempo.\n",
    "\n",
    "Solución:\n",
    "\n",
    "- Entendiendo que KNN no acepta missing values, y por lo dicho en 1, en este caso particular se procede a su eliminación. "
   ]
  },
  {
   "cell_type": "markdown",
   "metadata": {},
   "source": [
    "**Observación 2: modificación de la variable [Target]**\n",
    "    \n",
    "En \"Algoritmo de clasificación (Decision Tree + BTC_metals).ipynb\" se reflexionó sobre la necesidad de realizar un shift (-1) en la variable [Target], dado que en cualquier caso real que se intente predecir si el precio de BTC subirá o bajará en el corto plazo, el científico de datos no posee el valor de [Price] (precio de cierre de BTC) del nuevo registro que busca predecir. Al respecto existen dos soluciones:\n",
    "\n",
    "1. Eliminar las variables [Price], [High], [Low] y solo dejar la variable [Open] (el único dato real que se tiene al momento de predecir), a saber, una situación que eliminaría variables con una muy fuerte correlación positiva entre sí.\n",
    "\n",
    "\n",
    "2. Realizar el shift mencionado arriba con respecto a los registros de la variable [Target]. Así se podrían conservar las columnas expresadas en \"1\" (Observación 2). Se entiende que luego de la modificación el modelo ya estaría orientado a predecir si el precio de BTC subirá o bajará en el futuro. De esta forma también se evita eliminar [Percentage_diff] tal como fue eliminado en \"Algoritmo de clasificación (Decision Tree + BTC_metals).ipynb\".\n",
    "\n",
    "Nota importante: \n",
    "- Dado que se está intentando predecir el comportamiento de una serie de tiempo, se debe entrenar el modelo para predecir el futuro. Se recuerda al lector que al momento de intentar predecir el comportamiento futuro de BTC con los modelos que se desarrollarán debajo, se deben introducir los datos del registro inmediatamente anterior al momento que se intenta predecir, y por eso, el modelo debe ser entrenado siguiendo esa misma lógica."
   ]
  },
  {
   "cell_type": "markdown",
   "metadata": {},
   "source": [
    "**Observación 3: la necesidad de escalar los datos**\n",
    "\n",
    "Dado que este tipo de modelo es sensible a las diferencias grandes entre los números se deberá proceder a escalarlos entre 0-1. "
   ]
  },
  {
   "cell_type": "markdown",
   "metadata": {},
   "source": [
    "## Manipulación final para el modelado"
   ]
  },
  {
   "cell_type": "markdown",
   "metadata": {},
   "source": [
    "Se reindexa el data set que se modelará a fin de que la variable [Date] funcione como nuevo índice de la base de datos."
   ]
  },
  {
   "cell_type": "code",
   "execution_count": 10,
   "metadata": {},
   "outputs": [],
   "source": [
    "# Se crea una copia de BTC_metals_fv_df y se la reindexa con la variable [Date] como nuevo índice\n",
    "BTC_metals = BTC_metals_fv_df.set_index(\"Date\")"
   ]
  },
  {
   "cell_type": "code",
   "execution_count": 11,
   "metadata": {
    "scrolled": true
   },
   "outputs": [
    {
     "data": {
      "text/html": [
       "<div>\n",
       "<style scoped>\n",
       "    .dataframe tbody tr th:only-of-type {\n",
       "        vertical-align: middle;\n",
       "    }\n",
       "\n",
       "    .dataframe tbody tr th {\n",
       "        vertical-align: top;\n",
       "    }\n",
       "\n",
       "    .dataframe thead th {\n",
       "        text-align: right;\n",
       "    }\n",
       "</style>\n",
       "<table border=\"1\" class=\"dataframe\">\n",
       "  <thead>\n",
       "    <tr style=\"text-align: right;\">\n",
       "      <th></th>\n",
       "      <th>Price</th>\n",
       "      <th>Open</th>\n",
       "      <th>High</th>\n",
       "      <th>Low</th>\n",
       "      <th>Vol.</th>\n",
       "      <th>Percentage_diff</th>\n",
       "      <th>Target</th>\n",
       "      <th>Price_gold</th>\n",
       "      <th>Perc_diff_gold</th>\n",
       "      <th>Price_copper</th>\n",
       "      <th>Perc_diff_copper</th>\n",
       "      <th>Price_aluminium</th>\n",
       "      <th>Perc_diff_aluminium</th>\n",
       "      <th>Trend</th>\n",
       "      <th>Residuals</th>\n",
       "    </tr>\n",
       "    <tr>\n",
       "      <th>Date</th>\n",
       "      <th></th>\n",
       "      <th></th>\n",
       "      <th></th>\n",
       "      <th></th>\n",
       "      <th></th>\n",
       "      <th></th>\n",
       "      <th></th>\n",
       "      <th></th>\n",
       "      <th></th>\n",
       "      <th></th>\n",
       "      <th></th>\n",
       "      <th></th>\n",
       "      <th></th>\n",
       "      <th></th>\n",
       "      <th></th>\n",
       "    </tr>\n",
       "  </thead>\n",
       "  <tbody>\n",
       "    <tr>\n",
       "      <th>2022-07-15</th>\n",
       "      <td>20825.1</td>\n",
       "      <td>20586.1</td>\n",
       "      <td>21178.1</td>\n",
       "      <td>20393.4</td>\n",
       "      <td>164670.0</td>\n",
       "      <td>1.16</td>\n",
       "      <td>1.0</td>\n",
       "      <td>1703.60</td>\n",
       "      <td>-0.13</td>\n",
       "      <td>3.2455</td>\n",
       "      <td>0.49</td>\n",
       "      <td>2344.0</td>\n",
       "      <td>0.69</td>\n",
       "      <td>20787.614286</td>\n",
       "      <td>52.659204</td>\n",
       "    </tr>\n",
       "    <tr>\n",
       "      <th>2022-07-16</th>\n",
       "      <td>21209.9</td>\n",
       "      <td>20825.2</td>\n",
       "      <td>21561.3</td>\n",
       "      <td>20484.4</td>\n",
       "      <td>136890.0</td>\n",
       "      <td>1.85</td>\n",
       "      <td>1.0</td>\n",
       "      <td>1703.60</td>\n",
       "      <td>0.00</td>\n",
       "      <td>3.2455</td>\n",
       "      <td>0.00</td>\n",
       "      <td>2344.0</td>\n",
       "      <td>0.00</td>\n",
       "      <td>21370.371429</td>\n",
       "      <td>-160.520267</td>\n",
       "    </tr>\n",
       "    <tr>\n",
       "      <th>2022-07-17</th>\n",
       "      <td>20785.6</td>\n",
       "      <td>21209.8</td>\n",
       "      <td>21654.4</td>\n",
       "      <td>20755.2</td>\n",
       "      <td>132810.0</td>\n",
       "      <td>-2.00</td>\n",
       "      <td>0.0</td>\n",
       "      <td>1703.60</td>\n",
       "      <td>0.00</td>\n",
       "      <td>3.2455</td>\n",
       "      <td>0.00</td>\n",
       "      <td>2344.0</td>\n",
       "      <td>0.00</td>\n",
       "      <td>NaN</td>\n",
       "      <td>NaN</td>\n",
       "    </tr>\n",
       "    <tr>\n",
       "      <th>2022-07-18</th>\n",
       "      <td>22525.8</td>\n",
       "      <td>20785.6</td>\n",
       "      <td>22714.9</td>\n",
       "      <td>20770.6</td>\n",
       "      <td>279720.0</td>\n",
       "      <td>8.37</td>\n",
       "      <td>1.0</td>\n",
       "      <td>1710.20</td>\n",
       "      <td>0.39</td>\n",
       "      <td>3.3167</td>\n",
       "      <td>2.18</td>\n",
       "      <td>2435.0</td>\n",
       "      <td>3.88</td>\n",
       "      <td>NaN</td>\n",
       "      <td>NaN</td>\n",
       "    </tr>\n",
       "    <tr>\n",
       "      <th>2022-07-19</th>\n",
       "      <td>23410.2</td>\n",
       "      <td>22529.3</td>\n",
       "      <td>23757.3</td>\n",
       "      <td>21581.8</td>\n",
       "      <td>308910.0</td>\n",
       "      <td>3.93</td>\n",
       "      <td>1.0</td>\n",
       "      <td>1708.05</td>\n",
       "      <td>-0.13</td>\n",
       "      <td>3.2965</td>\n",
       "      <td>-0.61</td>\n",
       "      <td>2386.0</td>\n",
       "      <td>-2.01</td>\n",
       "      <td>NaN</td>\n",
       "      <td>NaN</td>\n",
       "    </tr>\n",
       "  </tbody>\n",
       "</table>\n",
       "</div>"
      ],
      "text/plain": [
       "              Price     Open     High      Low      Vol.  Percentage_diff  \\\n",
       "Date                                                                        \n",
       "2022-07-15  20825.1  20586.1  21178.1  20393.4  164670.0             1.16   \n",
       "2022-07-16  21209.9  20825.2  21561.3  20484.4  136890.0             1.85   \n",
       "2022-07-17  20785.6  21209.8  21654.4  20755.2  132810.0            -2.00   \n",
       "2022-07-18  22525.8  20785.6  22714.9  20770.6  279720.0             8.37   \n",
       "2022-07-19  23410.2  22529.3  23757.3  21581.8  308910.0             3.93   \n",
       "\n",
       "            Target  Price_gold  Perc_diff_gold  Price_copper  \\\n",
       "Date                                                           \n",
       "2022-07-15     1.0     1703.60           -0.13        3.2455   \n",
       "2022-07-16     1.0     1703.60            0.00        3.2455   \n",
       "2022-07-17     0.0     1703.60            0.00        3.2455   \n",
       "2022-07-18     1.0     1710.20            0.39        3.3167   \n",
       "2022-07-19     1.0     1708.05           -0.13        3.2965   \n",
       "\n",
       "            Perc_diff_copper  Price_aluminium  Perc_diff_aluminium  \\\n",
       "Date                                                                 \n",
       "2022-07-15              0.49           2344.0                 0.69   \n",
       "2022-07-16              0.00           2344.0                 0.00   \n",
       "2022-07-17              0.00           2344.0                 0.00   \n",
       "2022-07-18              2.18           2435.0                 3.88   \n",
       "2022-07-19             -0.61           2386.0                -2.01   \n",
       "\n",
       "                   Trend   Residuals  \n",
       "Date                                  \n",
       "2022-07-15  20787.614286   52.659204  \n",
       "2022-07-16  21370.371429 -160.520267  \n",
       "2022-07-17           NaN         NaN  \n",
       "2022-07-18           NaN         NaN  \n",
       "2022-07-19           NaN         NaN  "
      ]
     },
     "execution_count": 11,
     "metadata": {},
     "output_type": "execute_result"
    }
   ],
   "source": [
    "BTC_metals.tail()"
   ]
  },
  {
   "cell_type": "code",
   "execution_count": 12,
   "metadata": {},
   "outputs": [],
   "source": [
    "# Se realiza el shift de la variable Target (explicado arriba - Observación 2)\n",
    "BTC_metals [\"Target\"] = BTC_metals [\"Target\"].shift(-1)"
   ]
  },
  {
   "cell_type": "code",
   "execution_count": 13,
   "metadata": {},
   "outputs": [],
   "source": [
    "# Se eliminan todos los registro NaN (explicado arriba -> Observación 1)\n",
    "BTC_metals = BTC_metals.dropna()"
   ]
  },
  {
   "cell_type": "code",
   "execution_count": 14,
   "metadata": {},
   "outputs": [
    {
     "data": {
      "text/plain": [
       "Price                  0\n",
       "Open                   0\n",
       "High                   0\n",
       "Low                    0\n",
       "Vol.                   0\n",
       "Percentage_diff        0\n",
       "Target                 0\n",
       "Price_gold             0\n",
       "Perc_diff_gold         0\n",
       "Price_copper           0\n",
       "Perc_diff_copper       0\n",
       "Price_aluminium        0\n",
       "Perc_diff_aluminium    0\n",
       "Trend                  0\n",
       "Residuals              0\n",
       "dtype: int64"
      ]
     },
     "execution_count": 14,
     "metadata": {},
     "output_type": "execute_result"
    }
   ],
   "source": [
    "BTC_metals.isnull().sum()"
   ]
  },
  {
   "cell_type": "code",
   "execution_count": 15,
   "metadata": {},
   "outputs": [
    {
     "name": "stdout",
     "output_type": "stream",
     "text": [
      "<class 'pandas.core.frame.DataFrame'>\n",
      "Index: 2943 entries, 2014-06-26 to 2022-07-16\n",
      "Data columns (total 15 columns):\n",
      " #   Column               Non-Null Count  Dtype  \n",
      "---  ------               --------------  -----  \n",
      " 0   Price                2943 non-null   float64\n",
      " 1   Open                 2943 non-null   float64\n",
      " 2   High                 2943 non-null   float64\n",
      " 3   Low                  2943 non-null   float64\n",
      " 4   Vol.                 2943 non-null   float64\n",
      " 5   Percentage_diff      2943 non-null   float64\n",
      " 6   Target               2943 non-null   float64\n",
      " 7   Price_gold           2943 non-null   float64\n",
      " 8   Perc_diff_gold       2943 non-null   float64\n",
      " 9   Price_copper         2943 non-null   float64\n",
      " 10  Perc_diff_copper     2943 non-null   float64\n",
      " 11  Price_aluminium      2943 non-null   float64\n",
      " 12  Perc_diff_aluminium  2943 non-null   float64\n",
      " 13  Trend                2943 non-null   float64\n",
      " 14  Residuals            2943 non-null   float64\n",
      "dtypes: float64(15)\n",
      "memory usage: 367.9+ KB\n"
     ]
    }
   ],
   "source": [
    "BTC_metals.info()"
   ]
  },
  {
   "cell_type": "markdown",
   "metadata": {},
   "source": [
    "# Modelado (KNN)"
   ]
  },
  {
   "cell_type": "markdown",
   "metadata": {},
   "source": [
    "**...Recordando que...**\n",
    "\n",
    "*Objetivo general del proyecto*\n",
    "\n",
    "I.\tDiseñar diversos modelos de machine learning capaces de predecir con cierto grado de previsibilidad positiva (>50/55%) el dinamismo del precio de Bitcoin en el corto plazo, es decir, si el precio de este criptoactivo subirá o bajará en la temporalidad estudiada (1 día).\n",
    "\n",
    "**...Recordando que...**\n",
    "\n",
    "*Objetivo específico del proyecto*\n",
    "\n",
    "III.\tDiseñar diversos modelos de machine learning capaces de predecir con cierto grado de previsibilidad positiva (>50/55%) y a corto plazo, el movimiento alcista o bajista del precio de BTC."
   ]
  },
  {
   "cell_type": "markdown",
   "metadata": {},
   "source": [
    "**Explicación**:\n",
    "\n",
    "En lo que sigue se procederá a realizar varios modelos supervisados de clasificación de tipo \"KNN\". \n",
    "\n",
    "Estos serán configurados con diversos hiperparámetros a fin de encontrar el resultado más óptimo para este data set.\n",
    "\n",
    "La variable target del modelo es la columna [Target] de BTC_metals."
   ]
  },
  {
   "cell_type": "markdown",
   "metadata": {},
   "source": [
    "## Modelo 1"
   ]
  },
  {
   "cell_type": "markdown",
   "metadata": {},
   "source": [
    "Se recortará el data set a fin de poder conocer el accuracy de sus predicciones con valores reales (se separarán los últimos 20 valores)"
   ]
  },
  {
   "cell_type": "code",
   "execution_count": 16,
   "metadata": {},
   "outputs": [],
   "source": [
    "X = BTC_metals.drop([\"Target\"], axis=1)\n",
    "y = BTC_metals[\"Target\"].values.reshape(-1,1)"
   ]
  },
  {
   "cell_type": "code",
   "execution_count": 17,
   "metadata": {},
   "outputs": [],
   "source": [
    "# Se escalan los datos\n",
    "\n",
    "escalador = MinMaxScaler()\n",
    "\n",
    "X = escalador.fit_transform(X)\n",
    "\n",
    "y= escalador.fit_transform(y)"
   ]
  },
  {
   "cell_type": "code",
   "execution_count": 18,
   "metadata": {},
   "outputs": [],
   "source": [
    "# Se separa la data en train y test\n",
    "# Se decide aplicar stratify\n",
    "(X_train, X_test, y_train, y_test) = train_test_split(X, y,\n",
    "                                        stratify=y,\n",
    "                                        test_size=0.30,\n",
    "                                        random_state=11)"
   ]
  },
  {
   "cell_type": "code",
   "execution_count": 19,
   "metadata": {},
   "outputs": [],
   "source": [
    "# Se entrena el modelo (k=3)\n",
    "clasificador = KNeighborsClassifier (n_neighbors=3)\n",
    "\n",
    "clasificador.fit(X_train, y_train);"
   ]
  },
  {
   "cell_type": "code",
   "execution_count": 20,
   "metadata": {},
   "outputs": [
    {
     "name": "stdout",
     "output_type": "stream",
     "text": [
      "% de aciertos sobre el set de entrenamiento: 0.7776699029126214\n"
     ]
    }
   ],
   "source": [
    "y_train_pred = clasificador.predict(X_train) \n",
    "train_accuracy = accuracy_score(y_train, y_train_pred)\n",
    "\n",
    "print('% de aciertos sobre el set de entrenamiento:',train_accuracy)"
   ]
  },
  {
   "cell_type": "code",
   "execution_count": 21,
   "metadata": {},
   "outputs": [
    {
     "name": "stdout",
     "output_type": "stream",
     "text": [
      "% de aciertos sobre el set de evaluación es: 0.5968289920724802\n"
     ]
    }
   ],
   "source": [
    "y_test_pred = clasificador.predict(X_test)\n",
    "test_accuracy = accuracy_score(y_test, y_test_pred)\n",
    "\n",
    "print('% de aciertos sobre el set de evaluación es:',test_accuracy)"
   ]
  },
  {
   "cell_type": "markdown",
   "metadata": {},
   "source": [
    "Observación:\n",
    "- Se percibe overfitting."
   ]
  },
  {
   "cell_type": "markdown",
   "metadata": {},
   "source": [
    "## Hyperparameter tuning"
   ]
  },
  {
   "cell_type": "code",
   "execution_count": 22,
   "metadata": {},
   "outputs": [],
   "source": [
    "# Se instancia el modelo\n",
    "KNN = KNeighborsClassifier() "
   ]
  },
  {
   "cell_type": "code",
   "execution_count": 23,
   "metadata": {},
   "outputs": [],
   "source": [
    "# Se definen los parámetros de búsqueda\n",
    "k_range = list(range(1, 100))\n",
    "param_grid = dict(n_neighbors=k_range)\n",
    "\n",
    "\n",
    "grid_knn = GridSearchCV(KNN, param_grid, cv=5, scoring='accuracy', return_train_score=True, verbose=2)"
   ]
  },
  {
   "cell_type": "code",
   "execution_count": 24,
   "metadata": {},
   "outputs": [
    {
     "name": "stdout",
     "output_type": "stream",
     "text": [
      "Fitting 5 folds for each of 99 candidates, totalling 495 fits\n",
      "[CV] END ......................................n_neighbors=1; total time=   0.0s\n",
      "[CV] END ......................................n_neighbors=1; total time=   0.0s\n",
      "[CV] END ......................................n_neighbors=1; total time=   0.0s\n",
      "[CV] END ......................................n_neighbors=1; total time=   0.0s\n",
      "[CV] END ......................................n_neighbors=1; total time=   0.0s\n",
      "[CV] END ......................................n_neighbors=2; total time=   0.0s\n",
      "[CV] END ......................................n_neighbors=2; total time=   0.0s\n",
      "[CV] END ......................................n_neighbors=2; total time=   0.0s\n",
      "[CV] END ......................................n_neighbors=2; total time=   0.0s\n",
      "[CV] END ......................................n_neighbors=2; total time=   0.0s\n",
      "[CV] END ......................................n_neighbors=3; total time=   0.0s\n",
      "[CV] END ......................................n_neighbors=3; total time=   0.0s\n",
      "[CV] END ......................................n_neighbors=3; total time=   0.0s\n",
      "[CV] END ......................................n_neighbors=3; total time=   0.0s\n",
      "[CV] END ......................................n_neighbors=3; total time=   0.0s\n",
      "[CV] END ......................................n_neighbors=4; total time=   0.0s\n",
      "[CV] END ......................................n_neighbors=4; total time=   0.0s\n",
      "[CV] END ......................................n_neighbors=4; total time=   0.0s\n",
      "[CV] END ......................................n_neighbors=4; total time=   0.0s\n",
      "[CV] END ......................................n_neighbors=4; total time=   0.0s\n",
      "[CV] END ......................................n_neighbors=5; total time=   0.0s\n",
      "[CV] END ......................................n_neighbors=5; total time=   0.0s\n",
      "[CV] END ......................................n_neighbors=5; total time=   0.0s\n",
      "[CV] END ......................................n_neighbors=5; total time=   0.0s\n",
      "[CV] END ......................................n_neighbors=5; total time=   0.0s\n",
      "[CV] END ......................................n_neighbors=6; total time=   0.0s\n",
      "[CV] END ......................................n_neighbors=6; total time=   0.0s\n",
      "[CV] END ......................................n_neighbors=6; total time=   0.0s\n",
      "[CV] END ......................................n_neighbors=6; total time=   0.0s\n",
      "[CV] END ......................................n_neighbors=6; total time=   0.0s\n",
      "[CV] END ......................................n_neighbors=7; total time=   0.0s\n",
      "[CV] END ......................................n_neighbors=7; total time=   0.0s\n",
      "[CV] END ......................................n_neighbors=7; total time=   0.0s\n",
      "[CV] END ......................................n_neighbors=7; total time=   0.0s\n",
      "[CV] END ......................................n_neighbors=7; total time=   0.0s\n",
      "[CV] END ......................................n_neighbors=8; total time=   0.0s\n",
      "[CV] END ......................................n_neighbors=8; total time=   0.0s\n",
      "[CV] END ......................................n_neighbors=8; total time=   0.0s\n",
      "[CV] END ......................................n_neighbors=8; total time=   0.0s\n",
      "[CV] END ......................................n_neighbors=8; total time=   0.0s\n",
      "[CV] END ......................................n_neighbors=9; total time=   0.0s\n",
      "[CV] END ......................................n_neighbors=9; total time=   0.0s\n",
      "[CV] END ......................................n_neighbors=9; total time=   0.0s\n",
      "[CV] END ......................................n_neighbors=9; total time=   0.0s\n",
      "[CV] END ......................................n_neighbors=9; total time=   0.0s\n",
      "[CV] END .....................................n_neighbors=10; total time=   0.0s\n",
      "[CV] END .....................................n_neighbors=10; total time=   0.0s\n",
      "[CV] END .....................................n_neighbors=10; total time=   0.0s\n",
      "[CV] END .....................................n_neighbors=10; total time=   0.0s\n",
      "[CV] END .....................................n_neighbors=10; total time=   0.0s\n",
      "[CV] END .....................................n_neighbors=11; total time=   0.0s\n",
      "[CV] END .....................................n_neighbors=11; total time=   0.0s\n",
      "[CV] END .....................................n_neighbors=11; total time=   0.0s\n",
      "[CV] END .....................................n_neighbors=11; total time=   0.0s\n",
      "[CV] END .....................................n_neighbors=11; total time=   0.0s\n",
      "[CV] END .....................................n_neighbors=12; total time=   0.0s\n",
      "[CV] END .....................................n_neighbors=12; total time=   0.0s\n",
      "[CV] END .....................................n_neighbors=12; total time=   0.0s\n",
      "[CV] END .....................................n_neighbors=12; total time=   0.0s\n",
      "[CV] END .....................................n_neighbors=12; total time=   0.0s\n",
      "[CV] END .....................................n_neighbors=13; total time=   0.0s\n",
      "[CV] END .....................................n_neighbors=13; total time=   0.0s\n",
      "[CV] END .....................................n_neighbors=13; total time=   0.0s\n",
      "[CV] END .....................................n_neighbors=13; total time=   0.0s\n",
      "[CV] END .....................................n_neighbors=13; total time=   0.0s\n",
      "[CV] END .....................................n_neighbors=14; total time=   0.0s\n",
      "[CV] END .....................................n_neighbors=14; total time=   0.0s\n",
      "[CV] END .....................................n_neighbors=14; total time=   0.0s\n",
      "[CV] END .....................................n_neighbors=14; total time=   0.0s\n",
      "[CV] END .....................................n_neighbors=14; total time=   0.0s\n",
      "[CV] END .....................................n_neighbors=15; total time=   0.0s\n",
      "[CV] END .....................................n_neighbors=15; total time=   0.0s\n",
      "[CV] END .....................................n_neighbors=15; total time=   0.0s\n",
      "[CV] END .....................................n_neighbors=15; total time=   0.0s\n",
      "[CV] END .....................................n_neighbors=15; total time=   0.0s\n",
      "[CV] END .....................................n_neighbors=16; total time=   0.0s\n",
      "[CV] END .....................................n_neighbors=16; total time=   0.0s\n",
      "[CV] END .....................................n_neighbors=16; total time=   0.0s\n",
      "[CV] END .....................................n_neighbors=16; total time=   0.0s\n",
      "[CV] END .....................................n_neighbors=16; total time=   0.0s\n",
      "[CV] END .....................................n_neighbors=17; total time=   0.0s\n",
      "[CV] END .....................................n_neighbors=17; total time=   0.0s\n",
      "[CV] END .....................................n_neighbors=17; total time=   0.0s\n",
      "[CV] END .....................................n_neighbors=17; total time=   0.0s\n",
      "[CV] END .....................................n_neighbors=17; total time=   0.0s\n",
      "[CV] END .....................................n_neighbors=18; total time=   0.0s\n",
      "[CV] END .....................................n_neighbors=18; total time=   0.0s\n",
      "[CV] END .....................................n_neighbors=18; total time=   0.0s\n",
      "[CV] END .....................................n_neighbors=18; total time=   0.0s\n",
      "[CV] END .....................................n_neighbors=18; total time=   0.0s\n",
      "[CV] END .....................................n_neighbors=19; total time=   0.0s\n",
      "[CV] END .....................................n_neighbors=19; total time=   0.0s\n",
      "[CV] END .....................................n_neighbors=19; total time=   0.0s\n",
      "[CV] END .....................................n_neighbors=19; total time=   0.0s\n",
      "[CV] END .....................................n_neighbors=19; total time=   0.0s\n",
      "[CV] END .....................................n_neighbors=20; total time=   0.0s\n",
      "[CV] END .....................................n_neighbors=20; total time=   0.0s\n",
      "[CV] END .....................................n_neighbors=20; total time=   0.0s\n",
      "[CV] END .....................................n_neighbors=20; total time=   0.0s\n",
      "[CV] END .....................................n_neighbors=20; total time=   0.0s\n",
      "[CV] END .....................................n_neighbors=21; total time=   0.0s\n",
      "[CV] END .....................................n_neighbors=21; total time=   0.0s\n",
      "[CV] END .....................................n_neighbors=21; total time=   0.0s\n",
      "[CV] END .....................................n_neighbors=21; total time=   0.0s\n",
      "[CV] END .....................................n_neighbors=21; total time=   0.0s\n",
      "[CV] END .....................................n_neighbors=22; total time=   0.0s\n",
      "[CV] END .....................................n_neighbors=22; total time=   0.0s\n",
      "[CV] END .....................................n_neighbors=22; total time=   0.0s\n",
      "[CV] END .....................................n_neighbors=22; total time=   0.0s\n",
      "[CV] END .....................................n_neighbors=22; total time=   0.0s\n",
      "[CV] END .....................................n_neighbors=23; total time=   0.0s\n",
      "[CV] END .....................................n_neighbors=23; total time=   0.0s\n",
      "[CV] END .....................................n_neighbors=23; total time=   0.0s\n",
      "[CV] END .....................................n_neighbors=23; total time=   0.0s\n",
      "[CV] END .....................................n_neighbors=23; total time=   0.0s\n",
      "[CV] END .....................................n_neighbors=24; total time=   0.0s\n",
      "[CV] END .....................................n_neighbors=24; total time=   0.0s\n",
      "[CV] END .....................................n_neighbors=24; total time=   0.0s\n",
      "[CV] END .....................................n_neighbors=24; total time=   0.0s\n",
      "[CV] END .....................................n_neighbors=24; total time=   0.0s\n",
      "[CV] END .....................................n_neighbors=25; total time=   0.0s\n",
      "[CV] END .....................................n_neighbors=25; total time=   0.0s\n",
      "[CV] END .....................................n_neighbors=25; total time=   0.0s\n",
      "[CV] END .....................................n_neighbors=25; total time=   0.0s\n",
      "[CV] END .....................................n_neighbors=25; total time=   0.0s\n",
      "[CV] END .....................................n_neighbors=26; total time=   0.0s\n",
      "[CV] END .....................................n_neighbors=26; total time=   0.0s\n",
      "[CV] END .....................................n_neighbors=26; total time=   0.0s\n",
      "[CV] END .....................................n_neighbors=26; total time=   0.0s\n",
      "[CV] END .....................................n_neighbors=26; total time=   0.0s\n",
      "[CV] END .....................................n_neighbors=27; total time=   0.0s\n",
      "[CV] END .....................................n_neighbors=27; total time=   0.0s\n",
      "[CV] END .....................................n_neighbors=27; total time=   0.0s\n",
      "[CV] END .....................................n_neighbors=27; total time=   0.0s\n",
      "[CV] END .....................................n_neighbors=27; total time=   0.0s\n",
      "[CV] END .....................................n_neighbors=28; total time=   0.0s\n",
      "[CV] END .....................................n_neighbors=28; total time=   0.0s\n",
      "[CV] END .....................................n_neighbors=28; total time=   0.0s\n",
      "[CV] END .....................................n_neighbors=28; total time=   0.0s\n",
      "[CV] END .....................................n_neighbors=28; total time=   0.0s\n",
      "[CV] END .....................................n_neighbors=29; total time=   0.0s\n",
      "[CV] END .....................................n_neighbors=29; total time=   0.0s\n",
      "[CV] END .....................................n_neighbors=29; total time=   0.0s\n",
      "[CV] END .....................................n_neighbors=29; total time=   0.0s\n",
      "[CV] END .....................................n_neighbors=29; total time=   0.0s\n",
      "[CV] END .....................................n_neighbors=30; total time=   0.0s\n",
      "[CV] END .....................................n_neighbors=30; total time=   0.0s\n",
      "[CV] END .....................................n_neighbors=30; total time=   0.0s\n",
      "[CV] END .....................................n_neighbors=30; total time=   0.0s\n",
      "[CV] END .....................................n_neighbors=30; total time=   0.0s\n",
      "[CV] END .....................................n_neighbors=31; total time=   0.0s\n",
      "[CV] END .....................................n_neighbors=31; total time=   0.0s\n",
      "[CV] END .....................................n_neighbors=31; total time=   0.0s\n",
      "[CV] END .....................................n_neighbors=31; total time=   0.0s\n",
      "[CV] END .....................................n_neighbors=31; total time=   0.0s\n",
      "[CV] END .....................................n_neighbors=32; total time=   0.0s\n",
      "[CV] END .....................................n_neighbors=32; total time=   0.0s\n",
      "[CV] END .....................................n_neighbors=32; total time=   0.0s\n",
      "[CV] END .....................................n_neighbors=32; total time=   0.0s\n",
      "[CV] END .....................................n_neighbors=32; total time=   0.0s\n",
      "[CV] END .....................................n_neighbors=33; total time=   0.0s\n",
      "[CV] END .....................................n_neighbors=33; total time=   0.0s\n",
      "[CV] END .....................................n_neighbors=33; total time=   0.0s\n",
      "[CV] END .....................................n_neighbors=33; total time=   0.0s\n",
      "[CV] END .....................................n_neighbors=33; total time=   0.0s\n",
      "[CV] END .....................................n_neighbors=34; total time=   0.0s\n",
      "[CV] END .....................................n_neighbors=34; total time=   0.0s\n",
      "[CV] END .....................................n_neighbors=34; total time=   0.0s\n",
      "[CV] END .....................................n_neighbors=34; total time=   0.0s\n",
      "[CV] END .....................................n_neighbors=34; total time=   0.0s\n",
      "[CV] END .....................................n_neighbors=35; total time=   0.0s\n",
      "[CV] END .....................................n_neighbors=35; total time=   0.0s\n",
      "[CV] END .....................................n_neighbors=35; total time=   0.0s\n",
      "[CV] END .....................................n_neighbors=35; total time=   0.0s\n",
      "[CV] END .....................................n_neighbors=35; total time=   0.0s\n",
      "[CV] END .....................................n_neighbors=36; total time=   0.0s\n",
      "[CV] END .....................................n_neighbors=36; total time=   0.0s\n",
      "[CV] END .....................................n_neighbors=36; total time=   0.0s\n",
      "[CV] END .....................................n_neighbors=36; total time=   0.0s\n",
      "[CV] END .....................................n_neighbors=36; total time=   0.0s\n",
      "[CV] END .....................................n_neighbors=37; total time=   0.0s\n",
      "[CV] END .....................................n_neighbors=37; total time=   0.0s\n",
      "[CV] END .....................................n_neighbors=37; total time=   0.0s\n",
      "[CV] END .....................................n_neighbors=37; total time=   0.0s\n",
      "[CV] END .....................................n_neighbors=37; total time=   0.0s\n",
      "[CV] END .....................................n_neighbors=38; total time=   0.0s\n",
      "[CV] END .....................................n_neighbors=38; total time=   0.0s\n",
      "[CV] END .....................................n_neighbors=38; total time=   0.0s\n",
      "[CV] END .....................................n_neighbors=38; total time=   0.0s\n",
      "[CV] END .....................................n_neighbors=38; total time=   0.0s\n",
      "[CV] END .....................................n_neighbors=39; total time=   0.0s\n",
      "[CV] END .....................................n_neighbors=39; total time=   0.0s\n",
      "[CV] END .....................................n_neighbors=39; total time=   0.0s\n",
      "[CV] END .....................................n_neighbors=39; total time=   0.0s\n",
      "[CV] END .....................................n_neighbors=39; total time=   0.0s\n",
      "[CV] END .....................................n_neighbors=40; total time=   0.0s\n",
      "[CV] END .....................................n_neighbors=40; total time=   0.0s\n",
      "[CV] END .....................................n_neighbors=40; total time=   0.0s\n",
      "[CV] END .....................................n_neighbors=40; total time=   0.0s\n",
      "[CV] END .....................................n_neighbors=40; total time=   0.0s\n",
      "[CV] END .....................................n_neighbors=41; total time=   0.0s\n",
      "[CV] END .....................................n_neighbors=41; total time=   0.0s\n",
      "[CV] END .....................................n_neighbors=41; total time=   0.0s\n",
      "[CV] END .....................................n_neighbors=41; total time=   0.0s\n",
      "[CV] END .....................................n_neighbors=41; total time=   0.0s\n",
      "[CV] END .....................................n_neighbors=42; total time=   0.0s\n",
      "[CV] END .....................................n_neighbors=42; total time=   0.0s\n",
      "[CV] END .....................................n_neighbors=42; total time=   0.0s\n",
      "[CV] END .....................................n_neighbors=42; total time=   0.0s\n",
      "[CV] END .....................................n_neighbors=42; total time=   0.0s\n",
      "[CV] END .....................................n_neighbors=43; total time=   0.0s\n",
      "[CV] END .....................................n_neighbors=43; total time=   0.0s\n",
      "[CV] END .....................................n_neighbors=43; total time=   0.0s\n",
      "[CV] END .....................................n_neighbors=43; total time=   0.0s\n",
      "[CV] END .....................................n_neighbors=43; total time=   0.0s\n",
      "[CV] END .....................................n_neighbors=44; total time=   0.0s\n",
      "[CV] END .....................................n_neighbors=44; total time=   0.0s\n",
      "[CV] END .....................................n_neighbors=44; total time=   0.0s\n",
      "[CV] END .....................................n_neighbors=44; total time=   0.0s\n",
      "[CV] END .....................................n_neighbors=44; total time=   0.0s\n",
      "[CV] END .....................................n_neighbors=45; total time=   0.0s\n",
      "[CV] END .....................................n_neighbors=45; total time=   0.0s\n",
      "[CV] END .....................................n_neighbors=45; total time=   0.0s\n",
      "[CV] END .....................................n_neighbors=45; total time=   0.0s\n",
      "[CV] END .....................................n_neighbors=45; total time=   0.0s\n",
      "[CV] END .....................................n_neighbors=46; total time=   0.0s\n",
      "[CV] END .....................................n_neighbors=46; total time=   0.0s\n",
      "[CV] END .....................................n_neighbors=46; total time=   0.0s\n",
      "[CV] END .....................................n_neighbors=46; total time=   0.0s\n",
      "[CV] END .....................................n_neighbors=46; total time=   0.0s\n",
      "[CV] END .....................................n_neighbors=47; total time=   0.0s\n",
      "[CV] END .....................................n_neighbors=47; total time=   0.0s\n",
      "[CV] END .....................................n_neighbors=47; total time=   0.0s\n",
      "[CV] END .....................................n_neighbors=47; total time=   0.0s\n",
      "[CV] END .....................................n_neighbors=47; total time=   0.0s\n",
      "[CV] END .....................................n_neighbors=48; total time=   0.0s\n",
      "[CV] END .....................................n_neighbors=48; total time=   0.0s\n",
      "[CV] END .....................................n_neighbors=48; total time=   0.0s\n",
      "[CV] END .....................................n_neighbors=48; total time=   0.0s\n",
      "[CV] END .....................................n_neighbors=48; total time=   0.0s\n",
      "[CV] END .....................................n_neighbors=49; total time=   0.0s\n",
      "[CV] END .....................................n_neighbors=49; total time=   0.0s\n",
      "[CV] END .....................................n_neighbors=49; total time=   0.0s\n",
      "[CV] END .....................................n_neighbors=49; total time=   0.0s\n",
      "[CV] END .....................................n_neighbors=49; total time=   0.0s\n",
      "[CV] END .....................................n_neighbors=50; total time=   0.0s\n",
      "[CV] END .....................................n_neighbors=50; total time=   0.0s\n",
      "[CV] END .....................................n_neighbors=50; total time=   0.0s\n",
      "[CV] END .....................................n_neighbors=50; total time=   0.0s\n",
      "[CV] END .....................................n_neighbors=50; total time=   0.0s\n",
      "[CV] END .....................................n_neighbors=51; total time=   0.0s\n",
      "[CV] END .....................................n_neighbors=51; total time=   0.0s\n",
      "[CV] END .....................................n_neighbors=51; total time=   0.0s\n",
      "[CV] END .....................................n_neighbors=51; total time=   0.0s\n",
      "[CV] END .....................................n_neighbors=51; total time=   0.0s\n",
      "[CV] END .....................................n_neighbors=52; total time=   0.0s\n",
      "[CV] END .....................................n_neighbors=52; total time=   0.0s\n",
      "[CV] END .....................................n_neighbors=52; total time=   0.0s\n",
      "[CV] END .....................................n_neighbors=52; total time=   0.0s\n",
      "[CV] END .....................................n_neighbors=52; total time=   0.0s\n",
      "[CV] END .....................................n_neighbors=53; total time=   0.0s\n",
      "[CV] END .....................................n_neighbors=53; total time=   0.0s\n",
      "[CV] END .....................................n_neighbors=53; total time=   0.0s\n",
      "[CV] END .....................................n_neighbors=53; total time=   0.0s\n",
      "[CV] END .....................................n_neighbors=53; total time=   0.0s\n",
      "[CV] END .....................................n_neighbors=54; total time=   0.0s\n",
      "[CV] END .....................................n_neighbors=54; total time=   0.0s\n",
      "[CV] END .....................................n_neighbors=54; total time=   0.0s\n",
      "[CV] END .....................................n_neighbors=54; total time=   0.0s\n",
      "[CV] END .....................................n_neighbors=54; total time=   0.0s\n",
      "[CV] END .....................................n_neighbors=55; total time=   0.0s\n",
      "[CV] END .....................................n_neighbors=55; total time=   0.0s\n",
      "[CV] END .....................................n_neighbors=55; total time=   0.0s\n",
      "[CV] END .....................................n_neighbors=55; total time=   0.0s\n",
      "[CV] END .....................................n_neighbors=55; total time=   0.0s\n",
      "[CV] END .....................................n_neighbors=56; total time=   0.0s\n",
      "[CV] END .....................................n_neighbors=56; total time=   0.0s\n",
      "[CV] END .....................................n_neighbors=56; total time=   0.0s\n",
      "[CV] END .....................................n_neighbors=56; total time=   0.0s\n",
      "[CV] END .....................................n_neighbors=56; total time=   0.0s\n",
      "[CV] END .....................................n_neighbors=57; total time=   0.0s\n",
      "[CV] END .....................................n_neighbors=57; total time=   0.0s\n",
      "[CV] END .....................................n_neighbors=57; total time=   0.0s\n",
      "[CV] END .....................................n_neighbors=57; total time=   0.0s\n",
      "[CV] END .....................................n_neighbors=57; total time=   0.0s\n",
      "[CV] END .....................................n_neighbors=58; total time=   0.0s\n",
      "[CV] END .....................................n_neighbors=58; total time=   0.0s\n",
      "[CV] END .....................................n_neighbors=58; total time=   0.0s\n",
      "[CV] END .....................................n_neighbors=58; total time=   0.0s\n",
      "[CV] END .....................................n_neighbors=58; total time=   0.0s\n",
      "[CV] END .....................................n_neighbors=59; total time=   0.0s\n",
      "[CV] END .....................................n_neighbors=59; total time=   0.0s\n",
      "[CV] END .....................................n_neighbors=59; total time=   0.0s\n",
      "[CV] END .....................................n_neighbors=59; total time=   0.0s\n",
      "[CV] END .....................................n_neighbors=59; total time=   0.0s\n",
      "[CV] END .....................................n_neighbors=60; total time=   0.0s\n",
      "[CV] END .....................................n_neighbors=60; total time=   0.0s\n",
      "[CV] END .....................................n_neighbors=60; total time=   0.0s\n",
      "[CV] END .....................................n_neighbors=60; total time=   0.0s\n",
      "[CV] END .....................................n_neighbors=60; total time=   0.0s\n",
      "[CV] END .....................................n_neighbors=61; total time=   0.0s\n",
      "[CV] END .....................................n_neighbors=61; total time=   0.0s\n",
      "[CV] END .....................................n_neighbors=61; total time=   0.0s\n",
      "[CV] END .....................................n_neighbors=61; total time=   0.0s\n",
      "[CV] END .....................................n_neighbors=61; total time=   0.0s\n",
      "[CV] END .....................................n_neighbors=62; total time=   0.0s\n",
      "[CV] END .....................................n_neighbors=62; total time=   0.0s\n",
      "[CV] END .....................................n_neighbors=62; total time=   0.0s\n",
      "[CV] END .....................................n_neighbors=62; total time=   0.0s\n",
      "[CV] END .....................................n_neighbors=62; total time=   0.0s\n",
      "[CV] END .....................................n_neighbors=63; total time=   0.0s\n",
      "[CV] END .....................................n_neighbors=63; total time=   0.0s\n",
      "[CV] END .....................................n_neighbors=63; total time=   0.0s\n",
      "[CV] END .....................................n_neighbors=63; total time=   0.0s\n",
      "[CV] END .....................................n_neighbors=63; total time=   0.0s\n",
      "[CV] END .....................................n_neighbors=64; total time=   0.0s\n",
      "[CV] END .....................................n_neighbors=64; total time=   0.0s\n",
      "[CV] END .....................................n_neighbors=64; total time=   0.0s\n",
      "[CV] END .....................................n_neighbors=64; total time=   0.0s\n",
      "[CV] END .....................................n_neighbors=64; total time=   0.0s\n",
      "[CV] END .....................................n_neighbors=65; total time=   0.0s\n",
      "[CV] END .....................................n_neighbors=65; total time=   0.0s\n",
      "[CV] END .....................................n_neighbors=65; total time=   0.0s\n",
      "[CV] END .....................................n_neighbors=65; total time=   0.0s\n",
      "[CV] END .....................................n_neighbors=65; total time=   0.0s\n",
      "[CV] END .....................................n_neighbors=66; total time=   0.0s\n",
      "[CV] END .....................................n_neighbors=66; total time=   0.0s\n",
      "[CV] END .....................................n_neighbors=66; total time=   0.0s\n",
      "[CV] END .....................................n_neighbors=66; total time=   0.0s\n",
      "[CV] END .....................................n_neighbors=66; total time=   0.0s\n",
      "[CV] END .....................................n_neighbors=67; total time=   0.0s\n",
      "[CV] END .....................................n_neighbors=67; total time=   0.0s\n",
      "[CV] END .....................................n_neighbors=67; total time=   0.0s\n",
      "[CV] END .....................................n_neighbors=67; total time=   0.0s\n",
      "[CV] END .....................................n_neighbors=67; total time=   0.0s\n",
      "[CV] END .....................................n_neighbors=68; total time=   0.0s\n",
      "[CV] END .....................................n_neighbors=68; total time=   0.0s\n",
      "[CV] END .....................................n_neighbors=68; total time=   0.0s\n",
      "[CV] END .....................................n_neighbors=68; total time=   0.0s\n",
      "[CV] END .....................................n_neighbors=68; total time=   0.0s\n",
      "[CV] END .....................................n_neighbors=69; total time=   0.0s\n",
      "[CV] END .....................................n_neighbors=69; total time=   0.0s\n",
      "[CV] END .....................................n_neighbors=69; total time=   0.0s\n",
      "[CV] END .....................................n_neighbors=69; total time=   0.0s\n",
      "[CV] END .....................................n_neighbors=69; total time=   0.0s\n",
      "[CV] END .....................................n_neighbors=70; total time=   0.0s\n",
      "[CV] END .....................................n_neighbors=70; total time=   0.0s\n",
      "[CV] END .....................................n_neighbors=70; total time=   0.0s\n",
      "[CV] END .....................................n_neighbors=70; total time=   0.0s\n",
      "[CV] END .....................................n_neighbors=70; total time=   0.0s\n",
      "[CV] END .....................................n_neighbors=71; total time=   0.0s\n",
      "[CV] END .....................................n_neighbors=71; total time=   0.0s\n",
      "[CV] END .....................................n_neighbors=71; total time=   0.0s\n",
      "[CV] END .....................................n_neighbors=71; total time=   0.0s\n",
      "[CV] END .....................................n_neighbors=71; total time=   0.0s\n",
      "[CV] END .....................................n_neighbors=72; total time=   0.0s\n",
      "[CV] END .....................................n_neighbors=72; total time=   0.0s\n",
      "[CV] END .....................................n_neighbors=72; total time=   0.0s\n",
      "[CV] END .....................................n_neighbors=72; total time=   0.0s\n",
      "[CV] END .....................................n_neighbors=72; total time=   0.0s\n",
      "[CV] END .....................................n_neighbors=73; total time=   0.0s\n",
      "[CV] END .....................................n_neighbors=73; total time=   0.0s\n",
      "[CV] END .....................................n_neighbors=73; total time=   0.0s\n",
      "[CV] END .....................................n_neighbors=73; total time=   0.0s\n",
      "[CV] END .....................................n_neighbors=73; total time=   0.0s\n",
      "[CV] END .....................................n_neighbors=74; total time=   0.0s\n",
      "[CV] END .....................................n_neighbors=74; total time=   0.0s\n",
      "[CV] END .....................................n_neighbors=74; total time=   0.0s\n",
      "[CV] END .....................................n_neighbors=74; total time=   0.0s\n",
      "[CV] END .....................................n_neighbors=74; total time=   0.0s\n",
      "[CV] END .....................................n_neighbors=75; total time=   0.0s\n",
      "[CV] END .....................................n_neighbors=75; total time=   0.0s\n",
      "[CV] END .....................................n_neighbors=75; total time=   0.0s\n",
      "[CV] END .....................................n_neighbors=75; total time=   0.0s\n",
      "[CV] END .....................................n_neighbors=75; total time=   0.0s\n",
      "[CV] END .....................................n_neighbors=76; total time=   0.0s\n",
      "[CV] END .....................................n_neighbors=76; total time=   0.0s\n",
      "[CV] END .....................................n_neighbors=76; total time=   0.0s\n",
      "[CV] END .....................................n_neighbors=76; total time=   0.0s\n",
      "[CV] END .....................................n_neighbors=76; total time=   0.0s\n",
      "[CV] END .....................................n_neighbors=77; total time=   0.0s\n",
      "[CV] END .....................................n_neighbors=77; total time=   0.0s\n",
      "[CV] END .....................................n_neighbors=77; total time=   0.0s\n",
      "[CV] END .....................................n_neighbors=77; total time=   0.0s\n",
      "[CV] END .....................................n_neighbors=77; total time=   0.0s\n",
      "[CV] END .....................................n_neighbors=78; total time=   0.0s\n",
      "[CV] END .....................................n_neighbors=78; total time=   0.0s\n",
      "[CV] END .....................................n_neighbors=78; total time=   0.0s\n",
      "[CV] END .....................................n_neighbors=78; total time=   0.0s\n",
      "[CV] END .....................................n_neighbors=78; total time=   0.0s\n",
      "[CV] END .....................................n_neighbors=79; total time=   0.0s\n",
      "[CV] END .....................................n_neighbors=79; total time=   0.0s\n",
      "[CV] END .....................................n_neighbors=79; total time=   0.0s\n",
      "[CV] END .....................................n_neighbors=79; total time=   0.0s\n",
      "[CV] END .....................................n_neighbors=79; total time=   0.0s\n",
      "[CV] END .....................................n_neighbors=80; total time=   0.0s\n",
      "[CV] END .....................................n_neighbors=80; total time=   0.0s\n",
      "[CV] END .....................................n_neighbors=80; total time=   0.0s\n",
      "[CV] END .....................................n_neighbors=80; total time=   0.0s\n",
      "[CV] END .....................................n_neighbors=80; total time=   0.0s\n",
      "[CV] END .....................................n_neighbors=81; total time=   0.0s\n",
      "[CV] END .....................................n_neighbors=81; total time=   0.0s\n",
      "[CV] END .....................................n_neighbors=81; total time=   0.0s\n",
      "[CV] END .....................................n_neighbors=81; total time=   0.0s\n",
      "[CV] END .....................................n_neighbors=81; total time=   0.0s\n",
      "[CV] END .....................................n_neighbors=82; total time=   0.0s\n",
      "[CV] END .....................................n_neighbors=82; total time=   0.0s\n",
      "[CV] END .....................................n_neighbors=82; total time=   0.0s\n",
      "[CV] END .....................................n_neighbors=82; total time=   0.0s\n",
      "[CV] END .....................................n_neighbors=82; total time=   0.0s\n",
      "[CV] END .....................................n_neighbors=83; total time=   0.0s\n",
      "[CV] END .....................................n_neighbors=83; total time=   0.0s\n",
      "[CV] END .....................................n_neighbors=83; total time=   0.0s\n",
      "[CV] END .....................................n_neighbors=83; total time=   0.0s\n",
      "[CV] END .....................................n_neighbors=83; total time=   0.0s\n",
      "[CV] END .....................................n_neighbors=84; total time=   0.0s\n",
      "[CV] END .....................................n_neighbors=84; total time=   0.0s\n",
      "[CV] END .....................................n_neighbors=84; total time=   0.0s\n",
      "[CV] END .....................................n_neighbors=84; total time=   0.0s\n",
      "[CV] END .....................................n_neighbors=84; total time=   0.0s\n",
      "[CV] END .....................................n_neighbors=85; total time=   0.0s\n",
      "[CV] END .....................................n_neighbors=85; total time=   0.0s\n",
      "[CV] END .....................................n_neighbors=85; total time=   0.0s\n",
      "[CV] END .....................................n_neighbors=85; total time=   0.0s\n",
      "[CV] END .....................................n_neighbors=85; total time=   0.0s\n",
      "[CV] END .....................................n_neighbors=86; total time=   0.0s\n",
      "[CV] END .....................................n_neighbors=86; total time=   0.0s\n",
      "[CV] END .....................................n_neighbors=86; total time=   0.0s\n",
      "[CV] END .....................................n_neighbors=86; total time=   0.0s\n",
      "[CV] END .....................................n_neighbors=86; total time=   0.0s\n",
      "[CV] END .....................................n_neighbors=87; total time=   0.0s\n",
      "[CV] END .....................................n_neighbors=87; total time=   0.0s\n",
      "[CV] END .....................................n_neighbors=87; total time=   0.0s\n",
      "[CV] END .....................................n_neighbors=87; total time=   0.0s\n",
      "[CV] END .....................................n_neighbors=87; total time=   0.0s\n",
      "[CV] END .....................................n_neighbors=88; total time=   0.0s\n",
      "[CV] END .....................................n_neighbors=88; total time=   0.0s\n",
      "[CV] END .....................................n_neighbors=88; total time=   0.0s\n",
      "[CV] END .....................................n_neighbors=88; total time=   0.0s\n",
      "[CV] END .....................................n_neighbors=88; total time=   0.0s\n",
      "[CV] END .....................................n_neighbors=89; total time=   0.0s\n",
      "[CV] END .....................................n_neighbors=89; total time=   0.0s\n",
      "[CV] END .....................................n_neighbors=89; total time=   0.0s\n",
      "[CV] END .....................................n_neighbors=89; total time=   0.0s\n",
      "[CV] END .....................................n_neighbors=89; total time=   0.0s\n",
      "[CV] END .....................................n_neighbors=90; total time=   0.0s\n",
      "[CV] END .....................................n_neighbors=90; total time=   0.0s\n",
      "[CV] END .....................................n_neighbors=90; total time=   0.0s\n",
      "[CV] END .....................................n_neighbors=90; total time=   0.0s\n",
      "[CV] END .....................................n_neighbors=90; total time=   0.0s\n",
      "[CV] END .....................................n_neighbors=91; total time=   0.0s\n",
      "[CV] END .....................................n_neighbors=91; total time=   0.0s\n",
      "[CV] END .....................................n_neighbors=91; total time=   0.0s\n",
      "[CV] END .....................................n_neighbors=91; total time=   0.0s\n",
      "[CV] END .....................................n_neighbors=91; total time=   0.0s\n",
      "[CV] END .....................................n_neighbors=92; total time=   0.0s\n",
      "[CV] END .....................................n_neighbors=92; total time=   0.0s\n",
      "[CV] END .....................................n_neighbors=92; total time=   0.0s\n",
      "[CV] END .....................................n_neighbors=92; total time=   0.0s\n",
      "[CV] END .....................................n_neighbors=92; total time=   0.0s\n",
      "[CV] END .....................................n_neighbors=93; total time=   0.0s\n",
      "[CV] END .....................................n_neighbors=93; total time=   0.0s\n",
      "[CV] END .....................................n_neighbors=93; total time=   0.0s\n",
      "[CV] END .....................................n_neighbors=93; total time=   0.0s\n",
      "[CV] END .....................................n_neighbors=93; total time=   0.0s\n",
      "[CV] END .....................................n_neighbors=94; total time=   0.0s\n",
      "[CV] END .....................................n_neighbors=94; total time=   0.0s\n",
      "[CV] END .....................................n_neighbors=94; total time=   0.0s\n",
      "[CV] END .....................................n_neighbors=94; total time=   0.0s\n",
      "[CV] END .....................................n_neighbors=94; total time=   0.0s\n",
      "[CV] END .....................................n_neighbors=95; total time=   0.0s\n",
      "[CV] END .....................................n_neighbors=95; total time=   0.0s\n",
      "[CV] END .....................................n_neighbors=95; total time=   0.0s\n",
      "[CV] END .....................................n_neighbors=95; total time=   0.0s\n",
      "[CV] END .....................................n_neighbors=95; total time=   0.0s\n",
      "[CV] END .....................................n_neighbors=96; total time=   0.0s\n",
      "[CV] END .....................................n_neighbors=96; total time=   0.0s\n",
      "[CV] END .....................................n_neighbors=96; total time=   0.0s\n",
      "[CV] END .....................................n_neighbors=96; total time=   0.0s\n",
      "[CV] END .....................................n_neighbors=96; total time=   0.0s\n",
      "[CV] END .....................................n_neighbors=97; total time=   0.0s\n",
      "[CV] END .....................................n_neighbors=97; total time=   0.0s\n",
      "[CV] END .....................................n_neighbors=97; total time=   0.0s\n",
      "[CV] END .....................................n_neighbors=97; total time=   0.0s\n",
      "[CV] END .....................................n_neighbors=97; total time=   0.0s\n",
      "[CV] END .....................................n_neighbors=98; total time=   0.0s\n",
      "[CV] END .....................................n_neighbors=98; total time=   0.0s\n",
      "[CV] END .....................................n_neighbors=98; total time=   0.0s\n",
      "[CV] END .....................................n_neighbors=98; total time=   0.0s\n",
      "[CV] END .....................................n_neighbors=98; total time=   0.0s\n",
      "[CV] END .....................................n_neighbors=99; total time=   0.0s\n",
      "[CV] END .....................................n_neighbors=99; total time=   0.0s\n",
      "[CV] END .....................................n_neighbors=99; total time=   0.0s\n",
      "[CV] END .....................................n_neighbors=99; total time=   0.0s\n",
      "[CV] END .....................................n_neighbors=99; total time=   0.0s\n"
     ]
    },
    {
     "data": {
      "text/html": [
       "<style>#sk-container-id-1 {color: black;background-color: white;}#sk-container-id-1 pre{padding: 0;}#sk-container-id-1 div.sk-toggleable {background-color: white;}#sk-container-id-1 label.sk-toggleable__label {cursor: pointer;display: block;width: 100%;margin-bottom: 0;padding: 0.3em;box-sizing: border-box;text-align: center;}#sk-container-id-1 label.sk-toggleable__label-arrow:before {content: \"▸\";float: left;margin-right: 0.25em;color: #696969;}#sk-container-id-1 label.sk-toggleable__label-arrow:hover:before {color: black;}#sk-container-id-1 div.sk-estimator:hover label.sk-toggleable__label-arrow:before {color: black;}#sk-container-id-1 div.sk-toggleable__content {max-height: 0;max-width: 0;overflow: hidden;text-align: left;background-color: #f0f8ff;}#sk-container-id-1 div.sk-toggleable__content pre {margin: 0.2em;color: black;border-radius: 0.25em;background-color: #f0f8ff;}#sk-container-id-1 input.sk-toggleable__control:checked~div.sk-toggleable__content {max-height: 200px;max-width: 100%;overflow: auto;}#sk-container-id-1 input.sk-toggleable__control:checked~label.sk-toggleable__label-arrow:before {content: \"▾\";}#sk-container-id-1 div.sk-estimator input.sk-toggleable__control:checked~label.sk-toggleable__label {background-color: #d4ebff;}#sk-container-id-1 div.sk-label input.sk-toggleable__control:checked~label.sk-toggleable__label {background-color: #d4ebff;}#sk-container-id-1 input.sk-hidden--visually {border: 0;clip: rect(1px 1px 1px 1px);clip: rect(1px, 1px, 1px, 1px);height: 1px;margin: -1px;overflow: hidden;padding: 0;position: absolute;width: 1px;}#sk-container-id-1 div.sk-estimator {font-family: monospace;background-color: #f0f8ff;border: 1px dotted black;border-radius: 0.25em;box-sizing: border-box;margin-bottom: 0.5em;}#sk-container-id-1 div.sk-estimator:hover {background-color: #d4ebff;}#sk-container-id-1 div.sk-parallel-item::after {content: \"\";width: 100%;border-bottom: 1px solid gray;flex-grow: 1;}#sk-container-id-1 div.sk-label:hover label.sk-toggleable__label {background-color: #d4ebff;}#sk-container-id-1 div.sk-serial::before {content: \"\";position: absolute;border-left: 1px solid gray;box-sizing: border-box;top: 0;bottom: 0;left: 50%;z-index: 0;}#sk-container-id-1 div.sk-serial {display: flex;flex-direction: column;align-items: center;background-color: white;padding-right: 0.2em;padding-left: 0.2em;position: relative;}#sk-container-id-1 div.sk-item {position: relative;z-index: 1;}#sk-container-id-1 div.sk-parallel {display: flex;align-items: stretch;justify-content: center;background-color: white;position: relative;}#sk-container-id-1 div.sk-item::before, #sk-container-id-1 div.sk-parallel-item::before {content: \"\";position: absolute;border-left: 1px solid gray;box-sizing: border-box;top: 0;bottom: 0;left: 50%;z-index: -1;}#sk-container-id-1 div.sk-parallel-item {display: flex;flex-direction: column;z-index: 1;position: relative;background-color: white;}#sk-container-id-1 div.sk-parallel-item:first-child::after {align-self: flex-end;width: 50%;}#sk-container-id-1 div.sk-parallel-item:last-child::after {align-self: flex-start;width: 50%;}#sk-container-id-1 div.sk-parallel-item:only-child::after {width: 0;}#sk-container-id-1 div.sk-dashed-wrapped {border: 1px dashed gray;margin: 0 0.4em 0.5em 0.4em;box-sizing: border-box;padding-bottom: 0.4em;background-color: white;}#sk-container-id-1 div.sk-label label {font-family: monospace;font-weight: bold;display: inline-block;line-height: 1.2em;}#sk-container-id-1 div.sk-label-container {text-align: center;}#sk-container-id-1 div.sk-container {/* jupyter's `normalize.less` sets `[hidden] { display: none; }` but bootstrap.min.css set `[hidden] { display: none !important; }` so we also need the `!important` here to be able to override the default hidden behavior on the sphinx rendered scikit-learn.org. See: https://github.com/scikit-learn/scikit-learn/issues/21755 */display: inline-block !important;position: relative;}#sk-container-id-1 div.sk-text-repr-fallback {display: none;}</style><div id=\"sk-container-id-1\" class=\"sk-top-container\"><div class=\"sk-text-repr-fallback\"><pre>GridSearchCV(cv=5, estimator=KNeighborsClassifier(),\n",
       "             param_grid={&#x27;n_neighbors&#x27;: [1, 2, 3, 4, 5, 6, 7, 8, 9, 10, 11, 12,\n",
       "                                         13, 14, 15, 16, 17, 18, 19, 20, 21, 22,\n",
       "                                         23, 24, 25, 26, 27, 28, 29, 30, ...]},\n",
       "             return_train_score=True, scoring=&#x27;accuracy&#x27;, verbose=2)</pre><b>In a Jupyter environment, please rerun this cell to show the HTML representation or trust the notebook. <br />On GitHub, the HTML representation is unable to render, please try loading this page with nbviewer.org.</b></div><div class=\"sk-container\" hidden><div class=\"sk-item sk-dashed-wrapped\"><div class=\"sk-label-container\"><div class=\"sk-label sk-toggleable\"><input class=\"sk-toggleable__control sk-hidden--visually\" id=\"sk-estimator-id-1\" type=\"checkbox\" ><label for=\"sk-estimator-id-1\" class=\"sk-toggleable__label sk-toggleable__label-arrow\">GridSearchCV</label><div class=\"sk-toggleable__content\"><pre>GridSearchCV(cv=5, estimator=KNeighborsClassifier(),\n",
       "             param_grid={&#x27;n_neighbors&#x27;: [1, 2, 3, 4, 5, 6, 7, 8, 9, 10, 11, 12,\n",
       "                                         13, 14, 15, 16, 17, 18, 19, 20, 21, 22,\n",
       "                                         23, 24, 25, 26, 27, 28, 29, 30, ...]},\n",
       "             return_train_score=True, scoring=&#x27;accuracy&#x27;, verbose=2)</pre></div></div></div><div class=\"sk-parallel\"><div class=\"sk-parallel-item\"><div class=\"sk-item\"><div class=\"sk-label-container\"><div class=\"sk-label sk-toggleable\"><input class=\"sk-toggleable__control sk-hidden--visually\" id=\"sk-estimator-id-2\" type=\"checkbox\" ><label for=\"sk-estimator-id-2\" class=\"sk-toggleable__label sk-toggleable__label-arrow\">estimator: KNeighborsClassifier</label><div class=\"sk-toggleable__content\"><pre>KNeighborsClassifier()</pre></div></div></div><div class=\"sk-serial\"><div class=\"sk-item\"><div class=\"sk-estimator sk-toggleable\"><input class=\"sk-toggleable__control sk-hidden--visually\" id=\"sk-estimator-id-3\" type=\"checkbox\" ><label for=\"sk-estimator-id-3\" class=\"sk-toggleable__label sk-toggleable__label-arrow\">KNeighborsClassifier</label><div class=\"sk-toggleable__content\"><pre>KNeighborsClassifier()</pre></div></div></div></div></div></div></div></div></div></div>"
      ],
      "text/plain": [
       "GridSearchCV(cv=5, estimator=KNeighborsClassifier(),\n",
       "             param_grid={'n_neighbors': [1, 2, 3, 4, 5, 6, 7, 8, 9, 10, 11, 12,\n",
       "                                         13, 14, 15, 16, 17, 18, 19, 20, 21, 22,\n",
       "                                         23, 24, 25, 26, 27, 28, 29, 30, ...]},\n",
       "             return_train_score=True, scoring='accuracy', verbose=2)"
      ]
     },
     "execution_count": 24,
     "metadata": {},
     "output_type": "execute_result"
    }
   ],
   "source": [
    "# Se entrena el modelo\n",
    "grid_knn.fit(X_train, y_train)"
   ]
  },
  {
   "cell_type": "code",
   "execution_count": 25,
   "metadata": {},
   "outputs": [
    {
     "name": "stdout",
     "output_type": "stream",
     "text": [
      "{'n_neighbors': 11}\n"
     ]
    }
   ],
   "source": [
    "# Se obtiene el mejor modelo\n",
    "print(grid_knn.best_params_)"
   ]
  },
  {
   "cell_type": "code",
   "execution_count": 26,
   "metadata": {},
   "outputs": [],
   "source": [
    "accuracy = grid_knn.best_score_"
   ]
  },
  {
   "cell_type": "code",
   "execution_count": 27,
   "metadata": {},
   "outputs": [
    {
     "name": "stdout",
     "output_type": "stream",
     "text": [
      "% de aciertos sobre el set de entrenamiento: 0.5849514563106796\n"
     ]
    }
   ],
   "source": [
    "print('% de aciertos sobre el set de entrenamiento:',accuracy)"
   ]
  },
  {
   "cell_type": "code",
   "execution_count": 28,
   "metadata": {},
   "outputs": [
    {
     "name": "stdout",
     "output_type": "stream",
     "text": [
      "KNeighborsClassifier(n_neighbors=11)\n"
     ]
    }
   ],
   "source": [
    "print(grid_knn.best_estimator_)"
   ]
  },
  {
   "cell_type": "markdown",
   "metadata": {},
   "source": [
    "Observación:\n",
    "- Entendiendo que el mejor modelo tiene un k=11 se procede a su construcción"
   ]
  },
  {
   "cell_type": "code",
   "execution_count": 39,
   "metadata": {},
   "outputs": [],
   "source": [
    "# Se entrena el modelo (k=3)\n",
    "clasificador = KNeighborsClassifier (n_neighbors=11)\n",
    "\n",
    "clasificador.fit(X_train, y_train);"
   ]
  },
  {
   "cell_type": "code",
   "execution_count": 40,
   "metadata": {},
   "outputs": [],
   "source": [
    "# Se obtiene la predicción en Train\n",
    "y_train_pred = clasificador.predict(X_train) \n",
    "\n",
    "# Se obtiene la predicción en Test\n",
    "y_test_pred = clasificador.predict(X_test)"
   ]
  },
  {
   "cell_type": "code",
   "execution_count": 41,
   "metadata": {},
   "outputs": [
    {
     "name": "stdout",
     "output_type": "stream",
     "text": [
      "% de aciertos sobre el set de entrenamiento: 0.6786407766990291\n",
      "% de aciertos sobre el set de evaluación: 0.5877689694224235\n"
     ]
    }
   ],
   "source": [
    "# Se calcula el accuracy en Train\n",
    "train_accuracy = accuracy_score(y_train, y_train_pred)\n",
    "\n",
    "# Se calcula el accuracy en Test\n",
    "test_accuracy = accuracy_score(y_test, y_test_pred)\n",
    "\n",
    "print('% de aciertos sobre el set de entrenamiento:', train_accuracy)\n",
    "print('% de aciertos sobre el set de evaluación:',test_accuracy)"
   ]
  },
  {
   "cell_type": "markdown",
   "metadata": {},
   "source": [
    "Observaciones:\n",
    "- El modelo presenta un claro overfitting"
   ]
  },
  {
   "cell_type": "code",
   "execution_count": 42,
   "metadata": {},
   "outputs": [
    {
     "name": "stdout",
     "output_type": "stream",
     "text": [
      "[[217 200]\n",
      " [164 302]]\n"
     ]
    },
    {
     "data": {
      "image/png": "[encoded data removed]",
      "text/plain": [
       "<Figure size 432x288 with 2 Axes>"
      ]
     },
     "metadata": {},
     "output_type": "display_data"
    }
   ],
   "source": [
    "import matplotlib.pyplot as plt\n",
    "from sklearn.metrics import confusion_matrix\n",
    "from sklearn.metrics import plot_confusion_matrix\n",
    "\n",
    "# Predicciones\n",
    "predictions = clasificador.predict(X_test)\n",
    "\n",
    "#Matriz de Confusión\n",
    "print(confusion_matrix(y_test, predictions))\n",
    "\n",
    "#Ploteamos la Matriz\n",
    "plot_confusion_matrix(clasificador, X_test, y_test)\n",
    "plt.show()"
   ]
  },
  {
   "cell_type": "markdown",
   "metadata": {},
   "source": [
    "Observaciones:\n",
    "- Al modelo le cuesta encontrar las clases.\n",
    "- El modelo clasifica un elevado número de falsos negativos y positivos."
   ]
  },
  {
   "cell_type": "code",
   "execution_count": 43,
   "metadata": {
    "scrolled": true
   },
   "outputs": [
    {
     "name": "stdout",
     "output_type": "stream",
     "text": [
      "Accuracy of the classifier is: 0.5877689694224235\n",
      "Precision Score of the classifier is: 0.601593625498008\n",
      "Recall Score of the classifier is: 0.648068669527897\n",
      "F1 Score of the classifier is: 0.6239669421487604\n",
      "AUC for our classifier is: 0.6140117948559607\n"
     ]
    },
    {
     "data": {
      "image/png": "[encoded data removed]",
      "text/plain": [
       "<Figure size 432x288 with 1 Axes>"
      ]
     },
     "metadata": {},
     "output_type": "display_data"
    }
   ],
   "source": [
    "# Accuracy\n",
    "print(f\"Accuracy of the classifier is: {accuracy_score(y_test, predictions)}\")\n",
    "\n",
    "# Precision\n",
    "from sklearn.metrics import precision_score\n",
    "print(f\"Precision Score of the classifier is: {precision_score(y_test, predictions)}\")\n",
    "\n",
    "# Recall\n",
    "from sklearn.metrics import recall_score\n",
    "print(f\"Recall Score of the classifier is: {recall_score(y_test, predictions)}\")\n",
    "\n",
    "# Calculo del F1 score\n",
    "from sklearn.metrics import f1_score\n",
    "print(f\"F1 Score of the classifier is: {f1_score(y_test, predictions)}\")\n",
    "\n",
    "#Template CURVA - ROC\n",
    "\n",
    "from sklearn.metrics import roc_curve, auc\n",
    "\n",
    "class_probabilities = clasificador.predict_proba(X_test)\n",
    "preds = class_probabilities[:, 1]\n",
    "\n",
    "fpr, tpr, threshold = roc_curve(y_test, preds)\n",
    "roc_auc = auc(fpr, tpr)\n",
    "\n",
    "# AUC\n",
    "print(f\"AUC for our classifier is: {roc_auc}\")\n",
    "\n",
    "# Gráfica de la Curva ROC\n",
    "plt.title('Receiver Operating Characteristic')\n",
    "plt.plot(fpr, tpr, 'b', label = 'AUC = %0.2f' % roc_auc)\n",
    "plt.legend(loc = 'lower right')\n",
    "plt.plot([0, 1], [0, 1],'r--')\n",
    "plt.xlim([0, 1])\n",
    "plt.ylim([0, 1])\n",
    "plt.ylabel('True Positive Rate')\n",
    "plt.xlabel('False Positive Rate')\n",
    "plt.show()"
   ]
  },
  {
   "cell_type": "markdown",
   "metadata": {},
   "source": [
    "Observaciones:\n",
    "- Dado que hay overfitting se podría probar una aproximación bayesiana para intentar encontrar una mejor tensión entre el bias y la varianza a fin de mejorar las métricas."
   ]
  }
 ],
 "metadata": {
  "kernelspec": {
   "display_name": "Python 3 (ipykernel)",
   "language": "python",
   "name": "python3"
  },
  "language_info": {
   "codemirror_mode": {
    "name": "ipython",
    "version": 3
   },
   "file_extension": ".py",
   "mimetype": "text/x-python",
   "name": "python",
   "nbconvert_exporter": "python",
   "pygments_lexer": "ipython3",
   "version": "3.9.12"
  }
 },
 "nbformat": 4,
 "nbformat_minor": 4
}
