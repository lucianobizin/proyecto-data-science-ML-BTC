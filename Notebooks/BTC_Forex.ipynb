{
 "cells": [
  {
   "cell_type": "markdown",
   "metadata": {},
   "source": [
    "# Fecha de entrega: 23/07/2022 (corresponde a clase 15)"
   ]
  },
  {
   "cell_type": "markdown",
   "metadata": {},
   "source": [
    "# Base de datos -> BTC_Forex"
   ]
  },
  {
   "cell_type": "markdown",
   "metadata": {},
   "source": [
    "# Diccionario\n",
    "\n",
    "**BTC_final**\n",
    "\n",
    "- **Date**: fecha en YYYY-MM-DD (datetime64 [ns])\n",
    "- **Price**: precio de cierre de BTC en el día de la fecha (USD) (float) (Variable numérica continua)\n",
    "- **Open**: precio de apertura de BTC en el día de la fecha (USD) (float) (Variable numérica continua)\n",
    "- **High**: precio más alto de BTC en el día de la fecha (USD) (float) (Variable numérica continua)\n",
    "- **Low**: precio más bajo de BTC en el día de la fecha (USD) (float) (Variable numérica continua)\n",
    "- **Vol.**: volumen de BTC transferidos (comprados+vendidos) en el día de la fecha (BTC) (float) (Variable numérica continua)\n",
    "- **Percentage_diff**: diferencial porcentual del precio de BTC en la fecha [x+1] con respecto a la fecha [x] (float)  (Variable numérica continua)\n",
    "- **Target**: 1 indica que en el día de la fecha el precio subió, y 0 que el precio bajó (float) (Variable categórica)."
   ]
  },
  {
   "cell_type": "markdown",
   "metadata": {},
   "source": [
    "# Librerías"
   ]
  },
  {
   "cell_type": "code",
   "execution_count": 1,
   "metadata": {},
   "outputs": [],
   "source": [
    "import numpy as np\n",
    "import pandas as pd\n",
    "import datetime\n",
    "import matplotlib as mpl\n",
    "import matplotlib.pyplot as plt\n",
    "import seaborn as sns\n",
    "pd.set_option('display.max_rows', None)\n",
    "pd.set_option('display.max_columns', None)\n",
    "pd.set_option('display.width', None)\n",
    "pd.set_option('display.max_colwidth', None)"
   ]
  },
  {
   "cell_type": "markdown",
   "metadata": {},
   "source": [
    "# Data acquisition"
   ]
  },
  {
   "cell_type": "code",
   "execution_count": 2,
   "metadata": {},
   "outputs": [],
   "source": [
    "def gdriveColabPath(sharing_url):\n",
    "  file_id=sharing_url.split('/')[-2]\n",
    "  dwn_url='https://drive.google.com/uc?id=' + file_id\n",
    "  return dwn_url"
   ]
  },
  {
   "cell_type": "markdown",
   "metadata": {},
   "source": [
    "## Adquiriendo base de datos de BTC"
   ]
  },
  {
   "cell_type": "code",
   "execution_count": 3,
   "metadata": {},
   "outputs": [],
   "source": [
    "sharing_url = \"https://drive.google.com/file/d/1M38n5So0-6r_Q0vhs1i5nIW-cpjgDlww/view?usp=sharing\""
   ]
  },
  {
   "cell_type": "code",
   "execution_count": 4,
   "metadata": {},
   "outputs": [],
   "source": [
    "dwn_url=gdriveColabPath(sharing_url)\n",
    "BTC_df =pd.read_csv(dwn_url, sep=\";\", decimal=\".\")"
   ]
  },
  {
   "cell_type": "code",
   "execution_count": 5,
   "metadata": {
    "scrolled": true
   },
   "outputs": [
    {
     "data": {
      "text/html": [
       "<div>\n",
       "<style scoped>\n",
       "    .dataframe tbody tr th:only-of-type {\n",
       "        vertical-align: middle;\n",
       "    }\n",
       "\n",
       "    .dataframe tbody tr th {\n",
       "        vertical-align: top;\n",
       "    }\n",
       "\n",
       "    .dataframe thead th {\n",
       "        text-align: right;\n",
       "    }\n",
       "</style>\n",
       "<table border=\"1\" class=\"dataframe\">\n",
       "  <thead>\n",
       "    <tr style=\"text-align: right;\">\n",
       "      <th></th>\n",
       "      <th>Date</th>\n",
       "      <th>Price</th>\n",
       "      <th>Open</th>\n",
       "      <th>High</th>\n",
       "      <th>Low</th>\n",
       "      <th>Vol.</th>\n",
       "      <th>Percentage_diff</th>\n",
       "      <th>Target</th>\n",
       "    </tr>\n",
       "  </thead>\n",
       "  <tbody>\n",
       "    <tr>\n",
       "      <th>0</th>\n",
       "      <td>2010-07-18</td>\n",
       "      <td>0.1</td>\n",
       "      <td>0.0</td>\n",
       "      <td>0.1</td>\n",
       "      <td>0.1</td>\n",
       "      <td>80.0</td>\n",
       "      <td>0.0</td>\n",
       "      <td>0.0</td>\n",
       "    </tr>\n",
       "    <tr>\n",
       "      <th>1</th>\n",
       "      <td>2010-07-19</td>\n",
       "      <td>0.1</td>\n",
       "      <td>0.1</td>\n",
       "      <td>0.1</td>\n",
       "      <td>0.1</td>\n",
       "      <td>570.0</td>\n",
       "      <td>0.0</td>\n",
       "      <td>0.0</td>\n",
       "    </tr>\n",
       "    <tr>\n",
       "      <th>2</th>\n",
       "      <td>2010-07-20</td>\n",
       "      <td>0.1</td>\n",
       "      <td>0.1</td>\n",
       "      <td>0.1</td>\n",
       "      <td>0.1</td>\n",
       "      <td>260.0</td>\n",
       "      <td>0.0</td>\n",
       "      <td>0.0</td>\n",
       "    </tr>\n",
       "    <tr>\n",
       "      <th>3</th>\n",
       "      <td>2010-07-21</td>\n",
       "      <td>0.1</td>\n",
       "      <td>0.1</td>\n",
       "      <td>0.1</td>\n",
       "      <td>0.1</td>\n",
       "      <td>580.0</td>\n",
       "      <td>0.0</td>\n",
       "      <td>0.0</td>\n",
       "    </tr>\n",
       "    <tr>\n",
       "      <th>4</th>\n",
       "      <td>2010-07-22</td>\n",
       "      <td>0.1</td>\n",
       "      <td>0.1</td>\n",
       "      <td>0.1</td>\n",
       "      <td>0.1</td>\n",
       "      <td>2160.0</td>\n",
       "      <td>0.0</td>\n",
       "      <td>0.0</td>\n",
       "    </tr>\n",
       "  </tbody>\n",
       "</table>\n",
       "</div>"
      ],
      "text/plain": [
       "         Date  Price  Open  High  Low    Vol.  Percentage_diff  Target\n",
       "0  2010-07-18    0.1   0.0   0.1  0.1    80.0              0.0     0.0\n",
       "1  2010-07-19    0.1   0.1   0.1  0.1   570.0              0.0     0.0\n",
       "2  2010-07-20    0.1   0.1   0.1  0.1   260.0              0.0     0.0\n",
       "3  2010-07-21    0.1   0.1   0.1  0.1   580.0              0.0     0.0\n",
       "4  2010-07-22    0.1   0.1   0.1  0.1  2160.0              0.0     0.0"
      ]
     },
     "execution_count": 5,
     "metadata": {},
     "output_type": "execute_result"
    }
   ],
   "source": [
    "BTC_df.head()"
   ]
  },
  {
   "cell_type": "markdown",
   "metadata": {},
   "source": [
    "## Adquiriendo base de datos de EUR/USD, USD/JPY, USD/CNY (raw)"
   ]
  },
  {
   "cell_type": "markdown",
   "metadata": {},
   "source": [
    "### EUR/USD"
   ]
  },
  {
   "cell_type": "code",
   "execution_count": 6,
   "metadata": {},
   "outputs": [],
   "source": [
    "sharing_url = \"https://drive.google.com/file/d/16iaYVmlv5vtNDN4WZKaQmeO3MsI9QG12/view?usp=sharing\""
   ]
  },
  {
   "cell_type": "code",
   "execution_count": 7,
   "metadata": {},
   "outputs": [],
   "source": [
    "dwn_url=gdriveColabPath(sharing_url)\n",
    "EUR_USD_df =pd.read_csv(dwn_url, sep=\",\", thousands=\",\", decimal=\".\")"
   ]
  },
  {
   "cell_type": "code",
   "execution_count": 8,
   "metadata": {},
   "outputs": [
    {
     "data": {
      "text/html": [
       "<div>\n",
       "<style scoped>\n",
       "    .dataframe tbody tr th:only-of-type {\n",
       "        vertical-align: middle;\n",
       "    }\n",
       "\n",
       "    .dataframe tbody tr th {\n",
       "        vertical-align: top;\n",
       "    }\n",
       "\n",
       "    .dataframe thead th {\n",
       "        text-align: right;\n",
       "    }\n",
       "</style>\n",
       "<table border=\"1\" class=\"dataframe\">\n",
       "  <thead>\n",
       "    <tr style=\"text-align: right;\">\n",
       "      <th></th>\n",
       "      <th>Date</th>\n",
       "      <th>Price</th>\n",
       "      <th>Open</th>\n",
       "      <th>High</th>\n",
       "      <th>Low</th>\n",
       "      <th>Change %</th>\n",
       "    </tr>\n",
       "  </thead>\n",
       "  <tbody>\n",
       "    <tr>\n",
       "      <th>0</th>\n",
       "      <td>Jul 20, 2022</td>\n",
       "      <td>1.0242</td>\n",
       "      <td>1.0231</td>\n",
       "      <td>1.0248</td>\n",
       "      <td>1.0231</td>\n",
       "      <td>0.18%</td>\n",
       "    </tr>\n",
       "    <tr>\n",
       "      <th>1</th>\n",
       "      <td>Jul 19, 2022</td>\n",
       "      <td>1.0224</td>\n",
       "      <td>1.0143</td>\n",
       "      <td>1.0270</td>\n",
       "      <td>1.0120</td>\n",
       "      <td>0.82%</td>\n",
       "    </tr>\n",
       "    <tr>\n",
       "      <th>2</th>\n",
       "      <td>Jul 18, 2022</td>\n",
       "      <td>1.0141</td>\n",
       "      <td>1.0085</td>\n",
       "      <td>1.0202</td>\n",
       "      <td>1.0078</td>\n",
       "      <td>0.54%</td>\n",
       "    </tr>\n",
       "    <tr>\n",
       "      <th>3</th>\n",
       "      <td>Jul 15, 2022</td>\n",
       "      <td>1.0087</td>\n",
       "      <td>1.0018</td>\n",
       "      <td>1.0099</td>\n",
       "      <td>1.0007</td>\n",
       "      <td>0.71%</td>\n",
       "    </tr>\n",
       "    <tr>\n",
       "      <th>4</th>\n",
       "      <td>Jul 14, 2022</td>\n",
       "      <td>1.0016</td>\n",
       "      <td>1.0061</td>\n",
       "      <td>1.0065</td>\n",
       "      <td>0.9952</td>\n",
       "      <td>-0.44%</td>\n",
       "    </tr>\n",
       "  </tbody>\n",
       "</table>\n",
       "</div>"
      ],
      "text/plain": [
       "           Date   Price    Open    High     Low Change %\n",
       "0  Jul 20, 2022  1.0242  1.0231  1.0248  1.0231    0.18%\n",
       "1  Jul 19, 2022  1.0224  1.0143  1.0270  1.0120    0.82%\n",
       "2  Jul 18, 2022  1.0141  1.0085  1.0202  1.0078    0.54%\n",
       "3  Jul 15, 2022  1.0087  1.0018  1.0099  1.0007    0.71%\n",
       "4  Jul 14, 2022  1.0016  1.0061  1.0065  0.9952   -0.44%"
      ]
     },
     "execution_count": 8,
     "metadata": {},
     "output_type": "execute_result"
    }
   ],
   "source": [
    "EUR_USD_df.head()"
   ]
  },
  {
   "cell_type": "markdown",
   "metadata": {},
   "source": [
    "### USD/JPY"
   ]
  },
  {
   "cell_type": "code",
   "execution_count": 9,
   "metadata": {},
   "outputs": [],
   "source": [
    "sharing_url = \"https://drive.google.com/file/d/1xGO8ejLusQGmQ8_cNLhhX5Mvh0yk2YRO/view?usp=sharing\""
   ]
  },
  {
   "cell_type": "code",
   "execution_count": 10,
   "metadata": {},
   "outputs": [],
   "source": [
    "dwn_url=gdriveColabPath(sharing_url)\n",
    "USD_JPY_df =pd.read_csv(dwn_url, sep=\",\", thousands=\",\", decimal=\".\")"
   ]
  },
  {
   "cell_type": "code",
   "execution_count": 11,
   "metadata": {},
   "outputs": [
    {
     "data": {
      "text/html": [
       "<div>\n",
       "<style scoped>\n",
       "    .dataframe tbody tr th:only-of-type {\n",
       "        vertical-align: middle;\n",
       "    }\n",
       "\n",
       "    .dataframe tbody tr th {\n",
       "        vertical-align: top;\n",
       "    }\n",
       "\n",
       "    .dataframe thead th {\n",
       "        text-align: right;\n",
       "    }\n",
       "</style>\n",
       "<table border=\"1\" class=\"dataframe\">\n",
       "  <thead>\n",
       "    <tr style=\"text-align: right;\">\n",
       "      <th></th>\n",
       "      <th>Date</th>\n",
       "      <th>Price</th>\n",
       "      <th>Open</th>\n",
       "      <th>High</th>\n",
       "      <th>Low</th>\n",
       "      <th>Change %</th>\n",
       "    </tr>\n",
       "  </thead>\n",
       "  <tbody>\n",
       "    <tr>\n",
       "      <th>0</th>\n",
       "      <td>Jul 20, 2022</td>\n",
       "      <td>138.07</td>\n",
       "      <td>138.18</td>\n",
       "      <td>138.38</td>\n",
       "      <td>137.90</td>\n",
       "      <td>-0.08%</td>\n",
       "    </tr>\n",
       "    <tr>\n",
       "      <th>1</th>\n",
       "      <td>Jul 19, 2022</td>\n",
       "      <td>138.18</td>\n",
       "      <td>138.13</td>\n",
       "      <td>138.40</td>\n",
       "      <td>137.38</td>\n",
       "      <td>0.04%</td>\n",
       "    </tr>\n",
       "    <tr>\n",
       "      <th>2</th>\n",
       "      <td>Jul 18, 2022</td>\n",
       "      <td>138.12</td>\n",
       "      <td>138.54</td>\n",
       "      <td>138.59</td>\n",
       "      <td>137.89</td>\n",
       "      <td>-0.30%</td>\n",
       "    </tr>\n",
       "    <tr>\n",
       "      <th>3</th>\n",
       "      <td>Jul 15, 2022</td>\n",
       "      <td>138.53</td>\n",
       "      <td>138.96</td>\n",
       "      <td>139.13</td>\n",
       "      <td>138.39</td>\n",
       "      <td>-0.27%</td>\n",
       "    </tr>\n",
       "    <tr>\n",
       "      <th>4</th>\n",
       "      <td>Jul 14, 2022</td>\n",
       "      <td>138.90</td>\n",
       "      <td>137.43</td>\n",
       "      <td>139.40</td>\n",
       "      <td>137.33</td>\n",
       "      <td>1.08%</td>\n",
       "    </tr>\n",
       "  </tbody>\n",
       "</table>\n",
       "</div>"
      ],
      "text/plain": [
       "           Date   Price    Open    High     Low Change %\n",
       "0  Jul 20, 2022  138.07  138.18  138.38  137.90   -0.08%\n",
       "1  Jul 19, 2022  138.18  138.13  138.40  137.38    0.04%\n",
       "2  Jul 18, 2022  138.12  138.54  138.59  137.89   -0.30%\n",
       "3  Jul 15, 2022  138.53  138.96  139.13  138.39   -0.27%\n",
       "4  Jul 14, 2022  138.90  137.43  139.40  137.33    1.08%"
      ]
     },
     "execution_count": 11,
     "metadata": {},
     "output_type": "execute_result"
    }
   ],
   "source": [
    "USD_JPY_df.head()"
   ]
  },
  {
   "cell_type": "markdown",
   "metadata": {},
   "source": [
    "### USD/CNY"
   ]
  },
  {
   "cell_type": "code",
   "execution_count": 12,
   "metadata": {},
   "outputs": [],
   "source": [
    "sharing_url = \"https://drive.google.com/file/d/1tyfAwJctyEE1Amvy9C7B3n_AaJmqw4av/view?usp=sharing\""
   ]
  },
  {
   "cell_type": "code",
   "execution_count": 13,
   "metadata": {},
   "outputs": [],
   "source": [
    "dwn_url=gdriveColabPath(sharing_url)\n",
    "USD_CNY_df =pd.read_csv(dwn_url, sep=\",\", thousands=\",\", decimal=\".\")"
   ]
  },
  {
   "cell_type": "code",
   "execution_count": 14,
   "metadata": {},
   "outputs": [
    {
     "data": {
      "text/html": [
       "<div>\n",
       "<style scoped>\n",
       "    .dataframe tbody tr th:only-of-type {\n",
       "        vertical-align: middle;\n",
       "    }\n",
       "\n",
       "    .dataframe tbody tr th {\n",
       "        vertical-align: top;\n",
       "    }\n",
       "\n",
       "    .dataframe thead th {\n",
       "        text-align: right;\n",
       "    }\n",
       "</style>\n",
       "<table border=\"1\" class=\"dataframe\">\n",
       "  <thead>\n",
       "    <tr style=\"text-align: right;\">\n",
       "      <th></th>\n",
       "      <th>Date</th>\n",
       "      <th>Price</th>\n",
       "      <th>Open</th>\n",
       "      <th>High</th>\n",
       "      <th>Low</th>\n",
       "      <th>Change %</th>\n",
       "    </tr>\n",
       "  </thead>\n",
       "  <tbody>\n",
       "    <tr>\n",
       "      <th>0</th>\n",
       "      <td>Jul 20, 2022</td>\n",
       "      <td>6.7523</td>\n",
       "      <td>6.7447</td>\n",
       "      <td>6.7556</td>\n",
       "      <td>6.7401</td>\n",
       "      <td>0.14%</td>\n",
       "    </tr>\n",
       "    <tr>\n",
       "      <th>1</th>\n",
       "      <td>Jul 19, 2022</td>\n",
       "      <td>6.7430</td>\n",
       "      <td>6.7473</td>\n",
       "      <td>6.7542</td>\n",
       "      <td>6.7390</td>\n",
       "      <td>0.01%</td>\n",
       "    </tr>\n",
       "    <tr>\n",
       "      <th>2</th>\n",
       "      <td>Jul 18, 2022</td>\n",
       "      <td>6.7420</td>\n",
       "      <td>6.7481</td>\n",
       "      <td>6.7551</td>\n",
       "      <td>6.7320</td>\n",
       "      <td>-0.21%</td>\n",
       "    </tr>\n",
       "    <tr>\n",
       "      <th>3</th>\n",
       "      <td>Jul 15, 2022</td>\n",
       "      <td>6.7565</td>\n",
       "      <td>6.7517</td>\n",
       "      <td>6.7698</td>\n",
       "      <td>6.7396</td>\n",
       "      <td>0.03%</td>\n",
       "    </tr>\n",
       "    <tr>\n",
       "      <th>4</th>\n",
       "      <td>Jul 14, 2022</td>\n",
       "      <td>6.7542</td>\n",
       "      <td>6.7269</td>\n",
       "      <td>6.7674</td>\n",
       "      <td>6.7228</td>\n",
       "      <td>0.55%</td>\n",
       "    </tr>\n",
       "  </tbody>\n",
       "</table>\n",
       "</div>"
      ],
      "text/plain": [
       "           Date   Price    Open    High     Low Change %\n",
       "0  Jul 20, 2022  6.7523  6.7447  6.7556  6.7401    0.14%\n",
       "1  Jul 19, 2022  6.7430  6.7473  6.7542  6.7390    0.01%\n",
       "2  Jul 18, 2022  6.7420  6.7481  6.7551  6.7320   -0.21%\n",
       "3  Jul 15, 2022  6.7565  6.7517  6.7698  6.7396    0.03%\n",
       "4  Jul 14, 2022  6.7542  6.7269  6.7674  6.7228    0.55%"
      ]
     },
     "execution_count": 14,
     "metadata": {},
     "output_type": "execute_result"
    }
   ],
   "source": [
    "USD_CNY_df.head()"
   ]
  },
  {
   "cell_type": "markdown",
   "metadata": {},
   "source": [
    "# Data Wrangling"
   ]
  },
  {
   "cell_type": "markdown",
   "metadata": {},
   "source": [
    "## Etapa de descubrimiento"
   ]
  },
  {
   "cell_type": "markdown",
   "metadata": {},
   "source": [
    "Se procede a analizar la estructura fundamental de las bases de datos adquiridas."
   ]
  },
  {
   "cell_type": "markdown",
   "metadata": {},
   "source": [
    "### EUR/USD"
   ]
  },
  {
   "cell_type": "code",
   "execution_count": 15,
   "metadata": {},
   "outputs": [
    {
     "name": "stdout",
     "output_type": "stream",
     "text": [
      "Cantidad de registros:  3274\n",
      "Cantidad de variables:  6\n"
     ]
    }
   ],
   "source": [
    "# Cantidad de registros y columnas/variables\n",
    "print (\"Cantidad de registros: \", EUR_USD_df.shape [0])\n",
    "print (\"Cantidad de variables: \", EUR_USD_df.shape [1])"
   ]
  },
  {
   "cell_type": "code",
   "execution_count": 16,
   "metadata": {},
   "outputs": [
    {
     "data": {
      "text/plain": [
       "Index(['Date', 'Price', 'Open', 'High', 'Low', 'Change %'], dtype='object')"
      ]
     },
     "execution_count": 16,
     "metadata": {},
     "output_type": "execute_result"
    }
   ],
   "source": [
    "# Nombre de las columnas\n",
    "EUR_USD_df.columns"
   ]
  },
  {
   "cell_type": "code",
   "execution_count": 17,
   "metadata": {},
   "outputs": [
    {
     "data": {
      "text/plain": [
       "Date        3274\n",
       "Price       3274\n",
       "Open        3274\n",
       "High        3274\n",
       "Low         3274\n",
       "Change %    3274\n",
       "dtype: int64"
      ]
     },
     "execution_count": 17,
     "metadata": {},
     "output_type": "execute_result"
    }
   ],
   "source": [
    "# Cantidad de registros\n",
    "EUR_USD_df.count()"
   ]
  },
  {
   "cell_type": "code",
   "execution_count": 18,
   "metadata": {},
   "outputs": [
    {
     "data": {
      "text/plain": [
       "Date        0\n",
       "Price       0\n",
       "Open        0\n",
       "High        0\n",
       "Low         0\n",
       "Change %    0\n",
       "dtype: int64"
      ]
     },
     "execution_count": 18,
     "metadata": {},
     "output_type": "execute_result"
    }
   ],
   "source": [
    "# Conociendo los registros nulos\n",
    "EUR_USD_df.isnull().sum() "
   ]
  },
  {
   "cell_type": "code",
   "execution_count": 19,
   "metadata": {},
   "outputs": [
    {
     "data": {
      "text/plain": [
       "Date         object\n",
       "Price       float64\n",
       "Open        float64\n",
       "High        float64\n",
       "Low         float64\n",
       "Change %     object\n",
       "dtype: object"
      ]
     },
     "execution_count": 19,
     "metadata": {},
     "output_type": "execute_result"
    }
   ],
   "source": [
    "# Tipos de datos\n",
    "EUR_USD_df.dtypes"
   ]
  },
  {
   "cell_type": "code",
   "execution_count": 20,
   "metadata": {},
   "outputs": [
    {
     "name": "stdout",
     "output_type": "stream",
     "text": [
      "Cantidad de duplicados en la variable [Date]:  0\n"
     ]
    }
   ],
   "source": [
    "# Se buscan duplicados\n",
    "print (\"Cantidad de duplicados en la variable [Date]: \", EUR_USD_df[\"Date\"].duplicated().sum())"
   ]
  },
  {
   "cell_type": "code",
   "execution_count": 21,
   "metadata": {},
   "outputs": [],
   "source": [
    "# Se modifica la variable [Change %] a fin de quitarle el signo \"%\" asignado a cada valor\n",
    "EUR_USD_df [\"Change %\"] = EUR_USD_df [\"Change %\"].str.replace (\"%\",\"\")"
   ]
  },
  {
   "cell_type": "code",
   "execution_count": 22,
   "metadata": {},
   "outputs": [
    {
     "data": {
      "text/html": [
       "<div>\n",
       "<style scoped>\n",
       "    .dataframe tbody tr th:only-of-type {\n",
       "        vertical-align: middle;\n",
       "    }\n",
       "\n",
       "    .dataframe tbody tr th {\n",
       "        vertical-align: top;\n",
       "    }\n",
       "\n",
       "    .dataframe thead th {\n",
       "        text-align: right;\n",
       "    }\n",
       "</style>\n",
       "<table border=\"1\" class=\"dataframe\">\n",
       "  <thead>\n",
       "    <tr style=\"text-align: right;\">\n",
       "      <th></th>\n",
       "      <th>Date</th>\n",
       "      <th>Price</th>\n",
       "      <th>Open</th>\n",
       "      <th>High</th>\n",
       "      <th>Low</th>\n",
       "      <th>Change %</th>\n",
       "    </tr>\n",
       "  </thead>\n",
       "  <tbody>\n",
       "    <tr>\n",
       "      <th>0</th>\n",
       "      <td>Jul 20, 2022</td>\n",
       "      <td>1.0242</td>\n",
       "      <td>1.0231</td>\n",
       "      <td>1.0248</td>\n",
       "      <td>1.0231</td>\n",
       "      <td>0.18</td>\n",
       "    </tr>\n",
       "    <tr>\n",
       "      <th>1</th>\n",
       "      <td>Jul 19, 2022</td>\n",
       "      <td>1.0224</td>\n",
       "      <td>1.0143</td>\n",
       "      <td>1.0270</td>\n",
       "      <td>1.0120</td>\n",
       "      <td>0.82</td>\n",
       "    </tr>\n",
       "    <tr>\n",
       "      <th>2</th>\n",
       "      <td>Jul 18, 2022</td>\n",
       "      <td>1.0141</td>\n",
       "      <td>1.0085</td>\n",
       "      <td>1.0202</td>\n",
       "      <td>1.0078</td>\n",
       "      <td>0.54</td>\n",
       "    </tr>\n",
       "    <tr>\n",
       "      <th>3</th>\n",
       "      <td>Jul 15, 2022</td>\n",
       "      <td>1.0087</td>\n",
       "      <td>1.0018</td>\n",
       "      <td>1.0099</td>\n",
       "      <td>1.0007</td>\n",
       "      <td>0.71</td>\n",
       "    </tr>\n",
       "    <tr>\n",
       "      <th>4</th>\n",
       "      <td>Jul 14, 2022</td>\n",
       "      <td>1.0016</td>\n",
       "      <td>1.0061</td>\n",
       "      <td>1.0065</td>\n",
       "      <td>0.9952</td>\n",
       "      <td>-0.44</td>\n",
       "    </tr>\n",
       "  </tbody>\n",
       "</table>\n",
       "</div>"
      ],
      "text/plain": [
       "           Date   Price    Open    High     Low Change %\n",
       "0  Jul 20, 2022  1.0242  1.0231  1.0248  1.0231     0.18\n",
       "1  Jul 19, 2022  1.0224  1.0143  1.0270  1.0120     0.82\n",
       "2  Jul 18, 2022  1.0141  1.0085  1.0202  1.0078     0.54\n",
       "3  Jul 15, 2022  1.0087  1.0018  1.0099  1.0007     0.71\n",
       "4  Jul 14, 2022  1.0016  1.0061  1.0065  0.9952    -0.44"
      ]
     },
     "execution_count": 22,
     "metadata": {},
     "output_type": "execute_result"
    }
   ],
   "source": [
    "EUR_USD_df.head()"
   ]
  },
  {
   "cell_type": "code",
   "execution_count": 23,
   "metadata": {},
   "outputs": [],
   "source": [
    "# Se renombra la columna [Change %] por [Percentage_diff]\n",
    "EUR_USD_df = EUR_USD_df.rename (columns={\"Change %\":\"Percentage_diff\"})"
   ]
  },
  {
   "cell_type": "code",
   "execution_count": 24,
   "metadata": {},
   "outputs": [
    {
     "data": {
      "text/plain": [
       "Index(['Date', 'Price', 'Open', 'High', 'Low', 'Percentage_diff'], dtype='object')"
      ]
     },
     "execution_count": 24,
     "metadata": {},
     "output_type": "execute_result"
    }
   ],
   "source": [
    "EUR_USD_df.columns"
   ]
  },
  {
   "cell_type": "code",
   "execution_count": 25,
   "metadata": {},
   "outputs": [],
   "source": [
    "# Se transforma el tipo de dato de la columna [Percentage_diff] de objeto a float\n",
    "EUR_USD_df [\"Percentage_diff\"]= EUR_USD_df [\"Percentage_diff\"].astype(float)"
   ]
  },
  {
   "cell_type": "code",
   "execution_count": 26,
   "metadata": {},
   "outputs": [
    {
     "data": {
      "text/plain": [
       "Date                object\n",
       "Price              float64\n",
       "Open               float64\n",
       "High               float64\n",
       "Low                float64\n",
       "Percentage_diff    float64\n",
       "dtype: object"
      ]
     },
     "execution_count": 26,
     "metadata": {},
     "output_type": "execute_result"
    }
   ],
   "source": [
    "EUR_USD_df.dtypes"
   ]
  },
  {
   "cell_type": "code",
   "execution_count": 27,
   "metadata": {},
   "outputs": [],
   "source": [
    "# Se transforma el tipo de dato de la columna [Date] de objeto a datetime64 [ns]\n",
    "EUR_USD_df ['Date'] = pd.to_datetime(EUR_USD_df ['Date'])"
   ]
  },
  {
   "cell_type": "code",
   "execution_count": 28,
   "metadata": {},
   "outputs": [
    {
     "data": {
      "text/plain": [
       "Date               datetime64[ns]\n",
       "Price                     float64\n",
       "Open                      float64\n",
       "High                      float64\n",
       "Low                       float64\n",
       "Percentage_diff           float64\n",
       "dtype: object"
      ]
     },
     "execution_count": 28,
     "metadata": {},
     "output_type": "execute_result"
    }
   ],
   "source": [
    "EUR_USD_df.dtypes"
   ]
  },
  {
   "cell_type": "code",
   "execution_count": 29,
   "metadata": {},
   "outputs": [],
   "source": [
    "# Se reordena el data set según fechas ascendentes (se resetea el índice y se elimina la columna índice que se crea por defecto)\n",
    "EUR_USD_df = EUR_USD_df.sort_values(\"Date\").reset_index().drop([\"index\"], axis=1)"
   ]
  },
  {
   "cell_type": "code",
   "execution_count": 30,
   "metadata": {},
   "outputs": [
    {
     "data": {
      "text/html": [
       "<div>\n",
       "<style scoped>\n",
       "    .dataframe tbody tr th:only-of-type {\n",
       "        vertical-align: middle;\n",
       "    }\n",
       "\n",
       "    .dataframe tbody tr th {\n",
       "        vertical-align: top;\n",
       "    }\n",
       "\n",
       "    .dataframe thead th {\n",
       "        text-align: right;\n",
       "    }\n",
       "</style>\n",
       "<table border=\"1\" class=\"dataframe\">\n",
       "  <thead>\n",
       "    <tr style=\"text-align: right;\">\n",
       "      <th></th>\n",
       "      <th>Date</th>\n",
       "      <th>Price</th>\n",
       "      <th>Open</th>\n",
       "      <th>High</th>\n",
       "      <th>Low</th>\n",
       "      <th>Percentage_diff</th>\n",
       "    </tr>\n",
       "  </thead>\n",
       "  <tbody>\n",
       "    <tr>\n",
       "      <th>0</th>\n",
       "      <td>2010-01-01</td>\n",
       "      <td>1.4326</td>\n",
       "      <td>1.4328</td>\n",
       "      <td>1.4330</td>\n",
       "      <td>1.4322</td>\n",
       "      <td>0.06</td>\n",
       "    </tr>\n",
       "    <tr>\n",
       "      <th>1</th>\n",
       "      <td>2010-01-04</td>\n",
       "      <td>1.4413</td>\n",
       "      <td>1.4325</td>\n",
       "      <td>1.4457</td>\n",
       "      <td>1.4257</td>\n",
       "      <td>0.61</td>\n",
       "    </tr>\n",
       "    <tr>\n",
       "      <th>2</th>\n",
       "      <td>2010-01-05</td>\n",
       "      <td>1.4369</td>\n",
       "      <td>1.4409</td>\n",
       "      <td>1.4484</td>\n",
       "      <td>1.4346</td>\n",
       "      <td>-0.31</td>\n",
       "    </tr>\n",
       "    <tr>\n",
       "      <th>3</th>\n",
       "      <td>2010-01-06</td>\n",
       "      <td>1.4413</td>\n",
       "      <td>1.4364</td>\n",
       "      <td>1.4436</td>\n",
       "      <td>1.4282</td>\n",
       "      <td>0.31</td>\n",
       "    </tr>\n",
       "    <tr>\n",
       "      <th>4</th>\n",
       "      <td>2010-01-07</td>\n",
       "      <td>1.4318</td>\n",
       "      <td>1.4407</td>\n",
       "      <td>1.4447</td>\n",
       "      <td>1.4295</td>\n",
       "      <td>-0.66</td>\n",
       "    </tr>\n",
       "  </tbody>\n",
       "</table>\n",
       "</div>"
      ],
      "text/plain": [
       "        Date   Price    Open    High     Low  Percentage_diff\n",
       "0 2010-01-01  1.4326  1.4328  1.4330  1.4322             0.06\n",
       "1 2010-01-04  1.4413  1.4325  1.4457  1.4257             0.61\n",
       "2 2010-01-05  1.4369  1.4409  1.4484  1.4346            -0.31\n",
       "3 2010-01-06  1.4413  1.4364  1.4436  1.4282             0.31\n",
       "4 2010-01-07  1.4318  1.4407  1.4447  1.4295            -0.66"
      ]
     },
     "execution_count": 30,
     "metadata": {},
     "output_type": "execute_result"
    }
   ],
   "source": [
    "EUR_USD_df.head()"
   ]
  },
  {
   "cell_type": "code",
   "execution_count": 31,
   "metadata": {},
   "outputs": [],
   "source": [
    "# Dado que se concatenará con los otros pares de monedas se reduce el data set a [Date], [Price] y [Percentage_diff]\n",
    "EUR_USD_df = EUR_USD_df [[\"Date\", \"Price\", \"Percentage_diff\"]]"
   ]
  },
  {
   "cell_type": "code",
   "execution_count": 32,
   "metadata": {},
   "outputs": [],
   "source": [
    "# Se modifica los nombres de las columnas para su posterior concatenación\n",
    "Columnas = [\"Price\", \"Percentage_diff\"]\n",
    "\n",
    "for col in Columnas:\n",
    "    EUR_USD_df = EUR_USD_df.rename(columns={col:\"\"+col+\"_EUR_USD\"})"
   ]
  },
  {
   "cell_type": "code",
   "execution_count": 33,
   "metadata": {},
   "outputs": [
    {
     "data": {
      "text/plain": [
       "Index(['Date', 'Price_EUR_USD', 'Percentage_diff_EUR_USD'], dtype='object')"
      ]
     },
     "execution_count": 33,
     "metadata": {},
     "output_type": "execute_result"
    }
   ],
   "source": [
    "EUR_USD_df.columns"
   ]
  },
  {
   "cell_type": "markdown",
   "metadata": {},
   "source": [
    "### USD_JPY_df"
   ]
  },
  {
   "cell_type": "code",
   "execution_count": 34,
   "metadata": {},
   "outputs": [
    {
     "name": "stdout",
     "output_type": "stream",
     "text": [
      "Cantidad de registros:  3274\n",
      "Cantidad de variables:  6\n"
     ]
    }
   ],
   "source": [
    "# Cantidad de registros y columnas/variables\n",
    "print (\"Cantidad de registros: \", USD_JPY_df.shape [0])\n",
    "print (\"Cantidad de variables: \", USD_JPY_df.shape [1])"
   ]
  },
  {
   "cell_type": "code",
   "execution_count": 35,
   "metadata": {},
   "outputs": [
    {
     "data": {
      "text/plain": [
       "Index(['Date', 'Price', 'Open', 'High', 'Low', 'Change %'], dtype='object')"
      ]
     },
     "execution_count": 35,
     "metadata": {},
     "output_type": "execute_result"
    }
   ],
   "source": [
    "# Nombre de las columnas\n",
    "USD_JPY_df.columns"
   ]
  },
  {
   "cell_type": "code",
   "execution_count": 36,
   "metadata": {},
   "outputs": [
    {
     "data": {
      "text/plain": [
       "Date        3274\n",
       "Price       3274\n",
       "Open        3274\n",
       "High        3274\n",
       "Low         3274\n",
       "Change %    3274\n",
       "dtype: int64"
      ]
     },
     "execution_count": 36,
     "metadata": {},
     "output_type": "execute_result"
    }
   ],
   "source": [
    "# Cantidad de registros\n",
    "USD_JPY_df.count()"
   ]
  },
  {
   "cell_type": "code",
   "execution_count": 37,
   "metadata": {},
   "outputs": [
    {
     "data": {
      "text/plain": [
       "Date        0\n",
       "Price       0\n",
       "Open        0\n",
       "High        0\n",
       "Low         0\n",
       "Change %    0\n",
       "dtype: int64"
      ]
     },
     "execution_count": 37,
     "metadata": {},
     "output_type": "execute_result"
    }
   ],
   "source": [
    "# Conociendo los registros nulos\n",
    "USD_JPY_df.isnull().sum() "
   ]
  },
  {
   "cell_type": "code",
   "execution_count": 38,
   "metadata": {},
   "outputs": [
    {
     "data": {
      "text/plain": [
       "Date         object\n",
       "Price       float64\n",
       "Open        float64\n",
       "High        float64\n",
       "Low         float64\n",
       "Change %     object\n",
       "dtype: object"
      ]
     },
     "execution_count": 38,
     "metadata": {},
     "output_type": "execute_result"
    }
   ],
   "source": [
    "# Tipos de datos\n",
    "USD_JPY_df.dtypes"
   ]
  },
  {
   "cell_type": "code",
   "execution_count": 39,
   "metadata": {},
   "outputs": [
    {
     "name": "stdout",
     "output_type": "stream",
     "text": [
      "Cantidad de duplicados en la variable [Date]:  0\n"
     ]
    }
   ],
   "source": [
    "# Se buscan duplicados\n",
    "print (\"Cantidad de duplicados en la variable [Date]: \", USD_JPY_df[\"Date\"].duplicated().sum())"
   ]
  },
  {
   "cell_type": "code",
   "execution_count": 40,
   "metadata": {},
   "outputs": [],
   "source": [
    "# Se modifca la variable [Change %] a fin de quitarle el signo \"%\" asignado a cada valor\n",
    "USD_JPY_df [\"Change %\"] = USD_JPY_df [\"Change %\"].str.replace (\"%\",\"\")"
   ]
  },
  {
   "cell_type": "code",
   "execution_count": 41,
   "metadata": {},
   "outputs": [
    {
     "data": {
      "text/html": [
       "<div>\n",
       "<style scoped>\n",
       "    .dataframe tbody tr th:only-of-type {\n",
       "        vertical-align: middle;\n",
       "    }\n",
       "\n",
       "    .dataframe tbody tr th {\n",
       "        vertical-align: top;\n",
       "    }\n",
       "\n",
       "    .dataframe thead th {\n",
       "        text-align: right;\n",
       "    }\n",
       "</style>\n",
       "<table border=\"1\" class=\"dataframe\">\n",
       "  <thead>\n",
       "    <tr style=\"text-align: right;\">\n",
       "      <th></th>\n",
       "      <th>Date</th>\n",
       "      <th>Price</th>\n",
       "      <th>Open</th>\n",
       "      <th>High</th>\n",
       "      <th>Low</th>\n",
       "      <th>Change %</th>\n",
       "    </tr>\n",
       "  </thead>\n",
       "  <tbody>\n",
       "    <tr>\n",
       "      <th>0</th>\n",
       "      <td>Jul 20, 2022</td>\n",
       "      <td>138.07</td>\n",
       "      <td>138.18</td>\n",
       "      <td>138.38</td>\n",
       "      <td>137.90</td>\n",
       "      <td>-0.08</td>\n",
       "    </tr>\n",
       "    <tr>\n",
       "      <th>1</th>\n",
       "      <td>Jul 19, 2022</td>\n",
       "      <td>138.18</td>\n",
       "      <td>138.13</td>\n",
       "      <td>138.40</td>\n",
       "      <td>137.38</td>\n",
       "      <td>0.04</td>\n",
       "    </tr>\n",
       "    <tr>\n",
       "      <th>2</th>\n",
       "      <td>Jul 18, 2022</td>\n",
       "      <td>138.12</td>\n",
       "      <td>138.54</td>\n",
       "      <td>138.59</td>\n",
       "      <td>137.89</td>\n",
       "      <td>-0.30</td>\n",
       "    </tr>\n",
       "    <tr>\n",
       "      <th>3</th>\n",
       "      <td>Jul 15, 2022</td>\n",
       "      <td>138.53</td>\n",
       "      <td>138.96</td>\n",
       "      <td>139.13</td>\n",
       "      <td>138.39</td>\n",
       "      <td>-0.27</td>\n",
       "    </tr>\n",
       "    <tr>\n",
       "      <th>4</th>\n",
       "      <td>Jul 14, 2022</td>\n",
       "      <td>138.90</td>\n",
       "      <td>137.43</td>\n",
       "      <td>139.40</td>\n",
       "      <td>137.33</td>\n",
       "      <td>1.08</td>\n",
       "    </tr>\n",
       "  </tbody>\n",
       "</table>\n",
       "</div>"
      ],
      "text/plain": [
       "           Date   Price    Open    High     Low Change %\n",
       "0  Jul 20, 2022  138.07  138.18  138.38  137.90    -0.08\n",
       "1  Jul 19, 2022  138.18  138.13  138.40  137.38     0.04\n",
       "2  Jul 18, 2022  138.12  138.54  138.59  137.89    -0.30\n",
       "3  Jul 15, 2022  138.53  138.96  139.13  138.39    -0.27\n",
       "4  Jul 14, 2022  138.90  137.43  139.40  137.33     1.08"
      ]
     },
     "execution_count": 41,
     "metadata": {},
     "output_type": "execute_result"
    }
   ],
   "source": [
    "USD_JPY_df.head()"
   ]
  },
  {
   "cell_type": "code",
   "execution_count": 42,
   "metadata": {},
   "outputs": [],
   "source": [
    "# Se renombra la columna [Change %] por [Percentage_diff]\n",
    "USD_JPY_df = USD_JPY_df.rename (columns={\"Change %\":\"Percentage_diff\"})"
   ]
  },
  {
   "cell_type": "code",
   "execution_count": 43,
   "metadata": {},
   "outputs": [
    {
     "data": {
      "text/plain": [
       "Index(['Date', 'Price', 'Open', 'High', 'Low', 'Percentage_diff'], dtype='object')"
      ]
     },
     "execution_count": 43,
     "metadata": {},
     "output_type": "execute_result"
    }
   ],
   "source": [
    "USD_JPY_df.columns"
   ]
  },
  {
   "cell_type": "code",
   "execution_count": 44,
   "metadata": {},
   "outputs": [],
   "source": [
    "# Se transforma el tipo de dato de la columna [Percentage_diff] de objeto a float\n",
    "USD_JPY_df [\"Percentage_diff\"]= USD_JPY_df [\"Percentage_diff\"].astype(float)"
   ]
  },
  {
   "cell_type": "code",
   "execution_count": 45,
   "metadata": {},
   "outputs": [
    {
     "data": {
      "text/plain": [
       "Date                object\n",
       "Price              float64\n",
       "Open               float64\n",
       "High               float64\n",
       "Low                float64\n",
       "Percentage_diff    float64\n",
       "dtype: object"
      ]
     },
     "execution_count": 45,
     "metadata": {},
     "output_type": "execute_result"
    }
   ],
   "source": [
    "USD_JPY_df.dtypes"
   ]
  },
  {
   "cell_type": "code",
   "execution_count": 46,
   "metadata": {},
   "outputs": [],
   "source": [
    "# Se transforma el tipo de dato de la columna [Date] de objeto a datetime64 [ns]\n",
    "USD_JPY_df ['Date'] = pd.to_datetime(USD_JPY_df ['Date'])"
   ]
  },
  {
   "cell_type": "code",
   "execution_count": 47,
   "metadata": {},
   "outputs": [
    {
     "data": {
      "text/plain": [
       "Date               datetime64[ns]\n",
       "Price                     float64\n",
       "Open                      float64\n",
       "High                      float64\n",
       "Low                       float64\n",
       "Percentage_diff           float64\n",
       "dtype: object"
      ]
     },
     "execution_count": 47,
     "metadata": {},
     "output_type": "execute_result"
    }
   ],
   "source": [
    "USD_JPY_df.dtypes"
   ]
  },
  {
   "cell_type": "code",
   "execution_count": 48,
   "metadata": {},
   "outputs": [],
   "source": [
    "# Se reordena el data set según fechas ascendentes (se resetea el índice y se elimina la columna índice que se crea por defecto)\n",
    "USD_JPY_df = USD_JPY_df.sort_values(\"Date\").reset_index().drop([\"index\"], axis=1)"
   ]
  },
  {
   "cell_type": "code",
   "execution_count": 49,
   "metadata": {},
   "outputs": [
    {
     "data": {
      "text/html": [
       "<div>\n",
       "<style scoped>\n",
       "    .dataframe tbody tr th:only-of-type {\n",
       "        vertical-align: middle;\n",
       "    }\n",
       "\n",
       "    .dataframe tbody tr th {\n",
       "        vertical-align: top;\n",
       "    }\n",
       "\n",
       "    .dataframe thead th {\n",
       "        text-align: right;\n",
       "    }\n",
       "</style>\n",
       "<table border=\"1\" class=\"dataframe\">\n",
       "  <thead>\n",
       "    <tr style=\"text-align: right;\">\n",
       "      <th></th>\n",
       "      <th>Date</th>\n",
       "      <th>Price</th>\n",
       "      <th>Open</th>\n",
       "      <th>High</th>\n",
       "      <th>Low</th>\n",
       "      <th>Percentage_diff</th>\n",
       "    </tr>\n",
       "  </thead>\n",
       "  <tbody>\n",
       "    <tr>\n",
       "      <th>0</th>\n",
       "      <td>2010-01-01</td>\n",
       "      <td>93.04</td>\n",
       "      <td>93.04</td>\n",
       "      <td>93.04</td>\n",
       "      <td>93.04</td>\n",
       "      <td>0.01</td>\n",
       "    </tr>\n",
       "    <tr>\n",
       "      <th>1</th>\n",
       "      <td>2010-01-04</td>\n",
       "      <td>92.47</td>\n",
       "      <td>92.75</td>\n",
       "      <td>93.21</td>\n",
       "      <td>92.19</td>\n",
       "      <td>-0.60</td>\n",
       "    </tr>\n",
       "    <tr>\n",
       "      <th>2</th>\n",
       "      <td>2010-01-05</td>\n",
       "      <td>91.58</td>\n",
       "      <td>92.47</td>\n",
       "      <td>92.51</td>\n",
       "      <td>91.25</td>\n",
       "      <td>-0.97</td>\n",
       "    </tr>\n",
       "    <tr>\n",
       "      <th>3</th>\n",
       "      <td>2010-01-06</td>\n",
       "      <td>92.38</td>\n",
       "      <td>91.56</td>\n",
       "      <td>92.74</td>\n",
       "      <td>91.53</td>\n",
       "      <td>0.87</td>\n",
       "    </tr>\n",
       "    <tr>\n",
       "      <th>4</th>\n",
       "      <td>2010-01-07</td>\n",
       "      <td>93.45</td>\n",
       "      <td>92.36</td>\n",
       "      <td>93.77</td>\n",
       "      <td>92.11</td>\n",
       "      <td>1.16</td>\n",
       "    </tr>\n",
       "  </tbody>\n",
       "</table>\n",
       "</div>"
      ],
      "text/plain": [
       "        Date  Price   Open   High    Low  Percentage_diff\n",
       "0 2010-01-01  93.04  93.04  93.04  93.04             0.01\n",
       "1 2010-01-04  92.47  92.75  93.21  92.19            -0.60\n",
       "2 2010-01-05  91.58  92.47  92.51  91.25            -0.97\n",
       "3 2010-01-06  92.38  91.56  92.74  91.53             0.87\n",
       "4 2010-01-07  93.45  92.36  93.77  92.11             1.16"
      ]
     },
     "execution_count": 49,
     "metadata": {},
     "output_type": "execute_result"
    }
   ],
   "source": [
    "USD_JPY_df.head()"
   ]
  },
  {
   "cell_type": "code",
   "execution_count": 50,
   "metadata": {},
   "outputs": [],
   "source": [
    "# Dado que se concatenará con los otros pares de monedas se reduce el data set a [Date], [Price] y [Percentage_diff]\n",
    "USD_JPY_df = USD_JPY_df [[\"Date\", \"Price\", \"Percentage_diff\"]]"
   ]
  },
  {
   "cell_type": "code",
   "execution_count": 51,
   "metadata": {},
   "outputs": [],
   "source": [
    "# Se modifica los nombres de las columnas para su posterior concatenación\n",
    "Columnas = [\"Price\", \"Percentage_diff\"]\n",
    "\n",
    "for col in Columnas:\n",
    "    USD_JPY_df = USD_JPY_df.rename(columns={col:\"\"+col+\"_USD_JPY\"})"
   ]
  },
  {
   "cell_type": "code",
   "execution_count": 52,
   "metadata": {},
   "outputs": [
    {
     "data": {
      "text/plain": [
       "Index(['Date', 'Price_USD_JPY', 'Percentage_diff_USD_JPY'], dtype='object')"
      ]
     },
     "execution_count": 52,
     "metadata": {},
     "output_type": "execute_result"
    }
   ],
   "source": [
    "USD_JPY_df.columns"
   ]
  },
  {
   "cell_type": "markdown",
   "metadata": {},
   "source": [
    "### USD_CNY_df"
   ]
  },
  {
   "cell_type": "code",
   "execution_count": 53,
   "metadata": {},
   "outputs": [
    {
     "name": "stdout",
     "output_type": "stream",
     "text": [
      "Cantidad de registros:  3257\n",
      "Cantidad de variables:  6\n"
     ]
    }
   ],
   "source": [
    "# Cantidad de registros y columnas/variables\n",
    "print (\"Cantidad de registros: \", USD_CNY_df.shape [0])\n",
    "print (\"Cantidad de variables: \", USD_CNY_df.shape [1])"
   ]
  },
  {
   "cell_type": "code",
   "execution_count": 54,
   "metadata": {},
   "outputs": [
    {
     "data": {
      "text/plain": [
       "Index(['Date', 'Price', 'Open', 'High', 'Low', 'Change %'], dtype='object')"
      ]
     },
     "execution_count": 54,
     "metadata": {},
     "output_type": "execute_result"
    }
   ],
   "source": [
    "# Nombre de las columnas\n",
    "USD_CNY_df.columns"
   ]
  },
  {
   "cell_type": "code",
   "execution_count": 55,
   "metadata": {},
   "outputs": [
    {
     "data": {
      "text/plain": [
       "Date        3257\n",
       "Price       3257\n",
       "Open        3257\n",
       "High        3257\n",
       "Low         3257\n",
       "Change %    3257\n",
       "dtype: int64"
      ]
     },
     "execution_count": 55,
     "metadata": {},
     "output_type": "execute_result"
    }
   ],
   "source": [
    "# Cantidad de registros\n",
    "USD_CNY_df.count()"
   ]
  },
  {
   "cell_type": "code",
   "execution_count": 56,
   "metadata": {},
   "outputs": [
    {
     "data": {
      "text/plain": [
       "Date        0\n",
       "Price       0\n",
       "Open        0\n",
       "High        0\n",
       "Low         0\n",
       "Change %    0\n",
       "dtype: int64"
      ]
     },
     "execution_count": 56,
     "metadata": {},
     "output_type": "execute_result"
    }
   ],
   "source": [
    "# Conociendo los registros nulos\n",
    "USD_CNY_df.isnull().sum() "
   ]
  },
  {
   "cell_type": "code",
   "execution_count": 57,
   "metadata": {},
   "outputs": [
    {
     "data": {
      "text/plain": [
       "Date         object\n",
       "Price       float64\n",
       "Open        float64\n",
       "High        float64\n",
       "Low         float64\n",
       "Change %     object\n",
       "dtype: object"
      ]
     },
     "execution_count": 57,
     "metadata": {},
     "output_type": "execute_result"
    }
   ],
   "source": [
    "# Tipos de datos\n",
    "USD_CNY_df.dtypes"
   ]
  },
  {
   "cell_type": "code",
   "execution_count": 58,
   "metadata": {},
   "outputs": [
    {
     "name": "stdout",
     "output_type": "stream",
     "text": [
      "Cantidad de duplicados en la variable [Date]:  0\n"
     ]
    }
   ],
   "source": [
    "# Se buscan duplicados\n",
    "print (\"Cantidad de duplicados en la variable [Date]: \", USD_CNY_df[\"Date\"].duplicated().sum())"
   ]
  },
  {
   "cell_type": "code",
   "execution_count": 59,
   "metadata": {},
   "outputs": [],
   "source": [
    "# Se modifica la variable [Change %] a fin de quitarle el signo \"%\" asignado a cada valor\n",
    "USD_CNY_df [\"Change %\"] = USD_CNY_df [\"Change %\"].str.replace (\"%\",\"\")"
   ]
  },
  {
   "cell_type": "code",
   "execution_count": 60,
   "metadata": {},
   "outputs": [
    {
     "data": {
      "text/html": [
       "<div>\n",
       "<style scoped>\n",
       "    .dataframe tbody tr th:only-of-type {\n",
       "        vertical-align: middle;\n",
       "    }\n",
       "\n",
       "    .dataframe tbody tr th {\n",
       "        vertical-align: top;\n",
       "    }\n",
       "\n",
       "    .dataframe thead th {\n",
       "        text-align: right;\n",
       "    }\n",
       "</style>\n",
       "<table border=\"1\" class=\"dataframe\">\n",
       "  <thead>\n",
       "    <tr style=\"text-align: right;\">\n",
       "      <th></th>\n",
       "      <th>Date</th>\n",
       "      <th>Price</th>\n",
       "      <th>Open</th>\n",
       "      <th>High</th>\n",
       "      <th>Low</th>\n",
       "      <th>Change %</th>\n",
       "    </tr>\n",
       "  </thead>\n",
       "  <tbody>\n",
       "    <tr>\n",
       "      <th>0</th>\n",
       "      <td>Jul 20, 2022</td>\n",
       "      <td>6.7523</td>\n",
       "      <td>6.7447</td>\n",
       "      <td>6.7556</td>\n",
       "      <td>6.7401</td>\n",
       "      <td>0.14</td>\n",
       "    </tr>\n",
       "    <tr>\n",
       "      <th>1</th>\n",
       "      <td>Jul 19, 2022</td>\n",
       "      <td>6.7430</td>\n",
       "      <td>6.7473</td>\n",
       "      <td>6.7542</td>\n",
       "      <td>6.7390</td>\n",
       "      <td>0.01</td>\n",
       "    </tr>\n",
       "    <tr>\n",
       "      <th>2</th>\n",
       "      <td>Jul 18, 2022</td>\n",
       "      <td>6.7420</td>\n",
       "      <td>6.7481</td>\n",
       "      <td>6.7551</td>\n",
       "      <td>6.7320</td>\n",
       "      <td>-0.21</td>\n",
       "    </tr>\n",
       "    <tr>\n",
       "      <th>3</th>\n",
       "      <td>Jul 15, 2022</td>\n",
       "      <td>6.7565</td>\n",
       "      <td>6.7517</td>\n",
       "      <td>6.7698</td>\n",
       "      <td>6.7396</td>\n",
       "      <td>0.03</td>\n",
       "    </tr>\n",
       "    <tr>\n",
       "      <th>4</th>\n",
       "      <td>Jul 14, 2022</td>\n",
       "      <td>6.7542</td>\n",
       "      <td>6.7269</td>\n",
       "      <td>6.7674</td>\n",
       "      <td>6.7228</td>\n",
       "      <td>0.55</td>\n",
       "    </tr>\n",
       "  </tbody>\n",
       "</table>\n",
       "</div>"
      ],
      "text/plain": [
       "           Date   Price    Open    High     Low Change %\n",
       "0  Jul 20, 2022  6.7523  6.7447  6.7556  6.7401     0.14\n",
       "1  Jul 19, 2022  6.7430  6.7473  6.7542  6.7390     0.01\n",
       "2  Jul 18, 2022  6.7420  6.7481  6.7551  6.7320    -0.21\n",
       "3  Jul 15, 2022  6.7565  6.7517  6.7698  6.7396     0.03\n",
       "4  Jul 14, 2022  6.7542  6.7269  6.7674  6.7228     0.55"
      ]
     },
     "execution_count": 60,
     "metadata": {},
     "output_type": "execute_result"
    }
   ],
   "source": [
    "USD_CNY_df.head()"
   ]
  },
  {
   "cell_type": "code",
   "execution_count": 61,
   "metadata": {},
   "outputs": [],
   "source": [
    "# Se renombra la columna [Change %] por [Percentage_diff]\n",
    "USD_CNY_df = USD_CNY_df.rename (columns={\"Change %\":\"Percentage_diff\"})"
   ]
  },
  {
   "cell_type": "code",
   "execution_count": 62,
   "metadata": {},
   "outputs": [
    {
     "data": {
      "text/plain": [
       "Index(['Date', 'Price', 'Open', 'High', 'Low', 'Percentage_diff'], dtype='object')"
      ]
     },
     "execution_count": 62,
     "metadata": {},
     "output_type": "execute_result"
    }
   ],
   "source": [
    "USD_CNY_df.columns"
   ]
  },
  {
   "cell_type": "code",
   "execution_count": 63,
   "metadata": {},
   "outputs": [],
   "source": [
    "# Se transforma el tipo de dato de la columna [Percentage_diff] de objeto a float\n",
    "USD_CNY_df [\"Percentage_diff\"]= USD_CNY_df [\"Percentage_diff\"].astype(float)"
   ]
  },
  {
   "cell_type": "code",
   "execution_count": 64,
   "metadata": {},
   "outputs": [
    {
     "data": {
      "text/plain": [
       "Date                object\n",
       "Price              float64\n",
       "Open               float64\n",
       "High               float64\n",
       "Low                float64\n",
       "Percentage_diff    float64\n",
       "dtype: object"
      ]
     },
     "execution_count": 64,
     "metadata": {},
     "output_type": "execute_result"
    }
   ],
   "source": [
    "USD_CNY_df.dtypes"
   ]
  },
  {
   "cell_type": "code",
   "execution_count": 65,
   "metadata": {},
   "outputs": [],
   "source": [
    "# Se transforma el tipo de dato de la columna [Date] de objeto a datetime64 [ns]\n",
    "USD_CNY_df ['Date'] = pd.to_datetime(USD_CNY_df ['Date'])"
   ]
  },
  {
   "cell_type": "code",
   "execution_count": 66,
   "metadata": {},
   "outputs": [
    {
     "data": {
      "text/plain": [
       "Date               datetime64[ns]\n",
       "Price                     float64\n",
       "Open                      float64\n",
       "High                      float64\n",
       "Low                       float64\n",
       "Percentage_diff           float64\n",
       "dtype: object"
      ]
     },
     "execution_count": 66,
     "metadata": {},
     "output_type": "execute_result"
    }
   ],
   "source": [
    "USD_CNY_df.dtypes"
   ]
  },
  {
   "cell_type": "code",
   "execution_count": 67,
   "metadata": {},
   "outputs": [],
   "source": [
    "# Se reordena el data set según fechas ascendentes (se resetea el índice y se elimina la columna índice que se crea por defecto)\n",
    "USD_CNY_df = USD_CNY_df.sort_values(\"Date\").reset_index().drop([\"index\"], axis=1)"
   ]
  },
  {
   "cell_type": "code",
   "execution_count": 68,
   "metadata": {},
   "outputs": [
    {
     "data": {
      "text/html": [
       "<div>\n",
       "<style scoped>\n",
       "    .dataframe tbody tr th:only-of-type {\n",
       "        vertical-align: middle;\n",
       "    }\n",
       "\n",
       "    .dataframe tbody tr th {\n",
       "        vertical-align: top;\n",
       "    }\n",
       "\n",
       "    .dataframe thead th {\n",
       "        text-align: right;\n",
       "    }\n",
       "</style>\n",
       "<table border=\"1\" class=\"dataframe\">\n",
       "  <thead>\n",
       "    <tr style=\"text-align: right;\">\n",
       "      <th></th>\n",
       "      <th>Date</th>\n",
       "      <th>Price</th>\n",
       "      <th>Open</th>\n",
       "      <th>High</th>\n",
       "      <th>Low</th>\n",
       "      <th>Percentage_diff</th>\n",
       "    </tr>\n",
       "  </thead>\n",
       "  <tbody>\n",
       "    <tr>\n",
       "      <th>0</th>\n",
       "      <td>2010-01-01</td>\n",
       "      <td>6.8270</td>\n",
       "      <td>6.8270</td>\n",
       "      <td>6.8270</td>\n",
       "      <td>6.8270</td>\n",
       "      <td>0.00</td>\n",
       "    </tr>\n",
       "    <tr>\n",
       "      <th>1</th>\n",
       "      <td>2010-01-04</td>\n",
       "      <td>6.8285</td>\n",
       "      <td>6.8297</td>\n",
       "      <td>6.8297</td>\n",
       "      <td>6.8270</td>\n",
       "      <td>0.02</td>\n",
       "    </tr>\n",
       "    <tr>\n",
       "      <th>2</th>\n",
       "      <td>2010-01-05</td>\n",
       "      <td>6.8268</td>\n",
       "      <td>6.8283</td>\n",
       "      <td>6.8288</td>\n",
       "      <td>6.8257</td>\n",
       "      <td>-0.02</td>\n",
       "    </tr>\n",
       "    <tr>\n",
       "      <th>3</th>\n",
       "      <td>2010-01-06</td>\n",
       "      <td>6.8278</td>\n",
       "      <td>6.8277</td>\n",
       "      <td>6.8291</td>\n",
       "      <td>6.8267</td>\n",
       "      <td>0.01</td>\n",
       "    </tr>\n",
       "    <tr>\n",
       "      <th>4</th>\n",
       "      <td>2010-01-07</td>\n",
       "      <td>6.8281</td>\n",
       "      <td>6.8269</td>\n",
       "      <td>6.8282</td>\n",
       "      <td>6.8258</td>\n",
       "      <td>0.00</td>\n",
       "    </tr>\n",
       "  </tbody>\n",
       "</table>\n",
       "</div>"
      ],
      "text/plain": [
       "        Date   Price    Open    High     Low  Percentage_diff\n",
       "0 2010-01-01  6.8270  6.8270  6.8270  6.8270             0.00\n",
       "1 2010-01-04  6.8285  6.8297  6.8297  6.8270             0.02\n",
       "2 2010-01-05  6.8268  6.8283  6.8288  6.8257            -0.02\n",
       "3 2010-01-06  6.8278  6.8277  6.8291  6.8267             0.01\n",
       "4 2010-01-07  6.8281  6.8269  6.8282  6.8258             0.00"
      ]
     },
     "execution_count": 68,
     "metadata": {},
     "output_type": "execute_result"
    }
   ],
   "source": [
    "USD_CNY_df.head()"
   ]
  },
  {
   "cell_type": "code",
   "execution_count": 69,
   "metadata": {},
   "outputs": [],
   "source": [
    "# Dado que se concatenará con los otros pares de monedas se reduce el data set a [Date], [Price] y [Percentage_diff]\n",
    "USD_CNY_df = USD_CNY_df [[\"Date\", \"Price\", \"Percentage_diff\"]]"
   ]
  },
  {
   "cell_type": "code",
   "execution_count": 70,
   "metadata": {},
   "outputs": [],
   "source": [
    "# Se modifica los nombres de las columnas para su posterior concatenación\n",
    "Columnas = [\"Price\", \"Percentage_diff\"]\n",
    "\n",
    "for col in Columnas:\n",
    "    USD_CNY_df = USD_CNY_df.rename(columns={col:\"\"+col+\"_USD_CNY\"})"
   ]
  },
  {
   "cell_type": "code",
   "execution_count": 71,
   "metadata": {},
   "outputs": [
    {
     "data": {
      "text/plain": [
       "Index(['Date', 'Price_USD_CNY', 'Percentage_diff_USD_CNY'], dtype='object')"
      ]
     },
     "execution_count": 71,
     "metadata": {},
     "output_type": "execute_result"
    }
   ],
   "source": [
    "USD_CNY_df.columns"
   ]
  },
  {
   "cell_type": "markdown",
   "metadata": {},
   "source": [
    "## Etapa de estructuración de datos"
   ]
  },
  {
   "cell_type": "markdown",
   "metadata": {},
   "source": [
    "Se realiza un merge entre las tablas de los pares de FOREX (EUR_USD_df, USD_JPY_df, USD_CNY_df)"
   ]
  },
  {
   "cell_type": "code",
   "execution_count": 72,
   "metadata": {},
   "outputs": [],
   "source": [
    "# Se vuelve a convertir las columnas [Date] de los diversos dataframes porque se realizará un merge (no acepta valores de tipo datetime)\n",
    "EUR_USD_df [\"Date\"] = EUR_USD_df [\"Date\"].astype(str)\n",
    "USD_JPY_df [\"Date\"] = USD_JPY_df [\"Date\"].astype(str)\n",
    "USD_CNY_df [\"Date\"] = USD_CNY_df [\"Date\"].astype(str)"
   ]
  },
  {
   "cell_type": "code",
   "execution_count": 73,
   "metadata": {},
   "outputs": [
    {
     "data": {
      "text/html": [
       "<div>\n",
       "<style scoped>\n",
       "    .dataframe tbody tr th:only-of-type {\n",
       "        vertical-align: middle;\n",
       "    }\n",
       "\n",
       "    .dataframe tbody tr th {\n",
       "        vertical-align: top;\n",
       "    }\n",
       "\n",
       "    .dataframe thead th {\n",
       "        text-align: right;\n",
       "    }\n",
       "</style>\n",
       "<table border=\"1\" class=\"dataframe\">\n",
       "  <thead>\n",
       "    <tr style=\"text-align: right;\">\n",
       "      <th></th>\n",
       "      <th>Date</th>\n",
       "      <th>Price_EUR_USD</th>\n",
       "      <th>Percentage_diff_EUR_USD</th>\n",
       "    </tr>\n",
       "  </thead>\n",
       "  <tbody>\n",
       "    <tr>\n",
       "      <th>0</th>\n",
       "      <td>2010-01-01</td>\n",
       "      <td>1.4326</td>\n",
       "      <td>0.06</td>\n",
       "    </tr>\n",
       "    <tr>\n",
       "      <th>1</th>\n",
       "      <td>2010-01-04</td>\n",
       "      <td>1.4413</td>\n",
       "      <td>0.61</td>\n",
       "    </tr>\n",
       "    <tr>\n",
       "      <th>2</th>\n",
       "      <td>2010-01-05</td>\n",
       "      <td>1.4369</td>\n",
       "      <td>-0.31</td>\n",
       "    </tr>\n",
       "    <tr>\n",
       "      <th>3</th>\n",
       "      <td>2010-01-06</td>\n",
       "      <td>1.4413</td>\n",
       "      <td>0.31</td>\n",
       "    </tr>\n",
       "    <tr>\n",
       "      <th>4</th>\n",
       "      <td>2010-01-07</td>\n",
       "      <td>1.4318</td>\n",
       "      <td>-0.66</td>\n",
       "    </tr>\n",
       "  </tbody>\n",
       "</table>\n",
       "</div>"
      ],
      "text/plain": [
       "         Date  Price_EUR_USD  Percentage_diff_EUR_USD\n",
       "0  2010-01-01         1.4326                     0.06\n",
       "1  2010-01-04         1.4413                     0.61\n",
       "2  2010-01-05         1.4369                    -0.31\n",
       "3  2010-01-06         1.4413                     0.31\n",
       "4  2010-01-07         1.4318                    -0.66"
      ]
     },
     "execution_count": 73,
     "metadata": {},
     "output_type": "execute_result"
    }
   ],
   "source": [
    "EUR_USD_df.head()"
   ]
  },
  {
   "cell_type": "code",
   "execution_count": 74,
   "metadata": {},
   "outputs": [],
   "source": [
    "# Se realiza el merge entre EUR_USD_df y USD_JPY_df => parámetros => on=Date how=inner\n",
    "Forex_df = pd.merge (EUR_USD_df, USD_JPY_df, on=\"Date\", how=\"inner\")"
   ]
  },
  {
   "cell_type": "code",
   "execution_count": 75,
   "metadata": {},
   "outputs": [
    {
     "data": {
      "text/html": [
       "<div>\n",
       "<style scoped>\n",
       "    .dataframe tbody tr th:only-of-type {\n",
       "        vertical-align: middle;\n",
       "    }\n",
       "\n",
       "    .dataframe tbody tr th {\n",
       "        vertical-align: top;\n",
       "    }\n",
       "\n",
       "    .dataframe thead th {\n",
       "        text-align: right;\n",
       "    }\n",
       "</style>\n",
       "<table border=\"1\" class=\"dataframe\">\n",
       "  <thead>\n",
       "    <tr style=\"text-align: right;\">\n",
       "      <th></th>\n",
       "      <th>Date</th>\n",
       "      <th>Price_EUR_USD</th>\n",
       "      <th>Percentage_diff_EUR_USD</th>\n",
       "      <th>Price_USD_JPY</th>\n",
       "      <th>Percentage_diff_USD_JPY</th>\n",
       "    </tr>\n",
       "  </thead>\n",
       "  <tbody>\n",
       "    <tr>\n",
       "      <th>0</th>\n",
       "      <td>2010-01-01</td>\n",
       "      <td>1.4326</td>\n",
       "      <td>0.06</td>\n",
       "      <td>93.04</td>\n",
       "      <td>0.01</td>\n",
       "    </tr>\n",
       "    <tr>\n",
       "      <th>1</th>\n",
       "      <td>2010-01-04</td>\n",
       "      <td>1.4413</td>\n",
       "      <td>0.61</td>\n",
       "      <td>92.47</td>\n",
       "      <td>-0.60</td>\n",
       "    </tr>\n",
       "    <tr>\n",
       "      <th>2</th>\n",
       "      <td>2010-01-05</td>\n",
       "      <td>1.4369</td>\n",
       "      <td>-0.31</td>\n",
       "      <td>91.58</td>\n",
       "      <td>-0.97</td>\n",
       "    </tr>\n",
       "    <tr>\n",
       "      <th>3</th>\n",
       "      <td>2010-01-06</td>\n",
       "      <td>1.4413</td>\n",
       "      <td>0.31</td>\n",
       "      <td>92.38</td>\n",
       "      <td>0.87</td>\n",
       "    </tr>\n",
       "    <tr>\n",
       "      <th>4</th>\n",
       "      <td>2010-01-07</td>\n",
       "      <td>1.4318</td>\n",
       "      <td>-0.66</td>\n",
       "      <td>93.45</td>\n",
       "      <td>1.16</td>\n",
       "    </tr>\n",
       "  </tbody>\n",
       "</table>\n",
       "</div>"
      ],
      "text/plain": [
       "         Date  Price_EUR_USD  Percentage_diff_EUR_USD  Price_USD_JPY  \\\n",
       "0  2010-01-01         1.4326                     0.06          93.04   \n",
       "1  2010-01-04         1.4413                     0.61          92.47   \n",
       "2  2010-01-05         1.4369                    -0.31          91.58   \n",
       "3  2010-01-06         1.4413                     0.31          92.38   \n",
       "4  2010-01-07         1.4318                    -0.66          93.45   \n",
       "\n",
       "   Percentage_diff_USD_JPY  \n",
       "0                     0.01  \n",
       "1                    -0.60  \n",
       "2                    -0.97  \n",
       "3                     0.87  \n",
       "4                     1.16  "
      ]
     },
     "execution_count": 75,
     "metadata": {},
     "output_type": "execute_result"
    }
   ],
   "source": [
    "Forex_df.head()"
   ]
  },
  {
   "cell_type": "code",
   "execution_count": 76,
   "metadata": {},
   "outputs": [],
   "source": [
    "# Se realiza el merge entre EUR_USD_df y USD_JPY_df => parámetros => on=Date how=inner\n",
    "Forex_df = pd.merge (Forex_df, USD_CNY_df, on=\"Date\", how=\"inner\")"
   ]
  },
  {
   "cell_type": "code",
   "execution_count": 77,
   "metadata": {},
   "outputs": [
    {
     "data": {
      "text/html": [
       "<div>\n",
       "<style scoped>\n",
       "    .dataframe tbody tr th:only-of-type {\n",
       "        vertical-align: middle;\n",
       "    }\n",
       "\n",
       "    .dataframe tbody tr th {\n",
       "        vertical-align: top;\n",
       "    }\n",
       "\n",
       "    .dataframe thead th {\n",
       "        text-align: right;\n",
       "    }\n",
       "</style>\n",
       "<table border=\"1\" class=\"dataframe\">\n",
       "  <thead>\n",
       "    <tr style=\"text-align: right;\">\n",
       "      <th></th>\n",
       "      <th>Date</th>\n",
       "      <th>Price_EUR_USD</th>\n",
       "      <th>Percentage_diff_EUR_USD</th>\n",
       "      <th>Price_USD_JPY</th>\n",
       "      <th>Percentage_diff_USD_JPY</th>\n",
       "      <th>Price_USD_CNY</th>\n",
       "      <th>Percentage_diff_USD_CNY</th>\n",
       "    </tr>\n",
       "  </thead>\n",
       "  <tbody>\n",
       "    <tr>\n",
       "      <th>0</th>\n",
       "      <td>2010-01-01</td>\n",
       "      <td>1.4326</td>\n",
       "      <td>0.06</td>\n",
       "      <td>93.04</td>\n",
       "      <td>0.01</td>\n",
       "      <td>6.8270</td>\n",
       "      <td>0.00</td>\n",
       "    </tr>\n",
       "    <tr>\n",
       "      <th>1</th>\n",
       "      <td>2010-01-04</td>\n",
       "      <td>1.4413</td>\n",
       "      <td>0.61</td>\n",
       "      <td>92.47</td>\n",
       "      <td>-0.60</td>\n",
       "      <td>6.8285</td>\n",
       "      <td>0.02</td>\n",
       "    </tr>\n",
       "    <tr>\n",
       "      <th>2</th>\n",
       "      <td>2010-01-05</td>\n",
       "      <td>1.4369</td>\n",
       "      <td>-0.31</td>\n",
       "      <td>91.58</td>\n",
       "      <td>-0.97</td>\n",
       "      <td>6.8268</td>\n",
       "      <td>-0.02</td>\n",
       "    </tr>\n",
       "    <tr>\n",
       "      <th>3</th>\n",
       "      <td>2010-01-06</td>\n",
       "      <td>1.4413</td>\n",
       "      <td>0.31</td>\n",
       "      <td>92.38</td>\n",
       "      <td>0.87</td>\n",
       "      <td>6.8278</td>\n",
       "      <td>0.01</td>\n",
       "    </tr>\n",
       "    <tr>\n",
       "      <th>4</th>\n",
       "      <td>2010-01-07</td>\n",
       "      <td>1.4318</td>\n",
       "      <td>-0.66</td>\n",
       "      <td>93.45</td>\n",
       "      <td>1.16</td>\n",
       "      <td>6.8281</td>\n",
       "      <td>0.00</td>\n",
       "    </tr>\n",
       "  </tbody>\n",
       "</table>\n",
       "</div>"
      ],
      "text/plain": [
       "         Date  Price_EUR_USD  Percentage_diff_EUR_USD  Price_USD_JPY  \\\n",
       "0  2010-01-01         1.4326                     0.06          93.04   \n",
       "1  2010-01-04         1.4413                     0.61          92.47   \n",
       "2  2010-01-05         1.4369                    -0.31          91.58   \n",
       "3  2010-01-06         1.4413                     0.31          92.38   \n",
       "4  2010-01-07         1.4318                    -0.66          93.45   \n",
       "\n",
       "   Percentage_diff_USD_JPY  Price_USD_CNY  Percentage_diff_USD_CNY  \n",
       "0                     0.01         6.8270                     0.00  \n",
       "1                    -0.60         6.8285                     0.02  \n",
       "2                    -0.97         6.8268                    -0.02  \n",
       "3                     0.87         6.8278                     0.01  \n",
       "4                     1.16         6.8281                     0.00  "
      ]
     },
     "execution_count": 77,
     "metadata": {},
     "output_type": "execute_result"
    }
   ],
   "source": [
    "Forex_df.head()"
   ]
  },
  {
   "cell_type": "markdown",
   "metadata": {},
   "source": [
    "Dado que el data set de Forex_df no posee valores para fin de semana y feriados se procederá a crear un data set con valores de tipo datetime entre las fechas 2010-01-01 y 2022-07-20, a fin de poder realizar un merge entre ambas tablas y tratar con los valores de dichos días en tanto missing values. Esto es necesario dado que la tabla de BTC consta de valores para todos los días, incluidos sábados, domingos y feriados. \n",
    "\n",
    "Criterio para tratar los missing values generados al realizarse el merge:\n",
    "- En el caso de los missing values correspondientes a los días de fin de semana se repetirá el precio de cierre del viernes.\n",
    "- En el caso de feriados, se repetirá el valor de cierre del día anterior."
   ]
  },
  {
   "cell_type": "code",
   "execution_count": 78,
   "metadata": {},
   "outputs": [],
   "source": [
    "#Para esto se creará un data set con valores entre el 01-01-2010 y el 20-07-2022\n",
    "start = datetime.datetime.strptime(\"2010-01-01\", \"%Y-%m-%d\")\n",
    "end = datetime.datetime.strptime(\"2022-07-20\", \"%Y-%m-%d\")\n",
    "date_generated = pd.date_range(start, end)"
   ]
  },
  {
   "cell_type": "code",
   "execution_count": 79,
   "metadata": {},
   "outputs": [],
   "source": [
    "# Se convierte en un data frame las fechas\n",
    "date_generated_df = pd.DataFrame (date_generated, columns=[\"Date\"])"
   ]
  },
  {
   "cell_type": "code",
   "execution_count": 80,
   "metadata": {},
   "outputs": [
    {
     "data": {
      "text/html": [
       "<div>\n",
       "<style scoped>\n",
       "    .dataframe tbody tr th:only-of-type {\n",
       "        vertical-align: middle;\n",
       "    }\n",
       "\n",
       "    .dataframe tbody tr th {\n",
       "        vertical-align: top;\n",
       "    }\n",
       "\n",
       "    .dataframe thead th {\n",
       "        text-align: right;\n",
       "    }\n",
       "</style>\n",
       "<table border=\"1\" class=\"dataframe\">\n",
       "  <thead>\n",
       "    <tr style=\"text-align: right;\">\n",
       "      <th></th>\n",
       "      <th>Date</th>\n",
       "    </tr>\n",
       "  </thead>\n",
       "  <tbody>\n",
       "    <tr>\n",
       "      <th>0</th>\n",
       "      <td>2010-01-01</td>\n",
       "    </tr>\n",
       "    <tr>\n",
       "      <th>1</th>\n",
       "      <td>2010-01-02</td>\n",
       "    </tr>\n",
       "    <tr>\n",
       "      <th>2</th>\n",
       "      <td>2010-01-03</td>\n",
       "    </tr>\n",
       "    <tr>\n",
       "      <th>3</th>\n",
       "      <td>2010-01-04</td>\n",
       "    </tr>\n",
       "    <tr>\n",
       "      <th>4</th>\n",
       "      <td>2010-01-05</td>\n",
       "    </tr>\n",
       "  </tbody>\n",
       "</table>\n",
       "</div>"
      ],
      "text/plain": [
       "        Date\n",
       "0 2010-01-01\n",
       "1 2010-01-02\n",
       "2 2010-01-03\n",
       "3 2010-01-04\n",
       "4 2010-01-05"
      ]
     },
     "execution_count": 80,
     "metadata": {},
     "output_type": "execute_result"
    }
   ],
   "source": [
    "date_generated_df.head()"
   ]
  },
  {
   "cell_type": "code",
   "execution_count": 81,
   "metadata": {},
   "outputs": [],
   "source": [
    "# A fin de poder hacer un futuro merge (necesita str y no datetime64) se procede a convertir la fecha a string\n",
    "date_generated_df [\"Date\"] = date_generated_df [\"Date\"].astype(str)"
   ]
  },
  {
   "cell_type": "code",
   "execution_count": 82,
   "metadata": {},
   "outputs": [
    {
     "data": {
      "text/plain": [
       "Date    object\n",
       "dtype: object"
      ]
     },
     "execution_count": 82,
     "metadata": {},
     "output_type": "execute_result"
    }
   ],
   "source": [
    "date_generated_df.dtypes"
   ]
  },
  {
   "cell_type": "code",
   "execution_count": 83,
   "metadata": {},
   "outputs": [],
   "source": [
    "# Se realiza un merge entre date_generated_df y Forex_df => parámetros => on=\"Date\", how=\"left\"\n",
    "Forex_df_2 = pd.merge (date_generated_df, Forex_df, on=\"Date\", how=\"left\")"
   ]
  },
  {
   "cell_type": "code",
   "execution_count": 84,
   "metadata": {},
   "outputs": [
    {
     "data": {
      "text/html": [
       "<div>\n",
       "<style scoped>\n",
       "    .dataframe tbody tr th:only-of-type {\n",
       "        vertical-align: middle;\n",
       "    }\n",
       "\n",
       "    .dataframe tbody tr th {\n",
       "        vertical-align: top;\n",
       "    }\n",
       "\n",
       "    .dataframe thead th {\n",
       "        text-align: right;\n",
       "    }\n",
       "</style>\n",
       "<table border=\"1\" class=\"dataframe\">\n",
       "  <thead>\n",
       "    <tr style=\"text-align: right;\">\n",
       "      <th></th>\n",
       "      <th>Date</th>\n",
       "      <th>Price_EUR_USD</th>\n",
       "      <th>Percentage_diff_EUR_USD</th>\n",
       "      <th>Price_USD_JPY</th>\n",
       "      <th>Percentage_diff_USD_JPY</th>\n",
       "      <th>Price_USD_CNY</th>\n",
       "      <th>Percentage_diff_USD_CNY</th>\n",
       "    </tr>\n",
       "  </thead>\n",
       "  <tbody>\n",
       "    <tr>\n",
       "      <th>0</th>\n",
       "      <td>2010-01-01</td>\n",
       "      <td>1.4326</td>\n",
       "      <td>0.06</td>\n",
       "      <td>93.04</td>\n",
       "      <td>0.01</td>\n",
       "      <td>6.8270</td>\n",
       "      <td>0.00</td>\n",
       "    </tr>\n",
       "    <tr>\n",
       "      <th>1</th>\n",
       "      <td>2010-01-02</td>\n",
       "      <td>NaN</td>\n",
       "      <td>NaN</td>\n",
       "      <td>NaN</td>\n",
       "      <td>NaN</td>\n",
       "      <td>NaN</td>\n",
       "      <td>NaN</td>\n",
       "    </tr>\n",
       "    <tr>\n",
       "      <th>2</th>\n",
       "      <td>2010-01-03</td>\n",
       "      <td>NaN</td>\n",
       "      <td>NaN</td>\n",
       "      <td>NaN</td>\n",
       "      <td>NaN</td>\n",
       "      <td>NaN</td>\n",
       "      <td>NaN</td>\n",
       "    </tr>\n",
       "    <tr>\n",
       "      <th>3</th>\n",
       "      <td>2010-01-04</td>\n",
       "      <td>1.4413</td>\n",
       "      <td>0.61</td>\n",
       "      <td>92.47</td>\n",
       "      <td>-0.60</td>\n",
       "      <td>6.8285</td>\n",
       "      <td>0.02</td>\n",
       "    </tr>\n",
       "    <tr>\n",
       "      <th>4</th>\n",
       "      <td>2010-01-05</td>\n",
       "      <td>1.4369</td>\n",
       "      <td>-0.31</td>\n",
       "      <td>91.58</td>\n",
       "      <td>-0.97</td>\n",
       "      <td>6.8268</td>\n",
       "      <td>-0.02</td>\n",
       "    </tr>\n",
       "  </tbody>\n",
       "</table>\n",
       "</div>"
      ],
      "text/plain": [
       "         Date  Price_EUR_USD  Percentage_diff_EUR_USD  Price_USD_JPY  \\\n",
       "0  2010-01-01         1.4326                     0.06          93.04   \n",
       "1  2010-01-02            NaN                      NaN            NaN   \n",
       "2  2010-01-03            NaN                      NaN            NaN   \n",
       "3  2010-01-04         1.4413                     0.61          92.47   \n",
       "4  2010-01-05         1.4369                    -0.31          91.58   \n",
       "\n",
       "   Percentage_diff_USD_JPY  Price_USD_CNY  Percentage_diff_USD_CNY  \n",
       "0                     0.01         6.8270                     0.00  \n",
       "1                      NaN            NaN                      NaN  \n",
       "2                      NaN            NaN                      NaN  \n",
       "3                    -0.60         6.8285                     0.02  \n",
       "4                    -0.97         6.8268                    -0.02  "
      ]
     },
     "execution_count": 84,
     "metadata": {},
     "output_type": "execute_result"
    }
   ],
   "source": [
    "Forex_df_2.head()"
   ]
  },
  {
   "cell_type": "code",
   "execution_count": 85,
   "metadata": {},
   "outputs": [
    {
     "data": {
      "text/plain": [
       "Index(['Date', 'Price_EUR_USD', 'Percentage_diff_EUR_USD', 'Price_USD_JPY',\n",
       "       'Percentage_diff_USD_JPY', 'Price_USD_CNY', 'Percentage_diff_USD_CNY'],\n",
       "      dtype='object')"
      ]
     },
     "execution_count": 85,
     "metadata": {},
     "output_type": "execute_result"
    }
   ],
   "source": [
    "Forex_df_2.columns"
   ]
  },
  {
   "cell_type": "code",
   "execution_count": 86,
   "metadata": {},
   "outputs": [
    {
     "data": {
      "text/html": [
       "<div>\n",
       "<style scoped>\n",
       "    .dataframe tbody tr th:only-of-type {\n",
       "        vertical-align: middle;\n",
       "    }\n",
       "\n",
       "    .dataframe tbody tr th {\n",
       "        vertical-align: top;\n",
       "    }\n",
       "\n",
       "    .dataframe thead th {\n",
       "        text-align: right;\n",
       "    }\n",
       "</style>\n",
       "<table border=\"1\" class=\"dataframe\">\n",
       "  <thead>\n",
       "    <tr style=\"text-align: right;\">\n",
       "      <th></th>\n",
       "      <th>Date</th>\n",
       "      <th>Price_EUR_USD</th>\n",
       "      <th>Percentage_diff_EUR_USD</th>\n",
       "      <th>Price_USD_JPY</th>\n",
       "      <th>Percentage_diff_USD_JPY</th>\n",
       "      <th>Price_USD_CNY</th>\n",
       "      <th>Percentage_diff_USD_CNY</th>\n",
       "    </tr>\n",
       "  </thead>\n",
       "  <tbody>\n",
       "    <tr>\n",
       "      <th>0</th>\n",
       "      <td>2010-01-01</td>\n",
       "      <td>1.4326</td>\n",
       "      <td>0.06</td>\n",
       "      <td>93.04</td>\n",
       "      <td>0.01</td>\n",
       "      <td>6.8270</td>\n",
       "      <td>0.00</td>\n",
       "    </tr>\n",
       "    <tr>\n",
       "      <th>1</th>\n",
       "      <td>2010-01-02</td>\n",
       "      <td>1.4326</td>\n",
       "      <td>0.06</td>\n",
       "      <td>93.04</td>\n",
       "      <td>0.01</td>\n",
       "      <td>6.8270</td>\n",
       "      <td>0.00</td>\n",
       "    </tr>\n",
       "    <tr>\n",
       "      <th>2</th>\n",
       "      <td>2010-01-03</td>\n",
       "      <td>1.4326</td>\n",
       "      <td>0.06</td>\n",
       "      <td>93.04</td>\n",
       "      <td>0.01</td>\n",
       "      <td>6.8270</td>\n",
       "      <td>0.00</td>\n",
       "    </tr>\n",
       "    <tr>\n",
       "      <th>3</th>\n",
       "      <td>2010-01-04</td>\n",
       "      <td>1.4413</td>\n",
       "      <td>0.61</td>\n",
       "      <td>92.47</td>\n",
       "      <td>-0.60</td>\n",
       "      <td>6.8285</td>\n",
       "      <td>0.02</td>\n",
       "    </tr>\n",
       "    <tr>\n",
       "      <th>4</th>\n",
       "      <td>2010-01-05</td>\n",
       "      <td>1.4369</td>\n",
       "      <td>-0.31</td>\n",
       "      <td>91.58</td>\n",
       "      <td>-0.97</td>\n",
       "      <td>6.8268</td>\n",
       "      <td>-0.02</td>\n",
       "    </tr>\n",
       "  </tbody>\n",
       "</table>\n",
       "</div>"
      ],
      "text/plain": [
       "         Date  Price_EUR_USD  Percentage_diff_EUR_USD  Price_USD_JPY  \\\n",
       "0  2010-01-01         1.4326                     0.06          93.04   \n",
       "1  2010-01-02         1.4326                     0.06          93.04   \n",
       "2  2010-01-03         1.4326                     0.06          93.04   \n",
       "3  2010-01-04         1.4413                     0.61          92.47   \n",
       "4  2010-01-05         1.4369                    -0.31          91.58   \n",
       "\n",
       "   Percentage_diff_USD_JPY  Price_USD_CNY  Percentage_diff_USD_CNY  \n",
       "0                     0.01         6.8270                     0.00  \n",
       "1                     0.01         6.8270                     0.00  \n",
       "2                     0.01         6.8270                     0.00  \n",
       "3                    -0.60         6.8285                     0.02  \n",
       "4                    -0.97         6.8268                    -0.02  "
      ]
     },
     "execution_count": 86,
     "metadata": {},
     "output_type": "execute_result"
    }
   ],
   "source": [
    "#Se procede a rellenar los NaN según el criterio explicado arriba (repetir valores de último día hábil). Se utilizará la función fillna()\n",
    "Columnas = ['Price_EUR_USD', 'Percentage_diff_EUR_USD', 'Price_USD_JPY',\n",
    "       'Percentage_diff_USD_JPY', 'Price_USD_CNY', 'Percentage_diff_USD_CNY']\n",
    "\n",
    "for col in Columnas:\n",
    "    \n",
    "    Forex_df_2 [col] = Forex_df_2 [col].fillna(method=\"ffill\")\n",
    "\n",
    "Forex_df_2.head()"
   ]
  },
  {
   "cell_type": "markdown",
   "metadata": {},
   "source": [
    "Se realiza un merge entre BTC_df y Forex_df_2 a fin de obtener la base de datos final"
   ]
  },
  {
   "cell_type": "code",
   "execution_count": 87,
   "metadata": {},
   "outputs": [],
   "source": [
    "# Se realiza un merge entre date_generated_df y Forex_df => parámetros => on=\"Date\", how=\"inner\"\n",
    "Forex_df_final = pd.merge (BTC_df, Forex_df_2, on=\"Date\", how=\"inner\")"
   ]
  },
  {
   "cell_type": "code",
   "execution_count": 88,
   "metadata": {},
   "outputs": [
    {
     "data": {
      "text/html": [
       "<div>\n",
       "<style scoped>\n",
       "    .dataframe tbody tr th:only-of-type {\n",
       "        vertical-align: middle;\n",
       "    }\n",
       "\n",
       "    .dataframe tbody tr th {\n",
       "        vertical-align: top;\n",
       "    }\n",
       "\n",
       "    .dataframe thead th {\n",
       "        text-align: right;\n",
       "    }\n",
       "</style>\n",
       "<table border=\"1\" class=\"dataframe\">\n",
       "  <thead>\n",
       "    <tr style=\"text-align: right;\">\n",
       "      <th></th>\n",
       "      <th>Date</th>\n",
       "      <th>Price</th>\n",
       "      <th>Open</th>\n",
       "      <th>High</th>\n",
       "      <th>Low</th>\n",
       "      <th>Vol.</th>\n",
       "      <th>Percentage_diff</th>\n",
       "      <th>Target</th>\n",
       "      <th>Price_EUR_USD</th>\n",
       "      <th>Percentage_diff_EUR_USD</th>\n",
       "      <th>Price_USD_JPY</th>\n",
       "      <th>Percentage_diff_USD_JPY</th>\n",
       "      <th>Price_USD_CNY</th>\n",
       "      <th>Percentage_diff_USD_CNY</th>\n",
       "    </tr>\n",
       "  </thead>\n",
       "  <tbody>\n",
       "    <tr>\n",
       "      <th>0</th>\n",
       "      <td>2010-07-18</td>\n",
       "      <td>0.1</td>\n",
       "      <td>0.0</td>\n",
       "      <td>0.1</td>\n",
       "      <td>0.1</td>\n",
       "      <td>80.0</td>\n",
       "      <td>0.0</td>\n",
       "      <td>0.0</td>\n",
       "      <td>1.2933</td>\n",
       "      <td>-0.05</td>\n",
       "      <td>86.57</td>\n",
       "      <td>-0.98</td>\n",
       "      <td>6.7752</td>\n",
       "      <td>-0.04</td>\n",
       "    </tr>\n",
       "    <tr>\n",
       "      <th>1</th>\n",
       "      <td>2010-07-19</td>\n",
       "      <td>0.1</td>\n",
       "      <td>0.1</td>\n",
       "      <td>0.1</td>\n",
       "      <td>0.1</td>\n",
       "      <td>570.0</td>\n",
       "      <td>0.0</td>\n",
       "      <td>0.0</td>\n",
       "      <td>1.2940</td>\n",
       "      <td>0.05</td>\n",
       "      <td>86.76</td>\n",
       "      <td>0.21</td>\n",
       "      <td>6.7782</td>\n",
       "      <td>0.04</td>\n",
       "    </tr>\n",
       "    <tr>\n",
       "      <th>2</th>\n",
       "      <td>2010-07-20</td>\n",
       "      <td>0.1</td>\n",
       "      <td>0.1</td>\n",
       "      <td>0.1</td>\n",
       "      <td>0.1</td>\n",
       "      <td>260.0</td>\n",
       "      <td>0.0</td>\n",
       "      <td>0.0</td>\n",
       "      <td>1.2886</td>\n",
       "      <td>-0.42</td>\n",
       "      <td>87.41</td>\n",
       "      <td>0.75</td>\n",
       "      <td>6.7783</td>\n",
       "      <td>0.00</td>\n",
       "    </tr>\n",
       "    <tr>\n",
       "      <th>3</th>\n",
       "      <td>2010-07-21</td>\n",
       "      <td>0.1</td>\n",
       "      <td>0.1</td>\n",
       "      <td>0.1</td>\n",
       "      <td>0.1</td>\n",
       "      <td>580.0</td>\n",
       "      <td>0.0</td>\n",
       "      <td>0.0</td>\n",
       "      <td>1.2757</td>\n",
       "      <td>-1.00</td>\n",
       "      <td>86.85</td>\n",
       "      <td>-0.64</td>\n",
       "      <td>6.7770</td>\n",
       "      <td>-0.02</td>\n",
       "    </tr>\n",
       "    <tr>\n",
       "      <th>4</th>\n",
       "      <td>2010-07-22</td>\n",
       "      <td>0.1</td>\n",
       "      <td>0.1</td>\n",
       "      <td>0.1</td>\n",
       "      <td>0.1</td>\n",
       "      <td>2160.0</td>\n",
       "      <td>0.0</td>\n",
       "      <td>0.0</td>\n",
       "      <td>1.2891</td>\n",
       "      <td>1.05</td>\n",
       "      <td>87.22</td>\n",
       "      <td>0.43</td>\n",
       "      <td>6.7797</td>\n",
       "      <td>0.04</td>\n",
       "    </tr>\n",
       "  </tbody>\n",
       "</table>\n",
       "</div>"
      ],
      "text/plain": [
       "         Date  Price  Open  High  Low    Vol.  Percentage_diff  Target  \\\n",
       "0  2010-07-18    0.1   0.0   0.1  0.1    80.0              0.0     0.0   \n",
       "1  2010-07-19    0.1   0.1   0.1  0.1   570.0              0.0     0.0   \n",
       "2  2010-07-20    0.1   0.1   0.1  0.1   260.0              0.0     0.0   \n",
       "3  2010-07-21    0.1   0.1   0.1  0.1   580.0              0.0     0.0   \n",
       "4  2010-07-22    0.1   0.1   0.1  0.1  2160.0              0.0     0.0   \n",
       "\n",
       "   Price_EUR_USD  Percentage_diff_EUR_USD  Price_USD_JPY  \\\n",
       "0         1.2933                    -0.05          86.57   \n",
       "1         1.2940                     0.05          86.76   \n",
       "2         1.2886                    -0.42          87.41   \n",
       "3         1.2757                    -1.00          86.85   \n",
       "4         1.2891                     1.05          87.22   \n",
       "\n",
       "   Percentage_diff_USD_JPY  Price_USD_CNY  Percentage_diff_USD_CNY  \n",
       "0                    -0.98         6.7752                    -0.04  \n",
       "1                     0.21         6.7782                     0.04  \n",
       "2                     0.75         6.7783                     0.00  \n",
       "3                    -0.64         6.7770                    -0.02  \n",
       "4                     0.43         6.7797                     0.04  "
      ]
     },
     "execution_count": 88,
     "metadata": {},
     "output_type": "execute_result"
    }
   ],
   "source": [
    "Forex_df_final.head()"
   ]
  },
  {
   "cell_type": "code",
   "execution_count": 89,
   "metadata": {},
   "outputs": [
    {
     "data": {
      "text/html": [
       "<div>\n",
       "<style scoped>\n",
       "    .dataframe tbody tr th:only-of-type {\n",
       "        vertical-align: middle;\n",
       "    }\n",
       "\n",
       "    .dataframe tbody tr th {\n",
       "        vertical-align: top;\n",
       "    }\n",
       "\n",
       "    .dataframe thead th {\n",
       "        text-align: right;\n",
       "    }\n",
       "</style>\n",
       "<table border=\"1\" class=\"dataframe\">\n",
       "  <thead>\n",
       "    <tr style=\"text-align: right;\">\n",
       "      <th></th>\n",
       "      <th>Date</th>\n",
       "      <th>Price</th>\n",
       "      <th>Open</th>\n",
       "      <th>High</th>\n",
       "      <th>Low</th>\n",
       "      <th>Vol.</th>\n",
       "      <th>Percentage_diff</th>\n",
       "      <th>Target</th>\n",
       "      <th>Price_EUR_USD</th>\n",
       "      <th>Percentage_diff_EUR_USD</th>\n",
       "      <th>Price_USD_JPY</th>\n",
       "      <th>Percentage_diff_USD_JPY</th>\n",
       "      <th>Price_USD_CNY</th>\n",
       "      <th>Percentage_diff_USD_CNY</th>\n",
       "    </tr>\n",
       "  </thead>\n",
       "  <tbody>\n",
       "    <tr>\n",
       "      <th>4381</th>\n",
       "      <td>2022-07-16</td>\n",
       "      <td>21209.9</td>\n",
       "      <td>20825.2</td>\n",
       "      <td>21561.3</td>\n",
       "      <td>20484.4</td>\n",
       "      <td>136890.0</td>\n",
       "      <td>1.85</td>\n",
       "      <td>1.0</td>\n",
       "      <td>1.0087</td>\n",
       "      <td>0.71</td>\n",
       "      <td>138.53</td>\n",
       "      <td>-0.27</td>\n",
       "      <td>6.7565</td>\n",
       "      <td>0.03</td>\n",
       "    </tr>\n",
       "    <tr>\n",
       "      <th>4382</th>\n",
       "      <td>2022-07-17</td>\n",
       "      <td>20785.6</td>\n",
       "      <td>21209.8</td>\n",
       "      <td>21654.4</td>\n",
       "      <td>20755.2</td>\n",
       "      <td>132810.0</td>\n",
       "      <td>-2.00</td>\n",
       "      <td>0.0</td>\n",
       "      <td>1.0087</td>\n",
       "      <td>0.71</td>\n",
       "      <td>138.53</td>\n",
       "      <td>-0.27</td>\n",
       "      <td>6.7565</td>\n",
       "      <td>0.03</td>\n",
       "    </tr>\n",
       "    <tr>\n",
       "      <th>4383</th>\n",
       "      <td>2022-07-18</td>\n",
       "      <td>22525.8</td>\n",
       "      <td>20785.6</td>\n",
       "      <td>22714.9</td>\n",
       "      <td>20770.6</td>\n",
       "      <td>279720.0</td>\n",
       "      <td>8.37</td>\n",
       "      <td>1.0</td>\n",
       "      <td>1.0141</td>\n",
       "      <td>0.54</td>\n",
       "      <td>138.12</td>\n",
       "      <td>-0.30</td>\n",
       "      <td>6.7420</td>\n",
       "      <td>-0.21</td>\n",
       "    </tr>\n",
       "    <tr>\n",
       "      <th>4384</th>\n",
       "      <td>2022-07-19</td>\n",
       "      <td>23410.2</td>\n",
       "      <td>22529.3</td>\n",
       "      <td>23757.3</td>\n",
       "      <td>21581.8</td>\n",
       "      <td>308910.0</td>\n",
       "      <td>3.93</td>\n",
       "      <td>1.0</td>\n",
       "      <td>1.0224</td>\n",
       "      <td>0.82</td>\n",
       "      <td>138.18</td>\n",
       "      <td>0.04</td>\n",
       "      <td>6.7430</td>\n",
       "      <td>0.01</td>\n",
       "    </tr>\n",
       "    <tr>\n",
       "      <th>4385</th>\n",
       "      <td>2022-07-20</td>\n",
       "      <td>23149.1</td>\n",
       "      <td>23412.0</td>\n",
       "      <td>23429.9</td>\n",
       "      <td>22965.9</td>\n",
       "      <td>290210.0</td>\n",
       "      <td>-1.12</td>\n",
       "      <td>0.0</td>\n",
       "      <td>1.0242</td>\n",
       "      <td>0.18</td>\n",
       "      <td>138.07</td>\n",
       "      <td>-0.08</td>\n",
       "      <td>6.7523</td>\n",
       "      <td>0.14</td>\n",
       "    </tr>\n",
       "  </tbody>\n",
       "</table>\n",
       "</div>"
      ],
      "text/plain": [
       "            Date    Price     Open     High      Low      Vol.  \\\n",
       "4381  2022-07-16  21209.9  20825.2  21561.3  20484.4  136890.0   \n",
       "4382  2022-07-17  20785.6  21209.8  21654.4  20755.2  132810.0   \n",
       "4383  2022-07-18  22525.8  20785.6  22714.9  20770.6  279720.0   \n",
       "4384  2022-07-19  23410.2  22529.3  23757.3  21581.8  308910.0   \n",
       "4385  2022-07-20  23149.1  23412.0  23429.9  22965.9  290210.0   \n",
       "\n",
       "      Percentage_diff  Target  Price_EUR_USD  Percentage_diff_EUR_USD  \\\n",
       "4381             1.85     1.0         1.0087                     0.71   \n",
       "4382            -2.00     0.0         1.0087                     0.71   \n",
       "4383             8.37     1.0         1.0141                     0.54   \n",
       "4384             3.93     1.0         1.0224                     0.82   \n",
       "4385            -1.12     0.0         1.0242                     0.18   \n",
       "\n",
       "      Price_USD_JPY  Percentage_diff_USD_JPY  Price_USD_CNY  \\\n",
       "4381         138.53                    -0.27         6.7565   \n",
       "4382         138.53                    -0.27         6.7565   \n",
       "4383         138.12                    -0.30         6.7420   \n",
       "4384         138.18                     0.04         6.7430   \n",
       "4385         138.07                    -0.08         6.7523   \n",
       "\n",
       "      Percentage_diff_USD_CNY  \n",
       "4381                     0.03  \n",
       "4382                     0.03  \n",
       "4383                    -0.21  \n",
       "4384                     0.01  \n",
       "4385                     0.14  "
      ]
     },
     "execution_count": 89,
     "metadata": {},
     "output_type": "execute_result"
    }
   ],
   "source": [
    "Forex_df_final.tail()"
   ]
  },
  {
   "cell_type": "markdown",
   "metadata": {},
   "source": [
    "## Extrayendo la base de dato a un archivo csv"
   ]
  },
  {
   "cell_type": "code",
   "execution_count": 90,
   "metadata": {},
   "outputs": [],
   "source": [
    "Forex_df_final.to_csv (\"D:\\Luciano\\Programación\\Data science\\Trabajo final\\Bases de datos para modelos\\BTC_Forex.csv\", index=False, sep=\";\")"
   ]
  },
  {
   "cell_type": "markdown",
   "metadata": {},
   "source": [
    "# Bases de datos resultantes (diccionario de archivos .csv)\n",
    "\n",
    "**BTC_Forex.csv**\n",
    "\n",
    "- **Date**: fecha en YYYY-MM-DD (object)\n",
    "- **Price**: precio de cierre de BTC en el día de la fecha (USD) (float) (Variable numérica continua)\n",
    "- **Open**: precio de apertura de BTC en el día de la fecha (USD) (float) (Variable numérica continua)\n",
    "- **High**: precio más alto de BTC en el día de la fecha (USD) (float) (Variable numérica continua)\n",
    "- **Low**: precio más bajo de BTC en el día de la fecha (USD) (float) (Variable numérica continua)\n",
    "- **Vol.**: volumen de BTC transferidos (comprados+vendidos) en el día de la fecha (BTC) (float) (Variable numérica continua)\n",
    "- **Percentage_diff**: diferencial porcentual del precio de BTC en la fecha [x+1] con respecto a la fecha [x] (float)  (Variable numérica continua)\n",
    "- **Target**: 1 indica que en el día de la fecha el precio subió, y 0 que el precio bajó (float) (Variable categórica).\n",
    "- **Price_EUR_USD**: precio de la relación Euro y Dolar norteamericano (float) (Variable numérica continua)\n",
    "- **Percentage_diff_EUR_USD**: diferencia porcentual de la relación Euro y Dolar norteamericano (float) (Variable numérica continua)\n",
    "- **Price_USD_JPY**: precio de la relación Dolar norteamericano y el Yen japonés (float) (Variable numérica continua)\n",
    "- **Percentage_diff_USD_JPY**: diferencia porcentual de la relación Dolar norteamericano y Yen japonés (float) (Variable numérica continua)\n",
    "- **Price_EUR_USD**: precio de la relación Dolar norteamericano y el Yuan chino (float) (Variable numérica continua)\n",
    "- **Percentage_diff_EUR_USD**: diferencia porcentual de la relación Dolar norteamericano y Yuan chino (float) (Variable numérica continua)"
   ]
  }
 ],
 "metadata": {
  "kernelspec": {
   "display_name": "Python 3 (ipykernel)",
   "language": "python",
   "name": "python3"
  },
  "language_info": {
   "codemirror_mode": {
    "name": "ipython",
    "version": 3
   },
   "file_extension": ".py",
   "mimetype": "text/x-python",
   "name": "python",
   "nbconvert_exporter": "python",
   "pygments_lexer": "ipython3",
   "version": "3.9.12"
  }
 },
 "nbformat": 4,
 "nbformat_minor": 4
}
