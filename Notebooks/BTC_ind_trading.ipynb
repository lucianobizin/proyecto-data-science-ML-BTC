{
 "cells": [
  {
   "cell_type": "markdown",
   "metadata": {
    "id": "nl5Yc7MleQky"
   },
   "source": [
    "# Fecha de entrega: 23/07/2022 (corresponde a clase 15)"
   ]
  },
  {
   "cell_type": "markdown",
   "metadata": {
    "id": "16BavtgteQk8"
   },
   "source": [
    "# Base de datos:"
   ]
  },
  {
   "cell_type": "markdown",
   "metadata": {
    "id": "mgBcuhV1eQk-"
   },
   "source": [
    "# Diccionario"
   ]
  },
  {
   "cell_type": "markdown",
   "metadata": {
    "id": "zo36FYx4eQlA"
   },
   "source": [
    "**Base de datos = BTC_final**\n",
    "\n",
    "- **Date**: fecha en YYYY-MM-DD (datetime64 [ns])\n",
    "- **Price**: precio de cierre de BTC en el día de la fecha (USD) (float) (Variable numérica continua)\n",
    "- **Open**: precio de apertura de BTC en el día de la fecha (USD) (float) (Variable numérica continua)\n",
    "- **High**: precio más alto de BTC en el día de la fecha (USD) (float) (Variable numérica continua)\n",
    "- **Low**: precio más bajo de BTC en el día de la fecha (USD) (float) (Variable numérica continua)\n",
    "- **Vol.**: volumen de BTC (Número de intercambios) en el día de la fecha (float) (Variable numérica continua)\n",
    "- **Percentage_diff**: diferencia porcentual del precio de BTC en la fecha [x+1] con respecto a la fecha [x] (float) (Variable numérica continua) \n",
    "- **Target**: 1 indica que en el día de la fecha el precio de BTC subió, y 0 que el precio bajó (float) (Se la tratará como variable categórica)"
   ]
  },
  {
   "cell_type": "markdown",
   "metadata": {
    "id": "lIUY4mt6eQlK"
   },
   "source": [
    "# Librerías"
   ]
  },
  {
   "cell_type": "code",
   "execution_count": 1,
   "metadata": {
    "id": "6sW_NK2QeQlM"
   },
   "outputs": [],
   "source": [
    "import numpy as np\n",
    "import pandas as pd\n",
    "import seaborn as sns\n",
    "import matplotlib.pyplot as plt\n",
    "import plotly.express as px\n",
    "from matplotlib.ticker import FormatStrFormatter\n",
    "import seaborn as sns\n",
    "from scipy.stats import norm\n",
    "from scipy import stats\n",
    "import talib as ta\n",
    "from talib import abstract\n",
    "\n",
    "import warnings\n",
    "warnings.filterwarnings('once')\n",
    "\n",
    "pd.set_option('display.max_rows', None)\n",
    "pd.set_option('display.max_columns', None)\n",
    "pd.set_option('display.width', None)\n",
    "pd.set_option('display.max_colwidth', None)"
   ]
  },
  {
   "cell_type": "markdown",
   "metadata": {
    "id": "tHKIYwaPeQlQ"
   },
   "source": [
    "# Data acquisition"
   ]
  },
  {
   "cell_type": "code",
   "execution_count": 2,
   "metadata": {
    "id": "CvM3aK_EeQlT"
   },
   "outputs": [],
   "source": [
    "def gdriveColabPath(sharing_url):\n",
    "  file_id=sharing_url.split('/')[-2]\n",
    "  dwn_url='https://drive.google.com/uc?id=' + file_id\n",
    "  return dwn_url"
   ]
  },
  {
   "cell_type": "markdown",
   "metadata": {
    "id": "YmjeWp6FeQlU"
   },
   "source": [
    "## Adquiriendo base de dato BTC_final"
   ]
  },
  {
   "cell_type": "code",
   "execution_count": 3,
   "metadata": {
    "id": "6OBks3efeQlW"
   },
   "outputs": [],
   "source": [
    "sharing_url = \"https://drive.google.com/file/d/1M38n5So0-6r_Q0vhs1i5nIW-cpjgDlww/view?usp=sharing\""
   ]
  },
  {
   "cell_type": "code",
   "execution_count": 4,
   "metadata": {
    "id": "d0LEYEDLeQlX",
    "outputId": "3ff0b6ce-96d7-4b2c-fd28-fef138f29add"
   },
   "outputs": [
    {
     "data": {
      "text/html": [
       "<div>\n",
       "<style scoped>\n",
       "    .dataframe tbody tr th:only-of-type {\n",
       "        vertical-align: middle;\n",
       "    }\n",
       "\n",
       "    .dataframe tbody tr th {\n",
       "        vertical-align: top;\n",
       "    }\n",
       "\n",
       "    .dataframe thead th {\n",
       "        text-align: right;\n",
       "    }\n",
       "</style>\n",
       "<table border=\"1\" class=\"dataframe\">\n",
       "  <thead>\n",
       "    <tr style=\"text-align: right;\">\n",
       "      <th></th>\n",
       "      <th>Date</th>\n",
       "      <th>Price</th>\n",
       "      <th>Open</th>\n",
       "      <th>High</th>\n",
       "      <th>Low</th>\n",
       "      <th>Vol.</th>\n",
       "      <th>Percentage_diff</th>\n",
       "      <th>Target</th>\n",
       "    </tr>\n",
       "  </thead>\n",
       "  <tbody>\n",
       "    <tr>\n",
       "      <th>0</th>\n",
       "      <td>2010-07-18</td>\n",
       "      <td>0.1</td>\n",
       "      <td>0.0</td>\n",
       "      <td>0.1</td>\n",
       "      <td>0.1</td>\n",
       "      <td>80.0</td>\n",
       "      <td>0.0</td>\n",
       "      <td>0.0</td>\n",
       "    </tr>\n",
       "    <tr>\n",
       "      <th>1</th>\n",
       "      <td>2010-07-19</td>\n",
       "      <td>0.1</td>\n",
       "      <td>0.1</td>\n",
       "      <td>0.1</td>\n",
       "      <td>0.1</td>\n",
       "      <td>570.0</td>\n",
       "      <td>0.0</td>\n",
       "      <td>0.0</td>\n",
       "    </tr>\n",
       "    <tr>\n",
       "      <th>2</th>\n",
       "      <td>2010-07-20</td>\n",
       "      <td>0.1</td>\n",
       "      <td>0.1</td>\n",
       "      <td>0.1</td>\n",
       "      <td>0.1</td>\n",
       "      <td>260.0</td>\n",
       "      <td>0.0</td>\n",
       "      <td>0.0</td>\n",
       "    </tr>\n",
       "    <tr>\n",
       "      <th>3</th>\n",
       "      <td>2010-07-21</td>\n",
       "      <td>0.1</td>\n",
       "      <td>0.1</td>\n",
       "      <td>0.1</td>\n",
       "      <td>0.1</td>\n",
       "      <td>580.0</td>\n",
       "      <td>0.0</td>\n",
       "      <td>0.0</td>\n",
       "    </tr>\n",
       "    <tr>\n",
       "      <th>4</th>\n",
       "      <td>2010-07-22</td>\n",
       "      <td>0.1</td>\n",
       "      <td>0.1</td>\n",
       "      <td>0.1</td>\n",
       "      <td>0.1</td>\n",
       "      <td>2160.0</td>\n",
       "      <td>0.0</td>\n",
       "      <td>0.0</td>\n",
       "    </tr>\n",
       "  </tbody>\n",
       "</table>\n",
       "</div>"
      ],
      "text/plain": [
       "         Date  Price  Open  High  Low    Vol.  Percentage_diff  Target\n",
       "0  2010-07-18    0.1   0.0   0.1  0.1    80.0              0.0     0.0\n",
       "1  2010-07-19    0.1   0.1   0.1  0.1   570.0              0.0     0.0\n",
       "2  2010-07-20    0.1   0.1   0.1  0.1   260.0              0.0     0.0\n",
       "3  2010-07-21    0.1   0.1   0.1  0.1   580.0              0.0     0.0\n",
       "4  2010-07-22    0.1   0.1   0.1  0.1  2160.0              0.0     0.0"
      ]
     },
     "execution_count": 4,
     "metadata": {},
     "output_type": "execute_result"
    }
   ],
   "source": [
    "dwn_url=gdriveColabPath(sharing_url)\n",
    "BTC_df =pd.read_csv(dwn_url, sep=\";\", decimal=\".\")\n",
    "BTC_df.head()"
   ]
  },
  {
   "cell_type": "markdown",
   "metadata": {},
   "source": [
    "# Data wrangling"
   ]
  },
  {
   "cell_type": "markdown",
   "metadata": {
    "id": "cs7K9aCzeQla"
   },
   "source": [
    "## Etapa de estructuración"
   ]
  },
  {
   "cell_type": "markdown",
   "metadata": {},
   "source": [
    "Se utilizará la librería talib para calcular los valores de distintos indicadores de series de tiempo: indicadores de tendencia, momento, ciclicidad, patrones, volumen, volatilidad, etc.\n",
    "\n",
    "* Página web de documentación de la librería: https://mrjbq7.github.io/ta-lib/doc_index.html"
   ]
  },
  {
   "cell_type": "markdown",
   "metadata": {
    "id": "-ksXtktaeQlb"
   },
   "source": [
    "### Overlap Studies Functions"
   ]
  },
  {
   "cell_type": "markdown",
   "metadata": {
    "id": "-QFpOxUleQlb"
   },
   "source": [
    "#### Media Movil Simple (SMA) (7, 15, 30, 50, 100 y 200 días)\n",
    "\n",
    "* Información (EN) = https://www.investopedia.com/terms/s/sma.asp"
   ]
  },
  {
   "cell_type": "markdown",
   "metadata": {
    "id": "OVbk_x0zeQlc"
   },
   "source": [
    "Calculando la Media Móvil Simple (SMA) -> se utiliza ta.SMA (data, timeperiod=)\n",
    "\n",
    "Se agregan los valores como nuevas columnas"
   ]
  },
  {
   "cell_type": "code",
   "execution_count": 5,
   "metadata": {
    "id": "uznb1mUveQld"
   },
   "outputs": [],
   "source": [
    "BTC_df_SMA = BTC_df.copy()"
   ]
  },
  {
   "cell_type": "code",
   "execution_count": 6,
   "metadata": {
    "id": "UzEui60eeQle"
   },
   "outputs": [],
   "source": [
    "BTC_df_SMA [\"SMA_7d\"] = ta.SMA (BTC_df_SMA [\"Price\"], timeperiod=7)"
   ]
  },
  {
   "cell_type": "code",
   "execution_count": 7,
   "metadata": {
    "id": "hdoypHkzeQle"
   },
   "outputs": [],
   "source": [
    "BTC_df_SMA [\"SMA_15d\"] = ta.SMA (BTC_df_SMA [\"Price\"], timeperiod=15)"
   ]
  },
  {
   "cell_type": "code",
   "execution_count": 8,
   "metadata": {
    "id": "HMyQ3jzaeQlf"
   },
   "outputs": [],
   "source": [
    "BTC_df_SMA [\"SMA_30d\"] = ta.SMA (BTC_df_SMA [\"Price\"], timeperiod=30)"
   ]
  },
  {
   "cell_type": "code",
   "execution_count": 9,
   "metadata": {
    "id": "T5uaDwiseQlf"
   },
   "outputs": [],
   "source": [
    "BTC_df_SMA [\"SMA_50d\"] = ta.SMA (BTC_df_SMA [\"Price\"], timeperiod=50)"
   ]
  },
  {
   "cell_type": "code",
   "execution_count": 10,
   "metadata": {
    "id": "Pbrnp5ureQlg"
   },
   "outputs": [],
   "source": [
    "BTC_df_SMA [\"SMA_100d\"] = ta.SMA (BTC_df_SMA [\"Price\"], timeperiod=100)"
   ]
  },
  {
   "cell_type": "code",
   "execution_count": 11,
   "metadata": {
    "id": "Mrr7rnIyeQlh"
   },
   "outputs": [],
   "source": [
    "BTC_df_SMA [\"SMA_200d\"] = ta.SMA (BTC_df_SMA [\"Price\"], timeperiod=200)"
   ]
  },
  {
   "cell_type": "code",
   "execution_count": 12,
   "metadata": {
    "id": "KXLECDULeQli",
    "outputId": "5291501e-98ad-4900-e19c-75a5bbe7a3f6"
   },
   "outputs": [
    {
     "data": {
      "text/html": [
       "<div>\n",
       "<style scoped>\n",
       "    .dataframe tbody tr th:only-of-type {\n",
       "        vertical-align: middle;\n",
       "    }\n",
       "\n",
       "    .dataframe tbody tr th {\n",
       "        vertical-align: top;\n",
       "    }\n",
       "\n",
       "    .dataframe thead th {\n",
       "        text-align: right;\n",
       "    }\n",
       "</style>\n",
       "<table border=\"1\" class=\"dataframe\">\n",
       "  <thead>\n",
       "    <tr style=\"text-align: right;\">\n",
       "      <th></th>\n",
       "      <th>Date</th>\n",
       "      <th>Price</th>\n",
       "      <th>Open</th>\n",
       "      <th>High</th>\n",
       "      <th>Low</th>\n",
       "      <th>Vol.</th>\n",
       "      <th>Percentage_diff</th>\n",
       "      <th>Target</th>\n",
       "      <th>SMA_7d</th>\n",
       "      <th>SMA_15d</th>\n",
       "      <th>SMA_30d</th>\n",
       "      <th>SMA_50d</th>\n",
       "      <th>SMA_100d</th>\n",
       "      <th>SMA_200d</th>\n",
       "    </tr>\n",
       "  </thead>\n",
       "  <tbody>\n",
       "    <tr>\n",
       "      <th>4381</th>\n",
       "      <td>2022-07-16</td>\n",
       "      <td>21209.9</td>\n",
       "      <td>20825.2</td>\n",
       "      <td>21561.3</td>\n",
       "      <td>20484.4</td>\n",
       "      <td>136890.0</td>\n",
       "      <td>1.85</td>\n",
       "      <td>1.0</td>\n",
       "      <td>20430.357143</td>\n",
       "      <td>20491.973333</td>\n",
       "      <td>20460.546667</td>\n",
       "      <td>23600.324</td>\n",
       "      <td>29655.396</td>\n",
       "      <td>35689.4685</td>\n",
       "    </tr>\n",
       "    <tr>\n",
       "      <th>4382</th>\n",
       "      <td>2022-07-17</td>\n",
       "      <td>20785.6</td>\n",
       "      <td>21209.8</td>\n",
       "      <td>21654.4</td>\n",
       "      <td>20755.2</td>\n",
       "      <td>132810.0</td>\n",
       "      <td>-2.00</td>\n",
       "      <td>0.0</td>\n",
       "      <td>20421.528571</td>\n",
       "      <td>20594.800000</td>\n",
       "      <td>20471.913333</td>\n",
       "      <td>23435.494</td>\n",
       "      <td>29440.502</td>\n",
       "      <td>35561.0880</td>\n",
       "    </tr>\n",
       "    <tr>\n",
       "      <th>4383</th>\n",
       "      <td>2022-07-18</td>\n",
       "      <td>22525.8</td>\n",
       "      <td>20785.6</td>\n",
       "      <td>22714.9</td>\n",
       "      <td>20770.6</td>\n",
       "      <td>279720.0</td>\n",
       "      <td>8.37</td>\n",
       "      <td>1.0</td>\n",
       "      <td>20787.614286</td>\n",
       "      <td>20809.193333</td>\n",
       "      <td>20589.890000</td>\n",
       "      <td>23296.706</td>\n",
       "      <td>29238.090</td>\n",
       "      <td>35438.1005</td>\n",
       "    </tr>\n",
       "    <tr>\n",
       "      <th>4384</th>\n",
       "      <td>2022-07-19</td>\n",
       "      <td>23410.2</td>\n",
       "      <td>22529.3</td>\n",
       "      <td>23757.3</td>\n",
       "      <td>21581.8</td>\n",
       "      <td>308910.0</td>\n",
       "      <td>3.93</td>\n",
       "      <td>1.0</td>\n",
       "      <td>21370.371429</td>\n",
       "      <td>21022.153333</td>\n",
       "      <td>20684.323333</td>\n",
       "      <td>23130.444</td>\n",
       "      <td>29050.812</td>\n",
       "      <td>35324.0540</td>\n",
       "    </tr>\n",
       "    <tr>\n",
       "      <th>4385</th>\n",
       "      <td>2022-07-20</td>\n",
       "      <td>23149.1</td>\n",
       "      <td>23412.0</td>\n",
       "      <td>23429.9</td>\n",
       "      <td>22965.9</td>\n",
       "      <td>290210.0</td>\n",
       "      <td>-1.12</td>\n",
       "      <td>0.0</td>\n",
       "      <td>21784.528571</td>\n",
       "      <td>21218.720000</td>\n",
       "      <td>20770.216667</td>\n",
       "      <td>22957.558</td>\n",
       "      <td>28887.333</td>\n",
       "      <td>35201.1095</td>\n",
       "    </tr>\n",
       "  </tbody>\n",
       "</table>\n",
       "</div>"
      ],
      "text/plain": [
       "            Date    Price     Open     High      Low      Vol.  \\\n",
       "4381  2022-07-16  21209.9  20825.2  21561.3  20484.4  136890.0   \n",
       "4382  2022-07-17  20785.6  21209.8  21654.4  20755.2  132810.0   \n",
       "4383  2022-07-18  22525.8  20785.6  22714.9  20770.6  279720.0   \n",
       "4384  2022-07-19  23410.2  22529.3  23757.3  21581.8  308910.0   \n",
       "4385  2022-07-20  23149.1  23412.0  23429.9  22965.9  290210.0   \n",
       "\n",
       "      Percentage_diff  Target        SMA_7d       SMA_15d       SMA_30d  \\\n",
       "4381             1.85     1.0  20430.357143  20491.973333  20460.546667   \n",
       "4382            -2.00     0.0  20421.528571  20594.800000  20471.913333   \n",
       "4383             8.37     1.0  20787.614286  20809.193333  20589.890000   \n",
       "4384             3.93     1.0  21370.371429  21022.153333  20684.323333   \n",
       "4385            -1.12     0.0  21784.528571  21218.720000  20770.216667   \n",
       "\n",
       "        SMA_50d   SMA_100d    SMA_200d  \n",
       "4381  23600.324  29655.396  35689.4685  \n",
       "4382  23435.494  29440.502  35561.0880  \n",
       "4383  23296.706  29238.090  35438.1005  \n",
       "4384  23130.444  29050.812  35324.0540  \n",
       "4385  22957.558  28887.333  35201.1095  "
      ]
     },
     "execution_count": 12,
     "metadata": {},
     "output_type": "execute_result"
    }
   ],
   "source": [
    "BTC_df_SMA.tail()"
   ]
  },
  {
   "cell_type": "markdown",
   "metadata": {
    "id": "JK4VckaTeQlk"
   },
   "source": [
    "Estrategia de trading con SMA\n",
    "\n",
    "* Cuando el valor de la columna \"Price\" supera a la Media Móvil Simple se compra (\"Compra\"). Se entiende que la tendencia sube.\n",
    "* Cuando el valor de la columna \"Price\" cae por debajo de la Media Móvil Simple se vende (\"Venta\"). Se entiende que la tendencia baja.\n",
    "* El resto de los valores adquieren valor \"Mantener_posicion\". Se entiende que no hay cambio de tendencia."
   ]
  },
  {
   "cell_type": "code",
   "execution_count": 13,
   "metadata": {
    "id": "R2q_E1r3eQlk"
   },
   "outputs": [],
   "source": [
    "# Se realiza un back up\n",
    "BTC_df_SMA_ET = BTC_df_SMA.copy()"
   ]
  },
  {
   "cell_type": "code",
   "execution_count": 14,
   "metadata": {
    "id": "-DEXXSHceQlk",
    "outputId": "69940c35-5697-4c26-c81a-7dea645fe9d5"
   },
   "outputs": [
    {
     "data": {
      "text/plain": [
       "Index(['Date', 'Price', 'Open', 'High', 'Low', 'Vol.', 'Percentage_diff',\n",
       "       'Target', 'SMA_7d', 'SMA_15d', 'SMA_30d', 'SMA_50d', 'SMA_100d',\n",
       "       'SMA_200d'],\n",
       "      dtype='object')"
      ]
     },
     "execution_count": 14,
     "metadata": {},
     "output_type": "execute_result"
    }
   ],
   "source": [
    "BTC_df_SMA_ET.columns"
   ]
  },
  {
   "cell_type": "code",
   "execution_count": 15,
   "metadata": {
    "id": "EtT2RaeeeQll"
   },
   "outputs": [],
   "source": [
    "SMA_Columnas = [\"SMA_7d\", \"SMA_15d\", \"SMA_30d\", \"SMA_50d\", \"SMA_100d\",\"SMA_200d\"]"
   ]
  },
  {
   "cell_type": "code",
   "execution_count": 16,
   "metadata": {
    "id": "A6785eJyeQll"
   },
   "outputs": [],
   "source": [
    "# Se ejecuta la estrategia y se crean las columnas con los resultados\n",
    "SMA_ET_df = pd.DataFrame()\n",
    "SMA_ET_df\n",
    "\n",
    "for col in SMA_Columnas:\n",
    "    \n",
    "    SMA_ET = []\n",
    "\n",
    "    x=0\n",
    "    while x < len (BTC_df_SMA_ET [\"Price\"]): \n",
    "        \n",
    "        if x==0:\n",
    "            SMA_ET.append (\"Mantener_posicion\")\n",
    "        \n",
    "        elif (BTC_df_SMA_ET [\"Price\"] [x-1] < BTC_df_SMA_ET [col] [x-1]) and (BTC_df_SMA_ET [\"Price\"] [x] > BTC_df_SMA_ET [col] [x]):\n",
    "            SMA_ET.append (\"Comprar\")\n",
    "            \n",
    "        elif (BTC_df_SMA_ET [\"Price\"] [x-1] > BTC_df_SMA_ET [col] [x-1]) and (BTC_df_SMA_ET [\"Price\"] [x] < BTC_df_SMA_ET [col] [x]):\n",
    "            SMA_ET.append (\"Vender\")\n",
    "            \n",
    "        else:\n",
    "            SMA_ET.append (\"Mantener_posicion\")\n",
    "            \n",
    "        \n",
    "        x+=1\n",
    "    \n",
    "    SMA_ET_df [col] = pd.Series(SMA_ET)\n",
    "    \n",
    "    SMA_ET.clear()"
   ]
  },
  {
   "cell_type": "code",
   "execution_count": 17,
   "metadata": {
    "id": "10DsmCXreQlm",
    "outputId": "f87c86d2-41e1-42cf-80b4-8eb8d1ba3da6"
   },
   "outputs": [
    {
     "data": {
      "text/html": [
       "<div>\n",
       "<style scoped>\n",
       "    .dataframe tbody tr th:only-of-type {\n",
       "        vertical-align: middle;\n",
       "    }\n",
       "\n",
       "    .dataframe tbody tr th {\n",
       "        vertical-align: top;\n",
       "    }\n",
       "\n",
       "    .dataframe thead th {\n",
       "        text-align: right;\n",
       "    }\n",
       "</style>\n",
       "<table border=\"1\" class=\"dataframe\">\n",
       "  <thead>\n",
       "    <tr style=\"text-align: right;\">\n",
       "      <th></th>\n",
       "      <th>SMA_7d</th>\n",
       "      <th>SMA_15d</th>\n",
       "      <th>SMA_30d</th>\n",
       "      <th>SMA_50d</th>\n",
       "      <th>SMA_100d</th>\n",
       "      <th>SMA_200d</th>\n",
       "    </tr>\n",
       "  </thead>\n",
       "  <tbody>\n",
       "    <tr>\n",
       "      <th>4381</th>\n",
       "      <td>Mantener_posicion</td>\n",
       "      <td>Mantener_posicion</td>\n",
       "      <td>Mantener_posicion</td>\n",
       "      <td>Mantener_posicion</td>\n",
       "      <td>Mantener_posicion</td>\n",
       "      <td>Mantener_posicion</td>\n",
       "    </tr>\n",
       "    <tr>\n",
       "      <th>4382</th>\n",
       "      <td>Mantener_posicion</td>\n",
       "      <td>Mantener_posicion</td>\n",
       "      <td>Mantener_posicion</td>\n",
       "      <td>Mantener_posicion</td>\n",
       "      <td>Mantener_posicion</td>\n",
       "      <td>Mantener_posicion</td>\n",
       "    </tr>\n",
       "    <tr>\n",
       "      <th>4383</th>\n",
       "      <td>Mantener_posicion</td>\n",
       "      <td>Mantener_posicion</td>\n",
       "      <td>Mantener_posicion</td>\n",
       "      <td>Mantener_posicion</td>\n",
       "      <td>Mantener_posicion</td>\n",
       "      <td>Mantener_posicion</td>\n",
       "    </tr>\n",
       "    <tr>\n",
       "      <th>4384</th>\n",
       "      <td>Mantener_posicion</td>\n",
       "      <td>Mantener_posicion</td>\n",
       "      <td>Mantener_posicion</td>\n",
       "      <td>Comprar</td>\n",
       "      <td>Mantener_posicion</td>\n",
       "      <td>Mantener_posicion</td>\n",
       "    </tr>\n",
       "    <tr>\n",
       "      <th>4385</th>\n",
       "      <td>Mantener_posicion</td>\n",
       "      <td>Mantener_posicion</td>\n",
       "      <td>Mantener_posicion</td>\n",
       "      <td>Mantener_posicion</td>\n",
       "      <td>Mantener_posicion</td>\n",
       "      <td>Mantener_posicion</td>\n",
       "    </tr>\n",
       "  </tbody>\n",
       "</table>\n",
       "</div>"
      ],
      "text/plain": [
       "                 SMA_7d            SMA_15d            SMA_30d  \\\n",
       "4381  Mantener_posicion  Mantener_posicion  Mantener_posicion   \n",
       "4382  Mantener_posicion  Mantener_posicion  Mantener_posicion   \n",
       "4383  Mantener_posicion  Mantener_posicion  Mantener_posicion   \n",
       "4384  Mantener_posicion  Mantener_posicion  Mantener_posicion   \n",
       "4385  Mantener_posicion  Mantener_posicion  Mantener_posicion   \n",
       "\n",
       "                SMA_50d           SMA_100d           SMA_200d  \n",
       "4381  Mantener_posicion  Mantener_posicion  Mantener_posicion  \n",
       "4382  Mantener_posicion  Mantener_posicion  Mantener_posicion  \n",
       "4383  Mantener_posicion  Mantener_posicion  Mantener_posicion  \n",
       "4384            Comprar  Mantener_posicion  Mantener_posicion  \n",
       "4385  Mantener_posicion  Mantener_posicion  Mantener_posicion  "
      ]
     },
     "execution_count": 17,
     "metadata": {},
     "output_type": "execute_result"
    }
   ],
   "source": [
    "SMA_ET_df.tail()"
   ]
  },
  {
   "cell_type": "code",
   "execution_count": 18,
   "metadata": {
    "id": "Ma5t3xaVeQln"
   },
   "outputs": [],
   "source": [
    "# Se renombra la columna por comodidad en su tratamiento posterior\n",
    "for Col in SMA_Columnas:\n",
    "    SMA_ET_df.rename(columns={\"\"+Col+\"\": \"\"+Col+\"_ET\"}, inplace=True)"
   ]
  },
  {
   "cell_type": "code",
   "execution_count": 19,
   "metadata": {
    "id": "11qNqSC-eQln",
    "outputId": "853368d3-8d33-4f8a-a9fb-bb47a37dae01"
   },
   "outputs": [
    {
     "data": {
      "text/html": [
       "<div>\n",
       "<style scoped>\n",
       "    .dataframe tbody tr th:only-of-type {\n",
       "        vertical-align: middle;\n",
       "    }\n",
       "\n",
       "    .dataframe tbody tr th {\n",
       "        vertical-align: top;\n",
       "    }\n",
       "\n",
       "    .dataframe thead th {\n",
       "        text-align: right;\n",
       "    }\n",
       "</style>\n",
       "<table border=\"1\" class=\"dataframe\">\n",
       "  <thead>\n",
       "    <tr style=\"text-align: right;\">\n",
       "      <th></th>\n",
       "      <th>SMA_7d_ET</th>\n",
       "      <th>SMA_15d_ET</th>\n",
       "      <th>SMA_30d_ET</th>\n",
       "      <th>SMA_50d_ET</th>\n",
       "      <th>SMA_100d_ET</th>\n",
       "      <th>SMA_200d_ET</th>\n",
       "    </tr>\n",
       "  </thead>\n",
       "  <tbody>\n",
       "    <tr>\n",
       "      <th>4381</th>\n",
       "      <td>Mantener_posicion</td>\n",
       "      <td>Mantener_posicion</td>\n",
       "      <td>Mantener_posicion</td>\n",
       "      <td>Mantener_posicion</td>\n",
       "      <td>Mantener_posicion</td>\n",
       "      <td>Mantener_posicion</td>\n",
       "    </tr>\n",
       "    <tr>\n",
       "      <th>4382</th>\n",
       "      <td>Mantener_posicion</td>\n",
       "      <td>Mantener_posicion</td>\n",
       "      <td>Mantener_posicion</td>\n",
       "      <td>Mantener_posicion</td>\n",
       "      <td>Mantener_posicion</td>\n",
       "      <td>Mantener_posicion</td>\n",
       "    </tr>\n",
       "    <tr>\n",
       "      <th>4383</th>\n",
       "      <td>Mantener_posicion</td>\n",
       "      <td>Mantener_posicion</td>\n",
       "      <td>Mantener_posicion</td>\n",
       "      <td>Mantener_posicion</td>\n",
       "      <td>Mantener_posicion</td>\n",
       "      <td>Mantener_posicion</td>\n",
       "    </tr>\n",
       "    <tr>\n",
       "      <th>4384</th>\n",
       "      <td>Mantener_posicion</td>\n",
       "      <td>Mantener_posicion</td>\n",
       "      <td>Mantener_posicion</td>\n",
       "      <td>Comprar</td>\n",
       "      <td>Mantener_posicion</td>\n",
       "      <td>Mantener_posicion</td>\n",
       "    </tr>\n",
       "    <tr>\n",
       "      <th>4385</th>\n",
       "      <td>Mantener_posicion</td>\n",
       "      <td>Mantener_posicion</td>\n",
       "      <td>Mantener_posicion</td>\n",
       "      <td>Mantener_posicion</td>\n",
       "      <td>Mantener_posicion</td>\n",
       "      <td>Mantener_posicion</td>\n",
       "    </tr>\n",
       "  </tbody>\n",
       "</table>\n",
       "</div>"
      ],
      "text/plain": [
       "              SMA_7d_ET         SMA_15d_ET         SMA_30d_ET  \\\n",
       "4381  Mantener_posicion  Mantener_posicion  Mantener_posicion   \n",
       "4382  Mantener_posicion  Mantener_posicion  Mantener_posicion   \n",
       "4383  Mantener_posicion  Mantener_posicion  Mantener_posicion   \n",
       "4384  Mantener_posicion  Mantener_posicion  Mantener_posicion   \n",
       "4385  Mantener_posicion  Mantener_posicion  Mantener_posicion   \n",
       "\n",
       "             SMA_50d_ET        SMA_100d_ET        SMA_200d_ET  \n",
       "4381  Mantener_posicion  Mantener_posicion  Mantener_posicion  \n",
       "4382  Mantener_posicion  Mantener_posicion  Mantener_posicion  \n",
       "4383  Mantener_posicion  Mantener_posicion  Mantener_posicion  \n",
       "4384            Comprar  Mantener_posicion  Mantener_posicion  \n",
       "4385  Mantener_posicion  Mantener_posicion  Mantener_posicion  "
      ]
     },
     "execution_count": 19,
     "metadata": {},
     "output_type": "execute_result"
    }
   ],
   "source": [
    "SMA_ET_df.tail()"
   ]
  },
  {
   "cell_type": "markdown",
   "metadata": {},
   "source": [
    "Se concatena las columnas de la estrategia de trading a la tabla de BTC_df_SMA_ET (ya posee los valores de las medias móviles)"
   ]
  },
  {
   "cell_type": "code",
   "execution_count": 20,
   "metadata": {
    "id": "DfPZkJoTeQlo"
   },
   "outputs": [],
   "source": [
    "BTC_SMA_ET_df = pd.concat ([BTC_df_SMA_ET, SMA_ET_df], axis=1)"
   ]
  },
  {
   "cell_type": "code",
   "execution_count": 21,
   "metadata": {
    "id": "e-kWhdgTeQlo",
    "outputId": "9c421e50-d3fc-461c-ffa9-04becb1c6996"
   },
   "outputs": [
    {
     "data": {
      "text/html": [
       "<div>\n",
       "<style scoped>\n",
       "    .dataframe tbody tr th:only-of-type {\n",
       "        vertical-align: middle;\n",
       "    }\n",
       "\n",
       "    .dataframe tbody tr th {\n",
       "        vertical-align: top;\n",
       "    }\n",
       "\n",
       "    .dataframe thead th {\n",
       "        text-align: right;\n",
       "    }\n",
       "</style>\n",
       "<table border=\"1\" class=\"dataframe\">\n",
       "  <thead>\n",
       "    <tr style=\"text-align: right;\">\n",
       "      <th></th>\n",
       "      <th>Date</th>\n",
       "      <th>Price</th>\n",
       "      <th>Open</th>\n",
       "      <th>High</th>\n",
       "      <th>Low</th>\n",
       "      <th>Vol.</th>\n",
       "      <th>Percentage_diff</th>\n",
       "      <th>Target</th>\n",
       "      <th>SMA_7d</th>\n",
       "      <th>SMA_15d</th>\n",
       "      <th>SMA_30d</th>\n",
       "      <th>SMA_50d</th>\n",
       "      <th>SMA_100d</th>\n",
       "      <th>SMA_200d</th>\n",
       "      <th>SMA_7d_ET</th>\n",
       "      <th>SMA_15d_ET</th>\n",
       "      <th>SMA_30d_ET</th>\n",
       "      <th>SMA_50d_ET</th>\n",
       "      <th>SMA_100d_ET</th>\n",
       "      <th>SMA_200d_ET</th>\n",
       "    </tr>\n",
       "  </thead>\n",
       "  <tbody>\n",
       "    <tr>\n",
       "      <th>4381</th>\n",
       "      <td>2022-07-16</td>\n",
       "      <td>21209.9</td>\n",
       "      <td>20825.2</td>\n",
       "      <td>21561.3</td>\n",
       "      <td>20484.4</td>\n",
       "      <td>136890.0</td>\n",
       "      <td>1.85</td>\n",
       "      <td>1.0</td>\n",
       "      <td>20430.357143</td>\n",
       "      <td>20491.973333</td>\n",
       "      <td>20460.546667</td>\n",
       "      <td>23600.324</td>\n",
       "      <td>29655.396</td>\n",
       "      <td>35689.4685</td>\n",
       "      <td>Mantener_posicion</td>\n",
       "      <td>Mantener_posicion</td>\n",
       "      <td>Mantener_posicion</td>\n",
       "      <td>Mantener_posicion</td>\n",
       "      <td>Mantener_posicion</td>\n",
       "      <td>Mantener_posicion</td>\n",
       "    </tr>\n",
       "    <tr>\n",
       "      <th>4382</th>\n",
       "      <td>2022-07-17</td>\n",
       "      <td>20785.6</td>\n",
       "      <td>21209.8</td>\n",
       "      <td>21654.4</td>\n",
       "      <td>20755.2</td>\n",
       "      <td>132810.0</td>\n",
       "      <td>-2.00</td>\n",
       "      <td>0.0</td>\n",
       "      <td>20421.528571</td>\n",
       "      <td>20594.800000</td>\n",
       "      <td>20471.913333</td>\n",
       "      <td>23435.494</td>\n",
       "      <td>29440.502</td>\n",
       "      <td>35561.0880</td>\n",
       "      <td>Mantener_posicion</td>\n",
       "      <td>Mantener_posicion</td>\n",
       "      <td>Mantener_posicion</td>\n",
       "      <td>Mantener_posicion</td>\n",
       "      <td>Mantener_posicion</td>\n",
       "      <td>Mantener_posicion</td>\n",
       "    </tr>\n",
       "    <tr>\n",
       "      <th>4383</th>\n",
       "      <td>2022-07-18</td>\n",
       "      <td>22525.8</td>\n",
       "      <td>20785.6</td>\n",
       "      <td>22714.9</td>\n",
       "      <td>20770.6</td>\n",
       "      <td>279720.0</td>\n",
       "      <td>8.37</td>\n",
       "      <td>1.0</td>\n",
       "      <td>20787.614286</td>\n",
       "      <td>20809.193333</td>\n",
       "      <td>20589.890000</td>\n",
       "      <td>23296.706</td>\n",
       "      <td>29238.090</td>\n",
       "      <td>35438.1005</td>\n",
       "      <td>Mantener_posicion</td>\n",
       "      <td>Mantener_posicion</td>\n",
       "      <td>Mantener_posicion</td>\n",
       "      <td>Mantener_posicion</td>\n",
       "      <td>Mantener_posicion</td>\n",
       "      <td>Mantener_posicion</td>\n",
       "    </tr>\n",
       "    <tr>\n",
       "      <th>4384</th>\n",
       "      <td>2022-07-19</td>\n",
       "      <td>23410.2</td>\n",
       "      <td>22529.3</td>\n",
       "      <td>23757.3</td>\n",
       "      <td>21581.8</td>\n",
       "      <td>308910.0</td>\n",
       "      <td>3.93</td>\n",
       "      <td>1.0</td>\n",
       "      <td>21370.371429</td>\n",
       "      <td>21022.153333</td>\n",
       "      <td>20684.323333</td>\n",
       "      <td>23130.444</td>\n",
       "      <td>29050.812</td>\n",
       "      <td>35324.0540</td>\n",
       "      <td>Mantener_posicion</td>\n",
       "      <td>Mantener_posicion</td>\n",
       "      <td>Mantener_posicion</td>\n",
       "      <td>Comprar</td>\n",
       "      <td>Mantener_posicion</td>\n",
       "      <td>Mantener_posicion</td>\n",
       "    </tr>\n",
       "    <tr>\n",
       "      <th>4385</th>\n",
       "      <td>2022-07-20</td>\n",
       "      <td>23149.1</td>\n",
       "      <td>23412.0</td>\n",
       "      <td>23429.9</td>\n",
       "      <td>22965.9</td>\n",
       "      <td>290210.0</td>\n",
       "      <td>-1.12</td>\n",
       "      <td>0.0</td>\n",
       "      <td>21784.528571</td>\n",
       "      <td>21218.720000</td>\n",
       "      <td>20770.216667</td>\n",
       "      <td>22957.558</td>\n",
       "      <td>28887.333</td>\n",
       "      <td>35201.1095</td>\n",
       "      <td>Mantener_posicion</td>\n",
       "      <td>Mantener_posicion</td>\n",
       "      <td>Mantener_posicion</td>\n",
       "      <td>Mantener_posicion</td>\n",
       "      <td>Mantener_posicion</td>\n",
       "      <td>Mantener_posicion</td>\n",
       "    </tr>\n",
       "  </tbody>\n",
       "</table>\n",
       "</div>"
      ],
      "text/plain": [
       "            Date    Price     Open     High      Low      Vol.  \\\n",
       "4381  2022-07-16  21209.9  20825.2  21561.3  20484.4  136890.0   \n",
       "4382  2022-07-17  20785.6  21209.8  21654.4  20755.2  132810.0   \n",
       "4383  2022-07-18  22525.8  20785.6  22714.9  20770.6  279720.0   \n",
       "4384  2022-07-19  23410.2  22529.3  23757.3  21581.8  308910.0   \n",
       "4385  2022-07-20  23149.1  23412.0  23429.9  22965.9  290210.0   \n",
       "\n",
       "      Percentage_diff  Target        SMA_7d       SMA_15d       SMA_30d  \\\n",
       "4381             1.85     1.0  20430.357143  20491.973333  20460.546667   \n",
       "4382            -2.00     0.0  20421.528571  20594.800000  20471.913333   \n",
       "4383             8.37     1.0  20787.614286  20809.193333  20589.890000   \n",
       "4384             3.93     1.0  21370.371429  21022.153333  20684.323333   \n",
       "4385            -1.12     0.0  21784.528571  21218.720000  20770.216667   \n",
       "\n",
       "        SMA_50d   SMA_100d    SMA_200d          SMA_7d_ET         SMA_15d_ET  \\\n",
       "4381  23600.324  29655.396  35689.4685  Mantener_posicion  Mantener_posicion   \n",
       "4382  23435.494  29440.502  35561.0880  Mantener_posicion  Mantener_posicion   \n",
       "4383  23296.706  29238.090  35438.1005  Mantener_posicion  Mantener_posicion   \n",
       "4384  23130.444  29050.812  35324.0540  Mantener_posicion  Mantener_posicion   \n",
       "4385  22957.558  28887.333  35201.1095  Mantener_posicion  Mantener_posicion   \n",
       "\n",
       "             SMA_30d_ET         SMA_50d_ET        SMA_100d_ET  \\\n",
       "4381  Mantener_posicion  Mantener_posicion  Mantener_posicion   \n",
       "4382  Mantener_posicion  Mantener_posicion  Mantener_posicion   \n",
       "4383  Mantener_posicion  Mantener_posicion  Mantener_posicion   \n",
       "4384  Mantener_posicion            Comprar  Mantener_posicion   \n",
       "4385  Mantener_posicion  Mantener_posicion  Mantener_posicion   \n",
       "\n",
       "            SMA_200d_ET  \n",
       "4381  Mantener_posicion  \n",
       "4382  Mantener_posicion  \n",
       "4383  Mantener_posicion  \n",
       "4384  Mantener_posicion  \n",
       "4385  Mantener_posicion  "
      ]
     },
     "execution_count": 21,
     "metadata": {},
     "output_type": "execute_result"
    }
   ],
   "source": [
    "BTC_SMA_ET_df.tail()"
   ]
  },
  {
   "cell_type": "markdown",
   "metadata": {
    "id": "x-hhYgxreQlp"
   },
   "source": [
    "#### Media Móvil Exponencial (MME) (7, 15, 30, 50, 100 y 200 días)\n",
    "\n",
    "* Información (EN): https://www.investopedia.com/terms/e/ema.asp"
   ]
  },
  {
   "cell_type": "code",
   "execution_count": 22,
   "metadata": {
    "id": "pnCBhYLoeQlq"
   },
   "outputs": [],
   "source": [
    "# Se crea para back up\n",
    "BTC_df_EMA = BTC_df.copy()"
   ]
  },
  {
   "cell_type": "code",
   "execution_count": 23,
   "metadata": {
    "id": "Z-zsAOOheQlq"
   },
   "outputs": [],
   "source": [
    "BTC_df_EMA [\"EMA_7d\"] = ta.EMA (BTC_df_EMA [\"Price\"], timeperiod=7)"
   ]
  },
  {
   "cell_type": "code",
   "execution_count": 24,
   "metadata": {
    "id": "zcSbr5R9eQlr"
   },
   "outputs": [],
   "source": [
    "BTC_df_EMA [\"EMA_15d\"] = ta.EMA (BTC_df_EMA [\"Price\"], timeperiod=15)"
   ]
  },
  {
   "cell_type": "code",
   "execution_count": 25,
   "metadata": {
    "id": "qeNq2yW8eQlr"
   },
   "outputs": [],
   "source": [
    "BTC_df_EMA [\"EMA_30d\"] = ta.EMA (BTC_df_EMA [\"Price\"], timeperiod=30)"
   ]
  },
  {
   "cell_type": "code",
   "execution_count": 26,
   "metadata": {
    "id": "P86CzxLSeQls"
   },
   "outputs": [],
   "source": [
    "BTC_df_EMA [\"EMA_50d\"] = ta.EMA (BTC_df_EMA [\"Price\"], timeperiod=50)"
   ]
  },
  {
   "cell_type": "code",
   "execution_count": 27,
   "metadata": {
    "id": "nUazXLdYeQls"
   },
   "outputs": [],
   "source": [
    "BTC_df_EMA [\"EMA_100d\"] = ta.EMA (BTC_df_EMA [\"Price\"], timeperiod=100)"
   ]
  },
  {
   "cell_type": "code",
   "execution_count": 28,
   "metadata": {
    "id": "3XO_IkM1eQls"
   },
   "outputs": [],
   "source": [
    "BTC_df_EMA [\"EMA_200d\"] = ta.EMA (BTC_df_EMA [\"Price\"], timeperiod=200)"
   ]
  },
  {
   "cell_type": "code",
   "execution_count": 29,
   "metadata": {
    "id": "DFhHYkByeQlt",
    "outputId": "7819ea3c-0441-4254-c7b4-d69a0609e6bc"
   },
   "outputs": [
    {
     "data": {
      "text/html": [
       "<div>\n",
       "<style scoped>\n",
       "    .dataframe tbody tr th:only-of-type {\n",
       "        vertical-align: middle;\n",
       "    }\n",
       "\n",
       "    .dataframe tbody tr th {\n",
       "        vertical-align: top;\n",
       "    }\n",
       "\n",
       "    .dataframe thead th {\n",
       "        text-align: right;\n",
       "    }\n",
       "</style>\n",
       "<table border=\"1\" class=\"dataframe\">\n",
       "  <thead>\n",
       "    <tr style=\"text-align: right;\">\n",
       "      <th></th>\n",
       "      <th>Date</th>\n",
       "      <th>Price</th>\n",
       "      <th>Open</th>\n",
       "      <th>High</th>\n",
       "      <th>Low</th>\n",
       "      <th>Vol.</th>\n",
       "      <th>Percentage_diff</th>\n",
       "      <th>Target</th>\n",
       "      <th>EMA_7d</th>\n",
       "      <th>EMA_15d</th>\n",
       "      <th>EMA_30d</th>\n",
       "      <th>EMA_50d</th>\n",
       "      <th>EMA_100d</th>\n",
       "      <th>EMA_200d</th>\n",
       "    </tr>\n",
       "  </thead>\n",
       "  <tbody>\n",
       "    <tr>\n",
       "      <th>4381</th>\n",
       "      <td>2022-07-16</td>\n",
       "      <td>21209.9</td>\n",
       "      <td>20825.2</td>\n",
       "      <td>21561.3</td>\n",
       "      <td>20484.4</td>\n",
       "      <td>136890.0</td>\n",
       "      <td>1.85</td>\n",
       "      <td>1.0</td>\n",
       "      <td>20679.126620</td>\n",
       "      <td>20677.015769</td>\n",
       "      <td>21599.199372</td>\n",
       "      <td>23575.445072</td>\n",
       "      <td>28195.025858</td>\n",
       "      <td>33931.069335</td>\n",
       "    </tr>\n",
       "    <tr>\n",
       "      <th>4382</th>\n",
       "      <td>2022-07-17</td>\n",
       "      <td>20785.6</td>\n",
       "      <td>21209.8</td>\n",
       "      <td>21654.4</td>\n",
       "      <td>20755.2</td>\n",
       "      <td>132810.0</td>\n",
       "      <td>-2.00</td>\n",
       "      <td>0.0</td>\n",
       "      <td>20705.744965</td>\n",
       "      <td>20690.588798</td>\n",
       "      <td>21546.709090</td>\n",
       "      <td>23466.039383</td>\n",
       "      <td>28048.304554</td>\n",
       "      <td>33800.268645</td>\n",
       "    </tr>\n",
       "    <tr>\n",
       "      <th>4383</th>\n",
       "      <td>2022-07-18</td>\n",
       "      <td>22525.8</td>\n",
       "      <td>20785.6</td>\n",
       "      <td>22714.9</td>\n",
       "      <td>20770.6</td>\n",
       "      <td>279720.0</td>\n",
       "      <td>8.37</td>\n",
       "      <td>1.0</td>\n",
       "      <td>21160.758724</td>\n",
       "      <td>20919.990198</td>\n",
       "      <td>21609.876245</td>\n",
       "      <td>23429.167250</td>\n",
       "      <td>27938.948029</td>\n",
       "      <td>33688.084877</td>\n",
       "    </tr>\n",
       "    <tr>\n",
       "      <th>4384</th>\n",
       "      <td>2022-07-19</td>\n",
       "      <td>23410.2</td>\n",
       "      <td>22529.3</td>\n",
       "      <td>23757.3</td>\n",
       "      <td>21581.8</td>\n",
       "      <td>308910.0</td>\n",
       "      <td>3.93</td>\n",
       "      <td>1.0</td>\n",
       "      <td>21723.119043</td>\n",
       "      <td>21231.266424</td>\n",
       "      <td>21726.026165</td>\n",
       "      <td>23428.423436</td>\n",
       "      <td>27849.269850</td>\n",
       "      <td>33585.817366</td>\n",
       "    </tr>\n",
       "    <tr>\n",
       "      <th>4385</th>\n",
       "      <td>2022-07-20</td>\n",
       "      <td>23149.1</td>\n",
       "      <td>23412.0</td>\n",
       "      <td>23429.9</td>\n",
       "      <td>22965.9</td>\n",
       "      <td>290210.0</td>\n",
       "      <td>-1.12</td>\n",
       "      <td>0.0</td>\n",
       "      <td>22079.614282</td>\n",
       "      <td>21470.995621</td>\n",
       "      <td>21817.837380</td>\n",
       "      <td>23417.469576</td>\n",
       "      <td>27756.197179</td>\n",
       "      <td>33481.969432</td>\n",
       "    </tr>\n",
       "  </tbody>\n",
       "</table>\n",
       "</div>"
      ],
      "text/plain": [
       "            Date    Price     Open     High      Low      Vol.  \\\n",
       "4381  2022-07-16  21209.9  20825.2  21561.3  20484.4  136890.0   \n",
       "4382  2022-07-17  20785.6  21209.8  21654.4  20755.2  132810.0   \n",
       "4383  2022-07-18  22525.8  20785.6  22714.9  20770.6  279720.0   \n",
       "4384  2022-07-19  23410.2  22529.3  23757.3  21581.8  308910.0   \n",
       "4385  2022-07-20  23149.1  23412.0  23429.9  22965.9  290210.0   \n",
       "\n",
       "      Percentage_diff  Target        EMA_7d       EMA_15d       EMA_30d  \\\n",
       "4381             1.85     1.0  20679.126620  20677.015769  21599.199372   \n",
       "4382            -2.00     0.0  20705.744965  20690.588798  21546.709090   \n",
       "4383             8.37     1.0  21160.758724  20919.990198  21609.876245   \n",
       "4384             3.93     1.0  21723.119043  21231.266424  21726.026165   \n",
       "4385            -1.12     0.0  22079.614282  21470.995621  21817.837380   \n",
       "\n",
       "           EMA_50d      EMA_100d      EMA_200d  \n",
       "4381  23575.445072  28195.025858  33931.069335  \n",
       "4382  23466.039383  28048.304554  33800.268645  \n",
       "4383  23429.167250  27938.948029  33688.084877  \n",
       "4384  23428.423436  27849.269850  33585.817366  \n",
       "4385  23417.469576  27756.197179  33481.969432  "
      ]
     },
     "execution_count": 29,
     "metadata": {},
     "output_type": "execute_result"
    }
   ],
   "source": [
    "BTC_df_EMA.tail()"
   ]
  },
  {
   "cell_type": "markdown",
   "metadata": {
    "id": "VuQXjfbyeQlt"
   },
   "source": [
    "Estrategia de trading\n",
    "\n",
    "\n",
    "* Cuando el valor de la columna \"Price\" supera a la Media Móvil Exponencial se compra (\"Compra\"). Se entiende que la tendencia sube.\n",
    "* Cuando el valor de la columna \"Price\" cae por debajo de la Media Móvil Exponencial se vende (\"Venta\"). Se entiende que la tendencia baja.\n",
    "* El resto de los valores adquieren valor \"Mantener_posicion\". Se entiende que la tendencia se mantiene."
   ]
  },
  {
   "cell_type": "code",
   "execution_count": 30,
   "metadata": {
    "id": "pwG7NjgmeQlt"
   },
   "outputs": [],
   "source": [
    "# Se crea para back up\n",
    "BTC_df_EMA_ET = BTC_df_EMA.copy()"
   ]
  },
  {
   "cell_type": "code",
   "execution_count": 31,
   "metadata": {
    "id": "OTuL0NyDeQlu",
    "outputId": "033536e3-1218-4e1d-f30e-da3175be5599"
   },
   "outputs": [
    {
     "data": {
      "text/plain": [
       "Index(['Date', 'Price', 'Open', 'High', 'Low', 'Vol.', 'Percentage_diff',\n",
       "       'Target', 'EMA_7d', 'EMA_15d', 'EMA_30d', 'EMA_50d', 'EMA_100d',\n",
       "       'EMA_200d'],\n",
       "      dtype='object')"
      ]
     },
     "execution_count": 31,
     "metadata": {},
     "output_type": "execute_result"
    }
   ],
   "source": [
    "BTC_df_EMA_ET.columns"
   ]
  },
  {
   "cell_type": "code",
   "execution_count": 32,
   "metadata": {
    "id": "yH63jwaCeQlu"
   },
   "outputs": [],
   "source": [
    "EMA_Columnas = ['EMA_7d', 'EMA_15d', 'EMA_30d', 'EMA_50d', 'EMA_100d', 'EMA_200d'] "
   ]
  },
  {
   "cell_type": "code",
   "execution_count": 33,
   "metadata": {
    "id": "PHxLQMpgeQlv"
   },
   "outputs": [],
   "source": [
    "# Se aplica la estrategia de trading\n",
    "EMA_ET_df = pd.DataFrame()\n",
    "EMA_ET_df\n",
    "\n",
    "for col in EMA_Columnas:\n",
    "    \n",
    "    EMA_ET = []\n",
    "\n",
    "    x=0\n",
    "    while x < len (BTC_df_EMA_ET [\"Price\"]): \n",
    "        \n",
    "        if x==0:\n",
    "            EMA_ET.append (\"Mantener_posicion\")\n",
    "        \n",
    "        elif (BTC_df_EMA_ET [\"Price\"] [x-1] < BTC_df_EMA_ET [col] [x-1]) and (BTC_df_EMA_ET [\"Price\"] [x] > BTC_df_EMA_ET [col] [x]):\n",
    "            EMA_ET.append (\"Comprar\")\n",
    "            \n",
    "        elif (BTC_df_EMA_ET [\"Price\"] [x-1] > BTC_df_EMA_ET [col] [x-1]) and (BTC_df_EMA_ET [\"Price\"] [x] < BTC_df_EMA_ET [col] [x]):\n",
    "            EMA_ET.append (\"Vender\")\n",
    "            \n",
    "        else:\n",
    "            EMA_ET.append (\"Mantener_posicion\")\n",
    "            \n",
    "        \n",
    "        x+=1\n",
    "    \n",
    "    EMA_ET_df [col] = pd.Series(EMA_ET)\n",
    "    \n",
    "    EMA_ET.clear()"
   ]
  },
  {
   "cell_type": "code",
   "execution_count": 34,
   "metadata": {
    "id": "W7mLww1jeQlv",
    "outputId": "849add18-0aa0-47d7-9628-4255413a721a"
   },
   "outputs": [
    {
     "data": {
      "text/html": [
       "<div>\n",
       "<style scoped>\n",
       "    .dataframe tbody tr th:only-of-type {\n",
       "        vertical-align: middle;\n",
       "    }\n",
       "\n",
       "    .dataframe tbody tr th {\n",
       "        vertical-align: top;\n",
       "    }\n",
       "\n",
       "    .dataframe thead th {\n",
       "        text-align: right;\n",
       "    }\n",
       "</style>\n",
       "<table border=\"1\" class=\"dataframe\">\n",
       "  <thead>\n",
       "    <tr style=\"text-align: right;\">\n",
       "      <th></th>\n",
       "      <th>EMA_7d</th>\n",
       "      <th>EMA_15d</th>\n",
       "      <th>EMA_30d</th>\n",
       "      <th>EMA_50d</th>\n",
       "      <th>EMA_100d</th>\n",
       "      <th>EMA_200d</th>\n",
       "    </tr>\n",
       "  </thead>\n",
       "  <tbody>\n",
       "    <tr>\n",
       "      <th>4381</th>\n",
       "      <td>Mantener_posicion</td>\n",
       "      <td>Mantener_posicion</td>\n",
       "      <td>Mantener_posicion</td>\n",
       "      <td>Mantener_posicion</td>\n",
       "      <td>Mantener_posicion</td>\n",
       "      <td>Mantener_posicion</td>\n",
       "    </tr>\n",
       "    <tr>\n",
       "      <th>4382</th>\n",
       "      <td>Mantener_posicion</td>\n",
       "      <td>Mantener_posicion</td>\n",
       "      <td>Mantener_posicion</td>\n",
       "      <td>Mantener_posicion</td>\n",
       "      <td>Mantener_posicion</td>\n",
       "      <td>Mantener_posicion</td>\n",
       "    </tr>\n",
       "    <tr>\n",
       "      <th>4383</th>\n",
       "      <td>Mantener_posicion</td>\n",
       "      <td>Mantener_posicion</td>\n",
       "      <td>Comprar</td>\n",
       "      <td>Mantener_posicion</td>\n",
       "      <td>Mantener_posicion</td>\n",
       "      <td>Mantener_posicion</td>\n",
       "    </tr>\n",
       "    <tr>\n",
       "      <th>4384</th>\n",
       "      <td>Mantener_posicion</td>\n",
       "      <td>Mantener_posicion</td>\n",
       "      <td>Mantener_posicion</td>\n",
       "      <td>Mantener_posicion</td>\n",
       "      <td>Mantener_posicion</td>\n",
       "      <td>Mantener_posicion</td>\n",
       "    </tr>\n",
       "    <tr>\n",
       "      <th>4385</th>\n",
       "      <td>Mantener_posicion</td>\n",
       "      <td>Mantener_posicion</td>\n",
       "      <td>Mantener_posicion</td>\n",
       "      <td>Mantener_posicion</td>\n",
       "      <td>Mantener_posicion</td>\n",
       "      <td>Mantener_posicion</td>\n",
       "    </tr>\n",
       "  </tbody>\n",
       "</table>\n",
       "</div>"
      ],
      "text/plain": [
       "                 EMA_7d            EMA_15d            EMA_30d  \\\n",
       "4381  Mantener_posicion  Mantener_posicion  Mantener_posicion   \n",
       "4382  Mantener_posicion  Mantener_posicion  Mantener_posicion   \n",
       "4383  Mantener_posicion  Mantener_posicion            Comprar   \n",
       "4384  Mantener_posicion  Mantener_posicion  Mantener_posicion   \n",
       "4385  Mantener_posicion  Mantener_posicion  Mantener_posicion   \n",
       "\n",
       "                EMA_50d           EMA_100d           EMA_200d  \n",
       "4381  Mantener_posicion  Mantener_posicion  Mantener_posicion  \n",
       "4382  Mantener_posicion  Mantener_posicion  Mantener_posicion  \n",
       "4383  Mantener_posicion  Mantener_posicion  Mantener_posicion  \n",
       "4384  Mantener_posicion  Mantener_posicion  Mantener_posicion  \n",
       "4385  Mantener_posicion  Mantener_posicion  Mantener_posicion  "
      ]
     },
     "execution_count": 34,
     "metadata": {},
     "output_type": "execute_result"
    }
   ],
   "source": [
    "EMA_ET_df.tail()"
   ]
  },
  {
   "cell_type": "code",
   "execution_count": 35,
   "metadata": {
    "id": "QNRrZj2keQlw"
   },
   "outputs": [],
   "source": [
    "# Se renombran las columnas para su posterior tratamiento\n",
    "for Col in EMA_Columnas:\n",
    "    EMA_ET_df.rename(columns={\"\"+Col+\"\": \"\"+Col+\"_ET\"}, inplace=True)"
   ]
  },
  {
   "cell_type": "code",
   "execution_count": 36,
   "metadata": {
    "id": "0dIUtjKieQlw",
    "outputId": "4eb5403b-14b2-447e-ff52-aae46f907077"
   },
   "outputs": [
    {
     "data": {
      "text/html": [
       "<div>\n",
       "<style scoped>\n",
       "    .dataframe tbody tr th:only-of-type {\n",
       "        vertical-align: middle;\n",
       "    }\n",
       "\n",
       "    .dataframe tbody tr th {\n",
       "        vertical-align: top;\n",
       "    }\n",
       "\n",
       "    .dataframe thead th {\n",
       "        text-align: right;\n",
       "    }\n",
       "</style>\n",
       "<table border=\"1\" class=\"dataframe\">\n",
       "  <thead>\n",
       "    <tr style=\"text-align: right;\">\n",
       "      <th></th>\n",
       "      <th>EMA_7d_ET</th>\n",
       "      <th>EMA_15d_ET</th>\n",
       "      <th>EMA_30d_ET</th>\n",
       "      <th>EMA_50d_ET</th>\n",
       "      <th>EMA_100d_ET</th>\n",
       "      <th>EMA_200d_ET</th>\n",
       "    </tr>\n",
       "  </thead>\n",
       "  <tbody>\n",
       "    <tr>\n",
       "      <th>4381</th>\n",
       "      <td>Mantener_posicion</td>\n",
       "      <td>Mantener_posicion</td>\n",
       "      <td>Mantener_posicion</td>\n",
       "      <td>Mantener_posicion</td>\n",
       "      <td>Mantener_posicion</td>\n",
       "      <td>Mantener_posicion</td>\n",
       "    </tr>\n",
       "    <tr>\n",
       "      <th>4382</th>\n",
       "      <td>Mantener_posicion</td>\n",
       "      <td>Mantener_posicion</td>\n",
       "      <td>Mantener_posicion</td>\n",
       "      <td>Mantener_posicion</td>\n",
       "      <td>Mantener_posicion</td>\n",
       "      <td>Mantener_posicion</td>\n",
       "    </tr>\n",
       "    <tr>\n",
       "      <th>4383</th>\n",
       "      <td>Mantener_posicion</td>\n",
       "      <td>Mantener_posicion</td>\n",
       "      <td>Comprar</td>\n",
       "      <td>Mantener_posicion</td>\n",
       "      <td>Mantener_posicion</td>\n",
       "      <td>Mantener_posicion</td>\n",
       "    </tr>\n",
       "    <tr>\n",
       "      <th>4384</th>\n",
       "      <td>Mantener_posicion</td>\n",
       "      <td>Mantener_posicion</td>\n",
       "      <td>Mantener_posicion</td>\n",
       "      <td>Mantener_posicion</td>\n",
       "      <td>Mantener_posicion</td>\n",
       "      <td>Mantener_posicion</td>\n",
       "    </tr>\n",
       "    <tr>\n",
       "      <th>4385</th>\n",
       "      <td>Mantener_posicion</td>\n",
       "      <td>Mantener_posicion</td>\n",
       "      <td>Mantener_posicion</td>\n",
       "      <td>Mantener_posicion</td>\n",
       "      <td>Mantener_posicion</td>\n",
       "      <td>Mantener_posicion</td>\n",
       "    </tr>\n",
       "  </tbody>\n",
       "</table>\n",
       "</div>"
      ],
      "text/plain": [
       "              EMA_7d_ET         EMA_15d_ET         EMA_30d_ET  \\\n",
       "4381  Mantener_posicion  Mantener_posicion  Mantener_posicion   \n",
       "4382  Mantener_posicion  Mantener_posicion  Mantener_posicion   \n",
       "4383  Mantener_posicion  Mantener_posicion            Comprar   \n",
       "4384  Mantener_posicion  Mantener_posicion  Mantener_posicion   \n",
       "4385  Mantener_posicion  Mantener_posicion  Mantener_posicion   \n",
       "\n",
       "             EMA_50d_ET        EMA_100d_ET        EMA_200d_ET  \n",
       "4381  Mantener_posicion  Mantener_posicion  Mantener_posicion  \n",
       "4382  Mantener_posicion  Mantener_posicion  Mantener_posicion  \n",
       "4383  Mantener_posicion  Mantener_posicion  Mantener_posicion  \n",
       "4384  Mantener_posicion  Mantener_posicion  Mantener_posicion  \n",
       "4385  Mantener_posicion  Mantener_posicion  Mantener_posicion  "
      ]
     },
     "execution_count": 36,
     "metadata": {},
     "output_type": "execute_result"
    }
   ],
   "source": [
    "EMA_ET_df.tail()"
   ]
  },
  {
   "cell_type": "markdown",
   "metadata": {},
   "source": [
    "Se concatena las columnas de la estrategia de trading a la tabla de BTC_df_EMA_ET (ya posee los valores de las medias móviles)"
   ]
  },
  {
   "cell_type": "code",
   "execution_count": 37,
   "metadata": {
    "id": "u8KkrGONeQlx"
   },
   "outputs": [],
   "source": [
    "BTC_EMA_ET_df = pd.concat ([BTC_df_EMA_ET, EMA_ET_df], axis=1)"
   ]
  },
  {
   "cell_type": "code",
   "execution_count": 38,
   "metadata": {
    "id": "qf-X2NfieQlx",
    "outputId": "ff8c243b-e20c-48a9-e1a4-58a915997112"
   },
   "outputs": [
    {
     "data": {
      "text/html": [
       "<div>\n",
       "<style scoped>\n",
       "    .dataframe tbody tr th:only-of-type {\n",
       "        vertical-align: middle;\n",
       "    }\n",
       "\n",
       "    .dataframe tbody tr th {\n",
       "        vertical-align: top;\n",
       "    }\n",
       "\n",
       "    .dataframe thead th {\n",
       "        text-align: right;\n",
       "    }\n",
       "</style>\n",
       "<table border=\"1\" class=\"dataframe\">\n",
       "  <thead>\n",
       "    <tr style=\"text-align: right;\">\n",
       "      <th></th>\n",
       "      <th>Date</th>\n",
       "      <th>Price</th>\n",
       "      <th>Open</th>\n",
       "      <th>High</th>\n",
       "      <th>Low</th>\n",
       "      <th>Vol.</th>\n",
       "      <th>Percentage_diff</th>\n",
       "      <th>Target</th>\n",
       "      <th>EMA_7d</th>\n",
       "      <th>EMA_15d</th>\n",
       "      <th>EMA_30d</th>\n",
       "      <th>EMA_50d</th>\n",
       "      <th>EMA_100d</th>\n",
       "      <th>EMA_200d</th>\n",
       "      <th>EMA_7d_ET</th>\n",
       "      <th>EMA_15d_ET</th>\n",
       "      <th>EMA_30d_ET</th>\n",
       "      <th>EMA_50d_ET</th>\n",
       "      <th>EMA_100d_ET</th>\n",
       "      <th>EMA_200d_ET</th>\n",
       "    </tr>\n",
       "  </thead>\n",
       "  <tbody>\n",
       "    <tr>\n",
       "      <th>4381</th>\n",
       "      <td>2022-07-16</td>\n",
       "      <td>21209.9</td>\n",
       "      <td>20825.2</td>\n",
       "      <td>21561.3</td>\n",
       "      <td>20484.4</td>\n",
       "      <td>136890.0</td>\n",
       "      <td>1.85</td>\n",
       "      <td>1.0</td>\n",
       "      <td>20679.126620</td>\n",
       "      <td>20677.015769</td>\n",
       "      <td>21599.199372</td>\n",
       "      <td>23575.445072</td>\n",
       "      <td>28195.025858</td>\n",
       "      <td>33931.069335</td>\n",
       "      <td>Mantener_posicion</td>\n",
       "      <td>Mantener_posicion</td>\n",
       "      <td>Mantener_posicion</td>\n",
       "      <td>Mantener_posicion</td>\n",
       "      <td>Mantener_posicion</td>\n",
       "      <td>Mantener_posicion</td>\n",
       "    </tr>\n",
       "    <tr>\n",
       "      <th>4382</th>\n",
       "      <td>2022-07-17</td>\n",
       "      <td>20785.6</td>\n",
       "      <td>21209.8</td>\n",
       "      <td>21654.4</td>\n",
       "      <td>20755.2</td>\n",
       "      <td>132810.0</td>\n",
       "      <td>-2.00</td>\n",
       "      <td>0.0</td>\n",
       "      <td>20705.744965</td>\n",
       "      <td>20690.588798</td>\n",
       "      <td>21546.709090</td>\n",
       "      <td>23466.039383</td>\n",
       "      <td>28048.304554</td>\n",
       "      <td>33800.268645</td>\n",
       "      <td>Mantener_posicion</td>\n",
       "      <td>Mantener_posicion</td>\n",
       "      <td>Mantener_posicion</td>\n",
       "      <td>Mantener_posicion</td>\n",
       "      <td>Mantener_posicion</td>\n",
       "      <td>Mantener_posicion</td>\n",
       "    </tr>\n",
       "    <tr>\n",
       "      <th>4383</th>\n",
       "      <td>2022-07-18</td>\n",
       "      <td>22525.8</td>\n",
       "      <td>20785.6</td>\n",
       "      <td>22714.9</td>\n",
       "      <td>20770.6</td>\n",
       "      <td>279720.0</td>\n",
       "      <td>8.37</td>\n",
       "      <td>1.0</td>\n",
       "      <td>21160.758724</td>\n",
       "      <td>20919.990198</td>\n",
       "      <td>21609.876245</td>\n",
       "      <td>23429.167250</td>\n",
       "      <td>27938.948029</td>\n",
       "      <td>33688.084877</td>\n",
       "      <td>Mantener_posicion</td>\n",
       "      <td>Mantener_posicion</td>\n",
       "      <td>Comprar</td>\n",
       "      <td>Mantener_posicion</td>\n",
       "      <td>Mantener_posicion</td>\n",
       "      <td>Mantener_posicion</td>\n",
       "    </tr>\n",
       "    <tr>\n",
       "      <th>4384</th>\n",
       "      <td>2022-07-19</td>\n",
       "      <td>23410.2</td>\n",
       "      <td>22529.3</td>\n",
       "      <td>23757.3</td>\n",
       "      <td>21581.8</td>\n",
       "      <td>308910.0</td>\n",
       "      <td>3.93</td>\n",
       "      <td>1.0</td>\n",
       "      <td>21723.119043</td>\n",
       "      <td>21231.266424</td>\n",
       "      <td>21726.026165</td>\n",
       "      <td>23428.423436</td>\n",
       "      <td>27849.269850</td>\n",
       "      <td>33585.817366</td>\n",
       "      <td>Mantener_posicion</td>\n",
       "      <td>Mantener_posicion</td>\n",
       "      <td>Mantener_posicion</td>\n",
       "      <td>Mantener_posicion</td>\n",
       "      <td>Mantener_posicion</td>\n",
       "      <td>Mantener_posicion</td>\n",
       "    </tr>\n",
       "    <tr>\n",
       "      <th>4385</th>\n",
       "      <td>2022-07-20</td>\n",
       "      <td>23149.1</td>\n",
       "      <td>23412.0</td>\n",
       "      <td>23429.9</td>\n",
       "      <td>22965.9</td>\n",
       "      <td>290210.0</td>\n",
       "      <td>-1.12</td>\n",
       "      <td>0.0</td>\n",
       "      <td>22079.614282</td>\n",
       "      <td>21470.995621</td>\n",
       "      <td>21817.837380</td>\n",
       "      <td>23417.469576</td>\n",
       "      <td>27756.197179</td>\n",
       "      <td>33481.969432</td>\n",
       "      <td>Mantener_posicion</td>\n",
       "      <td>Mantener_posicion</td>\n",
       "      <td>Mantener_posicion</td>\n",
       "      <td>Mantener_posicion</td>\n",
       "      <td>Mantener_posicion</td>\n",
       "      <td>Mantener_posicion</td>\n",
       "    </tr>\n",
       "  </tbody>\n",
       "</table>\n",
       "</div>"
      ],
      "text/plain": [
       "            Date    Price     Open     High      Low      Vol.  \\\n",
       "4381  2022-07-16  21209.9  20825.2  21561.3  20484.4  136890.0   \n",
       "4382  2022-07-17  20785.6  21209.8  21654.4  20755.2  132810.0   \n",
       "4383  2022-07-18  22525.8  20785.6  22714.9  20770.6  279720.0   \n",
       "4384  2022-07-19  23410.2  22529.3  23757.3  21581.8  308910.0   \n",
       "4385  2022-07-20  23149.1  23412.0  23429.9  22965.9  290210.0   \n",
       "\n",
       "      Percentage_diff  Target        EMA_7d       EMA_15d       EMA_30d  \\\n",
       "4381             1.85     1.0  20679.126620  20677.015769  21599.199372   \n",
       "4382            -2.00     0.0  20705.744965  20690.588798  21546.709090   \n",
       "4383             8.37     1.0  21160.758724  20919.990198  21609.876245   \n",
       "4384             3.93     1.0  21723.119043  21231.266424  21726.026165   \n",
       "4385            -1.12     0.0  22079.614282  21470.995621  21817.837380   \n",
       "\n",
       "           EMA_50d      EMA_100d      EMA_200d          EMA_7d_ET  \\\n",
       "4381  23575.445072  28195.025858  33931.069335  Mantener_posicion   \n",
       "4382  23466.039383  28048.304554  33800.268645  Mantener_posicion   \n",
       "4383  23429.167250  27938.948029  33688.084877  Mantener_posicion   \n",
       "4384  23428.423436  27849.269850  33585.817366  Mantener_posicion   \n",
       "4385  23417.469576  27756.197179  33481.969432  Mantener_posicion   \n",
       "\n",
       "             EMA_15d_ET         EMA_30d_ET         EMA_50d_ET  \\\n",
       "4381  Mantener_posicion  Mantener_posicion  Mantener_posicion   \n",
       "4382  Mantener_posicion  Mantener_posicion  Mantener_posicion   \n",
       "4383  Mantener_posicion            Comprar  Mantener_posicion   \n",
       "4384  Mantener_posicion  Mantener_posicion  Mantener_posicion   \n",
       "4385  Mantener_posicion  Mantener_posicion  Mantener_posicion   \n",
       "\n",
       "            EMA_100d_ET        EMA_200d_ET  \n",
       "4381  Mantener_posicion  Mantener_posicion  \n",
       "4382  Mantener_posicion  Mantener_posicion  \n",
       "4383  Mantener_posicion  Mantener_posicion  \n",
       "4384  Mantener_posicion  Mantener_posicion  \n",
       "4385  Mantener_posicion  Mantener_posicion  "
      ]
     },
     "execution_count": 38,
     "metadata": {},
     "output_type": "execute_result"
    }
   ],
   "source": [
    "BTC_EMA_ET_df.tail()"
   ]
  },
  {
   "cell_type": "markdown",
   "metadata": {
    "id": "CuhHNJdseQly"
   },
   "source": [
    "#### HT_TRENDLINE - Hilbert Transform - Instantaneous Trendline\n",
    "\n",
    "* Información (EN): John F. Ehlers, Rocket Science for Traders. *Trading with signal processing methods*. Source code in EasyLanguage.\n",
    "* Más información (EN): https://zorro-project.com/manual/en/ta.htm"
   ]
  },
  {
   "cell_type": "code",
   "execution_count": 39,
   "metadata": {
    "id": "0M0tOBkEeQlz"
   },
   "outputs": [],
   "source": [
    "# Se realiza un back up\n",
    "BTC_df_HT_TRENDLINE = BTC_df.copy()"
   ]
  },
  {
   "cell_type": "code",
   "execution_count": 40,
   "metadata": {
    "id": "OHW8yAR2eQlz"
   },
   "outputs": [],
   "source": [
    "# Se calcula el indicador\n",
    "BTC_df_HT_TRENDLINE [\"HTTL\"] = ta.HT_TRENDLINE (BTC_df_HT_TRENDLINE [\"Price\"])"
   ]
  },
  {
   "cell_type": "code",
   "execution_count": 41,
   "metadata": {
    "id": "BTpFpokmeQl0",
    "outputId": "773546f2-1d70-418e-e23c-c9709dc9174f"
   },
   "outputs": [
    {
     "data": {
      "text/html": [
       "<div>\n",
       "<style scoped>\n",
       "    .dataframe tbody tr th:only-of-type {\n",
       "        vertical-align: middle;\n",
       "    }\n",
       "\n",
       "    .dataframe tbody tr th {\n",
       "        vertical-align: top;\n",
       "    }\n",
       "\n",
       "    .dataframe thead th {\n",
       "        text-align: right;\n",
       "    }\n",
       "</style>\n",
       "<table border=\"1\" class=\"dataframe\">\n",
       "  <thead>\n",
       "    <tr style=\"text-align: right;\">\n",
       "      <th></th>\n",
       "      <th>Date</th>\n",
       "      <th>Price</th>\n",
       "      <th>Open</th>\n",
       "      <th>High</th>\n",
       "      <th>Low</th>\n",
       "      <th>Vol.</th>\n",
       "      <th>Percentage_diff</th>\n",
       "      <th>Target</th>\n",
       "      <th>HTTL</th>\n",
       "    </tr>\n",
       "  </thead>\n",
       "  <tbody>\n",
       "    <tr>\n",
       "      <th>4381</th>\n",
       "      <td>2022-07-16</td>\n",
       "      <td>21209.9</td>\n",
       "      <td>20825.2</td>\n",
       "      <td>21561.3</td>\n",
       "      <td>20484.4</td>\n",
       "      <td>136890.0</td>\n",
       "      <td>1.85</td>\n",
       "      <td>1.0</td>\n",
       "      <td>20423.078104</td>\n",
       "    </tr>\n",
       "    <tr>\n",
       "      <th>4382</th>\n",
       "      <td>2022-07-17</td>\n",
       "      <td>20785.6</td>\n",
       "      <td>21209.8</td>\n",
       "      <td>21654.4</td>\n",
       "      <td>20755.2</td>\n",
       "      <td>132810.0</td>\n",
       "      <td>-2.00</td>\n",
       "      <td>0.0</td>\n",
       "      <td>20403.832160</td>\n",
       "    </tr>\n",
       "    <tr>\n",
       "      <th>4383</th>\n",
       "      <td>2022-07-18</td>\n",
       "      <td>22525.8</td>\n",
       "      <td>20785.6</td>\n",
       "      <td>22714.9</td>\n",
       "      <td>20770.6</td>\n",
       "      <td>279720.0</td>\n",
       "      <td>8.37</td>\n",
       "      <td>1.0</td>\n",
       "      <td>20435.796762</td>\n",
       "    </tr>\n",
       "    <tr>\n",
       "      <th>4384</th>\n",
       "      <td>2022-07-19</td>\n",
       "      <td>23410.2</td>\n",
       "      <td>22529.3</td>\n",
       "      <td>23757.3</td>\n",
       "      <td>21581.8</td>\n",
       "      <td>308910.0</td>\n",
       "      <td>3.93</td>\n",
       "      <td>1.0</td>\n",
       "      <td>20547.109474</td>\n",
       "    </tr>\n",
       "    <tr>\n",
       "      <th>4385</th>\n",
       "      <td>2022-07-20</td>\n",
       "      <td>23149.1</td>\n",
       "      <td>23412.0</td>\n",
       "      <td>23429.9</td>\n",
       "      <td>22965.9</td>\n",
       "      <td>290210.0</td>\n",
       "      <td>-1.12</td>\n",
       "      <td>0.0</td>\n",
       "      <td>20712.814316</td>\n",
       "    </tr>\n",
       "  </tbody>\n",
       "</table>\n",
       "</div>"
      ],
      "text/plain": [
       "            Date    Price     Open     High      Low      Vol.  \\\n",
       "4381  2022-07-16  21209.9  20825.2  21561.3  20484.4  136890.0   \n",
       "4382  2022-07-17  20785.6  21209.8  21654.4  20755.2  132810.0   \n",
       "4383  2022-07-18  22525.8  20785.6  22714.9  20770.6  279720.0   \n",
       "4384  2022-07-19  23410.2  22529.3  23757.3  21581.8  308910.0   \n",
       "4385  2022-07-20  23149.1  23412.0  23429.9  22965.9  290210.0   \n",
       "\n",
       "      Percentage_diff  Target          HTTL  \n",
       "4381             1.85     1.0  20423.078104  \n",
       "4382            -2.00     0.0  20403.832160  \n",
       "4383             8.37     1.0  20435.796762  \n",
       "4384             3.93     1.0  20547.109474  \n",
       "4385            -1.12     0.0  20712.814316  "
      ]
     },
     "execution_count": 41,
     "metadata": {},
     "output_type": "execute_result"
    }
   ],
   "source": [
    "BTC_df_HT_TRENDLINE.tail()"
   ]
  },
  {
   "cell_type": "markdown",
   "metadata": {
    "id": "hsWw90rIeQl0"
   },
   "source": [
    "Estrategia de trading con HT_Trendline\n",
    "\n",
    "* Cuando el valor de la columna \"Price\" supera a la HT_Trendline se compra (\"Compra\"). Se entiende que la tendencia sube.\n",
    "* Cuando el valor de la columna \"Price\" cae por debajo de la HT_Trendline se vende (\"Venta\"). Se entiende que la tendencia baja.\n",
    "* El resto de los valores adquieren valor \"Mantener_posicion\". Se entiende que la tendencia se mantiene."
   ]
  },
  {
   "cell_type": "code",
   "execution_count": 42,
   "metadata": {
    "id": "JdzDXLB7eQl1"
   },
   "outputs": [],
   "source": [
    "# Se crea un back up\n",
    "BTC_df_HT_ET = BTC_df_HT_TRENDLINE.copy()"
   ]
  },
  {
   "cell_type": "code",
   "execution_count": 43,
   "metadata": {
    "id": "LMtazqe7eQl1",
    "outputId": "96737791-58e0-4234-d574-9b1e857f9b8d"
   },
   "outputs": [
    {
     "data": {
      "text/plain": [
       "Index(['Date', 'Price', 'Open', 'High', 'Low', 'Vol.', 'Percentage_diff',\n",
       "       'Target', 'HTTL'],\n",
       "      dtype='object')"
      ]
     },
     "execution_count": 43,
     "metadata": {},
     "output_type": "execute_result"
    }
   ],
   "source": [
    "BTC_df_HT_ET.columns"
   ]
  },
  {
   "cell_type": "code",
   "execution_count": 44,
   "metadata": {
    "id": "rvpYCmGMeQl1"
   },
   "outputs": [],
   "source": [
    "HT_Columnas = ['HTTL']"
   ]
  },
  {
   "cell_type": "code",
   "execution_count": 45,
   "metadata": {
    "id": "qv42uExHeQl2"
   },
   "outputs": [],
   "source": [
    "# Se calcula la estrategia de trading\n",
    "HT_ET_df = pd.DataFrame()\n",
    "HT_ET_df\n",
    "\n",
    "for col in HT_Columnas:\n",
    "    \n",
    "    HT_ET = []\n",
    "\n",
    "    x=0\n",
    "    while x < len (BTC_df_HT_ET [\"Price\"]): \n",
    "        \n",
    "        if x==0:\n",
    "            HT_ET.append (\"Mantener_posicion\")\n",
    "        \n",
    "        elif (BTC_df_HT_ET [\"Price\"] [x-1] < BTC_df_HT_ET [col] [x-1]) and (BTC_df_HT_ET [\"Price\"] [x] > BTC_df_HT_ET [col] [x]):\n",
    "            HT_ET.append (\"Comprar\")\n",
    "            \n",
    "        elif (BTC_df_HT_ET [\"Price\"] [x-1] > BTC_df_HT_ET [col] [x-1]) and (BTC_df_HT_ET [\"Price\"] [x] < BTC_df_HT_ET [col] [x]):\n",
    "            HT_ET.append (\"Vender\")\n",
    "            \n",
    "        else:\n",
    "            HT_ET.append (\"Mantener_posicion\")\n",
    "            \n",
    "        \n",
    "        x+=1\n",
    "    \n",
    "    HT_ET_df [col] = pd.Series(HT_ET)\n",
    "    \n",
    "    HT_ET.clear()"
   ]
  },
  {
   "cell_type": "code",
   "execution_count": 46,
   "metadata": {
    "id": "sXkv5uNxeQl2",
    "outputId": "83462964-9424-41ae-de2d-14743ee133c2"
   },
   "outputs": [
    {
     "data": {
      "text/html": [
       "<div>\n",
       "<style scoped>\n",
       "    .dataframe tbody tr th:only-of-type {\n",
       "        vertical-align: middle;\n",
       "    }\n",
       "\n",
       "    .dataframe tbody tr th {\n",
       "        vertical-align: top;\n",
       "    }\n",
       "\n",
       "    .dataframe thead th {\n",
       "        text-align: right;\n",
       "    }\n",
       "</style>\n",
       "<table border=\"1\" class=\"dataframe\">\n",
       "  <thead>\n",
       "    <tr style=\"text-align: right;\">\n",
       "      <th></th>\n",
       "      <th>HTTL</th>\n",
       "    </tr>\n",
       "  </thead>\n",
       "  <tbody>\n",
       "    <tr>\n",
       "      <th>4381</th>\n",
       "      <td>Mantener_posicion</td>\n",
       "    </tr>\n",
       "    <tr>\n",
       "      <th>4382</th>\n",
       "      <td>Mantener_posicion</td>\n",
       "    </tr>\n",
       "    <tr>\n",
       "      <th>4383</th>\n",
       "      <td>Mantener_posicion</td>\n",
       "    </tr>\n",
       "    <tr>\n",
       "      <th>4384</th>\n",
       "      <td>Mantener_posicion</td>\n",
       "    </tr>\n",
       "    <tr>\n",
       "      <th>4385</th>\n",
       "      <td>Mantener_posicion</td>\n",
       "    </tr>\n",
       "  </tbody>\n",
       "</table>\n",
       "</div>"
      ],
      "text/plain": [
       "                   HTTL\n",
       "4381  Mantener_posicion\n",
       "4382  Mantener_posicion\n",
       "4383  Mantener_posicion\n",
       "4384  Mantener_posicion\n",
       "4385  Mantener_posicion"
      ]
     },
     "execution_count": 46,
     "metadata": {},
     "output_type": "execute_result"
    }
   ],
   "source": [
    "HT_ET_df.tail()"
   ]
  },
  {
   "cell_type": "code",
   "execution_count": 47,
   "metadata": {
    "id": "zKM5PZXxeQl3"
   },
   "outputs": [],
   "source": [
    "# Se renombra la columna para posterior tratamiento\n",
    "HT_ET_df.rename(columns={\"HTTL\": \"HTTL_ET\"}, inplace=True)"
   ]
  },
  {
   "cell_type": "code",
   "execution_count": 48,
   "metadata": {
    "id": "-SKfzcKneQl3",
    "outputId": "7aed4031-475e-40aa-9eb5-626653fca5d6"
   },
   "outputs": [
    {
     "data": {
      "text/html": [
       "<div>\n",
       "<style scoped>\n",
       "    .dataframe tbody tr th:only-of-type {\n",
       "        vertical-align: middle;\n",
       "    }\n",
       "\n",
       "    .dataframe tbody tr th {\n",
       "        vertical-align: top;\n",
       "    }\n",
       "\n",
       "    .dataframe thead th {\n",
       "        text-align: right;\n",
       "    }\n",
       "</style>\n",
       "<table border=\"1\" class=\"dataframe\">\n",
       "  <thead>\n",
       "    <tr style=\"text-align: right;\">\n",
       "      <th></th>\n",
       "      <th>HTTL_ET</th>\n",
       "    </tr>\n",
       "  </thead>\n",
       "  <tbody>\n",
       "    <tr>\n",
       "      <th>4381</th>\n",
       "      <td>Mantener_posicion</td>\n",
       "    </tr>\n",
       "    <tr>\n",
       "      <th>4382</th>\n",
       "      <td>Mantener_posicion</td>\n",
       "    </tr>\n",
       "    <tr>\n",
       "      <th>4383</th>\n",
       "      <td>Mantener_posicion</td>\n",
       "    </tr>\n",
       "    <tr>\n",
       "      <th>4384</th>\n",
       "      <td>Mantener_posicion</td>\n",
       "    </tr>\n",
       "    <tr>\n",
       "      <th>4385</th>\n",
       "      <td>Mantener_posicion</td>\n",
       "    </tr>\n",
       "  </tbody>\n",
       "</table>\n",
       "</div>"
      ],
      "text/plain": [
       "                HTTL_ET\n",
       "4381  Mantener_posicion\n",
       "4382  Mantener_posicion\n",
       "4383  Mantener_posicion\n",
       "4384  Mantener_posicion\n",
       "4385  Mantener_posicion"
      ]
     },
     "execution_count": 48,
     "metadata": {},
     "output_type": "execute_result"
    }
   ],
   "source": [
    "HT_ET_df.tail()"
   ]
  },
  {
   "cell_type": "markdown",
   "metadata": {},
   "source": [
    "Se concatena las columnas de la estrategia de trading a la tabla de BTC_df_HT_ET (ya posee los valores del indicador)."
   ]
  },
  {
   "cell_type": "code",
   "execution_count": 49,
   "metadata": {
    "id": "gjRgxnE_eQl4"
   },
   "outputs": [],
   "source": [
    "BTC_HT_ET_df = pd.concat ([BTC_df_HT_ET, HT_ET_df], axis=1) "
   ]
  },
  {
   "cell_type": "code",
   "execution_count": 50,
   "metadata": {
    "id": "u3HGVP_BeQl4",
    "outputId": "bb2e609d-1edc-4893-d9c3-779636d41b91",
    "scrolled": true
   },
   "outputs": [
    {
     "data": {
      "text/html": [
       "<div>\n",
       "<style scoped>\n",
       "    .dataframe tbody tr th:only-of-type {\n",
       "        vertical-align: middle;\n",
       "    }\n",
       "\n",
       "    .dataframe tbody tr th {\n",
       "        vertical-align: top;\n",
       "    }\n",
       "\n",
       "    .dataframe thead th {\n",
       "        text-align: right;\n",
       "    }\n",
       "</style>\n",
       "<table border=\"1\" class=\"dataframe\">\n",
       "  <thead>\n",
       "    <tr style=\"text-align: right;\">\n",
       "      <th></th>\n",
       "      <th>Date</th>\n",
       "      <th>Price</th>\n",
       "      <th>Open</th>\n",
       "      <th>High</th>\n",
       "      <th>Low</th>\n",
       "      <th>Vol.</th>\n",
       "      <th>Percentage_diff</th>\n",
       "      <th>Target</th>\n",
       "      <th>HTTL</th>\n",
       "      <th>HTTL_ET</th>\n",
       "    </tr>\n",
       "  </thead>\n",
       "  <tbody>\n",
       "    <tr>\n",
       "      <th>4381</th>\n",
       "      <td>2022-07-16</td>\n",
       "      <td>21209.9</td>\n",
       "      <td>20825.2</td>\n",
       "      <td>21561.3</td>\n",
       "      <td>20484.4</td>\n",
       "      <td>136890.0</td>\n",
       "      <td>1.85</td>\n",
       "      <td>1.0</td>\n",
       "      <td>20423.078104</td>\n",
       "      <td>Mantener_posicion</td>\n",
       "    </tr>\n",
       "    <tr>\n",
       "      <th>4382</th>\n",
       "      <td>2022-07-17</td>\n",
       "      <td>20785.6</td>\n",
       "      <td>21209.8</td>\n",
       "      <td>21654.4</td>\n",
       "      <td>20755.2</td>\n",
       "      <td>132810.0</td>\n",
       "      <td>-2.00</td>\n",
       "      <td>0.0</td>\n",
       "      <td>20403.832160</td>\n",
       "      <td>Mantener_posicion</td>\n",
       "    </tr>\n",
       "    <tr>\n",
       "      <th>4383</th>\n",
       "      <td>2022-07-18</td>\n",
       "      <td>22525.8</td>\n",
       "      <td>20785.6</td>\n",
       "      <td>22714.9</td>\n",
       "      <td>20770.6</td>\n",
       "      <td>279720.0</td>\n",
       "      <td>8.37</td>\n",
       "      <td>1.0</td>\n",
       "      <td>20435.796762</td>\n",
       "      <td>Mantener_posicion</td>\n",
       "    </tr>\n",
       "    <tr>\n",
       "      <th>4384</th>\n",
       "      <td>2022-07-19</td>\n",
       "      <td>23410.2</td>\n",
       "      <td>22529.3</td>\n",
       "      <td>23757.3</td>\n",
       "      <td>21581.8</td>\n",
       "      <td>308910.0</td>\n",
       "      <td>3.93</td>\n",
       "      <td>1.0</td>\n",
       "      <td>20547.109474</td>\n",
       "      <td>Mantener_posicion</td>\n",
       "    </tr>\n",
       "    <tr>\n",
       "      <th>4385</th>\n",
       "      <td>2022-07-20</td>\n",
       "      <td>23149.1</td>\n",
       "      <td>23412.0</td>\n",
       "      <td>23429.9</td>\n",
       "      <td>22965.9</td>\n",
       "      <td>290210.0</td>\n",
       "      <td>-1.12</td>\n",
       "      <td>0.0</td>\n",
       "      <td>20712.814316</td>\n",
       "      <td>Mantener_posicion</td>\n",
       "    </tr>\n",
       "  </tbody>\n",
       "</table>\n",
       "</div>"
      ],
      "text/plain": [
       "            Date    Price     Open     High      Low      Vol.  \\\n",
       "4381  2022-07-16  21209.9  20825.2  21561.3  20484.4  136890.0   \n",
       "4382  2022-07-17  20785.6  21209.8  21654.4  20755.2  132810.0   \n",
       "4383  2022-07-18  22525.8  20785.6  22714.9  20770.6  279720.0   \n",
       "4384  2022-07-19  23410.2  22529.3  23757.3  21581.8  308910.0   \n",
       "4385  2022-07-20  23149.1  23412.0  23429.9  22965.9  290210.0   \n",
       "\n",
       "      Percentage_diff  Target          HTTL            HTTL_ET  \n",
       "4381             1.85     1.0  20423.078104  Mantener_posicion  \n",
       "4382            -2.00     0.0  20403.832160  Mantener_posicion  \n",
       "4383             8.37     1.0  20435.796762  Mantener_posicion  \n",
       "4384             3.93     1.0  20547.109474  Mantener_posicion  \n",
       "4385            -1.12     0.0  20712.814316  Mantener_posicion  "
      ]
     },
     "execution_count": 50,
     "metadata": {},
     "output_type": "execute_result"
    }
   ],
   "source": [
    "BTC_HT_ET_df.tail()"
   ]
  },
  {
   "cell_type": "markdown",
   "metadata": {
    "id": "oUwmfwU2eQl4"
   },
   "source": [
    "#### Bandas de Bollinger\n",
    "\n",
    "* Información (EN): https://www.investopedia.com/terms/b/bollingerbands.asp"
   ]
  },
  {
   "cell_type": "code",
   "execution_count": 51,
   "metadata": {
    "id": "hEiYGZVOeQl5"
   },
   "outputs": [],
   "source": [
    "# Se crea un back up\n",
    "BTC_df_BBANDS = BTC_df.copy()"
   ]
  },
  {
   "cell_type": "code",
   "execution_count": 52,
   "metadata": {
    "id": "xPQVkPwMeQl5"
   },
   "outputs": [],
   "source": [
    "# Se aplica ta.BBAND que da como resultado la linea más alta, la media y la más baja del indicador de las Bandas de Bollinger\n",
    "BTC_df_BBANDS [\"BBANDS_upper_band\"], BTC_df_BBANDS [\"BBANDS_middle_band\"], BTC_df_BBANDS [\"BBANDS_lower_band\"]  = ta.BBANDS (BTC_df_BBANDS [\"Price\"])"
   ]
  },
  {
   "cell_type": "code",
   "execution_count": 53,
   "metadata": {
    "id": "F0ztIDr-eQl5",
    "outputId": "bc8f0bd4-adbf-4011-80da-22d4c8240df8"
   },
   "outputs": [
    {
     "data": {
      "text/html": [
       "<div>\n",
       "<style scoped>\n",
       "    .dataframe tbody tr th:only-of-type {\n",
       "        vertical-align: middle;\n",
       "    }\n",
       "\n",
       "    .dataframe tbody tr th {\n",
       "        vertical-align: top;\n",
       "    }\n",
       "\n",
       "    .dataframe thead th {\n",
       "        text-align: right;\n",
       "    }\n",
       "</style>\n",
       "<table border=\"1\" class=\"dataframe\">\n",
       "  <thead>\n",
       "    <tr style=\"text-align: right;\">\n",
       "      <th></th>\n",
       "      <th>Date</th>\n",
       "      <th>Price</th>\n",
       "      <th>Open</th>\n",
       "      <th>High</th>\n",
       "      <th>Low</th>\n",
       "      <th>Vol.</th>\n",
       "      <th>Percentage_diff</th>\n",
       "      <th>Target</th>\n",
       "      <th>BBANDS_upper_band</th>\n",
       "      <th>BBANDS_middle_band</th>\n",
       "      <th>BBANDS_lower_band</th>\n",
       "    </tr>\n",
       "  </thead>\n",
       "  <tbody>\n",
       "    <tr>\n",
       "      <th>4381</th>\n",
       "      <td>2022-07-16</td>\n",
       "      <td>21209.9</td>\n",
       "      <td>20825.2</td>\n",
       "      <td>21561.3</td>\n",
       "      <td>20484.4</td>\n",
       "      <td>136890.0</td>\n",
       "      <td>1.85</td>\n",
       "      <td>1.0</td>\n",
       "      <td>21714.292433</td>\n",
       "      <td>20440.38</td>\n",
       "      <td>19166.467567</td>\n",
       "    </tr>\n",
       "    <tr>\n",
       "      <th>4382</th>\n",
       "      <td>2022-07-17</td>\n",
       "      <td>20785.6</td>\n",
       "      <td>21209.8</td>\n",
       "      <td>21654.4</td>\n",
       "      <td>20755.2</td>\n",
       "      <td>132810.0</td>\n",
       "      <td>-2.00</td>\n",
       "      <td>0.0</td>\n",
       "      <td>21359.693563</td>\n",
       "      <td>20731.32</td>\n",
       "      <td>20102.946437</td>\n",
       "    </tr>\n",
       "    <tr>\n",
       "      <th>4383</th>\n",
       "      <td>2022-07-18</td>\n",
       "      <td>22525.8</td>\n",
       "      <td>20785.6</td>\n",
       "      <td>22714.9</td>\n",
       "      <td>20770.6</td>\n",
       "      <td>279720.0</td>\n",
       "      <td>8.37</td>\n",
       "      <td>1.0</td>\n",
       "      <td>22585.394742</td>\n",
       "      <td>21186.48</td>\n",
       "      <td>19787.565258</td>\n",
       "    </tr>\n",
       "    <tr>\n",
       "      <th>4384</th>\n",
       "      <td>2022-07-19</td>\n",
       "      <td>23410.2</td>\n",
       "      <td>22529.3</td>\n",
       "      <td>23757.3</td>\n",
       "      <td>21581.8</td>\n",
       "      <td>308910.0</td>\n",
       "      <td>3.93</td>\n",
       "      <td>1.0</td>\n",
       "      <td>23836.570363</td>\n",
       "      <td>21751.32</td>\n",
       "      <td>19666.069637</td>\n",
       "    </tr>\n",
       "    <tr>\n",
       "      <th>4385</th>\n",
       "      <td>2022-07-20</td>\n",
       "      <td>23149.1</td>\n",
       "      <td>23412.0</td>\n",
       "      <td>23429.9</td>\n",
       "      <td>22965.9</td>\n",
       "      <td>290210.0</td>\n",
       "      <td>-1.12</td>\n",
       "      <td>0.0</td>\n",
       "      <td>24304.381782</td>\n",
       "      <td>22216.12</td>\n",
       "      <td>20127.858218</td>\n",
       "    </tr>\n",
       "  </tbody>\n",
       "</table>\n",
       "</div>"
      ],
      "text/plain": [
       "            Date    Price     Open     High      Low      Vol.  \\\n",
       "4381  2022-07-16  21209.9  20825.2  21561.3  20484.4  136890.0   \n",
       "4382  2022-07-17  20785.6  21209.8  21654.4  20755.2  132810.0   \n",
       "4383  2022-07-18  22525.8  20785.6  22714.9  20770.6  279720.0   \n",
       "4384  2022-07-19  23410.2  22529.3  23757.3  21581.8  308910.0   \n",
       "4385  2022-07-20  23149.1  23412.0  23429.9  22965.9  290210.0   \n",
       "\n",
       "      Percentage_diff  Target  BBANDS_upper_band  BBANDS_middle_band  \\\n",
       "4381             1.85     1.0       21714.292433            20440.38   \n",
       "4382            -2.00     0.0       21359.693563            20731.32   \n",
       "4383             8.37     1.0       22585.394742            21186.48   \n",
       "4384             3.93     1.0       23836.570363            21751.32   \n",
       "4385            -1.12     0.0       24304.381782            22216.12   \n",
       "\n",
       "      BBANDS_lower_band  \n",
       "4381       19166.467567  \n",
       "4382       20102.946437  \n",
       "4383       19787.565258  \n",
       "4384       19666.069637  \n",
       "4385       20127.858218  "
      ]
     },
     "execution_count": 53,
     "metadata": {},
     "output_type": "execute_result"
    }
   ],
   "source": [
    "BTC_df_BBANDS.tail()"
   ]
  },
  {
   "cell_type": "markdown",
   "metadata": {},
   "source": [
    "Observaciones:\n",
    "- Por si solo las Bandas de Bollinger no pueden ser consideradas para una estrategia de trading individual."
   ]
  },
  {
   "cell_type": "markdown",
   "metadata": {
    "id": "fDC2XyyOeQl6"
   },
   "source": [
    "#### Parabolic SAR\n",
    "\n",
    "* Información (EN): https://www.investopedia.com/trading/introduction-to-parabolic-sar/#:~:text=The%20parabolic%20SAR%20is%20a,1%EF%BB%BF"
   ]
  },
  {
   "cell_type": "code",
   "execution_count": 54,
   "metadata": {
    "id": "zIqP4D_XeQl6"
   },
   "outputs": [],
   "source": [
    "# Se crea un back up\n",
    "BTC_df_PSAR = BTC_df.copy ()"
   ]
  },
  {
   "cell_type": "code",
   "execution_count": 55,
   "metadata": {
    "id": "ciK-2dAReQl7"
   },
   "outputs": [],
   "source": [
    "# Se aplica ta.SAR (indicador)\n",
    "BTC_df_PSAR [\"PSAR\"] = ta.SAR (BTC_df_PSAR [\"High\"], BTC_df_PSAR [\"Low\"], acceleration=0.02, maximum=0.2)"
   ]
  },
  {
   "cell_type": "code",
   "execution_count": 56,
   "metadata": {
    "id": "hb4t0TTEeQl8",
    "outputId": "f7463bdb-5d57-492b-e740-f6396795ef6e"
   },
   "outputs": [
    {
     "data": {
      "text/html": [
       "<div>\n",
       "<style scoped>\n",
       "    .dataframe tbody tr th:only-of-type {\n",
       "        vertical-align: middle;\n",
       "    }\n",
       "\n",
       "    .dataframe tbody tr th {\n",
       "        vertical-align: top;\n",
       "    }\n",
       "\n",
       "    .dataframe thead th {\n",
       "        text-align: right;\n",
       "    }\n",
       "</style>\n",
       "<table border=\"1\" class=\"dataframe\">\n",
       "  <thead>\n",
       "    <tr style=\"text-align: right;\">\n",
       "      <th></th>\n",
       "      <th>Date</th>\n",
       "      <th>Price</th>\n",
       "      <th>Open</th>\n",
       "      <th>High</th>\n",
       "      <th>Low</th>\n",
       "      <th>Vol.</th>\n",
       "      <th>Percentage_diff</th>\n",
       "      <th>Target</th>\n",
       "      <th>PSAR</th>\n",
       "    </tr>\n",
       "  </thead>\n",
       "  <tbody>\n",
       "    <tr>\n",
       "      <th>4381</th>\n",
       "      <td>2022-07-16</td>\n",
       "      <td>21209.9</td>\n",
       "      <td>20825.2</td>\n",
       "      <td>21561.3</td>\n",
       "      <td>20484.4</td>\n",
       "      <td>136890.0</td>\n",
       "      <td>1.85</td>\n",
       "      <td>1.0</td>\n",
       "      <td>22017.409626</td>\n",
       "    </tr>\n",
       "    <tr>\n",
       "      <th>4382</th>\n",
       "      <td>2022-07-17</td>\n",
       "      <td>20785.6</td>\n",
       "      <td>21209.8</td>\n",
       "      <td>21654.4</td>\n",
       "      <td>20755.2</td>\n",
       "      <td>132810.0</td>\n",
       "      <td>-2.00</td>\n",
       "      <td>0.0</td>\n",
       "      <td>21894.401241</td>\n",
       "    </tr>\n",
       "    <tr>\n",
       "      <th>4383</th>\n",
       "      <td>2022-07-18</td>\n",
       "      <td>22525.8</td>\n",
       "      <td>20785.6</td>\n",
       "      <td>22714.9</td>\n",
       "      <td>20770.6</td>\n",
       "      <td>279720.0</td>\n",
       "      <td>8.37</td>\n",
       "      <td>1.0</td>\n",
       "      <td>18942.200000</td>\n",
       "    </tr>\n",
       "    <tr>\n",
       "      <th>4384</th>\n",
       "      <td>2022-07-19</td>\n",
       "      <td>23410.2</td>\n",
       "      <td>22529.3</td>\n",
       "      <td>23757.3</td>\n",
       "      <td>21581.8</td>\n",
       "      <td>308910.0</td>\n",
       "      <td>3.93</td>\n",
       "      <td>1.0</td>\n",
       "      <td>19017.654000</td>\n",
       "    </tr>\n",
       "    <tr>\n",
       "      <th>4385</th>\n",
       "      <td>2022-07-20</td>\n",
       "      <td>23149.1</td>\n",
       "      <td>23412.0</td>\n",
       "      <td>23429.9</td>\n",
       "      <td>22965.9</td>\n",
       "      <td>290210.0</td>\n",
       "      <td>-1.12</td>\n",
       "      <td>0.0</td>\n",
       "      <td>19207.239840</td>\n",
       "    </tr>\n",
       "  </tbody>\n",
       "</table>\n",
       "</div>"
      ],
      "text/plain": [
       "            Date    Price     Open     High      Low      Vol.  \\\n",
       "4381  2022-07-16  21209.9  20825.2  21561.3  20484.4  136890.0   \n",
       "4382  2022-07-17  20785.6  21209.8  21654.4  20755.2  132810.0   \n",
       "4383  2022-07-18  22525.8  20785.6  22714.9  20770.6  279720.0   \n",
       "4384  2022-07-19  23410.2  22529.3  23757.3  21581.8  308910.0   \n",
       "4385  2022-07-20  23149.1  23412.0  23429.9  22965.9  290210.0   \n",
       "\n",
       "      Percentage_diff  Target          PSAR  \n",
       "4381             1.85     1.0  22017.409626  \n",
       "4382            -2.00     0.0  21894.401241  \n",
       "4383             8.37     1.0  18942.200000  \n",
       "4384             3.93     1.0  19017.654000  \n",
       "4385            -1.12     0.0  19207.239840  "
      ]
     },
     "execution_count": 56,
     "metadata": {},
     "output_type": "execute_result"
    }
   ],
   "source": [
    "BTC_df_PSAR.tail()"
   ]
  },
  {
   "cell_type": "markdown",
   "metadata": {
    "id": "fxnxXH0keQl8"
   },
   "source": [
    "Estrategia de trading con PSAR\n",
    "\n",
    "* Cuando el valor de la columna \"Price\" supera a al PSAR se compra (\"Compra\"). Se entiende que la tendencia sube.\n",
    "* Cuando el valor de la columna \"Price\" cae por debajo del PSAR se vende (\"Venta\"). Se entiende que la tendencia baja.\n",
    "* El resto de los valores adquieren valor \"Mantener_posicion\". Se entiende que la tendencia se mantiene."
   ]
  },
  {
   "cell_type": "code",
   "execution_count": 57,
   "metadata": {
    "id": "W_Gi6fJUeQl9"
   },
   "outputs": [],
   "source": [
    "BTC_df_PSAR_ET = BTC_df_PSAR.copy()"
   ]
  },
  {
   "cell_type": "code",
   "execution_count": 58,
   "metadata": {
    "id": "AHnQc3rjeQl9",
    "outputId": "b9b7a619-bb4f-40df-ba7f-4c77f2c8ba42"
   },
   "outputs": [
    {
     "data": {
      "text/plain": [
       "Index(['Date', 'Price', 'Open', 'High', 'Low', 'Vol.', 'Percentage_diff',\n",
       "       'Target', 'PSAR'],\n",
       "      dtype='object')"
      ]
     },
     "execution_count": 58,
     "metadata": {},
     "output_type": "execute_result"
    }
   ],
   "source": [
    "BTC_df_PSAR_ET.columns"
   ]
  },
  {
   "cell_type": "code",
   "execution_count": 59,
   "metadata": {
    "id": "6Hkvcx5FeQl-"
   },
   "outputs": [],
   "source": [
    "PSAR_Columnas = ['PSAR'] "
   ]
  },
  {
   "cell_type": "code",
   "execution_count": 60,
   "metadata": {
    "id": "gkNmsD0veQl-"
   },
   "outputs": [],
   "source": [
    "# Se aplica la estrategia de trading\n",
    "PSAR_ET_df = pd.DataFrame()\n",
    "PSAR_ET_df\n",
    "\n",
    "for col in PSAR_Columnas:\n",
    "    \n",
    "    PSAR_ET = []\n",
    "\n",
    "    x=0\n",
    "    while x < len (BTC_df_PSAR_ET [\"Price\"]): \n",
    "        \n",
    "        if x==0:\n",
    "            PSAR_ET.append (\"Mantener_posicion\")\n",
    "        \n",
    "        elif (BTC_df_PSAR_ET [\"Price\"] [x-1] < BTC_df_PSAR_ET [col] [x-1]) and (BTC_df_PSAR_ET [\"Price\"] [x] > BTC_df_PSAR_ET [col] [x]):\n",
    "            PSAR_ET.append (\"Comprar\")\n",
    "            \n",
    "        elif (BTC_df_PSAR_ET [\"Price\"] [x-1] > BTC_df_PSAR_ET [col] [x-1]) and (BTC_df_PSAR_ET [\"Price\"] [x] < BTC_df_PSAR_ET [col] [x]):\n",
    "            PSAR_ET.append (\"Vender\")\n",
    "            \n",
    "        else:\n",
    "            PSAR_ET.append (\"Mantener_posicion\")\n",
    "            \n",
    "        \n",
    "        x+=1\n",
    "    \n",
    "    PSAR_ET_df [col] = pd.Series(PSAR_ET)\n",
    "    \n",
    "    PSAR_ET.clear()"
   ]
  },
  {
   "cell_type": "code",
   "execution_count": 61,
   "metadata": {
    "id": "NrfH8HnqeQl_",
    "outputId": "fe5d7c95-e2c5-40b0-bd11-76252f57d043"
   },
   "outputs": [
    {
     "data": {
      "text/html": [
       "<div>\n",
       "<style scoped>\n",
       "    .dataframe tbody tr th:only-of-type {\n",
       "        vertical-align: middle;\n",
       "    }\n",
       "\n",
       "    .dataframe tbody tr th {\n",
       "        vertical-align: top;\n",
       "    }\n",
       "\n",
       "    .dataframe thead th {\n",
       "        text-align: right;\n",
       "    }\n",
       "</style>\n",
       "<table border=\"1\" class=\"dataframe\">\n",
       "  <thead>\n",
       "    <tr style=\"text-align: right;\">\n",
       "      <th></th>\n",
       "      <th>PSAR</th>\n",
       "    </tr>\n",
       "  </thead>\n",
       "  <tbody>\n",
       "    <tr>\n",
       "      <th>4381</th>\n",
       "      <td>Mantener_posicion</td>\n",
       "    </tr>\n",
       "    <tr>\n",
       "      <th>4382</th>\n",
       "      <td>Mantener_posicion</td>\n",
       "    </tr>\n",
       "    <tr>\n",
       "      <th>4383</th>\n",
       "      <td>Comprar</td>\n",
       "    </tr>\n",
       "    <tr>\n",
       "      <th>4384</th>\n",
       "      <td>Mantener_posicion</td>\n",
       "    </tr>\n",
       "    <tr>\n",
       "      <th>4385</th>\n",
       "      <td>Mantener_posicion</td>\n",
       "    </tr>\n",
       "  </tbody>\n",
       "</table>\n",
       "</div>"
      ],
      "text/plain": [
       "                   PSAR\n",
       "4381  Mantener_posicion\n",
       "4382  Mantener_posicion\n",
       "4383            Comprar\n",
       "4384  Mantener_posicion\n",
       "4385  Mantener_posicion"
      ]
     },
     "execution_count": 61,
     "metadata": {},
     "output_type": "execute_result"
    }
   ],
   "source": [
    "PSAR_ET_df.tail()"
   ]
  },
  {
   "cell_type": "code",
   "execution_count": 62,
   "metadata": {
    "id": "C8fJyMLseQl_"
   },
   "outputs": [],
   "source": [
    "# Se renombra la columna por comodidad en su tratamiento posterior\n",
    "PSAR_ET_df.rename(columns={\"PSAR\": \"PSAR_ET\"}, inplace=True)"
   ]
  },
  {
   "cell_type": "code",
   "execution_count": 63,
   "metadata": {
    "id": "jwHvRJTZeQmA",
    "outputId": "4d34d4b6-0600-4eaa-9b58-dbb88c5ca7f9"
   },
   "outputs": [
    {
     "data": {
      "text/html": [
       "<div>\n",
       "<style scoped>\n",
       "    .dataframe tbody tr th:only-of-type {\n",
       "        vertical-align: middle;\n",
       "    }\n",
       "\n",
       "    .dataframe tbody tr th {\n",
       "        vertical-align: top;\n",
       "    }\n",
       "\n",
       "    .dataframe thead th {\n",
       "        text-align: right;\n",
       "    }\n",
       "</style>\n",
       "<table border=\"1\" class=\"dataframe\">\n",
       "  <thead>\n",
       "    <tr style=\"text-align: right;\">\n",
       "      <th></th>\n",
       "      <th>PSAR_ET</th>\n",
       "    </tr>\n",
       "  </thead>\n",
       "  <tbody>\n",
       "    <tr>\n",
       "      <th>4381</th>\n",
       "      <td>Mantener_posicion</td>\n",
       "    </tr>\n",
       "    <tr>\n",
       "      <th>4382</th>\n",
       "      <td>Mantener_posicion</td>\n",
       "    </tr>\n",
       "    <tr>\n",
       "      <th>4383</th>\n",
       "      <td>Comprar</td>\n",
       "    </tr>\n",
       "    <tr>\n",
       "      <th>4384</th>\n",
       "      <td>Mantener_posicion</td>\n",
       "    </tr>\n",
       "    <tr>\n",
       "      <th>4385</th>\n",
       "      <td>Mantener_posicion</td>\n",
       "    </tr>\n",
       "  </tbody>\n",
       "</table>\n",
       "</div>"
      ],
      "text/plain": [
       "                PSAR_ET\n",
       "4381  Mantener_posicion\n",
       "4382  Mantener_posicion\n",
       "4383            Comprar\n",
       "4384  Mantener_posicion\n",
       "4385  Mantener_posicion"
      ]
     },
     "execution_count": 63,
     "metadata": {},
     "output_type": "execute_result"
    }
   ],
   "source": [
    "PSAR_ET_df.tail()"
   ]
  },
  {
   "cell_type": "markdown",
   "metadata": {},
   "source": [
    "Se concatena las columnas de la estrategia de trading a la tabla de BTC_df_PSAR_ET (ya posee los valores del indicador)."
   ]
  },
  {
   "cell_type": "code",
   "execution_count": 64,
   "metadata": {
    "id": "w7pGNA_4eQmA"
   },
   "outputs": [],
   "source": [
    "BTC_PSAR_ET_df = pd.concat ([BTC_df_PSAR_ET, PSAR_ET_df], axis=1)"
   ]
  },
  {
   "cell_type": "code",
   "execution_count": 65,
   "metadata": {
    "id": "iTRGs7ZBeQmB",
    "outputId": "ab9937b8-9e56-4d3d-d99a-961b146ffbae"
   },
   "outputs": [
    {
     "data": {
      "text/html": [
       "<div>\n",
       "<style scoped>\n",
       "    .dataframe tbody tr th:only-of-type {\n",
       "        vertical-align: middle;\n",
       "    }\n",
       "\n",
       "    .dataframe tbody tr th {\n",
       "        vertical-align: top;\n",
       "    }\n",
       "\n",
       "    .dataframe thead th {\n",
       "        text-align: right;\n",
       "    }\n",
       "</style>\n",
       "<table border=\"1\" class=\"dataframe\">\n",
       "  <thead>\n",
       "    <tr style=\"text-align: right;\">\n",
       "      <th></th>\n",
       "      <th>Date</th>\n",
       "      <th>Price</th>\n",
       "      <th>Open</th>\n",
       "      <th>High</th>\n",
       "      <th>Low</th>\n",
       "      <th>Vol.</th>\n",
       "      <th>Percentage_diff</th>\n",
       "      <th>Target</th>\n",
       "      <th>PSAR</th>\n",
       "      <th>PSAR_ET</th>\n",
       "    </tr>\n",
       "  </thead>\n",
       "  <tbody>\n",
       "    <tr>\n",
       "      <th>4381</th>\n",
       "      <td>2022-07-16</td>\n",
       "      <td>21209.9</td>\n",
       "      <td>20825.2</td>\n",
       "      <td>21561.3</td>\n",
       "      <td>20484.4</td>\n",
       "      <td>136890.0</td>\n",
       "      <td>1.85</td>\n",
       "      <td>1.0</td>\n",
       "      <td>22017.409626</td>\n",
       "      <td>Mantener_posicion</td>\n",
       "    </tr>\n",
       "    <tr>\n",
       "      <th>4382</th>\n",
       "      <td>2022-07-17</td>\n",
       "      <td>20785.6</td>\n",
       "      <td>21209.8</td>\n",
       "      <td>21654.4</td>\n",
       "      <td>20755.2</td>\n",
       "      <td>132810.0</td>\n",
       "      <td>-2.00</td>\n",
       "      <td>0.0</td>\n",
       "      <td>21894.401241</td>\n",
       "      <td>Mantener_posicion</td>\n",
       "    </tr>\n",
       "    <tr>\n",
       "      <th>4383</th>\n",
       "      <td>2022-07-18</td>\n",
       "      <td>22525.8</td>\n",
       "      <td>20785.6</td>\n",
       "      <td>22714.9</td>\n",
       "      <td>20770.6</td>\n",
       "      <td>279720.0</td>\n",
       "      <td>8.37</td>\n",
       "      <td>1.0</td>\n",
       "      <td>18942.200000</td>\n",
       "      <td>Comprar</td>\n",
       "    </tr>\n",
       "    <tr>\n",
       "      <th>4384</th>\n",
       "      <td>2022-07-19</td>\n",
       "      <td>23410.2</td>\n",
       "      <td>22529.3</td>\n",
       "      <td>23757.3</td>\n",
       "      <td>21581.8</td>\n",
       "      <td>308910.0</td>\n",
       "      <td>3.93</td>\n",
       "      <td>1.0</td>\n",
       "      <td>19017.654000</td>\n",
       "      <td>Mantener_posicion</td>\n",
       "    </tr>\n",
       "    <tr>\n",
       "      <th>4385</th>\n",
       "      <td>2022-07-20</td>\n",
       "      <td>23149.1</td>\n",
       "      <td>23412.0</td>\n",
       "      <td>23429.9</td>\n",
       "      <td>22965.9</td>\n",
       "      <td>290210.0</td>\n",
       "      <td>-1.12</td>\n",
       "      <td>0.0</td>\n",
       "      <td>19207.239840</td>\n",
       "      <td>Mantener_posicion</td>\n",
       "    </tr>\n",
       "  </tbody>\n",
       "</table>\n",
       "</div>"
      ],
      "text/plain": [
       "            Date    Price     Open     High      Low      Vol.  \\\n",
       "4381  2022-07-16  21209.9  20825.2  21561.3  20484.4  136890.0   \n",
       "4382  2022-07-17  20785.6  21209.8  21654.4  20755.2  132810.0   \n",
       "4383  2022-07-18  22525.8  20785.6  22714.9  20770.6  279720.0   \n",
       "4384  2022-07-19  23410.2  22529.3  23757.3  21581.8  308910.0   \n",
       "4385  2022-07-20  23149.1  23412.0  23429.9  22965.9  290210.0   \n",
       "\n",
       "      Percentage_diff  Target          PSAR            PSAR_ET  \n",
       "4381             1.85     1.0  22017.409626  Mantener_posicion  \n",
       "4382            -2.00     0.0  21894.401241  Mantener_posicion  \n",
       "4383             8.37     1.0  18942.200000            Comprar  \n",
       "4384             3.93     1.0  19017.654000  Mantener_posicion  \n",
       "4385            -1.12     0.0  19207.239840  Mantener_posicion  "
      ]
     },
     "execution_count": 65,
     "metadata": {},
     "output_type": "execute_result"
    }
   ],
   "source": [
    "BTC_PSAR_ET_df.tail()"
   ]
  },
  {
   "cell_type": "markdown",
   "metadata": {
    "id": "XsMBNbH7eQmB"
   },
   "source": [
    "#### Uniendo los dataframe de indicadores de tendencia a fin de tener una sola base de datos => BTC_ind_trend"
   ]
  },
  {
   "cell_type": "markdown",
   "metadata": {
    "id": "XKsK1veHeQmC"
   },
   "source": [
    "Data set sin estrategias de trading"
   ]
  },
  {
   "cell_type": "code",
   "execution_count": 66,
   "metadata": {
    "id": "gfKkIEXJeQmC",
    "outputId": "0baad308-7565-4c2e-9edd-3d7a3644523a"
   },
   "outputs": [
    {
     "data": {
      "text/plain": [
       "Index(['Date', 'Price', 'Open', 'High', 'Low', 'Vol.', 'Percentage_diff',\n",
       "       'Target', 'SMA_7d', 'SMA_15d', 'SMA_30d', 'SMA_50d', 'SMA_100d',\n",
       "       'SMA_200d'],\n",
       "      dtype='object')"
      ]
     },
     "execution_count": 66,
     "metadata": {},
     "output_type": "execute_result"
    }
   ],
   "source": [
    "BTC_df_SMA.columns"
   ]
  },
  {
   "cell_type": "code",
   "execution_count": 67,
   "metadata": {
    "id": "JIska7SIeQmC",
    "outputId": "332cf44c-cd18-420c-c6eb-4631ed2c1897"
   },
   "outputs": [
    {
     "data": {
      "text/plain": [
       "Index(['Date', 'Price', 'Open', 'High', 'Low', 'Vol.', 'Percentage_diff',\n",
       "       'Target', 'EMA_7d', 'EMA_15d', 'EMA_30d', 'EMA_50d', 'EMA_100d',\n",
       "       'EMA_200d'],\n",
       "      dtype='object')"
      ]
     },
     "execution_count": 67,
     "metadata": {},
     "output_type": "execute_result"
    }
   ],
   "source": [
    "BTC_df_EMA.columns"
   ]
  },
  {
   "cell_type": "code",
   "execution_count": 68,
   "metadata": {
    "id": "qF_v6UyWeQmD",
    "outputId": "773ea904-5588-43a3-f883-e2739a9bdd55"
   },
   "outputs": [
    {
     "data": {
      "text/plain": [
       "Index(['Date', 'Price', 'Open', 'High', 'Low', 'Vol.', 'Percentage_diff',\n",
       "       'Target', 'HTTL'],\n",
       "      dtype='object')"
      ]
     },
     "execution_count": 68,
     "metadata": {},
     "output_type": "execute_result"
    }
   ],
   "source": [
    "BTC_df_HT_TRENDLINE.columns"
   ]
  },
  {
   "cell_type": "code",
   "execution_count": 69,
   "metadata": {
    "id": "vTl3BLJdeQmD",
    "outputId": "b01acbc9-e96c-47a4-e03f-93912a107667"
   },
   "outputs": [
    {
     "data": {
      "text/plain": [
       "Index(['Date', 'Price', 'Open', 'High', 'Low', 'Vol.', 'Percentage_diff',\n",
       "       'Target', 'BBANDS_upper_band', 'BBANDS_middle_band',\n",
       "       'BBANDS_lower_band'],\n",
       "      dtype='object')"
      ]
     },
     "execution_count": 69,
     "metadata": {},
     "output_type": "execute_result"
    }
   ],
   "source": [
    "BTC_df_BBANDS.columns"
   ]
  },
  {
   "cell_type": "code",
   "execution_count": 70,
   "metadata": {
    "id": "IqKCzM5CeQmE",
    "outputId": "d66a86c4-efb4-40cf-972d-ec0d3c39ee21"
   },
   "outputs": [
    {
     "data": {
      "text/plain": [
       "Index(['Date', 'Price', 'Open', 'High', 'Low', 'Vol.', 'Percentage_diff',\n",
       "       'Target', 'PSAR'],\n",
       "      dtype='object')"
      ]
     },
     "execution_count": 70,
     "metadata": {},
     "output_type": "execute_result"
    }
   ],
   "source": [
    "BTC_df_PSAR.columns"
   ]
  },
  {
   "cell_type": "code",
   "execution_count": 71,
   "metadata": {
    "id": "U7KH9vjgeQmE"
   },
   "outputs": [],
   "source": [
    "BTC_ind_trend = pd.DataFrame ({'Date':BTC_df_SMA [\"Date\"], 'Price':BTC_df_SMA [\"Price\"], \n",
    "                              'Open': BTC_df_SMA [\"Open\"], 'High': BTC_df_SMA [\"High\"], 'Low': BTC_df_SMA [\"Low\"], \n",
    "                              'Vol.': BTC_df_SMA [\"Vol.\"], 'Percentage_diff': BTC_df_SMA [\"Percentage_diff\"],'Target': BTC_df_SMA [\"Target\"], \n",
    "                              'SMA_7d': BTC_df_SMA [\"SMA_7d\"], 'SMA_15d': BTC_df_SMA [\"SMA_15d\"], \n",
    "                              'SMA_30d': BTC_df_SMA [\"SMA_30d\"], 'SMA_50d': BTC_df_SMA [\"SMA_50d\"], \n",
    "                              'SMA_100d': BTC_df_SMA [\"SMA_100d\"],'SMA_200d':BTC_df_SMA [\"SMA_200d\"],\n",
    "                              'EMA_7d': BTC_df_EMA [\"EMA_7d\"], 'EMA_15d':BTC_df_EMA [\"EMA_15d\"],\n",
    "                              'EMA_30d': BTC_df_EMA [\"EMA_30d\"], 'EMA_50d': BTC_df_EMA [\"EMA_50d\"], \n",
    "                              'EMA_100d': BTC_df_EMA [\"EMA_100d\"],'EMA_200d': BTC_df_EMA [\"EMA_200d\"],\n",
    "                              'HT_TRENDLINE': BTC_df_HT_TRENDLINE [\"HTTL\"],\n",
    "                              \"BBANDS_upper_band\": BTC_df_BBANDS [\"BBANDS_upper_band\"],\n",
    "                              \"BBANDS_middle_band\": BTC_df_BBANDS [\"BBANDS_middle_band\"],\n",
    "                              \"BBANDS_lower_band\": BTC_df_BBANDS [\"BBANDS_lower_band\"],\n",
    "                              'PSAR': BTC_df_PSAR ['PSAR']})"
   ]
  },
  {
   "cell_type": "code",
   "execution_count": 72,
   "metadata": {
    "id": "jVwxHtkLeQmE",
    "outputId": "75600a1a-8be5-46da-a503-40e2f3ba0251"
   },
   "outputs": [
    {
     "data": {
      "text/html": [
       "<div>\n",
       "<style scoped>\n",
       "    .dataframe tbody tr th:only-of-type {\n",
       "        vertical-align: middle;\n",
       "    }\n",
       "\n",
       "    .dataframe tbody tr th {\n",
       "        vertical-align: top;\n",
       "    }\n",
       "\n",
       "    .dataframe thead th {\n",
       "        text-align: right;\n",
       "    }\n",
       "</style>\n",
       "<table border=\"1\" class=\"dataframe\">\n",
       "  <thead>\n",
       "    <tr style=\"text-align: right;\">\n",
       "      <th></th>\n",
       "      <th>Date</th>\n",
       "      <th>Price</th>\n",
       "      <th>Open</th>\n",
       "      <th>High</th>\n",
       "      <th>Low</th>\n",
       "      <th>Vol.</th>\n",
       "      <th>Percentage_diff</th>\n",
       "      <th>Target</th>\n",
       "      <th>SMA_7d</th>\n",
       "      <th>SMA_15d</th>\n",
       "      <th>SMA_30d</th>\n",
       "      <th>SMA_50d</th>\n",
       "      <th>SMA_100d</th>\n",
       "      <th>SMA_200d</th>\n",
       "      <th>EMA_7d</th>\n",
       "      <th>EMA_15d</th>\n",
       "      <th>EMA_30d</th>\n",
       "      <th>EMA_50d</th>\n",
       "      <th>EMA_100d</th>\n",
       "      <th>EMA_200d</th>\n",
       "      <th>HT_TRENDLINE</th>\n",
       "      <th>BBANDS_upper_band</th>\n",
       "      <th>BBANDS_middle_band</th>\n",
       "      <th>BBANDS_lower_band</th>\n",
       "      <th>PSAR</th>\n",
       "    </tr>\n",
       "  </thead>\n",
       "  <tbody>\n",
       "    <tr>\n",
       "      <th>0</th>\n",
       "      <td>2010-07-18</td>\n",
       "      <td>0.1</td>\n",
       "      <td>0.0</td>\n",
       "      <td>0.1</td>\n",
       "      <td>0.1</td>\n",
       "      <td>80.0</td>\n",
       "      <td>0.0</td>\n",
       "      <td>0.0</td>\n",
       "      <td>NaN</td>\n",
       "      <td>NaN</td>\n",
       "      <td>NaN</td>\n",
       "      <td>NaN</td>\n",
       "      <td>NaN</td>\n",
       "      <td>NaN</td>\n",
       "      <td>NaN</td>\n",
       "      <td>NaN</td>\n",
       "      <td>NaN</td>\n",
       "      <td>NaN</td>\n",
       "      <td>NaN</td>\n",
       "      <td>NaN</td>\n",
       "      <td>NaN</td>\n",
       "      <td>NaN</td>\n",
       "      <td>NaN</td>\n",
       "      <td>NaN</td>\n",
       "      <td>NaN</td>\n",
       "    </tr>\n",
       "    <tr>\n",
       "      <th>1</th>\n",
       "      <td>2010-07-19</td>\n",
       "      <td>0.1</td>\n",
       "      <td>0.1</td>\n",
       "      <td>0.1</td>\n",
       "      <td>0.1</td>\n",
       "      <td>570.0</td>\n",
       "      <td>0.0</td>\n",
       "      <td>0.0</td>\n",
       "      <td>NaN</td>\n",
       "      <td>NaN</td>\n",
       "      <td>NaN</td>\n",
       "      <td>NaN</td>\n",
       "      <td>NaN</td>\n",
       "      <td>NaN</td>\n",
       "      <td>NaN</td>\n",
       "      <td>NaN</td>\n",
       "      <td>NaN</td>\n",
       "      <td>NaN</td>\n",
       "      <td>NaN</td>\n",
       "      <td>NaN</td>\n",
       "      <td>NaN</td>\n",
       "      <td>NaN</td>\n",
       "      <td>NaN</td>\n",
       "      <td>NaN</td>\n",
       "      <td>0.1</td>\n",
       "    </tr>\n",
       "    <tr>\n",
       "      <th>2</th>\n",
       "      <td>2010-07-20</td>\n",
       "      <td>0.1</td>\n",
       "      <td>0.1</td>\n",
       "      <td>0.1</td>\n",
       "      <td>0.1</td>\n",
       "      <td>260.0</td>\n",
       "      <td>0.0</td>\n",
       "      <td>0.0</td>\n",
       "      <td>NaN</td>\n",
       "      <td>NaN</td>\n",
       "      <td>NaN</td>\n",
       "      <td>NaN</td>\n",
       "      <td>NaN</td>\n",
       "      <td>NaN</td>\n",
       "      <td>NaN</td>\n",
       "      <td>NaN</td>\n",
       "      <td>NaN</td>\n",
       "      <td>NaN</td>\n",
       "      <td>NaN</td>\n",
       "      <td>NaN</td>\n",
       "      <td>NaN</td>\n",
       "      <td>NaN</td>\n",
       "      <td>NaN</td>\n",
       "      <td>NaN</td>\n",
       "      <td>0.1</td>\n",
       "    </tr>\n",
       "    <tr>\n",
       "      <th>3</th>\n",
       "      <td>2010-07-21</td>\n",
       "      <td>0.1</td>\n",
       "      <td>0.1</td>\n",
       "      <td>0.1</td>\n",
       "      <td>0.1</td>\n",
       "      <td>580.0</td>\n",
       "      <td>0.0</td>\n",
       "      <td>0.0</td>\n",
       "      <td>NaN</td>\n",
       "      <td>NaN</td>\n",
       "      <td>NaN</td>\n",
       "      <td>NaN</td>\n",
       "      <td>NaN</td>\n",
       "      <td>NaN</td>\n",
       "      <td>NaN</td>\n",
       "      <td>NaN</td>\n",
       "      <td>NaN</td>\n",
       "      <td>NaN</td>\n",
       "      <td>NaN</td>\n",
       "      <td>NaN</td>\n",
       "      <td>NaN</td>\n",
       "      <td>NaN</td>\n",
       "      <td>NaN</td>\n",
       "      <td>NaN</td>\n",
       "      <td>0.1</td>\n",
       "    </tr>\n",
       "    <tr>\n",
       "      <th>4</th>\n",
       "      <td>2010-07-22</td>\n",
       "      <td>0.1</td>\n",
       "      <td>0.1</td>\n",
       "      <td>0.1</td>\n",
       "      <td>0.1</td>\n",
       "      <td>2160.0</td>\n",
       "      <td>0.0</td>\n",
       "      <td>0.0</td>\n",
       "      <td>NaN</td>\n",
       "      <td>NaN</td>\n",
       "      <td>NaN</td>\n",
       "      <td>NaN</td>\n",
       "      <td>NaN</td>\n",
       "      <td>NaN</td>\n",
       "      <td>NaN</td>\n",
       "      <td>NaN</td>\n",
       "      <td>NaN</td>\n",
       "      <td>NaN</td>\n",
       "      <td>NaN</td>\n",
       "      <td>NaN</td>\n",
       "      <td>NaN</td>\n",
       "      <td>0.1</td>\n",
       "      <td>0.1</td>\n",
       "      <td>0.1</td>\n",
       "      <td>0.1</td>\n",
       "    </tr>\n",
       "  </tbody>\n",
       "</table>\n",
       "</div>"
      ],
      "text/plain": [
       "         Date  Price  Open  High  Low    Vol.  Percentage_diff  Target  \\\n",
       "0  2010-07-18    0.1   0.0   0.1  0.1    80.0              0.0     0.0   \n",
       "1  2010-07-19    0.1   0.1   0.1  0.1   570.0              0.0     0.0   \n",
       "2  2010-07-20    0.1   0.1   0.1  0.1   260.0              0.0     0.0   \n",
       "3  2010-07-21    0.1   0.1   0.1  0.1   580.0              0.0     0.0   \n",
       "4  2010-07-22    0.1   0.1   0.1  0.1  2160.0              0.0     0.0   \n",
       "\n",
       "   SMA_7d  SMA_15d  SMA_30d  SMA_50d  SMA_100d  SMA_200d  EMA_7d  EMA_15d  \\\n",
       "0     NaN      NaN      NaN      NaN       NaN       NaN     NaN      NaN   \n",
       "1     NaN      NaN      NaN      NaN       NaN       NaN     NaN      NaN   \n",
       "2     NaN      NaN      NaN      NaN       NaN       NaN     NaN      NaN   \n",
       "3     NaN      NaN      NaN      NaN       NaN       NaN     NaN      NaN   \n",
       "4     NaN      NaN      NaN      NaN       NaN       NaN     NaN      NaN   \n",
       "\n",
       "   EMA_30d  EMA_50d  EMA_100d  EMA_200d  HT_TRENDLINE  BBANDS_upper_band  \\\n",
       "0      NaN      NaN       NaN       NaN           NaN                NaN   \n",
       "1      NaN      NaN       NaN       NaN           NaN                NaN   \n",
       "2      NaN      NaN       NaN       NaN           NaN                NaN   \n",
       "3      NaN      NaN       NaN       NaN           NaN                NaN   \n",
       "4      NaN      NaN       NaN       NaN           NaN                0.1   \n",
       "\n",
       "   BBANDS_middle_band  BBANDS_lower_band  PSAR  \n",
       "0                 NaN                NaN   NaN  \n",
       "1                 NaN                NaN   0.1  \n",
       "2                 NaN                NaN   0.1  \n",
       "3                 NaN                NaN   0.1  \n",
       "4                 0.1                0.1   0.1  "
      ]
     },
     "execution_count": 72,
     "metadata": {},
     "output_type": "execute_result"
    }
   ],
   "source": [
    "BTC_ind_trend.head()"
   ]
  },
  {
   "cell_type": "markdown",
   "metadata": {},
   "source": [
    "Observaciones:\n",
    "- Los valores NaN se debe a que los indicadores de tendencia necesitan valores primeros para poder calcular el resto de los valores."
   ]
  },
  {
   "cell_type": "code",
   "execution_count": 73,
   "metadata": {
    "id": "gpHSYWx6eQmF",
    "outputId": "e77a2114-f11c-49cf-b3a6-37c689bb2e82",
    "scrolled": true
   },
   "outputs": [
    {
     "data": {
      "text/html": [
       "<div>\n",
       "<style scoped>\n",
       "    .dataframe tbody tr th:only-of-type {\n",
       "        vertical-align: middle;\n",
       "    }\n",
       "\n",
       "    .dataframe tbody tr th {\n",
       "        vertical-align: top;\n",
       "    }\n",
       "\n",
       "    .dataframe thead th {\n",
       "        text-align: right;\n",
       "    }\n",
       "</style>\n",
       "<table border=\"1\" class=\"dataframe\">\n",
       "  <thead>\n",
       "    <tr style=\"text-align: right;\">\n",
       "      <th></th>\n",
       "      <th>Date</th>\n",
       "      <th>Price</th>\n",
       "      <th>Open</th>\n",
       "      <th>High</th>\n",
       "      <th>Low</th>\n",
       "      <th>Vol.</th>\n",
       "      <th>Percentage_diff</th>\n",
       "      <th>Target</th>\n",
       "      <th>SMA_7d</th>\n",
       "      <th>SMA_15d</th>\n",
       "      <th>SMA_30d</th>\n",
       "      <th>SMA_50d</th>\n",
       "      <th>SMA_100d</th>\n",
       "      <th>SMA_200d</th>\n",
       "      <th>EMA_7d</th>\n",
       "      <th>EMA_15d</th>\n",
       "      <th>EMA_30d</th>\n",
       "      <th>EMA_50d</th>\n",
       "      <th>EMA_100d</th>\n",
       "      <th>EMA_200d</th>\n",
       "      <th>HT_TRENDLINE</th>\n",
       "      <th>BBANDS_upper_band</th>\n",
       "      <th>BBANDS_middle_band</th>\n",
       "      <th>BBANDS_lower_band</th>\n",
       "      <th>PSAR</th>\n",
       "    </tr>\n",
       "  </thead>\n",
       "  <tbody>\n",
       "    <tr>\n",
       "      <th>4381</th>\n",
       "      <td>2022-07-16</td>\n",
       "      <td>21209.9</td>\n",
       "      <td>20825.2</td>\n",
       "      <td>21561.3</td>\n",
       "      <td>20484.4</td>\n",
       "      <td>136890.0</td>\n",
       "      <td>1.85</td>\n",
       "      <td>1.0</td>\n",
       "      <td>20430.357143</td>\n",
       "      <td>20491.973333</td>\n",
       "      <td>20460.546667</td>\n",
       "      <td>23600.324</td>\n",
       "      <td>29655.396</td>\n",
       "      <td>35689.4685</td>\n",
       "      <td>20679.126620</td>\n",
       "      <td>20677.015769</td>\n",
       "      <td>21599.199372</td>\n",
       "      <td>23575.445072</td>\n",
       "      <td>28195.025858</td>\n",
       "      <td>33931.069335</td>\n",
       "      <td>20423.078104</td>\n",
       "      <td>21714.292433</td>\n",
       "      <td>20440.38</td>\n",
       "      <td>19166.467567</td>\n",
       "      <td>22017.409626</td>\n",
       "    </tr>\n",
       "    <tr>\n",
       "      <th>4382</th>\n",
       "      <td>2022-07-17</td>\n",
       "      <td>20785.6</td>\n",
       "      <td>21209.8</td>\n",
       "      <td>21654.4</td>\n",
       "      <td>20755.2</td>\n",
       "      <td>132810.0</td>\n",
       "      <td>-2.00</td>\n",
       "      <td>0.0</td>\n",
       "      <td>20421.528571</td>\n",
       "      <td>20594.800000</td>\n",
       "      <td>20471.913333</td>\n",
       "      <td>23435.494</td>\n",
       "      <td>29440.502</td>\n",
       "      <td>35561.0880</td>\n",
       "      <td>20705.744965</td>\n",
       "      <td>20690.588798</td>\n",
       "      <td>21546.709090</td>\n",
       "      <td>23466.039383</td>\n",
       "      <td>28048.304554</td>\n",
       "      <td>33800.268645</td>\n",
       "      <td>20403.832160</td>\n",
       "      <td>21359.693563</td>\n",
       "      <td>20731.32</td>\n",
       "      <td>20102.946437</td>\n",
       "      <td>21894.401241</td>\n",
       "    </tr>\n",
       "    <tr>\n",
       "      <th>4383</th>\n",
       "      <td>2022-07-18</td>\n",
       "      <td>22525.8</td>\n",
       "      <td>20785.6</td>\n",
       "      <td>22714.9</td>\n",
       "      <td>20770.6</td>\n",
       "      <td>279720.0</td>\n",
       "      <td>8.37</td>\n",
       "      <td>1.0</td>\n",
       "      <td>20787.614286</td>\n",
       "      <td>20809.193333</td>\n",
       "      <td>20589.890000</td>\n",
       "      <td>23296.706</td>\n",
       "      <td>29238.090</td>\n",
       "      <td>35438.1005</td>\n",
       "      <td>21160.758724</td>\n",
       "      <td>20919.990198</td>\n",
       "      <td>21609.876245</td>\n",
       "      <td>23429.167250</td>\n",
       "      <td>27938.948029</td>\n",
       "      <td>33688.084877</td>\n",
       "      <td>20435.796762</td>\n",
       "      <td>22585.394742</td>\n",
       "      <td>21186.48</td>\n",
       "      <td>19787.565258</td>\n",
       "      <td>18942.200000</td>\n",
       "    </tr>\n",
       "    <tr>\n",
       "      <th>4384</th>\n",
       "      <td>2022-07-19</td>\n",
       "      <td>23410.2</td>\n",
       "      <td>22529.3</td>\n",
       "      <td>23757.3</td>\n",
       "      <td>21581.8</td>\n",
       "      <td>308910.0</td>\n",
       "      <td>3.93</td>\n",
       "      <td>1.0</td>\n",
       "      <td>21370.371429</td>\n",
       "      <td>21022.153333</td>\n",
       "      <td>20684.323333</td>\n",
       "      <td>23130.444</td>\n",
       "      <td>29050.812</td>\n",
       "      <td>35324.0540</td>\n",
       "      <td>21723.119043</td>\n",
       "      <td>21231.266424</td>\n",
       "      <td>21726.026165</td>\n",
       "      <td>23428.423436</td>\n",
       "      <td>27849.269850</td>\n",
       "      <td>33585.817366</td>\n",
       "      <td>20547.109474</td>\n",
       "      <td>23836.570363</td>\n",
       "      <td>21751.32</td>\n",
       "      <td>19666.069637</td>\n",
       "      <td>19017.654000</td>\n",
       "    </tr>\n",
       "    <tr>\n",
       "      <th>4385</th>\n",
       "      <td>2022-07-20</td>\n",
       "      <td>23149.1</td>\n",
       "      <td>23412.0</td>\n",
       "      <td>23429.9</td>\n",
       "      <td>22965.9</td>\n",
       "      <td>290210.0</td>\n",
       "      <td>-1.12</td>\n",
       "      <td>0.0</td>\n",
       "      <td>21784.528571</td>\n",
       "      <td>21218.720000</td>\n",
       "      <td>20770.216667</td>\n",
       "      <td>22957.558</td>\n",
       "      <td>28887.333</td>\n",
       "      <td>35201.1095</td>\n",
       "      <td>22079.614282</td>\n",
       "      <td>21470.995621</td>\n",
       "      <td>21817.837380</td>\n",
       "      <td>23417.469576</td>\n",
       "      <td>27756.197179</td>\n",
       "      <td>33481.969432</td>\n",
       "      <td>20712.814316</td>\n",
       "      <td>24304.381782</td>\n",
       "      <td>22216.12</td>\n",
       "      <td>20127.858218</td>\n",
       "      <td>19207.239840</td>\n",
       "    </tr>\n",
       "  </tbody>\n",
       "</table>\n",
       "</div>"
      ],
      "text/plain": [
       "            Date    Price     Open     High      Low      Vol.  \\\n",
       "4381  2022-07-16  21209.9  20825.2  21561.3  20484.4  136890.0   \n",
       "4382  2022-07-17  20785.6  21209.8  21654.4  20755.2  132810.0   \n",
       "4383  2022-07-18  22525.8  20785.6  22714.9  20770.6  279720.0   \n",
       "4384  2022-07-19  23410.2  22529.3  23757.3  21581.8  308910.0   \n",
       "4385  2022-07-20  23149.1  23412.0  23429.9  22965.9  290210.0   \n",
       "\n",
       "      Percentage_diff  Target        SMA_7d       SMA_15d       SMA_30d  \\\n",
       "4381             1.85     1.0  20430.357143  20491.973333  20460.546667   \n",
       "4382            -2.00     0.0  20421.528571  20594.800000  20471.913333   \n",
       "4383             8.37     1.0  20787.614286  20809.193333  20589.890000   \n",
       "4384             3.93     1.0  21370.371429  21022.153333  20684.323333   \n",
       "4385            -1.12     0.0  21784.528571  21218.720000  20770.216667   \n",
       "\n",
       "        SMA_50d   SMA_100d    SMA_200d        EMA_7d       EMA_15d  \\\n",
       "4381  23600.324  29655.396  35689.4685  20679.126620  20677.015769   \n",
       "4382  23435.494  29440.502  35561.0880  20705.744965  20690.588798   \n",
       "4383  23296.706  29238.090  35438.1005  21160.758724  20919.990198   \n",
       "4384  23130.444  29050.812  35324.0540  21723.119043  21231.266424   \n",
       "4385  22957.558  28887.333  35201.1095  22079.614282  21470.995621   \n",
       "\n",
       "           EMA_30d       EMA_50d      EMA_100d      EMA_200d  HT_TRENDLINE  \\\n",
       "4381  21599.199372  23575.445072  28195.025858  33931.069335  20423.078104   \n",
       "4382  21546.709090  23466.039383  28048.304554  33800.268645  20403.832160   \n",
       "4383  21609.876245  23429.167250  27938.948029  33688.084877  20435.796762   \n",
       "4384  21726.026165  23428.423436  27849.269850  33585.817366  20547.109474   \n",
       "4385  21817.837380  23417.469576  27756.197179  33481.969432  20712.814316   \n",
       "\n",
       "      BBANDS_upper_band  BBANDS_middle_band  BBANDS_lower_band          PSAR  \n",
       "4381       21714.292433            20440.38       19166.467567  22017.409626  \n",
       "4382       21359.693563            20731.32       20102.946437  21894.401241  \n",
       "4383       22585.394742            21186.48       19787.565258  18942.200000  \n",
       "4384       23836.570363            21751.32       19666.069637  19017.654000  \n",
       "4385       24304.381782            22216.12       20127.858218  19207.239840  "
      ]
     },
     "execution_count": 73,
     "metadata": {},
     "output_type": "execute_result"
    }
   ],
   "source": [
    "BTC_ind_trend.tail()"
   ]
  },
  {
   "cell_type": "code",
   "execution_count": 74,
   "metadata": {},
   "outputs": [
    {
     "data": {
      "text/plain": [
       "Date                   object\n",
       "Price                 float64\n",
       "Open                  float64\n",
       "High                  float64\n",
       "Low                   float64\n",
       "Vol.                  float64\n",
       "Percentage_diff       float64\n",
       "Target                float64\n",
       "SMA_7d                float64\n",
       "SMA_15d               float64\n",
       "SMA_30d               float64\n",
       "SMA_50d               float64\n",
       "SMA_100d              float64\n",
       "SMA_200d              float64\n",
       "EMA_7d                float64\n",
       "EMA_15d               float64\n",
       "EMA_30d               float64\n",
       "EMA_50d               float64\n",
       "EMA_100d              float64\n",
       "EMA_200d              float64\n",
       "HT_TRENDLINE          float64\n",
       "BBANDS_upper_band     float64\n",
       "BBANDS_middle_band    float64\n",
       "BBANDS_lower_band     float64\n",
       "PSAR                  float64\n",
       "dtype: object"
      ]
     },
     "execution_count": 74,
     "metadata": {},
     "output_type": "execute_result"
    }
   ],
   "source": [
    "BTC_ind_trend.dtypes"
   ]
  },
  {
   "cell_type": "code",
   "execution_count": 77,
   "metadata": {
    "id": "lC-mawQMeQmF"
   },
   "outputs": [],
   "source": [
    "BTC_ind_trend.to_csv(r\"D:\\Luciano\\Programación\\Data science\\Trabajo final\\Bases de datos para modelos\\BTC_ind_trend.csv\", index=False, sep=\";\")"
   ]
  },
  {
   "cell_type": "markdown",
   "metadata": {
    "id": "KXiLy1sLeQmG"
   },
   "source": [
    "Data set con estrategia de trading"
   ]
  },
  {
   "cell_type": "code",
   "execution_count": 78,
   "metadata": {
    "id": "-nF-6zegeQmG"
   },
   "outputs": [],
   "source": [
    "BTC_ind_trend_ET = BTC_ind_trend.copy()"
   ]
  },
  {
   "cell_type": "code",
   "execution_count": 79,
   "metadata": {
    "id": "3AcjhAc6eQmH",
    "outputId": "b1254a3c-1c33-4ee7-97e0-9b4297166b2f"
   },
   "outputs": [
    {
     "data": {
      "text/plain": [
       "Index(['SMA_7d_ET', 'SMA_15d_ET', 'SMA_30d_ET', 'SMA_50d_ET', 'SMA_100d_ET',\n",
       "       'SMA_200d_ET'],\n",
       "      dtype='object')"
      ]
     },
     "execution_count": 79,
     "metadata": {},
     "output_type": "execute_result"
    }
   ],
   "source": [
    "SMA_ET_df.columns"
   ]
  },
  {
   "cell_type": "code",
   "execution_count": 80,
   "metadata": {
    "id": "TYu4eICOeQmH",
    "outputId": "10e447ae-8471-4cbc-ea02-33372b8a7a68"
   },
   "outputs": [
    {
     "data": {
      "text/plain": [
       "Index(['EMA_7d_ET', 'EMA_15d_ET', 'EMA_30d_ET', 'EMA_50d_ET', 'EMA_100d_ET',\n",
       "       'EMA_200d_ET'],\n",
       "      dtype='object')"
      ]
     },
     "execution_count": 80,
     "metadata": {},
     "output_type": "execute_result"
    }
   ],
   "source": [
    "EMA_ET_df.columns"
   ]
  },
  {
   "cell_type": "code",
   "execution_count": 81,
   "metadata": {
    "id": "nNjXWt2feQmI",
    "outputId": "7582e346-a50a-4d60-b89f-35c42f93f3e2"
   },
   "outputs": [
    {
     "data": {
      "text/plain": [
       "Index(['HTTL_ET'], dtype='object')"
      ]
     },
     "execution_count": 81,
     "metadata": {},
     "output_type": "execute_result"
    }
   ],
   "source": [
    "HT_ET_df.columns"
   ]
  },
  {
   "cell_type": "code",
   "execution_count": 82,
   "metadata": {
    "id": "xlWDWatFeQmI",
    "outputId": "97227866-b4fd-4d4a-e337-54cf13bf562e"
   },
   "outputs": [
    {
     "data": {
      "text/plain": [
       "Index(['PSAR_ET'], dtype='object')"
      ]
     },
     "execution_count": 82,
     "metadata": {},
     "output_type": "execute_result"
    }
   ],
   "source": [
    "PSAR_ET_df.columns"
   ]
  },
  {
   "cell_type": "code",
   "execution_count": 83,
   "metadata": {
    "id": "XEUvi5OLeQmJ"
   },
   "outputs": [],
   "source": [
    "BTC_ind_trend_ET = pd.concat ([BTC_ind_trend, SMA_ET_df, EMA_ET_df, HT_ET_df, PSAR_ET_df], axis=1)"
   ]
  },
  {
   "cell_type": "code",
   "execution_count": 84,
   "metadata": {
    "id": "A2I1b3KQeQmJ",
    "outputId": "67ca29bf-af65-4019-fac4-8f9fd7d75845"
   },
   "outputs": [
    {
     "data": {
      "text/html": [
       "<div>\n",
       "<style scoped>\n",
       "    .dataframe tbody tr th:only-of-type {\n",
       "        vertical-align: middle;\n",
       "    }\n",
       "\n",
       "    .dataframe tbody tr th {\n",
       "        vertical-align: top;\n",
       "    }\n",
       "\n",
       "    .dataframe thead th {\n",
       "        text-align: right;\n",
       "    }\n",
       "</style>\n",
       "<table border=\"1\" class=\"dataframe\">\n",
       "  <thead>\n",
       "    <tr style=\"text-align: right;\">\n",
       "      <th></th>\n",
       "      <th>Date</th>\n",
       "      <th>Price</th>\n",
       "      <th>Open</th>\n",
       "      <th>High</th>\n",
       "      <th>Low</th>\n",
       "      <th>Vol.</th>\n",
       "      <th>Percentage_diff</th>\n",
       "      <th>Target</th>\n",
       "      <th>SMA_7d</th>\n",
       "      <th>SMA_15d</th>\n",
       "      <th>SMA_30d</th>\n",
       "      <th>SMA_50d</th>\n",
       "      <th>SMA_100d</th>\n",
       "      <th>SMA_200d</th>\n",
       "      <th>EMA_7d</th>\n",
       "      <th>EMA_15d</th>\n",
       "      <th>EMA_30d</th>\n",
       "      <th>EMA_50d</th>\n",
       "      <th>EMA_100d</th>\n",
       "      <th>EMA_200d</th>\n",
       "      <th>HT_TRENDLINE</th>\n",
       "      <th>BBANDS_upper_band</th>\n",
       "      <th>BBANDS_middle_band</th>\n",
       "      <th>BBANDS_lower_band</th>\n",
       "      <th>PSAR</th>\n",
       "      <th>SMA_7d_ET</th>\n",
       "      <th>SMA_15d_ET</th>\n",
       "      <th>SMA_30d_ET</th>\n",
       "      <th>SMA_50d_ET</th>\n",
       "      <th>SMA_100d_ET</th>\n",
       "      <th>SMA_200d_ET</th>\n",
       "      <th>EMA_7d_ET</th>\n",
       "      <th>EMA_15d_ET</th>\n",
       "      <th>EMA_30d_ET</th>\n",
       "      <th>EMA_50d_ET</th>\n",
       "      <th>EMA_100d_ET</th>\n",
       "      <th>EMA_200d_ET</th>\n",
       "      <th>HTTL_ET</th>\n",
       "      <th>PSAR_ET</th>\n",
       "    </tr>\n",
       "  </thead>\n",
       "  <tbody>\n",
       "    <tr>\n",
       "      <th>4381</th>\n",
       "      <td>2022-07-16</td>\n",
       "      <td>21209.9</td>\n",
       "      <td>20825.2</td>\n",
       "      <td>21561.3</td>\n",
       "      <td>20484.4</td>\n",
       "      <td>136890.0</td>\n",
       "      <td>1.85</td>\n",
       "      <td>1.0</td>\n",
       "      <td>20430.357143</td>\n",
       "      <td>20491.973333</td>\n",
       "      <td>20460.546667</td>\n",
       "      <td>23600.324</td>\n",
       "      <td>29655.396</td>\n",
       "      <td>35689.4685</td>\n",
       "      <td>20679.126620</td>\n",
       "      <td>20677.015769</td>\n",
       "      <td>21599.199372</td>\n",
       "      <td>23575.445072</td>\n",
       "      <td>28195.025858</td>\n",
       "      <td>33931.069335</td>\n",
       "      <td>20423.078104</td>\n",
       "      <td>21714.292433</td>\n",
       "      <td>20440.38</td>\n",
       "      <td>19166.467567</td>\n",
       "      <td>22017.409626</td>\n",
       "      <td>Mantener_posicion</td>\n",
       "      <td>Mantener_posicion</td>\n",
       "      <td>Mantener_posicion</td>\n",
       "      <td>Mantener_posicion</td>\n",
       "      <td>Mantener_posicion</td>\n",
       "      <td>Mantener_posicion</td>\n",
       "      <td>Mantener_posicion</td>\n",
       "      <td>Mantener_posicion</td>\n",
       "      <td>Mantener_posicion</td>\n",
       "      <td>Mantener_posicion</td>\n",
       "      <td>Mantener_posicion</td>\n",
       "      <td>Mantener_posicion</td>\n",
       "      <td>Mantener_posicion</td>\n",
       "      <td>Mantener_posicion</td>\n",
       "    </tr>\n",
       "    <tr>\n",
       "      <th>4382</th>\n",
       "      <td>2022-07-17</td>\n",
       "      <td>20785.6</td>\n",
       "      <td>21209.8</td>\n",
       "      <td>21654.4</td>\n",
       "      <td>20755.2</td>\n",
       "      <td>132810.0</td>\n",
       "      <td>-2.00</td>\n",
       "      <td>0.0</td>\n",
       "      <td>20421.528571</td>\n",
       "      <td>20594.800000</td>\n",
       "      <td>20471.913333</td>\n",
       "      <td>23435.494</td>\n",
       "      <td>29440.502</td>\n",
       "      <td>35561.0880</td>\n",
       "      <td>20705.744965</td>\n",
       "      <td>20690.588798</td>\n",
       "      <td>21546.709090</td>\n",
       "      <td>23466.039383</td>\n",
       "      <td>28048.304554</td>\n",
       "      <td>33800.268645</td>\n",
       "      <td>20403.832160</td>\n",
       "      <td>21359.693563</td>\n",
       "      <td>20731.32</td>\n",
       "      <td>20102.946437</td>\n",
       "      <td>21894.401241</td>\n",
       "      <td>Mantener_posicion</td>\n",
       "      <td>Mantener_posicion</td>\n",
       "      <td>Mantener_posicion</td>\n",
       "      <td>Mantener_posicion</td>\n",
       "      <td>Mantener_posicion</td>\n",
       "      <td>Mantener_posicion</td>\n",
       "      <td>Mantener_posicion</td>\n",
       "      <td>Mantener_posicion</td>\n",
       "      <td>Mantener_posicion</td>\n",
       "      <td>Mantener_posicion</td>\n",
       "      <td>Mantener_posicion</td>\n",
       "      <td>Mantener_posicion</td>\n",
       "      <td>Mantener_posicion</td>\n",
       "      <td>Mantener_posicion</td>\n",
       "    </tr>\n",
       "    <tr>\n",
       "      <th>4383</th>\n",
       "      <td>2022-07-18</td>\n",
       "      <td>22525.8</td>\n",
       "      <td>20785.6</td>\n",
       "      <td>22714.9</td>\n",
       "      <td>20770.6</td>\n",
       "      <td>279720.0</td>\n",
       "      <td>8.37</td>\n",
       "      <td>1.0</td>\n",
       "      <td>20787.614286</td>\n",
       "      <td>20809.193333</td>\n",
       "      <td>20589.890000</td>\n",
       "      <td>23296.706</td>\n",
       "      <td>29238.090</td>\n",
       "      <td>35438.1005</td>\n",
       "      <td>21160.758724</td>\n",
       "      <td>20919.990198</td>\n",
       "      <td>21609.876245</td>\n",
       "      <td>23429.167250</td>\n",
       "      <td>27938.948029</td>\n",
       "      <td>33688.084877</td>\n",
       "      <td>20435.796762</td>\n",
       "      <td>22585.394742</td>\n",
       "      <td>21186.48</td>\n",
       "      <td>19787.565258</td>\n",
       "      <td>18942.200000</td>\n",
       "      <td>Mantener_posicion</td>\n",
       "      <td>Mantener_posicion</td>\n",
       "      <td>Mantener_posicion</td>\n",
       "      <td>Mantener_posicion</td>\n",
       "      <td>Mantener_posicion</td>\n",
       "      <td>Mantener_posicion</td>\n",
       "      <td>Mantener_posicion</td>\n",
       "      <td>Mantener_posicion</td>\n",
       "      <td>Comprar</td>\n",
       "      <td>Mantener_posicion</td>\n",
       "      <td>Mantener_posicion</td>\n",
       "      <td>Mantener_posicion</td>\n",
       "      <td>Mantener_posicion</td>\n",
       "      <td>Comprar</td>\n",
       "    </tr>\n",
       "    <tr>\n",
       "      <th>4384</th>\n",
       "      <td>2022-07-19</td>\n",
       "      <td>23410.2</td>\n",
       "      <td>22529.3</td>\n",
       "      <td>23757.3</td>\n",
       "      <td>21581.8</td>\n",
       "      <td>308910.0</td>\n",
       "      <td>3.93</td>\n",
       "      <td>1.0</td>\n",
       "      <td>21370.371429</td>\n",
       "      <td>21022.153333</td>\n",
       "      <td>20684.323333</td>\n",
       "      <td>23130.444</td>\n",
       "      <td>29050.812</td>\n",
       "      <td>35324.0540</td>\n",
       "      <td>21723.119043</td>\n",
       "      <td>21231.266424</td>\n",
       "      <td>21726.026165</td>\n",
       "      <td>23428.423436</td>\n",
       "      <td>27849.269850</td>\n",
       "      <td>33585.817366</td>\n",
       "      <td>20547.109474</td>\n",
       "      <td>23836.570363</td>\n",
       "      <td>21751.32</td>\n",
       "      <td>19666.069637</td>\n",
       "      <td>19017.654000</td>\n",
       "      <td>Mantener_posicion</td>\n",
       "      <td>Mantener_posicion</td>\n",
       "      <td>Mantener_posicion</td>\n",
       "      <td>Comprar</td>\n",
       "      <td>Mantener_posicion</td>\n",
       "      <td>Mantener_posicion</td>\n",
       "      <td>Mantener_posicion</td>\n",
       "      <td>Mantener_posicion</td>\n",
       "      <td>Mantener_posicion</td>\n",
       "      <td>Mantener_posicion</td>\n",
       "      <td>Mantener_posicion</td>\n",
       "      <td>Mantener_posicion</td>\n",
       "      <td>Mantener_posicion</td>\n",
       "      <td>Mantener_posicion</td>\n",
       "    </tr>\n",
       "    <tr>\n",
       "      <th>4385</th>\n",
       "      <td>2022-07-20</td>\n",
       "      <td>23149.1</td>\n",
       "      <td>23412.0</td>\n",
       "      <td>23429.9</td>\n",
       "      <td>22965.9</td>\n",
       "      <td>290210.0</td>\n",
       "      <td>-1.12</td>\n",
       "      <td>0.0</td>\n",
       "      <td>21784.528571</td>\n",
       "      <td>21218.720000</td>\n",
       "      <td>20770.216667</td>\n",
       "      <td>22957.558</td>\n",
       "      <td>28887.333</td>\n",
       "      <td>35201.1095</td>\n",
       "      <td>22079.614282</td>\n",
       "      <td>21470.995621</td>\n",
       "      <td>21817.837380</td>\n",
       "      <td>23417.469576</td>\n",
       "      <td>27756.197179</td>\n",
       "      <td>33481.969432</td>\n",
       "      <td>20712.814316</td>\n",
       "      <td>24304.381782</td>\n",
       "      <td>22216.12</td>\n",
       "      <td>20127.858218</td>\n",
       "      <td>19207.239840</td>\n",
       "      <td>Mantener_posicion</td>\n",
       "      <td>Mantener_posicion</td>\n",
       "      <td>Mantener_posicion</td>\n",
       "      <td>Mantener_posicion</td>\n",
       "      <td>Mantener_posicion</td>\n",
       "      <td>Mantener_posicion</td>\n",
       "      <td>Mantener_posicion</td>\n",
       "      <td>Mantener_posicion</td>\n",
       "      <td>Mantener_posicion</td>\n",
       "      <td>Mantener_posicion</td>\n",
       "      <td>Mantener_posicion</td>\n",
       "      <td>Mantener_posicion</td>\n",
       "      <td>Mantener_posicion</td>\n",
       "      <td>Mantener_posicion</td>\n",
       "    </tr>\n",
       "  </tbody>\n",
       "</table>\n",
       "</div>"
      ],
      "text/plain": [
       "            Date    Price     Open     High      Low      Vol.  \\\n",
       "4381  2022-07-16  21209.9  20825.2  21561.3  20484.4  136890.0   \n",
       "4382  2022-07-17  20785.6  21209.8  21654.4  20755.2  132810.0   \n",
       "4383  2022-07-18  22525.8  20785.6  22714.9  20770.6  279720.0   \n",
       "4384  2022-07-19  23410.2  22529.3  23757.3  21581.8  308910.0   \n",
       "4385  2022-07-20  23149.1  23412.0  23429.9  22965.9  290210.0   \n",
       "\n",
       "      Percentage_diff  Target        SMA_7d       SMA_15d       SMA_30d  \\\n",
       "4381             1.85     1.0  20430.357143  20491.973333  20460.546667   \n",
       "4382            -2.00     0.0  20421.528571  20594.800000  20471.913333   \n",
       "4383             8.37     1.0  20787.614286  20809.193333  20589.890000   \n",
       "4384             3.93     1.0  21370.371429  21022.153333  20684.323333   \n",
       "4385            -1.12     0.0  21784.528571  21218.720000  20770.216667   \n",
       "\n",
       "        SMA_50d   SMA_100d    SMA_200d        EMA_7d       EMA_15d  \\\n",
       "4381  23600.324  29655.396  35689.4685  20679.126620  20677.015769   \n",
       "4382  23435.494  29440.502  35561.0880  20705.744965  20690.588798   \n",
       "4383  23296.706  29238.090  35438.1005  21160.758724  20919.990198   \n",
       "4384  23130.444  29050.812  35324.0540  21723.119043  21231.266424   \n",
       "4385  22957.558  28887.333  35201.1095  22079.614282  21470.995621   \n",
       "\n",
       "           EMA_30d       EMA_50d      EMA_100d      EMA_200d  HT_TRENDLINE  \\\n",
       "4381  21599.199372  23575.445072  28195.025858  33931.069335  20423.078104   \n",
       "4382  21546.709090  23466.039383  28048.304554  33800.268645  20403.832160   \n",
       "4383  21609.876245  23429.167250  27938.948029  33688.084877  20435.796762   \n",
       "4384  21726.026165  23428.423436  27849.269850  33585.817366  20547.109474   \n",
       "4385  21817.837380  23417.469576  27756.197179  33481.969432  20712.814316   \n",
       "\n",
       "      BBANDS_upper_band  BBANDS_middle_band  BBANDS_lower_band          PSAR  \\\n",
       "4381       21714.292433            20440.38       19166.467567  22017.409626   \n",
       "4382       21359.693563            20731.32       20102.946437  21894.401241   \n",
       "4383       22585.394742            21186.48       19787.565258  18942.200000   \n",
       "4384       23836.570363            21751.32       19666.069637  19017.654000   \n",
       "4385       24304.381782            22216.12       20127.858218  19207.239840   \n",
       "\n",
       "              SMA_7d_ET         SMA_15d_ET         SMA_30d_ET  \\\n",
       "4381  Mantener_posicion  Mantener_posicion  Mantener_posicion   \n",
       "4382  Mantener_posicion  Mantener_posicion  Mantener_posicion   \n",
       "4383  Mantener_posicion  Mantener_posicion  Mantener_posicion   \n",
       "4384  Mantener_posicion  Mantener_posicion  Mantener_posicion   \n",
       "4385  Mantener_posicion  Mantener_posicion  Mantener_posicion   \n",
       "\n",
       "             SMA_50d_ET        SMA_100d_ET        SMA_200d_ET  \\\n",
       "4381  Mantener_posicion  Mantener_posicion  Mantener_posicion   \n",
       "4382  Mantener_posicion  Mantener_posicion  Mantener_posicion   \n",
       "4383  Mantener_posicion  Mantener_posicion  Mantener_posicion   \n",
       "4384            Comprar  Mantener_posicion  Mantener_posicion   \n",
       "4385  Mantener_posicion  Mantener_posicion  Mantener_posicion   \n",
       "\n",
       "              EMA_7d_ET         EMA_15d_ET         EMA_30d_ET  \\\n",
       "4381  Mantener_posicion  Mantener_posicion  Mantener_posicion   \n",
       "4382  Mantener_posicion  Mantener_posicion  Mantener_posicion   \n",
       "4383  Mantener_posicion  Mantener_posicion            Comprar   \n",
       "4384  Mantener_posicion  Mantener_posicion  Mantener_posicion   \n",
       "4385  Mantener_posicion  Mantener_posicion  Mantener_posicion   \n",
       "\n",
       "             EMA_50d_ET        EMA_100d_ET        EMA_200d_ET  \\\n",
       "4381  Mantener_posicion  Mantener_posicion  Mantener_posicion   \n",
       "4382  Mantener_posicion  Mantener_posicion  Mantener_posicion   \n",
       "4383  Mantener_posicion  Mantener_posicion  Mantener_posicion   \n",
       "4384  Mantener_posicion  Mantener_posicion  Mantener_posicion   \n",
       "4385  Mantener_posicion  Mantener_posicion  Mantener_posicion   \n",
       "\n",
       "                HTTL_ET            PSAR_ET  \n",
       "4381  Mantener_posicion  Mantener_posicion  \n",
       "4382  Mantener_posicion  Mantener_posicion  \n",
       "4383  Mantener_posicion            Comprar  \n",
       "4384  Mantener_posicion  Mantener_posicion  \n",
       "4385  Mantener_posicion  Mantener_posicion  "
      ]
     },
     "execution_count": 84,
     "metadata": {},
     "output_type": "execute_result"
    }
   ],
   "source": [
    "BTC_ind_trend_ET.tail()"
   ]
  },
  {
   "cell_type": "code",
   "execution_count": 85,
   "metadata": {
    "id": "CCECp8GeeQmJ"
   },
   "outputs": [],
   "source": [
    "BTC_ind_trend_ET.to_csv(r\"D:\\Luciano\\Programación\\Data science\\Trabajo final\\Bases de datos para modelos\\BTC_ind_trend_ET.csv\", index=False, sep=\";\")"
   ]
  },
  {
   "cell_type": "markdown",
   "metadata": {
    "id": "uR8Nwg5_eQmK"
   },
   "source": [
    "### Momentum Indicator Functions"
   ]
  },
  {
   "cell_type": "markdown",
   "metadata": {
    "id": "yjrp1SBIeQmK"
   },
   "source": [
    "#### ADX (Average Directional Movement Index)\n",
    "\n",
    "* Información (EN): https://www.investopedia.com/terms/a/adx.asp"
   ]
  },
  {
   "cell_type": "code",
   "execution_count": 86,
   "metadata": {
    "id": "OtzhBnjYeQmL"
   },
   "outputs": [],
   "source": [
    "# Se crea base de dato para back up\n",
    "BTC_df_ADX = BTC_df.copy ()"
   ]
  },
  {
   "cell_type": "code",
   "execution_count": 87,
   "metadata": {
    "id": "lMWjH9cleQmL"
   },
   "outputs": [],
   "source": [
    "# Se aplica ta.ADX (se calcula el ADX)\n",
    "BTC_df_ADX [\"ADX\"] = ta.ADX (BTC_df_ADX [\"High\"], BTC_df_ADX [\"Low\"], BTC_df_ADX [\"Price\"], timeperiod=14)"
   ]
  },
  {
   "cell_type": "markdown",
   "metadata": {},
   "source": [
    "Se calculan valores que conforman el ADX que también pueden tener una relevancia para conocer si un precio subio o bajó"
   ]
  },
  {
   "cell_type": "code",
   "execution_count": 88,
   "metadata": {
    "id": "GPTurxWqeQmM"
   },
   "outputs": [],
   "source": [
    "BTC_df_ADX [\"ADX_MDI\"] = ta.MINUS_DI (BTC_df_ADX [\"High\"], BTC_df_ADX [\"Low\"], BTC_df_ADX [\"Price\"], timeperiod=14)"
   ]
  },
  {
   "cell_type": "code",
   "execution_count": 89,
   "metadata": {
    "id": "Xt5paYwOeQmM"
   },
   "outputs": [],
   "source": [
    "BTC_df_ADX [\"ADX_MDM\"] = ta.MINUS_DM (BTC_df_ADX [\"High\"], BTC_df_ADX [\"Low\"], timeperiod=14)"
   ]
  },
  {
   "cell_type": "code",
   "execution_count": 90,
   "metadata": {
    "id": "m2Ab4HwEeQmM"
   },
   "outputs": [],
   "source": [
    "BTC_df_ADX [\"ADX_DX\"] = ta.DX (BTC_df_ADX [\"High\"], BTC_df_ADX [\"Low\"], BTC_df_ADX [\"Price\"], timeperiod=14)"
   ]
  },
  {
   "cell_type": "code",
   "execution_count": 91,
   "metadata": {
    "id": "1U9RnqfteQmN"
   },
   "outputs": [],
   "source": [
    "BTC_df_ADX [\"ADX_PDI\"] = ta.PLUS_DI (BTC_df_ADX [\"High\"], BTC_df_ADX [\"Low\"], BTC_df_ADX [\"Price\"], timeperiod=14)"
   ]
  },
  {
   "cell_type": "code",
   "execution_count": 92,
   "metadata": {
    "id": "g9FJkiSZeQmN"
   },
   "outputs": [],
   "source": [
    "BTC_df_ADX [\"ADX_PDM\"] = ta.PLUS_DM (BTC_df_ADX [\"High\"], BTC_df_ADX [\"Low\"], timeperiod=14)"
   ]
  },
  {
   "cell_type": "code",
   "execution_count": 93,
   "metadata": {
    "id": "RFKtfu4EeQmN",
    "outputId": "1ff80d21-9680-4e70-a045-26ab74c1a1d1"
   },
   "outputs": [
    {
     "data": {
      "text/html": [
       "<div>\n",
       "<style scoped>\n",
       "    .dataframe tbody tr th:only-of-type {\n",
       "        vertical-align: middle;\n",
       "    }\n",
       "\n",
       "    .dataframe tbody tr th {\n",
       "        vertical-align: top;\n",
       "    }\n",
       "\n",
       "    .dataframe thead th {\n",
       "        text-align: right;\n",
       "    }\n",
       "</style>\n",
       "<table border=\"1\" class=\"dataframe\">\n",
       "  <thead>\n",
       "    <tr style=\"text-align: right;\">\n",
       "      <th></th>\n",
       "      <th>Date</th>\n",
       "      <th>Price</th>\n",
       "      <th>Open</th>\n",
       "      <th>High</th>\n",
       "      <th>Low</th>\n",
       "      <th>Vol.</th>\n",
       "      <th>Percentage_diff</th>\n",
       "      <th>Target</th>\n",
       "      <th>ADX</th>\n",
       "      <th>ADX_MDI</th>\n",
       "      <th>ADX_MDM</th>\n",
       "      <th>ADX_DX</th>\n",
       "      <th>ADX_PDI</th>\n",
       "      <th>ADX_PDM</th>\n",
       "    </tr>\n",
       "  </thead>\n",
       "  <tbody>\n",
       "    <tr>\n",
       "      <th>4381</th>\n",
       "      <td>2022-07-16</td>\n",
       "      <td>21209.9</td>\n",
       "      <td>20825.2</td>\n",
       "      <td>21561.3</td>\n",
       "      <td>20484.4</td>\n",
       "      <td>136890.0</td>\n",
       "      <td>1.85</td>\n",
       "      <td>1.0</td>\n",
       "      <td>27.268083</td>\n",
       "      <td>24.194644</td>\n",
       "      <td>3952.577867</td>\n",
       "      <td>6.885001</td>\n",
       "      <td>21.077646</td>\n",
       "      <td>3443.366972</td>\n",
       "    </tr>\n",
       "    <tr>\n",
       "      <th>4382</th>\n",
       "      <td>2022-07-17</td>\n",
       "      <td>20785.6</td>\n",
       "      <td>21209.8</td>\n",
       "      <td>21654.4</td>\n",
       "      <td>20755.2</td>\n",
       "      <td>132810.0</td>\n",
       "      <td>-2.00</td>\n",
       "      <td>0.0</td>\n",
       "      <td>25.710035</td>\n",
       "      <td>22.840734</td>\n",
       "      <td>3670.250876</td>\n",
       "      <td>5.455418</td>\n",
       "      <td>20.477541</td>\n",
       "      <td>3290.512188</td>\n",
       "    </tr>\n",
       "    <tr>\n",
       "      <th>4383</th>\n",
       "      <td>2022-07-18</td>\n",
       "      <td>22525.8</td>\n",
       "      <td>20785.6</td>\n",
       "      <td>22714.9</td>\n",
       "      <td>20770.6</td>\n",
       "      <td>279720.0</td>\n",
       "      <td>8.37</td>\n",
       "      <td>1.0</td>\n",
       "      <td>24.545625</td>\n",
       "      <td>20.207578</td>\n",
       "      <td>3408.090099</td>\n",
       "      <td>9.408284</td>\n",
       "      <td>24.404841</td>\n",
       "      <td>4115.975603</td>\n",
       "    </tr>\n",
       "    <tr>\n",
       "      <th>4384</th>\n",
       "      <td>2022-07-19</td>\n",
       "      <td>23410.2</td>\n",
       "      <td>22529.3</td>\n",
       "      <td>23757.3</td>\n",
       "      <td>21581.8</td>\n",
       "      <td>308910.0</td>\n",
       "      <td>3.93</td>\n",
       "      <td>1.0</td>\n",
       "      <td>24.304487</td>\n",
       "      <td>17.742843</td>\n",
       "      <td>3164.655092</td>\n",
       "      <td>21.169702</td>\n",
       "      <td>27.272446</td>\n",
       "      <td>4864.377346</td>\n",
       "    </tr>\n",
       "    <tr>\n",
       "      <th>4385</th>\n",
       "      <td>2022-07-20</td>\n",
       "      <td>23149.1</td>\n",
       "      <td>23412.0</td>\n",
       "      <td>23429.9</td>\n",
       "      <td>22965.9</td>\n",
       "      <td>290210.0</td>\n",
       "      <td>-1.12</td>\n",
       "      <td>0.0</td>\n",
       "      <td>24.080574</td>\n",
       "      <td>17.259314</td>\n",
       "      <td>2938.608300</td>\n",
       "      <td>21.169702</td>\n",
       "      <td>26.529215</td>\n",
       "      <td>4516.921821</td>\n",
       "    </tr>\n",
       "  </tbody>\n",
       "</table>\n",
       "</div>"
      ],
      "text/plain": [
       "            Date    Price     Open     High      Low      Vol.  \\\n",
       "4381  2022-07-16  21209.9  20825.2  21561.3  20484.4  136890.0   \n",
       "4382  2022-07-17  20785.6  21209.8  21654.4  20755.2  132810.0   \n",
       "4383  2022-07-18  22525.8  20785.6  22714.9  20770.6  279720.0   \n",
       "4384  2022-07-19  23410.2  22529.3  23757.3  21581.8  308910.0   \n",
       "4385  2022-07-20  23149.1  23412.0  23429.9  22965.9  290210.0   \n",
       "\n",
       "      Percentage_diff  Target        ADX    ADX_MDI      ADX_MDM     ADX_DX  \\\n",
       "4381             1.85     1.0  27.268083  24.194644  3952.577867   6.885001   \n",
       "4382            -2.00     0.0  25.710035  22.840734  3670.250876   5.455418   \n",
       "4383             8.37     1.0  24.545625  20.207578  3408.090099   9.408284   \n",
       "4384             3.93     1.0  24.304487  17.742843  3164.655092  21.169702   \n",
       "4385            -1.12     0.0  24.080574  17.259314  2938.608300  21.169702   \n",
       "\n",
       "        ADX_PDI      ADX_PDM  \n",
       "4381  21.077646  3443.366972  \n",
       "4382  20.477541  3290.512188  \n",
       "4383  24.404841  4115.975603  \n",
       "4384  27.272446  4864.377346  \n",
       "4385  26.529215  4516.921821  "
      ]
     },
     "execution_count": 93,
     "metadata": {},
     "output_type": "execute_result"
    }
   ],
   "source": [
    "BTC_df_ADX.tail()"
   ]
  },
  {
   "cell_type": "markdown",
   "metadata": {
    "id": "zMEuWYkveQmO"
   },
   "source": [
    "Estraetgia de trading con ADX\n",
    "\n",
    "* Cuando ADX_MDI cae por debajo del ADX_PDF puede ser un momento propicio para la compra. Se entiende que hay sobreventa.\n",
    "* Cuando ADX_MDI supera el ADX_PDF puede ser un momento propicio para la venta. Se entiende que hay sobrecompra.\n",
    "* En el resto de los casos puede ser un momento propicio para mantener la posición. Hay aumento o reducción de la fuerza tendencial."
   ]
  },
  {
   "cell_type": "code",
   "execution_count": 94,
   "metadata": {
    "id": "tJ-Qn9BDeQmO"
   },
   "outputs": [],
   "source": [
    "# Se crea un back up\n",
    "BTC_df_ADX_ET = BTC_df_ADX.copy()"
   ]
  },
  {
   "cell_type": "code",
   "execution_count": 95,
   "metadata": {
    "id": "D-Tgpx4GeQmP",
    "outputId": "9463d040-92d7-4f48-8486-e92db23a08af"
   },
   "outputs": [
    {
     "data": {
      "text/plain": [
       "Index(['Date', 'Price', 'Open', 'High', 'Low', 'Vol.', 'Percentage_diff',\n",
       "       'Target', 'ADX', 'ADX_MDI', 'ADX_MDM', 'ADX_DX', 'ADX_PDI', 'ADX_PDM'],\n",
       "      dtype='object')"
      ]
     },
     "execution_count": 95,
     "metadata": {},
     "output_type": "execute_result"
    }
   ],
   "source": [
    "BTC_df_ADX_ET.columns"
   ]
  },
  {
   "cell_type": "code",
   "execution_count": 96,
   "metadata": {
    "id": "ijgr06z-eQmP"
   },
   "outputs": [],
   "source": [
    "# Se aplica la estrategia de trading\n",
    "ADX_ET_df = pd.DataFrame()\n",
    "ADX_ET_df\n",
    "\n",
    "ADX_ET = []\n",
    "\n",
    "x=0\n",
    "while x < len (BTC_df_ADX_ET [\"Price\"]): \n",
    "        \n",
    "    if x==0:\n",
    "        ADX_ET.append (\"Mantener_posicion\")\n",
    "        \n",
    "    elif (BTC_df_ADX_ET ['ADX_MDI'] [x-1] > BTC_df_ADX_ET ['ADX_PDI'] [x-1]) and (BTC_df_ADX_ET ['ADX_MDI'] [x] < BTC_df_ADX_ET ['ADX_PDI'] [x]):\n",
    "        ADX_ET.append (\"Comprar\")\n",
    "            \n",
    "    elif (BTC_df_ADX_ET ['ADX_MDI'] [x-1] < BTC_df_ADX_ET ['ADX_PDI'] [x-1]) and (BTC_df_ADX_ET ['ADX_MDI'] [x] > BTC_df_ADX_ET ['ADX_PDI'] [x]):\n",
    "        ADX_ET.append (\"Vender\")\n",
    "            \n",
    "    else:\n",
    "        ADX_ET.append (\"Mantener_posicion\")\n",
    "            \n",
    "        \n",
    "    x+=1\n",
    "    \n",
    "ADX_ET_df [\"ADX_ET\"] = pd.Series(ADX_ET)"
   ]
  },
  {
   "cell_type": "code",
   "execution_count": 97,
   "metadata": {
    "id": "I-6Ui0CKeQmQ",
    "outputId": "92859e31-eb82-4d49-c935-db138bc120f8"
   },
   "outputs": [
    {
     "data": {
      "text/html": [
       "<div>\n",
       "<style scoped>\n",
       "    .dataframe tbody tr th:only-of-type {\n",
       "        vertical-align: middle;\n",
       "    }\n",
       "\n",
       "    .dataframe tbody tr th {\n",
       "        vertical-align: top;\n",
       "    }\n",
       "\n",
       "    .dataframe thead th {\n",
       "        text-align: right;\n",
       "    }\n",
       "</style>\n",
       "<table border=\"1\" class=\"dataframe\">\n",
       "  <thead>\n",
       "    <tr style=\"text-align: right;\">\n",
       "      <th></th>\n",
       "      <th>ADX_ET</th>\n",
       "    </tr>\n",
       "  </thead>\n",
       "  <tbody>\n",
       "    <tr>\n",
       "      <th>4381</th>\n",
       "      <td>Mantener_posicion</td>\n",
       "    </tr>\n",
       "    <tr>\n",
       "      <th>4382</th>\n",
       "      <td>Mantener_posicion</td>\n",
       "    </tr>\n",
       "    <tr>\n",
       "      <th>4383</th>\n",
       "      <td>Comprar</td>\n",
       "    </tr>\n",
       "    <tr>\n",
       "      <th>4384</th>\n",
       "      <td>Mantener_posicion</td>\n",
       "    </tr>\n",
       "    <tr>\n",
       "      <th>4385</th>\n",
       "      <td>Mantener_posicion</td>\n",
       "    </tr>\n",
       "  </tbody>\n",
       "</table>\n",
       "</div>"
      ],
      "text/plain": [
       "                 ADX_ET\n",
       "4381  Mantener_posicion\n",
       "4382  Mantener_posicion\n",
       "4383            Comprar\n",
       "4384  Mantener_posicion\n",
       "4385  Mantener_posicion"
      ]
     },
     "execution_count": 97,
     "metadata": {},
     "output_type": "execute_result"
    }
   ],
   "source": [
    "ADX_ET_df.tail()"
   ]
  },
  {
   "cell_type": "markdown",
   "metadata": {},
   "source": [
    "Se concatena las columnas de la estrategia de trading a la tabla de BTC_df_ADX_ET (ya posee los valores del indicador)."
   ]
  },
  {
   "cell_type": "code",
   "execution_count": 98,
   "metadata": {
    "id": "4yOMbaPmeQmQ"
   },
   "outputs": [],
   "source": [
    "BTC_ADX_ET_df = pd.concat ([BTC_df_ADX_ET, ADX_ET_df], axis=1)"
   ]
  },
  {
   "cell_type": "code",
   "execution_count": 99,
   "metadata": {
    "id": "sDCzfwh3eQmR",
    "outputId": "046b72f6-2dfd-4768-8913-8aa5e402e328"
   },
   "outputs": [
    {
     "data": {
      "text/html": [
       "<div>\n",
       "<style scoped>\n",
       "    .dataframe tbody tr th:only-of-type {\n",
       "        vertical-align: middle;\n",
       "    }\n",
       "\n",
       "    .dataframe tbody tr th {\n",
       "        vertical-align: top;\n",
       "    }\n",
       "\n",
       "    .dataframe thead th {\n",
       "        text-align: right;\n",
       "    }\n",
       "</style>\n",
       "<table border=\"1\" class=\"dataframe\">\n",
       "  <thead>\n",
       "    <tr style=\"text-align: right;\">\n",
       "      <th></th>\n",
       "      <th>Date</th>\n",
       "      <th>Price</th>\n",
       "      <th>Open</th>\n",
       "      <th>High</th>\n",
       "      <th>Low</th>\n",
       "      <th>Vol.</th>\n",
       "      <th>Percentage_diff</th>\n",
       "      <th>Target</th>\n",
       "      <th>ADX</th>\n",
       "      <th>ADX_MDI</th>\n",
       "      <th>ADX_MDM</th>\n",
       "      <th>ADX_DX</th>\n",
       "      <th>ADX_PDI</th>\n",
       "      <th>ADX_PDM</th>\n",
       "      <th>ADX_ET</th>\n",
       "    </tr>\n",
       "  </thead>\n",
       "  <tbody>\n",
       "    <tr>\n",
       "      <th>4381</th>\n",
       "      <td>2022-07-16</td>\n",
       "      <td>21209.9</td>\n",
       "      <td>20825.2</td>\n",
       "      <td>21561.3</td>\n",
       "      <td>20484.4</td>\n",
       "      <td>136890.0</td>\n",
       "      <td>1.85</td>\n",
       "      <td>1.0</td>\n",
       "      <td>27.268083</td>\n",
       "      <td>24.194644</td>\n",
       "      <td>3952.577867</td>\n",
       "      <td>6.885001</td>\n",
       "      <td>21.077646</td>\n",
       "      <td>3443.366972</td>\n",
       "      <td>Mantener_posicion</td>\n",
       "    </tr>\n",
       "    <tr>\n",
       "      <th>4382</th>\n",
       "      <td>2022-07-17</td>\n",
       "      <td>20785.6</td>\n",
       "      <td>21209.8</td>\n",
       "      <td>21654.4</td>\n",
       "      <td>20755.2</td>\n",
       "      <td>132810.0</td>\n",
       "      <td>-2.00</td>\n",
       "      <td>0.0</td>\n",
       "      <td>25.710035</td>\n",
       "      <td>22.840734</td>\n",
       "      <td>3670.250876</td>\n",
       "      <td>5.455418</td>\n",
       "      <td>20.477541</td>\n",
       "      <td>3290.512188</td>\n",
       "      <td>Mantener_posicion</td>\n",
       "    </tr>\n",
       "    <tr>\n",
       "      <th>4383</th>\n",
       "      <td>2022-07-18</td>\n",
       "      <td>22525.8</td>\n",
       "      <td>20785.6</td>\n",
       "      <td>22714.9</td>\n",
       "      <td>20770.6</td>\n",
       "      <td>279720.0</td>\n",
       "      <td>8.37</td>\n",
       "      <td>1.0</td>\n",
       "      <td>24.545625</td>\n",
       "      <td>20.207578</td>\n",
       "      <td>3408.090099</td>\n",
       "      <td>9.408284</td>\n",
       "      <td>24.404841</td>\n",
       "      <td>4115.975603</td>\n",
       "      <td>Comprar</td>\n",
       "    </tr>\n",
       "    <tr>\n",
       "      <th>4384</th>\n",
       "      <td>2022-07-19</td>\n",
       "      <td>23410.2</td>\n",
       "      <td>22529.3</td>\n",
       "      <td>23757.3</td>\n",
       "      <td>21581.8</td>\n",
       "      <td>308910.0</td>\n",
       "      <td>3.93</td>\n",
       "      <td>1.0</td>\n",
       "      <td>24.304487</td>\n",
       "      <td>17.742843</td>\n",
       "      <td>3164.655092</td>\n",
       "      <td>21.169702</td>\n",
       "      <td>27.272446</td>\n",
       "      <td>4864.377346</td>\n",
       "      <td>Mantener_posicion</td>\n",
       "    </tr>\n",
       "    <tr>\n",
       "      <th>4385</th>\n",
       "      <td>2022-07-20</td>\n",
       "      <td>23149.1</td>\n",
       "      <td>23412.0</td>\n",
       "      <td>23429.9</td>\n",
       "      <td>22965.9</td>\n",
       "      <td>290210.0</td>\n",
       "      <td>-1.12</td>\n",
       "      <td>0.0</td>\n",
       "      <td>24.080574</td>\n",
       "      <td>17.259314</td>\n",
       "      <td>2938.608300</td>\n",
       "      <td>21.169702</td>\n",
       "      <td>26.529215</td>\n",
       "      <td>4516.921821</td>\n",
       "      <td>Mantener_posicion</td>\n",
       "    </tr>\n",
       "  </tbody>\n",
       "</table>\n",
       "</div>"
      ],
      "text/plain": [
       "            Date    Price     Open     High      Low      Vol.  \\\n",
       "4381  2022-07-16  21209.9  20825.2  21561.3  20484.4  136890.0   \n",
       "4382  2022-07-17  20785.6  21209.8  21654.4  20755.2  132810.0   \n",
       "4383  2022-07-18  22525.8  20785.6  22714.9  20770.6  279720.0   \n",
       "4384  2022-07-19  23410.2  22529.3  23757.3  21581.8  308910.0   \n",
       "4385  2022-07-20  23149.1  23412.0  23429.9  22965.9  290210.0   \n",
       "\n",
       "      Percentage_diff  Target        ADX    ADX_MDI      ADX_MDM     ADX_DX  \\\n",
       "4381             1.85     1.0  27.268083  24.194644  3952.577867   6.885001   \n",
       "4382            -2.00     0.0  25.710035  22.840734  3670.250876   5.455418   \n",
       "4383             8.37     1.0  24.545625  20.207578  3408.090099   9.408284   \n",
       "4384             3.93     1.0  24.304487  17.742843  3164.655092  21.169702   \n",
       "4385            -1.12     0.0  24.080574  17.259314  2938.608300  21.169702   \n",
       "\n",
       "        ADX_PDI      ADX_PDM             ADX_ET  \n",
       "4381  21.077646  3443.366972  Mantener_posicion  \n",
       "4382  20.477541  3290.512188  Mantener_posicion  \n",
       "4383  24.404841  4115.975603            Comprar  \n",
       "4384  27.272446  4864.377346  Mantener_posicion  \n",
       "4385  26.529215  4516.921821  Mantener_posicion  "
      ]
     },
     "execution_count": 99,
     "metadata": {},
     "output_type": "execute_result"
    }
   ],
   "source": [
    "BTC_ADX_ET_df.tail()"
   ]
  },
  {
   "cell_type": "markdown",
   "metadata": {
    "id": "9M73oEsieQmR"
   },
   "source": [
    "#### ADXR - Average Directional Movement Index Rating\n",
    "\n",
    "* Información (EN): https://www.linnsoft.com/techind/adxr-avg-directional-movement-rating"
   ]
  },
  {
   "cell_type": "code",
   "execution_count": 100,
   "metadata": {
    "id": "R0tUlctQeQmS"
   },
   "outputs": [],
   "source": [
    "# Se crea un back up\n",
    "BTC_df_ADXR = BTC_df.copy ()"
   ]
  },
  {
   "cell_type": "code",
   "execution_count": 101,
   "metadata": {
    "id": "c6YFl84deQmT"
   },
   "outputs": [],
   "source": [
    "# Se calcula el ADXR\n",
    "BTC_df_ADXR [\"ADXR\"] = ta.ADXR (BTC_df_ADXR [\"High\"], BTC_df_ADXR [\"Low\"], BTC_df_ADXR [\"Price\"], timeperiod=14)"
   ]
  },
  {
   "cell_type": "code",
   "execution_count": 102,
   "metadata": {
    "id": "zTvD6LMyeQmT",
    "outputId": "257d9828-e18c-43c8-887f-4e808b33a186"
   },
   "outputs": [
    {
     "data": {
      "text/html": [
       "<div>\n",
       "<style scoped>\n",
       "    .dataframe tbody tr th:only-of-type {\n",
       "        vertical-align: middle;\n",
       "    }\n",
       "\n",
       "    .dataframe tbody tr th {\n",
       "        vertical-align: top;\n",
       "    }\n",
       "\n",
       "    .dataframe thead th {\n",
       "        text-align: right;\n",
       "    }\n",
       "</style>\n",
       "<table border=\"1\" class=\"dataframe\">\n",
       "  <thead>\n",
       "    <tr style=\"text-align: right;\">\n",
       "      <th></th>\n",
       "      <th>Date</th>\n",
       "      <th>Price</th>\n",
       "      <th>Open</th>\n",
       "      <th>High</th>\n",
       "      <th>Low</th>\n",
       "      <th>Vol.</th>\n",
       "      <th>Percentage_diff</th>\n",
       "      <th>Target</th>\n",
       "      <th>ADXR</th>\n",
       "    </tr>\n",
       "  </thead>\n",
       "  <tbody>\n",
       "    <tr>\n",
       "      <th>4381</th>\n",
       "      <td>2022-07-16</td>\n",
       "      <td>21209.9</td>\n",
       "      <td>20825.2</td>\n",
       "      <td>21561.3</td>\n",
       "      <td>20484.4</td>\n",
       "      <td>136890.0</td>\n",
       "      <td>1.85</td>\n",
       "      <td>1.0</td>\n",
       "      <td>36.496257</td>\n",
       "    </tr>\n",
       "    <tr>\n",
       "      <th>4382</th>\n",
       "      <td>2022-07-17</td>\n",
       "      <td>20785.6</td>\n",
       "      <td>21209.8</td>\n",
       "      <td>21654.4</td>\n",
       "      <td>20755.2</td>\n",
       "      <td>132810.0</td>\n",
       "      <td>-2.00</td>\n",
       "      <td>0.0</td>\n",
       "      <td>35.321437</td>\n",
       "    </tr>\n",
       "    <tr>\n",
       "      <th>4383</th>\n",
       "      <td>2022-07-18</td>\n",
       "      <td>22525.8</td>\n",
       "      <td>20785.6</td>\n",
       "      <td>22714.9</td>\n",
       "      <td>20770.6</td>\n",
       "      <td>279720.0</td>\n",
       "      <td>8.37</td>\n",
       "      <td>1.0</td>\n",
       "      <td>34.129101</td>\n",
       "    </tr>\n",
       "    <tr>\n",
       "      <th>4384</th>\n",
       "      <td>2022-07-19</td>\n",
       "      <td>23410.2</td>\n",
       "      <td>22529.3</td>\n",
       "      <td>23757.3</td>\n",
       "      <td>21581.8</td>\n",
       "      <td>308910.0</td>\n",
       "      <td>3.93</td>\n",
       "      <td>1.0</td>\n",
       "      <td>33.441982</td>\n",
       "    </tr>\n",
       "    <tr>\n",
       "      <th>4385</th>\n",
       "      <td>2022-07-20</td>\n",
       "      <td>23149.1</td>\n",
       "      <td>23412.0</td>\n",
       "      <td>23429.9</td>\n",
       "      <td>22965.9</td>\n",
       "      <td>290210.0</td>\n",
       "      <td>-1.12</td>\n",
       "      <td>0.0</td>\n",
       "      <td>32.144501</td>\n",
       "    </tr>\n",
       "  </tbody>\n",
       "</table>\n",
       "</div>"
      ],
      "text/plain": [
       "            Date    Price     Open     High      Low      Vol.  \\\n",
       "4381  2022-07-16  21209.9  20825.2  21561.3  20484.4  136890.0   \n",
       "4382  2022-07-17  20785.6  21209.8  21654.4  20755.2  132810.0   \n",
       "4383  2022-07-18  22525.8  20785.6  22714.9  20770.6  279720.0   \n",
       "4384  2022-07-19  23410.2  22529.3  23757.3  21581.8  308910.0   \n",
       "4385  2022-07-20  23149.1  23412.0  23429.9  22965.9  290210.0   \n",
       "\n",
       "      Percentage_diff  Target       ADXR  \n",
       "4381             1.85     1.0  36.496257  \n",
       "4382            -2.00     0.0  35.321437  \n",
       "4383             8.37     1.0  34.129101  \n",
       "4384             3.93     1.0  33.441982  \n",
       "4385            -1.12     0.0  32.144501  "
      ]
     },
     "execution_count": 102,
     "metadata": {},
     "output_type": "execute_result"
    }
   ],
   "source": [
    "BTC_df_ADXR.tail()"
   ]
  },
  {
   "cell_type": "markdown",
   "metadata": {
    "id": "0Y7mW8fmeQmU"
   },
   "source": [
    "Estrategia de trading con ADXR\n",
    "\n",
    "* Cuando el ADXR supera los 25 pptos puede ser un buen momento para comprar el activo (se entiende que estaría empezando una tendencia alcista).\n",
    "* Cuando el ADXR cae por debajo de los 25 pptos puede  ser un buen momento para vender el activo (se entiende que estaría empezando una tendencia bajista o una tendencia lateral).\n",
    "* En el resto de los casos se recomienda mantener la última posición tomada."
   ]
  },
  {
   "cell_type": "code",
   "execution_count": 103,
   "metadata": {
    "id": "H_ecasQeeQmV"
   },
   "outputs": [],
   "source": [
    "BTC_df_ADXR_ET = BTC_df_ADXR.copy()"
   ]
  },
  {
   "cell_type": "code",
   "execution_count": 104,
   "metadata": {
    "id": "ddM6xAUjeQmW",
    "outputId": "6b8b6722-157b-4051-f327-f631aaf04868"
   },
   "outputs": [
    {
     "data": {
      "text/plain": [
       "Index(['Date', 'Price', 'Open', 'High', 'Low', 'Vol.', 'Percentage_diff',\n",
       "       'Target', 'ADXR'],\n",
       "      dtype='object')"
      ]
     },
     "execution_count": 104,
     "metadata": {},
     "output_type": "execute_result"
    }
   ],
   "source": [
    "BTC_df_ADXR_ET.columns"
   ]
  },
  {
   "cell_type": "code",
   "execution_count": 105,
   "metadata": {
    "id": "Qk1iJ_zAeQmW"
   },
   "outputs": [],
   "source": [
    "# Se aplica la estrategia de trading\n",
    "ADXR_ET_df = pd.DataFrame()\n",
    "ADXR_ET_df\n",
    "\n",
    "ADXR_ET = []\n",
    "\n",
    "x=0\n",
    "while x < len (BTC_df_ADXR_ET [\"Price\"]): \n",
    "    \n",
    "    if x<=50: # Porque utiliza 50 registros para calcular el ADXR (se necesita para equiparar con la base datos a la que se concatenará)\n",
    "        ADXR_ET.append (\"Mantener_posicion\")\n",
    "        \n",
    "    elif BTC_df_ADXR_ET [\"ADXR\"] [x] >= 25:\n",
    "        \n",
    "        if BTC_df_ADXR_ET [\"ADXR\"] [x-1] >=25:\n",
    "            ADXR_ET.append (\"Mantener_posicion\")\n",
    "            \n",
    "        elif BTC_df_ADXR_ET [\"ADXR\"] [x-1] < 25:\n",
    "            ADXR_ET.append (\"Comprar\")\n",
    "    \n",
    "    elif BTC_df_ADXR_ET [\"ADXR\"] [x] < 25:\n",
    "        \n",
    "        if BTC_df_ADXR_ET [\"ADXR\"] [x-1] >= 25:\n",
    "            ADXR_ET.append (\"Vender\")\n",
    "            \n",
    "        if BTC_df_ADXR_ET [\"ADXR\"] [x-1] < 25:\n",
    "            ADXR_ET.append (\"Mantener_posicion\")\n",
    "            \n",
    "        \n",
    "    x+=1\n",
    "    \n",
    "ADXR_ET_df [\"ADXR_ET\"] = pd.Series(ADXR_ET)"
   ]
  },
  {
   "cell_type": "code",
   "execution_count": 106,
   "metadata": {
    "id": "_q6LOXFBeQmY",
    "outputId": "51df0169-2c12-46b4-d621-187bad67ec25"
   },
   "outputs": [
    {
     "data": {
      "text/html": [
       "<div>\n",
       "<style scoped>\n",
       "    .dataframe tbody tr th:only-of-type {\n",
       "        vertical-align: middle;\n",
       "    }\n",
       "\n",
       "    .dataframe tbody tr th {\n",
       "        vertical-align: top;\n",
       "    }\n",
       "\n",
       "    .dataframe thead th {\n",
       "        text-align: right;\n",
       "    }\n",
       "</style>\n",
       "<table border=\"1\" class=\"dataframe\">\n",
       "  <thead>\n",
       "    <tr style=\"text-align: right;\">\n",
       "      <th></th>\n",
       "      <th>ADXR_ET</th>\n",
       "    </tr>\n",
       "  </thead>\n",
       "  <tbody>\n",
       "    <tr>\n",
       "      <th>4381</th>\n",
       "      <td>Mantener_posicion</td>\n",
       "    </tr>\n",
       "    <tr>\n",
       "      <th>4382</th>\n",
       "      <td>Mantener_posicion</td>\n",
       "    </tr>\n",
       "    <tr>\n",
       "      <th>4383</th>\n",
       "      <td>Mantener_posicion</td>\n",
       "    </tr>\n",
       "    <tr>\n",
       "      <th>4384</th>\n",
       "      <td>Mantener_posicion</td>\n",
       "    </tr>\n",
       "    <tr>\n",
       "      <th>4385</th>\n",
       "      <td>Mantener_posicion</td>\n",
       "    </tr>\n",
       "  </tbody>\n",
       "</table>\n",
       "</div>"
      ],
      "text/plain": [
       "                ADXR_ET\n",
       "4381  Mantener_posicion\n",
       "4382  Mantener_posicion\n",
       "4383  Mantener_posicion\n",
       "4384  Mantener_posicion\n",
       "4385  Mantener_posicion"
      ]
     },
     "execution_count": 106,
     "metadata": {},
     "output_type": "execute_result"
    }
   ],
   "source": [
    "ADXR_ET_df.tail()"
   ]
  },
  {
   "cell_type": "code",
   "execution_count": 107,
   "metadata": {
    "id": "HWEASYyueQmY",
    "outputId": "dd05cb24-ed16-44f8-eafd-579fc27924fc"
   },
   "outputs": [
    {
     "name": "stdout",
     "output_type": "stream",
     "text": [
      "<class 'pandas.core.frame.DataFrame'>\n",
      "RangeIndex: 4386 entries, 0 to 4385\n",
      "Data columns (total 1 columns):\n",
      " #   Column   Non-Null Count  Dtype \n",
      "---  ------   --------------  ----- \n",
      " 0   ADXR_ET  4386 non-null   object\n",
      "dtypes: object(1)\n",
      "memory usage: 34.4+ KB\n"
     ]
    }
   ],
   "source": [
    "ADXR_ET_df.info()"
   ]
  },
  {
   "cell_type": "markdown",
   "metadata": {},
   "source": [
    "Se concatena las columnas de la estrategia de trading a la tabla de BTC_df_ADXR_ET (ya posee los valores del indicador)."
   ]
  },
  {
   "cell_type": "code",
   "execution_count": 108,
   "metadata": {
    "id": "osmRwQoCeQmZ"
   },
   "outputs": [],
   "source": [
    "BTC_ADXR_ET_df = pd.concat ([BTC_df_ADXR_ET, ADXR_ET_df], axis=1)"
   ]
  },
  {
   "cell_type": "code",
   "execution_count": 109,
   "metadata": {
    "id": "7s6mplUveQmZ",
    "outputId": "a59d94df-3c5d-45c0-b631-5cb54ec0d2ec"
   },
   "outputs": [
    {
     "data": {
      "text/html": [
       "<div>\n",
       "<style scoped>\n",
       "    .dataframe tbody tr th:only-of-type {\n",
       "        vertical-align: middle;\n",
       "    }\n",
       "\n",
       "    .dataframe tbody tr th {\n",
       "        vertical-align: top;\n",
       "    }\n",
       "\n",
       "    .dataframe thead th {\n",
       "        text-align: right;\n",
       "    }\n",
       "</style>\n",
       "<table border=\"1\" class=\"dataframe\">\n",
       "  <thead>\n",
       "    <tr style=\"text-align: right;\">\n",
       "      <th></th>\n",
       "      <th>Date</th>\n",
       "      <th>Price</th>\n",
       "      <th>Open</th>\n",
       "      <th>High</th>\n",
       "      <th>Low</th>\n",
       "      <th>Vol.</th>\n",
       "      <th>Percentage_diff</th>\n",
       "      <th>Target</th>\n",
       "      <th>ADXR</th>\n",
       "      <th>ADXR_ET</th>\n",
       "    </tr>\n",
       "  </thead>\n",
       "  <tbody>\n",
       "    <tr>\n",
       "      <th>4381</th>\n",
       "      <td>2022-07-16</td>\n",
       "      <td>21209.9</td>\n",
       "      <td>20825.2</td>\n",
       "      <td>21561.3</td>\n",
       "      <td>20484.4</td>\n",
       "      <td>136890.0</td>\n",
       "      <td>1.85</td>\n",
       "      <td>1.0</td>\n",
       "      <td>36.496257</td>\n",
       "      <td>Mantener_posicion</td>\n",
       "    </tr>\n",
       "    <tr>\n",
       "      <th>4382</th>\n",
       "      <td>2022-07-17</td>\n",
       "      <td>20785.6</td>\n",
       "      <td>21209.8</td>\n",
       "      <td>21654.4</td>\n",
       "      <td>20755.2</td>\n",
       "      <td>132810.0</td>\n",
       "      <td>-2.00</td>\n",
       "      <td>0.0</td>\n",
       "      <td>35.321437</td>\n",
       "      <td>Mantener_posicion</td>\n",
       "    </tr>\n",
       "    <tr>\n",
       "      <th>4383</th>\n",
       "      <td>2022-07-18</td>\n",
       "      <td>22525.8</td>\n",
       "      <td>20785.6</td>\n",
       "      <td>22714.9</td>\n",
       "      <td>20770.6</td>\n",
       "      <td>279720.0</td>\n",
       "      <td>8.37</td>\n",
       "      <td>1.0</td>\n",
       "      <td>34.129101</td>\n",
       "      <td>Mantener_posicion</td>\n",
       "    </tr>\n",
       "    <tr>\n",
       "      <th>4384</th>\n",
       "      <td>2022-07-19</td>\n",
       "      <td>23410.2</td>\n",
       "      <td>22529.3</td>\n",
       "      <td>23757.3</td>\n",
       "      <td>21581.8</td>\n",
       "      <td>308910.0</td>\n",
       "      <td>3.93</td>\n",
       "      <td>1.0</td>\n",
       "      <td>33.441982</td>\n",
       "      <td>Mantener_posicion</td>\n",
       "    </tr>\n",
       "    <tr>\n",
       "      <th>4385</th>\n",
       "      <td>2022-07-20</td>\n",
       "      <td>23149.1</td>\n",
       "      <td>23412.0</td>\n",
       "      <td>23429.9</td>\n",
       "      <td>22965.9</td>\n",
       "      <td>290210.0</td>\n",
       "      <td>-1.12</td>\n",
       "      <td>0.0</td>\n",
       "      <td>32.144501</td>\n",
       "      <td>Mantener_posicion</td>\n",
       "    </tr>\n",
       "  </tbody>\n",
       "</table>\n",
       "</div>"
      ],
      "text/plain": [
       "            Date    Price     Open     High      Low      Vol.  \\\n",
       "4381  2022-07-16  21209.9  20825.2  21561.3  20484.4  136890.0   \n",
       "4382  2022-07-17  20785.6  21209.8  21654.4  20755.2  132810.0   \n",
       "4383  2022-07-18  22525.8  20785.6  22714.9  20770.6  279720.0   \n",
       "4384  2022-07-19  23410.2  22529.3  23757.3  21581.8  308910.0   \n",
       "4385  2022-07-20  23149.1  23412.0  23429.9  22965.9  290210.0   \n",
       "\n",
       "      Percentage_diff  Target       ADXR            ADXR_ET  \n",
       "4381             1.85     1.0  36.496257  Mantener_posicion  \n",
       "4382            -2.00     0.0  35.321437  Mantener_posicion  \n",
       "4383             8.37     1.0  34.129101  Mantener_posicion  \n",
       "4384             3.93     1.0  33.441982  Mantener_posicion  \n",
       "4385            -1.12     0.0  32.144501  Mantener_posicion  "
      ]
     },
     "execution_count": 109,
     "metadata": {},
     "output_type": "execute_result"
    }
   ],
   "source": [
    "BTC_ADXR_ET_df.tail()"
   ]
  },
  {
   "cell_type": "markdown",
   "metadata": {
    "id": "mRq41XvceQmZ"
   },
   "source": [
    "#### AROON - Aroon\n",
    "\n",
    "* Información (EN): https://www.investopedia.com/terms/a/aroon.asp"
   ]
  },
  {
   "cell_type": "code",
   "execution_count": 110,
   "metadata": {
    "id": "AWCsibDGeQma"
   },
   "outputs": [],
   "source": [
    "# Se crea un back up\n",
    "BTC_df_Aroon = BTC_df.copy ()"
   ]
  },
  {
   "cell_type": "code",
   "execution_count": 111,
   "metadata": {
    "id": "MpB_UnGoeQmh"
   },
   "outputs": [],
   "source": [
    "# Se calcula las dos variables principales del indicador Aroon\n",
    "BTC_df_Aroon [\"Aroondown\"], BTC_df_Aroon [\"Aroonup\"] = ta.AROON (BTC_df_Aroon [\"High\"], BTC_df_Aroon [\"Low\"], timeperiod=14)"
   ]
  },
  {
   "cell_type": "code",
   "execution_count": 112,
   "metadata": {
    "id": "ZImmvKfHeQmh",
    "outputId": "3456db7f-9f4a-4826-a9d7-67e099fc349b"
   },
   "outputs": [
    {
     "data": {
      "text/html": [
       "<div>\n",
       "<style scoped>\n",
       "    .dataframe tbody tr th:only-of-type {\n",
       "        vertical-align: middle;\n",
       "    }\n",
       "\n",
       "    .dataframe tbody tr th {\n",
       "        vertical-align: top;\n",
       "    }\n",
       "\n",
       "    .dataframe thead th {\n",
       "        text-align: right;\n",
       "    }\n",
       "</style>\n",
       "<table border=\"1\" class=\"dataframe\">\n",
       "  <thead>\n",
       "    <tr style=\"text-align: right;\">\n",
       "      <th></th>\n",
       "      <th>Date</th>\n",
       "      <th>Price</th>\n",
       "      <th>Open</th>\n",
       "      <th>High</th>\n",
       "      <th>Low</th>\n",
       "      <th>Vol.</th>\n",
       "      <th>Percentage_diff</th>\n",
       "      <th>Target</th>\n",
       "      <th>Aroondown</th>\n",
       "      <th>Aroonup</th>\n",
       "    </tr>\n",
       "  </thead>\n",
       "  <tbody>\n",
       "    <tr>\n",
       "      <th>4381</th>\n",
       "      <td>2022-07-16</td>\n",
       "      <td>21209.9</td>\n",
       "      <td>20825.2</td>\n",
       "      <td>21561.3</td>\n",
       "      <td>20484.4</td>\n",
       "      <td>136890.0</td>\n",
       "      <td>1.85</td>\n",
       "      <td>1.0</td>\n",
       "      <td>7.142857</td>\n",
       "      <td>42.857143</td>\n",
       "    </tr>\n",
       "    <tr>\n",
       "      <th>4382</th>\n",
       "      <td>2022-07-17</td>\n",
       "      <td>20785.6</td>\n",
       "      <td>21209.8</td>\n",
       "      <td>21654.4</td>\n",
       "      <td>20755.2</td>\n",
       "      <td>132810.0</td>\n",
       "      <td>-2.00</td>\n",
       "      <td>0.0</td>\n",
       "      <td>0.000000</td>\n",
       "      <td>35.714286</td>\n",
       "    </tr>\n",
       "    <tr>\n",
       "      <th>4383</th>\n",
       "      <td>2022-07-18</td>\n",
       "      <td>22525.8</td>\n",
       "      <td>20785.6</td>\n",
       "      <td>22714.9</td>\n",
       "      <td>20770.6</td>\n",
       "      <td>279720.0</td>\n",
       "      <td>8.37</td>\n",
       "      <td>1.0</td>\n",
       "      <td>64.285714</td>\n",
       "      <td>100.000000</td>\n",
       "    </tr>\n",
       "    <tr>\n",
       "      <th>4384</th>\n",
       "      <td>2022-07-19</td>\n",
       "      <td>23410.2</td>\n",
       "      <td>22529.3</td>\n",
       "      <td>23757.3</td>\n",
       "      <td>21581.8</td>\n",
       "      <td>308910.0</td>\n",
       "      <td>3.93</td>\n",
       "      <td>1.0</td>\n",
       "      <td>57.142857</td>\n",
       "      <td>100.000000</td>\n",
       "    </tr>\n",
       "    <tr>\n",
       "      <th>4385</th>\n",
       "      <td>2022-07-20</td>\n",
       "      <td>23149.1</td>\n",
       "      <td>23412.0</td>\n",
       "      <td>23429.9</td>\n",
       "      <td>22965.9</td>\n",
       "      <td>290210.0</td>\n",
       "      <td>-1.12</td>\n",
       "      <td>0.0</td>\n",
       "      <td>50.000000</td>\n",
       "      <td>92.857143</td>\n",
       "    </tr>\n",
       "  </tbody>\n",
       "</table>\n",
       "</div>"
      ],
      "text/plain": [
       "            Date    Price     Open     High      Low      Vol.  \\\n",
       "4381  2022-07-16  21209.9  20825.2  21561.3  20484.4  136890.0   \n",
       "4382  2022-07-17  20785.6  21209.8  21654.4  20755.2  132810.0   \n",
       "4383  2022-07-18  22525.8  20785.6  22714.9  20770.6  279720.0   \n",
       "4384  2022-07-19  23410.2  22529.3  23757.3  21581.8  308910.0   \n",
       "4385  2022-07-20  23149.1  23412.0  23429.9  22965.9  290210.0   \n",
       "\n",
       "      Percentage_diff  Target  Aroondown     Aroonup  \n",
       "4381             1.85     1.0   7.142857   42.857143  \n",
       "4382            -2.00     0.0   0.000000   35.714286  \n",
       "4383             8.37     1.0  64.285714  100.000000  \n",
       "4384             3.93     1.0  57.142857  100.000000  \n",
       "4385            -1.12     0.0  50.000000   92.857143  "
      ]
     },
     "execution_count": 112,
     "metadata": {},
     "output_type": "execute_result"
    }
   ],
   "source": [
    "BTC_df_Aroon.tail()"
   ]
  },
  {
   "cell_type": "code",
   "execution_count": 113,
   "metadata": {
    "id": "J0xH3piweQmi"
   },
   "outputs": [],
   "source": [
    "# Se calcula el indicador Aroon\n",
    "BTC_df_Aroon [\"Aroon_Oscillator\"] = ta.AROONOSC (BTC_df_Aroon [\"High\"], BTC_df_Aroon [\"Low\"], timeperiod=14)"
   ]
  },
  {
   "cell_type": "code",
   "execution_count": 114,
   "metadata": {
    "id": "bgXfDNP5eQmi",
    "outputId": "59f1df60-29d8-4a24-9c54-035e0e1baa56"
   },
   "outputs": [
    {
     "data": {
      "text/html": [
       "<div>\n",
       "<style scoped>\n",
       "    .dataframe tbody tr th:only-of-type {\n",
       "        vertical-align: middle;\n",
       "    }\n",
       "\n",
       "    .dataframe tbody tr th {\n",
       "        vertical-align: top;\n",
       "    }\n",
       "\n",
       "    .dataframe thead th {\n",
       "        text-align: right;\n",
       "    }\n",
       "</style>\n",
       "<table border=\"1\" class=\"dataframe\">\n",
       "  <thead>\n",
       "    <tr style=\"text-align: right;\">\n",
       "      <th></th>\n",
       "      <th>Date</th>\n",
       "      <th>Price</th>\n",
       "      <th>Open</th>\n",
       "      <th>High</th>\n",
       "      <th>Low</th>\n",
       "      <th>Vol.</th>\n",
       "      <th>Percentage_diff</th>\n",
       "      <th>Target</th>\n",
       "      <th>Aroondown</th>\n",
       "      <th>Aroonup</th>\n",
       "      <th>Aroon_Oscillator</th>\n",
       "    </tr>\n",
       "  </thead>\n",
       "  <tbody>\n",
       "    <tr>\n",
       "      <th>4381</th>\n",
       "      <td>2022-07-16</td>\n",
       "      <td>21209.9</td>\n",
       "      <td>20825.2</td>\n",
       "      <td>21561.3</td>\n",
       "      <td>20484.4</td>\n",
       "      <td>136890.0</td>\n",
       "      <td>1.85</td>\n",
       "      <td>1.0</td>\n",
       "      <td>7.142857</td>\n",
       "      <td>42.857143</td>\n",
       "      <td>35.714286</td>\n",
       "    </tr>\n",
       "    <tr>\n",
       "      <th>4382</th>\n",
       "      <td>2022-07-17</td>\n",
       "      <td>20785.6</td>\n",
       "      <td>21209.8</td>\n",
       "      <td>21654.4</td>\n",
       "      <td>20755.2</td>\n",
       "      <td>132810.0</td>\n",
       "      <td>-2.00</td>\n",
       "      <td>0.0</td>\n",
       "      <td>0.000000</td>\n",
       "      <td>35.714286</td>\n",
       "      <td>35.714286</td>\n",
       "    </tr>\n",
       "    <tr>\n",
       "      <th>4383</th>\n",
       "      <td>2022-07-18</td>\n",
       "      <td>22525.8</td>\n",
       "      <td>20785.6</td>\n",
       "      <td>22714.9</td>\n",
       "      <td>20770.6</td>\n",
       "      <td>279720.0</td>\n",
       "      <td>8.37</td>\n",
       "      <td>1.0</td>\n",
       "      <td>64.285714</td>\n",
       "      <td>100.000000</td>\n",
       "      <td>35.714286</td>\n",
       "    </tr>\n",
       "    <tr>\n",
       "      <th>4384</th>\n",
       "      <td>2022-07-19</td>\n",
       "      <td>23410.2</td>\n",
       "      <td>22529.3</td>\n",
       "      <td>23757.3</td>\n",
       "      <td>21581.8</td>\n",
       "      <td>308910.0</td>\n",
       "      <td>3.93</td>\n",
       "      <td>1.0</td>\n",
       "      <td>57.142857</td>\n",
       "      <td>100.000000</td>\n",
       "      <td>42.857143</td>\n",
       "    </tr>\n",
       "    <tr>\n",
       "      <th>4385</th>\n",
       "      <td>2022-07-20</td>\n",
       "      <td>23149.1</td>\n",
       "      <td>23412.0</td>\n",
       "      <td>23429.9</td>\n",
       "      <td>22965.9</td>\n",
       "      <td>290210.0</td>\n",
       "      <td>-1.12</td>\n",
       "      <td>0.0</td>\n",
       "      <td>50.000000</td>\n",
       "      <td>92.857143</td>\n",
       "      <td>42.857143</td>\n",
       "    </tr>\n",
       "  </tbody>\n",
       "</table>\n",
       "</div>"
      ],
      "text/plain": [
       "            Date    Price     Open     High      Low      Vol.  \\\n",
       "4381  2022-07-16  21209.9  20825.2  21561.3  20484.4  136890.0   \n",
       "4382  2022-07-17  20785.6  21209.8  21654.4  20755.2  132810.0   \n",
       "4383  2022-07-18  22525.8  20785.6  22714.9  20770.6  279720.0   \n",
       "4384  2022-07-19  23410.2  22529.3  23757.3  21581.8  308910.0   \n",
       "4385  2022-07-20  23149.1  23412.0  23429.9  22965.9  290210.0   \n",
       "\n",
       "      Percentage_diff  Target  Aroondown     Aroonup  Aroon_Oscillator  \n",
       "4381             1.85     1.0   7.142857   42.857143         35.714286  \n",
       "4382            -2.00     0.0   0.000000   35.714286         35.714286  \n",
       "4383             8.37     1.0  64.285714  100.000000         35.714286  \n",
       "4384             3.93     1.0  57.142857  100.000000         42.857143  \n",
       "4385            -1.12     0.0  50.000000   92.857143         42.857143  "
      ]
     },
     "execution_count": 114,
     "metadata": {},
     "output_type": "execute_result"
    }
   ],
   "source": [
    "BTC_df_Aroon.tail()"
   ]
  },
  {
   "cell_type": "markdown",
   "metadata": {},
   "source": [
    "Observaciones:\n",
    "- Por si solo no suele utilizarse como estrategia de trading. Suele confirmar sobrecompras/ventas y puntos de inflexión."
   ]
  },
  {
   "cell_type": "markdown",
   "metadata": {
    "id": "NAgD9TGKeQmi"
   },
   "source": [
    "#### MACD - Moving Average Convergence/Divergence\n",
    "\n",
    "* Información (EN): https://www.investopedia.com/terms/m/macd.asp"
   ]
  },
  {
   "cell_type": "code",
   "execution_count": 115,
   "metadata": {
    "id": "oHZNo4NGeQmj"
   },
   "outputs": [],
   "source": [
    "# Se realiza un back up\n",
    "BTC_df_MACD = BTC_df.copy()"
   ]
  },
  {
   "cell_type": "code",
   "execution_count": 116,
   "metadata": {
    "id": "iafHtOB-eQmk"
   },
   "outputs": [],
   "source": [
    "# Se calcular los diferentes componentes del indicador MACD\n",
    "BTC_df_MACD [\"MACD\"], BTC_df_MACD [\"MACDSIGNAL\"], BTC_df_MACD [\"MACDHIST\"] = ta.MACD(BTC_df_MACD [\"Price\"], fastperiod=12, slowperiod=26, signalperiod=9)"
   ]
  },
  {
   "cell_type": "code",
   "execution_count": 117,
   "metadata": {
    "id": "zwgfcKRdeQmk",
    "outputId": "2e99b744-b725-4187-b499-b4cc961d9ecc"
   },
   "outputs": [
    {
     "data": {
      "text/html": [
       "<div>\n",
       "<style scoped>\n",
       "    .dataframe tbody tr th:only-of-type {\n",
       "        vertical-align: middle;\n",
       "    }\n",
       "\n",
       "    .dataframe tbody tr th {\n",
       "        vertical-align: top;\n",
       "    }\n",
       "\n",
       "    .dataframe thead th {\n",
       "        text-align: right;\n",
       "    }\n",
       "</style>\n",
       "<table border=\"1\" class=\"dataframe\">\n",
       "  <thead>\n",
       "    <tr style=\"text-align: right;\">\n",
       "      <th></th>\n",
       "      <th>Date</th>\n",
       "      <th>Price</th>\n",
       "      <th>Open</th>\n",
       "      <th>High</th>\n",
       "      <th>Low</th>\n",
       "      <th>Vol.</th>\n",
       "      <th>Percentage_diff</th>\n",
       "      <th>Target</th>\n",
       "      <th>MACD</th>\n",
       "      <th>MACDSIGNAL</th>\n",
       "      <th>MACDHIST</th>\n",
       "    </tr>\n",
       "  </thead>\n",
       "  <tbody>\n",
       "    <tr>\n",
       "      <th>4381</th>\n",
       "      <td>2022-07-16</td>\n",
       "      <td>21209.9</td>\n",
       "      <td>20825.2</td>\n",
       "      <td>21561.3</td>\n",
       "      <td>20484.4</td>\n",
       "      <td>136890.0</td>\n",
       "      <td>1.85</td>\n",
       "      <td>1.0</td>\n",
       "      <td>-636.592931</td>\n",
       "      <td>-960.502376</td>\n",
       "      <td>323.909445</td>\n",
       "    </tr>\n",
       "    <tr>\n",
       "      <th>4382</th>\n",
       "      <td>2022-07-17</td>\n",
       "      <td>20785.6</td>\n",
       "      <td>21209.8</td>\n",
       "      <td>21654.4</td>\n",
       "      <td>20755.2</td>\n",
       "      <td>132810.0</td>\n",
       "      <td>-2.00</td>\n",
       "      <td>0.0</td>\n",
       "      <td>-577.232483</td>\n",
       "      <td>-883.848398</td>\n",
       "      <td>306.615914</td>\n",
       "    </tr>\n",
       "    <tr>\n",
       "      <th>4383</th>\n",
       "      <td>2022-07-18</td>\n",
       "      <td>22525.8</td>\n",
       "      <td>20785.6</td>\n",
       "      <td>22714.9</td>\n",
       "      <td>20770.6</td>\n",
       "      <td>279720.0</td>\n",
       "      <td>8.37</td>\n",
       "      <td>1.0</td>\n",
       "      <td>-385.327489</td>\n",
       "      <td>-784.144216</td>\n",
       "      <td>398.816727</td>\n",
       "    </tr>\n",
       "    <tr>\n",
       "      <th>4384</th>\n",
       "      <td>2022-07-19</td>\n",
       "      <td>23410.2</td>\n",
       "      <td>22529.3</td>\n",
       "      <td>23757.3</td>\n",
       "      <td>21581.8</td>\n",
       "      <td>308910.0</td>\n",
       "      <td>3.93</td>\n",
       "      <td>1.0</td>\n",
       "      <td>-160.032949</td>\n",
       "      <td>-659.321963</td>\n",
       "      <td>499.289013</td>\n",
       "    </tr>\n",
       "    <tr>\n",
       "      <th>4385</th>\n",
       "      <td>2022-07-20</td>\n",
       "      <td>23149.1</td>\n",
       "      <td>23412.0</td>\n",
       "      <td>23429.9</td>\n",
       "      <td>22965.9</td>\n",
       "      <td>290210.0</td>\n",
       "      <td>-1.12</td>\n",
       "      <td>0.0</td>\n",
       "      <td>-2.524886</td>\n",
       "      <td>-527.962547</td>\n",
       "      <td>525.437661</td>\n",
       "    </tr>\n",
       "  </tbody>\n",
       "</table>\n",
       "</div>"
      ],
      "text/plain": [
       "            Date    Price     Open     High      Low      Vol.  \\\n",
       "4381  2022-07-16  21209.9  20825.2  21561.3  20484.4  136890.0   \n",
       "4382  2022-07-17  20785.6  21209.8  21654.4  20755.2  132810.0   \n",
       "4383  2022-07-18  22525.8  20785.6  22714.9  20770.6  279720.0   \n",
       "4384  2022-07-19  23410.2  22529.3  23757.3  21581.8  308910.0   \n",
       "4385  2022-07-20  23149.1  23412.0  23429.9  22965.9  290210.0   \n",
       "\n",
       "      Percentage_diff  Target        MACD  MACDSIGNAL    MACDHIST  \n",
       "4381             1.85     1.0 -636.592931 -960.502376  323.909445  \n",
       "4382            -2.00     0.0 -577.232483 -883.848398  306.615914  \n",
       "4383             8.37     1.0 -385.327489 -784.144216  398.816727  \n",
       "4384             3.93     1.0 -160.032949 -659.321963  499.289013  \n",
       "4385            -1.12     0.0   -2.524886 -527.962547  525.437661  "
      ]
     },
     "execution_count": 117,
     "metadata": {},
     "output_type": "execute_result"
    }
   ],
   "source": [
    "BTC_df_MACD.tail()"
   ]
  },
  {
   "cell_type": "markdown",
   "metadata": {
    "id": "TnXfExSqeQml"
   },
   "source": [
    "Estrategia de trading de MACD\n",
    "\n",
    "* Se entiende que cuando el MACDSIGANL cae por debajo del MACD puede ser un buen momento para comprar (Sobreventa)\n",
    "* Se entiende que cuando el MACDSIGANL cae por debajo del MACD puede ser un buen momento para vender (Sobrecompra).\n",
    "* En ninguno de los casos anteriores se recomienda mantener la última posición tomada (No parece haber cambio tendencial)."
   ]
  },
  {
   "cell_type": "code",
   "execution_count": 118,
   "metadata": {
    "id": "A5TobzmleQml"
   },
   "outputs": [],
   "source": [
    "BTC_df_MACD_ET = BTC_df_MACD.copy()"
   ]
  },
  {
   "cell_type": "code",
   "execution_count": 119,
   "metadata": {
    "id": "y1Xccx-LeQmm",
    "outputId": "ab4bcf2a-91ac-4af5-f547-9af9109b3a6b"
   },
   "outputs": [
    {
     "data": {
      "text/plain": [
       "Index(['Date', 'Price', 'Open', 'High', 'Low', 'Vol.', 'Percentage_diff',\n",
       "       'Target', 'MACD', 'MACDSIGNAL', 'MACDHIST'],\n",
       "      dtype='object')"
      ]
     },
     "execution_count": 119,
     "metadata": {},
     "output_type": "execute_result"
    }
   ],
   "source": [
    "BTC_df_MACD_ET.columns"
   ]
  },
  {
   "cell_type": "code",
   "execution_count": 120,
   "metadata": {
    "id": "eovGYkkteQmm"
   },
   "outputs": [],
   "source": [
    "# Se aplica la estrategia de trading\n",
    "MACD_ET_df = pd.DataFrame()\n",
    "MACD_ET_df\n",
    "\n",
    "MACD_ET = []\n",
    "\n",
    "x=0\n",
    "while x < len (BTC_df_MACD_ET [\"Price\"]): \n",
    "        \n",
    "    if x==0:\n",
    "        MACD_ET.append (\"Mantener_posicion\")\n",
    "        \n",
    "    elif (BTC_df_MACD_ET ['MACDSIGNAL'] [x-1] > BTC_df_MACD_ET ['MACD'] [x-1]) and (BTC_df_MACD_ET ['MACDSIGNAL'] [x] < BTC_df_MACD_ET ['MACD'] [x]):\n",
    "        MACD_ET.append (\"Comprar\")\n",
    "            \n",
    "    elif (BTC_df_MACD_ET ['MACDSIGNAL'] [x-1] < BTC_df_MACD_ET ['MACD'] [x-1]) and (BTC_df_MACD_ET ['MACDSIGNAL'] [x] > BTC_df_MACD_ET ['MACD'] [x]):\n",
    "        MACD_ET.append (\"Vender\")\n",
    "            \n",
    "    else:\n",
    "        MACD_ET.append (\"Mantener_posicion\")\n",
    "            \n",
    "        \n",
    "    x+=1\n",
    "    \n",
    "MACD_ET_df [\"MACD_ET\"] = pd.Series(MACD_ET)"
   ]
  },
  {
   "cell_type": "code",
   "execution_count": 121,
   "metadata": {
    "id": "pPh2Bkt2eQmm",
    "outputId": "25a6b630-34f4-4491-f7e1-dc8a23ed6c56"
   },
   "outputs": [
    {
     "data": {
      "text/html": [
       "<div>\n",
       "<style scoped>\n",
       "    .dataframe tbody tr th:only-of-type {\n",
       "        vertical-align: middle;\n",
       "    }\n",
       "\n",
       "    .dataframe tbody tr th {\n",
       "        vertical-align: top;\n",
       "    }\n",
       "\n",
       "    .dataframe thead th {\n",
       "        text-align: right;\n",
       "    }\n",
       "</style>\n",
       "<table border=\"1\" class=\"dataframe\">\n",
       "  <thead>\n",
       "    <tr style=\"text-align: right;\">\n",
       "      <th></th>\n",
       "      <th>MACD_ET</th>\n",
       "    </tr>\n",
       "  </thead>\n",
       "  <tbody>\n",
       "    <tr>\n",
       "      <th>4381</th>\n",
       "      <td>Mantener_posicion</td>\n",
       "    </tr>\n",
       "    <tr>\n",
       "      <th>4382</th>\n",
       "      <td>Mantener_posicion</td>\n",
       "    </tr>\n",
       "    <tr>\n",
       "      <th>4383</th>\n",
       "      <td>Mantener_posicion</td>\n",
       "    </tr>\n",
       "    <tr>\n",
       "      <th>4384</th>\n",
       "      <td>Mantener_posicion</td>\n",
       "    </tr>\n",
       "    <tr>\n",
       "      <th>4385</th>\n",
       "      <td>Mantener_posicion</td>\n",
       "    </tr>\n",
       "  </tbody>\n",
       "</table>\n",
       "</div>"
      ],
      "text/plain": [
       "                MACD_ET\n",
       "4381  Mantener_posicion\n",
       "4382  Mantener_posicion\n",
       "4383  Mantener_posicion\n",
       "4384  Mantener_posicion\n",
       "4385  Mantener_posicion"
      ]
     },
     "execution_count": 121,
     "metadata": {},
     "output_type": "execute_result"
    }
   ],
   "source": [
    "MACD_ET_df.tail()"
   ]
  },
  {
   "cell_type": "markdown",
   "metadata": {},
   "source": [
    "Se concatena las columnas de la estrategia de trading a la tabla de BTC_df_MACD_ET (ya posee los valores del indicador)."
   ]
  },
  {
   "cell_type": "code",
   "execution_count": 122,
   "metadata": {
    "id": "JKPkOS6JeQmn"
   },
   "outputs": [],
   "source": [
    "BTC_MACD_ET_df = pd.concat ([BTC_df_MACD_ET, MACD_ET_df], axis=1)"
   ]
  },
  {
   "cell_type": "code",
   "execution_count": 123,
   "metadata": {
    "id": "BJimDSo0eQmo",
    "outputId": "e8ce7a69-1d13-47e5-fe89-418ab283d5be"
   },
   "outputs": [
    {
     "data": {
      "text/html": [
       "<div>\n",
       "<style scoped>\n",
       "    .dataframe tbody tr th:only-of-type {\n",
       "        vertical-align: middle;\n",
       "    }\n",
       "\n",
       "    .dataframe tbody tr th {\n",
       "        vertical-align: top;\n",
       "    }\n",
       "\n",
       "    .dataframe thead th {\n",
       "        text-align: right;\n",
       "    }\n",
       "</style>\n",
       "<table border=\"1\" class=\"dataframe\">\n",
       "  <thead>\n",
       "    <tr style=\"text-align: right;\">\n",
       "      <th></th>\n",
       "      <th>Date</th>\n",
       "      <th>Price</th>\n",
       "      <th>Open</th>\n",
       "      <th>High</th>\n",
       "      <th>Low</th>\n",
       "      <th>Vol.</th>\n",
       "      <th>Percentage_diff</th>\n",
       "      <th>Target</th>\n",
       "      <th>MACD</th>\n",
       "      <th>MACDSIGNAL</th>\n",
       "      <th>MACDHIST</th>\n",
       "      <th>MACD_ET</th>\n",
       "    </tr>\n",
       "  </thead>\n",
       "  <tbody>\n",
       "    <tr>\n",
       "      <th>4381</th>\n",
       "      <td>2022-07-16</td>\n",
       "      <td>21209.9</td>\n",
       "      <td>20825.2</td>\n",
       "      <td>21561.3</td>\n",
       "      <td>20484.4</td>\n",
       "      <td>136890.0</td>\n",
       "      <td>1.85</td>\n",
       "      <td>1.0</td>\n",
       "      <td>-636.592931</td>\n",
       "      <td>-960.502376</td>\n",
       "      <td>323.909445</td>\n",
       "      <td>Mantener_posicion</td>\n",
       "    </tr>\n",
       "    <tr>\n",
       "      <th>4382</th>\n",
       "      <td>2022-07-17</td>\n",
       "      <td>20785.6</td>\n",
       "      <td>21209.8</td>\n",
       "      <td>21654.4</td>\n",
       "      <td>20755.2</td>\n",
       "      <td>132810.0</td>\n",
       "      <td>-2.00</td>\n",
       "      <td>0.0</td>\n",
       "      <td>-577.232483</td>\n",
       "      <td>-883.848398</td>\n",
       "      <td>306.615914</td>\n",
       "      <td>Mantener_posicion</td>\n",
       "    </tr>\n",
       "    <tr>\n",
       "      <th>4383</th>\n",
       "      <td>2022-07-18</td>\n",
       "      <td>22525.8</td>\n",
       "      <td>20785.6</td>\n",
       "      <td>22714.9</td>\n",
       "      <td>20770.6</td>\n",
       "      <td>279720.0</td>\n",
       "      <td>8.37</td>\n",
       "      <td>1.0</td>\n",
       "      <td>-385.327489</td>\n",
       "      <td>-784.144216</td>\n",
       "      <td>398.816727</td>\n",
       "      <td>Mantener_posicion</td>\n",
       "    </tr>\n",
       "    <tr>\n",
       "      <th>4384</th>\n",
       "      <td>2022-07-19</td>\n",
       "      <td>23410.2</td>\n",
       "      <td>22529.3</td>\n",
       "      <td>23757.3</td>\n",
       "      <td>21581.8</td>\n",
       "      <td>308910.0</td>\n",
       "      <td>3.93</td>\n",
       "      <td>1.0</td>\n",
       "      <td>-160.032949</td>\n",
       "      <td>-659.321963</td>\n",
       "      <td>499.289013</td>\n",
       "      <td>Mantener_posicion</td>\n",
       "    </tr>\n",
       "    <tr>\n",
       "      <th>4385</th>\n",
       "      <td>2022-07-20</td>\n",
       "      <td>23149.1</td>\n",
       "      <td>23412.0</td>\n",
       "      <td>23429.9</td>\n",
       "      <td>22965.9</td>\n",
       "      <td>290210.0</td>\n",
       "      <td>-1.12</td>\n",
       "      <td>0.0</td>\n",
       "      <td>-2.524886</td>\n",
       "      <td>-527.962547</td>\n",
       "      <td>525.437661</td>\n",
       "      <td>Mantener_posicion</td>\n",
       "    </tr>\n",
       "  </tbody>\n",
       "</table>\n",
       "</div>"
      ],
      "text/plain": [
       "            Date    Price     Open     High      Low      Vol.  \\\n",
       "4381  2022-07-16  21209.9  20825.2  21561.3  20484.4  136890.0   \n",
       "4382  2022-07-17  20785.6  21209.8  21654.4  20755.2  132810.0   \n",
       "4383  2022-07-18  22525.8  20785.6  22714.9  20770.6  279720.0   \n",
       "4384  2022-07-19  23410.2  22529.3  23757.3  21581.8  308910.0   \n",
       "4385  2022-07-20  23149.1  23412.0  23429.9  22965.9  290210.0   \n",
       "\n",
       "      Percentage_diff  Target        MACD  MACDSIGNAL    MACDHIST  \\\n",
       "4381             1.85     1.0 -636.592931 -960.502376  323.909445   \n",
       "4382            -2.00     0.0 -577.232483 -883.848398  306.615914   \n",
       "4383             8.37     1.0 -385.327489 -784.144216  398.816727   \n",
       "4384             3.93     1.0 -160.032949 -659.321963  499.289013   \n",
       "4385            -1.12     0.0   -2.524886 -527.962547  525.437661   \n",
       "\n",
       "                MACD_ET  \n",
       "4381  Mantener_posicion  \n",
       "4382  Mantener_posicion  \n",
       "4383  Mantener_posicion  \n",
       "4384  Mantener_posicion  \n",
       "4385  Mantener_posicion  "
      ]
     },
     "execution_count": 123,
     "metadata": {},
     "output_type": "execute_result"
    }
   ],
   "source": [
    "BTC_MACD_ET_df.tail()"
   ]
  },
  {
   "cell_type": "markdown",
   "metadata": {
    "id": "r0B05rPweQmp"
   },
   "source": [
    "#### Momentum (MOM)\n",
    "\n",
    "* Información (EN): https://www.investopedia.com/investing/momentum-and-relative-strength-index/"
   ]
  },
  {
   "cell_type": "code",
   "execution_count": 124,
   "metadata": {
    "id": "6jMa3KlKeQmp"
   },
   "outputs": [],
   "source": [
    "# Se crea un back up\n",
    "BTC_df_MOM = BTC_df.copy()"
   ]
  },
  {
   "cell_type": "code",
   "execution_count": 125,
   "metadata": {
    "id": "GaMxgRGseQmp"
   },
   "outputs": [],
   "source": [
    "# Se calcula el indicador\n",
    "BTC_df_MOM [\"MOM\"] = ta.MOM (BTC_df_MOM [\"Price\"], timeperiod=10)"
   ]
  },
  {
   "cell_type": "code",
   "execution_count": 126,
   "metadata": {
    "id": "Z0AA-ANOeQmq",
    "outputId": "8f8e4af0-5eaf-439a-9e47-820cb0ee4e73"
   },
   "outputs": [
    {
     "data": {
      "text/html": [
       "<div>\n",
       "<style scoped>\n",
       "    .dataframe tbody tr th:only-of-type {\n",
       "        vertical-align: middle;\n",
       "    }\n",
       "\n",
       "    .dataframe tbody tr th {\n",
       "        vertical-align: top;\n",
       "    }\n",
       "\n",
       "    .dataframe thead th {\n",
       "        text-align: right;\n",
       "    }\n",
       "</style>\n",
       "<table border=\"1\" class=\"dataframe\">\n",
       "  <thead>\n",
       "    <tr style=\"text-align: right;\">\n",
       "      <th></th>\n",
       "      <th>Date</th>\n",
       "      <th>Price</th>\n",
       "      <th>Open</th>\n",
       "      <th>High</th>\n",
       "      <th>Low</th>\n",
       "      <th>Vol.</th>\n",
       "      <th>Percentage_diff</th>\n",
       "      <th>Target</th>\n",
       "      <th>MOM</th>\n",
       "    </tr>\n",
       "  </thead>\n",
       "  <tbody>\n",
       "    <tr>\n",
       "      <th>4381</th>\n",
       "      <td>2022-07-16</td>\n",
       "      <td>21209.9</td>\n",
       "      <td>20825.2</td>\n",
       "      <td>21561.3</td>\n",
       "      <td>20484.4</td>\n",
       "      <td>136890.0</td>\n",
       "      <td>1.85</td>\n",
       "      <td>1.0</td>\n",
       "      <td>648.8</td>\n",
       "    </tr>\n",
       "    <tr>\n",
       "      <th>4382</th>\n",
       "      <td>2022-07-17</td>\n",
       "      <td>20785.6</td>\n",
       "      <td>21209.8</td>\n",
       "      <td>21654.4</td>\n",
       "      <td>20755.2</td>\n",
       "      <td>132810.0</td>\n",
       "      <td>-2.00</td>\n",
       "      <td>0.0</td>\n",
       "      <td>-852.2</td>\n",
       "    </tr>\n",
       "    <tr>\n",
       "      <th>4383</th>\n",
       "      <td>2022-07-18</td>\n",
       "      <td>22525.8</td>\n",
       "      <td>20785.6</td>\n",
       "      <td>22714.9</td>\n",
       "      <td>20770.6</td>\n",
       "      <td>279720.0</td>\n",
       "      <td>8.37</td>\n",
       "      <td>1.0</td>\n",
       "      <td>914.6</td>\n",
       "    </tr>\n",
       "    <tr>\n",
       "      <th>4384</th>\n",
       "      <td>2022-07-19</td>\n",
       "      <td>23410.2</td>\n",
       "      <td>22529.3</td>\n",
       "      <td>23757.3</td>\n",
       "      <td>21581.8</td>\n",
       "      <td>308910.0</td>\n",
       "      <td>3.93</td>\n",
       "      <td>1.0</td>\n",
       "      <td>1822.7</td>\n",
       "    </tr>\n",
       "    <tr>\n",
       "      <th>4385</th>\n",
       "      <td>2022-07-20</td>\n",
       "      <td>23149.1</td>\n",
       "      <td>23412.0</td>\n",
       "      <td>23429.9</td>\n",
       "      <td>22965.9</td>\n",
       "      <td>290210.0</td>\n",
       "      <td>-1.12</td>\n",
       "      <td>0.0</td>\n",
       "      <td>2301.7</td>\n",
       "    </tr>\n",
       "  </tbody>\n",
       "</table>\n",
       "</div>"
      ],
      "text/plain": [
       "            Date    Price     Open     High      Low      Vol.  \\\n",
       "4381  2022-07-16  21209.9  20825.2  21561.3  20484.4  136890.0   \n",
       "4382  2022-07-17  20785.6  21209.8  21654.4  20755.2  132810.0   \n",
       "4383  2022-07-18  22525.8  20785.6  22714.9  20770.6  279720.0   \n",
       "4384  2022-07-19  23410.2  22529.3  23757.3  21581.8  308910.0   \n",
       "4385  2022-07-20  23149.1  23412.0  23429.9  22965.9  290210.0   \n",
       "\n",
       "      Percentage_diff  Target     MOM  \n",
       "4381             1.85     1.0   648.8  \n",
       "4382            -2.00     0.0  -852.2  \n",
       "4383             8.37     1.0   914.6  \n",
       "4384             3.93     1.0  1822.7  \n",
       "4385            -1.12     0.0  2301.7  "
      ]
     },
     "execution_count": 126,
     "metadata": {},
     "output_type": "execute_result"
    }
   ],
   "source": [
    "BTC_df_MOM.tail()"
   ]
  },
  {
   "cell_type": "markdown",
   "metadata": {},
   "source": [
    "Observaciones:\n",
    "- No se utilizará para calcular una estrategia de trading."
   ]
  },
  {
   "cell_type": "markdown",
   "metadata": {
    "id": "JZ-JgHYpeQmq"
   },
   "source": [
    "#### ROC - Rate of change\n",
    "\n",
    "* Información (EN): https://www.investopedia.com/terms/r/rateofchange.asp"
   ]
  },
  {
   "cell_type": "code",
   "execution_count": 127,
   "metadata": {
    "id": "DZTtabZKeQmr"
   },
   "outputs": [],
   "source": [
    "# Se crea back up\n",
    "BTC_df_ROC = BTC_df.copy()"
   ]
  },
  {
   "cell_type": "code",
   "execution_count": 128,
   "metadata": {
    "id": "youwNPl6eQmr"
   },
   "outputs": [],
   "source": [
    "# Se calcula el indicador\n",
    "BTC_df_ROC [\"ROC\"] = ta.ROCP (BTC_df_ROC [\"Price\"], timeperiod=10)"
   ]
  },
  {
   "cell_type": "code",
   "execution_count": 129,
   "metadata": {
    "id": "XIm4lu_ReQmr",
    "outputId": "22bd6bc1-bdf7-4b0e-e772-36679888eb55"
   },
   "outputs": [
    {
     "data": {
      "text/html": [
       "<div>\n",
       "<style scoped>\n",
       "    .dataframe tbody tr th:only-of-type {\n",
       "        vertical-align: middle;\n",
       "    }\n",
       "\n",
       "    .dataframe tbody tr th {\n",
       "        vertical-align: top;\n",
       "    }\n",
       "\n",
       "    .dataframe thead th {\n",
       "        text-align: right;\n",
       "    }\n",
       "</style>\n",
       "<table border=\"1\" class=\"dataframe\">\n",
       "  <thead>\n",
       "    <tr style=\"text-align: right;\">\n",
       "      <th></th>\n",
       "      <th>Date</th>\n",
       "      <th>Price</th>\n",
       "      <th>Open</th>\n",
       "      <th>High</th>\n",
       "      <th>Low</th>\n",
       "      <th>Vol.</th>\n",
       "      <th>Percentage_diff</th>\n",
       "      <th>Target</th>\n",
       "      <th>ROC</th>\n",
       "    </tr>\n",
       "  </thead>\n",
       "  <tbody>\n",
       "    <tr>\n",
       "      <th>4381</th>\n",
       "      <td>2022-07-16</td>\n",
       "      <td>21209.9</td>\n",
       "      <td>20825.2</td>\n",
       "      <td>21561.3</td>\n",
       "      <td>20484.4</td>\n",
       "      <td>136890.0</td>\n",
       "      <td>1.85</td>\n",
       "      <td>1.0</td>\n",
       "      <td>0.031555</td>\n",
       "    </tr>\n",
       "    <tr>\n",
       "      <th>4382</th>\n",
       "      <td>2022-07-17</td>\n",
       "      <td>20785.6</td>\n",
       "      <td>21209.8</td>\n",
       "      <td>21654.4</td>\n",
       "      <td>20755.2</td>\n",
       "      <td>132810.0</td>\n",
       "      <td>-2.00</td>\n",
       "      <td>0.0</td>\n",
       "      <td>-0.039385</td>\n",
       "    </tr>\n",
       "    <tr>\n",
       "      <th>4383</th>\n",
       "      <td>2022-07-18</td>\n",
       "      <td>22525.8</td>\n",
       "      <td>20785.6</td>\n",
       "      <td>22714.9</td>\n",
       "      <td>20770.6</td>\n",
       "      <td>279720.0</td>\n",
       "      <td>8.37</td>\n",
       "      <td>1.0</td>\n",
       "      <td>0.042321</td>\n",
       "    </tr>\n",
       "    <tr>\n",
       "      <th>4384</th>\n",
       "      <td>2022-07-19</td>\n",
       "      <td>23410.2</td>\n",
       "      <td>22529.3</td>\n",
       "      <td>23757.3</td>\n",
       "      <td>21581.8</td>\n",
       "      <td>308910.0</td>\n",
       "      <td>3.93</td>\n",
       "      <td>1.0</td>\n",
       "      <td>0.084433</td>\n",
       "    </tr>\n",
       "    <tr>\n",
       "      <th>4385</th>\n",
       "      <td>2022-07-20</td>\n",
       "      <td>23149.1</td>\n",
       "      <td>23412.0</td>\n",
       "      <td>23429.9</td>\n",
       "      <td>22965.9</td>\n",
       "      <td>290210.0</td>\n",
       "      <td>-1.12</td>\n",
       "      <td>0.0</td>\n",
       "      <td>0.110407</td>\n",
       "    </tr>\n",
       "  </tbody>\n",
       "</table>\n",
       "</div>"
      ],
      "text/plain": [
       "            Date    Price     Open     High      Low      Vol.  \\\n",
       "4381  2022-07-16  21209.9  20825.2  21561.3  20484.4  136890.0   \n",
       "4382  2022-07-17  20785.6  21209.8  21654.4  20755.2  132810.0   \n",
       "4383  2022-07-18  22525.8  20785.6  22714.9  20770.6  279720.0   \n",
       "4384  2022-07-19  23410.2  22529.3  23757.3  21581.8  308910.0   \n",
       "4385  2022-07-20  23149.1  23412.0  23429.9  22965.9  290210.0   \n",
       "\n",
       "      Percentage_diff  Target       ROC  \n",
       "4381             1.85     1.0  0.031555  \n",
       "4382            -2.00     0.0 -0.039385  \n",
       "4383             8.37     1.0  0.042321  \n",
       "4384             3.93     1.0  0.084433  \n",
       "4385            -1.12     0.0  0.110407  "
      ]
     },
     "execution_count": 129,
     "metadata": {},
     "output_type": "execute_result"
    }
   ],
   "source": [
    "BTC_df_ROC.tail()"
   ]
  },
  {
   "cell_type": "markdown",
   "metadata": {
    "id": "iYx69-BweQms"
   },
   "source": [
    "Estrategia de trading usando ROC\n",
    "\n",
    "* Cuando el ROC supera el nivel 0 se recomienda comprar (sobreventa).\n",
    "* Cuando el ROC cae por debajo del nivel 0 se recomienda vender (sobrecompra).\n",
    "* En el resto de la posiciones se mantiene la última decisión tomada (sin cambios)."
   ]
  },
  {
   "cell_type": "code",
   "execution_count": 130,
   "metadata": {
    "id": "nkOJ-I7seQms"
   },
   "outputs": [],
   "source": [
    "BTC_df_ROC_ET = BTC_df_ROC.copy()"
   ]
  },
  {
   "cell_type": "code",
   "execution_count": 131,
   "metadata": {
    "id": "50p655nweQms",
    "outputId": "ec998a23-3e13-4675-da35-34542e994f5d"
   },
   "outputs": [
    {
     "data": {
      "text/plain": [
       "Index(['Date', 'Price', 'Open', 'High', 'Low', 'Vol.', 'Percentage_diff',\n",
       "       'Target', 'ROC'],\n",
       "      dtype='object')"
      ]
     },
     "execution_count": 131,
     "metadata": {},
     "output_type": "execute_result"
    }
   ],
   "source": [
    "BTC_df_ROC_ET.columns"
   ]
  },
  {
   "cell_type": "code",
   "execution_count": 132,
   "metadata": {
    "id": "dQ2CBr9keQmt"
   },
   "outputs": [],
   "source": [
    "# Se aplica estrategia de trading\n",
    "ROC_ET_df = pd.DataFrame()\n",
    "ROC_ET_df\n",
    "\n",
    "ROC_ET = []\n",
    "\n",
    "x=0\n",
    "while x < len (BTC_df_ROC_ET [\"Price\"]): \n",
    "    \n",
    "    if x<11: # Necesita 10 valroes para empezar el proceso (por defecto del uso común del indicador)\n",
    "        ROC_ET.append (\"Mantener_posicion\")\n",
    "        \n",
    "    elif BTC_df_ROC_ET [\"ROC\"] [x] >= 0:\n",
    "        \n",
    "        if BTC_df_ROC_ET [\"ROC\"] [x-1] >=0:\n",
    "            ROC_ET.append (\"Mantener_posicion\")\n",
    "            \n",
    "        elif BTC_df_ROC_ET [\"ROC\"] [x-1] < 0:\n",
    "            ROC_ET.append (\"Comprar\")\n",
    "    \n",
    "    elif BTC_df_ROC_ET [\"ROC\"] [x] < 0:\n",
    "        \n",
    "        if BTC_df_ROC_ET [\"ROC\"] [x-1] >= 0:\n",
    "            ROC_ET.append (\"Vender\")\n",
    "            \n",
    "        if BTC_df_ROC_ET [\"ROC\"] [x-1] < 0:\n",
    "            ROC_ET.append (\"Mantener_posicion\")\n",
    "            \n",
    "        \n",
    "    x+=1\n",
    "    \n",
    "ROC_ET_df [\"ROC_ET\"] = pd.Series(ROC_ET)"
   ]
  },
  {
   "cell_type": "code",
   "execution_count": 133,
   "metadata": {
    "id": "NL7wVwa9eQmt",
    "outputId": "0afd67d1-1596-470b-aae3-5b1cb6fcbc8d"
   },
   "outputs": [
    {
     "name": "stdout",
     "output_type": "stream",
     "text": [
      "<class 'pandas.core.frame.DataFrame'>\n",
      "RangeIndex: 4386 entries, 0 to 4385\n",
      "Data columns (total 1 columns):\n",
      " #   Column  Non-Null Count  Dtype \n",
      "---  ------  --------------  ----- \n",
      " 0   ROC_ET  4386 non-null   object\n",
      "dtypes: object(1)\n",
      "memory usage: 34.4+ KB\n"
     ]
    }
   ],
   "source": [
    "ROC_ET_df.info()"
   ]
  },
  {
   "cell_type": "markdown",
   "metadata": {},
   "source": [
    "Se concatena las columnas de la estrategia de trading a la tabla de BTC_df_ROC_ET (ya posee los valores del indicador)."
   ]
  },
  {
   "cell_type": "code",
   "execution_count": 134,
   "metadata": {
    "id": "3dCHId9EeQmu"
   },
   "outputs": [],
   "source": [
    "BTC_ROC_ET_df = pd.concat ([BTC_df_ROC_ET, ROC_ET_df], axis=1)"
   ]
  },
  {
   "cell_type": "code",
   "execution_count": 135,
   "metadata": {
    "id": "LoZcRlB7eQmu",
    "outputId": "cb2724ca-1f80-4ba5-abfc-a5e40e8d98e7"
   },
   "outputs": [
    {
     "data": {
      "text/html": [
       "<div>\n",
       "<style scoped>\n",
       "    .dataframe tbody tr th:only-of-type {\n",
       "        vertical-align: middle;\n",
       "    }\n",
       "\n",
       "    .dataframe tbody tr th {\n",
       "        vertical-align: top;\n",
       "    }\n",
       "\n",
       "    .dataframe thead th {\n",
       "        text-align: right;\n",
       "    }\n",
       "</style>\n",
       "<table border=\"1\" class=\"dataframe\">\n",
       "  <thead>\n",
       "    <tr style=\"text-align: right;\">\n",
       "      <th></th>\n",
       "      <th>Date</th>\n",
       "      <th>Price</th>\n",
       "      <th>Open</th>\n",
       "      <th>High</th>\n",
       "      <th>Low</th>\n",
       "      <th>Vol.</th>\n",
       "      <th>Percentage_diff</th>\n",
       "      <th>Target</th>\n",
       "      <th>ROC</th>\n",
       "      <th>ROC_ET</th>\n",
       "    </tr>\n",
       "  </thead>\n",
       "  <tbody>\n",
       "    <tr>\n",
       "      <th>4381</th>\n",
       "      <td>2022-07-16</td>\n",
       "      <td>21209.9</td>\n",
       "      <td>20825.2</td>\n",
       "      <td>21561.3</td>\n",
       "      <td>20484.4</td>\n",
       "      <td>136890.0</td>\n",
       "      <td>1.85</td>\n",
       "      <td>1.0</td>\n",
       "      <td>0.031555</td>\n",
       "      <td>Mantener_posicion</td>\n",
       "    </tr>\n",
       "    <tr>\n",
       "      <th>4382</th>\n",
       "      <td>2022-07-17</td>\n",
       "      <td>20785.6</td>\n",
       "      <td>21209.8</td>\n",
       "      <td>21654.4</td>\n",
       "      <td>20755.2</td>\n",
       "      <td>132810.0</td>\n",
       "      <td>-2.00</td>\n",
       "      <td>0.0</td>\n",
       "      <td>-0.039385</td>\n",
       "      <td>Vender</td>\n",
       "    </tr>\n",
       "    <tr>\n",
       "      <th>4383</th>\n",
       "      <td>2022-07-18</td>\n",
       "      <td>22525.8</td>\n",
       "      <td>20785.6</td>\n",
       "      <td>22714.9</td>\n",
       "      <td>20770.6</td>\n",
       "      <td>279720.0</td>\n",
       "      <td>8.37</td>\n",
       "      <td>1.0</td>\n",
       "      <td>0.042321</td>\n",
       "      <td>Comprar</td>\n",
       "    </tr>\n",
       "    <tr>\n",
       "      <th>4384</th>\n",
       "      <td>2022-07-19</td>\n",
       "      <td>23410.2</td>\n",
       "      <td>22529.3</td>\n",
       "      <td>23757.3</td>\n",
       "      <td>21581.8</td>\n",
       "      <td>308910.0</td>\n",
       "      <td>3.93</td>\n",
       "      <td>1.0</td>\n",
       "      <td>0.084433</td>\n",
       "      <td>Mantener_posicion</td>\n",
       "    </tr>\n",
       "    <tr>\n",
       "      <th>4385</th>\n",
       "      <td>2022-07-20</td>\n",
       "      <td>23149.1</td>\n",
       "      <td>23412.0</td>\n",
       "      <td>23429.9</td>\n",
       "      <td>22965.9</td>\n",
       "      <td>290210.0</td>\n",
       "      <td>-1.12</td>\n",
       "      <td>0.0</td>\n",
       "      <td>0.110407</td>\n",
       "      <td>Mantener_posicion</td>\n",
       "    </tr>\n",
       "  </tbody>\n",
       "</table>\n",
       "</div>"
      ],
      "text/plain": [
       "            Date    Price     Open     High      Low      Vol.  \\\n",
       "4381  2022-07-16  21209.9  20825.2  21561.3  20484.4  136890.0   \n",
       "4382  2022-07-17  20785.6  21209.8  21654.4  20755.2  132810.0   \n",
       "4383  2022-07-18  22525.8  20785.6  22714.9  20770.6  279720.0   \n",
       "4384  2022-07-19  23410.2  22529.3  23757.3  21581.8  308910.0   \n",
       "4385  2022-07-20  23149.1  23412.0  23429.9  22965.9  290210.0   \n",
       "\n",
       "      Percentage_diff  Target       ROC             ROC_ET  \n",
       "4381             1.85     1.0  0.031555  Mantener_posicion  \n",
       "4382            -2.00     0.0 -0.039385             Vender  \n",
       "4383             8.37     1.0  0.042321            Comprar  \n",
       "4384             3.93     1.0  0.084433  Mantener_posicion  \n",
       "4385            -1.12     0.0  0.110407  Mantener_posicion  "
      ]
     },
     "execution_count": 135,
     "metadata": {},
     "output_type": "execute_result"
    }
   ],
   "source": [
    "BTC_ROC_ET_df.tail()"
   ]
  },
  {
   "cell_type": "markdown",
   "metadata": {
    "id": "XEIZAMkxeQmv"
   },
   "source": [
    "#### Relative Strength Index (RSI) & Stochastic Relative Strength Index (STOCHRSI)\n",
    "\n",
    "* Información RSI (EN): https://www.investopedia.com/terms/r/rsi.asp\n",
    "* Información STOCHRSI (EN): https://www.investopedia.com/terms/s/stochrsi.asp"
   ]
  },
  {
   "cell_type": "code",
   "execution_count": 136,
   "metadata": {
    "id": "wljuDv2CeQmw"
   },
   "outputs": [],
   "source": [
    "# Se crea un back up\n",
    "BTC_df_RSI = BTC_df.copy()"
   ]
  },
  {
   "cell_type": "code",
   "execution_count": 137,
   "metadata": {
    "id": "irPLfpdqeQmx"
   },
   "outputs": [],
   "source": [
    "# Se calcula RSI\n",
    "BTC_df_RSI [\"RSI\"] = ta.RSI (BTC_df_RSI [\"Price\"], timeperiod=10)"
   ]
  },
  {
   "cell_type": "code",
   "execution_count": 138,
   "metadata": {
    "id": "0kG2AWDYeQmx"
   },
   "outputs": [],
   "source": [
    "# Se calcula el indicador estocástico rapido según dos versiones k y d\n",
    "BTC_df_RSI [\"STOCHRSI_fastk\"], BTC_df_RSI [\"STOCHRSI_fastd\"]  = ta.STOCHRSI (BTC_df_RSI [\"Price\"], timeperiod=14, fastk_period=5, fastd_period=3, fastd_matype=0)"
   ]
  },
  {
   "cell_type": "code",
   "execution_count": 139,
   "metadata": {
    "id": "oNArTFndeQmy",
    "outputId": "8af33f36-38e4-40e6-9885-afddc6fc2666"
   },
   "outputs": [
    {
     "data": {
      "text/html": [
       "<div>\n",
       "<style scoped>\n",
       "    .dataframe tbody tr th:only-of-type {\n",
       "        vertical-align: middle;\n",
       "    }\n",
       "\n",
       "    .dataframe tbody tr th {\n",
       "        vertical-align: top;\n",
       "    }\n",
       "\n",
       "    .dataframe thead th {\n",
       "        text-align: right;\n",
       "    }\n",
       "</style>\n",
       "<table border=\"1\" class=\"dataframe\">\n",
       "  <thead>\n",
       "    <tr style=\"text-align: right;\">\n",
       "      <th></th>\n",
       "      <th>Date</th>\n",
       "      <th>Price</th>\n",
       "      <th>Open</th>\n",
       "      <th>High</th>\n",
       "      <th>Low</th>\n",
       "      <th>Vol.</th>\n",
       "      <th>Percentage_diff</th>\n",
       "      <th>Target</th>\n",
       "      <th>RSI</th>\n",
       "      <th>STOCHRSI_fastk</th>\n",
       "      <th>STOCHRSI_fastd</th>\n",
       "    </tr>\n",
       "  </thead>\n",
       "  <tbody>\n",
       "    <tr>\n",
       "      <th>4381</th>\n",
       "      <td>2022-07-16</td>\n",
       "      <td>21209.9</td>\n",
       "      <td>20825.2</td>\n",
       "      <td>21561.3</td>\n",
       "      <td>20484.4</td>\n",
       "      <td>136890.0</td>\n",
       "      <td>1.85</td>\n",
       "      <td>1.0</td>\n",
       "      <td>54.341002</td>\n",
       "      <td>100.000000</td>\n",
       "      <td>100.000000</td>\n",
       "    </tr>\n",
       "    <tr>\n",
       "      <th>4382</th>\n",
       "      <td>2022-07-17</td>\n",
       "      <td>20785.6</td>\n",
       "      <td>21209.8</td>\n",
       "      <td>21654.4</td>\n",
       "      <td>20755.2</td>\n",
       "      <td>132810.0</td>\n",
       "      <td>-2.00</td>\n",
       "      <td>0.0</td>\n",
       "      <td>49.615550</td>\n",
       "      <td>59.412565</td>\n",
       "      <td>86.470855</td>\n",
       "    </tr>\n",
       "    <tr>\n",
       "      <th>4383</th>\n",
       "      <td>2022-07-18</td>\n",
       "      <td>22525.8</td>\n",
       "      <td>20785.6</td>\n",
       "      <td>22714.9</td>\n",
       "      <td>20770.6</td>\n",
       "      <td>279720.0</td>\n",
       "      <td>8.37</td>\n",
       "      <td>1.0</td>\n",
       "      <td>63.915158</td>\n",
       "      <td>100.000000</td>\n",
       "      <td>86.470855</td>\n",
       "    </tr>\n",
       "    <tr>\n",
       "      <th>4384</th>\n",
       "      <td>2022-07-19</td>\n",
       "      <td>23410.2</td>\n",
       "      <td>22529.3</td>\n",
       "      <td>23757.3</td>\n",
       "      <td>21581.8</td>\n",
       "      <td>308910.0</td>\n",
       "      <td>3.93</td>\n",
       "      <td>1.0</td>\n",
       "      <td>68.899442</td>\n",
       "      <td>100.000000</td>\n",
       "      <td>86.470855</td>\n",
       "    </tr>\n",
       "    <tr>\n",
       "      <th>4385</th>\n",
       "      <td>2022-07-20</td>\n",
       "      <td>23149.1</td>\n",
       "      <td>23412.0</td>\n",
       "      <td>23429.9</td>\n",
       "      <td>22965.9</td>\n",
       "      <td>290210.0</td>\n",
       "      <td>-1.12</td>\n",
       "      <td>0.0</td>\n",
       "      <td>65.912930</td>\n",
       "      <td>87.564957</td>\n",
       "      <td>95.854986</td>\n",
       "    </tr>\n",
       "  </tbody>\n",
       "</table>\n",
       "</div>"
      ],
      "text/plain": [
       "            Date    Price     Open     High      Low      Vol.  \\\n",
       "4381  2022-07-16  21209.9  20825.2  21561.3  20484.4  136890.0   \n",
       "4382  2022-07-17  20785.6  21209.8  21654.4  20755.2  132810.0   \n",
       "4383  2022-07-18  22525.8  20785.6  22714.9  20770.6  279720.0   \n",
       "4384  2022-07-19  23410.2  22529.3  23757.3  21581.8  308910.0   \n",
       "4385  2022-07-20  23149.1  23412.0  23429.9  22965.9  290210.0   \n",
       "\n",
       "      Percentage_diff  Target        RSI  STOCHRSI_fastk  STOCHRSI_fastd  \n",
       "4381             1.85     1.0  54.341002      100.000000      100.000000  \n",
       "4382            -2.00     0.0  49.615550       59.412565       86.470855  \n",
       "4383             8.37     1.0  63.915158      100.000000       86.470855  \n",
       "4384             3.93     1.0  68.899442      100.000000       86.470855  \n",
       "4385            -1.12     0.0  65.912930       87.564957       95.854986  "
      ]
     },
     "execution_count": 139,
     "metadata": {},
     "output_type": "execute_result"
    }
   ],
   "source": [
    "BTC_df_RSI.tail()"
   ]
  },
  {
   "cell_type": "markdown",
   "metadata": {
    "id": "Y1YeLHa3eQmz"
   },
   "source": [
    "Estrategia de trading con RSI y STOCHRSI\n",
    "\n",
    "* El RSI y el STOCHRSI se pueden utilizar de diferentes maneras. En particular aquí se utilizará para comprar activos en un período muy específico (a la inversa de lo que se suele proponer).\n",
    "\n",
    " -- Cuando el indicador supere los 80 pptos se considerará una buena oportunidad para comprar hasta que vuelva a caer por debajo de esa marca, momento en el que se debería evaluar la venta del activo."
   ]
  },
  {
   "cell_type": "code",
   "execution_count": 140,
   "metadata": {
    "id": "rJVzJZ9qeQmz"
   },
   "outputs": [],
   "source": [
    "BTC_df_STOCHRSI_ET = BTC_df_RSI.copy()"
   ]
  },
  {
   "cell_type": "code",
   "execution_count": 141,
   "metadata": {
    "id": "c8QCqOKIeQm0",
    "outputId": "931f5e15-1899-430b-a000-d0d03ed4661a"
   },
   "outputs": [
    {
     "data": {
      "text/plain": [
       "Index(['Date', 'Price', 'Open', 'High', 'Low', 'Vol.', 'Percentage_diff',\n",
       "       'Target', 'RSI', 'STOCHRSI_fastk', 'STOCHRSI_fastd'],\n",
       "      dtype='object')"
      ]
     },
     "execution_count": 141,
     "metadata": {},
     "output_type": "execute_result"
    }
   ],
   "source": [
    "BTC_df_STOCHRSI_ET.columns"
   ]
  },
  {
   "cell_type": "code",
   "execution_count": 142,
   "metadata": {
    "id": "xSAvB7Z_eQm0"
   },
   "outputs": [],
   "source": [
    "# Se aplica estrategia de trading\n",
    "STOCHRSI_ET_df = pd.DataFrame()\n",
    "STOCHRSI_ET_df\n",
    "\n",
    "STOCHRSI_ET_fastk = []\n",
    "\n",
    "x=0\n",
    "while x < len (BTC_df_STOCHRSI_ET [\"Price\"]): \n",
    "    \n",
    "    if x<21: # Necesita 21 valores para empezar el proceso (por defecto del uso común del indicador)\n",
    "        STOCHRSI_ET_fastk.append (\"Mantener_posicion\")\n",
    "        \n",
    "    elif BTC_df_STOCHRSI_ET [\"STOCHRSI_fastk\"] [x] >= 80:\n",
    "        \n",
    "        if BTC_df_STOCHRSI_ET [\"STOCHRSI_fastk\"] [x-1] >=80:\n",
    "            STOCHRSI_ET_fastk.append (\"Mantener_posicion\")\n",
    "            \n",
    "        elif BTC_df_STOCHRSI_ET [\"STOCHRSI_fastk\"] [x-1] < 80:\n",
    "            STOCHRSI_ET_fastk.append (\"Comprar\")\n",
    "    \n",
    "    elif BTC_df_STOCHRSI_ET [\"STOCHRSI_fastk\"] [x] < 80:\n",
    "        \n",
    "        if BTC_df_STOCHRSI_ET [\"STOCHRSI_fastk\"] [x-1] >= 80:\n",
    "            STOCHRSI_ET_fastk.append (\"Vender\")\n",
    "            \n",
    "        if BTC_df_STOCHRSI_ET [\"STOCHRSI_fastk\"] [x-1] < 80:\n",
    "            STOCHRSI_ET_fastk.append (\"Mantener_posicion\")\n",
    "            \n",
    "        \n",
    "    x+=1\n",
    "    \n",
    "STOCHRSI_ET_df [\"STOCHRSI_fastk_ET\"] = pd.Series(STOCHRSI_ET_fastk)"
   ]
  },
  {
   "cell_type": "code",
   "execution_count": 143,
   "metadata": {
    "id": "co2Ab4bieQm2",
    "outputId": "796721a2-355f-4b30-f6ee-609de3ed40f0"
   },
   "outputs": [
    {
     "name": "stdout",
     "output_type": "stream",
     "text": [
      "<class 'pandas.core.frame.DataFrame'>\n",
      "RangeIndex: 4386 entries, 0 to 4385\n",
      "Data columns (total 1 columns):\n",
      " #   Column             Non-Null Count  Dtype \n",
      "---  ------             --------------  ----- \n",
      " 0   STOCHRSI_fastk_ET  4386 non-null   object\n",
      "dtypes: object(1)\n",
      "memory usage: 34.4+ KB\n"
     ]
    }
   ],
   "source": [
    "STOCHRSI_ET_df.info()"
   ]
  },
  {
   "cell_type": "code",
   "execution_count": 144,
   "metadata": {
    "id": "Df_Vtm5qeQm2"
   },
   "outputs": [],
   "source": [
    "# Se aplica estrategia de trading\n",
    "STOCHRSI_ET_fastd = []\n",
    "\n",
    "x=0\n",
    "while x < len (BTC_df_STOCHRSI_ET [\"Price\"]): \n",
    "    \n",
    "    if x<21: # Necesita 21 valores para empezar el proceso (por defecto del uso común del indicador)\n",
    "        STOCHRSI_ET_fastd.append (\"Mantener_posicion\")\n",
    "        \n",
    "    elif BTC_df_STOCHRSI_ET [\"STOCHRSI_fastd\"] [x] >= 80:\n",
    "        \n",
    "        if BTC_df_STOCHRSI_ET [\"STOCHRSI_fastd\"] [x-1] >=80:\n",
    "            STOCHRSI_ET_fastd.append (\"Mantener_posicion\")\n",
    "            \n",
    "        elif BTC_df_STOCHRSI_ET [\"STOCHRSI_fastd\"] [x-1] < 80:\n",
    "            STOCHRSI_ET_fastd.append (\"Comprar\")\n",
    "    \n",
    "    elif BTC_df_STOCHRSI_ET [\"STOCHRSI_fastd\"] [x] < 80:\n",
    "        \n",
    "        if BTC_df_STOCHRSI_ET [\"STOCHRSI_fastd\"] [x-1] >= 80:\n",
    "            STOCHRSI_ET_fastd.append (\"Vender\")\n",
    "            \n",
    "        if BTC_df_STOCHRSI_ET [\"STOCHRSI_fastd\"] [x-1] < 80:\n",
    "            STOCHRSI_ET_fastd.append (\"Mantener_posicion\")\n",
    "            \n",
    "        \n",
    "    x+=1\n",
    "    \n",
    "STOCHRSI_ET_df [\"STOCHRSI_fastd_ET\"] = pd.Series(STOCHRSI_ET_fastd)"
   ]
  },
  {
   "cell_type": "code",
   "execution_count": 145,
   "metadata": {
    "id": "_2fbgu0ceQm3",
    "outputId": "a1916226-7db6-415c-a20f-3189c18f6567"
   },
   "outputs": [
    {
     "name": "stdout",
     "output_type": "stream",
     "text": [
      "<class 'pandas.core.frame.DataFrame'>\n",
      "RangeIndex: 4386 entries, 0 to 4385\n",
      "Data columns (total 2 columns):\n",
      " #   Column             Non-Null Count  Dtype \n",
      "---  ------             --------------  ----- \n",
      " 0   STOCHRSI_fastk_ET  4386 non-null   object\n",
      " 1   STOCHRSI_fastd_ET  4386 non-null   object\n",
      "dtypes: object(2)\n",
      "memory usage: 68.7+ KB\n"
     ]
    }
   ],
   "source": [
    "STOCHRSI_ET_df.info()"
   ]
  },
  {
   "cell_type": "markdown",
   "metadata": {},
   "source": [
    "Se concatena las columnas de la estrategia de trading a la tabla de BTC_df_STOCHRSI_ET (ya posee los valores del indicador)."
   ]
  },
  {
   "cell_type": "code",
   "execution_count": 146,
   "metadata": {
    "id": "jsNbKI8XeQm4"
   },
   "outputs": [],
   "source": [
    "BTC_STOCHRSI_ET_df = pd.concat ([BTC_df_STOCHRSI_ET, STOCHRSI_ET_df], axis=1)"
   ]
  },
  {
   "cell_type": "code",
   "execution_count": 147,
   "metadata": {
    "id": "7sk1G8ijeQm5",
    "outputId": "6cba3a50-aac0-4df1-9256-ee14a71bab96"
   },
   "outputs": [
    {
     "data": {
      "text/html": [
       "<div>\n",
       "<style scoped>\n",
       "    .dataframe tbody tr th:only-of-type {\n",
       "        vertical-align: middle;\n",
       "    }\n",
       "\n",
       "    .dataframe tbody tr th {\n",
       "        vertical-align: top;\n",
       "    }\n",
       "\n",
       "    .dataframe thead th {\n",
       "        text-align: right;\n",
       "    }\n",
       "</style>\n",
       "<table border=\"1\" class=\"dataframe\">\n",
       "  <thead>\n",
       "    <tr style=\"text-align: right;\">\n",
       "      <th></th>\n",
       "      <th>Date</th>\n",
       "      <th>Price</th>\n",
       "      <th>Open</th>\n",
       "      <th>High</th>\n",
       "      <th>Low</th>\n",
       "      <th>Vol.</th>\n",
       "      <th>Percentage_diff</th>\n",
       "      <th>Target</th>\n",
       "      <th>RSI</th>\n",
       "      <th>STOCHRSI_fastk</th>\n",
       "      <th>STOCHRSI_fastd</th>\n",
       "      <th>STOCHRSI_fastk_ET</th>\n",
       "      <th>STOCHRSI_fastd_ET</th>\n",
       "    </tr>\n",
       "  </thead>\n",
       "  <tbody>\n",
       "    <tr>\n",
       "      <th>4381</th>\n",
       "      <td>2022-07-16</td>\n",
       "      <td>21209.9</td>\n",
       "      <td>20825.2</td>\n",
       "      <td>21561.3</td>\n",
       "      <td>20484.4</td>\n",
       "      <td>136890.0</td>\n",
       "      <td>1.85</td>\n",
       "      <td>1.0</td>\n",
       "      <td>54.341002</td>\n",
       "      <td>100.000000</td>\n",
       "      <td>100.000000</td>\n",
       "      <td>Mantener_posicion</td>\n",
       "      <td>Mantener_posicion</td>\n",
       "    </tr>\n",
       "    <tr>\n",
       "      <th>4382</th>\n",
       "      <td>2022-07-17</td>\n",
       "      <td>20785.6</td>\n",
       "      <td>21209.8</td>\n",
       "      <td>21654.4</td>\n",
       "      <td>20755.2</td>\n",
       "      <td>132810.0</td>\n",
       "      <td>-2.00</td>\n",
       "      <td>0.0</td>\n",
       "      <td>49.615550</td>\n",
       "      <td>59.412565</td>\n",
       "      <td>86.470855</td>\n",
       "      <td>Vender</td>\n",
       "      <td>Mantener_posicion</td>\n",
       "    </tr>\n",
       "    <tr>\n",
       "      <th>4383</th>\n",
       "      <td>2022-07-18</td>\n",
       "      <td>22525.8</td>\n",
       "      <td>20785.6</td>\n",
       "      <td>22714.9</td>\n",
       "      <td>20770.6</td>\n",
       "      <td>279720.0</td>\n",
       "      <td>8.37</td>\n",
       "      <td>1.0</td>\n",
       "      <td>63.915158</td>\n",
       "      <td>100.000000</td>\n",
       "      <td>86.470855</td>\n",
       "      <td>Comprar</td>\n",
       "      <td>Mantener_posicion</td>\n",
       "    </tr>\n",
       "    <tr>\n",
       "      <th>4384</th>\n",
       "      <td>2022-07-19</td>\n",
       "      <td>23410.2</td>\n",
       "      <td>22529.3</td>\n",
       "      <td>23757.3</td>\n",
       "      <td>21581.8</td>\n",
       "      <td>308910.0</td>\n",
       "      <td>3.93</td>\n",
       "      <td>1.0</td>\n",
       "      <td>68.899442</td>\n",
       "      <td>100.000000</td>\n",
       "      <td>86.470855</td>\n",
       "      <td>Mantener_posicion</td>\n",
       "      <td>Mantener_posicion</td>\n",
       "    </tr>\n",
       "    <tr>\n",
       "      <th>4385</th>\n",
       "      <td>2022-07-20</td>\n",
       "      <td>23149.1</td>\n",
       "      <td>23412.0</td>\n",
       "      <td>23429.9</td>\n",
       "      <td>22965.9</td>\n",
       "      <td>290210.0</td>\n",
       "      <td>-1.12</td>\n",
       "      <td>0.0</td>\n",
       "      <td>65.912930</td>\n",
       "      <td>87.564957</td>\n",
       "      <td>95.854986</td>\n",
       "      <td>Mantener_posicion</td>\n",
       "      <td>Mantener_posicion</td>\n",
       "    </tr>\n",
       "  </tbody>\n",
       "</table>\n",
       "</div>"
      ],
      "text/plain": [
       "            Date    Price     Open     High      Low      Vol.  \\\n",
       "4381  2022-07-16  21209.9  20825.2  21561.3  20484.4  136890.0   \n",
       "4382  2022-07-17  20785.6  21209.8  21654.4  20755.2  132810.0   \n",
       "4383  2022-07-18  22525.8  20785.6  22714.9  20770.6  279720.0   \n",
       "4384  2022-07-19  23410.2  22529.3  23757.3  21581.8  308910.0   \n",
       "4385  2022-07-20  23149.1  23412.0  23429.9  22965.9  290210.0   \n",
       "\n",
       "      Percentage_diff  Target        RSI  STOCHRSI_fastk  STOCHRSI_fastd  \\\n",
       "4381             1.85     1.0  54.341002      100.000000      100.000000   \n",
       "4382            -2.00     0.0  49.615550       59.412565       86.470855   \n",
       "4383             8.37     1.0  63.915158      100.000000       86.470855   \n",
       "4384             3.93     1.0  68.899442      100.000000       86.470855   \n",
       "4385            -1.12     0.0  65.912930       87.564957       95.854986   \n",
       "\n",
       "      STOCHRSI_fastk_ET  STOCHRSI_fastd_ET  \n",
       "4381  Mantener_posicion  Mantener_posicion  \n",
       "4382             Vender  Mantener_posicion  \n",
       "4383            Comprar  Mantener_posicion  \n",
       "4384  Mantener_posicion  Mantener_posicion  \n",
       "4385  Mantener_posicion  Mantener_posicion  "
      ]
     },
     "execution_count": 147,
     "metadata": {},
     "output_type": "execute_result"
    }
   ],
   "source": [
    "BTC_STOCHRSI_ET_df.tail()"
   ]
  },
  {
   "cell_type": "markdown",
   "metadata": {
    "id": "d71Rpkw7eQm5"
   },
   "source": [
    "#### Ultimate Oscillator (ULTOSC)\n",
    "\n",
    "* Información (EN): https://www.investopedia.com/terms/u/ultimateoscillator.asp"
   ]
  },
  {
   "cell_type": "code",
   "execution_count": 148,
   "metadata": {
    "id": "GtRMCyIgeQm6"
   },
   "outputs": [],
   "source": [
    "# Se crea back up\n",
    "BTC_df_ULTOSC = BTC_df.copy()"
   ]
  },
  {
   "cell_type": "code",
   "execution_count": 149,
   "metadata": {
    "id": "RUfNs-UIeQm6"
   },
   "outputs": [],
   "source": [
    "# Se calcula el indicador ULTOSC\n",
    "BTC_df_ULTOSC [\"ULTOSC\"] = ta.ULTOSC(BTC_df_ULTOSC [\"High\"], BTC_df_ULTOSC [\"Low\"], BTC_df_ULTOSC [\"Price\"], timeperiod1=7, timeperiod2=14, timeperiod3=28)"
   ]
  },
  {
   "cell_type": "code",
   "execution_count": 150,
   "metadata": {
    "id": "W29G2YpWeQm7",
    "outputId": "68ef85a6-dd6e-47c7-cb69-a88593e2e870"
   },
   "outputs": [
    {
     "data": {
      "text/html": [
       "<div>\n",
       "<style scoped>\n",
       "    .dataframe tbody tr th:only-of-type {\n",
       "        vertical-align: middle;\n",
       "    }\n",
       "\n",
       "    .dataframe tbody tr th {\n",
       "        vertical-align: top;\n",
       "    }\n",
       "\n",
       "    .dataframe thead th {\n",
       "        text-align: right;\n",
       "    }\n",
       "</style>\n",
       "<table border=\"1\" class=\"dataframe\">\n",
       "  <thead>\n",
       "    <tr style=\"text-align: right;\">\n",
       "      <th></th>\n",
       "      <th>Date</th>\n",
       "      <th>Price</th>\n",
       "      <th>Open</th>\n",
       "      <th>High</th>\n",
       "      <th>Low</th>\n",
       "      <th>Vol.</th>\n",
       "      <th>Percentage_diff</th>\n",
       "      <th>Target</th>\n",
       "      <th>ULTOSC</th>\n",
       "    </tr>\n",
       "  </thead>\n",
       "  <tbody>\n",
       "    <tr>\n",
       "      <th>4381</th>\n",
       "      <td>2022-07-16</td>\n",
       "      <td>21209.9</td>\n",
       "      <td>20825.2</td>\n",
       "      <td>21561.3</td>\n",
       "      <td>20484.4</td>\n",
       "      <td>136890.0</td>\n",
       "      <td>1.85</td>\n",
       "      <td>1.0</td>\n",
       "      <td>55.402532</td>\n",
       "    </tr>\n",
       "    <tr>\n",
       "      <th>4382</th>\n",
       "      <td>2022-07-17</td>\n",
       "      <td>20785.6</td>\n",
       "      <td>21209.8</td>\n",
       "      <td>21654.4</td>\n",
       "      <td>20755.2</td>\n",
       "      <td>132810.0</td>\n",
       "      <td>-2.00</td>\n",
       "      <td>0.0</td>\n",
       "      <td>52.658819</td>\n",
       "    </tr>\n",
       "    <tr>\n",
       "      <th>4383</th>\n",
       "      <td>2022-07-18</td>\n",
       "      <td>22525.8</td>\n",
       "      <td>20785.6</td>\n",
       "      <td>22714.9</td>\n",
       "      <td>20770.6</td>\n",
       "      <td>279720.0</td>\n",
       "      <td>8.37</td>\n",
       "      <td>1.0</td>\n",
       "      <td>61.793596</td>\n",
       "    </tr>\n",
       "    <tr>\n",
       "      <th>4384</th>\n",
       "      <td>2022-07-19</td>\n",
       "      <td>23410.2</td>\n",
       "      <td>22529.3</td>\n",
       "      <td>23757.3</td>\n",
       "      <td>21581.8</td>\n",
       "      <td>308910.0</td>\n",
       "      <td>3.93</td>\n",
       "      <td>1.0</td>\n",
       "      <td>68.346203</td>\n",
       "    </tr>\n",
       "    <tr>\n",
       "      <th>4385</th>\n",
       "      <td>2022-07-20</td>\n",
       "      <td>23149.1</td>\n",
       "      <td>23412.0</td>\n",
       "      <td>23429.9</td>\n",
       "      <td>22965.9</td>\n",
       "      <td>290210.0</td>\n",
       "      <td>-1.12</td>\n",
       "      <td>0.0</td>\n",
       "      <td>64.588452</td>\n",
       "    </tr>\n",
       "  </tbody>\n",
       "</table>\n",
       "</div>"
      ],
      "text/plain": [
       "            Date    Price     Open     High      Low      Vol.  \\\n",
       "4381  2022-07-16  21209.9  20825.2  21561.3  20484.4  136890.0   \n",
       "4382  2022-07-17  20785.6  21209.8  21654.4  20755.2  132810.0   \n",
       "4383  2022-07-18  22525.8  20785.6  22714.9  20770.6  279720.0   \n",
       "4384  2022-07-19  23410.2  22529.3  23757.3  21581.8  308910.0   \n",
       "4385  2022-07-20  23149.1  23412.0  23429.9  22965.9  290210.0   \n",
       "\n",
       "      Percentage_diff  Target     ULTOSC  \n",
       "4381             1.85     1.0  55.402532  \n",
       "4382            -2.00     0.0  52.658819  \n",
       "4383             8.37     1.0  61.793596  \n",
       "4384             3.93     1.0  68.346203  \n",
       "4385            -1.12     0.0  64.588452  "
      ]
     },
     "execution_count": 150,
     "metadata": {},
     "output_type": "execute_result"
    }
   ],
   "source": [
    "BTC_df_ULTOSC.tail()"
   ]
  },
  {
   "cell_type": "markdown",
   "metadata": {},
   "source": [
    "Observaciones:\n",
    "- No se calculará una estrategia de trading."
   ]
  },
  {
   "cell_type": "markdown",
   "metadata": {
    "id": "xk124yyOeQm7"
   },
   "source": [
    "#### Williams' %R (WILLR)\n",
    "\n",
    "* Información (EN): https://www.investopedia.com/terms/w/williamsr.asp"
   ]
  },
  {
   "cell_type": "code",
   "execution_count": 151,
   "metadata": {
    "id": "q5nm6QK0eQm8"
   },
   "outputs": [],
   "source": [
    "# Se crea un back up\n",
    "BTC_df_WILLR = BTC_df.copy()"
   ]
  },
  {
   "cell_type": "code",
   "execution_count": 152,
   "metadata": {
    "id": "iPLy0K9SeQm8"
   },
   "outputs": [],
   "source": [
    "# Se calcula Williams %R\n",
    "BTC_df_WILLR [\"WILLR\"] = ta.WILLR(BTC_df_WILLR [\"High\"], BTC_df_WILLR [\"Low\"], BTC_df_WILLR [\"Price\"], timeperiod=14)"
   ]
  },
  {
   "cell_type": "code",
   "execution_count": 153,
   "metadata": {
    "id": "z3J38af0eQm9",
    "outputId": "742b06df-b782-48fd-e51a-4c3c0ea4ceb0"
   },
   "outputs": [
    {
     "data": {
      "text/html": [
       "<div>\n",
       "<style scoped>\n",
       "    .dataframe tbody tr th:only-of-type {\n",
       "        vertical-align: middle;\n",
       "    }\n",
       "\n",
       "    .dataframe tbody tr th {\n",
       "        vertical-align: top;\n",
       "    }\n",
       "\n",
       "    .dataframe thead th {\n",
       "        text-align: right;\n",
       "    }\n",
       "</style>\n",
       "<table border=\"1\" class=\"dataframe\">\n",
       "  <thead>\n",
       "    <tr style=\"text-align: right;\">\n",
       "      <th></th>\n",
       "      <th>Date</th>\n",
       "      <th>Price</th>\n",
       "      <th>Open</th>\n",
       "      <th>High</th>\n",
       "      <th>Low</th>\n",
       "      <th>Vol.</th>\n",
       "      <th>Percentage_diff</th>\n",
       "      <th>Target</th>\n",
       "      <th>WILLR</th>\n",
       "    </tr>\n",
       "  </thead>\n",
       "  <tbody>\n",
       "    <tr>\n",
       "      <th>4381</th>\n",
       "      <td>2022-07-16</td>\n",
       "      <td>21209.9</td>\n",
       "      <td>20825.2</td>\n",
       "      <td>21561.3</td>\n",
       "      <td>20484.4</td>\n",
       "      <td>136890.0</td>\n",
       "      <td>1.85</td>\n",
       "      <td>1.0</td>\n",
       "      <td>-34.498468</td>\n",
       "    </tr>\n",
       "    <tr>\n",
       "      <th>4382</th>\n",
       "      <td>2022-07-17</td>\n",
       "      <td>20785.6</td>\n",
       "      <td>21209.8</td>\n",
       "      <td>21654.4</td>\n",
       "      <td>20755.2</td>\n",
       "      <td>132810.0</td>\n",
       "      <td>-2.00</td>\n",
       "      <td>0.0</td>\n",
       "      <td>-47.925083</td>\n",
       "    </tr>\n",
       "    <tr>\n",
       "      <th>4383</th>\n",
       "      <td>2022-07-18</td>\n",
       "      <td>22525.8</td>\n",
       "      <td>20785.6</td>\n",
       "      <td>22714.9</td>\n",
       "      <td>20770.6</td>\n",
       "      <td>279720.0</td>\n",
       "      <td>8.37</td>\n",
       "      <td>1.0</td>\n",
       "      <td>-5.012325</td>\n",
       "    </tr>\n",
       "    <tr>\n",
       "      <th>4384</th>\n",
       "      <td>2022-07-19</td>\n",
       "      <td>23410.2</td>\n",
       "      <td>22529.3</td>\n",
       "      <td>23757.3</td>\n",
       "      <td>21581.8</td>\n",
       "      <td>308910.0</td>\n",
       "      <td>3.93</td>\n",
       "      <td>1.0</td>\n",
       "      <td>-7.208573</td>\n",
       "    </tr>\n",
       "    <tr>\n",
       "      <th>4385</th>\n",
       "      <td>2022-07-20</td>\n",
       "      <td>23149.1</td>\n",
       "      <td>23412.0</td>\n",
       "      <td>23429.9</td>\n",
       "      <td>22965.9</td>\n",
       "      <td>290210.0</td>\n",
       "      <td>-1.12</td>\n",
       "      <td>0.0</td>\n",
       "      <td>-12.631098</td>\n",
       "    </tr>\n",
       "  </tbody>\n",
       "</table>\n",
       "</div>"
      ],
      "text/plain": [
       "            Date    Price     Open     High      Low      Vol.  \\\n",
       "4381  2022-07-16  21209.9  20825.2  21561.3  20484.4  136890.0   \n",
       "4382  2022-07-17  20785.6  21209.8  21654.4  20755.2  132810.0   \n",
       "4383  2022-07-18  22525.8  20785.6  22714.9  20770.6  279720.0   \n",
       "4384  2022-07-19  23410.2  22529.3  23757.3  21581.8  308910.0   \n",
       "4385  2022-07-20  23149.1  23412.0  23429.9  22965.9  290210.0   \n",
       "\n",
       "      Percentage_diff  Target      WILLR  \n",
       "4381             1.85     1.0 -34.498468  \n",
       "4382            -2.00     0.0 -47.925083  \n",
       "4383             8.37     1.0  -5.012325  \n",
       "4384             3.93     1.0  -7.208573  \n",
       "4385            -1.12     0.0 -12.631098  "
      ]
     },
     "execution_count": 153,
     "metadata": {},
     "output_type": "execute_result"
    }
   ],
   "source": [
    "BTC_df_WILLR.tail()"
   ]
  },
  {
   "cell_type": "markdown",
   "metadata": {
    "id": "1ZwsNcKBeQm-"
   },
   "source": [
    "#### Agrupando todos los indicadores de momentum en un mismo data set"
   ]
  },
  {
   "cell_type": "markdown",
   "metadata": {},
   "source": [
    "Data set sin estrategia de trading"
   ]
  },
  {
   "cell_type": "code",
   "execution_count": 154,
   "metadata": {
    "id": "WUm7fOJCeQm-",
    "outputId": "38822ff2-647d-42bf-d1b6-abfa583dc090",
    "scrolled": true
   },
   "outputs": [
    {
     "data": {
      "text/plain": [
       "Index(['Date', 'Price', 'Open', 'High', 'Low', 'Vol.', 'Percentage_diff',\n",
       "       'Target', 'ADX', 'ADX_MDI', 'ADX_MDM', 'ADX_DX', 'ADX_PDI', 'ADX_PDM'],\n",
       "      dtype='object')"
      ]
     },
     "execution_count": 154,
     "metadata": {},
     "output_type": "execute_result"
    }
   ],
   "source": [
    "BTC_df_ADX.columns"
   ]
  },
  {
   "cell_type": "code",
   "execution_count": 155,
   "metadata": {
    "id": "eCAyrQOaeQnA",
    "outputId": "bac7eca0-f7e8-4950-a4c6-365eba476a9e"
   },
   "outputs": [
    {
     "data": {
      "text/plain": [
       "Index(['Date', 'Price', 'Open', 'High', 'Low', 'Vol.', 'Percentage_diff',\n",
       "       'Target', 'ADXR'],\n",
       "      dtype='object')"
      ]
     },
     "execution_count": 155,
     "metadata": {},
     "output_type": "execute_result"
    }
   ],
   "source": [
    "BTC_df_ADXR.columns"
   ]
  },
  {
   "cell_type": "code",
   "execution_count": 156,
   "metadata": {
    "id": "_YVYoPOLeQnA",
    "outputId": "2e8063a5-d168-47d3-95ae-94639b8f7939"
   },
   "outputs": [
    {
     "data": {
      "text/plain": [
       "Index(['Date', 'Price', 'Open', 'High', 'Low', 'Vol.', 'Percentage_diff',\n",
       "       'Target', 'Aroondown', 'Aroonup', 'Aroon_Oscillator'],\n",
       "      dtype='object')"
      ]
     },
     "execution_count": 156,
     "metadata": {},
     "output_type": "execute_result"
    }
   ],
   "source": [
    "BTC_df_Aroon.columns"
   ]
  },
  {
   "cell_type": "code",
   "execution_count": 157,
   "metadata": {
    "id": "Cwf3DgaXeQnB",
    "outputId": "92121e09-e4bb-4b4a-df13-06b17dbcead5"
   },
   "outputs": [
    {
     "data": {
      "text/plain": [
       "Index(['Date', 'Price', 'Open', 'High', 'Low', 'Vol.', 'Percentage_diff',\n",
       "       'Target', 'MACD', 'MACDSIGNAL', 'MACDHIST'],\n",
       "      dtype='object')"
      ]
     },
     "execution_count": 157,
     "metadata": {},
     "output_type": "execute_result"
    }
   ],
   "source": [
    "BTC_df_MACD.columns"
   ]
  },
  {
   "cell_type": "code",
   "execution_count": 158,
   "metadata": {
    "id": "mv3RsRx_eQnC",
    "outputId": "0aa1e9d5-0642-4d55-a44c-b23815301009"
   },
   "outputs": [
    {
     "data": {
      "text/plain": [
       "Index(['Date', 'Price', 'Open', 'High', 'Low', 'Vol.', 'Percentage_diff',\n",
       "       'Target', 'MOM'],\n",
       "      dtype='object')"
      ]
     },
     "execution_count": 158,
     "metadata": {},
     "output_type": "execute_result"
    }
   ],
   "source": [
    "BTC_df_MOM.columns"
   ]
  },
  {
   "cell_type": "code",
   "execution_count": 159,
   "metadata": {
    "id": "Ttn8IvGteQnC",
    "outputId": "29c6409c-5ff8-4cf6-a734-30294037e478"
   },
   "outputs": [
    {
     "data": {
      "text/plain": [
       "Index(['Date', 'Price', 'Open', 'High', 'Low', 'Vol.', 'Percentage_diff',\n",
       "       'Target', 'ROC'],\n",
       "      dtype='object')"
      ]
     },
     "execution_count": 159,
     "metadata": {},
     "output_type": "execute_result"
    }
   ],
   "source": [
    "BTC_df_ROC.columns"
   ]
  },
  {
   "cell_type": "code",
   "execution_count": 160,
   "metadata": {
    "id": "epL7m4p6eQnC",
    "outputId": "033f70a9-8762-4fb1-bd43-568884f6d8aa"
   },
   "outputs": [
    {
     "data": {
      "text/plain": [
       "Index(['Date', 'Price', 'Open', 'High', 'Low', 'Vol.', 'Percentage_diff',\n",
       "       'Target', 'RSI', 'STOCHRSI_fastk', 'STOCHRSI_fastd'],\n",
       "      dtype='object')"
      ]
     },
     "execution_count": 160,
     "metadata": {},
     "output_type": "execute_result"
    }
   ],
   "source": [
    "BTC_df_RSI.columns"
   ]
  },
  {
   "cell_type": "code",
   "execution_count": 161,
   "metadata": {
    "id": "jggtMhm0eQnD",
    "outputId": "c2492cf7-e808-4981-81e4-478d806121ee"
   },
   "outputs": [
    {
     "data": {
      "text/plain": [
       "Index(['Date', 'Price', 'Open', 'High', 'Low', 'Vol.', 'Percentage_diff',\n",
       "       'Target', 'ULTOSC'],\n",
       "      dtype='object')"
      ]
     },
     "execution_count": 161,
     "metadata": {},
     "output_type": "execute_result"
    }
   ],
   "source": [
    "BTC_df_ULTOSC.columns"
   ]
  },
  {
   "cell_type": "code",
   "execution_count": 162,
   "metadata": {
    "id": "tEiWejeDeQnD",
    "outputId": "c6f204b2-5223-417d-9cfa-d6bbba6155b3"
   },
   "outputs": [
    {
     "data": {
      "text/plain": [
       "Index(['Date', 'Price', 'Open', 'High', 'Low', 'Vol.', 'Percentage_diff',\n",
       "       'Target', 'WILLR'],\n",
       "      dtype='object')"
      ]
     },
     "execution_count": 162,
     "metadata": {},
     "output_type": "execute_result"
    }
   ],
   "source": [
    "BTC_df_WILLR.columns"
   ]
  },
  {
   "cell_type": "code",
   "execution_count": 163,
   "metadata": {
    "id": "QPgtVUIleQnD"
   },
   "outputs": [],
   "source": [
    "BTC_ind_mom = pd.DataFrame ({'Date':BTC_df_ADX [\"Date\"], 'Price':BTC_df_ADX [\"Price\"], \n",
    "                             'Open': BTC_df_ADX [\"Open\"], 'High': BTC_df_ADX [\"High\"], \n",
    "                             'Low': BTC_df_ADX [\"Low\"], 'Vol.': BTC_df_ADX [\"Vol.\"], \n",
    "                             'Percentage_diff': BTC_df_ADX [\"Percentage_diff\"],'Target': BTC_df_ADX [\"Target\"], \n",
    "                             'ADX': BTC_df_ADX [\"ADX\"], 'ADX_MDI': BTC_df_ADX ['ADX_MDI'],\n",
    "                             'ADX_MDM': BTC_df_ADX ['ADX_MDI'],'ADX_DX': BTC_df_ADX ['ADX_DX'],\n",
    "                             'ADX_PDI': BTC_df_ADX ['ADX_PDI'], 'ADX_PDM': BTC_df_ADX ['ADX_PDM'],\n",
    "                             'Aroondown': BTC_df_Aroon['Aroondown'], 'Aroonup': BTC_df_Aroon['Aroonup'], \n",
    "                             'Aroon_Oscillator': BTC_df_Aroon['Aroon_Oscillator'],\n",
    "                             'MACD': BTC_df_MACD ['MACD'], 'MACDSIGNAL': BTC_df_MACD ['MACDSIGNAL'], \n",
    "                             'MACDHIST': BTC_df_MACD ['MACDHIST'],\n",
    "                             'MOM': BTC_df_MOM ['MOM'], 'ROC': BTC_df_ROC ['ROC'],\n",
    "                             'RSI': BTC_df_RSI ['RSI'], 'STOCHRSI_fastk': BTC_df_RSI ['STOCHRSI_fastk'],\n",
    "                             'STOCHRSI_fastd': BTC_df_RSI ['STOCHRSI_fastd'],\n",
    "                             'ULTOSC': BTC_df_ULTOSC ['ULTOSC'], 'WILLR': BTC_df_WILLR ['WILLR']                            \n",
    "                            })"
   ]
  },
  {
   "cell_type": "code",
   "execution_count": 164,
   "metadata": {
    "id": "uqisUPs5eQnE",
    "outputId": "a4cf2671-23e5-4869-f52d-3c90acbff42f"
   },
   "outputs": [
    {
     "data": {
      "text/html": [
       "<div>\n",
       "<style scoped>\n",
       "    .dataframe tbody tr th:only-of-type {\n",
       "        vertical-align: middle;\n",
       "    }\n",
       "\n",
       "    .dataframe tbody tr th {\n",
       "        vertical-align: top;\n",
       "    }\n",
       "\n",
       "    .dataframe thead th {\n",
       "        text-align: right;\n",
       "    }\n",
       "</style>\n",
       "<table border=\"1\" class=\"dataframe\">\n",
       "  <thead>\n",
       "    <tr style=\"text-align: right;\">\n",
       "      <th></th>\n",
       "      <th>Date</th>\n",
       "      <th>Price</th>\n",
       "      <th>Open</th>\n",
       "      <th>High</th>\n",
       "      <th>Low</th>\n",
       "      <th>Vol.</th>\n",
       "      <th>Percentage_diff</th>\n",
       "      <th>Target</th>\n",
       "      <th>ADX</th>\n",
       "      <th>ADX_MDI</th>\n",
       "      <th>ADX_MDM</th>\n",
       "      <th>ADX_DX</th>\n",
       "      <th>ADX_PDI</th>\n",
       "      <th>ADX_PDM</th>\n",
       "      <th>Aroondown</th>\n",
       "      <th>Aroonup</th>\n",
       "      <th>Aroon_Oscillator</th>\n",
       "      <th>MACD</th>\n",
       "      <th>MACDSIGNAL</th>\n",
       "      <th>MACDHIST</th>\n",
       "      <th>MOM</th>\n",
       "      <th>ROC</th>\n",
       "      <th>RSI</th>\n",
       "      <th>STOCHRSI_fastk</th>\n",
       "      <th>STOCHRSI_fastd</th>\n",
       "      <th>ULTOSC</th>\n",
       "      <th>WILLR</th>\n",
       "    </tr>\n",
       "  </thead>\n",
       "  <tbody>\n",
       "    <tr>\n",
       "      <th>4381</th>\n",
       "      <td>2022-07-16</td>\n",
       "      <td>21209.9</td>\n",
       "      <td>20825.2</td>\n",
       "      <td>21561.3</td>\n",
       "      <td>20484.4</td>\n",
       "      <td>136890.0</td>\n",
       "      <td>1.85</td>\n",
       "      <td>1.0</td>\n",
       "      <td>27.268083</td>\n",
       "      <td>24.194644</td>\n",
       "      <td>24.194644</td>\n",
       "      <td>6.885001</td>\n",
       "      <td>21.077646</td>\n",
       "      <td>3443.366972</td>\n",
       "      <td>7.142857</td>\n",
       "      <td>42.857143</td>\n",
       "      <td>35.714286</td>\n",
       "      <td>-636.592931</td>\n",
       "      <td>-960.502376</td>\n",
       "      <td>323.909445</td>\n",
       "      <td>648.8</td>\n",
       "      <td>0.031555</td>\n",
       "      <td>54.341002</td>\n",
       "      <td>100.000000</td>\n",
       "      <td>100.000000</td>\n",
       "      <td>55.402532</td>\n",
       "      <td>-34.498468</td>\n",
       "    </tr>\n",
       "    <tr>\n",
       "      <th>4382</th>\n",
       "      <td>2022-07-17</td>\n",
       "      <td>20785.6</td>\n",
       "      <td>21209.8</td>\n",
       "      <td>21654.4</td>\n",
       "      <td>20755.2</td>\n",
       "      <td>132810.0</td>\n",
       "      <td>-2.00</td>\n",
       "      <td>0.0</td>\n",
       "      <td>25.710035</td>\n",
       "      <td>22.840734</td>\n",
       "      <td>22.840734</td>\n",
       "      <td>5.455418</td>\n",
       "      <td>20.477541</td>\n",
       "      <td>3290.512188</td>\n",
       "      <td>0.000000</td>\n",
       "      <td>35.714286</td>\n",
       "      <td>35.714286</td>\n",
       "      <td>-577.232483</td>\n",
       "      <td>-883.848398</td>\n",
       "      <td>306.615914</td>\n",
       "      <td>-852.2</td>\n",
       "      <td>-0.039385</td>\n",
       "      <td>49.615550</td>\n",
       "      <td>59.412565</td>\n",
       "      <td>86.470855</td>\n",
       "      <td>52.658819</td>\n",
       "      <td>-47.925083</td>\n",
       "    </tr>\n",
       "    <tr>\n",
       "      <th>4383</th>\n",
       "      <td>2022-07-18</td>\n",
       "      <td>22525.8</td>\n",
       "      <td>20785.6</td>\n",
       "      <td>22714.9</td>\n",
       "      <td>20770.6</td>\n",
       "      <td>279720.0</td>\n",
       "      <td>8.37</td>\n",
       "      <td>1.0</td>\n",
       "      <td>24.545625</td>\n",
       "      <td>20.207578</td>\n",
       "      <td>20.207578</td>\n",
       "      <td>9.408284</td>\n",
       "      <td>24.404841</td>\n",
       "      <td>4115.975603</td>\n",
       "      <td>64.285714</td>\n",
       "      <td>100.000000</td>\n",
       "      <td>35.714286</td>\n",
       "      <td>-385.327489</td>\n",
       "      <td>-784.144216</td>\n",
       "      <td>398.816727</td>\n",
       "      <td>914.6</td>\n",
       "      <td>0.042321</td>\n",
       "      <td>63.915158</td>\n",
       "      <td>100.000000</td>\n",
       "      <td>86.470855</td>\n",
       "      <td>61.793596</td>\n",
       "      <td>-5.012325</td>\n",
       "    </tr>\n",
       "    <tr>\n",
       "      <th>4384</th>\n",
       "      <td>2022-07-19</td>\n",
       "      <td>23410.2</td>\n",
       "      <td>22529.3</td>\n",
       "      <td>23757.3</td>\n",
       "      <td>21581.8</td>\n",
       "      <td>308910.0</td>\n",
       "      <td>3.93</td>\n",
       "      <td>1.0</td>\n",
       "      <td>24.304487</td>\n",
       "      <td>17.742843</td>\n",
       "      <td>17.742843</td>\n",
       "      <td>21.169702</td>\n",
       "      <td>27.272446</td>\n",
       "      <td>4864.377346</td>\n",
       "      <td>57.142857</td>\n",
       "      <td>100.000000</td>\n",
       "      <td>42.857143</td>\n",
       "      <td>-160.032949</td>\n",
       "      <td>-659.321963</td>\n",
       "      <td>499.289013</td>\n",
       "      <td>1822.7</td>\n",
       "      <td>0.084433</td>\n",
       "      <td>68.899442</td>\n",
       "      <td>100.000000</td>\n",
       "      <td>86.470855</td>\n",
       "      <td>68.346203</td>\n",
       "      <td>-7.208573</td>\n",
       "    </tr>\n",
       "    <tr>\n",
       "      <th>4385</th>\n",
       "      <td>2022-07-20</td>\n",
       "      <td>23149.1</td>\n",
       "      <td>23412.0</td>\n",
       "      <td>23429.9</td>\n",
       "      <td>22965.9</td>\n",
       "      <td>290210.0</td>\n",
       "      <td>-1.12</td>\n",
       "      <td>0.0</td>\n",
       "      <td>24.080574</td>\n",
       "      <td>17.259314</td>\n",
       "      <td>17.259314</td>\n",
       "      <td>21.169702</td>\n",
       "      <td>26.529215</td>\n",
       "      <td>4516.921821</td>\n",
       "      <td>50.000000</td>\n",
       "      <td>92.857143</td>\n",
       "      <td>42.857143</td>\n",
       "      <td>-2.524886</td>\n",
       "      <td>-527.962547</td>\n",
       "      <td>525.437661</td>\n",
       "      <td>2301.7</td>\n",
       "      <td>0.110407</td>\n",
       "      <td>65.912930</td>\n",
       "      <td>87.564957</td>\n",
       "      <td>95.854986</td>\n",
       "      <td>64.588452</td>\n",
       "      <td>-12.631098</td>\n",
       "    </tr>\n",
       "  </tbody>\n",
       "</table>\n",
       "</div>"
      ],
      "text/plain": [
       "            Date    Price     Open     High      Low      Vol.  \\\n",
       "4381  2022-07-16  21209.9  20825.2  21561.3  20484.4  136890.0   \n",
       "4382  2022-07-17  20785.6  21209.8  21654.4  20755.2  132810.0   \n",
       "4383  2022-07-18  22525.8  20785.6  22714.9  20770.6  279720.0   \n",
       "4384  2022-07-19  23410.2  22529.3  23757.3  21581.8  308910.0   \n",
       "4385  2022-07-20  23149.1  23412.0  23429.9  22965.9  290210.0   \n",
       "\n",
       "      Percentage_diff  Target        ADX    ADX_MDI    ADX_MDM     ADX_DX  \\\n",
       "4381             1.85     1.0  27.268083  24.194644  24.194644   6.885001   \n",
       "4382            -2.00     0.0  25.710035  22.840734  22.840734   5.455418   \n",
       "4383             8.37     1.0  24.545625  20.207578  20.207578   9.408284   \n",
       "4384             3.93     1.0  24.304487  17.742843  17.742843  21.169702   \n",
       "4385            -1.12     0.0  24.080574  17.259314  17.259314  21.169702   \n",
       "\n",
       "        ADX_PDI      ADX_PDM  Aroondown     Aroonup  Aroon_Oscillator  \\\n",
       "4381  21.077646  3443.366972   7.142857   42.857143         35.714286   \n",
       "4382  20.477541  3290.512188   0.000000   35.714286         35.714286   \n",
       "4383  24.404841  4115.975603  64.285714  100.000000         35.714286   \n",
       "4384  27.272446  4864.377346  57.142857  100.000000         42.857143   \n",
       "4385  26.529215  4516.921821  50.000000   92.857143         42.857143   \n",
       "\n",
       "            MACD  MACDSIGNAL    MACDHIST     MOM       ROC        RSI  \\\n",
       "4381 -636.592931 -960.502376  323.909445   648.8  0.031555  54.341002   \n",
       "4382 -577.232483 -883.848398  306.615914  -852.2 -0.039385  49.615550   \n",
       "4383 -385.327489 -784.144216  398.816727   914.6  0.042321  63.915158   \n",
       "4384 -160.032949 -659.321963  499.289013  1822.7  0.084433  68.899442   \n",
       "4385   -2.524886 -527.962547  525.437661  2301.7  0.110407  65.912930   \n",
       "\n",
       "      STOCHRSI_fastk  STOCHRSI_fastd     ULTOSC      WILLR  \n",
       "4381      100.000000      100.000000  55.402532 -34.498468  \n",
       "4382       59.412565       86.470855  52.658819 -47.925083  \n",
       "4383      100.000000       86.470855  61.793596  -5.012325  \n",
       "4384      100.000000       86.470855  68.346203  -7.208573  \n",
       "4385       87.564957       95.854986  64.588452 -12.631098  "
      ]
     },
     "execution_count": 164,
     "metadata": {},
     "output_type": "execute_result"
    }
   ],
   "source": [
    "BTC_ind_mom.tail()"
   ]
  },
  {
   "cell_type": "code",
   "execution_count": 165,
   "metadata": {
    "id": "2mXTGxIBeQnE"
   },
   "outputs": [],
   "source": [
    "BTC_ind_mom.to_csv(r\"D:\\Luciano\\Programación\\Data science\\Trabajo final\\Bases de datos para modelos\\BTC_ind_mom.csv\", index=False, sep=\";\")"
   ]
  },
  {
   "cell_type": "markdown",
   "metadata": {
    "id": "aUF2e9jQeQnF"
   },
   "source": [
    "Data set con estrategias de trading"
   ]
  },
  {
   "cell_type": "code",
   "execution_count": 166,
   "metadata": {
    "id": "eb2izuHHeQnF",
    "outputId": "d9c36d72-6e3d-476b-9b50-8bbee437708e",
    "scrolled": true
   },
   "outputs": [
    {
     "data": {
      "text/plain": [
       "Index(['ADX_ET'], dtype='object')"
      ]
     },
     "execution_count": 166,
     "metadata": {},
     "output_type": "execute_result"
    }
   ],
   "source": [
    "ADX_ET_df.columns"
   ]
  },
  {
   "cell_type": "code",
   "execution_count": 167,
   "metadata": {
    "id": "_nLwCWMPeQnF",
    "outputId": "89f917aa-84a4-4530-ad96-28e0682db08c"
   },
   "outputs": [
    {
     "data": {
      "text/plain": [
       "Index(['ADXR_ET'], dtype='object')"
      ]
     },
     "execution_count": 167,
     "metadata": {},
     "output_type": "execute_result"
    }
   ],
   "source": [
    "ADXR_ET_df.columns"
   ]
  },
  {
   "cell_type": "code",
   "execution_count": 168,
   "metadata": {
    "id": "S-gFntbxeQnG",
    "outputId": "6d04831b-df57-4d33-ef13-0e9484ab9cb3"
   },
   "outputs": [
    {
     "data": {
      "text/plain": [
       "Index(['MACD_ET'], dtype='object')"
      ]
     },
     "execution_count": 168,
     "metadata": {},
     "output_type": "execute_result"
    }
   ],
   "source": [
    "MACD_ET_df.columns"
   ]
  },
  {
   "cell_type": "code",
   "execution_count": 169,
   "metadata": {
    "id": "z62VDL63eQnG",
    "outputId": "5062daaf-a25d-4a11-f9ad-62d86b742712"
   },
   "outputs": [
    {
     "data": {
      "text/plain": [
       "Index(['ROC_ET'], dtype='object')"
      ]
     },
     "execution_count": 169,
     "metadata": {},
     "output_type": "execute_result"
    }
   ],
   "source": [
    "ROC_ET_df.columns"
   ]
  },
  {
   "cell_type": "code",
   "execution_count": 170,
   "metadata": {
    "id": "JVfe-lkOeQnG",
    "outputId": "328ef7b5-3341-44cf-9067-f712f1a831b7"
   },
   "outputs": [
    {
     "data": {
      "text/plain": [
       "Index(['STOCHRSI_fastk_ET', 'STOCHRSI_fastd_ET'], dtype='object')"
      ]
     },
     "execution_count": 170,
     "metadata": {},
     "output_type": "execute_result"
    }
   ],
   "source": [
    "STOCHRSI_ET_df.columns"
   ]
  },
  {
   "cell_type": "code",
   "execution_count": 171,
   "metadata": {
    "id": "gln9t2CdeQnH"
   },
   "outputs": [],
   "source": [
    "BTC_ind_mom_ET = pd.concat ([BTC_ind_mom, ADX_ET_df, ADXR_ET_df, MACD_ET_df, ROC_ET_df, STOCHRSI_ET_df], axis=1)"
   ]
  },
  {
   "cell_type": "code",
   "execution_count": 172,
   "metadata": {
    "id": "ZIUMw_1eeQnH",
    "outputId": "dd75794a-5704-4933-b93b-2f3a7d237839"
   },
   "outputs": [
    {
     "data": {
      "text/html": [
       "<div>\n",
       "<style scoped>\n",
       "    .dataframe tbody tr th:only-of-type {\n",
       "        vertical-align: middle;\n",
       "    }\n",
       "\n",
       "    .dataframe tbody tr th {\n",
       "        vertical-align: top;\n",
       "    }\n",
       "\n",
       "    .dataframe thead th {\n",
       "        text-align: right;\n",
       "    }\n",
       "</style>\n",
       "<table border=\"1\" class=\"dataframe\">\n",
       "  <thead>\n",
       "    <tr style=\"text-align: right;\">\n",
       "      <th></th>\n",
       "      <th>Date</th>\n",
       "      <th>Price</th>\n",
       "      <th>Open</th>\n",
       "      <th>High</th>\n",
       "      <th>Low</th>\n",
       "      <th>Vol.</th>\n",
       "      <th>Percentage_diff</th>\n",
       "      <th>Target</th>\n",
       "      <th>ADX</th>\n",
       "      <th>ADX_MDI</th>\n",
       "      <th>ADX_MDM</th>\n",
       "      <th>ADX_DX</th>\n",
       "      <th>ADX_PDI</th>\n",
       "      <th>ADX_PDM</th>\n",
       "      <th>Aroondown</th>\n",
       "      <th>Aroonup</th>\n",
       "      <th>Aroon_Oscillator</th>\n",
       "      <th>MACD</th>\n",
       "      <th>MACDSIGNAL</th>\n",
       "      <th>MACDHIST</th>\n",
       "      <th>MOM</th>\n",
       "      <th>ROC</th>\n",
       "      <th>RSI</th>\n",
       "      <th>STOCHRSI_fastk</th>\n",
       "      <th>STOCHRSI_fastd</th>\n",
       "      <th>ULTOSC</th>\n",
       "      <th>WILLR</th>\n",
       "      <th>ADX_ET</th>\n",
       "      <th>ADXR_ET</th>\n",
       "      <th>MACD_ET</th>\n",
       "      <th>ROC_ET</th>\n",
       "      <th>STOCHRSI_fastk_ET</th>\n",
       "      <th>STOCHRSI_fastd_ET</th>\n",
       "    </tr>\n",
       "  </thead>\n",
       "  <tbody>\n",
       "    <tr>\n",
       "      <th>4381</th>\n",
       "      <td>2022-07-16</td>\n",
       "      <td>21209.9</td>\n",
       "      <td>20825.2</td>\n",
       "      <td>21561.3</td>\n",
       "      <td>20484.4</td>\n",
       "      <td>136890.0</td>\n",
       "      <td>1.85</td>\n",
       "      <td>1.0</td>\n",
       "      <td>27.268083</td>\n",
       "      <td>24.194644</td>\n",
       "      <td>24.194644</td>\n",
       "      <td>6.885001</td>\n",
       "      <td>21.077646</td>\n",
       "      <td>3443.366972</td>\n",
       "      <td>7.142857</td>\n",
       "      <td>42.857143</td>\n",
       "      <td>35.714286</td>\n",
       "      <td>-636.592931</td>\n",
       "      <td>-960.502376</td>\n",
       "      <td>323.909445</td>\n",
       "      <td>648.8</td>\n",
       "      <td>0.031555</td>\n",
       "      <td>54.341002</td>\n",
       "      <td>100.000000</td>\n",
       "      <td>100.000000</td>\n",
       "      <td>55.402532</td>\n",
       "      <td>-34.498468</td>\n",
       "      <td>Mantener_posicion</td>\n",
       "      <td>Mantener_posicion</td>\n",
       "      <td>Mantener_posicion</td>\n",
       "      <td>Mantener_posicion</td>\n",
       "      <td>Mantener_posicion</td>\n",
       "      <td>Mantener_posicion</td>\n",
       "    </tr>\n",
       "    <tr>\n",
       "      <th>4382</th>\n",
       "      <td>2022-07-17</td>\n",
       "      <td>20785.6</td>\n",
       "      <td>21209.8</td>\n",
       "      <td>21654.4</td>\n",
       "      <td>20755.2</td>\n",
       "      <td>132810.0</td>\n",
       "      <td>-2.00</td>\n",
       "      <td>0.0</td>\n",
       "      <td>25.710035</td>\n",
       "      <td>22.840734</td>\n",
       "      <td>22.840734</td>\n",
       "      <td>5.455418</td>\n",
       "      <td>20.477541</td>\n",
       "      <td>3290.512188</td>\n",
       "      <td>0.000000</td>\n",
       "      <td>35.714286</td>\n",
       "      <td>35.714286</td>\n",
       "      <td>-577.232483</td>\n",
       "      <td>-883.848398</td>\n",
       "      <td>306.615914</td>\n",
       "      <td>-852.2</td>\n",
       "      <td>-0.039385</td>\n",
       "      <td>49.615550</td>\n",
       "      <td>59.412565</td>\n",
       "      <td>86.470855</td>\n",
       "      <td>52.658819</td>\n",
       "      <td>-47.925083</td>\n",
       "      <td>Mantener_posicion</td>\n",
       "      <td>Mantener_posicion</td>\n",
       "      <td>Mantener_posicion</td>\n",
       "      <td>Vender</td>\n",
       "      <td>Vender</td>\n",
       "      <td>Mantener_posicion</td>\n",
       "    </tr>\n",
       "    <tr>\n",
       "      <th>4383</th>\n",
       "      <td>2022-07-18</td>\n",
       "      <td>22525.8</td>\n",
       "      <td>20785.6</td>\n",
       "      <td>22714.9</td>\n",
       "      <td>20770.6</td>\n",
       "      <td>279720.0</td>\n",
       "      <td>8.37</td>\n",
       "      <td>1.0</td>\n",
       "      <td>24.545625</td>\n",
       "      <td>20.207578</td>\n",
       "      <td>20.207578</td>\n",
       "      <td>9.408284</td>\n",
       "      <td>24.404841</td>\n",
       "      <td>4115.975603</td>\n",
       "      <td>64.285714</td>\n",
       "      <td>100.000000</td>\n",
       "      <td>35.714286</td>\n",
       "      <td>-385.327489</td>\n",
       "      <td>-784.144216</td>\n",
       "      <td>398.816727</td>\n",
       "      <td>914.6</td>\n",
       "      <td>0.042321</td>\n",
       "      <td>63.915158</td>\n",
       "      <td>100.000000</td>\n",
       "      <td>86.470855</td>\n",
       "      <td>61.793596</td>\n",
       "      <td>-5.012325</td>\n",
       "      <td>Comprar</td>\n",
       "      <td>Mantener_posicion</td>\n",
       "      <td>Mantener_posicion</td>\n",
       "      <td>Comprar</td>\n",
       "      <td>Comprar</td>\n",
       "      <td>Mantener_posicion</td>\n",
       "    </tr>\n",
       "    <tr>\n",
       "      <th>4384</th>\n",
       "      <td>2022-07-19</td>\n",
       "      <td>23410.2</td>\n",
       "      <td>22529.3</td>\n",
       "      <td>23757.3</td>\n",
       "      <td>21581.8</td>\n",
       "      <td>308910.0</td>\n",
       "      <td>3.93</td>\n",
       "      <td>1.0</td>\n",
       "      <td>24.304487</td>\n",
       "      <td>17.742843</td>\n",
       "      <td>17.742843</td>\n",
       "      <td>21.169702</td>\n",
       "      <td>27.272446</td>\n",
       "      <td>4864.377346</td>\n",
       "      <td>57.142857</td>\n",
       "      <td>100.000000</td>\n",
       "      <td>42.857143</td>\n",
       "      <td>-160.032949</td>\n",
       "      <td>-659.321963</td>\n",
       "      <td>499.289013</td>\n",
       "      <td>1822.7</td>\n",
       "      <td>0.084433</td>\n",
       "      <td>68.899442</td>\n",
       "      <td>100.000000</td>\n",
       "      <td>86.470855</td>\n",
       "      <td>68.346203</td>\n",
       "      <td>-7.208573</td>\n",
       "      <td>Mantener_posicion</td>\n",
       "      <td>Mantener_posicion</td>\n",
       "      <td>Mantener_posicion</td>\n",
       "      <td>Mantener_posicion</td>\n",
       "      <td>Mantener_posicion</td>\n",
       "      <td>Mantener_posicion</td>\n",
       "    </tr>\n",
       "    <tr>\n",
       "      <th>4385</th>\n",
       "      <td>2022-07-20</td>\n",
       "      <td>23149.1</td>\n",
       "      <td>23412.0</td>\n",
       "      <td>23429.9</td>\n",
       "      <td>22965.9</td>\n",
       "      <td>290210.0</td>\n",
       "      <td>-1.12</td>\n",
       "      <td>0.0</td>\n",
       "      <td>24.080574</td>\n",
       "      <td>17.259314</td>\n",
       "      <td>17.259314</td>\n",
       "      <td>21.169702</td>\n",
       "      <td>26.529215</td>\n",
       "      <td>4516.921821</td>\n",
       "      <td>50.000000</td>\n",
       "      <td>92.857143</td>\n",
       "      <td>42.857143</td>\n",
       "      <td>-2.524886</td>\n",
       "      <td>-527.962547</td>\n",
       "      <td>525.437661</td>\n",
       "      <td>2301.7</td>\n",
       "      <td>0.110407</td>\n",
       "      <td>65.912930</td>\n",
       "      <td>87.564957</td>\n",
       "      <td>95.854986</td>\n",
       "      <td>64.588452</td>\n",
       "      <td>-12.631098</td>\n",
       "      <td>Mantener_posicion</td>\n",
       "      <td>Mantener_posicion</td>\n",
       "      <td>Mantener_posicion</td>\n",
       "      <td>Mantener_posicion</td>\n",
       "      <td>Mantener_posicion</td>\n",
       "      <td>Mantener_posicion</td>\n",
       "    </tr>\n",
       "  </tbody>\n",
       "</table>\n",
       "</div>"
      ],
      "text/plain": [
       "            Date    Price     Open     High      Low      Vol.  \\\n",
       "4381  2022-07-16  21209.9  20825.2  21561.3  20484.4  136890.0   \n",
       "4382  2022-07-17  20785.6  21209.8  21654.4  20755.2  132810.0   \n",
       "4383  2022-07-18  22525.8  20785.6  22714.9  20770.6  279720.0   \n",
       "4384  2022-07-19  23410.2  22529.3  23757.3  21581.8  308910.0   \n",
       "4385  2022-07-20  23149.1  23412.0  23429.9  22965.9  290210.0   \n",
       "\n",
       "      Percentage_diff  Target        ADX    ADX_MDI    ADX_MDM     ADX_DX  \\\n",
       "4381             1.85     1.0  27.268083  24.194644  24.194644   6.885001   \n",
       "4382            -2.00     0.0  25.710035  22.840734  22.840734   5.455418   \n",
       "4383             8.37     1.0  24.545625  20.207578  20.207578   9.408284   \n",
       "4384             3.93     1.0  24.304487  17.742843  17.742843  21.169702   \n",
       "4385            -1.12     0.0  24.080574  17.259314  17.259314  21.169702   \n",
       "\n",
       "        ADX_PDI      ADX_PDM  Aroondown     Aroonup  Aroon_Oscillator  \\\n",
       "4381  21.077646  3443.366972   7.142857   42.857143         35.714286   \n",
       "4382  20.477541  3290.512188   0.000000   35.714286         35.714286   \n",
       "4383  24.404841  4115.975603  64.285714  100.000000         35.714286   \n",
       "4384  27.272446  4864.377346  57.142857  100.000000         42.857143   \n",
       "4385  26.529215  4516.921821  50.000000   92.857143         42.857143   \n",
       "\n",
       "            MACD  MACDSIGNAL    MACDHIST     MOM       ROC        RSI  \\\n",
       "4381 -636.592931 -960.502376  323.909445   648.8  0.031555  54.341002   \n",
       "4382 -577.232483 -883.848398  306.615914  -852.2 -0.039385  49.615550   \n",
       "4383 -385.327489 -784.144216  398.816727   914.6  0.042321  63.915158   \n",
       "4384 -160.032949 -659.321963  499.289013  1822.7  0.084433  68.899442   \n",
       "4385   -2.524886 -527.962547  525.437661  2301.7  0.110407  65.912930   \n",
       "\n",
       "      STOCHRSI_fastk  STOCHRSI_fastd     ULTOSC      WILLR             ADX_ET  \\\n",
       "4381      100.000000      100.000000  55.402532 -34.498468  Mantener_posicion   \n",
       "4382       59.412565       86.470855  52.658819 -47.925083  Mantener_posicion   \n",
       "4383      100.000000       86.470855  61.793596  -5.012325            Comprar   \n",
       "4384      100.000000       86.470855  68.346203  -7.208573  Mantener_posicion   \n",
       "4385       87.564957       95.854986  64.588452 -12.631098  Mantener_posicion   \n",
       "\n",
       "                ADXR_ET            MACD_ET             ROC_ET  \\\n",
       "4381  Mantener_posicion  Mantener_posicion  Mantener_posicion   \n",
       "4382  Mantener_posicion  Mantener_posicion             Vender   \n",
       "4383  Mantener_posicion  Mantener_posicion            Comprar   \n",
       "4384  Mantener_posicion  Mantener_posicion  Mantener_posicion   \n",
       "4385  Mantener_posicion  Mantener_posicion  Mantener_posicion   \n",
       "\n",
       "      STOCHRSI_fastk_ET  STOCHRSI_fastd_ET  \n",
       "4381  Mantener_posicion  Mantener_posicion  \n",
       "4382             Vender  Mantener_posicion  \n",
       "4383            Comprar  Mantener_posicion  \n",
       "4384  Mantener_posicion  Mantener_posicion  \n",
       "4385  Mantener_posicion  Mantener_posicion  "
      ]
     },
     "execution_count": 172,
     "metadata": {},
     "output_type": "execute_result"
    }
   ],
   "source": [
    "BTC_ind_mom_ET.tail()"
   ]
  },
  {
   "cell_type": "code",
   "execution_count": 173,
   "metadata": {
    "id": "YcT1hw4ReQnH"
   },
   "outputs": [],
   "source": [
    "BTC_ind_mom_ET.to_csv(r\"D:\\Luciano\\Programación\\Data science\\Trabajo final\\Bases de datos para modelos\\BTC_ind_mom_ET.csv\", index=False, sep=\";\")"
   ]
  },
  {
   "cell_type": "markdown",
   "metadata": {
    "id": "e2oG4_lheQnH"
   },
   "source": [
    "### Volumen indicators"
   ]
  },
  {
   "cell_type": "markdown",
   "metadata": {
    "id": "lUBAjbfDeQnI"
   },
   "source": [
    "#### Chaikin A/D Oscillator (ADOSC)\n",
    "\n",
    "* Información (EN): https://www.investopedia.com/articles/active-trading/031914/understanding-chaikin-oscillator.asp"
   ]
  },
  {
   "cell_type": "code",
   "execution_count": 174,
   "metadata": {
    "id": "sSuGyQKGeQnJ"
   },
   "outputs": [],
   "source": [
    "# Se crea un back up\n",
    "BTC_df_ADOSC = BTC_df.copy()"
   ]
  },
  {
   "cell_type": "code",
   "execution_count": 175,
   "metadata": {
    "id": "cvpiD8YteQnJ"
   },
   "outputs": [],
   "source": [
    "# Se calcula el oscilador Chaiking A/D\n",
    "BTC_df_ADOSC [\"ADOSC\"] = ta.ADOSC (BTC_df_ADOSC [\"High\"], BTC_df_ADOSC [\"Low\"], BTC_df_ADOSC [\"Price\"], BTC_df_ADOSC [\"Vol.\"], fastperiod=3, slowperiod=10)"
   ]
  },
  {
   "cell_type": "code",
   "execution_count": 176,
   "metadata": {
    "id": "8Yf805qReQnK",
    "outputId": "a0adcb6a-b261-45a6-8501-eecb3121ab78"
   },
   "outputs": [
    {
     "data": {
      "text/html": [
       "<div>\n",
       "<style scoped>\n",
       "    .dataframe tbody tr th:only-of-type {\n",
       "        vertical-align: middle;\n",
       "    }\n",
       "\n",
       "    .dataframe tbody tr th {\n",
       "        vertical-align: top;\n",
       "    }\n",
       "\n",
       "    .dataframe thead th {\n",
       "        text-align: right;\n",
       "    }\n",
       "</style>\n",
       "<table border=\"1\" class=\"dataframe\">\n",
       "  <thead>\n",
       "    <tr style=\"text-align: right;\">\n",
       "      <th></th>\n",
       "      <th>Date</th>\n",
       "      <th>Price</th>\n",
       "      <th>Open</th>\n",
       "      <th>High</th>\n",
       "      <th>Low</th>\n",
       "      <th>Vol.</th>\n",
       "      <th>Percentage_diff</th>\n",
       "      <th>Target</th>\n",
       "      <th>ADOSC</th>\n",
       "    </tr>\n",
       "  </thead>\n",
       "  <tbody>\n",
       "    <tr>\n",
       "      <th>4381</th>\n",
       "      <td>2022-07-16</td>\n",
       "      <td>21209.9</td>\n",
       "      <td>20825.2</td>\n",
       "      <td>21561.3</td>\n",
       "      <td>20484.4</td>\n",
       "      <td>136890.0</td>\n",
       "      <td>1.85</td>\n",
       "      <td>1.0</td>\n",
       "      <td>38511.511976</td>\n",
       "    </tr>\n",
       "    <tr>\n",
       "      <th>4382</th>\n",
       "      <td>2022-07-17</td>\n",
       "      <td>20785.6</td>\n",
       "      <td>21209.8</td>\n",
       "      <td>21654.4</td>\n",
       "      <td>20755.2</td>\n",
       "      <td>132810.0</td>\n",
       "      <td>-2.00</td>\n",
       "      <td>0.0</td>\n",
       "      <td>7776.544982</td>\n",
       "    </tr>\n",
       "    <tr>\n",
       "      <th>4383</th>\n",
       "      <td>2022-07-18</td>\n",
       "      <td>22525.8</td>\n",
       "      <td>20785.6</td>\n",
       "      <td>22714.9</td>\n",
       "      <td>20770.6</td>\n",
       "      <td>279720.0</td>\n",
       "      <td>8.37</td>\n",
       "      <td>1.0</td>\n",
       "      <td>66185.614950</td>\n",
       "    </tr>\n",
       "    <tr>\n",
       "      <th>4384</th>\n",
       "      <td>2022-07-19</td>\n",
       "      <td>23410.2</td>\n",
       "      <td>22529.3</td>\n",
       "      <td>23757.3</td>\n",
       "      <td>21581.8</td>\n",
       "      <td>308910.0</td>\n",
       "      <td>3.93</td>\n",
       "      <td>1.0</td>\n",
       "      <td>150988.804515</td>\n",
       "    </tr>\n",
       "    <tr>\n",
       "      <th>4385</th>\n",
       "      <td>2022-07-20</td>\n",
       "      <td>23149.1</td>\n",
       "      <td>23412.0</td>\n",
       "      <td>23429.9</td>\n",
       "      <td>22965.9</td>\n",
       "      <td>290210.0</td>\n",
       "      <td>-1.12</td>\n",
       "      <td>0.0</td>\n",
       "      <td>152531.617704</td>\n",
       "    </tr>\n",
       "  </tbody>\n",
       "</table>\n",
       "</div>"
      ],
      "text/plain": [
       "            Date    Price     Open     High      Low      Vol.  \\\n",
       "4381  2022-07-16  21209.9  20825.2  21561.3  20484.4  136890.0   \n",
       "4382  2022-07-17  20785.6  21209.8  21654.4  20755.2  132810.0   \n",
       "4383  2022-07-18  22525.8  20785.6  22714.9  20770.6  279720.0   \n",
       "4384  2022-07-19  23410.2  22529.3  23757.3  21581.8  308910.0   \n",
       "4385  2022-07-20  23149.1  23412.0  23429.9  22965.9  290210.0   \n",
       "\n",
       "      Percentage_diff  Target          ADOSC  \n",
       "4381             1.85     1.0   38511.511976  \n",
       "4382            -2.00     0.0    7776.544982  \n",
       "4383             8.37     1.0   66185.614950  \n",
       "4384             3.93     1.0  150988.804515  \n",
       "4385            -1.12     0.0  152531.617704  "
      ]
     },
     "execution_count": 176,
     "metadata": {},
     "output_type": "execute_result"
    }
   ],
   "source": [
    "BTC_df_ADOSC.tail()"
   ]
  },
  {
   "cell_type": "markdown",
   "metadata": {
    "id": "WHUtoX5meQnL"
   },
   "source": [
    "Estrategia de trading siguiendo el Chaikin A/D Oscillator (ADOSC)\n",
    "\n",
    "* Se considera que si el indicador supera el valor 0 se debería evaluar la compra del activo (sobreventa).\n",
    "* Se considera que si el indicador cae por debajo de 0 se debería evaluar la compra del activo (sobrecompra).\n",
    "* En el resto de los casos se recomienda mantener la última posición (no hay grandes cambios)."
   ]
  },
  {
   "cell_type": "code",
   "execution_count": 178,
   "metadata": {
    "id": "5DyYsn0zeQnL"
   },
   "outputs": [],
   "source": [
    "BTC_df_ADOSC_ET = BTC_df_ADOSC.copy()"
   ]
  },
  {
   "cell_type": "code",
   "execution_count": 179,
   "metadata": {
    "id": "RSvETBCWeQnL",
    "outputId": "17e6f67f-cb16-4b6c-d574-732b052e14b4"
   },
   "outputs": [
    {
     "data": {
      "text/plain": [
       "Index(['Date', 'Price', 'Open', 'High', 'Low', 'Vol.', 'Percentage_diff',\n",
       "       'Target', 'ADOSC'],\n",
       "      dtype='object')"
      ]
     },
     "execution_count": 179,
     "metadata": {},
     "output_type": "execute_result"
    }
   ],
   "source": [
    "BTC_df_ADOSC_ET.columns"
   ]
  },
  {
   "cell_type": "code",
   "execution_count": 180,
   "metadata": {
    "id": "nlAe9Pv0eQnM"
   },
   "outputs": [],
   "source": [
    "# Se aplica la estrategia de trading\n",
    "ADOSC_ET_df = pd.DataFrame()\n",
    "ADOSC_ET_df\n",
    "\n",
    "ADOSC_ET = []\n",
    "\n",
    "x=0\n",
    "while x < len (BTC_df_ADOSC_ET [\"Price\"]): \n",
    "    \n",
    "    if x<10: # Necesita 10 valores para empezar el proceso (por defecto del uso común del indicador)\n",
    "        ADOSC_ET.append (\"Mantener_posicion\")\n",
    "        \n",
    "    elif BTC_df_ADOSC_ET [\"ADOSC\"] [x] >= 0:\n",
    "        \n",
    "        if BTC_df_ADOSC_ET [\"ADOSC\"] [x-1] >=0:\n",
    "            ADOSC_ET.append (\"Mantener_posicion\")\n",
    "            \n",
    "        elif BTC_df_ADOSC_ET [\"ADOSC\"] [x-1] < 0:\n",
    "            ADOSC_ET.append (\"Comprar\")\n",
    "    \n",
    "    elif BTC_df_ADOSC_ET [\"ADOSC\"] [x] < 0:\n",
    "        \n",
    "        if BTC_df_ADOSC_ET [\"ADOSC\"] [x-1] >= 0:\n",
    "            ADOSC_ET.append (\"Vender\")\n",
    "            \n",
    "        if BTC_df_ADOSC_ET [\"ADOSC\"] [x-1] < 0:\n",
    "            ADOSC_ET.append (\"Mantener_posicion\")\n",
    "            \n",
    "        \n",
    "    x+=1\n",
    "    \n",
    "ADOSC_ET_df [\"ADOSC_ET\"] = pd.Series(ADOSC_ET)"
   ]
  },
  {
   "cell_type": "code",
   "execution_count": 181,
   "metadata": {
    "id": "obb6rvk7eQnN",
    "outputId": "7d79b868-ab32-4f11-db2a-51350e7e1d61"
   },
   "outputs": [
    {
     "name": "stdout",
     "output_type": "stream",
     "text": [
      "<class 'pandas.core.frame.DataFrame'>\n",
      "RangeIndex: 4386 entries, 0 to 4385\n",
      "Data columns (total 1 columns):\n",
      " #   Column    Non-Null Count  Dtype \n",
      "---  ------    --------------  ----- \n",
      " 0   ADOSC_ET  4386 non-null   object\n",
      "dtypes: object(1)\n",
      "memory usage: 34.4+ KB\n"
     ]
    }
   ],
   "source": [
    "ADOSC_ET_df.info()"
   ]
  },
  {
   "cell_type": "markdown",
   "metadata": {},
   "source": [
    "Se concatena las columnas de la estrategia de trading a la tabla de BTC_df_ADOSC_ET (ya posee los valores del indicador)."
   ]
  },
  {
   "cell_type": "code",
   "execution_count": 182,
   "metadata": {
    "id": "yNHo98AdeQnN"
   },
   "outputs": [],
   "source": [
    "BTC_ADOSC_ET_df = pd.concat ([BTC_df_ADOSC_ET, ADOSC_ET_df], axis=1)"
   ]
  },
  {
   "cell_type": "code",
   "execution_count": 183,
   "metadata": {
    "id": "lZpj8azAeQnN",
    "outputId": "140ace53-de4e-4ab7-d9cb-6c379b76671c"
   },
   "outputs": [
    {
     "data": {
      "text/html": [
       "<div>\n",
       "<style scoped>\n",
       "    .dataframe tbody tr th:only-of-type {\n",
       "        vertical-align: middle;\n",
       "    }\n",
       "\n",
       "    .dataframe tbody tr th {\n",
       "        vertical-align: top;\n",
       "    }\n",
       "\n",
       "    .dataframe thead th {\n",
       "        text-align: right;\n",
       "    }\n",
       "</style>\n",
       "<table border=\"1\" class=\"dataframe\">\n",
       "  <thead>\n",
       "    <tr style=\"text-align: right;\">\n",
       "      <th></th>\n",
       "      <th>Date</th>\n",
       "      <th>Price</th>\n",
       "      <th>Open</th>\n",
       "      <th>High</th>\n",
       "      <th>Low</th>\n",
       "      <th>Vol.</th>\n",
       "      <th>Percentage_diff</th>\n",
       "      <th>Target</th>\n",
       "      <th>ADOSC</th>\n",
       "      <th>ADOSC_ET</th>\n",
       "    </tr>\n",
       "  </thead>\n",
       "  <tbody>\n",
       "    <tr>\n",
       "      <th>4381</th>\n",
       "      <td>2022-07-16</td>\n",
       "      <td>21209.9</td>\n",
       "      <td>20825.2</td>\n",
       "      <td>21561.3</td>\n",
       "      <td>20484.4</td>\n",
       "      <td>136890.0</td>\n",
       "      <td>1.85</td>\n",
       "      <td>1.0</td>\n",
       "      <td>38511.511976</td>\n",
       "      <td>Mantener_posicion</td>\n",
       "    </tr>\n",
       "    <tr>\n",
       "      <th>4382</th>\n",
       "      <td>2022-07-17</td>\n",
       "      <td>20785.6</td>\n",
       "      <td>21209.8</td>\n",
       "      <td>21654.4</td>\n",
       "      <td>20755.2</td>\n",
       "      <td>132810.0</td>\n",
       "      <td>-2.00</td>\n",
       "      <td>0.0</td>\n",
       "      <td>7776.544982</td>\n",
       "      <td>Mantener_posicion</td>\n",
       "    </tr>\n",
       "    <tr>\n",
       "      <th>4383</th>\n",
       "      <td>2022-07-18</td>\n",
       "      <td>22525.8</td>\n",
       "      <td>20785.6</td>\n",
       "      <td>22714.9</td>\n",
       "      <td>20770.6</td>\n",
       "      <td>279720.0</td>\n",
       "      <td>8.37</td>\n",
       "      <td>1.0</td>\n",
       "      <td>66185.614950</td>\n",
       "      <td>Mantener_posicion</td>\n",
       "    </tr>\n",
       "    <tr>\n",
       "      <th>4384</th>\n",
       "      <td>2022-07-19</td>\n",
       "      <td>23410.2</td>\n",
       "      <td>22529.3</td>\n",
       "      <td>23757.3</td>\n",
       "      <td>21581.8</td>\n",
       "      <td>308910.0</td>\n",
       "      <td>3.93</td>\n",
       "      <td>1.0</td>\n",
       "      <td>150988.804515</td>\n",
       "      <td>Mantener_posicion</td>\n",
       "    </tr>\n",
       "    <tr>\n",
       "      <th>4385</th>\n",
       "      <td>2022-07-20</td>\n",
       "      <td>23149.1</td>\n",
       "      <td>23412.0</td>\n",
       "      <td>23429.9</td>\n",
       "      <td>22965.9</td>\n",
       "      <td>290210.0</td>\n",
       "      <td>-1.12</td>\n",
       "      <td>0.0</td>\n",
       "      <td>152531.617704</td>\n",
       "      <td>Mantener_posicion</td>\n",
       "    </tr>\n",
       "  </tbody>\n",
       "</table>\n",
       "</div>"
      ],
      "text/plain": [
       "            Date    Price     Open     High      Low      Vol.  \\\n",
       "4381  2022-07-16  21209.9  20825.2  21561.3  20484.4  136890.0   \n",
       "4382  2022-07-17  20785.6  21209.8  21654.4  20755.2  132810.0   \n",
       "4383  2022-07-18  22525.8  20785.6  22714.9  20770.6  279720.0   \n",
       "4384  2022-07-19  23410.2  22529.3  23757.3  21581.8  308910.0   \n",
       "4385  2022-07-20  23149.1  23412.0  23429.9  22965.9  290210.0   \n",
       "\n",
       "      Percentage_diff  Target          ADOSC           ADOSC_ET  \n",
       "4381             1.85     1.0   38511.511976  Mantener_posicion  \n",
       "4382            -2.00     0.0    7776.544982  Mantener_posicion  \n",
       "4383             8.37     1.0   66185.614950  Mantener_posicion  \n",
       "4384             3.93     1.0  150988.804515  Mantener_posicion  \n",
       "4385            -1.12     0.0  152531.617704  Mantener_posicion  "
      ]
     },
     "execution_count": 183,
     "metadata": {},
     "output_type": "execute_result"
    }
   ],
   "source": [
    "BTC_ADOSC_ET_df.tail()"
   ]
  },
  {
   "cell_type": "markdown",
   "metadata": {},
   "source": [
    "#### Se crea los data set del indicador"
   ]
  },
  {
   "cell_type": "markdown",
   "metadata": {},
   "source": [
    "Data set sin estrategia de trading"
   ]
  },
  {
   "cell_type": "code",
   "execution_count": 177,
   "metadata": {
    "id": "z8q0iiwKeQnK"
   },
   "outputs": [],
   "source": [
    "BTC_df_ADOSC.to_csv (r\"D:\\Luciano\\Programación\\Data science\\Trabajo final\\Bases de datos para modelos\\BTC_ind_vol.csv\", index=False, sep=\";\")"
   ]
  },
  {
   "cell_type": "markdown",
   "metadata": {},
   "source": [
    "Data set con estrategia de trading"
   ]
  },
  {
   "cell_type": "code",
   "execution_count": 184,
   "metadata": {
    "id": "w5u6w5fseQnO"
   },
   "outputs": [],
   "source": [
    "BTC_ind_vol_ET = pd.concat ([BTC_df_ADOSC, ADOSC_ET_df], axis=1)"
   ]
  },
  {
   "cell_type": "code",
   "execution_count": 185,
   "metadata": {
    "id": "zqt0I3BWeQnO",
    "outputId": "c78dee35-29f3-48fd-b264-2370f7ae5e82"
   },
   "outputs": [
    {
     "data": {
      "text/html": [
       "<div>\n",
       "<style scoped>\n",
       "    .dataframe tbody tr th:only-of-type {\n",
       "        vertical-align: middle;\n",
       "    }\n",
       "\n",
       "    .dataframe tbody tr th {\n",
       "        vertical-align: top;\n",
       "    }\n",
       "\n",
       "    .dataframe thead th {\n",
       "        text-align: right;\n",
       "    }\n",
       "</style>\n",
       "<table border=\"1\" class=\"dataframe\">\n",
       "  <thead>\n",
       "    <tr style=\"text-align: right;\">\n",
       "      <th></th>\n",
       "      <th>Date</th>\n",
       "      <th>Price</th>\n",
       "      <th>Open</th>\n",
       "      <th>High</th>\n",
       "      <th>Low</th>\n",
       "      <th>Vol.</th>\n",
       "      <th>Percentage_diff</th>\n",
       "      <th>Target</th>\n",
       "      <th>ADOSC</th>\n",
       "      <th>ADOSC_ET</th>\n",
       "    </tr>\n",
       "  </thead>\n",
       "  <tbody>\n",
       "    <tr>\n",
       "      <th>4381</th>\n",
       "      <td>2022-07-16</td>\n",
       "      <td>21209.9</td>\n",
       "      <td>20825.2</td>\n",
       "      <td>21561.3</td>\n",
       "      <td>20484.4</td>\n",
       "      <td>136890.0</td>\n",
       "      <td>1.85</td>\n",
       "      <td>1.0</td>\n",
       "      <td>38511.511976</td>\n",
       "      <td>Mantener_posicion</td>\n",
       "    </tr>\n",
       "    <tr>\n",
       "      <th>4382</th>\n",
       "      <td>2022-07-17</td>\n",
       "      <td>20785.6</td>\n",
       "      <td>21209.8</td>\n",
       "      <td>21654.4</td>\n",
       "      <td>20755.2</td>\n",
       "      <td>132810.0</td>\n",
       "      <td>-2.00</td>\n",
       "      <td>0.0</td>\n",
       "      <td>7776.544982</td>\n",
       "      <td>Mantener_posicion</td>\n",
       "    </tr>\n",
       "    <tr>\n",
       "      <th>4383</th>\n",
       "      <td>2022-07-18</td>\n",
       "      <td>22525.8</td>\n",
       "      <td>20785.6</td>\n",
       "      <td>22714.9</td>\n",
       "      <td>20770.6</td>\n",
       "      <td>279720.0</td>\n",
       "      <td>8.37</td>\n",
       "      <td>1.0</td>\n",
       "      <td>66185.614950</td>\n",
       "      <td>Mantener_posicion</td>\n",
       "    </tr>\n",
       "    <tr>\n",
       "      <th>4384</th>\n",
       "      <td>2022-07-19</td>\n",
       "      <td>23410.2</td>\n",
       "      <td>22529.3</td>\n",
       "      <td>23757.3</td>\n",
       "      <td>21581.8</td>\n",
       "      <td>308910.0</td>\n",
       "      <td>3.93</td>\n",
       "      <td>1.0</td>\n",
       "      <td>150988.804515</td>\n",
       "      <td>Mantener_posicion</td>\n",
       "    </tr>\n",
       "    <tr>\n",
       "      <th>4385</th>\n",
       "      <td>2022-07-20</td>\n",
       "      <td>23149.1</td>\n",
       "      <td>23412.0</td>\n",
       "      <td>23429.9</td>\n",
       "      <td>22965.9</td>\n",
       "      <td>290210.0</td>\n",
       "      <td>-1.12</td>\n",
       "      <td>0.0</td>\n",
       "      <td>152531.617704</td>\n",
       "      <td>Mantener_posicion</td>\n",
       "    </tr>\n",
       "  </tbody>\n",
       "</table>\n",
       "</div>"
      ],
      "text/plain": [
       "            Date    Price     Open     High      Low      Vol.  \\\n",
       "4381  2022-07-16  21209.9  20825.2  21561.3  20484.4  136890.0   \n",
       "4382  2022-07-17  20785.6  21209.8  21654.4  20755.2  132810.0   \n",
       "4383  2022-07-18  22525.8  20785.6  22714.9  20770.6  279720.0   \n",
       "4384  2022-07-19  23410.2  22529.3  23757.3  21581.8  308910.0   \n",
       "4385  2022-07-20  23149.1  23412.0  23429.9  22965.9  290210.0   \n",
       "\n",
       "      Percentage_diff  Target          ADOSC           ADOSC_ET  \n",
       "4381             1.85     1.0   38511.511976  Mantener_posicion  \n",
       "4382            -2.00     0.0    7776.544982  Mantener_posicion  \n",
       "4383             8.37     1.0   66185.614950  Mantener_posicion  \n",
       "4384             3.93     1.0  150988.804515  Mantener_posicion  \n",
       "4385            -1.12     0.0  152531.617704  Mantener_posicion  "
      ]
     },
     "execution_count": 185,
     "metadata": {},
     "output_type": "execute_result"
    }
   ],
   "source": [
    "BTC_ind_vol_ET.tail()"
   ]
  },
  {
   "cell_type": "code",
   "execution_count": 187,
   "metadata": {
    "id": "BKg5FQceeQnO"
   },
   "outputs": [],
   "source": [
    "BTC_ind_vol_ET.to_csv (r\"D:\\Luciano\\Programación\\Data science\\Trabajo final\\Bases de datos para modelos\\BTC_ind_vol_ET.csv\", index=False, sep=\";\")"
   ]
  },
  {
   "cell_type": "markdown",
   "metadata": {
    "id": "EYk1O6WreQnP"
   },
   "source": [
    "### Cycle indicators\n",
    "* Se calculan distintos elementos de los ciclos del precio (se analizará en detalle al momento de los análisis univariado, bivariado y multivariado).\n",
    "* Información (EN). John F. Ehlers, Rocket Science for Traders. *Trading with signal processing methods*. Source code in EasyLanguage.\n",
    "* Más información (EN): https://zorro-project.com/manual/en/ta.htm"
   ]
  },
  {
   "cell_type": "markdown",
   "metadata": {
    "id": "BeZYJ1BbeQnP"
   },
   "source": [
    "#### Hilbert Transform - Dominant Cycle Period (HT_DCPERIOD), Hilbert Transform - Dominant Cycle Phase (HT_DCPHASE), Hilbert Transform - Phasor Components (HT_PHASOR), Hilbert Transform - SineWave (HT_SINE), Hilbert Transform - Trend vs Cycle Mode (HT_TRENDMODE)"
   ]
  },
  {
   "cell_type": "code",
   "execution_count": 188,
   "metadata": {
    "id": "00vX1EEoeQnP"
   },
   "outputs": [],
   "source": [
    "# Se crea un back up\n",
    "BTC_df_HT = BTC_df.copy ()"
   ]
  },
  {
   "cell_type": "code",
   "execution_count": 189,
   "metadata": {
    "id": "QN6kg_p0eQnQ"
   },
   "outputs": [],
   "source": [
    "# Se calcula el HT_DCPERIOD\n",
    "BTC_df_HT [\"HT_DCPERIOD\"] = ta.HT_DCPERIOD(BTC_df_HT [\"Price\"])"
   ]
  },
  {
   "cell_type": "code",
   "execution_count": 190,
   "metadata": {
    "id": "_oelrgGieQnQ"
   },
   "outputs": [],
   "source": [
    "# Se calcula el HT_DCPHASE\n",
    "BTC_df_HT [\"HT_DCPHASE\"] = ta.HT_DCPHASE(BTC_df_HT [\"Price\"])"
   ]
  },
  {
   "cell_type": "code",
   "execution_count": 191,
   "metadata": {
    "id": "xoE-FcskeQnQ"
   },
   "outputs": [],
   "source": [
    "# Se calcula el HT_PHASOR_inphase\n",
    "BTC_df_HT [\"HT_PHASOR_inphase\"], BTC_df_HT [\"HT_PHASOR_quadrature\"] = ta.HT_PHASOR (BTC_df_HT [\"Price\"])"
   ]
  },
  {
   "cell_type": "code",
   "execution_count": 193,
   "metadata": {
    "id": "2EdtaILleQnQ"
   },
   "outputs": [],
   "source": [
    "# Se calcula el HT_SINE_sine y el \"HT_PHASOR_leadsine\"\n",
    "BTC_df_HT [\"HT_SINE_sine\"], BTC_df_HT [\"HT_PHASOR_leadsine\"] = ta.HT_SINE (BTC_df_HT [\"Price\"])"
   ]
  },
  {
   "cell_type": "code",
   "execution_count": 194,
   "metadata": {
    "id": "bF5osY0PeQnR"
   },
   "outputs": [],
   "source": [
    "# Se calcula HT_PHASOR_integer\n",
    "BTC_df_HT [\"HT_SINE_integer\"] = ta.HT_TRENDMODE (BTC_df_HT [\"Price\"])"
   ]
  },
  {
   "cell_type": "code",
   "execution_count": 195,
   "metadata": {
    "id": "PHTOSALWeQnR",
    "outputId": "f1512c8e-23bb-4251-c4c7-0733f9940587"
   },
   "outputs": [
    {
     "data": {
      "text/html": [
       "<div>\n",
       "<style scoped>\n",
       "    .dataframe tbody tr th:only-of-type {\n",
       "        vertical-align: middle;\n",
       "    }\n",
       "\n",
       "    .dataframe tbody tr th {\n",
       "        vertical-align: top;\n",
       "    }\n",
       "\n",
       "    .dataframe thead th {\n",
       "        text-align: right;\n",
       "    }\n",
       "</style>\n",
       "<table border=\"1\" class=\"dataframe\">\n",
       "  <thead>\n",
       "    <tr style=\"text-align: right;\">\n",
       "      <th></th>\n",
       "      <th>Date</th>\n",
       "      <th>Price</th>\n",
       "      <th>Open</th>\n",
       "      <th>High</th>\n",
       "      <th>Low</th>\n",
       "      <th>Vol.</th>\n",
       "      <th>Percentage_diff</th>\n",
       "      <th>Target</th>\n",
       "      <th>HT_DCPERIOD</th>\n",
       "      <th>HT_DCPHASE</th>\n",
       "      <th>HT_PHASOR_inphase</th>\n",
       "      <th>HT_PHASOR_quadrature</th>\n",
       "      <th>HT_SINE_sine</th>\n",
       "      <th>HT_PHASOR_leadsine</th>\n",
       "      <th>HT_SINE_integer</th>\n",
       "    </tr>\n",
       "  </thead>\n",
       "  <tbody>\n",
       "    <tr>\n",
       "      <th>4381</th>\n",
       "      <td>2022-07-16</td>\n",
       "      <td>21209.9</td>\n",
       "      <td>20825.2</td>\n",
       "      <td>21561.3</td>\n",
       "      <td>20484.4</td>\n",
       "      <td>136890.0</td>\n",
       "      <td>1.85</td>\n",
       "      <td>1.0</td>\n",
       "      <td>20.384732</td>\n",
       "      <td>188.760909</td>\n",
       "      <td>-1175.706860</td>\n",
       "      <td>-2381.833142</td>\n",
       "      <td>-0.152312</td>\n",
       "      <td>-0.806557</td>\n",
       "      <td>1</td>\n",
       "    </tr>\n",
       "    <tr>\n",
       "      <th>4382</th>\n",
       "      <td>2022-07-17</td>\n",
       "      <td>20785.6</td>\n",
       "      <td>21209.8</td>\n",
       "      <td>21654.4</td>\n",
       "      <td>20755.2</td>\n",
       "      <td>132810.0</td>\n",
       "      <td>-2.00</td>\n",
       "      <td>0.0</td>\n",
       "      <td>19.877096</td>\n",
       "      <td>208.648545</td>\n",
       "      <td>-1772.387604</td>\n",
       "      <td>25.302536</td>\n",
       "      <td>-0.479436</td>\n",
       "      <td>-0.959553</td>\n",
       "      <td>1</td>\n",
       "    </tr>\n",
       "    <tr>\n",
       "      <th>4383</th>\n",
       "      <td>2022-07-18</td>\n",
       "      <td>22525.8</td>\n",
       "      <td>20785.6</td>\n",
       "      <td>22714.9</td>\n",
       "      <td>20770.6</td>\n",
       "      <td>279720.0</td>\n",
       "      <td>8.37</td>\n",
       "      <td>1.0</td>\n",
       "      <td>19.511967</td>\n",
       "      <td>217.212389</td>\n",
       "      <td>-1099.470256</td>\n",
       "      <td>2267.642942</td>\n",
       "      <td>-0.604771</td>\n",
       "      <td>-0.990777</td>\n",
       "      <td>1</td>\n",
       "    </tr>\n",
       "    <tr>\n",
       "      <th>4384</th>\n",
       "      <td>2022-07-19</td>\n",
       "      <td>23410.2</td>\n",
       "      <td>22529.3</td>\n",
       "      <td>23757.3</td>\n",
       "      <td>21581.8</td>\n",
       "      <td>308910.0</td>\n",
       "      <td>3.93</td>\n",
       "      <td>1.0</td>\n",
       "      <td>19.143489</td>\n",
       "      <td>222.679567</td>\n",
       "      <td>59.865039</td>\n",
       "      <td>2323.609337</td>\n",
       "      <td>-0.677898</td>\n",
       "      <td>-0.999180</td>\n",
       "      <td>1</td>\n",
       "    </tr>\n",
       "    <tr>\n",
       "      <th>4385</th>\n",
       "      <td>2022-07-20</td>\n",
       "      <td>23149.1</td>\n",
       "      <td>23412.0</td>\n",
       "      <td>23429.9</td>\n",
       "      <td>22965.9</td>\n",
       "      <td>290210.0</td>\n",
       "      <td>-1.12</td>\n",
       "      <td>0.0</td>\n",
       "      <td>18.670726</td>\n",
       "      <td>170.267628</td>\n",
       "      <td>619.425710</td>\n",
       "      <td>1687.812158</td>\n",
       "      <td>0.169046</td>\n",
       "      <td>-0.577396</td>\n",
       "      <td>1</td>\n",
       "    </tr>\n",
       "  </tbody>\n",
       "</table>\n",
       "</div>"
      ],
      "text/plain": [
       "            Date    Price     Open     High      Low      Vol.  \\\n",
       "4381  2022-07-16  21209.9  20825.2  21561.3  20484.4  136890.0   \n",
       "4382  2022-07-17  20785.6  21209.8  21654.4  20755.2  132810.0   \n",
       "4383  2022-07-18  22525.8  20785.6  22714.9  20770.6  279720.0   \n",
       "4384  2022-07-19  23410.2  22529.3  23757.3  21581.8  308910.0   \n",
       "4385  2022-07-20  23149.1  23412.0  23429.9  22965.9  290210.0   \n",
       "\n",
       "      Percentage_diff  Target  HT_DCPERIOD  HT_DCPHASE  HT_PHASOR_inphase  \\\n",
       "4381             1.85     1.0    20.384732  188.760909       -1175.706860   \n",
       "4382            -2.00     0.0    19.877096  208.648545       -1772.387604   \n",
       "4383             8.37     1.0    19.511967  217.212389       -1099.470256   \n",
       "4384             3.93     1.0    19.143489  222.679567          59.865039   \n",
       "4385            -1.12     0.0    18.670726  170.267628         619.425710   \n",
       "\n",
       "      HT_PHASOR_quadrature  HT_SINE_sine  HT_PHASOR_leadsine  HT_SINE_integer  \n",
       "4381          -2381.833142     -0.152312           -0.806557                1  \n",
       "4382             25.302536     -0.479436           -0.959553                1  \n",
       "4383           2267.642942     -0.604771           -0.990777                1  \n",
       "4384           2323.609337     -0.677898           -0.999180                1  \n",
       "4385           1687.812158      0.169046           -0.577396                1  "
      ]
     },
     "execution_count": 195,
     "metadata": {},
     "output_type": "execute_result"
    }
   ],
   "source": [
    "BTC_df_HT.tail()"
   ]
  },
  {
   "cell_type": "markdown",
   "metadata": {},
   "source": [
    "#### Se crea la base de datos"
   ]
  },
  {
   "cell_type": "code",
   "execution_count": 196,
   "metadata": {
    "id": "2xLLKtqueQnR"
   },
   "outputs": [],
   "source": [
    "BTC_df_HT.to_csv (r\"D:\\Luciano\\Programación\\Data science\\Trabajo final\\Bases de datos para modelos\\BTC_ind_cycle_indicators.csv\", index=False, sep=\";\")"
   ]
  },
  {
   "cell_type": "markdown",
   "metadata": {
    "id": "zSy7AXUneQnR"
   },
   "source": [
    "### Volatility indicators"
   ]
  },
  {
   "cell_type": "markdown",
   "metadata": {
    "id": "tgHOgnGneQnS"
   },
   "source": [
    "#### Average True Range (ATR) \n",
    "\n",
    "* Información (EN): https://www.investopedia.com/terms/a/atr.asp"
   ]
  },
  {
   "cell_type": "code",
   "execution_count": 197,
   "metadata": {
    "id": "nwMWUUaseQnS"
   },
   "outputs": [],
   "source": [
    "# Se crea un back up\n",
    "BTC_df_ATR = BTC_df.copy()"
   ]
  },
  {
   "cell_type": "code",
   "execution_count": 198,
   "metadata": {
    "id": "w7G0tNtteQnS"
   },
   "outputs": [],
   "source": [
    "# Se calcula el indicador ATR\n",
    "BTC_df_ATR [\"ATR\"] = ta.ATR (BTC_df_ATR [\"High\"],BTC_df_ATR [\"Low\"],BTC_df_ATR [\"Price\"],timeperiod=14 )"
   ]
  },
  {
   "cell_type": "code",
   "execution_count": 199,
   "metadata": {
    "id": "_fAD5QxCeQnT",
    "outputId": "7d649671-e6f9-42d0-fafe-8cb1b54c719a"
   },
   "outputs": [
    {
     "data": {
      "text/html": [
       "<div>\n",
       "<style scoped>\n",
       "    .dataframe tbody tr th:only-of-type {\n",
       "        vertical-align: middle;\n",
       "    }\n",
       "\n",
       "    .dataframe tbody tr th {\n",
       "        vertical-align: top;\n",
       "    }\n",
       "\n",
       "    .dataframe thead th {\n",
       "        text-align: right;\n",
       "    }\n",
       "</style>\n",
       "<table border=\"1\" class=\"dataframe\">\n",
       "  <thead>\n",
       "    <tr style=\"text-align: right;\">\n",
       "      <th></th>\n",
       "      <th>Date</th>\n",
       "      <th>Price</th>\n",
       "      <th>Open</th>\n",
       "      <th>High</th>\n",
       "      <th>Low</th>\n",
       "      <th>Vol.</th>\n",
       "      <th>Percentage_diff</th>\n",
       "      <th>Target</th>\n",
       "      <th>ATR</th>\n",
       "    </tr>\n",
       "  </thead>\n",
       "  <tbody>\n",
       "    <tr>\n",
       "      <th>4381</th>\n",
       "      <td>2022-07-16</td>\n",
       "      <td>21209.9</td>\n",
       "      <td>20825.2</td>\n",
       "      <td>21561.3</td>\n",
       "      <td>20484.4</td>\n",
       "      <td>136890.0</td>\n",
       "      <td>1.85</td>\n",
       "      <td>1.0</td>\n",
       "      <td>1166.898729</td>\n",
       "    </tr>\n",
       "    <tr>\n",
       "      <th>4382</th>\n",
       "      <td>2022-07-17</td>\n",
       "      <td>20785.6</td>\n",
       "      <td>21209.8</td>\n",
       "      <td>21654.4</td>\n",
       "      <td>20755.2</td>\n",
       "      <td>132810.0</td>\n",
       "      <td>-2.00</td>\n",
       "      <td>0.0</td>\n",
       "      <td>1147.777391</td>\n",
       "    </tr>\n",
       "    <tr>\n",
       "      <th>4383</th>\n",
       "      <td>2022-07-18</td>\n",
       "      <td>22525.8</td>\n",
       "      <td>20785.6</td>\n",
       "      <td>22714.9</td>\n",
       "      <td>20770.6</td>\n",
       "      <td>279720.0</td>\n",
       "      <td>8.37</td>\n",
       "      <td>1.0</td>\n",
       "      <td>1204.671863</td>\n",
       "    </tr>\n",
       "    <tr>\n",
       "      <th>4384</th>\n",
       "      <td>2022-07-19</td>\n",
       "      <td>23410.2</td>\n",
       "      <td>22529.3</td>\n",
       "      <td>23757.3</td>\n",
       "      <td>21581.8</td>\n",
       "      <td>308910.0</td>\n",
       "      <td>3.93</td>\n",
       "      <td>1.0</td>\n",
       "      <td>1274.016730</td>\n",
       "    </tr>\n",
       "    <tr>\n",
       "      <th>4385</th>\n",
       "      <td>2022-07-20</td>\n",
       "      <td>23149.1</td>\n",
       "      <td>23412.0</td>\n",
       "      <td>23429.9</td>\n",
       "      <td>22965.9</td>\n",
       "      <td>290210.0</td>\n",
       "      <td>-1.12</td>\n",
       "      <td>0.0</td>\n",
       "      <td>1216.158392</td>\n",
       "    </tr>\n",
       "  </tbody>\n",
       "</table>\n",
       "</div>"
      ],
      "text/plain": [
       "            Date    Price     Open     High      Low      Vol.  \\\n",
       "4381  2022-07-16  21209.9  20825.2  21561.3  20484.4  136890.0   \n",
       "4382  2022-07-17  20785.6  21209.8  21654.4  20755.2  132810.0   \n",
       "4383  2022-07-18  22525.8  20785.6  22714.9  20770.6  279720.0   \n",
       "4384  2022-07-19  23410.2  22529.3  23757.3  21581.8  308910.0   \n",
       "4385  2022-07-20  23149.1  23412.0  23429.9  22965.9  290210.0   \n",
       "\n",
       "      Percentage_diff  Target          ATR  \n",
       "4381             1.85     1.0  1166.898729  \n",
       "4382            -2.00     0.0  1147.777391  \n",
       "4383             8.37     1.0  1204.671863  \n",
       "4384             3.93     1.0  1274.016730  \n",
       "4385            -1.12     0.0  1216.158392  "
      ]
     },
     "execution_count": 199,
     "metadata": {},
     "output_type": "execute_result"
    }
   ],
   "source": [
    "BTC_df_ATR.tail()"
   ]
  },
  {
   "cell_type": "markdown",
   "metadata": {},
   "source": [
    "#### Se crea la base de datos"
   ]
  },
  {
   "cell_type": "code",
   "execution_count": 200,
   "metadata": {
    "id": "sGPIuFP7eQnT"
   },
   "outputs": [],
   "source": [
    "BTC_df_ATR.to_csv (r\"D:\\Luciano\\Programación\\Data science\\Trabajo final\\Bases de datos para modelos\\BTC_ind_volat.csv\", index=False, sep=\";\")"
   ]
  },
  {
   "cell_type": "markdown",
   "metadata": {
    "id": "H0PzOJyheQnT"
   },
   "source": [
    "### Statistic Functions"
   ]
  },
  {
   "cell_type": "markdown",
   "metadata": {
    "id": "r8hlZWgXeQnT"
   },
   "source": [
    "#### Beta, CORREL\n",
    "* Información (EN): https://www.investopedia.com/terms/b/beta.asp#:~:text=Beta%20Value%20Equal%20to%201.0,of%201.0%20has%20systematic%20risk.\n",
    "\n",
    "#### Pearson's Correlation Coefficient (r)\n",
    "* Información (EN): https://www.investopedia.com/terms/p/pearsoncoefficient.asp#:~:text=What%20Is%20the%20Pearson%20Coefficient,association%20between%20two%20continuous%20variables.\n",
    "\n",
    "#### LINEARREG - Linear Regression\n",
    "* Información (EN): https://www.investopedia.com/articles/trading/09/linear-regression-time-price.asp#:~:text=Linear%20regression%20is%20the%20analysis,stock%20is%20overbought%20or%20oversold.\n",
    "\n",
    "#### LINEARREG_ANGLE - Linear Regression Angle\n",
    "* Información (EN): https://www.mql5.com/en/market/product/19873?source=External%3Ahttps%3A%2F%2Fwww.google.com%2F\n",
    "\n",
    "#### LINEARREG_INTERCEPT - Linear Regression Intercept\n",
    "* Información (EN): https://www.investopedia.com/terms/r/regression.asp#:~:text=Linear%20regression%20is%20thus%20graphically,of%20the%20other%20is%20zero.\n",
    "\n",
    "#### LINEARREG_SLOPE - Linear Regression Slope\n",
    "* Información (EN): http://www.stat.yale.edu/Courses/1997-98/101/linreg.htm#:~:text=A%20linear%20regression%20line%20has,y%20when%20x%20%3D%200).\n",
    "\n",
    "#### STDDEV - Standard Deviation\n",
    "* Información (EN): https://www.investopedia.com/terms/s/standarddeviation.asp\n",
    "* Información riesgo (EN): https://www.investopedia.com/ask/answers/021915/how-standard-deviation-used-determine-risk.asp\n",
    "\n",
    "#### TSF - Time Series Forecast\n",
    "* Información (EN): https://www.investopedia.com/terms/t/timeseries.asp#:~:text=Time%20series%20forecasting%20uses%20information,methods%2C%20success%20is%20not%20guaranteed.\n",
    "\n",
    "#### VAR - Variance\n",
    "* Información (EN): https://www.investopedia.com/terms/v/variance.asp"
   ]
  },
  {
   "cell_type": "code",
   "execution_count": 201,
   "metadata": {
    "id": "bBf-dIx0eQnU"
   },
   "outputs": [],
   "source": [
    "# Se crea un back up\n",
    "BTC_df_SF= BTC_df.copy()"
   ]
  },
  {
   "cell_type": "code",
   "execution_count": 202,
   "metadata": {
    "id": "uHTglsROeQnV"
   },
   "outputs": [],
   "source": [
    "# Se calcula el valor Beta\n",
    "BTC_df_SF [\"Beta\"] = ta.BETA(BTC_df_SF [\"High\"], BTC_df_SF [\"Low\"], timeperiod=5)"
   ]
  },
  {
   "cell_type": "code",
   "execution_count": 203,
   "metadata": {
    "id": "ysJ0zypAeQnV"
   },
   "outputs": [],
   "source": [
    "# Se calcula la correlación de Pearson\n",
    "BTC_df_SF [\"Pearson\"] = ta.CORREL (BTC_df_SF [\"High\"], BTC_df_SF [\"Low\"], timeperiod=30)"
   ]
  },
  {
   "cell_type": "code",
   "execution_count": 204,
   "metadata": {
    "id": "L-qouHDdeQnV"
   },
   "outputs": [],
   "source": [
    "# Se calcula el valor del precio dado por regresión lineal\n",
    "BTC_df_SF [\"Linearregression\"] = ta.LINEARREG (BTC_df_SF [\"Price\"], timeperiod=14)"
   ]
  },
  {
   "cell_type": "code",
   "execution_count": 205,
   "metadata": {
    "id": "OAJxT35teQnW"
   },
   "outputs": [],
   "source": [
    "# Se calcula el ángulo de la regresión lineal\n",
    "BTC_df_SF [\"Linearangle\"] = ta.LINEARREG_ANGLE (BTC_df_SF [\"Price\"], timeperiod=14)"
   ]
  },
  {
   "cell_type": "code",
   "execution_count": 206,
   "metadata": {
    "id": "qhJdq9aKeQnW"
   },
   "outputs": [],
   "source": [
    "# Se calcula la regresión lineal con intercepción\n",
    "BTC_df_SF [\"Linearintercept\"] = ta.LINEARREG_INTERCEPT (BTC_df_SF [\"Price\"], timeperiod=14)"
   ]
  },
  {
   "cell_type": "code",
   "execution_count": 207,
   "metadata": {
    "id": "yWCkk_kMeQnW"
   },
   "outputs": [],
   "source": [
    "# Se calcula la curvatura de la regresión\n",
    "BTC_df_SF [\"Linearslope\"] = ta.LINEARREG_SLOPE (BTC_df_SF [\"Price\"], timeperiod=14)"
   ]
  },
  {
   "cell_type": "code",
   "execution_count": 208,
   "metadata": {
    "id": "lbt6Xwu4eQnX"
   },
   "outputs": [],
   "source": [
    "# Se calcula la varianza\n",
    "BTC_df_SF [\"VAR\"] = ta.VAR (BTC_df_SF [\"Price\"], timeperiod=5, nbdev=1)"
   ]
  },
  {
   "cell_type": "code",
   "execution_count": 209,
   "metadata": {
    "id": "qktkeQ4IeQnX"
   },
   "outputs": [],
   "source": [
    "# Se calcula desviación estandar\n",
    "BTC_df_SF [\"STDDEV\"] = ta.STDDEV (BTC_df_SF [\"Price\"], timeperiod=5, nbdev=1)"
   ]
  },
  {
   "cell_type": "code",
   "execution_count": 210,
   "metadata": {
    "id": "Mvq5T3xyeQnX"
   },
   "outputs": [],
   "source": [
    "# Se calcula la predicción por time series forecasting method\n",
    "BTC_df_SF [\"TSF\"] = ta.TSF (BTC_df_SF [\"Price\"], timeperiod=14)"
   ]
  },
  {
   "cell_type": "code",
   "execution_count": 211,
   "metadata": {
    "id": "A8uxDl7WeQnX",
    "outputId": "2e21f209-ef4c-4ad9-9453-9ce3a806808c"
   },
   "outputs": [
    {
     "data": {
      "text/html": [
       "<div>\n",
       "<style scoped>\n",
       "    .dataframe tbody tr th:only-of-type {\n",
       "        vertical-align: middle;\n",
       "    }\n",
       "\n",
       "    .dataframe tbody tr th {\n",
       "        vertical-align: top;\n",
       "    }\n",
       "\n",
       "    .dataframe thead th {\n",
       "        text-align: right;\n",
       "    }\n",
       "</style>\n",
       "<table border=\"1\" class=\"dataframe\">\n",
       "  <thead>\n",
       "    <tr style=\"text-align: right;\">\n",
       "      <th></th>\n",
       "      <th>Date</th>\n",
       "      <th>Price</th>\n",
       "      <th>Open</th>\n",
       "      <th>High</th>\n",
       "      <th>Low</th>\n",
       "      <th>Vol.</th>\n",
       "      <th>Percentage_diff</th>\n",
       "      <th>Target</th>\n",
       "      <th>Beta</th>\n",
       "      <th>Pearson</th>\n",
       "      <th>Linearregression</th>\n",
       "      <th>Linearangle</th>\n",
       "      <th>Linearintercept</th>\n",
       "      <th>Linearslope</th>\n",
       "      <th>VAR</th>\n",
       "      <th>STDDEV</th>\n",
       "      <th>TSF</th>\n",
       "    </tr>\n",
       "  </thead>\n",
       "  <tbody>\n",
       "    <tr>\n",
       "      <th>4381</th>\n",
       "      <td>2022-07-16</td>\n",
       "      <td>21209.9</td>\n",
       "      <td>20825.2</td>\n",
       "      <td>21561.3</td>\n",
       "      <td>20484.4</td>\n",
       "      <td>136890.0</td>\n",
       "      <td>1.85</td>\n",
       "      <td>1.0</td>\n",
       "      <td>0.925352</td>\n",
       "      <td>0.775534</td>\n",
       "      <td>20802.237143</td>\n",
       "      <td>88.315816</td>\n",
       "      <td>20360.105714</td>\n",
       "      <td>34.010110</td>\n",
       "      <td>4.057132e+05</td>\n",
       "      <td>636.956216</td>\n",
       "      <td>20836.247253</td>\n",
       "    </tr>\n",
       "    <tr>\n",
       "      <th>4382</th>\n",
       "      <td>2022-07-17</td>\n",
       "      <td>20785.6</td>\n",
       "      <td>21209.8</td>\n",
       "      <td>21654.4</td>\n",
       "      <td>20755.2</td>\n",
       "      <td>132810.0</td>\n",
       "      <td>-2.00</td>\n",
       "      <td>0.0</td>\n",
       "      <td>1.335584</td>\n",
       "      <td>0.780996</td>\n",
       "      <td>20673.194286</td>\n",
       "      <td>-64.096744</td>\n",
       "      <td>20699.962857</td>\n",
       "      <td>-2.059121</td>\n",
       "      <td>9.871333e+04</td>\n",
       "      <td>314.186781</td>\n",
       "      <td>20671.135165</td>\n",
       "    </tr>\n",
       "    <tr>\n",
       "      <th>4383</th>\n",
       "      <td>2022-07-18</td>\n",
       "      <td>22525.8</td>\n",
       "      <td>20785.6</td>\n",
       "      <td>22714.9</td>\n",
       "      <td>20770.6</td>\n",
       "      <td>279720.0</td>\n",
       "      <td>8.37</td>\n",
       "      <td>1.0</td>\n",
       "      <td>-0.257208</td>\n",
       "      <td>0.831339</td>\n",
       "      <td>21078.882857</td>\n",
       "      <td>88.362015</td>\n",
       "      <td>20624.274286</td>\n",
       "      <td>34.969890</td>\n",
       "      <td>4.892406e+05</td>\n",
       "      <td>699.457371</td>\n",
       "      <td>21113.852747</td>\n",
       "    </tr>\n",
       "    <tr>\n",
       "      <th>4384</th>\n",
       "      <td>2022-07-19</td>\n",
       "      <td>23410.2</td>\n",
       "      <td>22529.3</td>\n",
       "      <td>23757.3</td>\n",
       "      <td>21581.8</td>\n",
       "      <td>308910.0</td>\n",
       "      <td>3.93</td>\n",
       "      <td>1.0</td>\n",
       "      <td>0.015263</td>\n",
       "      <td>0.892832</td>\n",
       "      <td>21643.817143</td>\n",
       "      <td>89.338511</td>\n",
       "      <td>20517.854286</td>\n",
       "      <td>86.612527</td>\n",
       "      <td>1.087067e+06</td>\n",
       "      <td>1042.625182</td>\n",
       "      <td>21730.429670</td>\n",
       "    </tr>\n",
       "    <tr>\n",
       "      <th>4385</th>\n",
       "      <td>2022-07-20</td>\n",
       "      <td>23149.1</td>\n",
       "      <td>23412.0</td>\n",
       "      <td>23429.9</td>\n",
       "      <td>22965.9</td>\n",
       "      <td>290210.0</td>\n",
       "      <td>-1.12</td>\n",
       "      <td>0.0</td>\n",
       "      <td>-0.495034</td>\n",
       "      <td>0.907104</td>\n",
       "      <td>22101.408571</td>\n",
       "      <td>89.554376</td>\n",
       "      <td>20429.977143</td>\n",
       "      <td>128.571648</td>\n",
       "      <td>1.090209e+06</td>\n",
       "      <td>1044.130891</td>\n",
       "      <td>22229.980220</td>\n",
       "    </tr>\n",
       "  </tbody>\n",
       "</table>\n",
       "</div>"
      ],
      "text/plain": [
       "            Date    Price     Open     High      Low      Vol.  \\\n",
       "4381  2022-07-16  21209.9  20825.2  21561.3  20484.4  136890.0   \n",
       "4382  2022-07-17  20785.6  21209.8  21654.4  20755.2  132810.0   \n",
       "4383  2022-07-18  22525.8  20785.6  22714.9  20770.6  279720.0   \n",
       "4384  2022-07-19  23410.2  22529.3  23757.3  21581.8  308910.0   \n",
       "4385  2022-07-20  23149.1  23412.0  23429.9  22965.9  290210.0   \n",
       "\n",
       "      Percentage_diff  Target      Beta   Pearson  Linearregression  \\\n",
       "4381             1.85     1.0  0.925352  0.775534      20802.237143   \n",
       "4382            -2.00     0.0  1.335584  0.780996      20673.194286   \n",
       "4383             8.37     1.0 -0.257208  0.831339      21078.882857   \n",
       "4384             3.93     1.0  0.015263  0.892832      21643.817143   \n",
       "4385            -1.12     0.0 -0.495034  0.907104      22101.408571   \n",
       "\n",
       "      Linearangle  Linearintercept  Linearslope           VAR       STDDEV  \\\n",
       "4381    88.315816     20360.105714    34.010110  4.057132e+05   636.956216   \n",
       "4382   -64.096744     20699.962857    -2.059121  9.871333e+04   314.186781   \n",
       "4383    88.362015     20624.274286    34.969890  4.892406e+05   699.457371   \n",
       "4384    89.338511     20517.854286    86.612527  1.087067e+06  1042.625182   \n",
       "4385    89.554376     20429.977143   128.571648  1.090209e+06  1044.130891   \n",
       "\n",
       "               TSF  \n",
       "4381  20836.247253  \n",
       "4382  20671.135165  \n",
       "4383  21113.852747  \n",
       "4384  21730.429670  \n",
       "4385  22229.980220  "
      ]
     },
     "execution_count": 211,
     "metadata": {},
     "output_type": "execute_result"
    }
   ],
   "source": [
    "BTC_df_SF.tail()"
   ]
  },
  {
   "cell_type": "markdown",
   "metadata": {},
   "source": [
    "#### Se crea la base de datos"
   ]
  },
  {
   "cell_type": "code",
   "execution_count": 212,
   "metadata": {
    "id": "RNxMrup8eQnY"
   },
   "outputs": [],
   "source": [
    "BTC_df_SF.to_csv (r\"D:\\Luciano\\Programación\\Data science\\Trabajo final\\Bases de datos para modelos\\BTC_statistic_functions.csv\", index=False, sep=\";\")"
   ]
  },
  {
   "cell_type": "markdown",
   "metadata": {
    "id": "7xOcv32_eQnY"
   },
   "source": [
    "### Patrones de comportamiento\n",
    "\n",
    "* Se estudiarán patrones de comportamiento del precio ofrecidos por la librería ta-lib\n",
    "* Información (EN): https://www.dailyfx.com/education/technical-analysis-chart-patterns"
   ]
  },
  {
   "cell_type": "markdown",
   "metadata": {
    "id": "aNgkJxEweQnY"
   },
   "source": [
    "Se modifican las columnas del dataframe de BTC original para poder utilizarlo en una función automática que pasa todos los patrones de una sola vez."
   ]
  },
  {
   "cell_type": "code",
   "execution_count": 213,
   "metadata": {
    "id": "UhdUlefSeQnZ"
   },
   "outputs": [],
   "source": [
    "# Se crea un back up\n",
    "BTC_minor_letters = BTC_df.copy()"
   ]
  },
  {
   "cell_type": "code",
   "execution_count": 214,
   "metadata": {
    "id": "CRVbck8weQnZ",
    "outputId": "8bb8d524-e8d5-40cb-a030-79ba8743038b"
   },
   "outputs": [
    {
     "data": {
      "text/plain": [
       "Index(['Date', 'Price', 'Open', 'High', 'Low', 'Vol.', 'Percentage_diff',\n",
       "       'Target'],\n",
       "      dtype='object')"
      ]
     },
     "execution_count": 214,
     "metadata": {},
     "output_type": "execute_result"
    }
   ],
   "source": [
    "BTC_minor_letters.columns"
   ]
  },
  {
   "cell_type": "code",
   "execution_count": 215,
   "metadata": {
    "id": "_bYGRRzKeQnZ"
   },
   "outputs": [],
   "source": [
    "# Se renombran las columnas\n",
    "BTC_minor_letters_2 = BTC_minor_letters.rename (columns={'Date':'date', 'Price':'close', 'Open':'open', 'High':'high', 'Low':'low', 'Vol.':'vol', 'Porcentage_diff':'porcentage_diff',\n",
    "       'Target':'target'})"
   ]
  },
  {
   "cell_type": "code",
   "execution_count": 216,
   "metadata": {
    "id": "NSWiMyfDeQna",
    "outputId": "49eb3f6e-3f07-4f0c-acee-15769d31be4c"
   },
   "outputs": [
    {
     "data": {
      "text/plain": [
       "Index(['date', 'close', 'open', 'high', 'low', 'vol', 'Percentage_diff',\n",
       "       'target'],\n",
       "      dtype='object')"
      ]
     },
     "execution_count": 216,
     "metadata": {},
     "output_type": "execute_result"
    }
   ],
   "source": [
    "BTC_minor_letters_2.columns"
   ]
  },
  {
   "cell_type": "markdown",
   "metadata": {
    "id": "NwuNAzg0eQna"
   },
   "source": [
    "Se invocan las funciones de ta-lib para encontrar la correspondiente a los patrones"
   ]
  },
  {
   "cell_type": "code",
   "execution_count": 217,
   "metadata": {
    "id": "8m8sc6JFeQna",
    "outputId": "8deac140-18c3-489b-9537-db48f015c3b1"
   },
   "outputs": [
    {
     "data": {
      "text/plain": [
       "dict_keys(['Cycle Indicators', 'Math Operators', 'Math Transform', 'Momentum Indicators', 'Overlap Studies', 'Pattern Recognition', 'Price Transform', 'Statistic Functions', 'Volatility Indicators', 'Volume Indicators'])"
      ]
     },
     "execution_count": 217,
     "metadata": {},
     "output_type": "execute_result"
    }
   ],
   "source": [
    "ta.get_function_groups().keys()"
   ]
  },
  {
   "cell_type": "code",
   "execution_count": 218,
   "metadata": {
    "id": "mTeI4b05eQnb",
    "outputId": "61710fa2-629a-4633-8789-693855e22b4b"
   },
   "outputs": [
    {
     "data": {
      "text/plain": [
       "{'Cycle Indicators': ['HT_DCPERIOD',\n",
       "  'HT_DCPHASE',\n",
       "  'HT_PHASOR',\n",
       "  'HT_SINE',\n",
       "  'HT_TRENDMODE'],\n",
       " 'Math Operators': ['ADD',\n",
       "  'DIV',\n",
       "  'MAX',\n",
       "  'MAXINDEX',\n",
       "  'MIN',\n",
       "  'MININDEX',\n",
       "  'MINMAX',\n",
       "  'MINMAXINDEX',\n",
       "  'MULT',\n",
       "  'SUB',\n",
       "  'SUM'],\n",
       " 'Math Transform': ['ACOS',\n",
       "  'ASIN',\n",
       "  'ATAN',\n",
       "  'CEIL',\n",
       "  'COS',\n",
       "  'COSH',\n",
       "  'EXP',\n",
       "  'FLOOR',\n",
       "  'LN',\n",
       "  'LOG10',\n",
       "  'SIN',\n",
       "  'SINH',\n",
       "  'SQRT',\n",
       "  'TAN',\n",
       "  'TANH'],\n",
       " 'Momentum Indicators': ['ADX',\n",
       "  'ADXR',\n",
       "  'APO',\n",
       "  'AROON',\n",
       "  'AROONOSC',\n",
       "  'BOP',\n",
       "  'CCI',\n",
       "  'CMO',\n",
       "  'DX',\n",
       "  'MACD',\n",
       "  'MACDEXT',\n",
       "  'MACDFIX',\n",
       "  'MFI',\n",
       "  'MINUS_DI',\n",
       "  'MINUS_DM',\n",
       "  'MOM',\n",
       "  'PLUS_DI',\n",
       "  'PLUS_DM',\n",
       "  'PPO',\n",
       "  'ROC',\n",
       "  'ROCP',\n",
       "  'ROCR',\n",
       "  'ROCR100',\n",
       "  'RSI',\n",
       "  'STOCH',\n",
       "  'STOCHF',\n",
       "  'STOCHRSI',\n",
       "  'TRIX',\n",
       "  'ULTOSC',\n",
       "  'WILLR'],\n",
       " 'Overlap Studies': ['BBANDS',\n",
       "  'DEMA',\n",
       "  'EMA',\n",
       "  'HT_TRENDLINE',\n",
       "  'KAMA',\n",
       "  'MA',\n",
       "  'MAMA',\n",
       "  'MAVP',\n",
       "  'MIDPOINT',\n",
       "  'MIDPRICE',\n",
       "  'SAR',\n",
       "  'SAREXT',\n",
       "  'SMA',\n",
       "  'T3',\n",
       "  'TEMA',\n",
       "  'TRIMA',\n",
       "  'WMA'],\n",
       " 'Pattern Recognition': ['CDL2CROWS',\n",
       "  'CDL3BLACKCROWS',\n",
       "  'CDL3INSIDE',\n",
       "  'CDL3LINESTRIKE',\n",
       "  'CDL3OUTSIDE',\n",
       "  'CDL3STARSINSOUTH',\n",
       "  'CDL3WHITESOLDIERS',\n",
       "  'CDLABANDONEDBABY',\n",
       "  'CDLADVANCEBLOCK',\n",
       "  'CDLBELTHOLD',\n",
       "  'CDLBREAKAWAY',\n",
       "  'CDLCLOSINGMARUBOZU',\n",
       "  'CDLCONCEALBABYSWALL',\n",
       "  'CDLCOUNTERATTACK',\n",
       "  'CDLDARKCLOUDCOVER',\n",
       "  'CDLDOJI',\n",
       "  'CDLDOJISTAR',\n",
       "  'CDLDRAGONFLYDOJI',\n",
       "  'CDLENGULFING',\n",
       "  'CDLEVENINGDOJISTAR',\n",
       "  'CDLEVENINGSTAR',\n",
       "  'CDLGAPSIDESIDEWHITE',\n",
       "  'CDLGRAVESTONEDOJI',\n",
       "  'CDLHAMMER',\n",
       "  'CDLHANGINGMAN',\n",
       "  'CDLHARAMI',\n",
       "  'CDLHARAMICROSS',\n",
       "  'CDLHIGHWAVE',\n",
       "  'CDLHIKKAKE',\n",
       "  'CDLHIKKAKEMOD',\n",
       "  'CDLHOMINGPIGEON',\n",
       "  'CDLIDENTICAL3CROWS',\n",
       "  'CDLINNECK',\n",
       "  'CDLINVERTEDHAMMER',\n",
       "  'CDLKICKING',\n",
       "  'CDLKICKINGBYLENGTH',\n",
       "  'CDLLADDERBOTTOM',\n",
       "  'CDLLONGLEGGEDDOJI',\n",
       "  'CDLLONGLINE',\n",
       "  'CDLMARUBOZU',\n",
       "  'CDLMATCHINGLOW',\n",
       "  'CDLMATHOLD',\n",
       "  'CDLMORNINGDOJISTAR',\n",
       "  'CDLMORNINGSTAR',\n",
       "  'CDLONNECK',\n",
       "  'CDLPIERCING',\n",
       "  'CDLRICKSHAWMAN',\n",
       "  'CDLRISEFALL3METHODS',\n",
       "  'CDLSEPARATINGLINES',\n",
       "  'CDLSHOOTINGSTAR',\n",
       "  'CDLSHORTLINE',\n",
       "  'CDLSPINNINGTOP',\n",
       "  'CDLSTALLEDPATTERN',\n",
       "  'CDLSTICKSANDWICH',\n",
       "  'CDLTAKURI',\n",
       "  'CDLTASUKIGAP',\n",
       "  'CDLTHRUSTING',\n",
       "  'CDLTRISTAR',\n",
       "  'CDLUNIQUE3RIVER',\n",
       "  'CDLUPSIDEGAP2CROWS',\n",
       "  'CDLXSIDEGAP3METHODS'],\n",
       " 'Price Transform': ['AVGPRICE', 'MEDPRICE', 'TYPPRICE', 'WCLPRICE'],\n",
       " 'Statistic Functions': ['BETA',\n",
       "  'CORREL',\n",
       "  'LINEARREG',\n",
       "  'LINEARREG_ANGLE',\n",
       "  'LINEARREG_INTERCEPT',\n",
       "  'LINEARREG_SLOPE',\n",
       "  'STDDEV',\n",
       "  'TSF',\n",
       "  'VAR'],\n",
       " 'Volatility Indicators': ['ATR', 'NATR', 'TRANGE'],\n",
       " 'Volume Indicators': ['AD', 'ADOSC', 'OBV']}"
      ]
     },
     "execution_count": 218,
     "metadata": {},
     "output_type": "execute_result"
    }
   ],
   "source": [
    "ta.get_function_groups()"
   ]
  },
  {
   "cell_type": "markdown",
   "metadata": {
    "id": "u7D-qfYKeQnb"
   },
   "source": [
    "Se construye una lista de con los patrones que reconoce ta-lib y se aplica \"abstract\" (aplica toda una lista a los datos del dataframe que se le pase)"
   ]
  },
  {
   "cell_type": "code",
   "execution_count": 219,
   "metadata": {
    "id": "FajnO8N-eQnb"
   },
   "outputs": [],
   "source": [
    "# Se pasan todos los patrones\n",
    "all_indicators_patrons = [method for method in dir(abstract) if method.startswith('CDL')]"
   ]
  },
  {
   "cell_type": "code",
   "execution_count": 220,
   "metadata": {
    "id": "BNjAK9TjeQnc"
   },
   "outputs": [],
   "source": [
    "# Se calculan todos los patrones\n",
    "df_indicator = pd.DataFrame()\n",
    "for indicator in all_indicators_patrons:\n",
    "    df_indicator[str(indicator)] = getattr(abstract, indicator)(BTC_minor_letters_2)"
   ]
  },
  {
   "cell_type": "code",
   "execution_count": 221,
   "metadata": {
    "id": "ecgcs2T6eQnc",
    "outputId": "75c77a9a-0b4c-48e4-eea4-7f35064326bc"
   },
   "outputs": [
    {
     "data": {
      "text/html": [
       "<div>\n",
       "<style scoped>\n",
       "    .dataframe tbody tr th:only-of-type {\n",
       "        vertical-align: middle;\n",
       "    }\n",
       "\n",
       "    .dataframe tbody tr th {\n",
       "        vertical-align: top;\n",
       "    }\n",
       "\n",
       "    .dataframe thead th {\n",
       "        text-align: right;\n",
       "    }\n",
       "</style>\n",
       "<table border=\"1\" class=\"dataframe\">\n",
       "  <thead>\n",
       "    <tr style=\"text-align: right;\">\n",
       "      <th></th>\n",
       "      <th>CDL2CROWS</th>\n",
       "      <th>CDL3BLACKCROWS</th>\n",
       "      <th>CDL3INSIDE</th>\n",
       "      <th>CDL3LINESTRIKE</th>\n",
       "      <th>CDL3OUTSIDE</th>\n",
       "      <th>CDL3STARSINSOUTH</th>\n",
       "      <th>CDL3WHITESOLDIERS</th>\n",
       "      <th>CDLABANDONEDBABY</th>\n",
       "      <th>CDLADVANCEBLOCK</th>\n",
       "      <th>CDLBELTHOLD</th>\n",
       "      <th>CDLBREAKAWAY</th>\n",
       "      <th>CDLCLOSINGMARUBOZU</th>\n",
       "      <th>CDLCONCEALBABYSWALL</th>\n",
       "      <th>CDLCOUNTERATTACK</th>\n",
       "      <th>CDLDARKCLOUDCOVER</th>\n",
       "      <th>CDLDOJI</th>\n",
       "      <th>CDLDOJISTAR</th>\n",
       "      <th>CDLDRAGONFLYDOJI</th>\n",
       "      <th>CDLENGULFING</th>\n",
       "      <th>CDLEVENINGDOJISTAR</th>\n",
       "      <th>CDLEVENINGSTAR</th>\n",
       "      <th>CDLGAPSIDESIDEWHITE</th>\n",
       "      <th>CDLGRAVESTONEDOJI</th>\n",
       "      <th>CDLHAMMER</th>\n",
       "      <th>CDLHANGINGMAN</th>\n",
       "      <th>CDLHARAMI</th>\n",
       "      <th>CDLHARAMICROSS</th>\n",
       "      <th>CDLHIGHWAVE</th>\n",
       "      <th>CDLHIKKAKE</th>\n",
       "      <th>CDLHIKKAKEMOD</th>\n",
       "      <th>CDLHOMINGPIGEON</th>\n",
       "      <th>CDLIDENTICAL3CROWS</th>\n",
       "      <th>CDLINNECK</th>\n",
       "      <th>CDLINVERTEDHAMMER</th>\n",
       "      <th>CDLKICKING</th>\n",
       "      <th>CDLKICKINGBYLENGTH</th>\n",
       "      <th>CDLLADDERBOTTOM</th>\n",
       "      <th>CDLLONGLEGGEDDOJI</th>\n",
       "      <th>CDLLONGLINE</th>\n",
       "      <th>CDLMARUBOZU</th>\n",
       "      <th>CDLMATCHINGLOW</th>\n",
       "      <th>CDLMATHOLD</th>\n",
       "      <th>CDLMORNINGDOJISTAR</th>\n",
       "      <th>CDLMORNINGSTAR</th>\n",
       "      <th>CDLONNECK</th>\n",
       "      <th>CDLPIERCING</th>\n",
       "      <th>CDLRICKSHAWMAN</th>\n",
       "      <th>CDLRISEFALL3METHODS</th>\n",
       "      <th>CDLSEPARATINGLINES</th>\n",
       "      <th>CDLSHOOTINGSTAR</th>\n",
       "      <th>CDLSHORTLINE</th>\n",
       "      <th>CDLSPINNINGTOP</th>\n",
       "      <th>CDLSTALLEDPATTERN</th>\n",
       "      <th>CDLSTICKSANDWICH</th>\n",
       "      <th>CDLTAKURI</th>\n",
       "      <th>CDLTASUKIGAP</th>\n",
       "      <th>CDLTHRUSTING</th>\n",
       "      <th>CDLTRISTAR</th>\n",
       "      <th>CDLUNIQUE3RIVER</th>\n",
       "      <th>CDLUPSIDEGAP2CROWS</th>\n",
       "      <th>CDLXSIDEGAP3METHODS</th>\n",
       "    </tr>\n",
       "  </thead>\n",
       "  <tbody>\n",
       "    <tr>\n",
       "      <th>4381</th>\n",
       "      <td>0</td>\n",
       "      <td>0</td>\n",
       "      <td>0</td>\n",
       "      <td>0</td>\n",
       "      <td>0</td>\n",
       "      <td>0</td>\n",
       "      <td>0</td>\n",
       "      <td>0</td>\n",
       "      <td>0</td>\n",
       "      <td>0</td>\n",
       "      <td>0</td>\n",
       "      <td>0</td>\n",
       "      <td>0</td>\n",
       "      <td>0</td>\n",
       "      <td>0</td>\n",
       "      <td>0</td>\n",
       "      <td>0</td>\n",
       "      <td>0</td>\n",
       "      <td>0</td>\n",
       "      <td>0</td>\n",
       "      <td>0</td>\n",
       "      <td>0</td>\n",
       "      <td>0</td>\n",
       "      <td>0</td>\n",
       "      <td>0</td>\n",
       "      <td>0</td>\n",
       "      <td>0</td>\n",
       "      <td>0</td>\n",
       "      <td>0</td>\n",
       "      <td>0</td>\n",
       "      <td>0</td>\n",
       "      <td>0</td>\n",
       "      <td>0</td>\n",
       "      <td>0</td>\n",
       "      <td>0</td>\n",
       "      <td>0</td>\n",
       "      <td>0</td>\n",
       "      <td>0</td>\n",
       "      <td>0</td>\n",
       "      <td>0</td>\n",
       "      <td>0</td>\n",
       "      <td>0</td>\n",
       "      <td>0</td>\n",
       "      <td>0</td>\n",
       "      <td>0</td>\n",
       "      <td>0</td>\n",
       "      <td>0</td>\n",
       "      <td>0</td>\n",
       "      <td>0</td>\n",
       "      <td>0</td>\n",
       "      <td>0</td>\n",
       "      <td>0</td>\n",
       "      <td>0</td>\n",
       "      <td>0</td>\n",
       "      <td>0</td>\n",
       "      <td>0</td>\n",
       "      <td>0</td>\n",
       "      <td>0</td>\n",
       "      <td>0</td>\n",
       "      <td>0</td>\n",
       "      <td>0</td>\n",
       "    </tr>\n",
       "    <tr>\n",
       "      <th>4382</th>\n",
       "      <td>0</td>\n",
       "      <td>0</td>\n",
       "      <td>0</td>\n",
       "      <td>0</td>\n",
       "      <td>0</td>\n",
       "      <td>0</td>\n",
       "      <td>0</td>\n",
       "      <td>0</td>\n",
       "      <td>0</td>\n",
       "      <td>0</td>\n",
       "      <td>0</td>\n",
       "      <td>0</td>\n",
       "      <td>0</td>\n",
       "      <td>0</td>\n",
       "      <td>0</td>\n",
       "      <td>0</td>\n",
       "      <td>0</td>\n",
       "      <td>0</td>\n",
       "      <td>0</td>\n",
       "      <td>0</td>\n",
       "      <td>0</td>\n",
       "      <td>0</td>\n",
       "      <td>0</td>\n",
       "      <td>0</td>\n",
       "      <td>0</td>\n",
       "      <td>0</td>\n",
       "      <td>0</td>\n",
       "      <td>0</td>\n",
       "      <td>0</td>\n",
       "      <td>0</td>\n",
       "      <td>0</td>\n",
       "      <td>0</td>\n",
       "      <td>0</td>\n",
       "      <td>0</td>\n",
       "      <td>0</td>\n",
       "      <td>0</td>\n",
       "      <td>0</td>\n",
       "      <td>0</td>\n",
       "      <td>0</td>\n",
       "      <td>0</td>\n",
       "      <td>0</td>\n",
       "      <td>0</td>\n",
       "      <td>0</td>\n",
       "      <td>0</td>\n",
       "      <td>0</td>\n",
       "      <td>0</td>\n",
       "      <td>0</td>\n",
       "      <td>0</td>\n",
       "      <td>0</td>\n",
       "      <td>0</td>\n",
       "      <td>0</td>\n",
       "      <td>0</td>\n",
       "      <td>0</td>\n",
       "      <td>0</td>\n",
       "      <td>0</td>\n",
       "      <td>0</td>\n",
       "      <td>0</td>\n",
       "      <td>0</td>\n",
       "      <td>0</td>\n",
       "      <td>0</td>\n",
       "      <td>100</td>\n",
       "    </tr>\n",
       "    <tr>\n",
       "      <th>4383</th>\n",
       "      <td>0</td>\n",
       "      <td>0</td>\n",
       "      <td>0</td>\n",
       "      <td>0</td>\n",
       "      <td>0</td>\n",
       "      <td>0</td>\n",
       "      <td>0</td>\n",
       "      <td>0</td>\n",
       "      <td>0</td>\n",
       "      <td>100</td>\n",
       "      <td>0</td>\n",
       "      <td>0</td>\n",
       "      <td>0</td>\n",
       "      <td>0</td>\n",
       "      <td>0</td>\n",
       "      <td>0</td>\n",
       "      <td>0</td>\n",
       "      <td>0</td>\n",
       "      <td>0</td>\n",
       "      <td>0</td>\n",
       "      <td>0</td>\n",
       "      <td>0</td>\n",
       "      <td>0</td>\n",
       "      <td>0</td>\n",
       "      <td>0</td>\n",
       "      <td>0</td>\n",
       "      <td>0</td>\n",
       "      <td>0</td>\n",
       "      <td>0</td>\n",
       "      <td>0</td>\n",
       "      <td>0</td>\n",
       "      <td>0</td>\n",
       "      <td>0</td>\n",
       "      <td>0</td>\n",
       "      <td>0</td>\n",
       "      <td>0</td>\n",
       "      <td>0</td>\n",
       "      <td>0</td>\n",
       "      <td>100</td>\n",
       "      <td>0</td>\n",
       "      <td>0</td>\n",
       "      <td>0</td>\n",
       "      <td>0</td>\n",
       "      <td>0</td>\n",
       "      <td>0</td>\n",
       "      <td>0</td>\n",
       "      <td>0</td>\n",
       "      <td>0</td>\n",
       "      <td>0</td>\n",
       "      <td>0</td>\n",
       "      <td>0</td>\n",
       "      <td>0</td>\n",
       "      <td>0</td>\n",
       "      <td>0</td>\n",
       "      <td>0</td>\n",
       "      <td>0</td>\n",
       "      <td>0</td>\n",
       "      <td>0</td>\n",
       "      <td>0</td>\n",
       "      <td>0</td>\n",
       "      <td>0</td>\n",
       "    </tr>\n",
       "    <tr>\n",
       "      <th>4384</th>\n",
       "      <td>0</td>\n",
       "      <td>0</td>\n",
       "      <td>0</td>\n",
       "      <td>0</td>\n",
       "      <td>0</td>\n",
       "      <td>0</td>\n",
       "      <td>0</td>\n",
       "      <td>0</td>\n",
       "      <td>0</td>\n",
       "      <td>0</td>\n",
       "      <td>0</td>\n",
       "      <td>0</td>\n",
       "      <td>0</td>\n",
       "      <td>0</td>\n",
       "      <td>0</td>\n",
       "      <td>0</td>\n",
       "      <td>0</td>\n",
       "      <td>0</td>\n",
       "      <td>0</td>\n",
       "      <td>0</td>\n",
       "      <td>0</td>\n",
       "      <td>0</td>\n",
       "      <td>0</td>\n",
       "      <td>0</td>\n",
       "      <td>0</td>\n",
       "      <td>0</td>\n",
       "      <td>0</td>\n",
       "      <td>0</td>\n",
       "      <td>0</td>\n",
       "      <td>0</td>\n",
       "      <td>0</td>\n",
       "      <td>0</td>\n",
       "      <td>0</td>\n",
       "      <td>0</td>\n",
       "      <td>0</td>\n",
       "      <td>0</td>\n",
       "      <td>0</td>\n",
       "      <td>0</td>\n",
       "      <td>0</td>\n",
       "      <td>0</td>\n",
       "      <td>0</td>\n",
       "      <td>0</td>\n",
       "      <td>0</td>\n",
       "      <td>0</td>\n",
       "      <td>0</td>\n",
       "      <td>0</td>\n",
       "      <td>0</td>\n",
       "      <td>0</td>\n",
       "      <td>0</td>\n",
       "      <td>0</td>\n",
       "      <td>0</td>\n",
       "      <td>0</td>\n",
       "      <td>0</td>\n",
       "      <td>0</td>\n",
       "      <td>0</td>\n",
       "      <td>0</td>\n",
       "      <td>0</td>\n",
       "      <td>0</td>\n",
       "      <td>0</td>\n",
       "      <td>0</td>\n",
       "      <td>0</td>\n",
       "    </tr>\n",
       "    <tr>\n",
       "      <th>4385</th>\n",
       "      <td>0</td>\n",
       "      <td>0</td>\n",
       "      <td>0</td>\n",
       "      <td>0</td>\n",
       "      <td>0</td>\n",
       "      <td>0</td>\n",
       "      <td>0</td>\n",
       "      <td>0</td>\n",
       "      <td>0</td>\n",
       "      <td>0</td>\n",
       "      <td>0</td>\n",
       "      <td>0</td>\n",
       "      <td>0</td>\n",
       "      <td>0</td>\n",
       "      <td>0</td>\n",
       "      <td>0</td>\n",
       "      <td>0</td>\n",
       "      <td>0</td>\n",
       "      <td>0</td>\n",
       "      <td>0</td>\n",
       "      <td>0</td>\n",
       "      <td>0</td>\n",
       "      <td>0</td>\n",
       "      <td>0</td>\n",
       "      <td>0</td>\n",
       "      <td>0</td>\n",
       "      <td>0</td>\n",
       "      <td>0</td>\n",
       "      <td>0</td>\n",
       "      <td>0</td>\n",
       "      <td>0</td>\n",
       "      <td>0</td>\n",
       "      <td>0</td>\n",
       "      <td>0</td>\n",
       "      <td>0</td>\n",
       "      <td>0</td>\n",
       "      <td>0</td>\n",
       "      <td>0</td>\n",
       "      <td>0</td>\n",
       "      <td>0</td>\n",
       "      <td>0</td>\n",
       "      <td>0</td>\n",
       "      <td>0</td>\n",
       "      <td>0</td>\n",
       "      <td>0</td>\n",
       "      <td>0</td>\n",
       "      <td>0</td>\n",
       "      <td>0</td>\n",
       "      <td>0</td>\n",
       "      <td>0</td>\n",
       "      <td>-100</td>\n",
       "      <td>0</td>\n",
       "      <td>0</td>\n",
       "      <td>0</td>\n",
       "      <td>0</td>\n",
       "      <td>0</td>\n",
       "      <td>0</td>\n",
       "      <td>0</td>\n",
       "      <td>0</td>\n",
       "      <td>0</td>\n",
       "      <td>0</td>\n",
       "    </tr>\n",
       "  </tbody>\n",
       "</table>\n",
       "</div>"
      ],
      "text/plain": [
       "      CDL2CROWS  CDL3BLACKCROWS  CDL3INSIDE  CDL3LINESTRIKE  CDL3OUTSIDE  \\\n",
       "4381          0               0           0               0            0   \n",
       "4382          0               0           0               0            0   \n",
       "4383          0               0           0               0            0   \n",
       "4384          0               0           0               0            0   \n",
       "4385          0               0           0               0            0   \n",
       "\n",
       "      CDL3STARSINSOUTH  CDL3WHITESOLDIERS  CDLABANDONEDBABY  CDLADVANCEBLOCK  \\\n",
       "4381                 0                  0                 0                0   \n",
       "4382                 0                  0                 0                0   \n",
       "4383                 0                  0                 0                0   \n",
       "4384                 0                  0                 0                0   \n",
       "4385                 0                  0                 0                0   \n",
       "\n",
       "      CDLBELTHOLD  CDLBREAKAWAY  CDLCLOSINGMARUBOZU  CDLCONCEALBABYSWALL  \\\n",
       "4381            0             0                   0                    0   \n",
       "4382            0             0                   0                    0   \n",
       "4383          100             0                   0                    0   \n",
       "4384            0             0                   0                    0   \n",
       "4385            0             0                   0                    0   \n",
       "\n",
       "      CDLCOUNTERATTACK  CDLDARKCLOUDCOVER  CDLDOJI  CDLDOJISTAR  \\\n",
       "4381                 0                  0        0            0   \n",
       "4382                 0                  0        0            0   \n",
       "4383                 0                  0        0            0   \n",
       "4384                 0                  0        0            0   \n",
       "4385                 0                  0        0            0   \n",
       "\n",
       "      CDLDRAGONFLYDOJI  CDLENGULFING  CDLEVENINGDOJISTAR  CDLEVENINGSTAR  \\\n",
       "4381                 0             0                   0               0   \n",
       "4382                 0             0                   0               0   \n",
       "4383                 0             0                   0               0   \n",
       "4384                 0             0                   0               0   \n",
       "4385                 0             0                   0               0   \n",
       "\n",
       "      CDLGAPSIDESIDEWHITE  CDLGRAVESTONEDOJI  CDLHAMMER  CDLHANGINGMAN  \\\n",
       "4381                    0                  0          0              0   \n",
       "4382                    0                  0          0              0   \n",
       "4383                    0                  0          0              0   \n",
       "4384                    0                  0          0              0   \n",
       "4385                    0                  0          0              0   \n",
       "\n",
       "      CDLHARAMI  CDLHARAMICROSS  CDLHIGHWAVE  CDLHIKKAKE  CDLHIKKAKEMOD  \\\n",
       "4381          0               0            0           0              0   \n",
       "4382          0               0            0           0              0   \n",
       "4383          0               0            0           0              0   \n",
       "4384          0               0            0           0              0   \n",
       "4385          0               0            0           0              0   \n",
       "\n",
       "      CDLHOMINGPIGEON  CDLIDENTICAL3CROWS  CDLINNECK  CDLINVERTEDHAMMER  \\\n",
       "4381                0                   0          0                  0   \n",
       "4382                0                   0          0                  0   \n",
       "4383                0                   0          0                  0   \n",
       "4384                0                   0          0                  0   \n",
       "4385                0                   0          0                  0   \n",
       "\n",
       "      CDLKICKING  CDLKICKINGBYLENGTH  CDLLADDERBOTTOM  CDLLONGLEGGEDDOJI  \\\n",
       "4381           0                   0                0                  0   \n",
       "4382           0                   0                0                  0   \n",
       "4383           0                   0                0                  0   \n",
       "4384           0                   0                0                  0   \n",
       "4385           0                   0                0                  0   \n",
       "\n",
       "      CDLLONGLINE  CDLMARUBOZU  CDLMATCHINGLOW  CDLMATHOLD  \\\n",
       "4381            0            0               0           0   \n",
       "4382            0            0               0           0   \n",
       "4383          100            0               0           0   \n",
       "4384            0            0               0           0   \n",
       "4385            0            0               0           0   \n",
       "\n",
       "      CDLMORNINGDOJISTAR  CDLMORNINGSTAR  CDLONNECK  CDLPIERCING  \\\n",
       "4381                   0               0          0            0   \n",
       "4382                   0               0          0            0   \n",
       "4383                   0               0          0            0   \n",
       "4384                   0               0          0            0   \n",
       "4385                   0               0          0            0   \n",
       "\n",
       "      CDLRICKSHAWMAN  CDLRISEFALL3METHODS  CDLSEPARATINGLINES  \\\n",
       "4381               0                    0                   0   \n",
       "4382               0                    0                   0   \n",
       "4383               0                    0                   0   \n",
       "4384               0                    0                   0   \n",
       "4385               0                    0                   0   \n",
       "\n",
       "      CDLSHOOTINGSTAR  CDLSHORTLINE  CDLSPINNINGTOP  CDLSTALLEDPATTERN  \\\n",
       "4381                0             0               0                  0   \n",
       "4382                0             0               0                  0   \n",
       "4383                0             0               0                  0   \n",
       "4384                0             0               0                  0   \n",
       "4385                0          -100               0                  0   \n",
       "\n",
       "      CDLSTICKSANDWICH  CDLTAKURI  CDLTASUKIGAP  CDLTHRUSTING  CDLTRISTAR  \\\n",
       "4381                 0          0             0             0           0   \n",
       "4382                 0          0             0             0           0   \n",
       "4383                 0          0             0             0           0   \n",
       "4384                 0          0             0             0           0   \n",
       "4385                 0          0             0             0           0   \n",
       "\n",
       "      CDLUNIQUE3RIVER  CDLUPSIDEGAP2CROWS  CDLXSIDEGAP3METHODS  \n",
       "4381                0                   0                    0  \n",
       "4382                0                   0                  100  \n",
       "4383                0                   0                    0  \n",
       "4384                0                   0                    0  \n",
       "4385                0                   0                    0  "
      ]
     },
     "execution_count": 221,
     "metadata": {},
     "output_type": "execute_result"
    }
   ],
   "source": [
    "df_indicator.tail()"
   ]
  },
  {
   "cell_type": "code",
   "execution_count": 222,
   "metadata": {
    "id": "3dYSXXjLeQnd",
    "outputId": "ce7fc5cc-0704-4e8f-e716-478ebaf0a5b2"
   },
   "outputs": [
    {
     "name": "stdout",
     "output_type": "stream",
     "text": [
      "<class 'pandas.core.frame.DataFrame'>\n",
      "RangeIndex: 4386 entries, 0 to 4385\n",
      "Data columns (total 61 columns):\n",
      " #   Column               Non-Null Count  Dtype\n",
      "---  ------               --------------  -----\n",
      " 0   CDL2CROWS            4386 non-null   int32\n",
      " 1   CDL3BLACKCROWS       4386 non-null   int32\n",
      " 2   CDL3INSIDE           4386 non-null   int32\n",
      " 3   CDL3LINESTRIKE       4386 non-null   int32\n",
      " 4   CDL3OUTSIDE          4386 non-null   int32\n",
      " 5   CDL3STARSINSOUTH     4386 non-null   int32\n",
      " 6   CDL3WHITESOLDIERS    4386 non-null   int32\n",
      " 7   CDLABANDONEDBABY     4386 non-null   int32\n",
      " 8   CDLADVANCEBLOCK      4386 non-null   int32\n",
      " 9   CDLBELTHOLD          4386 non-null   int32\n",
      " 10  CDLBREAKAWAY         4386 non-null   int32\n",
      " 11  CDLCLOSINGMARUBOZU   4386 non-null   int32\n",
      " 12  CDLCONCEALBABYSWALL  4386 non-null   int32\n",
      " 13  CDLCOUNTERATTACK     4386 non-null   int32\n",
      " 14  CDLDARKCLOUDCOVER    4386 non-null   int32\n",
      " 15  CDLDOJI              4386 non-null   int32\n",
      " 16  CDLDOJISTAR          4386 non-null   int32\n",
      " 17  CDLDRAGONFLYDOJI     4386 non-null   int32\n",
      " 18  CDLENGULFING         4386 non-null   int32\n",
      " 19  CDLEVENINGDOJISTAR   4386 non-null   int32\n",
      " 20  CDLEVENINGSTAR       4386 non-null   int32\n",
      " 21  CDLGAPSIDESIDEWHITE  4386 non-null   int32\n",
      " 22  CDLGRAVESTONEDOJI    4386 non-null   int32\n",
      " 23  CDLHAMMER            4386 non-null   int32\n",
      " 24  CDLHANGINGMAN        4386 non-null   int32\n",
      " 25  CDLHARAMI            4386 non-null   int32\n",
      " 26  CDLHARAMICROSS       4386 non-null   int32\n",
      " 27  CDLHIGHWAVE          4386 non-null   int32\n",
      " 28  CDLHIKKAKE           4386 non-null   int32\n",
      " 29  CDLHIKKAKEMOD        4386 non-null   int32\n",
      " 30  CDLHOMINGPIGEON      4386 non-null   int32\n",
      " 31  CDLIDENTICAL3CROWS   4386 non-null   int32\n",
      " 32  CDLINNECK            4386 non-null   int32\n",
      " 33  CDLINVERTEDHAMMER    4386 non-null   int32\n",
      " 34  CDLKICKING           4386 non-null   int32\n",
      " 35  CDLKICKINGBYLENGTH   4386 non-null   int32\n",
      " 36  CDLLADDERBOTTOM      4386 non-null   int32\n",
      " 37  CDLLONGLEGGEDDOJI    4386 non-null   int32\n",
      " 38  CDLLONGLINE          4386 non-null   int32\n",
      " 39  CDLMARUBOZU          4386 non-null   int32\n",
      " 40  CDLMATCHINGLOW       4386 non-null   int32\n",
      " 41  CDLMATHOLD           4386 non-null   int32\n",
      " 42  CDLMORNINGDOJISTAR   4386 non-null   int32\n",
      " 43  CDLMORNINGSTAR       4386 non-null   int32\n",
      " 44  CDLONNECK            4386 non-null   int32\n",
      " 45  CDLPIERCING          4386 non-null   int32\n",
      " 46  CDLRICKSHAWMAN       4386 non-null   int32\n",
      " 47  CDLRISEFALL3METHODS  4386 non-null   int32\n",
      " 48  CDLSEPARATINGLINES   4386 non-null   int32\n",
      " 49  CDLSHOOTINGSTAR      4386 non-null   int32\n",
      " 50  CDLSHORTLINE         4386 non-null   int32\n",
      " 51  CDLSPINNINGTOP       4386 non-null   int32\n",
      " 52  CDLSTALLEDPATTERN    4386 non-null   int32\n",
      " 53  CDLSTICKSANDWICH     4386 non-null   int32\n",
      " 54  CDLTAKURI            4386 non-null   int32\n",
      " 55  CDLTASUKIGAP         4386 non-null   int32\n",
      " 56  CDLTHRUSTING         4386 non-null   int32\n",
      " 57  CDLTRISTAR           4386 non-null   int32\n",
      " 58  CDLUNIQUE3RIVER      4386 non-null   int32\n",
      " 59  CDLUPSIDEGAP2CROWS   4386 non-null   int32\n",
      " 60  CDLXSIDEGAP3METHODS  4386 non-null   int32\n",
      "dtypes: int32(61)\n",
      "memory usage: 1.0 MB\n"
     ]
    }
   ],
   "source": [
    "df_indicator.info()"
   ]
  },
  {
   "cell_type": "markdown",
   "metadata": {},
   "source": [
    "Observaciones:\n",
    "- No hay valores nulos."
   ]
  },
  {
   "cell_type": "code",
   "execution_count": 223,
   "metadata": {
    "id": "EMPHOv7ieQnd"
   },
   "outputs": [],
   "source": [
    "df_indicator_values = df_indicator.columns"
   ]
  },
  {
   "cell_type": "code",
   "execution_count": 224,
   "metadata": {
    "id": "5DPyS4i2eQnd",
    "outputId": "aa614429-05cd-41f8-8514-b23ae5c617ff"
   },
   "outputs": [
    {
     "data": {
      "text/plain": [
       "Index(['CDL2CROWS', 'CDL3BLACKCROWS', 'CDL3INSIDE', 'CDL3LINESTRIKE',\n",
       "       'CDL3OUTSIDE', 'CDL3STARSINSOUTH', 'CDL3WHITESOLDIERS',\n",
       "       'CDLABANDONEDBABY', 'CDLADVANCEBLOCK', 'CDLBELTHOLD', 'CDLBREAKAWAY',\n",
       "       'CDLCLOSINGMARUBOZU', 'CDLCONCEALBABYSWALL', 'CDLCOUNTERATTACK',\n",
       "       'CDLDARKCLOUDCOVER', 'CDLDOJI', 'CDLDOJISTAR', 'CDLDRAGONFLYDOJI',\n",
       "       'CDLENGULFING', 'CDLEVENINGDOJISTAR', 'CDLEVENINGSTAR',\n",
       "       'CDLGAPSIDESIDEWHITE', 'CDLGRAVESTONEDOJI', 'CDLHAMMER',\n",
       "       'CDLHANGINGMAN', 'CDLHARAMI', 'CDLHARAMICROSS', 'CDLHIGHWAVE',\n",
       "       'CDLHIKKAKE', 'CDLHIKKAKEMOD', 'CDLHOMINGPIGEON', 'CDLIDENTICAL3CROWS',\n",
       "       'CDLINNECK', 'CDLINVERTEDHAMMER', 'CDLKICKING', 'CDLKICKINGBYLENGTH',\n",
       "       'CDLLADDERBOTTOM', 'CDLLONGLEGGEDDOJI', 'CDLLONGLINE', 'CDLMARUBOZU',\n",
       "       'CDLMATCHINGLOW', 'CDLMATHOLD', 'CDLMORNINGDOJISTAR', 'CDLMORNINGSTAR',\n",
       "       'CDLONNECK', 'CDLPIERCING', 'CDLRICKSHAWMAN', 'CDLRISEFALL3METHODS',\n",
       "       'CDLSEPARATINGLINES', 'CDLSHOOTINGSTAR', 'CDLSHORTLINE',\n",
       "       'CDLSPINNINGTOP', 'CDLSTALLEDPATTERN', 'CDLSTICKSANDWICH', 'CDLTAKURI',\n",
       "       'CDLTASUKIGAP', 'CDLTHRUSTING', 'CDLTRISTAR', 'CDLUNIQUE3RIVER',\n",
       "       'CDLUPSIDEGAP2CROWS', 'CDLXSIDEGAP3METHODS'],\n",
       "      dtype='object')"
      ]
     },
     "execution_count": 224,
     "metadata": {},
     "output_type": "execute_result"
    }
   ],
   "source": [
    "df_indicator_values"
   ]
  },
  {
   "cell_type": "code",
   "execution_count": 225,
   "metadata": {
    "id": "G3H1oQ3TeQne",
    "outputId": "7e3150fb-deb6-4ebc-da15-09bc45b4851f"
   },
   "outputs": [
    {
     "name": "stdout",
     "output_type": "stream",
     "text": [
      "CDL2CROWS 0    4386\n",
      "Name: CDL2CROWS, dtype: int64\n",
      "------*------\n",
      "CDL3BLACKCROWS 0    4386\n",
      "Name: CDL3BLACKCROWS, dtype: int64\n",
      "------*------\n",
      "CDL3INSIDE  0      4377\n",
      "-100       5\n",
      " 100       4\n",
      "Name: CDL3INSIDE, dtype: int64\n",
      "------*------\n",
      "CDL3LINESTRIKE  0      4381\n",
      "-100       4\n",
      " 100       1\n",
      "Name: CDL3LINESTRIKE, dtype: int64\n",
      "------*------\n",
      "CDL3OUTSIDE  0      4294\n",
      "-100      46\n",
      " 100      46\n",
      "Name: CDL3OUTSIDE, dtype: int64\n",
      "------*------\n",
      "CDL3STARSINSOUTH 0    4386\n",
      "Name: CDL3STARSINSOUTH, dtype: int64\n",
      "------*------\n",
      "CDL3WHITESOLDIERS 0      4383\n",
      "100       3\n",
      "Name: CDL3WHITESOLDIERS, dtype: int64\n",
      "------*------\n",
      "CDLABANDONEDBABY 0    4386\n",
      "Name: CDLABANDONEDBABY, dtype: int64\n",
      "------*------\n",
      "CDLADVANCEBLOCK  0      4325\n",
      "-100      61\n",
      "Name: CDLADVANCEBLOCK, dtype: int64\n",
      "------*------\n",
      "CDLBELTHOLD  0      3687\n",
      " 100     385\n",
      "-100     314\n",
      "Name: CDLBELTHOLD, dtype: int64\n",
      "------*------\n",
      "CDLBREAKAWAY 0    4386\n",
      "Name: CDLBREAKAWAY, dtype: int64\n",
      "------*------\n",
      "CDLCLOSINGMARUBOZU  0      3962\n",
      " 100     278\n",
      "-100     146\n",
      "Name: CDLCLOSINGMARUBOZU, dtype: int64\n",
      "------*------\n",
      "CDLCONCEALBABYSWALL 0    4386\n",
      "Name: CDLCONCEALBABYSWALL, dtype: int64\n",
      "------*------\n",
      "CDLCOUNTERATTACK 0    4386\n",
      "Name: CDLCOUNTERATTACK, dtype: int64\n",
      "------*------\n",
      "CDLDARKCLOUDCOVER  0      4385\n",
      "-100       1\n",
      "Name: CDLDARKCLOUDCOVER, dtype: int64\n",
      "------*------\n",
      "CDLDOJI 0      3411\n",
      "100     975\n",
      "Name: CDLDOJI, dtype: int64\n",
      "------*------\n",
      "CDLDOJISTAR  0      4366\n",
      "-100      12\n",
      " 100       8\n",
      "Name: CDLDOJISTAR, dtype: int64\n",
      "------*------\n",
      "CDLDRAGONFLYDOJI 0      4258\n",
      "100     128\n",
      "Name: CDLDRAGONFLYDOJI, dtype: int64\n",
      "------*------\n",
      "CDLENGULFING  0      4197\n",
      " 100      96\n",
      "-100      93\n",
      "Name: CDLENGULFING, dtype: int64\n",
      "------*------\n",
      "CDLEVENINGDOJISTAR  0      4383\n",
      "-100       3\n",
      "Name: CDLEVENINGDOJISTAR, dtype: int64\n",
      "------*------\n",
      "CDLEVENINGSTAR  0      4380\n",
      "-100       6\n",
      "Name: CDLEVENINGSTAR, dtype: int64\n",
      "------*------\n",
      "CDLGAPSIDESIDEWHITE 0      4382\n",
      "100       4\n",
      "Name: CDLGAPSIDESIDEWHITE, dtype: int64\n",
      "------*------\n",
      "CDLGRAVESTONEDOJI 0      4297\n",
      "100      89\n",
      "Name: CDLGRAVESTONEDOJI, dtype: int64\n",
      "------*------\n",
      "CDLHAMMER 0      4267\n",
      "100     119\n",
      "Name: CDLHAMMER, dtype: int64\n",
      "------*------\n",
      "CDLHANGINGMAN  0      4301\n",
      "-100      85\n",
      "Name: CDLHANGINGMAN, dtype: int64\n",
      "------*------\n",
      "CDLHARAMI  0      4293\n",
      " 100      50\n",
      "-100      43\n",
      "Name: CDLHARAMI, dtype: int64\n",
      "------*------\n",
      "CDLHARAMICROSS  0      4364\n",
      " 100      11\n",
      "-100      11\n",
      "Name: CDLHARAMICROSS, dtype: int64\n",
      "------*------\n",
      "CDLHIGHWAVE  0      3783\n",
      " 100     329\n",
      "-100     274\n",
      "Name: CDLHIGHWAVE, dtype: int64\n",
      "------*------\n",
      "CDLHIKKAKE  0      3699\n",
      "-100     307\n",
      " 100     257\n",
      " 200      64\n",
      "-200      59\n",
      "Name: CDLHIKKAKE, dtype: int64\n",
      "------*------\n",
      "CDLHIKKAKEMOD  0      4371\n",
      "-100       7\n",
      " 100       6\n",
      " 200       1\n",
      "-200       1\n",
      "Name: CDLHIKKAKEMOD, dtype: int64\n",
      "------*------\n",
      "CDLHOMINGPIGEON 0    4386\n",
      "Name: CDLHOMINGPIGEON, dtype: int64\n",
      "------*------\n",
      "CDLIDENTICAL3CROWS 0    4386\n",
      "Name: CDLIDENTICAL3CROWS, dtype: int64\n",
      "------*------\n",
      "CDLINNECK 0    4386\n",
      "Name: CDLINNECK, dtype: int64\n",
      "------*------\n",
      "CDLINVERTEDHAMMER 0      4381\n",
      "100       5\n",
      "Name: CDLINVERTEDHAMMER, dtype: int64\n",
      "------*------\n",
      "CDLKICKING 0    4386\n",
      "Name: CDLKICKING, dtype: int64\n",
      "------*------\n",
      "CDLKICKINGBYLENGTH 0    4386\n",
      "Name: CDLKICKINGBYLENGTH, dtype: int64\n",
      "------*------\n",
      "CDLLADDERBOTTOM 0    4386\n",
      "Name: CDLLADDERBOTTOM, dtype: int64\n",
      "------*------\n",
      "CDLLONGLEGGEDDOJI 0      3608\n",
      "100     778\n",
      "Name: CDLLONGLEGGEDDOJI, dtype: int64\n",
      "------*------\n",
      "CDLLONGLINE  0      3648\n",
      " 100     459\n",
      "-100     279\n",
      "Name: CDLLONGLINE, dtype: int64\n",
      "------*------\n",
      "CDLMARUBOZU  0      4170\n",
      " 100     140\n",
      "-100      76\n",
      "Name: CDLMARUBOZU, dtype: int64\n",
      "------*------\n",
      "CDLMATCHINGLOW 0      4321\n",
      "100      65\n",
      "Name: CDLMATCHINGLOW, dtype: int64\n",
      "------*------\n",
      "CDLMATHOLD 0    4386\n",
      "Name: CDLMATHOLD, dtype: int64\n",
      "------*------\n",
      "CDLMORNINGDOJISTAR 0      4384\n",
      "100       2\n",
      "Name: CDLMORNINGDOJISTAR, dtype: int64\n",
      "------*------\n",
      "CDLMORNINGSTAR 0      4381\n",
      "100       5\n",
      "Name: CDLMORNINGSTAR, dtype: int64\n",
      "------*------\n",
      "CDLONNECK 0    4386\n",
      "Name: CDLONNECK, dtype: int64\n",
      "------*------\n",
      "CDLPIERCING 0    4386\n",
      "Name: CDLPIERCING, dtype: int64\n",
      "------*------\n",
      "CDLRICKSHAWMAN 0      3830\n",
      "100     556\n",
      "Name: CDLRICKSHAWMAN, dtype: int64\n",
      "------*------\n",
      "CDLRISEFALL3METHODS  0      4384\n",
      "-100       1\n",
      " 100       1\n",
      "Name: CDLRISEFALL3METHODS, dtype: int64\n",
      "------*------\n",
      "CDLSEPARATINGLINES  0      4321\n",
      "-100      46\n",
      " 100      19\n",
      "Name: CDLSEPARATINGLINES, dtype: int64\n",
      "------*------\n",
      "CDLSHOOTINGSTAR  0      4377\n",
      "-100       9\n",
      "Name: CDLSHOOTINGSTAR, dtype: int64\n",
      "------*------\n",
      "CDLSHORTLINE  0      3400\n",
      " 100     580\n",
      "-100     406\n",
      "Name: CDLSHORTLINE, dtype: int64\n",
      "------*------\n",
      "CDLSPINNINGTOP  0      3395\n",
      " 100     539\n",
      "-100     452\n",
      "Name: CDLSPINNINGTOP, dtype: int64\n",
      "------*------\n",
      "CDLSTALLEDPATTERN  0      4376\n",
      "-100      10\n",
      "Name: CDLSTALLEDPATTERN, dtype: int64\n",
      "------*------\n",
      "CDLSTICKSANDWICH 0    4386\n",
      "Name: CDLSTICKSANDWICH, dtype: int64\n",
      "------*------\n",
      "CDLTAKURI 0      4263\n",
      "100     123\n",
      "Name: CDLTAKURI, dtype: int64\n",
      "------*------\n",
      "CDLTASUKIGAP 0    4386\n",
      "Name: CDLTASUKIGAP, dtype: int64\n",
      "------*------\n",
      "CDLTHRUSTING 0    4386\n",
      "Name: CDLTHRUSTING, dtype: int64\n",
      "------*------\n",
      "CDLTRISTAR 0    4386\n",
      "Name: CDLTRISTAR, dtype: int64\n",
      "------*------\n",
      "CDLUNIQUE3RIVER 0    4386\n",
      "Name: CDLUNIQUE3RIVER, dtype: int64\n",
      "------*------\n",
      "CDLUPSIDEGAP2CROWS 0    4386\n",
      "Name: CDLUPSIDEGAP2CROWS, dtype: int64\n",
      "------*------\n",
      "CDLXSIDEGAP3METHODS  0      4368\n",
      " 100      11\n",
      "-100       7\n",
      "Name: CDLXSIDEGAP3METHODS, dtype: int64\n",
      "------*------\n"
     ]
    }
   ],
   "source": [
    "# Se imprime los valores correspondientes a cada patrón\n",
    "for col in df_indicator_values:\n",
    "    values = df_indicator [col].value_counts()\n",
    "    print (col, values)\n",
    "    print (\"------*------\")"
   ]
  },
  {
   "cell_type": "markdown",
   "metadata": {
    "id": "UzSyw82WeQne"
   },
   "source": [
    "Se concatena el dataframe de precios de BTC con el conjunto de patrones invocados"
   ]
  },
  {
   "cell_type": "code",
   "execution_count": 226,
   "metadata": {
    "id": "iROQ1KkPeQne"
   },
   "outputs": [],
   "source": [
    "BTC_df_patterns_ind = pd.concat ([BTC_minor_letters_2, df_indicator], axis=1) "
   ]
  },
  {
   "cell_type": "code",
   "execution_count": 227,
   "metadata": {
    "id": "oAdJuhboeQnf",
    "outputId": "7b1efc70-e277-45ac-8bd1-7a57dc48855d"
   },
   "outputs": [
    {
     "data": {
      "text/html": [
       "<div>\n",
       "<style scoped>\n",
       "    .dataframe tbody tr th:only-of-type {\n",
       "        vertical-align: middle;\n",
       "    }\n",
       "\n",
       "    .dataframe tbody tr th {\n",
       "        vertical-align: top;\n",
       "    }\n",
       "\n",
       "    .dataframe thead th {\n",
       "        text-align: right;\n",
       "    }\n",
       "</style>\n",
       "<table border=\"1\" class=\"dataframe\">\n",
       "  <thead>\n",
       "    <tr style=\"text-align: right;\">\n",
       "      <th></th>\n",
       "      <th>date</th>\n",
       "      <th>close</th>\n",
       "      <th>open</th>\n",
       "      <th>high</th>\n",
       "      <th>low</th>\n",
       "      <th>vol</th>\n",
       "      <th>Percentage_diff</th>\n",
       "      <th>target</th>\n",
       "      <th>CDL2CROWS</th>\n",
       "      <th>CDL3BLACKCROWS</th>\n",
       "      <th>CDL3INSIDE</th>\n",
       "      <th>CDL3LINESTRIKE</th>\n",
       "      <th>CDL3OUTSIDE</th>\n",
       "      <th>CDL3STARSINSOUTH</th>\n",
       "      <th>CDL3WHITESOLDIERS</th>\n",
       "      <th>CDLABANDONEDBABY</th>\n",
       "      <th>CDLADVANCEBLOCK</th>\n",
       "      <th>CDLBELTHOLD</th>\n",
       "      <th>CDLBREAKAWAY</th>\n",
       "      <th>CDLCLOSINGMARUBOZU</th>\n",
       "      <th>CDLCONCEALBABYSWALL</th>\n",
       "      <th>CDLCOUNTERATTACK</th>\n",
       "      <th>CDLDARKCLOUDCOVER</th>\n",
       "      <th>CDLDOJI</th>\n",
       "      <th>CDLDOJISTAR</th>\n",
       "      <th>CDLDRAGONFLYDOJI</th>\n",
       "      <th>CDLENGULFING</th>\n",
       "      <th>CDLEVENINGDOJISTAR</th>\n",
       "      <th>CDLEVENINGSTAR</th>\n",
       "      <th>CDLGAPSIDESIDEWHITE</th>\n",
       "      <th>CDLGRAVESTONEDOJI</th>\n",
       "      <th>CDLHAMMER</th>\n",
       "      <th>CDLHANGINGMAN</th>\n",
       "      <th>CDLHARAMI</th>\n",
       "      <th>CDLHARAMICROSS</th>\n",
       "      <th>CDLHIGHWAVE</th>\n",
       "      <th>CDLHIKKAKE</th>\n",
       "      <th>CDLHIKKAKEMOD</th>\n",
       "      <th>CDLHOMINGPIGEON</th>\n",
       "      <th>CDLIDENTICAL3CROWS</th>\n",
       "      <th>CDLINNECK</th>\n",
       "      <th>CDLINVERTEDHAMMER</th>\n",
       "      <th>CDLKICKING</th>\n",
       "      <th>CDLKICKINGBYLENGTH</th>\n",
       "      <th>CDLLADDERBOTTOM</th>\n",
       "      <th>CDLLONGLEGGEDDOJI</th>\n",
       "      <th>CDLLONGLINE</th>\n",
       "      <th>CDLMARUBOZU</th>\n",
       "      <th>CDLMATCHINGLOW</th>\n",
       "      <th>CDLMATHOLD</th>\n",
       "      <th>CDLMORNINGDOJISTAR</th>\n",
       "      <th>CDLMORNINGSTAR</th>\n",
       "      <th>CDLONNECK</th>\n",
       "      <th>CDLPIERCING</th>\n",
       "      <th>CDLRICKSHAWMAN</th>\n",
       "      <th>CDLRISEFALL3METHODS</th>\n",
       "      <th>CDLSEPARATINGLINES</th>\n",
       "      <th>CDLSHOOTINGSTAR</th>\n",
       "      <th>CDLSHORTLINE</th>\n",
       "      <th>CDLSPINNINGTOP</th>\n",
       "      <th>CDLSTALLEDPATTERN</th>\n",
       "      <th>CDLSTICKSANDWICH</th>\n",
       "      <th>CDLTAKURI</th>\n",
       "      <th>CDLTASUKIGAP</th>\n",
       "      <th>CDLTHRUSTING</th>\n",
       "      <th>CDLTRISTAR</th>\n",
       "      <th>CDLUNIQUE3RIVER</th>\n",
       "      <th>CDLUPSIDEGAP2CROWS</th>\n",
       "      <th>CDLXSIDEGAP3METHODS</th>\n",
       "    </tr>\n",
       "  </thead>\n",
       "  <tbody>\n",
       "    <tr>\n",
       "      <th>4381</th>\n",
       "      <td>2022-07-16</td>\n",
       "      <td>21209.9</td>\n",
       "      <td>20825.2</td>\n",
       "      <td>21561.3</td>\n",
       "      <td>20484.4</td>\n",
       "      <td>136890.0</td>\n",
       "      <td>1.85</td>\n",
       "      <td>1.0</td>\n",
       "      <td>0</td>\n",
       "      <td>0</td>\n",
       "      <td>0</td>\n",
       "      <td>0</td>\n",
       "      <td>0</td>\n",
       "      <td>0</td>\n",
       "      <td>0</td>\n",
       "      <td>0</td>\n",
       "      <td>0</td>\n",
       "      <td>0</td>\n",
       "      <td>0</td>\n",
       "      <td>0</td>\n",
       "      <td>0</td>\n",
       "      <td>0</td>\n",
       "      <td>0</td>\n",
       "      <td>0</td>\n",
       "      <td>0</td>\n",
       "      <td>0</td>\n",
       "      <td>0</td>\n",
       "      <td>0</td>\n",
       "      <td>0</td>\n",
       "      <td>0</td>\n",
       "      <td>0</td>\n",
       "      <td>0</td>\n",
       "      <td>0</td>\n",
       "      <td>0</td>\n",
       "      <td>0</td>\n",
       "      <td>0</td>\n",
       "      <td>0</td>\n",
       "      <td>0</td>\n",
       "      <td>0</td>\n",
       "      <td>0</td>\n",
       "      <td>0</td>\n",
       "      <td>0</td>\n",
       "      <td>0</td>\n",
       "      <td>0</td>\n",
       "      <td>0</td>\n",
       "      <td>0</td>\n",
       "      <td>0</td>\n",
       "      <td>0</td>\n",
       "      <td>0</td>\n",
       "      <td>0</td>\n",
       "      <td>0</td>\n",
       "      <td>0</td>\n",
       "      <td>0</td>\n",
       "      <td>0</td>\n",
       "      <td>0</td>\n",
       "      <td>0</td>\n",
       "      <td>0</td>\n",
       "      <td>0</td>\n",
       "      <td>0</td>\n",
       "      <td>0</td>\n",
       "      <td>0</td>\n",
       "      <td>0</td>\n",
       "      <td>0</td>\n",
       "      <td>0</td>\n",
       "      <td>0</td>\n",
       "      <td>0</td>\n",
       "      <td>0</td>\n",
       "      <td>0</td>\n",
       "      <td>0</td>\n",
       "    </tr>\n",
       "    <tr>\n",
       "      <th>4382</th>\n",
       "      <td>2022-07-17</td>\n",
       "      <td>20785.6</td>\n",
       "      <td>21209.8</td>\n",
       "      <td>21654.4</td>\n",
       "      <td>20755.2</td>\n",
       "      <td>132810.0</td>\n",
       "      <td>-2.00</td>\n",
       "      <td>0.0</td>\n",
       "      <td>0</td>\n",
       "      <td>0</td>\n",
       "      <td>0</td>\n",
       "      <td>0</td>\n",
       "      <td>0</td>\n",
       "      <td>0</td>\n",
       "      <td>0</td>\n",
       "      <td>0</td>\n",
       "      <td>0</td>\n",
       "      <td>0</td>\n",
       "      <td>0</td>\n",
       "      <td>0</td>\n",
       "      <td>0</td>\n",
       "      <td>0</td>\n",
       "      <td>0</td>\n",
       "      <td>0</td>\n",
       "      <td>0</td>\n",
       "      <td>0</td>\n",
       "      <td>0</td>\n",
       "      <td>0</td>\n",
       "      <td>0</td>\n",
       "      <td>0</td>\n",
       "      <td>0</td>\n",
       "      <td>0</td>\n",
       "      <td>0</td>\n",
       "      <td>0</td>\n",
       "      <td>0</td>\n",
       "      <td>0</td>\n",
       "      <td>0</td>\n",
       "      <td>0</td>\n",
       "      <td>0</td>\n",
       "      <td>0</td>\n",
       "      <td>0</td>\n",
       "      <td>0</td>\n",
       "      <td>0</td>\n",
       "      <td>0</td>\n",
       "      <td>0</td>\n",
       "      <td>0</td>\n",
       "      <td>0</td>\n",
       "      <td>0</td>\n",
       "      <td>0</td>\n",
       "      <td>0</td>\n",
       "      <td>0</td>\n",
       "      <td>0</td>\n",
       "      <td>0</td>\n",
       "      <td>0</td>\n",
       "      <td>0</td>\n",
       "      <td>0</td>\n",
       "      <td>0</td>\n",
       "      <td>0</td>\n",
       "      <td>0</td>\n",
       "      <td>0</td>\n",
       "      <td>0</td>\n",
       "      <td>0</td>\n",
       "      <td>0</td>\n",
       "      <td>0</td>\n",
       "      <td>0</td>\n",
       "      <td>0</td>\n",
       "      <td>0</td>\n",
       "      <td>0</td>\n",
       "      <td>100</td>\n",
       "    </tr>\n",
       "    <tr>\n",
       "      <th>4383</th>\n",
       "      <td>2022-07-18</td>\n",
       "      <td>22525.8</td>\n",
       "      <td>20785.6</td>\n",
       "      <td>22714.9</td>\n",
       "      <td>20770.6</td>\n",
       "      <td>279720.0</td>\n",
       "      <td>8.37</td>\n",
       "      <td>1.0</td>\n",
       "      <td>0</td>\n",
       "      <td>0</td>\n",
       "      <td>0</td>\n",
       "      <td>0</td>\n",
       "      <td>0</td>\n",
       "      <td>0</td>\n",
       "      <td>0</td>\n",
       "      <td>0</td>\n",
       "      <td>0</td>\n",
       "      <td>100</td>\n",
       "      <td>0</td>\n",
       "      <td>0</td>\n",
       "      <td>0</td>\n",
       "      <td>0</td>\n",
       "      <td>0</td>\n",
       "      <td>0</td>\n",
       "      <td>0</td>\n",
       "      <td>0</td>\n",
       "      <td>0</td>\n",
       "      <td>0</td>\n",
       "      <td>0</td>\n",
       "      <td>0</td>\n",
       "      <td>0</td>\n",
       "      <td>0</td>\n",
       "      <td>0</td>\n",
       "      <td>0</td>\n",
       "      <td>0</td>\n",
       "      <td>0</td>\n",
       "      <td>0</td>\n",
       "      <td>0</td>\n",
       "      <td>0</td>\n",
       "      <td>0</td>\n",
       "      <td>0</td>\n",
       "      <td>0</td>\n",
       "      <td>0</td>\n",
       "      <td>0</td>\n",
       "      <td>0</td>\n",
       "      <td>0</td>\n",
       "      <td>100</td>\n",
       "      <td>0</td>\n",
       "      <td>0</td>\n",
       "      <td>0</td>\n",
       "      <td>0</td>\n",
       "      <td>0</td>\n",
       "      <td>0</td>\n",
       "      <td>0</td>\n",
       "      <td>0</td>\n",
       "      <td>0</td>\n",
       "      <td>0</td>\n",
       "      <td>0</td>\n",
       "      <td>0</td>\n",
       "      <td>0</td>\n",
       "      <td>0</td>\n",
       "      <td>0</td>\n",
       "      <td>0</td>\n",
       "      <td>0</td>\n",
       "      <td>0</td>\n",
       "      <td>0</td>\n",
       "      <td>0</td>\n",
       "      <td>0</td>\n",
       "      <td>0</td>\n",
       "    </tr>\n",
       "    <tr>\n",
       "      <th>4384</th>\n",
       "      <td>2022-07-19</td>\n",
       "      <td>23410.2</td>\n",
       "      <td>22529.3</td>\n",
       "      <td>23757.3</td>\n",
       "      <td>21581.8</td>\n",
       "      <td>308910.0</td>\n",
       "      <td>3.93</td>\n",
       "      <td>1.0</td>\n",
       "      <td>0</td>\n",
       "      <td>0</td>\n",
       "      <td>0</td>\n",
       "      <td>0</td>\n",
       "      <td>0</td>\n",
       "      <td>0</td>\n",
       "      <td>0</td>\n",
       "      <td>0</td>\n",
       "      <td>0</td>\n",
       "      <td>0</td>\n",
       "      <td>0</td>\n",
       "      <td>0</td>\n",
       "      <td>0</td>\n",
       "      <td>0</td>\n",
       "      <td>0</td>\n",
       "      <td>0</td>\n",
       "      <td>0</td>\n",
       "      <td>0</td>\n",
       "      <td>0</td>\n",
       "      <td>0</td>\n",
       "      <td>0</td>\n",
       "      <td>0</td>\n",
       "      <td>0</td>\n",
       "      <td>0</td>\n",
       "      <td>0</td>\n",
       "      <td>0</td>\n",
       "      <td>0</td>\n",
       "      <td>0</td>\n",
       "      <td>0</td>\n",
       "      <td>0</td>\n",
       "      <td>0</td>\n",
       "      <td>0</td>\n",
       "      <td>0</td>\n",
       "      <td>0</td>\n",
       "      <td>0</td>\n",
       "      <td>0</td>\n",
       "      <td>0</td>\n",
       "      <td>0</td>\n",
       "      <td>0</td>\n",
       "      <td>0</td>\n",
       "      <td>0</td>\n",
       "      <td>0</td>\n",
       "      <td>0</td>\n",
       "      <td>0</td>\n",
       "      <td>0</td>\n",
       "      <td>0</td>\n",
       "      <td>0</td>\n",
       "      <td>0</td>\n",
       "      <td>0</td>\n",
       "      <td>0</td>\n",
       "      <td>0</td>\n",
       "      <td>0</td>\n",
       "      <td>0</td>\n",
       "      <td>0</td>\n",
       "      <td>0</td>\n",
       "      <td>0</td>\n",
       "      <td>0</td>\n",
       "      <td>0</td>\n",
       "      <td>0</td>\n",
       "      <td>0</td>\n",
       "      <td>0</td>\n",
       "    </tr>\n",
       "    <tr>\n",
       "      <th>4385</th>\n",
       "      <td>2022-07-20</td>\n",
       "      <td>23149.1</td>\n",
       "      <td>23412.0</td>\n",
       "      <td>23429.9</td>\n",
       "      <td>22965.9</td>\n",
       "      <td>290210.0</td>\n",
       "      <td>-1.12</td>\n",
       "      <td>0.0</td>\n",
       "      <td>0</td>\n",
       "      <td>0</td>\n",
       "      <td>0</td>\n",
       "      <td>0</td>\n",
       "      <td>0</td>\n",
       "      <td>0</td>\n",
       "      <td>0</td>\n",
       "      <td>0</td>\n",
       "      <td>0</td>\n",
       "      <td>0</td>\n",
       "      <td>0</td>\n",
       "      <td>0</td>\n",
       "      <td>0</td>\n",
       "      <td>0</td>\n",
       "      <td>0</td>\n",
       "      <td>0</td>\n",
       "      <td>0</td>\n",
       "      <td>0</td>\n",
       "      <td>0</td>\n",
       "      <td>0</td>\n",
       "      <td>0</td>\n",
       "      <td>0</td>\n",
       "      <td>0</td>\n",
       "      <td>0</td>\n",
       "      <td>0</td>\n",
       "      <td>0</td>\n",
       "      <td>0</td>\n",
       "      <td>0</td>\n",
       "      <td>0</td>\n",
       "      <td>0</td>\n",
       "      <td>0</td>\n",
       "      <td>0</td>\n",
       "      <td>0</td>\n",
       "      <td>0</td>\n",
       "      <td>0</td>\n",
       "      <td>0</td>\n",
       "      <td>0</td>\n",
       "      <td>0</td>\n",
       "      <td>0</td>\n",
       "      <td>0</td>\n",
       "      <td>0</td>\n",
       "      <td>0</td>\n",
       "      <td>0</td>\n",
       "      <td>0</td>\n",
       "      <td>0</td>\n",
       "      <td>0</td>\n",
       "      <td>0</td>\n",
       "      <td>0</td>\n",
       "      <td>0</td>\n",
       "      <td>0</td>\n",
       "      <td>-100</td>\n",
       "      <td>0</td>\n",
       "      <td>0</td>\n",
       "      <td>0</td>\n",
       "      <td>0</td>\n",
       "      <td>0</td>\n",
       "      <td>0</td>\n",
       "      <td>0</td>\n",
       "      <td>0</td>\n",
       "      <td>0</td>\n",
       "      <td>0</td>\n",
       "    </tr>\n",
       "  </tbody>\n",
       "</table>\n",
       "</div>"
      ],
      "text/plain": [
       "            date    close     open     high      low       vol  \\\n",
       "4381  2022-07-16  21209.9  20825.2  21561.3  20484.4  136890.0   \n",
       "4382  2022-07-17  20785.6  21209.8  21654.4  20755.2  132810.0   \n",
       "4383  2022-07-18  22525.8  20785.6  22714.9  20770.6  279720.0   \n",
       "4384  2022-07-19  23410.2  22529.3  23757.3  21581.8  308910.0   \n",
       "4385  2022-07-20  23149.1  23412.0  23429.9  22965.9  290210.0   \n",
       "\n",
       "      Percentage_diff  target  CDL2CROWS  CDL3BLACKCROWS  CDL3INSIDE  \\\n",
       "4381             1.85     1.0          0               0           0   \n",
       "4382            -2.00     0.0          0               0           0   \n",
       "4383             8.37     1.0          0               0           0   \n",
       "4384             3.93     1.0          0               0           0   \n",
       "4385            -1.12     0.0          0               0           0   \n",
       "\n",
       "      CDL3LINESTRIKE  CDL3OUTSIDE  CDL3STARSINSOUTH  CDL3WHITESOLDIERS  \\\n",
       "4381               0            0                 0                  0   \n",
       "4382               0            0                 0                  0   \n",
       "4383               0            0                 0                  0   \n",
       "4384               0            0                 0                  0   \n",
       "4385               0            0                 0                  0   \n",
       "\n",
       "      CDLABANDONEDBABY  CDLADVANCEBLOCK  CDLBELTHOLD  CDLBREAKAWAY  \\\n",
       "4381                 0                0            0             0   \n",
       "4382                 0                0            0             0   \n",
       "4383                 0                0          100             0   \n",
       "4384                 0                0            0             0   \n",
       "4385                 0                0            0             0   \n",
       "\n",
       "      CDLCLOSINGMARUBOZU  CDLCONCEALBABYSWALL  CDLCOUNTERATTACK  \\\n",
       "4381                   0                    0                 0   \n",
       "4382                   0                    0                 0   \n",
       "4383                   0                    0                 0   \n",
       "4384                   0                    0                 0   \n",
       "4385                   0                    0                 0   \n",
       "\n",
       "      CDLDARKCLOUDCOVER  CDLDOJI  CDLDOJISTAR  CDLDRAGONFLYDOJI  CDLENGULFING  \\\n",
       "4381                  0        0            0                 0             0   \n",
       "4382                  0        0            0                 0             0   \n",
       "4383                  0        0            0                 0             0   \n",
       "4384                  0        0            0                 0             0   \n",
       "4385                  0        0            0                 0             0   \n",
       "\n",
       "      CDLEVENINGDOJISTAR  CDLEVENINGSTAR  CDLGAPSIDESIDEWHITE  \\\n",
       "4381                   0               0                    0   \n",
       "4382                   0               0                    0   \n",
       "4383                   0               0                    0   \n",
       "4384                   0               0                    0   \n",
       "4385                   0               0                    0   \n",
       "\n",
       "      CDLGRAVESTONEDOJI  CDLHAMMER  CDLHANGINGMAN  CDLHARAMI  CDLHARAMICROSS  \\\n",
       "4381                  0          0              0          0               0   \n",
       "4382                  0          0              0          0               0   \n",
       "4383                  0          0              0          0               0   \n",
       "4384                  0          0              0          0               0   \n",
       "4385                  0          0              0          0               0   \n",
       "\n",
       "      CDLHIGHWAVE  CDLHIKKAKE  CDLHIKKAKEMOD  CDLHOMINGPIGEON  \\\n",
       "4381            0           0              0                0   \n",
       "4382            0           0              0                0   \n",
       "4383            0           0              0                0   \n",
       "4384            0           0              0                0   \n",
       "4385            0           0              0                0   \n",
       "\n",
       "      CDLIDENTICAL3CROWS  CDLINNECK  CDLINVERTEDHAMMER  CDLKICKING  \\\n",
       "4381                   0          0                  0           0   \n",
       "4382                   0          0                  0           0   \n",
       "4383                   0          0                  0           0   \n",
       "4384                   0          0                  0           0   \n",
       "4385                   0          0                  0           0   \n",
       "\n",
       "      CDLKICKINGBYLENGTH  CDLLADDERBOTTOM  CDLLONGLEGGEDDOJI  CDLLONGLINE  \\\n",
       "4381                   0                0                  0            0   \n",
       "4382                   0                0                  0            0   \n",
       "4383                   0                0                  0          100   \n",
       "4384                   0                0                  0            0   \n",
       "4385                   0                0                  0            0   \n",
       "\n",
       "      CDLMARUBOZU  CDLMATCHINGLOW  CDLMATHOLD  CDLMORNINGDOJISTAR  \\\n",
       "4381            0               0           0                   0   \n",
       "4382            0               0           0                   0   \n",
       "4383            0               0           0                   0   \n",
       "4384            0               0           0                   0   \n",
       "4385            0               0           0                   0   \n",
       "\n",
       "      CDLMORNINGSTAR  CDLONNECK  CDLPIERCING  CDLRICKSHAWMAN  \\\n",
       "4381               0          0            0               0   \n",
       "4382               0          0            0               0   \n",
       "4383               0          0            0               0   \n",
       "4384               0          0            0               0   \n",
       "4385               0          0            0               0   \n",
       "\n",
       "      CDLRISEFALL3METHODS  CDLSEPARATINGLINES  CDLSHOOTINGSTAR  CDLSHORTLINE  \\\n",
       "4381                    0                   0                0             0   \n",
       "4382                    0                   0                0             0   \n",
       "4383                    0                   0                0             0   \n",
       "4384                    0                   0                0             0   \n",
       "4385                    0                   0                0          -100   \n",
       "\n",
       "      CDLSPINNINGTOP  CDLSTALLEDPATTERN  CDLSTICKSANDWICH  CDLTAKURI  \\\n",
       "4381               0                  0                 0          0   \n",
       "4382               0                  0                 0          0   \n",
       "4383               0                  0                 0          0   \n",
       "4384               0                  0                 0          0   \n",
       "4385               0                  0                 0          0   \n",
       "\n",
       "      CDLTASUKIGAP  CDLTHRUSTING  CDLTRISTAR  CDLUNIQUE3RIVER  \\\n",
       "4381             0             0           0                0   \n",
       "4382             0             0           0                0   \n",
       "4383             0             0           0                0   \n",
       "4384             0             0           0                0   \n",
       "4385             0             0           0                0   \n",
       "\n",
       "      CDLUPSIDEGAP2CROWS  CDLXSIDEGAP3METHODS  \n",
       "4381                   0                    0  \n",
       "4382                   0                  100  \n",
       "4383                   0                    0  \n",
       "4384                   0                    0  \n",
       "4385                   0                    0  "
      ]
     },
     "execution_count": 227,
     "metadata": {},
     "output_type": "execute_result"
    }
   ],
   "source": [
    "BTC_df_patterns_ind.tail()"
   ]
  },
  {
   "cell_type": "code",
   "execution_count": 228,
   "metadata": {
    "id": "BNqbFGJLeQnf"
   },
   "outputs": [],
   "source": [
    "BTC_df_patterns_ind.to_csv (r\"D:\\Luciano\\Programación\\Data science\\Trabajo final\\Bases de datos para modelos\\BTC_patterns_indicator.csv\", index=False, sep=\";\")"
   ]
  },
  {
   "cell_type": "markdown",
   "metadata": {},
   "source": [
    "# Bases de datos resultantes (diccionario de archivos .csv)\n",
    "\n",
    "**BTC tendencia (sin estrategia de trading) = BTC_ind_trend.csv**\n",
    "\n",
    "- **Date**: fecha en YYYY-MM-DD (object)\n",
    "- **Price**: precio de cierre de BTC en el día de la fecha (USD) (float) (Variable numérica continua)\n",
    "- **Open**: precio de apertura de BTC en el día de la fecha (USD) (float) (Variable numérica continua)\n",
    "- **High**: precio más alto de BTC en el día de la fecha (USD) (float) (Variable numérica continua)\n",
    "- **Low**: precio más bajo de BTC en el día de la fecha (USD) (float) (Variable numérica continua)\n",
    "- **Vol.**: volumen de BTC (Número de intercambios) en el día de la fecha (float) (Variable numérica continua)\n",
    "- **Percentage_diff**: diferencia porcentual del precio de BTC en la fecha [x+1] con respecto a la fecha [x] (float) (Variable numérica continua) \n",
    "- **Target**: 1 indica que en el día de la fecha el precio de BTC subió, y 0 que el precio bajó (float) (Se la tratará como variable categórica)\n",
    "\n",
    "\n",
    "- **SMA_7d, SMA_15d, SMA_30d, SMA_50d, SMA_100d, SMA_200d**: media móvil simple (diferentes períodos) (USD) (float) (Variable numérica continua)\n",
    "- **EMA_7d, EMA_15d, EMA_30d, EMA_50d, EMA_100d, EMA_200d**: media móvil exponencial (diferentes períodos) (USD) (float) (Variable numérica continua)\n",
    "- **HT_TRENDLINE**: indicador de Hilbert Transform - Instantaneous Trendline (USD) (float) (Variable numérica continua)\n",
    "- **BBANDS_upper_band**: banda superior del indicador Bandas de Bollinger (USD) (float) (Variable numérica continua)\n",
    "- **BBANDS_middle_band**: banda media del indicador Bandas de Bollinger (USD) (float) (Variable numérica continua)\n",
    "- **BBANDS_lower_band**: banda inferior del indicador Bandas de Bollinger (USD) (float) (Variable numérica continua)\n",
    "- **PSAR**: indicador Parabolic SAR (USD) (float) (Variable numérica continua)\n",
    "\n",
    "**BTC tendencia (con estrategia de trading) = BTC_ind_trend_ET.csv**\n",
    "\n",
    "- **Date**: fecha en YYYY-MM-DD (object)\n",
    "- **Price**: precio de cierre de BTC en el día de la fecha (USD) (float) (Variable numérica continua)\n",
    "- **Open**: precio de apertura de BTC en el día de la fecha (USD) (float) (Variable numérica continua)\n",
    "- **High**: precio más alto de BTC en el día de la fecha (USD) (float) (Variable numérica continua)\n",
    "- **Low**: precio más bajo de BTC en el día de la fecha (USD) (float) (Variable numérica continua)\n",
    "- **Vol.**: volumen de BTC (Número de intercambios) en el día de la fecha (float) (Variable numérica continua)\n",
    "- **Percentage_diff**: diferencia porcentual del precio de BTC en la fecha [x+1] con respecto a la fecha [x] (float) (Variable numérica continua) \n",
    "- **Target**: 1 indica que en el día de la fecha el precio de BTC subió, y 0 que el precio bajó (float) (Se la tratará como variable categórica)\n",
    "\n",
    "\n",
    "- **SMA_7d, SMA_15d, SMA_30d, SMA_50d, SMA_100d, SMA_200d**: media móvil simple (diferentes períodos) (USD) (float) (Variable numérica continua)\n",
    "- **EMA_7d, EMA_15d, EMA_30d, EMA_50d, EMA_100d, EMA_200d**: media móvil exponencial (diferentes períodos) (USD) (float) (Variable numérica continua)\n",
    "- **HT_TRENDLINE**: indicador de Hilbert Transform - Instantaneous Trendline (USD) (float) (Variable numérica continua)\n",
    "- **BBANDS_upper_band**: banda superior del indicador Bandas de Bollinger (USD) (float) (Variable numérica continua)\n",
    "- **BBANDS_middle_band**: banda media del indicador Bandas de Bollinger (USD) (float) (Variable numérica continua)\n",
    "- **BBANDS_lower_band**: banda inferior del indicador Bandas de Bollinger (USD) (float) (Variable numérica continua)\n",
    "- **PSAR**: indicador Parabolic SAR (USD) (float) (Variable numérica continua)\n",
    "\n",
    "Estrategia de trading = cuando el valor de la media queda por debajo del precio se compra (porque hay tendencia a subir) y cuando queda por debajo se vende (porque hay tendencia a bajar).\n",
    "- **SMA_7d_ET, SMA_15d_ET, SMA_30d_ET, SMA_50d_ET, SMA_100d_ET, SMA_200d_ET**: valores categóricos de la aplicación de la estrategia de trading SMA (comprar, vender, mantener posición) (str) (Variable categórica)\n",
    "- **EMA_7d_ET, EMA_15d_ET, EMA_30d_ET, EMA_50d_ET, EMA_100d_ET, EMA_200d_ET**: valores categóricos de la aplicación de la estrategia de trading EMA (comprar, vender, mantener posición) (str) (Variable categórica)\n",
    "- **HT_TRENDLINE_ET**: valores categóricos de la aplicación de la estrategia de trading HT Trendline (comprar, vender, mantener posición) (str) (Variable categórica)\n",
    "- **PSAR_ET**: valores categóricos de la aplicación de la estrategia de trading PSAR (comprar, vender, mantener posición) (str) (Variable categórica)\n",
    "\n",
    "**BTC indicadores de momentum (sin estrategias de trading) = BTC_ind_mom.csv**\n",
    "\n",
    "- **Date**: fecha en YYYY-MM-DD (object)\n",
    "- **Price**: precio de cierre de BTC en el día de la fecha (USD) (float) (Variable numérica continua)\n",
    "- **Open**: precio de apertura de BTC en el día de la fecha (USD) (float) (Variable numérica continua)\n",
    "- **High**: precio más alto de BTC en el día de la fecha (USD) (float) (Variable numérica continua)\n",
    "- **Low**: precio más bajo de BTC en el día de la fecha (USD) (float) (Variable numérica continua)\n",
    "- **Vol.**: volumen de BTC (Número de intercambios) en el día de la fecha (float) (Variable numérica continua)\n",
    "- **Percentage_diff**: diferencia porcentual del precio de BTC en la fecha [x+1] con respecto a la fecha [x] (float) (Variable numérica continua) \n",
    "- **Target**: 1 indica que en el día de la fecha el precio de BTC subió, y 0 que el precio bajó (float) (Se la tratará como variable categórica)\n",
    "\n",
    "\n",
    "- **ADX**: valores del índice de movimiento direccional medio (float) (Variable numérica continua)\n",
    "- **ADX_MDI**: valores del Corriente Menos Movimiento Direccional (MDI) (float) (Variable numérica continua)\n",
    "- **ADX_MDM**: valores del Mínimo Actual Menos el Mínimo Anterior (-DM) (float) (Variable numérica continua)\n",
    "- **ADX_DX**: valores del índice de movimiento direccional (DX) (float) (Variable numérica continua)\n",
    "- **ADX_PDI**: valores del Corriente Plus Movimiento Direccional (PDM) (float) (Variable numérica continua)\n",
    "- **ADX_PDM**: valores del Máximo Actual Menos el Máximo Anterior (+DM) (float) (Variable numérica continua)\n",
    "- **Aroondown**: valores del número de períodos desde los últimos 25 períodos máximos (float) (Variable numérica continua)\n",
    "- **Aroonup**: valores del número de períodos desde los últimos 25 períodos máximos (float) (Variable numérica continua)\n",
    "- **Aroon_Oscillator**: valores del Oscilador Aroon (float) (Variable numérica continua)\n",
    "- **MACD**: valores del MACD (float) (Variable numérica continua)\n",
    "- **MACDSIGNAL**: valores de la señal de MACD (float) (Variable numérica continua)\n",
    "- **MACDHIST**: valores del histograma del MACD (float) (Variable numérica continua)\n",
    "- **MOM**: valores del indicador Momentum (float) (Variable numérica continua)\n",
    "- **ROC**: valores de la tasa de cambio de una variable durante un período específico de tiempo (float) (Variable numérica continua)\n",
    "- **RSI**: valores del índice de fuerza relativa (float) (Variable numérica continua)\n",
    "- **STOCHRSI_fastk**: valores de la aplicación del método estocástico al indicador RSI (con variable d) (más lento) (float) (Variable numérica continua)\n",
    "- **STOCHRSI_fastd**: valores de la aplicación del método estocástico al indicador RSI (con variable k) (más rápido) (float) (Variable numérica continua)\n",
    "- **ULTOSC**: valores del indicador Ultimate Oscillator (float) (Variable numérica continua)\n",
    "- **WILLR**: valores del indicador Williams %R (float) (Variable numérica continua)\n",
    "\n",
    "**BTC indicadores de momentum (con estrategias de trading) = BTC_ind_mom_ET.csv**\n",
    "\n",
    "- **Date**: fecha en YYYY-MM-DD (object)\n",
    "- **Price**: precio de cierre de BTC en el día de la fecha (USD) (float) (Variable numérica continua)\n",
    "- **Open**: precio de apertura de BTC en el día de la fecha (USD) (float) (Variable numérica continua)\n",
    "- **High**: precio más alto de BTC en el día de la fecha (USD) (float) (Variable numérica continua)\n",
    "- **Low**: precio más bajo de BTC en el día de la fecha (USD) (float) (Variable numérica continua)\n",
    "- **Vol.**: volumen de BTC (Número de intercambios) en el día de la fecha (float) (Variable numérica continua)\n",
    "- **Percentage_diff**: diferencia porcentual del precio de BTC en la fecha [x+1] con respecto a la fecha [x] (float) (Variable numérica continua) \n",
    "- **Target**: 1 indica que en el día de la fecha el precio de BTC subió, y 0 que el precio bajó (float) (Se la tratará como variable categórica)\n",
    "\n",
    "\n",
    "- **ADX**: valores del índice de movimiento direccional medio (float) (Variable numérica continua)\n",
    "- **ADX_MDI**: valores del Corriente Menos Movimiento Direccional (MDI) (float) (Variable numérica continua)\n",
    "- **ADX_MDM**: valores del Mínimo Actual Menos el Mínimo Anterior (-DM) (float) (Variable numérica continua)\n",
    "- **ADX_DX**: valores del índice de movimiento direccional (DX) (float) (Variable numérica continua)\n",
    "- **ADX_PDI**: valores del Corriente Plus Movimiento Direccional (PDM) (float) (Variable numérica continua)\n",
    "- **ADX_PDM**: valores del Máximo Actual Menos el Máximo Anterior (+DM) (float) (Variable numérica continua)\n",
    "- **Aroondown**: valores del número de períodos desde los últimos 25 períodos máximos (float) (Variable numérica continua)\n",
    "- **Aroonup**: valores del número de períodos desde los últimos 25 períodos máximos (float) (Variable numérica continua)\n",
    "- **Aroon_Oscillator**: valores del Oscilador Aroon (float) (Variable numérica continua)\n",
    "- **MACD**: valores del MACD (float) (Variable numérica continua)\n",
    "- **MACDSIGNAL**: valores de la señal de MACD (float) (Variable numérica continua)\n",
    "- **MACDHIST**: valores del histograma del MACD (float) (Variable numérica continua)\n",
    "- **MOM**: valores del indicador Momentum (float) (Variable numérica continua)\n",
    "- **ROC**: valores de la tasa de cambio de una variable durante un período específico de tiempo (float) (Variable numérica continua)\n",
    "- **RSI**: valores del índice de fuerza relativa (float) (Variable numérica continua)\n",
    "- **STOCHRSI_fastk**: valores de la aplicación del método estocástico al indicador RSI (con variable d) (más lento) (float) (Variable numérica continua)\n",
    "- **STOCHRSI_fastd**: valores de la aplicación del método estocástico al indicador RSI (con variable k) (más rápido) (float) (Variable numérica continua)\n",
    "- **ULTOSC**: valores del indicador Ultimate Oscillator (float) (Variable numérica continua)\n",
    "- **WILLR**: valores del indicador Williams %R (float) (Variable numérica continua)\n",
    "\n",
    "Las estrategias son explicadas oportunamente al momento de calcularse (varían los rangos de compra y venta según indicador).\n",
    "- **ADX_ET**: valores categóricos de la aplicación de la estrategia ADX (comprar, vender, mantener posición) (str)\n",
    "- **ADXR_ET**: valores categóricos de la aplicación de la estrategia ADXR (comprar, vender, mantener posición) (str)\n",
    "- **MACD_ET**: valores categóricos de la aplicación de la estrategia MACD (comprar, vender, mantener posición) (str)\n",
    "- **ROC_ET**: valores categóricos de la aplicación de la estrategia ROC (comprar, vender, mantener posición) (str)\n",
    "- **STOCHRSI_fastk_ET**: valores categóricos de la aplicación de la estrategia STOCHRSI_fastk (comprar, vender, mantener posición) (str)\n",
    "- **STOCHRSI_fastd_ET**: valores categóricos de la aplicación de la estrategia STOCHRSI_fastd (comprar, vender, mantener posición) (str)\n",
    "\n",
    "**BTC indicadores de volumen (sin estrategias de trading) = BTC_ind_vol.csv**\n",
    "\n",
    "- **Date**: fecha en YYYY-MM-DD (object)\n",
    "- **Price**: precio de cierre de BTC en el día de la fecha (USD) (float) (Variable numérica continua)\n",
    "- **Open**: precio de apertura de BTC en el día de la fecha (USD) (float) (Variable numérica continua)\n",
    "- **High**: precio más alto de BTC en el día de la fecha (USD) (float) (Variable numérica continua)\n",
    "- **Low**: precio más bajo de BTC en el día de la fecha (USD) (float) (Variable numérica continua)\n",
    "- **Vol.**: volumen de BTC (Número de intercambios) en el día de la fecha (float) (Variable numérica continua)\n",
    "- **Percentage_diff**: diferencia porcentual del precio de BTC en la fecha [x+1] con respecto a la fecha [x] (float) (Variable numérica continua) \n",
    "- **Target**: 1 indica que en el día de la fecha el precio de BTC subió, y 0 que el precio bajó (float) (Se la tratará como variable categórica)\n",
    "\n",
    "\n",
    "- **ADOSC**: indica la fuerza de los movimientos de precios y la presión subyacente de compra y venta (float) (Variable numérica continua)\n",
    "\n",
    "**BTC Indicadores de ciclo = BTC_ind_cycle_indicators.csv**\n",
    "\n",
    "- **Date**: fecha en YYYY-MM-DD (object)\n",
    "- **Price**: precio de cierre de BTC en el día de la fecha (USD) (float) (Variable numérica continua)\n",
    "- **Open**: precio de apertura de BTC en el día de la fecha (USD) (float) (Variable numérica continua)\n",
    "- **High**: precio más alto de BTC en el día de la fecha (USD) (float) (Variable numérica continua)\n",
    "- **Low**: precio más bajo de BTC en el día de la fecha (USD) (float) (Variable numérica continua)\n",
    "- **Vol.**: volumen de BTC (Número de intercambios) en el día de la fecha (float) (Variable numérica continua)\n",
    "- **Percentage_diff**: diferencia porcentual del precio de BTC en la fecha [x+1] con respecto a la fecha [x] (float) (Variable numérica continua) \n",
    "- **Target**: 1 indica que en el día de la fecha el precio de BTC subió, y 0 que el precio bajó (float) (Se la tratará como variable categórica)\n",
    "\n",
    "\n",
    "- **HT_DCPERIOD**: Hilbert Transform Dominant Cycle Period (período de tiempo del ciclo dominante actual en la serie de Datos, en barras; rango válido = 10..60 barras, retraso = ~10 barras) (float) (Variable numérica continua).\n",
    "- **HT_DCPHASE**: Hilbert Transform - Dominant Cycle Phase (fase del ciclo dominante en una barra específica entre 0 a 360 grados dentro del período de transformada de Hilbert actual medido instantáneamente en esa barra) (grados) (float) (Variable numérica continua)\n",
    "- **HT_PHASOR_inphase**: el elemento inphase de la amplitud de la sinusoide modulada (float) (Variable numérica continua)\n",
    "- **HT_PHASOR_quadrature**: el elemento quadrature de la amplitud de la sinusoide modulada (float) (Variable numérica continua)\n",
    "- **HT_SINE_sine**: Hilbert Transform - SineWave (-1 a 1) (float) (Variable numérica continua)\n",
    "- **HT_PHASOR_leadsine**: Hilbert Transform seno del lead (-1 a 1) (float) (Variable numérica continua)\n",
    "- **HT_SINE_integer**: Hilbert Transform trend indicator (retorna 1 para Trend Mode, 0 para Cycle Mode) (int) (Funciona como variable categórica)\n",
    "\n",
    "**BTC Indicadores de volatilidad = BTC_ind_volat.csv**\n",
    "\n",
    "- **Date**: fecha en YYYY-MM-DD (object)\n",
    "- **Price**: precio de cierre de BTC en el día de la fecha (USD) (float) (Variable numérica continua)\n",
    "- **Open**: precio de apertura de BTC en el día de la fecha (USD) (float) (Variable numérica continua)\n",
    "- **High**: precio más alto de BTC en el día de la fecha (USD) (float) (Variable numérica continua)\n",
    "- **Low**: precio más bajo de BTC en el día de la fecha (USD) (float) (Variable numérica continua)\n",
    "- **Vol.**: volumen de BTC (Número de intercambios) en el día de la fecha (float) (Variable numérica continua)\n",
    "- **Percentage_diff**: diferencia porcentual del precio de BTC en la fecha [x+1] con respecto a la fecha [x] (float) (Variable numérica continua) \n",
    "- **Target**: 1 indica que en el día de la fecha el precio de BTC subió, y 0 que el precio bajó (float) (Se la tratará como variable categórica)\n",
    "\n",
    "\n",
    "- **ATR**: valores del indicador Average True Range (Promedio de Rango Verdadero) (float) (Variable numérica continua)\n",
    "\n",
    "**BTC funciones estadísticas = BTC_statistic_functions.csv**\n",
    "\n",
    "- **Date**: fecha en YYYY-MM-DD (object)\n",
    "- **Price**: precio de cierre de BTC en el día de la fecha (USD) (float) (Variable numérica continua)\n",
    "- **Open**: precio de apertura de BTC en el día de la fecha (USD) (float) (Variable numérica continua)\n",
    "- **High**: precio más alto de BTC en el día de la fecha (USD) (float) (Variable numérica continua)\n",
    "- **Low**: precio más bajo de BTC en el día de la fecha (USD) (float) (Variable numérica continua)\n",
    "- **Vol.**: volumen de BTC (Número de intercambios) en el día de la fecha (float) (Variable numérica continua)\n",
    "- **Percentage_diff**: diferencia porcentual del precio de BTC en la fecha [x+1] con respecto a la fecha [x] (float) (Variable numérica continua) \n",
    "- **Target**: 1 indica que en el día de la fecha el precio de BTC subió, y 0 que el precio bajó (float) (Se la tratará como variable categórica)\n",
    "\n",
    "\n",
    "- **Beta**: valores beta de correlación (-1 a 1) (float) (Variable numérica continua)\n",
    "- **Pearson**: valores de correlación de Pearson (-1 a 1) (float) (Variable numérica continua)\n",
    "- **Linearregression**: precio estimado por regresión lineal (USD) (float) (Variable numérica continua)\n",
    "- **Linearangle**: ángulo de la mejor línea de regressión (ángulos) (float) (Variable numérica continua)\n",
    "- **Linearintercept**: intercepción de la regresión lineal (USD) (float) (Variable numérica continua)\n",
    "- **Linearslope**: curvatura de la regresión lineal (grados) (float) (Variable numérica continua)\n",
    "- **VAR**: varianza (medida de dispersión definida como la esperanza del cuadrado de la desviación de dicha variable respecto a su media) (float) (Variable numérica continua)\n",
    "- **STDDEV**: desviación estándar (medición de la dispersión de los datos) (float) (Variable numérica continua)\n",
    "- **TSF**: Time Series Forecasting (predicción de precio) (USD) (float) (Variable numérica continua)\n",
    "\n",
    "**BTC patrones del precio = BTC_patterns_indicator.csv**\n",
    "\n",
    "- **Date**: fecha en YYYY-MM-DD (object)\n",
    "- **Price**: precio de cierre de BTC en el día de la fecha (USD) (float) (Variable numérica continua)\n",
    "- **Open**: precio de apertura de BTC en el día de la fecha (USD) (float) (Variable numérica continua)\n",
    "- **High**: precio más alto de BTC en el día de la fecha (USD) (float) (Variable numérica continua)\n",
    "- **Low**: precio más bajo de BTC en el día de la fecha (USD) (float) (Variable numérica continua)\n",
    "- **Vol.**: volumen de BTC (Número de intercambios) en el día de la fecha (float) (Variable numérica continua)\n",
    "- **Percentage_diff**: diferencia porcentual del precio de BTC en la fecha [x+1] con respecto a la fecha [x] (float) (Variable numérica continua) \n",
    "- **Target**: 1 indica que en el día de la fecha el precio de BTC subió, y 0 que el precio bajó (float) (Se la tratará como variable categórica)\n",
    "\n",
    "\n",
    "- **CDL2CROWS**: patrón 2 crows (hacia abajo/arriba) (-100, 0, 100) (int) (Funcionan como variable categórica)\n",
    "- **CDL3BLACKCROWS**: patrón 3 black crows (hacia abajo/arriba) (-100, 0, 100) (int) (Funcionan como variable categórica)\n",
    "- **CDL3INSIDE**: patrón 3 inside (hacia abajo/arriba) (-100, 0, 100) (int) (Funcionan como variable categórica)\n",
    "- **CDL3LINESTRIKE**: patrón three lines strike (hacia abajo/arriba) (-100, 0, 100) (int) (Funcionan como variable categórica)\n",
    "- **CDL3OUTSIDE**: patrón three outside (hacia abajo/arriba) (-100, 0, 100) (int) (Funcionan como variable categórica)\n",
    "- **CDL3STARSINSOUTH**: patrón 3 stars in south (hacia abajo/arriba) (-100, 0, 100) (int) (Funcionan como variable categórica)\n",
    "- **CDL3WHITESOLDIERS**: patrón 3 white soldiers (hacia abajo/arriba) (-100, 0, 100) (int) (Funcionan como variable categórica)\n",
    "- **CDLABANDONEDBABY**: patrón abandone baby (hacia abajo/arriba) (-100, 0, 100) (int) (Funcionan como variable categórica)\n",
    "- **CDLADVANCEBLOCK**: patrón advance block (hacia abajo/arriba) (-100, 0, 100) (int) (Funcionan como variable categórica)\n",
    "- **CDLBELTHOLD**: patrón belt hold (hacia abajo/arriba) (-100, 0, 100) (int) (Funcionan como variable categórica)\n",
    "- **CDLBREAKAWAY**: patrón break away (hacia abajo/arriba) (-100, 0, 100) (int) (Funcionan como variable categórica)\n",
    "- **CDLCLOSINGMARUBOZU**: patrón closing Marubozu (hacia abajo/arriba) (-100, 0, 100) (int) (Funcionan como variable categórica)\n",
    "- **CDLCONCEALBABYSWALL**: patrón conceling baby swallow (hacia abajo/arriba) (-100, 0, 100) (int) (Funcionan como variable categórica)\n",
    "- **CDLCOUNTERATTACK**: patrón counter attack (hacia abajo/arriba) (-100, 0, 100) (int) (Funcionan como variable categórica)\n",
    "- **CDLDARKCLOUDCOVER**: patrón dark cloud cover (hacia abajo/arriba) (-100, 0, 100) (int) (Funcionan como variable categórica)\n",
    "- **CDLDOJI**: patrón doji (hacia abajo/arriba) (-100, 0, 100) (int) (Funcionan como variable categórica)\n",
    "- **CDLDOJISTAR**: patrón doji star (hacia abajo/arriba) (-100, 0, 100) (int) (Funcionan como variable categórica)\n",
    "- **CDLDRAGONFLYDOJI**: patrón dragonfly doji (hacia abajo/arriba) (-100, 0, 100) (int) (Funcionan como variable categórica)\n",
    "- **CDLENGULFING**: patrón engulfing (hacia abajo/arriba) (-100, 0, 100) (int) (Funcionan como variable categórica)\n",
    "- **CDLEVENINGDOJISTAR**: patrón evening doji star (hacia abajo/arriba) (-100, 0, 100) (int) (Funcionan como variable categórica)\n",
    "- **CDLEVENINGSTAR**: patrón evening star (hacia abajo/arriba) (-100, 0, 100) (int) (Funcionan como variable categórica)\n",
    "- **CDLGAPSIDESIDEWHITE**: patrón gap side-by-side (hacia abajo/arriba) (-100, 0, 100) (int) (Funcionan como variable categórica)\n",
    "- **CDLGRAVESTONEDOJI**: patrón gravestone doji (hacia abajo/arriba) (-100, 0, 100) (int) (Funcionan como variable categórica)\n",
    "- **CDLHAMMER**: patrón hammer (hacia abajo/arriba) (0, 100) (int) (Funcionan como variable categórica)\n",
    "- **CDLHANGINGMAN**: patrón hanging man (hacia abajo/arriba) (-100, 0, 100) (int) (Funcionan como variable categórica)\n",
    "- **CDLHARAMI**: patrón harami (hacia abajo/arriba) (-100, 0, 100) (int) (Funcionan como variable categórica)\n",
    "- **CDLHARAMICROSS**: patrón harami cross (hacia abajo/arriba) (-100, 0, 100) (int) (Funcionan como variable categórica)\n",
    "- **CDLHIGHWAVE**: patrón high wave (hacia abajo/arriba) (-100, 0, 100) (int) (Funcionan como variable categórica)\n",
    "- **CDLHIKKAKE**: patrón Hikkake (hacia abajo/arriba) (-200, 0, 200) (int) (Funcionan como variable categórica)\n",
    "- **CDLHIKKAKEMOD**: patrón Hikkake moderated (hacia abajo/arriba) (-200, 0, 200) (int) (Funcionan como variable categórica)\n",
    "- **CDLHOMINGPIGEON**: patrón homing pigeon (hacia abajo/arriba) (-200, 0, 200) (int) (Funcionan como variable categórica)\n",
    "- **CDLIDENTICAL3CROWS**: patrón identical three crows (hacia abajo/arriba) (-200, 0, 200) (int) (Funcionan como variable categórica)\n",
    "- **CDLINNECK**: patrón in neck (hacia abajo/arriba) (-100, 0, 100) (int) (Funcionan como variable categórica)\n",
    "- **CDLINVERTEDHAMMER**: patrón inverted hammer (hacia abajo/arriba) (0, 100) (int) (Funcionan como variable categórica)\n",
    "- **CDLKICKING**: patrón kicking (hacia abajo/arriba) (-100, 0, 100) (int) (Funcionan como variable categórica)\n",
    "- **CDLKICKINGBYLENGTH**: patrón kicking by length (hacia abajo/arriba) (-100, 0, 100) (int) (Funcionan como variable categórica)\n",
    "- **CDLLADDERBOTTOM**: patrón ladder bottom (hacia abajo/arriba) (-100, 0, 100) (int) (Funcionan como variable categórica)\n",
    "- **CDLLONGLEGGEDDOJI**: patrón long-legged doji (hacia abajo/arriba) (-100, 0, 100) (int) (Funcionan como variable categórica)\n",
    "- **CDLLONGLINE**: patrón long line (hacia abajo/arriba) (-100, 0, 100) (int) (Funcionan como variable categórica)\n",
    "- **CDLMARUBOZU**: patrón Marubozu (hacia abajo/arriba) (-100, 0, 100) (int) (Funcionan como variable categórica)\n",
    "- **CDLMATCHINGLOW**: patrón matching lows (hacia abajo/arriba) (-100, 0, 100) (int) (Funcionan como variable categórica)\n",
    "- **CDLMATHOLD**: patrón Matt hold (hacia abajo/arriba) (-100, 0, 100) (int) (Funcionan como variable categórica)\n",
    "- **CDLMORNINGDOJISTAR**: patrón morning doji star (hacia abajo/arriba) (-100, 0, 100) (int) (Funcionan como variable categórica)\n",
    "- **CDLMORNINGSTAR**: patrón morning star (hacia abajo/arriba) (-100, 0, 100) (int) (Funcionan como variable categórica)\n",
    "- **CDLONNECK**: patrón on-neck (hacia abajo/arriba) (-100, 0, 100) (int) (Funcionan como variable categórica)\n",
    "- **CDLPIERCING**: patrón piercing (hacia abajo/arriba) (-100, 0, 100) (int) (Funcionan como variable categórica)\n",
    "- **CDLRICKSHAWMAN**: patrón Rickshaw man (hacia abajo/arriba) (-100, 0, 100) (int) (Funcionan como variable categórica)\n",
    "- **CDLRISEFALL3METHODS**: falling and rising 3 method (hacia abajo/arriba) (-100, 0, 100) (int) (Funcionan como variable categórica)\n",
    "- **CDLSEPARATINGLINES**: patrón separating lines (hacia abajo/arriba) (-100, 0, 100) (int) (Funcionan como variable categórica)\n",
    "- **CDLSHOOTINGSTAR**: patrón shooting star (hacia abajo/arriba) (-100, 0, 100) (int) (Funcionan como variable categórica)\n",
    "- **CDLSHORTLINE**: patrón shortline (hacia abajo/arriba) (-100, 0, 100) (int) (Funcionan como variable categórica)\n",
    "- **CDLSPINNINGTOP**: patrón spinning top (hacia abajo/arriba) (-100, 0, 100) (int) (Funcionan como variable categórica)\n",
    "- **CDLSTALLEDPATTERN**: patrón stalled (hacia abajo/arriba) (-100, 0, 100) (int) (Funcionan como variable categórica)\n",
    "- **CDLSTICKSANDWICH**: patrón sandwich (hacia abajo/arriba) (-100, 0, 100) (int) (Funcionan como variable categórica)\n",
    "- **CDLTAKURI**: patrón Takuri (hacia abajo/arriba) (-100, 0, 100) (int) (Funcionan como variable categórica)\n",
    "- **CDLTASUKIGAP**: patrón Tasuki gap (hacia abajo/arriba) (-100, 0, 100) (int) (Funcionan como variable categórica)\n",
    "- **CDLTHRUSTING**: patrón Thrusting lines (hacia abajo/arriba) (-100, 0, 100) (int) (Funcionan como variable categórica)\n",
    "- **CDLTRISTAR**: patrón tri-star (hacia abajo/arriba) (-100, 0, 100) (int) (Funcionan como variable categórica)\n",
    "- **CDLUNIQUE3RIVER**: patrón unique three river (hacia abajo/arriba) (-100, 0, 100) (int) (Funcionan como variable categórica)\n",
    "- **CDLUPSIDEGAP2CROWS**: patrón downside/upside two crows (hacia abajo/arriba) (-100, 0, 100) (int) (Funcionan como variable categórica)\n",
    "- **CDLXSIDEGAP3METHODS**: downside/upside three methods (hacia abajo/arriba) (-100, 0, 100) (int) (Funcionan como variable categórica)"
   ]
  }
 ],
 "metadata": {
  "colab": {
   "name": "BTC_indicadores_trading_final.ipynb",
   "provenance": []
  },
  "kernelspec": {
   "display_name": "Python 3 (ipykernel)",
   "language": "python",
   "name": "python3"
  },
  "language_info": {
   "codemirror_mode": {
    "name": "ipython",
    "version": 3
   },
   "file_extension": ".py",
   "mimetype": "text/x-python",
   "name": "python",
   "nbconvert_exporter": "python",
   "pygments_lexer": "ipython3",
   "version": "3.9.12"
  }
 },
 "nbformat": 4,
 "nbformat_minor": 1
}
