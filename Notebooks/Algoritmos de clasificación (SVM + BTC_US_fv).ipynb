{
 "cells": [
  {
   "cell_type": "markdown",
   "metadata": {},
   "source": [
    "# Fecha de entrega: 27/08/2022 (corresponde a clase 20)"
   ]
  },
  {
   "cell_type": "markdown",
   "metadata": {},
   "source": [
    "# Algoritmo de clasificación: Support Vector Machine"
   ]
  },
  {
   "cell_type": "markdown",
   "metadata": {},
   "source": [
    "# Diccionario"
   ]
  },
  {
   "cell_type": "markdown",
   "metadata": {},
   "source": [
    "**BTC_US_fv** \n",
    "\n",
    "- Date: fecha en YYYY-MM-DD (datetime64 [ns])\n",
    "- Price: precio de cierre de BTC en el día de la fecha (USD) (float) (Variable numérica continua)\n",
    "- Open: precio de apertura de BTC en el día de la fecha (USD) (float) (Variable numérica continua)\n",
    "- High: precio más alto de BTC en el día de la fecha (USD) (float) (Variable numérica continua)\n",
    "- Low: precio más bajo de BTC en el día de la fecha (USD) (float) (Variable numérica continua)\n",
    "- Vol.: volumen de BTC (Número de intercambios) en el día de la fecha (float) (Variable numérica continua)\n",
    "- Percentage_diff: diferencia porcentual del precio de BTC en la fecha [x+1] con respecto a la fecha [x] (float) (Variable numérica continua) \n",
    "- Target: 1 indica que en el día de la fecha el precio de BTC subió, y 0 que el precio bajó (float) (Se la tratará como variable categórica)\n",
    "- Percentage_diff_USD_JPY: diferencia porcentual de la relación Dolar norteamericano y Yen japonés (float) (Variable numérica continua)\n",
    "- Price_SP500: indica el valor de cierre de la bolsa de valores S%P500 (USD) (Variable numérica continua)\n",
    "- Price_NASDAQ: indica el valor de cierre de la bolsa de valores NASDAQ (USD) (float) (Variable numérica continua)\n",
    "- Price_DJ: indica el valor de cierre de la bolsa de valores Dow Jones (USD) (float) (Variable numérica continua)\n",
    "- Price_US_Bond: indica el valor del bono a 10 años de EEUU (es uno de los bonos más relevantes a nivel macro) (float) (Variable numérica continua)\n",
    "- I_Percentage_diff_ACPI: indica la diferencia porcentual interanual entre los valores del Consumer Price Index (float) (inflación) (Variable numérica continua)\n",
    "- M_Percentage_diff_MCPI: indica la diferencia porcentual mensual entre los valores del Consumer Price Index (inflación) (float) (Variable numérica continua)\n",
    "- FEDfunds: indica la tara de inflación de EEUU (float) (Variable numérica continua)\n",
    "- Trend: tendencia de la variable [Price] a lo largo de la serie de tiempo (float) (Variable numérica continua)\n",
    "- Seasonality: estacionariedad de la variable [Price] a lo largo de la serie de tiempo (float) (Variable numérica continua)\n",
    "- Residuals: residualidad de la variable [Price] a lo largo de la serie de tiempo (float) (Variable numérica continua)\n",
    "- BTC_cycle: ciclicidad de la variable [Price] a lo largo de la serie de tiempo (float) (Variable numérica continua)"
   ]
  },
  {
   "cell_type": "markdown",
   "metadata": {},
   "source": [
    "# Librerías"
   ]
  },
  {
   "cell_type": "code",
   "execution_count": 1,
   "metadata": {},
   "outputs": [
    {
     "name": "stderr",
     "output_type": "stream",
     "text": [
      "C:\\Users\\lucia\\anaconda3\\envs\\acjup\\lib\\site-packages\\statsmodels\\tsa\\base\\tsa_model.py:7: FutureWarning: pandas.Int64Index is deprecated and will be removed from pandas in a future version. Use pandas.Index with the appropriate dtype instead.\n",
      "  from pandas import (to_datetime, Int64Index, DatetimeIndex, Period,\n",
      "C:\\Users\\lucia\\anaconda3\\envs\\acjup\\lib\\site-packages\\statsmodels\\tsa\\base\\tsa_model.py:7: FutureWarning: pandas.Float64Index is deprecated and will be removed from pandas in a future version. Use pandas.Index with the appropriate dtype instead.\n",
      "  from pandas import (to_datetime, Int64Index, DatetimeIndex, Period,\n"
     ]
    }
   ],
   "source": [
    "import numpy as np\n",
    "import pandas as pd\n",
    "from matplotlib import pyplot as plt\n",
    "import plotly.express as px\n",
    "import seaborn as sns\n",
    "import pandas_profiling\n",
    "import statsmodels.api as sm\n",
    "from pandas.plotting import lag_plot\n",
    "from statsmodels.graphics.tsaplots import plot_acf\n",
    "from matplotlib.cm import ScalarMappable\n",
    "\n",
    "from sklearn.svm import SVC\n",
    "from sklearn.model_selection import train_test_split\n",
    "from sklearn.preprocessing import MinMaxScaler\n",
    "from sklearn.preprocessing import StandardScaler\n",
    "from sklearn.metrics import accuracy_score\n",
    "from sklearn.model_selection import GridSearchCV\n",
    "from sklearn.model_selection import GridSearchCV\n",
    "from sklearn.decomposition import PCA\n",
    "\n",
    "import warnings\n",
    "warnings.filterwarnings('ignore')\n",
    "\n",
    "%matplotlib inline\n",
    "sns.set_style('darkgrid')\n",
    "\n",
    "pd.set_option('display.max_rows', None)\n",
    "pd.set_option('display.max_columns', None)\n",
    "pd.set_option('display.width', None)\n",
    "pd.set_option('display.max_colwidth', None)"
   ]
  },
  {
   "cell_type": "markdown",
   "metadata": {},
   "source": [
    "# Data acquisition"
   ]
  },
  {
   "cell_type": "code",
   "execution_count": 2,
   "metadata": {},
   "outputs": [],
   "source": [
    "def gdriveColabPath(sharing_url):\n",
    "  file_id=sharing_url.split('/')[-2]\n",
    "  dwn_url='https://drive.google.com/uc?id=' + file_id\n",
    "  return dwn_url"
   ]
  },
  {
   "cell_type": "markdown",
   "metadata": {},
   "source": [
    "## Adquiriendo BTC_US_fv"
   ]
  },
  {
   "cell_type": "code",
   "execution_count": 3,
   "metadata": {},
   "outputs": [],
   "source": [
    "# Se carga la base de datos de BTC_US_fv desde la carpeta compartida en el Google Drive\n",
    "sharing_url = \"https://drive.google.com/file/d/1khOq6X7TVPah5Gh-HHCyEt382MLPINvS/view?usp=sharing\""
   ]
  },
  {
   "cell_type": "code",
   "execution_count": 4,
   "metadata": {},
   "outputs": [
    {
     "data": {
      "text/html": [
       "<div>\n",
       "<style scoped>\n",
       "    .dataframe tbody tr th:only-of-type {\n",
       "        vertical-align: middle;\n",
       "    }\n",
       "\n",
       "    .dataframe tbody tr th {\n",
       "        vertical-align: top;\n",
       "    }\n",
       "\n",
       "    .dataframe thead th {\n",
       "        text-align: right;\n",
       "    }\n",
       "</style>\n",
       "<table border=\"1\" class=\"dataframe\">\n",
       "  <thead>\n",
       "    <tr style=\"text-align: right;\">\n",
       "      <th></th>\n",
       "      <th>Date</th>\n",
       "      <th>Price</th>\n",
       "      <th>Open</th>\n",
       "      <th>High</th>\n",
       "      <th>Low</th>\n",
       "      <th>Vol.</th>\n",
       "      <th>Percentage_diff</th>\n",
       "      <th>Target</th>\n",
       "      <th>Price_SP500</th>\n",
       "      <th>Price_NASDAQ</th>\n",
       "      <th>Price_DJ</th>\n",
       "      <th>Price_US_Bond</th>\n",
       "      <th>I_Percentage_diff_ACPI</th>\n",
       "      <th>M_Percentage_diff_MCPI</th>\n",
       "      <th>FEDfunds</th>\n",
       "      <th>Percentage_diff_USD_JPY</th>\n",
       "      <th>Trend</th>\n",
       "      <th>Seasonality</th>\n",
       "      <th>Residuals</th>\n",
       "      <th>BTC_cycle</th>\n",
       "    </tr>\n",
       "  </thead>\n",
       "  <tbody>\n",
       "    <tr>\n",
       "      <th>0</th>\n",
       "      <td>2010-07-18</td>\n",
       "      <td>0.1</td>\n",
       "      <td>0.0</td>\n",
       "      <td>0.1</td>\n",
       "      <td>0.1</td>\n",
       "      <td>80.0</td>\n",
       "      <td>0.0</td>\n",
       "      <td>0</td>\n",
       "      <td>1064.88</td>\n",
       "      <td>2179.05</td>\n",
       "      <td>10097.90</td>\n",
       "      <td>2.954</td>\n",
       "      <td>1.34078</td>\n",
       "      <td>0.18693</td>\n",
       "      <td>0.18</td>\n",
       "      <td>-0.98</td>\n",
       "      <td>NaN</td>\n",
       "      <td>-3.979105</td>\n",
       "      <td>NaN</td>\n",
       "      <td>-1.869639e-06</td>\n",
       "    </tr>\n",
       "    <tr>\n",
       "      <th>1</th>\n",
       "      <td>2010-07-19</td>\n",
       "      <td>0.1</td>\n",
       "      <td>0.1</td>\n",
       "      <td>0.1</td>\n",
       "      <td>0.1</td>\n",
       "      <td>570.0</td>\n",
       "      <td>0.0</td>\n",
       "      <td>0</td>\n",
       "      <td>1071.25</td>\n",
       "      <td>2198.23</td>\n",
       "      <td>10154.43</td>\n",
       "      <td>2.954</td>\n",
       "      <td>1.34078</td>\n",
       "      <td>0.18693</td>\n",
       "      <td>0.18</td>\n",
       "      <td>0.21</td>\n",
       "      <td>NaN</td>\n",
       "      <td>8.917886</td>\n",
       "      <td>NaN</td>\n",
       "      <td>-1.538597e-06</td>\n",
       "    </tr>\n",
       "    <tr>\n",
       "      <th>2</th>\n",
       "      <td>2010-07-20</td>\n",
       "      <td>0.1</td>\n",
       "      <td>0.1</td>\n",
       "      <td>0.1</td>\n",
       "      <td>0.1</td>\n",
       "      <td>260.0</td>\n",
       "      <td>0.0</td>\n",
       "      <td>0</td>\n",
       "      <td>1083.48</td>\n",
       "      <td>2222.49</td>\n",
       "      <td>10229.96</td>\n",
       "      <td>2.954</td>\n",
       "      <td>1.34078</td>\n",
       "      <td>0.18693</td>\n",
       "      <td>0.18</td>\n",
       "      <td>0.75</td>\n",
       "      <td>NaN</td>\n",
       "      <td>1.150686</td>\n",
       "      <td>NaN</td>\n",
       "      <td>-1.206386e-06</td>\n",
       "    </tr>\n",
       "    <tr>\n",
       "      <th>3</th>\n",
       "      <td>2010-07-21</td>\n",
       "      <td>0.1</td>\n",
       "      <td>0.1</td>\n",
       "      <td>0.1</td>\n",
       "      <td>0.1</td>\n",
       "      <td>580.0</td>\n",
       "      <td>0.0</td>\n",
       "      <td>0</td>\n",
       "      <td>1069.59</td>\n",
       "      <td>2187.33</td>\n",
       "      <td>10120.53</td>\n",
       "      <td>2.954</td>\n",
       "      <td>1.34078</td>\n",
       "      <td>0.18693</td>\n",
       "      <td>0.18</td>\n",
       "      <td>-0.64</td>\n",
       "      <td>0.1</td>\n",
       "      <td>19.575231</td>\n",
       "      <td>-19.575231</td>\n",
       "      <td>-8.708768e-07</td>\n",
       "    </tr>\n",
       "    <tr>\n",
       "      <th>4</th>\n",
       "      <td>2010-07-22</td>\n",
       "      <td>0.1</td>\n",
       "      <td>0.1</td>\n",
       "      <td>0.1</td>\n",
       "      <td>0.1</td>\n",
       "      <td>2160.0</td>\n",
       "      <td>0.0</td>\n",
       "      <td>0</td>\n",
       "      <td>1093.67</td>\n",
       "      <td>2245.89</td>\n",
       "      <td>10322.30</td>\n",
       "      <td>2.954</td>\n",
       "      <td>1.34078</td>\n",
       "      <td>0.18693</td>\n",
       "      <td>0.18</td>\n",
       "      <td>0.43</td>\n",
       "      <td>0.1</td>\n",
       "      <td>-15.128694</td>\n",
       "      <td>15.128694</td>\n",
       "      <td>-5.291847e-07</td>\n",
       "    </tr>\n",
       "  </tbody>\n",
       "</table>\n",
       "</div>"
      ],
      "text/plain": [
       "         Date  Price  Open  High  Low    Vol.  Percentage_diff  Target  \\\n",
       "0  2010-07-18    0.1   0.0   0.1  0.1    80.0              0.0       0   \n",
       "1  2010-07-19    0.1   0.1   0.1  0.1   570.0              0.0       0   \n",
       "2  2010-07-20    0.1   0.1   0.1  0.1   260.0              0.0       0   \n",
       "3  2010-07-21    0.1   0.1   0.1  0.1   580.0              0.0       0   \n",
       "4  2010-07-22    0.1   0.1   0.1  0.1  2160.0              0.0       0   \n",
       "\n",
       "   Price_SP500  Price_NASDAQ  Price_DJ  Price_US_Bond  I_Percentage_diff_ACPI  \\\n",
       "0      1064.88       2179.05  10097.90          2.954                 1.34078   \n",
       "1      1071.25       2198.23  10154.43          2.954                 1.34078   \n",
       "2      1083.48       2222.49  10229.96          2.954                 1.34078   \n",
       "3      1069.59       2187.33  10120.53          2.954                 1.34078   \n",
       "4      1093.67       2245.89  10322.30          2.954                 1.34078   \n",
       "\n",
       "   M_Percentage_diff_MCPI  FEDfunds  Percentage_diff_USD_JPY  Trend  \\\n",
       "0                 0.18693      0.18                    -0.98    NaN   \n",
       "1                 0.18693      0.18                     0.21    NaN   \n",
       "2                 0.18693      0.18                     0.75    NaN   \n",
       "3                 0.18693      0.18                    -0.64    0.1   \n",
       "4                 0.18693      0.18                     0.43    0.1   \n",
       "\n",
       "   Seasonality  Residuals     BTC_cycle  \n",
       "0    -3.979105        NaN -1.869639e-06  \n",
       "1     8.917886        NaN -1.538597e-06  \n",
       "2     1.150686        NaN -1.206386e-06  \n",
       "3    19.575231 -19.575231 -8.708768e-07  \n",
       "4   -15.128694  15.128694 -5.291847e-07  "
      ]
     },
     "execution_count": 4,
     "metadata": {},
     "output_type": "execute_result"
    }
   ],
   "source": [
    "dwn_url=gdriveColabPath(sharing_url)\n",
    "BTC_US_fv_df = pd.read_csv(dwn_url, sep=\";\", decimal=\".\")\n",
    "BTC_US_fv_df.head()"
   ]
  },
  {
   "cell_type": "markdown",
   "metadata": {},
   "source": [
    "# Data wrangling"
   ]
  },
  {
   "cell_type": "markdown",
   "metadata": {},
   "source": [
    "## Análisis pre-modelado"
   ]
  },
  {
   "cell_type": "code",
   "execution_count": 5,
   "metadata": {},
   "outputs": [
    {
     "data": {
      "text/plain": [
       "(4386, 20)"
      ]
     },
     "execution_count": 5,
     "metadata": {},
     "output_type": "execute_result"
    }
   ],
   "source": [
    "# Registros y columnas\n",
    "BTC_US_fv_df.shape"
   ]
  },
  {
   "cell_type": "code",
   "execution_count": 6,
   "metadata": {},
   "outputs": [
    {
     "data": {
      "text/plain": [
       "Index(['Date', 'Price', 'Open', 'High', 'Low', 'Vol.', 'Percentage_diff',\n",
       "       'Target', 'Price_SP500', 'Price_NASDAQ', 'Price_DJ', 'Price_US_Bond',\n",
       "       'I_Percentage_diff_ACPI', 'M_Percentage_diff_MCPI', 'FEDfunds',\n",
       "       'Percentage_diff_USD_JPY', 'Trend', 'Seasonality', 'Residuals',\n",
       "       'BTC_cycle'],\n",
       "      dtype='object')"
      ]
     },
     "execution_count": 6,
     "metadata": {},
     "output_type": "execute_result"
    }
   ],
   "source": [
    "# Nombre de columnas\n",
    "BTC_US_fv_df.columns"
   ]
  },
  {
   "cell_type": "code",
   "execution_count": 7,
   "metadata": {},
   "outputs": [
    {
     "data": {
      "text/plain": [
       "Date                        object\n",
       "Price                      float64\n",
       "Open                       float64\n",
       "High                       float64\n",
       "Low                        float64\n",
       "Vol.                       float64\n",
       "Percentage_diff            float64\n",
       "Target                       int64\n",
       "Price_SP500                float64\n",
       "Price_NASDAQ               float64\n",
       "Price_DJ                   float64\n",
       "Price_US_Bond              float64\n",
       "I_Percentage_diff_ACPI     float64\n",
       "M_Percentage_diff_MCPI     float64\n",
       "FEDfunds                   float64\n",
       "Percentage_diff_USD_JPY    float64\n",
       "Trend                      float64\n",
       "Seasonality                float64\n",
       "Residuals                  float64\n",
       "BTC_cycle                  float64\n",
       "dtype: object"
      ]
     },
     "execution_count": 7,
     "metadata": {},
     "output_type": "execute_result"
    }
   ],
   "source": [
    "# Tipos de datos de las variables\n",
    "BTC_US_fv_df.dtypes"
   ]
  },
  {
   "cell_type": "code",
   "execution_count": 8,
   "metadata": {},
   "outputs": [
    {
     "data": {
      "text/plain": [
       "Date                       4386\n",
       "Price                      4386\n",
       "Open                       4386\n",
       "High                       4386\n",
       "Low                        4386\n",
       "Vol.                       4386\n",
       "Percentage_diff            4386\n",
       "Target                     4386\n",
       "Price_SP500                4386\n",
       "Price_NASDAQ               4386\n",
       "Price_DJ                   4386\n",
       "Price_US_Bond              4386\n",
       "I_Percentage_diff_ACPI     4386\n",
       "M_Percentage_diff_MCPI     4386\n",
       "FEDfunds                   4386\n",
       "Percentage_diff_USD_JPY    4386\n",
       "Trend                      4380\n",
       "Seasonality                4386\n",
       "Residuals                  4380\n",
       "BTC_cycle                  4386\n",
       "dtype: int64"
      ]
     },
     "execution_count": 8,
     "metadata": {},
     "output_type": "execute_result"
    }
   ],
   "source": [
    "# Columnas y cantidad de registros\n",
    "BTC_US_fv_df.count()"
   ]
  },
  {
   "cell_type": "code",
   "execution_count": 9,
   "metadata": {},
   "outputs": [
    {
     "data": {
      "text/plain": [
       "Date                       0\n",
       "Price                      0\n",
       "Open                       0\n",
       "High                       0\n",
       "Low                        0\n",
       "Vol.                       0\n",
       "Percentage_diff            0\n",
       "Target                     0\n",
       "Price_SP500                0\n",
       "Price_NASDAQ               0\n",
       "Price_DJ                   0\n",
       "Price_US_Bond              0\n",
       "I_Percentage_diff_ACPI     0\n",
       "M_Percentage_diff_MCPI     0\n",
       "FEDfunds                   0\n",
       "Percentage_diff_USD_JPY    0\n",
       "Trend                      6\n",
       "Seasonality                0\n",
       "Residuals                  6\n",
       "BTC_cycle                  0\n",
       "dtype: int64"
      ]
     },
     "execution_count": 9,
     "metadata": {},
     "output_type": "execute_result"
    }
   ],
   "source": [
    "# Valores NaN\n",
    "BTC_US_fv_df.isnull().sum()"
   ]
  },
  {
   "cell_type": "code",
   "execution_count": 10,
   "metadata": {},
   "outputs": [
    {
     "data": {
      "text/html": [
       "<div>\n",
       "<style scoped>\n",
       "    .dataframe tbody tr th:only-of-type {\n",
       "        vertical-align: middle;\n",
       "    }\n",
       "\n",
       "    .dataframe tbody tr th {\n",
       "        vertical-align: top;\n",
       "    }\n",
       "\n",
       "    .dataframe thead th {\n",
       "        text-align: right;\n",
       "    }\n",
       "</style>\n",
       "<table border=\"1\" class=\"dataframe\">\n",
       "  <thead>\n",
       "    <tr style=\"text-align: right;\">\n",
       "      <th></th>\n",
       "      <th>Date</th>\n",
       "      <th>Price</th>\n",
       "      <th>Open</th>\n",
       "      <th>High</th>\n",
       "      <th>Low</th>\n",
       "      <th>Vol.</th>\n",
       "      <th>Percentage_diff</th>\n",
       "      <th>Target</th>\n",
       "      <th>Price_SP500</th>\n",
       "      <th>Price_NASDAQ</th>\n",
       "      <th>Price_DJ</th>\n",
       "      <th>Price_US_Bond</th>\n",
       "      <th>I_Percentage_diff_ACPI</th>\n",
       "      <th>M_Percentage_diff_MCPI</th>\n",
       "      <th>FEDfunds</th>\n",
       "      <th>Percentage_diff_USD_JPY</th>\n",
       "      <th>Trend</th>\n",
       "      <th>Seasonality</th>\n",
       "      <th>Residuals</th>\n",
       "      <th>BTC_cycle</th>\n",
       "    </tr>\n",
       "  </thead>\n",
       "  <tbody>\n",
       "    <tr>\n",
       "      <th>0</th>\n",
       "      <td>2010-07-18</td>\n",
       "      <td>0.1</td>\n",
       "      <td>0.0</td>\n",
       "      <td>0.1</td>\n",
       "      <td>0.1</td>\n",
       "      <td>80.0</td>\n",
       "      <td>0.0</td>\n",
       "      <td>0</td>\n",
       "      <td>1064.88</td>\n",
       "      <td>2179.05</td>\n",
       "      <td>10097.90</td>\n",
       "      <td>2.954</td>\n",
       "      <td>1.34078</td>\n",
       "      <td>0.18693</td>\n",
       "      <td>0.18</td>\n",
       "      <td>-0.98</td>\n",
       "      <td>NaN</td>\n",
       "      <td>-3.979105</td>\n",
       "      <td>NaN</td>\n",
       "      <td>-1.869639e-06</td>\n",
       "    </tr>\n",
       "    <tr>\n",
       "      <th>1</th>\n",
       "      <td>2010-07-19</td>\n",
       "      <td>0.1</td>\n",
       "      <td>0.1</td>\n",
       "      <td>0.1</td>\n",
       "      <td>0.1</td>\n",
       "      <td>570.0</td>\n",
       "      <td>0.0</td>\n",
       "      <td>0</td>\n",
       "      <td>1071.25</td>\n",
       "      <td>2198.23</td>\n",
       "      <td>10154.43</td>\n",
       "      <td>2.954</td>\n",
       "      <td>1.34078</td>\n",
       "      <td>0.18693</td>\n",
       "      <td>0.18</td>\n",
       "      <td>0.21</td>\n",
       "      <td>NaN</td>\n",
       "      <td>8.917886</td>\n",
       "      <td>NaN</td>\n",
       "      <td>-1.538597e-06</td>\n",
       "    </tr>\n",
       "    <tr>\n",
       "      <th>2</th>\n",
       "      <td>2010-07-20</td>\n",
       "      <td>0.1</td>\n",
       "      <td>0.1</td>\n",
       "      <td>0.1</td>\n",
       "      <td>0.1</td>\n",
       "      <td>260.0</td>\n",
       "      <td>0.0</td>\n",
       "      <td>0</td>\n",
       "      <td>1083.48</td>\n",
       "      <td>2222.49</td>\n",
       "      <td>10229.96</td>\n",
       "      <td>2.954</td>\n",
       "      <td>1.34078</td>\n",
       "      <td>0.18693</td>\n",
       "      <td>0.18</td>\n",
       "      <td>0.75</td>\n",
       "      <td>NaN</td>\n",
       "      <td>1.150686</td>\n",
       "      <td>NaN</td>\n",
       "      <td>-1.206386e-06</td>\n",
       "    </tr>\n",
       "    <tr>\n",
       "      <th>3</th>\n",
       "      <td>2010-07-21</td>\n",
       "      <td>0.1</td>\n",
       "      <td>0.1</td>\n",
       "      <td>0.1</td>\n",
       "      <td>0.1</td>\n",
       "      <td>580.0</td>\n",
       "      <td>0.0</td>\n",
       "      <td>0</td>\n",
       "      <td>1069.59</td>\n",
       "      <td>2187.33</td>\n",
       "      <td>10120.53</td>\n",
       "      <td>2.954</td>\n",
       "      <td>1.34078</td>\n",
       "      <td>0.18693</td>\n",
       "      <td>0.18</td>\n",
       "      <td>-0.64</td>\n",
       "      <td>0.1</td>\n",
       "      <td>19.575231</td>\n",
       "      <td>-19.575231</td>\n",
       "      <td>-8.708768e-07</td>\n",
       "    </tr>\n",
       "    <tr>\n",
       "      <th>4</th>\n",
       "      <td>2010-07-22</td>\n",
       "      <td>0.1</td>\n",
       "      <td>0.1</td>\n",
       "      <td>0.1</td>\n",
       "      <td>0.1</td>\n",
       "      <td>2160.0</td>\n",
       "      <td>0.0</td>\n",
       "      <td>0</td>\n",
       "      <td>1093.67</td>\n",
       "      <td>2245.89</td>\n",
       "      <td>10322.30</td>\n",
       "      <td>2.954</td>\n",
       "      <td>1.34078</td>\n",
       "      <td>0.18693</td>\n",
       "      <td>0.18</td>\n",
       "      <td>0.43</td>\n",
       "      <td>0.1</td>\n",
       "      <td>-15.128694</td>\n",
       "      <td>15.128694</td>\n",
       "      <td>-5.291847e-07</td>\n",
       "    </tr>\n",
       "  </tbody>\n",
       "</table>\n",
       "</div>"
      ],
      "text/plain": [
       "         Date  Price  Open  High  Low    Vol.  Percentage_diff  Target  \\\n",
       "0  2010-07-18    0.1   0.0   0.1  0.1    80.0              0.0       0   \n",
       "1  2010-07-19    0.1   0.1   0.1  0.1   570.0              0.0       0   \n",
       "2  2010-07-20    0.1   0.1   0.1  0.1   260.0              0.0       0   \n",
       "3  2010-07-21    0.1   0.1   0.1  0.1   580.0              0.0       0   \n",
       "4  2010-07-22    0.1   0.1   0.1  0.1  2160.0              0.0       0   \n",
       "\n",
       "   Price_SP500  Price_NASDAQ  Price_DJ  Price_US_Bond  I_Percentage_diff_ACPI  \\\n",
       "0      1064.88       2179.05  10097.90          2.954                 1.34078   \n",
       "1      1071.25       2198.23  10154.43          2.954                 1.34078   \n",
       "2      1083.48       2222.49  10229.96          2.954                 1.34078   \n",
       "3      1069.59       2187.33  10120.53          2.954                 1.34078   \n",
       "4      1093.67       2245.89  10322.30          2.954                 1.34078   \n",
       "\n",
       "   M_Percentage_diff_MCPI  FEDfunds  Percentage_diff_USD_JPY  Trend  \\\n",
       "0                 0.18693      0.18                    -0.98    NaN   \n",
       "1                 0.18693      0.18                     0.21    NaN   \n",
       "2                 0.18693      0.18                     0.75    NaN   \n",
       "3                 0.18693      0.18                    -0.64    0.1   \n",
       "4                 0.18693      0.18                     0.43    0.1   \n",
       "\n",
       "   Seasonality  Residuals     BTC_cycle  \n",
       "0    -3.979105        NaN -1.869639e-06  \n",
       "1     8.917886        NaN -1.538597e-06  \n",
       "2     1.150686        NaN -1.206386e-06  \n",
       "3    19.575231 -19.575231 -8.708768e-07  \n",
       "4   -15.128694  15.128694 -5.291847e-07  "
      ]
     },
     "execution_count": 10,
     "metadata": {},
     "output_type": "execute_result"
    }
   ],
   "source": [
    "BTC_US_fv_df.head()"
   ]
  },
  {
   "cell_type": "markdown",
   "metadata": {},
   "source": [
    "Observaciones:\n",
    "\n",
    "Se observaron varios registros NaN en \"BTC_US_fv.csv\". \n",
    "\n",
    "Esto implica la necesidad de tomar una decisión con respecto a este tipo de valores (instancia previa al modelado). \n",
    "\n",
    "Se descarta rellenar los NaN con promedios de valores previos y/o posteriores por varias razones:\n",
    "\n",
    "1. En las variables [Trend] y [Residuals], 3 de los 6 valores NaN se encuentran al principio de la serie, y los restantes 3 al final de la misma. Esto significa que no se puede hacer un promedio con valores anteriores y posteriores a los valores NaN sino solo con anteriores o posteriores según el caso. Proceder con un promedio con los datos anteriores o posteriores en una serie de tiempo supone un problema extra (¿cuántos valores hacia atrás o hacia adelante se deben tomar?, ¿cuál es el grado de autocorrelación con los valores anteriores o posteriores?, entre otros). \n",
    "\n",
    "\n",
    "2. En la variable [Residuals] hay valores positivos y negativos en los registros anteriores y posteriores inmediatos según el caso. Esto también añade un problema extra (¿qué signo se debería utilizar si se rellenan esos casilleros?).\n",
    "\n",
    "\n",
    "3. Al no tratarse de un problema de regresión lineal del valor que tomaría el precio de BTC en el registro siguiente sino un problema de clasificación, la eliminación de los valores NaN no afectaría en demasía la predicción del modelo a pesar de la autocorrelación referida en el punto 2. Si se considera eliminar los 12 registros NaN (6 en [Residual] y 6 en [Trend] ) se estaría solamente eliminando un (6*100/4386 =) 0.136 % de los datos. \n",
    "\n",
    "Se eliminarán los valores NaN dado que los modelos no los toleran y no impactan en el marco general del proyecto (ver razones aducidas arriba)."
   ]
  },
  {
   "cell_type": "markdown",
   "metadata": {},
   "source": [
    "## Ultimas manipulaciones pre-modelado"
   ]
  },
  {
   "cell_type": "markdown",
   "metadata": {},
   "source": [
    "Se reindexa el data set que se modelará a fin de que la variable [Date] funcione como nuevo índice de la base de datos."
   ]
  },
  {
   "cell_type": "code",
   "execution_count": 11,
   "metadata": {},
   "outputs": [],
   "source": [
    "# Se crea una copia de BTC_US_fv_df con nombre BTC_US y se la reindexa con la variable [Date] como nuevo índice\n",
    "BTC_US = BTC_US_fv_df.set_index(\"Date\")"
   ]
  },
  {
   "cell_type": "code",
   "execution_count": 12,
   "metadata": {
    "scrolled": true
   },
   "outputs": [
    {
     "data": {
      "text/html": [
       "<div>\n",
       "<style scoped>\n",
       "    .dataframe tbody tr th:only-of-type {\n",
       "        vertical-align: middle;\n",
       "    }\n",
       "\n",
       "    .dataframe tbody tr th {\n",
       "        vertical-align: top;\n",
       "    }\n",
       "\n",
       "    .dataframe thead th {\n",
       "        text-align: right;\n",
       "    }\n",
       "</style>\n",
       "<table border=\"1\" class=\"dataframe\">\n",
       "  <thead>\n",
       "    <tr style=\"text-align: right;\">\n",
       "      <th></th>\n",
       "      <th>Price</th>\n",
       "      <th>Open</th>\n",
       "      <th>High</th>\n",
       "      <th>Low</th>\n",
       "      <th>Vol.</th>\n",
       "      <th>Percentage_diff</th>\n",
       "      <th>Target</th>\n",
       "      <th>Price_SP500</th>\n",
       "      <th>Price_NASDAQ</th>\n",
       "      <th>Price_DJ</th>\n",
       "      <th>Price_US_Bond</th>\n",
       "      <th>I_Percentage_diff_ACPI</th>\n",
       "      <th>M_Percentage_diff_MCPI</th>\n",
       "      <th>FEDfunds</th>\n",
       "      <th>Percentage_diff_USD_JPY</th>\n",
       "      <th>Trend</th>\n",
       "      <th>Seasonality</th>\n",
       "      <th>Residuals</th>\n",
       "      <th>BTC_cycle</th>\n",
       "    </tr>\n",
       "    <tr>\n",
       "      <th>Date</th>\n",
       "      <th></th>\n",
       "      <th></th>\n",
       "      <th></th>\n",
       "      <th></th>\n",
       "      <th></th>\n",
       "      <th></th>\n",
       "      <th></th>\n",
       "      <th></th>\n",
       "      <th></th>\n",
       "      <th></th>\n",
       "      <th></th>\n",
       "      <th></th>\n",
       "      <th></th>\n",
       "      <th></th>\n",
       "      <th></th>\n",
       "      <th></th>\n",
       "      <th></th>\n",
       "      <th></th>\n",
       "      <th></th>\n",
       "    </tr>\n",
       "  </thead>\n",
       "  <tbody>\n",
       "    <tr>\n",
       "      <th>2022-07-16</th>\n",
       "      <td>21209.9</td>\n",
       "      <td>20825.2</td>\n",
       "      <td>21561.3</td>\n",
       "      <td>20484.4</td>\n",
       "      <td>136890.0</td>\n",
       "      <td>1.85</td>\n",
       "      <td>1</td>\n",
       "      <td>3863.16</td>\n",
       "      <td>11452.42</td>\n",
       "      <td>31286.02</td>\n",
       "      <td>2.889</td>\n",
       "      <td>8.48213</td>\n",
       "      <td>-0.0193</td>\n",
       "      <td>1.68</td>\n",
       "      <td>-0.27</td>\n",
       "      <td>21370.371429</td>\n",
       "      <td>-0.183737</td>\n",
       "      <td>-160.287691</td>\n",
       "      <td>-154.061979</td>\n",
       "    </tr>\n",
       "    <tr>\n",
       "      <th>2022-07-17</th>\n",
       "      <td>20785.6</td>\n",
       "      <td>21209.8</td>\n",
       "      <td>21654.4</td>\n",
       "      <td>20755.2</td>\n",
       "      <td>132810.0</td>\n",
       "      <td>-2.00</td>\n",
       "      <td>0</td>\n",
       "      <td>3863.16</td>\n",
       "      <td>11452.42</td>\n",
       "      <td>31286.02</td>\n",
       "      <td>2.889</td>\n",
       "      <td>8.48213</td>\n",
       "      <td>-0.0193</td>\n",
       "      <td>1.68</td>\n",
       "      <td>-0.27</td>\n",
       "      <td>21784.528571</td>\n",
       "      <td>-3.979105</td>\n",
       "      <td>-994.949467</td>\n",
       "      <td>-745.841392</td>\n",
       "    </tr>\n",
       "    <tr>\n",
       "      <th>2022-07-18</th>\n",
       "      <td>22525.8</td>\n",
       "      <td>20785.6</td>\n",
       "      <td>22714.9</td>\n",
       "      <td>20770.6</td>\n",
       "      <td>279720.0</td>\n",
       "      <td>8.37</td>\n",
       "      <td>1</td>\n",
       "      <td>3830.85</td>\n",
       "      <td>11360.05</td>\n",
       "      <td>31071.75</td>\n",
       "      <td>2.889</td>\n",
       "      <td>8.48213</td>\n",
       "      <td>-0.0193</td>\n",
       "      <td>1.68</td>\n",
       "      <td>-0.30</td>\n",
       "      <td>NaN</td>\n",
       "      <td>8.917886</td>\n",
       "      <td>NaN</td>\n",
       "      <td>822.393782</td>\n",
       "    </tr>\n",
       "    <tr>\n",
       "      <th>2022-07-19</th>\n",
       "      <td>23410.2</td>\n",
       "      <td>22529.3</td>\n",
       "      <td>23757.3</td>\n",
       "      <td>21581.8</td>\n",
       "      <td>308910.0</td>\n",
       "      <td>3.93</td>\n",
       "      <td>1</td>\n",
       "      <td>3936.69</td>\n",
       "      <td>11713.15</td>\n",
       "      <td>31824.71</td>\n",
       "      <td>2.889</td>\n",
       "      <td>8.48213</td>\n",
       "      <td>-0.0193</td>\n",
       "      <td>1.68</td>\n",
       "      <td>0.04</td>\n",
       "      <td>NaN</td>\n",
       "      <td>1.150686</td>\n",
       "      <td>NaN</td>\n",
       "      <td>1532.500614</td>\n",
       "    </tr>\n",
       "    <tr>\n",
       "      <th>2022-07-20</th>\n",
       "      <td>23149.1</td>\n",
       "      <td>23412.0</td>\n",
       "      <td>23429.9</td>\n",
       "      <td>22965.9</td>\n",
       "      <td>290210.0</td>\n",
       "      <td>-1.12</td>\n",
       "      <td>0</td>\n",
       "      <td>3936.69</td>\n",
       "      <td>11713.15</td>\n",
       "      <td>31824.71</td>\n",
       "      <td>2.889</td>\n",
       "      <td>8.48213</td>\n",
       "      <td>-0.0193</td>\n",
       "      <td>1.68</td>\n",
       "      <td>-0.08</td>\n",
       "      <td>NaN</td>\n",
       "      <td>19.575231</td>\n",
       "      <td>NaN</td>\n",
       "      <td>1096.422183</td>\n",
       "    </tr>\n",
       "  </tbody>\n",
       "</table>\n",
       "</div>"
      ],
      "text/plain": [
       "              Price     Open     High      Low      Vol.  Percentage_diff  \\\n",
       "Date                                                                        \n",
       "2022-07-16  21209.9  20825.2  21561.3  20484.4  136890.0             1.85   \n",
       "2022-07-17  20785.6  21209.8  21654.4  20755.2  132810.0            -2.00   \n",
       "2022-07-18  22525.8  20785.6  22714.9  20770.6  279720.0             8.37   \n",
       "2022-07-19  23410.2  22529.3  23757.3  21581.8  308910.0             3.93   \n",
       "2022-07-20  23149.1  23412.0  23429.9  22965.9  290210.0            -1.12   \n",
       "\n",
       "            Target  Price_SP500  Price_NASDAQ  Price_DJ  Price_US_Bond  \\\n",
       "Date                                                                     \n",
       "2022-07-16       1      3863.16      11452.42  31286.02          2.889   \n",
       "2022-07-17       0      3863.16      11452.42  31286.02          2.889   \n",
       "2022-07-18       1      3830.85      11360.05  31071.75          2.889   \n",
       "2022-07-19       1      3936.69      11713.15  31824.71          2.889   \n",
       "2022-07-20       0      3936.69      11713.15  31824.71          2.889   \n",
       "\n",
       "            I_Percentage_diff_ACPI  M_Percentage_diff_MCPI  FEDfunds  \\\n",
       "Date                                                                   \n",
       "2022-07-16                 8.48213                 -0.0193      1.68   \n",
       "2022-07-17                 8.48213                 -0.0193      1.68   \n",
       "2022-07-18                 8.48213                 -0.0193      1.68   \n",
       "2022-07-19                 8.48213                 -0.0193      1.68   \n",
       "2022-07-20                 8.48213                 -0.0193      1.68   \n",
       "\n",
       "            Percentage_diff_USD_JPY         Trend  Seasonality   Residuals  \\\n",
       "Date                                                                         \n",
       "2022-07-16                    -0.27  21370.371429    -0.183737 -160.287691   \n",
       "2022-07-17                    -0.27  21784.528571    -3.979105 -994.949467   \n",
       "2022-07-18                    -0.30           NaN     8.917886         NaN   \n",
       "2022-07-19                     0.04           NaN     1.150686         NaN   \n",
       "2022-07-20                    -0.08           NaN    19.575231         NaN   \n",
       "\n",
       "              BTC_cycle  \n",
       "Date                     \n",
       "2022-07-16  -154.061979  \n",
       "2022-07-17  -745.841392  \n",
       "2022-07-18   822.393782  \n",
       "2022-07-19  1532.500614  \n",
       "2022-07-20  1096.422183  "
      ]
     },
     "execution_count": 12,
     "metadata": {},
     "output_type": "execute_result"
    }
   ],
   "source": [
    "BTC_US.tail()"
   ]
  },
  {
   "cell_type": "markdown",
   "metadata": {},
   "source": [
    "Dado que en la práctica real solo se tiene hasta los valores del registro anterior al que se quiere predecir se intenta hacer un shift (-1) a la variable [Target]. Se entiende que así (en caso de que el modelo prediga con previsibilidad suficiente) se podría estar seguro de que después vendría el valor de [Target] original sin shift (-1)."
   ]
  },
  {
   "cell_type": "code",
   "execution_count": 13,
   "metadata": {},
   "outputs": [],
   "source": [
    "# Se genera un back up\n",
    "BTC_US_2 = BTC_US.copy()"
   ]
  },
  {
   "cell_type": "code",
   "execution_count": 14,
   "metadata": {},
   "outputs": [],
   "source": [
    "# Se realiza el shift \n",
    "BTC_US_2 [\"Target\"] = BTC_US [\"Target\"].shift(-1)"
   ]
  },
  {
   "cell_type": "code",
   "execution_count": 15,
   "metadata": {},
   "outputs": [
    {
     "data": {
      "text/html": [
       "<div>\n",
       "<style scoped>\n",
       "    .dataframe tbody tr th:only-of-type {\n",
       "        vertical-align: middle;\n",
       "    }\n",
       "\n",
       "    .dataframe tbody tr th {\n",
       "        vertical-align: top;\n",
       "    }\n",
       "\n",
       "    .dataframe thead th {\n",
       "        text-align: right;\n",
       "    }\n",
       "</style>\n",
       "<table border=\"1\" class=\"dataframe\">\n",
       "  <thead>\n",
       "    <tr style=\"text-align: right;\">\n",
       "      <th></th>\n",
       "      <th>Price</th>\n",
       "      <th>Open</th>\n",
       "      <th>High</th>\n",
       "      <th>Low</th>\n",
       "      <th>Vol.</th>\n",
       "      <th>Percentage_diff</th>\n",
       "      <th>Target</th>\n",
       "      <th>Price_SP500</th>\n",
       "      <th>Price_NASDAQ</th>\n",
       "      <th>Price_DJ</th>\n",
       "      <th>Price_US_Bond</th>\n",
       "      <th>I_Percentage_diff_ACPI</th>\n",
       "      <th>M_Percentage_diff_MCPI</th>\n",
       "      <th>FEDfunds</th>\n",
       "      <th>Percentage_diff_USD_JPY</th>\n",
       "      <th>Trend</th>\n",
       "      <th>Seasonality</th>\n",
       "      <th>Residuals</th>\n",
       "      <th>BTC_cycle</th>\n",
       "    </tr>\n",
       "    <tr>\n",
       "      <th>Date</th>\n",
       "      <th></th>\n",
       "      <th></th>\n",
       "      <th></th>\n",
       "      <th></th>\n",
       "      <th></th>\n",
       "      <th></th>\n",
       "      <th></th>\n",
       "      <th></th>\n",
       "      <th></th>\n",
       "      <th></th>\n",
       "      <th></th>\n",
       "      <th></th>\n",
       "      <th></th>\n",
       "      <th></th>\n",
       "      <th></th>\n",
       "      <th></th>\n",
       "      <th></th>\n",
       "      <th></th>\n",
       "      <th></th>\n",
       "    </tr>\n",
       "  </thead>\n",
       "  <tbody>\n",
       "    <tr>\n",
       "      <th>2022-07-16</th>\n",
       "      <td>21209.9</td>\n",
       "      <td>20825.2</td>\n",
       "      <td>21561.3</td>\n",
       "      <td>20484.4</td>\n",
       "      <td>136890.0</td>\n",
       "      <td>1.85</td>\n",
       "      <td>0.0</td>\n",
       "      <td>3863.16</td>\n",
       "      <td>11452.42</td>\n",
       "      <td>31286.02</td>\n",
       "      <td>2.889</td>\n",
       "      <td>8.48213</td>\n",
       "      <td>-0.0193</td>\n",
       "      <td>1.68</td>\n",
       "      <td>-0.27</td>\n",
       "      <td>21370.371429</td>\n",
       "      <td>-0.183737</td>\n",
       "      <td>-160.287691</td>\n",
       "      <td>-154.061979</td>\n",
       "    </tr>\n",
       "    <tr>\n",
       "      <th>2022-07-17</th>\n",
       "      <td>20785.6</td>\n",
       "      <td>21209.8</td>\n",
       "      <td>21654.4</td>\n",
       "      <td>20755.2</td>\n",
       "      <td>132810.0</td>\n",
       "      <td>-2.00</td>\n",
       "      <td>1.0</td>\n",
       "      <td>3863.16</td>\n",
       "      <td>11452.42</td>\n",
       "      <td>31286.02</td>\n",
       "      <td>2.889</td>\n",
       "      <td>8.48213</td>\n",
       "      <td>-0.0193</td>\n",
       "      <td>1.68</td>\n",
       "      <td>-0.27</td>\n",
       "      <td>21784.528571</td>\n",
       "      <td>-3.979105</td>\n",
       "      <td>-994.949467</td>\n",
       "      <td>-745.841392</td>\n",
       "    </tr>\n",
       "    <tr>\n",
       "      <th>2022-07-18</th>\n",
       "      <td>22525.8</td>\n",
       "      <td>20785.6</td>\n",
       "      <td>22714.9</td>\n",
       "      <td>20770.6</td>\n",
       "      <td>279720.0</td>\n",
       "      <td>8.37</td>\n",
       "      <td>1.0</td>\n",
       "      <td>3830.85</td>\n",
       "      <td>11360.05</td>\n",
       "      <td>31071.75</td>\n",
       "      <td>2.889</td>\n",
       "      <td>8.48213</td>\n",
       "      <td>-0.0193</td>\n",
       "      <td>1.68</td>\n",
       "      <td>-0.30</td>\n",
       "      <td>NaN</td>\n",
       "      <td>8.917886</td>\n",
       "      <td>NaN</td>\n",
       "      <td>822.393782</td>\n",
       "    </tr>\n",
       "    <tr>\n",
       "      <th>2022-07-19</th>\n",
       "      <td>23410.2</td>\n",
       "      <td>22529.3</td>\n",
       "      <td>23757.3</td>\n",
       "      <td>21581.8</td>\n",
       "      <td>308910.0</td>\n",
       "      <td>3.93</td>\n",
       "      <td>0.0</td>\n",
       "      <td>3936.69</td>\n",
       "      <td>11713.15</td>\n",
       "      <td>31824.71</td>\n",
       "      <td>2.889</td>\n",
       "      <td>8.48213</td>\n",
       "      <td>-0.0193</td>\n",
       "      <td>1.68</td>\n",
       "      <td>0.04</td>\n",
       "      <td>NaN</td>\n",
       "      <td>1.150686</td>\n",
       "      <td>NaN</td>\n",
       "      <td>1532.500614</td>\n",
       "    </tr>\n",
       "    <tr>\n",
       "      <th>2022-07-20</th>\n",
       "      <td>23149.1</td>\n",
       "      <td>23412.0</td>\n",
       "      <td>23429.9</td>\n",
       "      <td>22965.9</td>\n",
       "      <td>290210.0</td>\n",
       "      <td>-1.12</td>\n",
       "      <td>NaN</td>\n",
       "      <td>3936.69</td>\n",
       "      <td>11713.15</td>\n",
       "      <td>31824.71</td>\n",
       "      <td>2.889</td>\n",
       "      <td>8.48213</td>\n",
       "      <td>-0.0193</td>\n",
       "      <td>1.68</td>\n",
       "      <td>-0.08</td>\n",
       "      <td>NaN</td>\n",
       "      <td>19.575231</td>\n",
       "      <td>NaN</td>\n",
       "      <td>1096.422183</td>\n",
       "    </tr>\n",
       "  </tbody>\n",
       "</table>\n",
       "</div>"
      ],
      "text/plain": [
       "              Price     Open     High      Low      Vol.  Percentage_diff  \\\n",
       "Date                                                                        \n",
       "2022-07-16  21209.9  20825.2  21561.3  20484.4  136890.0             1.85   \n",
       "2022-07-17  20785.6  21209.8  21654.4  20755.2  132810.0            -2.00   \n",
       "2022-07-18  22525.8  20785.6  22714.9  20770.6  279720.0             8.37   \n",
       "2022-07-19  23410.2  22529.3  23757.3  21581.8  308910.0             3.93   \n",
       "2022-07-20  23149.1  23412.0  23429.9  22965.9  290210.0            -1.12   \n",
       "\n",
       "            Target  Price_SP500  Price_NASDAQ  Price_DJ  Price_US_Bond  \\\n",
       "Date                                                                     \n",
       "2022-07-16     0.0      3863.16      11452.42  31286.02          2.889   \n",
       "2022-07-17     1.0      3863.16      11452.42  31286.02          2.889   \n",
       "2022-07-18     1.0      3830.85      11360.05  31071.75          2.889   \n",
       "2022-07-19     0.0      3936.69      11713.15  31824.71          2.889   \n",
       "2022-07-20     NaN      3936.69      11713.15  31824.71          2.889   \n",
       "\n",
       "            I_Percentage_diff_ACPI  M_Percentage_diff_MCPI  FEDfunds  \\\n",
       "Date                                                                   \n",
       "2022-07-16                 8.48213                 -0.0193      1.68   \n",
       "2022-07-17                 8.48213                 -0.0193      1.68   \n",
       "2022-07-18                 8.48213                 -0.0193      1.68   \n",
       "2022-07-19                 8.48213                 -0.0193      1.68   \n",
       "2022-07-20                 8.48213                 -0.0193      1.68   \n",
       "\n",
       "            Percentage_diff_USD_JPY         Trend  Seasonality   Residuals  \\\n",
       "Date                                                                         \n",
       "2022-07-16                    -0.27  21370.371429    -0.183737 -160.287691   \n",
       "2022-07-17                    -0.27  21784.528571    -3.979105 -994.949467   \n",
       "2022-07-18                    -0.30           NaN     8.917886         NaN   \n",
       "2022-07-19                     0.04           NaN     1.150686         NaN   \n",
       "2022-07-20                    -0.08           NaN    19.575231         NaN   \n",
       "\n",
       "              BTC_cycle  \n",
       "Date                     \n",
       "2022-07-16  -154.061979  \n",
       "2022-07-17  -745.841392  \n",
       "2022-07-18   822.393782  \n",
       "2022-07-19  1532.500614  \n",
       "2022-07-20  1096.422183  "
      ]
     },
     "execution_count": 15,
     "metadata": {},
     "output_type": "execute_result"
    }
   ],
   "source": [
    "BTC_US_2.tail()"
   ]
  },
  {
   "cell_type": "markdown",
   "metadata": {},
   "source": [
    "Se elimina el registro NaN de la variable [Target] dado que los modelos no pueden procesar este tipo de datos"
   ]
  },
  {
   "cell_type": "code",
   "execution_count": 16,
   "metadata": {},
   "outputs": [],
   "source": [
    "BTC_US_2 = BTC_US_2 [0:4385]"
   ]
  },
  {
   "cell_type": "code",
   "execution_count": 17,
   "metadata": {
    "scrolled": true
   },
   "outputs": [
    {
     "data": {
      "text/plain": [
       "Price                      0\n",
       "Open                       0\n",
       "High                       0\n",
       "Low                        0\n",
       "Vol.                       0\n",
       "Percentage_diff            0\n",
       "Target                     0\n",
       "Price_SP500                0\n",
       "Price_NASDAQ               0\n",
       "Price_DJ                   0\n",
       "Price_US_Bond              0\n",
       "I_Percentage_diff_ACPI     0\n",
       "M_Percentage_diff_MCPI     0\n",
       "FEDfunds                   0\n",
       "Percentage_diff_USD_JPY    0\n",
       "Trend                      5\n",
       "Seasonality                0\n",
       "Residuals                  5\n",
       "BTC_cycle                  0\n",
       "dtype: int64"
      ]
     },
     "execution_count": 17,
     "metadata": {},
     "output_type": "execute_result"
    }
   ],
   "source": [
    "BTC_US_2.isnull().sum()"
   ]
  },
  {
   "cell_type": "markdown",
   "metadata": {},
   "source": [
    "Se eliminan los valores NaN del resto de las columnas ([Trend] y [Seasonality])"
   ]
  },
  {
   "cell_type": "code",
   "execution_count": 18,
   "metadata": {},
   "outputs": [],
   "source": [
    "BTC_US_2 = BTC_US_2.dropna()"
   ]
  },
  {
   "cell_type": "code",
   "execution_count": 19,
   "metadata": {},
   "outputs": [
    {
     "data": {
      "text/plain": [
       "Price                      0\n",
       "Open                       0\n",
       "High                       0\n",
       "Low                        0\n",
       "Vol.                       0\n",
       "Percentage_diff            0\n",
       "Target                     0\n",
       "Price_SP500                0\n",
       "Price_NASDAQ               0\n",
       "Price_DJ                   0\n",
       "Price_US_Bond              0\n",
       "I_Percentage_diff_ACPI     0\n",
       "M_Percentage_diff_MCPI     0\n",
       "FEDfunds                   0\n",
       "Percentage_diff_USD_JPY    0\n",
       "Trend                      0\n",
       "Seasonality                0\n",
       "Residuals                  0\n",
       "BTC_cycle                  0\n",
       "dtype: int64"
      ]
     },
     "execution_count": 19,
     "metadata": {},
     "output_type": "execute_result"
    }
   ],
   "source": [
    "BTC_US_2.isnull().sum()"
   ]
  },
  {
   "cell_type": "code",
   "execution_count": 20,
   "metadata": {
    "scrolled": true
   },
   "outputs": [
    {
     "name": "stdout",
     "output_type": "stream",
     "text": [
      "<class 'pandas.core.frame.DataFrame'>\n",
      "Index: 4380 entries, 2010-07-21 to 2022-07-17\n",
      "Data columns (total 19 columns):\n",
      " #   Column                   Non-Null Count  Dtype  \n",
      "---  ------                   --------------  -----  \n",
      " 0   Price                    4380 non-null   float64\n",
      " 1   Open                     4380 non-null   float64\n",
      " 2   High                     4380 non-null   float64\n",
      " 3   Low                      4380 non-null   float64\n",
      " 4   Vol.                     4380 non-null   float64\n",
      " 5   Percentage_diff          4380 non-null   float64\n",
      " 6   Target                   4380 non-null   float64\n",
      " 7   Price_SP500              4380 non-null   float64\n",
      " 8   Price_NASDAQ             4380 non-null   float64\n",
      " 9   Price_DJ                 4380 non-null   float64\n",
      " 10  Price_US_Bond            4380 non-null   float64\n",
      " 11  I_Percentage_diff_ACPI   4380 non-null   float64\n",
      " 12  M_Percentage_diff_MCPI   4380 non-null   float64\n",
      " 13  FEDfunds                 4380 non-null   float64\n",
      " 14  Percentage_diff_USD_JPY  4380 non-null   float64\n",
      " 15  Trend                    4380 non-null   float64\n",
      " 16  Seasonality              4380 non-null   float64\n",
      " 17  Residuals                4380 non-null   float64\n",
      " 18  BTC_cycle                4380 non-null   float64\n",
      "dtypes: float64(19)\n",
      "memory usage: 684.4+ KB\n"
     ]
    }
   ],
   "source": [
    "BTC_US_2.info()"
   ]
  },
  {
   "cell_type": "markdown",
   "metadata": {},
   "source": [
    "# Modelado (SVM)"
   ]
  },
  {
   "cell_type": "markdown",
   "metadata": {},
   "source": [
    "**...Recordando que...**\n",
    "\n",
    "*Objetivo general del proyecto*\n",
    "\n",
    "I.\tDiseñar diversos modelos de machine learning capaces de predecir con cierto grado de previsibilidad positiva (>50/55%) el dinamismo del precio de Bitcoin en el corto plazo, es decir, si el precio de este criptoactivo subirá o bajará en la temporalidad estudiada (1 día).\n",
    "\n",
    "**...Recordando que...**\n",
    "\n",
    "*Objetivo específico del proyecto*\n",
    "\n",
    "III.\tDiseñar diversos modelos de machine learning capaces de predecir con cierto grado de previsibilidad positiva (>50/55%) y a corto plazo, el movimiento alcista o bajista del precio de BTC."
   ]
  },
  {
   "cell_type": "markdown",
   "metadata": {},
   "source": [
    "**Explicación**:\n",
    "\n",
    "En lo que sigue se procederá a realizar varios modelos supervisados de clasificación de tipo \"SVM\" luego de ejecutar un modelo PCA. \n",
    "\n",
    "Estos serán configurados con diversos hiperparámetros a fin de encontrar el resultado más óptimo para este data set.\n",
    "\n",
    "La variable target del modelo es la columna [Target] de BTC_US_2."
   ]
  },
  {
   "cell_type": "markdown",
   "metadata": {},
   "source": [
    "## Se genera un modelo PCA"
   ]
  },
  {
   "cell_type": "code",
   "execution_count": 21,
   "metadata": {},
   "outputs": [],
   "source": [
    "# Se genera la variable X (variables) e y (target)\n",
    "X = BTC_US_2.drop ('Target', axis=1)\n",
    "y = BTC_US_2 ['Target']"
   ]
  },
  {
   "cell_type": "code",
   "execution_count": 22,
   "metadata": {},
   "outputs": [],
   "source": [
    "# Se separa el data set en train y test\n",
    "X_train, X_test, y_train, y_test = train_test_split(X, y, test_size=0.2, random_state=0)"
   ]
  },
  {
   "cell_type": "code",
   "execution_count": 23,
   "metadata": {},
   "outputs": [],
   "source": [
    "# Se normalizan los datos para que PCA otorgue mejores resultados\n",
    "sc = StandardScaler()\n",
    "X_train = sc.fit_transform(X_train)\n",
    "X_test = sc.transform(X_test)"
   ]
  },
  {
   "cell_type": "code",
   "execution_count": 24,
   "metadata": {},
   "outputs": [],
   "source": [
    "# Se aplica PCA\n",
    "pca = PCA()\n",
    "X_train = pca.fit_transform(X_train)\n",
    "X_test = pca.transform(X_test)"
   ]
  },
  {
   "cell_type": "code",
   "execution_count": 25,
   "metadata": {},
   "outputs": [
    {
     "data": {
      "text/plain": [
       "array([4.69325227e-01, 9.94532083e-02, 7.82322351e-02, 7.40806233e-02,\n",
       "       5.67306244e-02, 5.50657483e-02, 5.24141379e-02, 4.86771374e-02,\n",
       "       2.66238496e-02, 1.56257338e-02, 1.39238490e-02, 9.26811119e-03,\n",
       "       3.91141377e-04, 9.33041814e-05, 4.71623358e-05, 4.04070761e-05,\n",
       "       7.49969809e-06, 1.80299724e-32])"
      ]
     },
     "execution_count": 25,
     "metadata": {},
     "output_type": "execute_result"
    }
   ],
   "source": [
    "# Se analiza la varianza de cada componente\n",
    "explained_variance = pca.explained_variance_ratio_\n",
    "explained_variance"
   ]
  },
  {
   "cell_type": "markdown",
   "metadata": {},
   "source": [
    "Observaciones:\n",
    "- Las primeras 11 variables expresan el 98% de la varianza de los datos."
   ]
  },
  {
   "cell_type": "code",
   "execution_count": 26,
   "metadata": {},
   "outputs": [],
   "source": [
    "# Se genera la variable X (variables) e y (target)\n",
    "X = BTC_US_2.drop ('Target', axis=1)\n",
    "y = BTC_US_2 ['Target']"
   ]
  },
  {
   "cell_type": "code",
   "execution_count": 27,
   "metadata": {},
   "outputs": [],
   "source": [
    "# Se separa el data set en train y test\n",
    "X_train, X_test, y_train, y_test = train_test_split(X, y, test_size=0.2, random_state=0)"
   ]
  },
  {
   "cell_type": "code",
   "execution_count": 28,
   "metadata": {},
   "outputs": [],
   "source": [
    "# Se normalizan los datos para que PCA otorgue mejores resultados\n",
    "sc = StandardScaler()\n",
    "X_train = sc.fit_transform(X_train)\n",
    "X_test = sc.transform(X_test)"
   ]
  },
  {
   "cell_type": "code",
   "execution_count": 30,
   "metadata": {},
   "outputs": [],
   "source": [
    "# Se genera un nuevo PCA con 10 componentes (las variables que recogen el 99 % de la varianza de los datos)\n",
    "pca = PCA(n_components=11)\n",
    "X_train = pca.fit_transform(X_train)\n",
    "X_test = pca.transform(X_test)"
   ]
  },
  {
   "cell_type": "code",
   "execution_count": 31,
   "metadata": {},
   "outputs": [],
   "source": [
    "# Se definen los parámetros de búsqueda\n",
    "param_grid= {'kernel': ['linear', 'rbf'],\n",
    "             'C': [0.1, 1, 10, 100, 1000],\n",
    "             'gamma': [1, 0.1, 0.01, 0.001, 0.0001]}\n",
    "\n",
    "grid_SVM = GridSearchCV(SVC(), param_grid, refit=True, verbose=3)"
   ]
  },
  {
   "cell_type": "code",
   "execution_count": 32,
   "metadata": {},
   "outputs": [
    {
     "name": "stdout",
     "output_type": "stream",
     "text": [
      "Fitting 5 folds for each of 50 candidates, totalling 250 fits\n",
      "[CV 1/5] END .....C=0.1, gamma=1, kernel=linear;, score=0.598 total time=   0.2s\n",
      "[CV 2/5] END .....C=0.1, gamma=1, kernel=linear;, score=0.599 total time=   0.2s\n",
      "[CV 3/5] END .....C=0.1, gamma=1, kernel=linear;, score=0.612 total time=   0.3s\n",
      "[CV 4/5] END .....C=0.1, gamma=1, kernel=linear;, score=0.579 total time=   0.3s\n",
      "[CV 5/5] END .....C=0.1, gamma=1, kernel=linear;, score=0.587 total time=   0.2s\n",
      "[CV 1/5] END ........C=0.1, gamma=1, kernel=rbf;, score=0.541 total time=   0.6s\n",
      "[CV 2/5] END ........C=0.1, gamma=1, kernel=rbf;, score=0.535 total time=   0.6s\n",
      "[CV 3/5] END ........C=0.1, gamma=1, kernel=rbf;, score=0.548 total time=   0.6s\n",
      "[CV 4/5] END ........C=0.1, gamma=1, kernel=rbf;, score=0.544 total time=   0.6s\n",
      "[CV 5/5] END ........C=0.1, gamma=1, kernel=rbf;, score=0.541 total time=   0.6s\n",
      "[CV 1/5] END ...C=0.1, gamma=0.1, kernel=linear;, score=0.598 total time=   0.3s\n",
      "[CV 2/5] END ...C=0.1, gamma=0.1, kernel=linear;, score=0.599 total time=   0.3s\n",
      "[CV 3/5] END ...C=0.1, gamma=0.1, kernel=linear;, score=0.612 total time=   0.3s\n",
      "[CV 4/5] END ...C=0.1, gamma=0.1, kernel=linear;, score=0.579 total time=   0.2s\n",
      "[CV 5/5] END ...C=0.1, gamma=0.1, kernel=linear;, score=0.587 total time=   0.2s\n",
      "[CV 1/5] END ......C=0.1, gamma=0.1, kernel=rbf;, score=0.612 total time=   0.6s\n",
      "[CV 2/5] END ......C=0.1, gamma=0.1, kernel=rbf;, score=0.613 total time=   0.6s\n",
      "[CV 3/5] END ......C=0.1, gamma=0.1, kernel=rbf;, score=0.619 total time=   0.6s\n",
      "[CV 4/5] END ......C=0.1, gamma=0.1, kernel=rbf;, score=0.602 total time=   0.6s\n",
      "[CV 5/5] END ......C=0.1, gamma=0.1, kernel=rbf;, score=0.613 total time=   0.6s\n",
      "[CV 1/5] END ..C=0.1, gamma=0.01, kernel=linear;, score=0.598 total time=   0.3s\n",
      "[CV 2/5] END ..C=0.1, gamma=0.01, kernel=linear;, score=0.599 total time=   0.3s\n",
      "[CV 3/5] END ..C=0.1, gamma=0.01, kernel=linear;, score=0.612 total time=   0.2s\n",
      "[CV 4/5] END ..C=0.1, gamma=0.01, kernel=linear;, score=0.579 total time=   0.3s\n",
      "[CV 5/5] END ..C=0.1, gamma=0.01, kernel=linear;, score=0.587 total time=   0.2s\n",
      "[CV 1/5] END .....C=0.1, gamma=0.01, kernel=rbf;, score=0.593 total time=   0.6s\n",
      "[CV 2/5] END .....C=0.1, gamma=0.01, kernel=rbf;, score=0.592 total time=   0.6s\n",
      "[CV 3/5] END .....C=0.1, gamma=0.01, kernel=rbf;, score=0.616 total time=   0.6s\n",
      "[CV 4/5] END .....C=0.1, gamma=0.01, kernel=rbf;, score=0.579 total time=   0.6s\n",
      "[CV 5/5] END .....C=0.1, gamma=0.01, kernel=rbf;, score=0.581 total time=   0.6s\n",
      "[CV 1/5] END .C=0.1, gamma=0.001, kernel=linear;, score=0.598 total time=   0.3s\n",
      "[CV 2/5] END .C=0.1, gamma=0.001, kernel=linear;, score=0.599 total time=   0.3s\n",
      "[CV 3/5] END .C=0.1, gamma=0.001, kernel=linear;, score=0.612 total time=   0.3s\n",
      "[CV 4/5] END .C=0.1, gamma=0.001, kernel=linear;, score=0.579 total time=   0.2s\n",
      "[CV 5/5] END .C=0.1, gamma=0.001, kernel=linear;, score=0.587 total time=   0.2s\n",
      "[CV 1/5] END ....C=0.1, gamma=0.001, kernel=rbf;, score=0.534 total time=   0.6s\n",
      "[CV 2/5] END ....C=0.1, gamma=0.001, kernel=rbf;, score=0.531 total time=   0.6s\n",
      "[CV 3/5] END ....C=0.1, gamma=0.001, kernel=rbf;, score=0.531 total time=   0.6s\n",
      "[CV 4/5] END ....C=0.1, gamma=0.001, kernel=rbf;, score=0.532 total time=   0.6s\n",
      "[CV 5/5] END ....C=0.1, gamma=0.001, kernel=rbf;, score=0.534 total time=   0.6s\n",
      "[CV 1/5] END C=0.1, gamma=0.0001, kernel=linear;, score=0.598 total time=   0.3s\n",
      "[CV 2/5] END C=0.1, gamma=0.0001, kernel=linear;, score=0.599 total time=   0.2s\n",
      "[CV 3/5] END C=0.1, gamma=0.0001, kernel=linear;, score=0.612 total time=   0.2s\n",
      "[CV 4/5] END C=0.1, gamma=0.0001, kernel=linear;, score=0.579 total time=   0.3s\n",
      "[CV 5/5] END C=0.1, gamma=0.0001, kernel=linear;, score=0.587 total time=   0.2s\n",
      "[CV 1/5] END ...C=0.1, gamma=0.0001, kernel=rbf;, score=0.524 total time=   0.6s\n",
      "[CV 2/5] END ...C=0.1, gamma=0.0001, kernel=rbf;, score=0.524 total time=   0.6s\n",
      "[CV 3/5] END ...C=0.1, gamma=0.0001, kernel=rbf;, score=0.525 total time=   0.6s\n",
      "[CV 4/5] END ...C=0.1, gamma=0.0001, kernel=rbf;, score=0.525 total time=   0.6s\n",
      "[CV 5/5] END ...C=0.1, gamma=0.0001, kernel=rbf;, score=0.524 total time=   0.6s\n",
      "[CV 1/5] END .......C=1, gamma=1, kernel=linear;, score=0.601 total time=   0.4s\n",
      "[CV 2/5] END .......C=1, gamma=1, kernel=linear;, score=0.598 total time=   0.4s\n",
      "[CV 3/5] END .......C=1, gamma=1, kernel=linear;, score=0.609 total time=   0.4s\n",
      "[CV 4/5] END .......C=1, gamma=1, kernel=linear;, score=0.581 total time=   0.4s\n",
      "[CV 5/5] END .......C=1, gamma=1, kernel=linear;, score=0.589 total time=   0.4s\n",
      "[CV 1/5] END ..........C=1, gamma=1, kernel=rbf;, score=0.631 total time=   0.6s\n",
      "[CV 2/5] END ..........C=1, gamma=1, kernel=rbf;, score=0.599 total time=   0.6s\n",
      "[CV 3/5] END ..........C=1, gamma=1, kernel=rbf;, score=0.606 total time=   0.6s\n",
      "[CV 4/5] END ..........C=1, gamma=1, kernel=rbf;, score=0.612 total time=   0.6s\n",
      "[CV 5/5] END ..........C=1, gamma=1, kernel=rbf;, score=0.583 total time=   0.6s\n",
      "[CV 1/5] END .....C=1, gamma=0.1, kernel=linear;, score=0.601 total time=   0.4s\n",
      "[CV 2/5] END .....C=1, gamma=0.1, kernel=linear;, score=0.598 total time=   0.4s\n",
      "[CV 3/5] END .....C=1, gamma=0.1, kernel=linear;, score=0.609 total time=   0.4s\n",
      "[CV 4/5] END .....C=1, gamma=0.1, kernel=linear;, score=0.581 total time=   0.4s\n",
      "[CV 5/5] END .....C=1, gamma=0.1, kernel=linear;, score=0.589 total time=   0.4s\n",
      "[CV 1/5] END ........C=1, gamma=0.1, kernel=rbf;, score=0.633 total time=   0.5s\n",
      "[CV 2/5] END ........C=1, gamma=0.1, kernel=rbf;, score=0.618 total time=   0.5s\n",
      "[CV 3/5] END ........C=1, gamma=0.1, kernel=rbf;, score=0.633 total time=   0.5s\n",
      "[CV 4/5] END ........C=1, gamma=0.1, kernel=rbf;, score=0.616 total time=   0.5s\n",
      "[CV 5/5] END ........C=1, gamma=0.1, kernel=rbf;, score=0.634 total time=   0.5s\n",
      "[CV 1/5] END ....C=1, gamma=0.01, kernel=linear;, score=0.601 total time=   0.4s\n",
      "[CV 2/5] END ....C=1, gamma=0.01, kernel=linear;, score=0.598 total time=   0.4s\n",
      "[CV 3/5] END ....C=1, gamma=0.01, kernel=linear;, score=0.609 total time=   0.4s\n",
      "[CV 4/5] END ....C=1, gamma=0.01, kernel=linear;, score=0.581 total time=   0.4s\n",
      "[CV 5/5] END ....C=1, gamma=0.01, kernel=linear;, score=0.589 total time=   0.4s\n",
      "[CV 1/5] END .......C=1, gamma=0.01, kernel=rbf;, score=0.601 total time=   0.5s\n",
      "[CV 2/5] END .......C=1, gamma=0.01, kernel=rbf;, score=0.602 total time=   0.6s\n",
      "[CV 3/5] END .......C=1, gamma=0.01, kernel=rbf;, score=0.641 total time=   0.6s\n",
      "[CV 4/5] END .......C=1, gamma=0.01, kernel=rbf;, score=0.596 total time=   0.6s\n",
      "[CV 5/5] END .......C=1, gamma=0.01, kernel=rbf;, score=0.603 total time=   0.5s\n",
      "[CV 1/5] END ...C=1, gamma=0.001, kernel=linear;, score=0.601 total time=   0.4s\n",
      "[CV 2/5] END ...C=1, gamma=0.001, kernel=linear;, score=0.598 total time=   0.4s\n",
      "[CV 3/5] END ...C=1, gamma=0.001, kernel=linear;, score=0.609 total time=   0.4s\n",
      "[CV 4/5] END ...C=1, gamma=0.001, kernel=linear;, score=0.581 total time=   0.4s\n",
      "[CV 5/5] END ...C=1, gamma=0.001, kernel=linear;, score=0.589 total time=   0.4s\n",
      "[CV 1/5] END ......C=1, gamma=0.001, kernel=rbf;, score=0.598 total time=   0.6s\n",
      "[CV 2/5] END ......C=1, gamma=0.001, kernel=rbf;, score=0.588 total time=   0.6s\n",
      "[CV 3/5] END ......C=1, gamma=0.001, kernel=rbf;, score=0.619 total time=   0.6s\n",
      "[CV 4/5] END ......C=1, gamma=0.001, kernel=rbf;, score=0.581 total time=   0.6s\n",
      "[CV 5/5] END ......C=1, gamma=0.001, kernel=rbf;, score=0.574 total time=   0.5s\n",
      "[CV 1/5] END ..C=1, gamma=0.0001, kernel=linear;, score=0.601 total time=   0.4s\n",
      "[CV 2/5] END ..C=1, gamma=0.0001, kernel=linear;, score=0.598 total time=   0.4s\n",
      "[CV 3/5] END ..C=1, gamma=0.0001, kernel=linear;, score=0.609 total time=   0.4s\n",
      "[CV 4/5] END ..C=1, gamma=0.0001, kernel=linear;, score=0.581 total time=   0.4s\n",
      "[CV 5/5] END ..C=1, gamma=0.0001, kernel=linear;, score=0.589 total time=   0.4s\n",
      "[CV 1/5] END .....C=1, gamma=0.0001, kernel=rbf;, score=0.534 total time=   0.6s\n",
      "[CV 2/5] END .....C=1, gamma=0.0001, kernel=rbf;, score=0.532 total time=   0.6s\n",
      "[CV 3/5] END .....C=1, gamma=0.0001, kernel=rbf;, score=0.534 total time=   0.7s\n",
      "[CV 4/5] END .....C=1, gamma=0.0001, kernel=rbf;, score=0.532 total time=   0.7s\n",
      "[CV 5/5] END .....C=1, gamma=0.0001, kernel=rbf;, score=0.536 total time=   0.6s\n",
      "[CV 1/5] END ......C=10, gamma=1, kernel=linear;, score=0.601 total time=   1.1s\n",
      "[CV 2/5] END ......C=10, gamma=1, kernel=linear;, score=0.598 total time=   1.2s\n",
      "[CV 3/5] END ......C=10, gamma=1, kernel=linear;, score=0.611 total time=   1.2s\n",
      "[CV 4/5] END ......C=10, gamma=1, kernel=linear;, score=0.581 total time=   1.1s\n",
      "[CV 5/5] END ......C=10, gamma=1, kernel=linear;, score=0.589 total time=   1.2s\n",
      "[CV 1/5] END .........C=10, gamma=1, kernel=rbf;, score=0.618 total time=   0.7s\n",
      "[CV 2/5] END .........C=10, gamma=1, kernel=rbf;, score=0.612 total time=   0.7s\n",
      "[CV 3/5] END .........C=10, gamma=1, kernel=rbf;, score=0.573 total time=   0.7s\n",
      "[CV 4/5] END .........C=10, gamma=1, kernel=rbf;, score=0.608 total time=   0.7s\n",
      "[CV 5/5] END .........C=10, gamma=1, kernel=rbf;, score=0.570 total time=   0.7s\n",
      "[CV 1/5] END ....C=10, gamma=0.1, kernel=linear;, score=0.601 total time=   1.1s\n",
      "[CV 2/5] END ....C=10, gamma=0.1, kernel=linear;, score=0.598 total time=   1.1s\n",
      "[CV 3/5] END ....C=10, gamma=0.1, kernel=linear;, score=0.611 total time=   1.2s\n",
      "[CV 4/5] END ....C=10, gamma=0.1, kernel=linear;, score=0.581 total time=   1.1s\n",
      "[CV 5/5] END ....C=10, gamma=0.1, kernel=linear;, score=0.589 total time=   1.2s\n",
      "[CV 1/5] END .......C=10, gamma=0.1, kernel=rbf;, score=0.633 total time=   0.5s\n",
      "[CV 2/5] END .......C=10, gamma=0.1, kernel=rbf;, score=0.626 total time=   0.5s\n",
      "[CV 3/5] END .......C=10, gamma=0.1, kernel=rbf;, score=0.636 total time=   0.6s\n",
      "[CV 4/5] END .......C=10, gamma=0.1, kernel=rbf;, score=0.642 total time=   0.6s\n",
      "[CV 5/5] END .......C=10, gamma=0.1, kernel=rbf;, score=0.637 total time=   0.5s\n",
      "[CV 1/5] END ...C=10, gamma=0.01, kernel=linear;, score=0.601 total time=   1.1s\n",
      "[CV 2/5] END ...C=10, gamma=0.01, kernel=linear;, score=0.598 total time=   1.1s\n",
      "[CV 3/5] END ...C=10, gamma=0.01, kernel=linear;, score=0.611 total time=   1.1s\n",
      "[CV 4/5] END ...C=10, gamma=0.01, kernel=linear;, score=0.581 total time=   1.1s\n",
      "[CV 5/5] END ...C=10, gamma=0.01, kernel=linear;, score=0.589 total time=   1.2s\n",
      "[CV 1/5] END ......C=10, gamma=0.01, kernel=rbf;, score=0.643 total time=   0.5s\n",
      "[CV 2/5] END ......C=10, gamma=0.01, kernel=rbf;, score=0.626 total time=   0.5s\n",
      "[CV 3/5] END ......C=10, gamma=0.01, kernel=rbf;, score=0.656 total time=   0.5s\n",
      "[CV 4/5] END ......C=10, gamma=0.01, kernel=rbf;, score=0.632 total time=   0.5s\n",
      "[CV 5/5] END ......C=10, gamma=0.01, kernel=rbf;, score=0.627 total time=   0.5s\n",
      "[CV 1/5] END ..C=10, gamma=0.001, kernel=linear;, score=0.601 total time=   1.2s\n",
      "[CV 2/5] END ..C=10, gamma=0.001, kernel=linear;, score=0.598 total time=   1.4s\n",
      "[CV 3/5] END ..C=10, gamma=0.001, kernel=linear;, score=0.611 total time=   1.2s\n",
      "[CV 4/5] END ..C=10, gamma=0.001, kernel=linear;, score=0.581 total time=   1.2s\n",
      "[CV 5/5] END ..C=10, gamma=0.001, kernel=linear;, score=0.589 total time=   1.2s\n",
      "[CV 1/5] END .....C=10, gamma=0.001, kernel=rbf;, score=0.596 total time=   0.5s\n",
      "[CV 2/5] END .....C=10, gamma=0.001, kernel=rbf;, score=0.595 total time=   0.5s\n",
      "[CV 3/5] END .....C=10, gamma=0.001, kernel=rbf;, score=0.621 total time=   0.5s\n",
      "[CV 4/5] END .....C=10, gamma=0.001, kernel=rbf;, score=0.579 total time=   0.5s\n",
      "[CV 5/5] END .....C=10, gamma=0.001, kernel=rbf;, score=0.593 total time=   0.5s\n",
      "[CV 1/5] END .C=10, gamma=0.0001, kernel=linear;, score=0.601 total time=   1.1s\n",
      "[CV 2/5] END .C=10, gamma=0.0001, kernel=linear;, score=0.598 total time=   1.1s\n",
      "[CV 3/5] END .C=10, gamma=0.0001, kernel=linear;, score=0.611 total time=   1.2s\n",
      "[CV 4/5] END .C=10, gamma=0.0001, kernel=linear;, score=0.581 total time=   1.1s\n",
      "[CV 5/5] END .C=10, gamma=0.0001, kernel=linear;, score=0.589 total time=   1.2s\n",
      "[CV 1/5] END ....C=10, gamma=0.0001, kernel=rbf;, score=0.593 total time=   0.6s\n",
      "[CV 2/5] END ....C=10, gamma=0.0001, kernel=rbf;, score=0.586 total time=   0.5s\n",
      "[CV 3/5] END ....C=10, gamma=0.0001, kernel=rbf;, score=0.619 total time=   0.5s\n",
      "[CV 4/5] END ....C=10, gamma=0.0001, kernel=rbf;, score=0.585 total time=   0.6s\n",
      "[CV 5/5] END ....C=10, gamma=0.0001, kernel=rbf;, score=0.576 total time=   0.6s\n",
      "[CV 1/5] END .....C=100, gamma=1, kernel=linear;, score=0.601 total time=   6.7s\n",
      "[CV 2/5] END .....C=100, gamma=1, kernel=linear;, score=0.598 total time=   6.8s\n",
      "[CV 3/5] END .....C=100, gamma=1, kernel=linear;, score=0.612 total time=   6.6s\n",
      "[CV 4/5] END .....C=100, gamma=1, kernel=linear;, score=0.581 total time=   6.4s\n",
      "[CV 5/5] END .....C=100, gamma=1, kernel=linear;, score=0.589 total time=   6.4s\n",
      "[CV 1/5] END ........C=100, gamma=1, kernel=rbf;, score=0.622 total time=   1.0s\n",
      "[CV 2/5] END ........C=100, gamma=1, kernel=rbf;, score=0.588 total time=   0.9s\n",
      "[CV 3/5] END ........C=100, gamma=1, kernel=rbf;, score=0.566 total time=   0.9s\n",
      "[CV 4/5] END ........C=100, gamma=1, kernel=rbf;, score=0.582 total time=   0.9s\n",
      "[CV 5/5] END ........C=100, gamma=1, kernel=rbf;, score=0.579 total time=   0.9s\n",
      "[CV 1/5] END ...C=100, gamma=0.1, kernel=linear;, score=0.601 total time=   6.5s\n",
      "[CV 2/5] END ...C=100, gamma=0.1, kernel=linear;, score=0.598 total time=   6.7s\n",
      "[CV 3/5] END ...C=100, gamma=0.1, kernel=linear;, score=0.612 total time=   6.3s\n",
      "[CV 4/5] END ...C=100, gamma=0.1, kernel=linear;, score=0.581 total time=   6.4s\n",
      "[CV 5/5] END ...C=100, gamma=0.1, kernel=linear;, score=0.589 total time=   6.5s\n",
      "[CV 1/5] END ......C=100, gamma=0.1, kernel=rbf;, score=0.652 total time=   1.0s\n",
      "[CV 2/5] END ......C=100, gamma=0.1, kernel=rbf;, score=0.650 total time=   0.9s\n",
      "[CV 3/5] END ......C=100, gamma=0.1, kernel=rbf;, score=0.665 total time=   1.0s\n",
      "[CV 4/5] END ......C=100, gamma=0.1, kernel=rbf;, score=0.652 total time=   0.9s\n",
      "[CV 5/5] END ......C=100, gamma=0.1, kernel=rbf;, score=0.650 total time=   1.0s\n",
      "[CV 1/5] END ..C=100, gamma=0.01, kernel=linear;, score=0.601 total time=   6.6s\n",
      "[CV 2/5] END ..C=100, gamma=0.01, kernel=linear;, score=0.598 total time=   6.7s\n",
      "[CV 3/5] END ..C=100, gamma=0.01, kernel=linear;, score=0.612 total time=   6.4s\n",
      "[CV 4/5] END ..C=100, gamma=0.01, kernel=linear;, score=0.581 total time=   6.4s\n",
      "[CV 5/5] END ..C=100, gamma=0.01, kernel=linear;, score=0.589 total time=   6.3s\n",
      "[CV 1/5] END .....C=100, gamma=0.01, kernel=rbf;, score=0.641 total time=   0.6s\n",
      "[CV 2/5] END .....C=100, gamma=0.01, kernel=rbf;, score=0.642 total time=   0.6s\n",
      "[CV 3/5] END .....C=100, gamma=0.01, kernel=rbf;, score=0.639 total time=   0.6s\n",
      "[CV 4/5] END .....C=100, gamma=0.01, kernel=rbf;, score=0.642 total time=   0.6s\n",
      "[CV 5/5] END .....C=100, gamma=0.01, kernel=rbf;, score=0.653 total time=   0.6s\n",
      "[CV 1/5] END .C=100, gamma=0.001, kernel=linear;, score=0.601 total time=   6.5s\n",
      "[CV 2/5] END .C=100, gamma=0.001, kernel=linear;, score=0.598 total time=   6.7s\n",
      "[CV 3/5] END .C=100, gamma=0.001, kernel=linear;, score=0.612 total time=   6.3s\n",
      "[CV 4/5] END .C=100, gamma=0.001, kernel=linear;, score=0.581 total time=   6.7s\n",
      "[CV 5/5] END .C=100, gamma=0.001, kernel=linear;, score=0.589 total time=   6.3s\n",
      "[CV 1/5] END ....C=100, gamma=0.001, kernel=rbf;, score=0.619 total time=   0.5s\n",
      "[CV 2/5] END ....C=100, gamma=0.001, kernel=rbf;, score=0.606 total time=   0.6s\n",
      "[CV 3/5] END ....C=100, gamma=0.001, kernel=rbf;, score=0.631 total time=   0.5s\n",
      "[CV 4/5] END ....C=100, gamma=0.001, kernel=rbf;, score=0.606 total time=   0.5s\n",
      "[CV 5/5] END ....C=100, gamma=0.001, kernel=rbf;, score=0.604 total time=   0.5s\n",
      "[CV 1/5] END C=100, gamma=0.0001, kernel=linear;, score=0.601 total time=   6.6s\n",
      "[CV 2/5] END C=100, gamma=0.0001, kernel=linear;, score=0.598 total time=   6.7s\n",
      "[CV 3/5] END C=100, gamma=0.0001, kernel=linear;, score=0.612 total time=   6.3s\n",
      "[CV 4/5] END C=100, gamma=0.0001, kernel=linear;, score=0.581 total time=   6.4s\n",
      "[CV 5/5] END C=100, gamma=0.0001, kernel=linear;, score=0.589 total time=   6.4s\n",
      "[CV 1/5] END ...C=100, gamma=0.0001, kernel=rbf;, score=0.591 total time=   0.5s\n",
      "[CV 2/5] END ...C=100, gamma=0.0001, kernel=rbf;, score=0.595 total time=   0.5s\n",
      "[CV 3/5] END ...C=100, gamma=0.0001, kernel=rbf;, score=0.608 total time=   0.5s\n",
      "[CV 4/5] END ...C=100, gamma=0.0001, kernel=rbf;, score=0.581 total time=   0.6s\n",
      "[CV 5/5] END ...C=100, gamma=0.0001, kernel=rbf;, score=0.584 total time=   0.5s\n",
      "[CV 1/5] END ....C=1000, gamma=1, kernel=linear;, score=0.602 total time=  49.7s\n",
      "[CV 2/5] END ....C=1000, gamma=1, kernel=linear;, score=0.598 total time=  49.8s\n",
      "[CV 3/5] END ....C=1000, gamma=1, kernel=linear;, score=0.611 total time=  52.0s\n",
      "[CV 4/5] END ....C=1000, gamma=1, kernel=linear;, score=0.581 total time=  49.4s\n",
      "[CV 5/5] END ....C=1000, gamma=1, kernel=linear;, score=0.589 total time=  49.8s\n",
      "[CV 1/5] END .......C=1000, gamma=1, kernel=rbf;, score=0.603 total time=   1.2s\n",
      "[CV 2/5] END .......C=1000, gamma=1, kernel=rbf;, score=0.586 total time=   1.1s\n",
      "[CV 3/5] END .......C=1000, gamma=1, kernel=rbf;, score=0.591 total time=   1.1s\n",
      "[CV 4/5] END .......C=1000, gamma=1, kernel=rbf;, score=0.583 total time=   1.2s\n",
      "[CV 5/5] END .......C=1000, gamma=1, kernel=rbf;, score=0.577 total time=   1.0s\n",
      "[CV 1/5] END ..C=1000, gamma=0.1, kernel=linear;, score=0.602 total time=  49.9s\n",
      "[CV 2/5] END ..C=1000, gamma=0.1, kernel=linear;, score=0.598 total time=  49.4s\n",
      "[CV 3/5] END ..C=1000, gamma=0.1, kernel=linear;, score=0.611 total time=  53.6s\n",
      "[CV 4/5] END ..C=1000, gamma=0.1, kernel=linear;, score=0.581 total time=  52.3s\n",
      "[CV 5/5] END ..C=1000, gamma=0.1, kernel=linear;, score=0.589 total time=  49.7s\n",
      "[CV 1/5] END .....C=1000, gamma=0.1, kernel=rbf;, score=0.662 total time=   4.9s\n",
      "[CV 2/5] END .....C=1000, gamma=0.1, kernel=rbf;, score=0.662 total time=   4.5s\n",
      "[CV 3/5] END .....C=1000, gamma=0.1, kernel=rbf;, score=0.669 total time=   5.2s\n",
      "[CV 4/5] END .....C=1000, gamma=0.1, kernel=rbf;, score=0.639 total time=   4.4s\n",
      "[CV 5/5] END .....C=1000, gamma=0.1, kernel=rbf;, score=0.634 total time=   4.4s\n",
      "[CV 1/5] END .C=1000, gamma=0.01, kernel=linear;, score=0.602 total time=  53.2s\n",
      "[CV 2/5] END .C=1000, gamma=0.01, kernel=linear;, score=0.598 total time=  50.8s\n",
      "[CV 3/5] END .C=1000, gamma=0.01, kernel=linear;, score=0.611 total time=  54.1s\n",
      "[CV 4/5] END .C=1000, gamma=0.01, kernel=linear;, score=0.581 total time=  50.8s\n",
      "[CV 5/5] END .C=1000, gamma=0.01, kernel=linear;, score=0.589 total time=  50.0s\n",
      "[CV 1/5] END ....C=1000, gamma=0.01, kernel=rbf;, score=0.659 total time=   1.4s\n",
      "[CV 2/5] END ....C=1000, gamma=0.01, kernel=rbf;, score=0.648 total time=   1.2s\n",
      "[CV 3/5] END ....C=1000, gamma=0.01, kernel=rbf;, score=0.646 total time=   1.6s\n",
      "[CV 4/5] END ....C=1000, gamma=0.01, kernel=rbf;, score=0.641 total time=   1.3s\n",
      "[CV 5/5] END ....C=1000, gamma=0.01, kernel=rbf;, score=0.659 total time=   1.3s\n",
      "[CV 1/5] END C=1000, gamma=0.001, kernel=linear;, score=0.602 total time=  49.7s\n",
      "[CV 2/5] END C=1000, gamma=0.001, kernel=linear;, score=0.598 total time=  49.4s\n",
      "[CV 3/5] END C=1000, gamma=0.001, kernel=linear;, score=0.611 total time=  51.5s\n",
      "[CV 4/5] END C=1000, gamma=0.001, kernel=linear;, score=0.581 total time=  49.9s\n",
      "[CV 5/5] END C=1000, gamma=0.001, kernel=linear;, score=0.589 total time=  56.7s\n",
      "[CV 1/5] END ...C=1000, gamma=0.001, kernel=rbf;, score=0.649 total time=   1.2s\n",
      "[CV 2/5] END ...C=1000, gamma=0.001, kernel=rbf;, score=0.626 total time=   1.2s\n",
      "[CV 3/5] END ...C=1000, gamma=0.001, kernel=rbf;, score=0.649 total time=   0.9s\n",
      "[CV 4/5] END ...C=1000, gamma=0.001, kernel=rbf;, score=0.643 total time=   0.7s\n",
      "[CV 5/5] END ...C=1000, gamma=0.001, kernel=rbf;, score=0.630 total time=   0.8s\n",
      "[CV 1/5] END C=1000, gamma=0.0001, kernel=linear;, score=0.602 total time=  54.9s\n",
      "[CV 2/5] END C=1000, gamma=0.0001, kernel=linear;, score=0.598 total time=  51.1s\n",
      "[CV 3/5] END C=1000, gamma=0.0001, kernel=linear;, score=0.611 total time=  53.4s\n",
      "[CV 4/5] END C=1000, gamma=0.0001, kernel=linear;, score=0.581 total time=  51.2s\n",
      "[CV 5/5] END C=1000, gamma=0.0001, kernel=linear;, score=0.589 total time=  53.2s\n",
      "[CV 1/5] END ..C=1000, gamma=0.0001, kernel=rbf;, score=0.603 total time=   0.6s\n",
      "[CV 2/5] END ..C=1000, gamma=0.0001, kernel=rbf;, score=0.598 total time=   0.6s\n",
      "[CV 3/5] END ..C=1000, gamma=0.0001, kernel=rbf;, score=0.618 total time=   0.6s\n",
      "[CV 4/5] END ..C=1000, gamma=0.0001, kernel=rbf;, score=0.582 total time=   0.6s\n",
      "[CV 5/5] END ..C=1000, gamma=0.0001, kernel=rbf;, score=0.597 total time=   0.6s\n"
     ]
    },
    {
     "data": {
      "text/html": [
       "<style>#sk-container-id-1 {color: black;background-color: white;}#sk-container-id-1 pre{padding: 0;}#sk-container-id-1 div.sk-toggleable {background-color: white;}#sk-container-id-1 label.sk-toggleable__label {cursor: pointer;display: block;width: 100%;margin-bottom: 0;padding: 0.3em;box-sizing: border-box;text-align: center;}#sk-container-id-1 label.sk-toggleable__label-arrow:before {content: \"▸\";float: left;margin-right: 0.25em;color: #696969;}#sk-container-id-1 label.sk-toggleable__label-arrow:hover:before {color: black;}#sk-container-id-1 div.sk-estimator:hover label.sk-toggleable__label-arrow:before {color: black;}#sk-container-id-1 div.sk-toggleable__content {max-height: 0;max-width: 0;overflow: hidden;text-align: left;background-color: #f0f8ff;}#sk-container-id-1 div.sk-toggleable__content pre {margin: 0.2em;color: black;border-radius: 0.25em;background-color: #f0f8ff;}#sk-container-id-1 input.sk-toggleable__control:checked~div.sk-toggleable__content {max-height: 200px;max-width: 100%;overflow: auto;}#sk-container-id-1 input.sk-toggleable__control:checked~label.sk-toggleable__label-arrow:before {content: \"▾\";}#sk-container-id-1 div.sk-estimator input.sk-toggleable__control:checked~label.sk-toggleable__label {background-color: #d4ebff;}#sk-container-id-1 div.sk-label input.sk-toggleable__control:checked~label.sk-toggleable__label {background-color: #d4ebff;}#sk-container-id-1 input.sk-hidden--visually {border: 0;clip: rect(1px 1px 1px 1px);clip: rect(1px, 1px, 1px, 1px);height: 1px;margin: -1px;overflow: hidden;padding: 0;position: absolute;width: 1px;}#sk-container-id-1 div.sk-estimator {font-family: monospace;background-color: #f0f8ff;border: 1px dotted black;border-radius: 0.25em;box-sizing: border-box;margin-bottom: 0.5em;}#sk-container-id-1 div.sk-estimator:hover {background-color: #d4ebff;}#sk-container-id-1 div.sk-parallel-item::after {content: \"\";width: 100%;border-bottom: 1px solid gray;flex-grow: 1;}#sk-container-id-1 div.sk-label:hover label.sk-toggleable__label {background-color: #d4ebff;}#sk-container-id-1 div.sk-serial::before {content: \"\";position: absolute;border-left: 1px solid gray;box-sizing: border-box;top: 0;bottom: 0;left: 50%;z-index: 0;}#sk-container-id-1 div.sk-serial {display: flex;flex-direction: column;align-items: center;background-color: white;padding-right: 0.2em;padding-left: 0.2em;position: relative;}#sk-container-id-1 div.sk-item {position: relative;z-index: 1;}#sk-container-id-1 div.sk-parallel {display: flex;align-items: stretch;justify-content: center;background-color: white;position: relative;}#sk-container-id-1 div.sk-item::before, #sk-container-id-1 div.sk-parallel-item::before {content: \"\";position: absolute;border-left: 1px solid gray;box-sizing: border-box;top: 0;bottom: 0;left: 50%;z-index: -1;}#sk-container-id-1 div.sk-parallel-item {display: flex;flex-direction: column;z-index: 1;position: relative;background-color: white;}#sk-container-id-1 div.sk-parallel-item:first-child::after {align-self: flex-end;width: 50%;}#sk-container-id-1 div.sk-parallel-item:last-child::after {align-self: flex-start;width: 50%;}#sk-container-id-1 div.sk-parallel-item:only-child::after {width: 0;}#sk-container-id-1 div.sk-dashed-wrapped {border: 1px dashed gray;margin: 0 0.4em 0.5em 0.4em;box-sizing: border-box;padding-bottom: 0.4em;background-color: white;}#sk-container-id-1 div.sk-label label {font-family: monospace;font-weight: bold;display: inline-block;line-height: 1.2em;}#sk-container-id-1 div.sk-label-container {text-align: center;}#sk-container-id-1 div.sk-container {/* jupyter's `normalize.less` sets `[hidden] { display: none; }` but bootstrap.min.css set `[hidden] { display: none !important; }` so we also need the `!important` here to be able to override the default hidden behavior on the sphinx rendered scikit-learn.org. See: https://github.com/scikit-learn/scikit-learn/issues/21755 */display: inline-block !important;position: relative;}#sk-container-id-1 div.sk-text-repr-fallback {display: none;}</style><div id=\"sk-container-id-1\" class=\"sk-top-container\"><div class=\"sk-text-repr-fallback\"><pre>GridSearchCV(estimator=SVC(),\n",
       "             param_grid={&#x27;C&#x27;: [0.1, 1, 10, 100, 1000],\n",
       "                         &#x27;gamma&#x27;: [1, 0.1, 0.01, 0.001, 0.0001],\n",
       "                         &#x27;kernel&#x27;: [&#x27;linear&#x27;, &#x27;rbf&#x27;]},\n",
       "             verbose=3)</pre><b>In a Jupyter environment, please rerun this cell to show the HTML representation or trust the notebook. <br />On GitHub, the HTML representation is unable to render, please try loading this page with nbviewer.org.</b></div><div class=\"sk-container\" hidden><div class=\"sk-item sk-dashed-wrapped\"><div class=\"sk-label-container\"><div class=\"sk-label sk-toggleable\"><input class=\"sk-toggleable__control sk-hidden--visually\" id=\"sk-estimator-id-1\" type=\"checkbox\" ><label for=\"sk-estimator-id-1\" class=\"sk-toggleable__label sk-toggleable__label-arrow\">GridSearchCV</label><div class=\"sk-toggleable__content\"><pre>GridSearchCV(estimator=SVC(),\n",
       "             param_grid={&#x27;C&#x27;: [0.1, 1, 10, 100, 1000],\n",
       "                         &#x27;gamma&#x27;: [1, 0.1, 0.01, 0.001, 0.0001],\n",
       "                         &#x27;kernel&#x27;: [&#x27;linear&#x27;, &#x27;rbf&#x27;]},\n",
       "             verbose=3)</pre></div></div></div><div class=\"sk-parallel\"><div class=\"sk-parallel-item\"><div class=\"sk-item\"><div class=\"sk-label-container\"><div class=\"sk-label sk-toggleable\"><input class=\"sk-toggleable__control sk-hidden--visually\" id=\"sk-estimator-id-2\" type=\"checkbox\" ><label for=\"sk-estimator-id-2\" class=\"sk-toggleable__label sk-toggleable__label-arrow\">estimator: SVC</label><div class=\"sk-toggleable__content\"><pre>SVC()</pre></div></div></div><div class=\"sk-serial\"><div class=\"sk-item\"><div class=\"sk-estimator sk-toggleable\"><input class=\"sk-toggleable__control sk-hidden--visually\" id=\"sk-estimator-id-3\" type=\"checkbox\" ><label for=\"sk-estimator-id-3\" class=\"sk-toggleable__label sk-toggleable__label-arrow\">SVC</label><div class=\"sk-toggleable__content\"><pre>SVC()</pre></div></div></div></div></div></div></div></div></div></div>"
      ],
      "text/plain": [
       "GridSearchCV(estimator=SVC(),\n",
       "             param_grid={'C': [0.1, 1, 10, 100, 1000],\n",
       "                         'gamma': [1, 0.1, 0.01, 0.001, 0.0001],\n",
       "                         'kernel': ['linear', 'rbf']},\n",
       "             verbose=3)"
      ]
     },
     "execution_count": 32,
     "metadata": {},
     "output_type": "execute_result"
    }
   ],
   "source": [
    "grid_SVM.fit(X_train, y_train)"
   ]
  },
  {
   "cell_type": "code",
   "execution_count": 33,
   "metadata": {},
   "outputs": [
    {
     "name": "stdout",
     "output_type": "stream",
     "text": [
      "{'C': 100, 'gamma': 0.1, 'kernel': 'rbf'}\n",
      "SVC(C=100, gamma=0.1)\n"
     ]
    }
   ],
   "source": [
    "# print best parameter after tuning\n",
    "print(grid_SVM.best_params_)\n",
    "  \n",
    "# print how our model looks after hyper-parameter tuning\n",
    "print(grid_SVM.best_estimator_)"
   ]
  },
  {
   "cell_type": "code",
   "execution_count": 40,
   "metadata": {},
   "outputs": [],
   "source": [
    "# Se crea el modelo SVM \n",
    "modelo = SVC(C = 100, kernel = 'rbf', gamma=0.1, random_state=0)"
   ]
  },
  {
   "cell_type": "code",
   "execution_count": 41,
   "metadata": {},
   "outputs": [
    {
     "data": {
      "text/html": [
       "<style>#sk-container-id-3 {color: black;background-color: white;}#sk-container-id-3 pre{padding: 0;}#sk-container-id-3 div.sk-toggleable {background-color: white;}#sk-container-id-3 label.sk-toggleable__label {cursor: pointer;display: block;width: 100%;margin-bottom: 0;padding: 0.3em;box-sizing: border-box;text-align: center;}#sk-container-id-3 label.sk-toggleable__label-arrow:before {content: \"▸\";float: left;margin-right: 0.25em;color: #696969;}#sk-container-id-3 label.sk-toggleable__label-arrow:hover:before {color: black;}#sk-container-id-3 div.sk-estimator:hover label.sk-toggleable__label-arrow:before {color: black;}#sk-container-id-3 div.sk-toggleable__content {max-height: 0;max-width: 0;overflow: hidden;text-align: left;background-color: #f0f8ff;}#sk-container-id-3 div.sk-toggleable__content pre {margin: 0.2em;color: black;border-radius: 0.25em;background-color: #f0f8ff;}#sk-container-id-3 input.sk-toggleable__control:checked~div.sk-toggleable__content {max-height: 200px;max-width: 100%;overflow: auto;}#sk-container-id-3 input.sk-toggleable__control:checked~label.sk-toggleable__label-arrow:before {content: \"▾\";}#sk-container-id-3 div.sk-estimator input.sk-toggleable__control:checked~label.sk-toggleable__label {background-color: #d4ebff;}#sk-container-id-3 div.sk-label input.sk-toggleable__control:checked~label.sk-toggleable__label {background-color: #d4ebff;}#sk-container-id-3 input.sk-hidden--visually {border: 0;clip: rect(1px 1px 1px 1px);clip: rect(1px, 1px, 1px, 1px);height: 1px;margin: -1px;overflow: hidden;padding: 0;position: absolute;width: 1px;}#sk-container-id-3 div.sk-estimator {font-family: monospace;background-color: #f0f8ff;border: 1px dotted black;border-radius: 0.25em;box-sizing: border-box;margin-bottom: 0.5em;}#sk-container-id-3 div.sk-estimator:hover {background-color: #d4ebff;}#sk-container-id-3 div.sk-parallel-item::after {content: \"\";width: 100%;border-bottom: 1px solid gray;flex-grow: 1;}#sk-container-id-3 div.sk-label:hover label.sk-toggleable__label {background-color: #d4ebff;}#sk-container-id-3 div.sk-serial::before {content: \"\";position: absolute;border-left: 1px solid gray;box-sizing: border-box;top: 0;bottom: 0;left: 50%;z-index: 0;}#sk-container-id-3 div.sk-serial {display: flex;flex-direction: column;align-items: center;background-color: white;padding-right: 0.2em;padding-left: 0.2em;position: relative;}#sk-container-id-3 div.sk-item {position: relative;z-index: 1;}#sk-container-id-3 div.sk-parallel {display: flex;align-items: stretch;justify-content: center;background-color: white;position: relative;}#sk-container-id-3 div.sk-item::before, #sk-container-id-3 div.sk-parallel-item::before {content: \"\";position: absolute;border-left: 1px solid gray;box-sizing: border-box;top: 0;bottom: 0;left: 50%;z-index: -1;}#sk-container-id-3 div.sk-parallel-item {display: flex;flex-direction: column;z-index: 1;position: relative;background-color: white;}#sk-container-id-3 div.sk-parallel-item:first-child::after {align-self: flex-end;width: 50%;}#sk-container-id-3 div.sk-parallel-item:last-child::after {align-self: flex-start;width: 50%;}#sk-container-id-3 div.sk-parallel-item:only-child::after {width: 0;}#sk-container-id-3 div.sk-dashed-wrapped {border: 1px dashed gray;margin: 0 0.4em 0.5em 0.4em;box-sizing: border-box;padding-bottom: 0.4em;background-color: white;}#sk-container-id-3 div.sk-label label {font-family: monospace;font-weight: bold;display: inline-block;line-height: 1.2em;}#sk-container-id-3 div.sk-label-container {text-align: center;}#sk-container-id-3 div.sk-container {/* jupyter's `normalize.less` sets `[hidden] { display: none; }` but bootstrap.min.css set `[hidden] { display: none !important; }` so we also need the `!important` here to be able to override the default hidden behavior on the sphinx rendered scikit-learn.org. See: https://github.com/scikit-learn/scikit-learn/issues/21755 */display: inline-block !important;position: relative;}#sk-container-id-3 div.sk-text-repr-fallback {display: none;}</style><div id=\"sk-container-id-3\" class=\"sk-top-container\"><div class=\"sk-text-repr-fallback\"><pre>SVC(C=100, gamma=0.1, random_state=0)</pre><b>In a Jupyter environment, please rerun this cell to show the HTML representation or trust the notebook. <br />On GitHub, the HTML representation is unable to render, please try loading this page with nbviewer.org.</b></div><div class=\"sk-container\" hidden><div class=\"sk-item\"><div class=\"sk-estimator sk-toggleable\"><input class=\"sk-toggleable__control sk-hidden--visually\" id=\"sk-estimator-id-5\" type=\"checkbox\" checked><label for=\"sk-estimator-id-5\" class=\"sk-toggleable__label sk-toggleable__label-arrow\">SVC</label><div class=\"sk-toggleable__content\"><pre>SVC(C=100, gamma=0.1, random_state=0)</pre></div></div></div></div></div>"
      ],
      "text/plain": [
       "SVC(C=100, gamma=0.1, random_state=0)"
      ]
     },
     "execution_count": 41,
     "metadata": {},
     "output_type": "execute_result"
    }
   ],
   "source": [
    "# Se entrena al modelo\n",
    "modelo.fit(X_train, y_train)"
   ]
  },
  {
   "cell_type": "code",
   "execution_count": 42,
   "metadata": {},
   "outputs": [],
   "source": [
    "# Se busca conocer las predicciones del modelo\n",
    "y_train_pred = modelo.predict(X_train)\n",
    "y_test_pred = modelo.predict(X_test)"
   ]
  },
  {
   "cell_type": "code",
   "execution_count": 43,
   "metadata": {},
   "outputs": [
    {
     "name": "stdout",
     "output_type": "stream",
     "text": [
      "% de aciertos sobre el set de evaluación para train: 0.8125\n",
      "% de aciertos sobre el set de evaluación para test: 0.6472602739726028\n"
     ]
    }
   ],
   "source": [
    "# Se calcula el accuracy en los datos de train\n",
    "train_accuracy = accuracy_score(y_train, y_train_pred)\n",
    "print('% de aciertos sobre el set de evaluación para train:', train_accuracy)\n",
    "\n",
    "# Se calcula el accuracy en los datos de test\n",
    "test_accuracy = accuracy_score(y_test, y_test_pred)\n",
    "print('% de aciertos sobre el set de evaluación para test:', test_accuracy)"
   ]
  },
  {
   "cell_type": "code",
   "execution_count": 44,
   "metadata": {},
   "outputs": [
    {
     "name": "stdout",
     "output_type": "stream",
     "text": [
      "[[286 137]\n",
      " [172 281]]\n"
     ]
    },
    {
     "data": {
      "image/png": "[encoded data removed]",
      "text/plain": [
       "<Figure size 432x288 with 2 Axes>"
      ]
     },
     "metadata": {},
     "output_type": "display_data"
    }
   ],
   "source": [
    "import matplotlib.pyplot as plt\n",
    "from sklearn.metrics import confusion_matrix\n",
    "from sklearn.metrics import plot_confusion_matrix\n",
    "\n",
    "# Predicciones\n",
    "predictions = modelo.predict(X_test)\n",
    "\n",
    "#Matriz de Confusión\n",
    "print(confusion_matrix(y_test, predictions))\n",
    "\n",
    "#Ploteamos la Matriz\n",
    "plot_confusion_matrix(modelo, X_test, y_test)\n",
    "plt.show()"
   ]
  },
  {
   "cell_type": "markdown",
   "metadata": {},
   "source": [
    "Observaciones:\n",
    "- El modelo presenta un balance entre la cantidad de verdaderos positivos y negativos que clasifica.\n",
    "- El modelo genera muchos casos de falsos positivos que negativos."
   ]
  },
  {
   "cell_type": "code",
   "execution_count": 45,
   "metadata": {},
   "outputs": [
    {
     "name": "stdout",
     "output_type": "stream",
     "text": [
      "Accuracy of the classifier is: 0.6472602739726028\n",
      "Precision Score of the classifier is: 0.6722488038277512\n",
      "Recall Score of the classifier is: 0.6203090507726269\n",
      "F1 Score of the classifier is: 0.6452353616532721\n"
     ]
    }
   ],
   "source": [
    "# Accuracy\n",
    "print(f\"Accuracy of the classifier is: {accuracy_score(y_test, predictions)}\")\n",
    "\n",
    "# Precision\n",
    "from sklearn.metrics import precision_score\n",
    "print(f\"Precision Score of the classifier is: {precision_score(y_test, predictions)}\")\n",
    "\n",
    "# Recall\n",
    "from sklearn.metrics import recall_score\n",
    "print(f\"Recall Score of the classifier is: {recall_score(y_test, predictions)}\")\n",
    "\n",
    "# Calculo del F1 score\n",
    "from sklearn.metrics import f1_score\n",
    "print(f\"F1 Score of the classifier is: {f1_score(y_test, predictions)}\")"
   ]
  },
  {
   "cell_type": "markdown",
   "metadata": {},
   "source": [
    "Observaciones:\n",
    "- El mejor modelo predice en un 64,7% de los casos si el precio de BTC sube o baja."
   ]
  }
 ],
 "metadata": {
  "kernelspec": {
   "display_name": "Python 3 (ipykernel)",
   "language": "python",
   "name": "python3"
  },
  "language_info": {
   "codemirror_mode": {
    "name": "ipython",
    "version": 3
   },
   "file_extension": ".py",
   "mimetype": "text/x-python",
   "name": "python",
   "nbconvert_exporter": "python",
   "pygments_lexer": "ipython3",
   "version": "3.9.12"
  }
 },
 "nbformat": 4,
 "nbformat_minor": 4
}
